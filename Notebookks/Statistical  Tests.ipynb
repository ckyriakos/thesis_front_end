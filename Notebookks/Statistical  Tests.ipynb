{
  "cells": [
    {
      "cell_type": "markdown",
      "id": "abe9c8f8",
      "metadata": {
        "id": "abe9c8f8"
      },
      "source": [
        "### Check the statistical significance of our data"
      ]
    },
    {
      "cell_type": "code",
      "execution_count": 10,
      "id": "8c2bf0ad",
      "metadata": {
        "id": "8c2bf0ad"
      },
      "outputs": [],
      "source": [
        "import pandas as pd\n",
        "import numpy as np\n",
        "import matplotlib.pyplot as plt\n",
        "from sklearn import tree\n",
        "import time\n",
        "from datetime import timedelta\n",
        "from scipy import stats"
      ]
    },
    {
      "cell_type": "code",
      "execution_count": 11,
      "metadata": {
        "id": "ad8a2f8f"
      },
      "outputs": [],
      "source": [
        "try:\n",
        "    import geemap, ee, wxee, eemont\n",
        "except ModuleNotFoundError:\n",
        "    if 'google.colab' in str(get_ipython()):\n",
        "        print(\"package not found, installing w/ pip in Google Colab...\")\n",
        "        !pip install geemap\n",
        "        !pip install wxee\n",
        "        !pip install eemont\n",
        "    else:\n",
        "        print(\"package not found, installing w/ conda...\")\n",
        "        !conda install mamba -c conda-forge -y\n",
        "        !conda install wxee -c conda-forge -y\n",
        "        !mamba install geemap -c conda-forge -y\n",
        "        !mamba install eemont -c conda-forge -y\n",
        "    import geemap, ee, wxee, eemont"
      ],
      "id": "ad8a2f8f"
    },
    {
      "cell_type": "code",
      "source": [
        "from google.colab import drive\n",
        "data=drive.mount('/content/gdrive/')"
      ],
      "metadata": {
        "id": "6xXTrj2gpfSh",
        "outputId": "29480b28-081e-4406-e0ce-64842c670531",
        "colab": {
          "base_uri": "https://localhost:8080/"
        }
      },
      "id": "6xXTrj2gpfSh",
      "execution_count": 12,
      "outputs": [
        {
          "output_type": "stream",
          "name": "stdout",
          "text": [
            "Drive already mounted at /content/gdrive/; to attempt to forcibly remount, call drive.mount(\"/content/gdrive/\", force_remount=True).\n"
          ]
        }
      ]
    },
    {
      "cell_type": "code",
      "execution_count": 13,
      "id": "fc8ad2db",
      "metadata": {
        "id": "fc8ad2db"
      },
      "outputs": [],
      "source": [
        "chicago_final= pd.read_csv('/content/gdrive/MyDrive/data/Data After Selection and Preprocessing/chicago_final.csv')\n",
        "volos_turbo_final  = pd.read_csv('/content/gdrive/MyDrive/data/Data After Selection and Preprocessing/volos_turbo_final.csv')\n"
      ]
    },
    {
      "cell_type": "code",
      "execution_count": 14,
      "id": "bd93cc4a",
      "metadata": {
        "id": "bd93cc4a",
        "outputId": "29cbfe61-23d0-4cc2-af2e-5d16703658ef",
        "colab": {
          "base_uri": "https://localhost:8080/",
          "height": 424
        }
      },
      "outputs": [
        {
          "output_type": "execute_result",
          "data": {
            "text/plain": [
              "       VgNIRBI      PISI      NDVI      EMBI   VrNIRBI        IBI      NDBI  \\\n",
              "0    -0.156262  0.057925  0.069752 -0.089758 -0.069752 -15.913936 -0.010811   \n",
              "1    -0.163073  0.054353  0.129827 -0.124079 -0.129827  -0.019400 -0.044529   \n",
              "2    -0.152122  0.073200  0.101133 -0.027589 -0.101133  -0.673711  0.087293   \n",
              "3    -0.279784  0.023549  0.288706 -0.124254 -0.288706   0.978246 -0.123526   \n",
              "4    -0.226384  0.048742  0.194209 -0.024817 -0.194209  -2.934090  0.011797   \n",
              "...        ...       ...       ...       ...       ...        ...       ...   \n",
              "9821 -0.235897  0.019614  0.178426 -0.045459 -0.178426   2.214779  0.003865   \n",
              "9822 -0.219015  0.029755  0.152598 -0.043590 -0.152598  -3.224787  0.018013   \n",
              "9823 -0.219015  0.029755  0.152598 -0.043590 -0.152598  -3.224787  0.018013   \n",
              "9824 -0.219015  0.029755  0.152598 -0.043590 -0.152598  -3.224787  0.018013   \n",
              "9825 -0.219015  0.029755  0.152598 -0.043590 -0.152598  -3.224787  0.018013   \n",
              "\n",
              "      cf_cvg    avg_rad  label  \n",
              "0        NaN  70.093898      0  \n",
              "1        NaN  70.093898      0  \n",
              "2        NaN  70.093898      0  \n",
              "3        NaN  70.093898      0  \n",
              "4        NaN  70.093898      0  \n",
              "...      ...        ...    ...  \n",
              "9821    14.0  68.900002      1  \n",
              "9822    14.0  68.900002      1  \n",
              "9823    14.0  68.900002      1  \n",
              "9824    14.0  74.459999      1  \n",
              "9825    14.0  68.900002      1  \n",
              "\n",
              "[9826 rows x 10 columns]"
            ],
            "text/html": [
              "\n",
              "  <div id=\"df-431ff7eb-4298-465b-9215-0d82b8f6c23e\">\n",
              "    <div class=\"colab-df-container\">\n",
              "      <div>\n",
              "<style scoped>\n",
              "    .dataframe tbody tr th:only-of-type {\n",
              "        vertical-align: middle;\n",
              "    }\n",
              "\n",
              "    .dataframe tbody tr th {\n",
              "        vertical-align: top;\n",
              "    }\n",
              "\n",
              "    .dataframe thead th {\n",
              "        text-align: right;\n",
              "    }\n",
              "</style>\n",
              "<table border=\"1\" class=\"dataframe\">\n",
              "  <thead>\n",
              "    <tr style=\"text-align: right;\">\n",
              "      <th></th>\n",
              "      <th>VgNIRBI</th>\n",
              "      <th>PISI</th>\n",
              "      <th>NDVI</th>\n",
              "      <th>EMBI</th>\n",
              "      <th>VrNIRBI</th>\n",
              "      <th>IBI</th>\n",
              "      <th>NDBI</th>\n",
              "      <th>cf_cvg</th>\n",
              "      <th>avg_rad</th>\n",
              "      <th>label</th>\n",
              "    </tr>\n",
              "  </thead>\n",
              "  <tbody>\n",
              "    <tr>\n",
              "      <th>0</th>\n",
              "      <td>-0.156262</td>\n",
              "      <td>0.057925</td>\n",
              "      <td>0.069752</td>\n",
              "      <td>-0.089758</td>\n",
              "      <td>-0.069752</td>\n",
              "      <td>-15.913936</td>\n",
              "      <td>-0.010811</td>\n",
              "      <td>NaN</td>\n",
              "      <td>70.093898</td>\n",
              "      <td>0</td>\n",
              "    </tr>\n",
              "    <tr>\n",
              "      <th>1</th>\n",
              "      <td>-0.163073</td>\n",
              "      <td>0.054353</td>\n",
              "      <td>0.129827</td>\n",
              "      <td>-0.124079</td>\n",
              "      <td>-0.129827</td>\n",
              "      <td>-0.019400</td>\n",
              "      <td>-0.044529</td>\n",
              "      <td>NaN</td>\n",
              "      <td>70.093898</td>\n",
              "      <td>0</td>\n",
              "    </tr>\n",
              "    <tr>\n",
              "      <th>2</th>\n",
              "      <td>-0.152122</td>\n",
              "      <td>0.073200</td>\n",
              "      <td>0.101133</td>\n",
              "      <td>-0.027589</td>\n",
              "      <td>-0.101133</td>\n",
              "      <td>-0.673711</td>\n",
              "      <td>0.087293</td>\n",
              "      <td>NaN</td>\n",
              "      <td>70.093898</td>\n",
              "      <td>0</td>\n",
              "    </tr>\n",
              "    <tr>\n",
              "      <th>3</th>\n",
              "      <td>-0.279784</td>\n",
              "      <td>0.023549</td>\n",
              "      <td>0.288706</td>\n",
              "      <td>-0.124254</td>\n",
              "      <td>-0.288706</td>\n",
              "      <td>0.978246</td>\n",
              "      <td>-0.123526</td>\n",
              "      <td>NaN</td>\n",
              "      <td>70.093898</td>\n",
              "      <td>0</td>\n",
              "    </tr>\n",
              "    <tr>\n",
              "      <th>4</th>\n",
              "      <td>-0.226384</td>\n",
              "      <td>0.048742</td>\n",
              "      <td>0.194209</td>\n",
              "      <td>-0.024817</td>\n",
              "      <td>-0.194209</td>\n",
              "      <td>-2.934090</td>\n",
              "      <td>0.011797</td>\n",
              "      <td>NaN</td>\n",
              "      <td>70.093898</td>\n",
              "      <td>0</td>\n",
              "    </tr>\n",
              "    <tr>\n",
              "      <th>...</th>\n",
              "      <td>...</td>\n",
              "      <td>...</td>\n",
              "      <td>...</td>\n",
              "      <td>...</td>\n",
              "      <td>...</td>\n",
              "      <td>...</td>\n",
              "      <td>...</td>\n",
              "      <td>...</td>\n",
              "      <td>...</td>\n",
              "      <td>...</td>\n",
              "    </tr>\n",
              "    <tr>\n",
              "      <th>9821</th>\n",
              "      <td>-0.235897</td>\n",
              "      <td>0.019614</td>\n",
              "      <td>0.178426</td>\n",
              "      <td>-0.045459</td>\n",
              "      <td>-0.178426</td>\n",
              "      <td>2.214779</td>\n",
              "      <td>0.003865</td>\n",
              "      <td>14.0</td>\n",
              "      <td>68.900002</td>\n",
              "      <td>1</td>\n",
              "    </tr>\n",
              "    <tr>\n",
              "      <th>9822</th>\n",
              "      <td>-0.219015</td>\n",
              "      <td>0.029755</td>\n",
              "      <td>0.152598</td>\n",
              "      <td>-0.043590</td>\n",
              "      <td>-0.152598</td>\n",
              "      <td>-3.224787</td>\n",
              "      <td>0.018013</td>\n",
              "      <td>14.0</td>\n",
              "      <td>68.900002</td>\n",
              "      <td>1</td>\n",
              "    </tr>\n",
              "    <tr>\n",
              "      <th>9823</th>\n",
              "      <td>-0.219015</td>\n",
              "      <td>0.029755</td>\n",
              "      <td>0.152598</td>\n",
              "      <td>-0.043590</td>\n",
              "      <td>-0.152598</td>\n",
              "      <td>-3.224787</td>\n",
              "      <td>0.018013</td>\n",
              "      <td>14.0</td>\n",
              "      <td>68.900002</td>\n",
              "      <td>1</td>\n",
              "    </tr>\n",
              "    <tr>\n",
              "      <th>9824</th>\n",
              "      <td>-0.219015</td>\n",
              "      <td>0.029755</td>\n",
              "      <td>0.152598</td>\n",
              "      <td>-0.043590</td>\n",
              "      <td>-0.152598</td>\n",
              "      <td>-3.224787</td>\n",
              "      <td>0.018013</td>\n",
              "      <td>14.0</td>\n",
              "      <td>74.459999</td>\n",
              "      <td>1</td>\n",
              "    </tr>\n",
              "    <tr>\n",
              "      <th>9825</th>\n",
              "      <td>-0.219015</td>\n",
              "      <td>0.029755</td>\n",
              "      <td>0.152598</td>\n",
              "      <td>-0.043590</td>\n",
              "      <td>-0.152598</td>\n",
              "      <td>-3.224787</td>\n",
              "      <td>0.018013</td>\n",
              "      <td>14.0</td>\n",
              "      <td>68.900002</td>\n",
              "      <td>1</td>\n",
              "    </tr>\n",
              "  </tbody>\n",
              "</table>\n",
              "<p>9826 rows × 10 columns</p>\n",
              "</div>\n",
              "      <button class=\"colab-df-convert\" onclick=\"convertToInteractive('df-431ff7eb-4298-465b-9215-0d82b8f6c23e')\"\n",
              "              title=\"Convert this dataframe to an interactive table.\"\n",
              "              style=\"display:none;\">\n",
              "        \n",
              "  <svg xmlns=\"http://www.w3.org/2000/svg\" height=\"24px\"viewBox=\"0 0 24 24\"\n",
              "       width=\"24px\">\n",
              "    <path d=\"M0 0h24v24H0V0z\" fill=\"none\"/>\n",
              "    <path d=\"M18.56 5.44l.94 2.06.94-2.06 2.06-.94-2.06-.94-.94-2.06-.94 2.06-2.06.94zm-11 1L8.5 8.5l.94-2.06 2.06-.94-2.06-.94L8.5 2.5l-.94 2.06-2.06.94zm10 10l.94 2.06.94-2.06 2.06-.94-2.06-.94-.94-2.06-.94 2.06-2.06.94z\"/><path d=\"M17.41 7.96l-1.37-1.37c-.4-.4-.92-.59-1.43-.59-.52 0-1.04.2-1.43.59L10.3 9.45l-7.72 7.72c-.78.78-.78 2.05 0 2.83L4 21.41c.39.39.9.59 1.41.59.51 0 1.02-.2 1.41-.59l7.78-7.78 2.81-2.81c.8-.78.8-2.07 0-2.86zM5.41 20L4 18.59l7.72-7.72 1.47 1.35L5.41 20z\"/>\n",
              "  </svg>\n",
              "      </button>\n",
              "      \n",
              "  <style>\n",
              "    .colab-df-container {\n",
              "      display:flex;\n",
              "      flex-wrap:wrap;\n",
              "      gap: 12px;\n",
              "    }\n",
              "\n",
              "    .colab-df-convert {\n",
              "      background-color: #E8F0FE;\n",
              "      border: none;\n",
              "      border-radius: 50%;\n",
              "      cursor: pointer;\n",
              "      display: none;\n",
              "      fill: #1967D2;\n",
              "      height: 32px;\n",
              "      padding: 0 0 0 0;\n",
              "      width: 32px;\n",
              "    }\n",
              "\n",
              "    .colab-df-convert:hover {\n",
              "      background-color: #E2EBFA;\n",
              "      box-shadow: 0px 1px 2px rgba(60, 64, 67, 0.3), 0px 1px 3px 1px rgba(60, 64, 67, 0.15);\n",
              "      fill: #174EA6;\n",
              "    }\n",
              "\n",
              "    [theme=dark] .colab-df-convert {\n",
              "      background-color: #3B4455;\n",
              "      fill: #D2E3FC;\n",
              "    }\n",
              "\n",
              "    [theme=dark] .colab-df-convert:hover {\n",
              "      background-color: #434B5C;\n",
              "      box-shadow: 0px 1px 3px 1px rgba(0, 0, 0, 0.15);\n",
              "      filter: drop-shadow(0px 1px 2px rgba(0, 0, 0, 0.3));\n",
              "      fill: #FFFFFF;\n",
              "    }\n",
              "  </style>\n",
              "\n",
              "      <script>\n",
              "        const buttonEl =\n",
              "          document.querySelector('#df-431ff7eb-4298-465b-9215-0d82b8f6c23e button.colab-df-convert');\n",
              "        buttonEl.style.display =\n",
              "          google.colab.kernel.accessAllowed ? 'block' : 'none';\n",
              "\n",
              "        async function convertToInteractive(key) {\n",
              "          const element = document.querySelector('#df-431ff7eb-4298-465b-9215-0d82b8f6c23e');\n",
              "          const dataTable =\n",
              "            await google.colab.kernel.invokeFunction('convertToInteractive',\n",
              "                                                     [key], {});\n",
              "          if (!dataTable) return;\n",
              "\n",
              "          const docLinkHtml = 'Like what you see? Visit the ' +\n",
              "            '<a target=\"_blank\" href=https://colab.research.google.com/notebooks/data_table.ipynb>data table notebook</a>'\n",
              "            + ' to learn more about interactive tables.';\n",
              "          element.innerHTML = '';\n",
              "          dataTable['output_type'] = 'display_data';\n",
              "          await google.colab.output.renderOutput(dataTable, element);\n",
              "          const docLink = document.createElement('div');\n",
              "          docLink.innerHTML = docLinkHtml;\n",
              "          element.appendChild(docLink);\n",
              "        }\n",
              "      </script>\n",
              "    </div>\n",
              "  </div>\n",
              "  "
            ]
          },
          "metadata": {},
          "execution_count": 14
        }
      ],
      "source": [
        "volos_turbo_final"
      ]
    },
    {
      "cell_type": "code",
      "execution_count": 16,
      "id": "f951e938",
      "metadata": {
        "id": "f951e938",
        "outputId": "fb5b25cc-990d-42dc-e959-ca819c55325c",
        "colab": {
          "base_uri": "https://localhost:8080/"
        }
      },
      "outputs": [
        {
          "output_type": "execute_result",
          "data": {
            "text/plain": [
              "LeveneResult(statistic=218.03989661020486, pvalue=2.7554192619151735e-49)"
            ]
          },
          "metadata": {},
          "execution_count": 16
        }
      ],
      "source": [
        "# check  mean  difference significace\n",
        "#  https://towardsdatascience.com/anova-t-test-and-other-statistical-tests-with-python-e7a36a2fdc0c\n",
        "\n",
        "# import the data\n",
        "#df= pd.read_csv(\"Iris_Data.csv\")\n",
        "#setosa = volos_amenities_viirs['avg_rad']\n",
        "#versicolor = vacant_philly_bldgs_viirs['avg_rad']\n",
        "# homogeneity\n",
        "stats.levene(volos_turbo_final['avg_rad'],chicago_final['avg_rad'])\n",
        "# Shapiro-Wilk test for normality\n",
        "#stats.shapiro(volos_turbo_final['avg_rad'])\n",
        "#stats.shapiro(chicago_final['avg_rad'])"
      ]
    },
    {
      "cell_type": "code",
      "execution_count": null,
      "id": "3c971e82",
      "metadata": {
        "id": "3c971e82"
      },
      "outputs": [],
      "source": [
        "print(stats.levene(volos_turbo_final['NDVI'],chicago_final['NDVI']))\n",
        "print(stats.levene(volos_turbo_final['NDBI'],chicago_final['NDBI']))\n",
        "print(stats.levene(volos_turbo_final['EMBI'],chicago_final['EMBI']))\n",
        "print(stats.levene(volos_turbo_final['VgNIRBI'],chicago_final['VgNIRBI']))\n",
        "print(stats.levene(volos_turbo_final['VrNIRBI'],chicago_final['VrNIRBI']))\n",
        "print(stats.levene(volos_turbo_final['IBI'],chicago_final['IBI']))\n",
        "print(stats.levene(volos_turbo_final['PISI'],chicago_final['PISI']))\n",
        "print(stats.levene(volos_turbo_final['avg_rad'],chicago_final['avg_rad']))"
      ]
    },
    {
      "cell_type": "code",
      "execution_count": 18,
      "id": "79529303",
      "metadata": {
        "id": "79529303",
        "outputId": "ccc5c194-a7fd-4cf1-b91b-7f22bc8b1568",
        "colab": {
          "base_uri": "https://localhost:8080/"
        }
      },
      "outputs": [
        {
          "output_type": "stream",
          "name": "stdout",
          "text": [
            "Ttest_indResult(statistic=-52.34469241971204, pvalue=0.0)\n",
            "Ttest_indResult(statistic=58.28721398963892, pvalue=0.0)\n",
            "Ttest_indResult(statistic=15.195238150928354, pvalue=7.000152620223283e-52)\n",
            "Ttest_indResult(statistic=34.737540869500904, pvalue=9.502027722087215e-254)\n",
            "Ttest_indResult(statistic=52.34469241971204, pvalue=0.0)\n",
            "Ttest_indResult(statistic=0.5701246855862565, pvalue=0.5685987607214114)\n",
            "Ttest_indResult(statistic=-7.288420362841825, pvalue=3.302311096512697e-13)\n",
            "Ttest_indResult(statistic=-62.589734839453584, pvalue=0.0)\n"
          ]
        }
      ],
      "source": [
        "print(stats.ttest_ind(volos_turbo_final['NDVI'],chicago_final['NDVI'],equal_var=False))\n",
        "print(stats.ttest_ind(volos_turbo_final['NDBI'],chicago_final['NDBI'],equal_var=False))\n",
        "print(stats.ttest_ind(volos_turbo_final['EMBI'],chicago_final['EMBI'],equal_var=False))\n",
        "print(stats.ttest_ind(volos_turbo_final['VgNIRBI'],chicago_final['VgNIRBI'],equal_var=False))\n",
        "print(stats.ttest_ind(volos_turbo_final['VrNIRBI'],chicago_final['VrNIRBI'],equal_var=False))\n",
        "print(stats.ttest_ind(volos_turbo_final['IBI'],chicago_final['IBI'],equal_var=False))\n",
        "print(stats.ttest_ind(volos_turbo_final['PISI'],chicago_final['PISI'],equal_var=False))\n",
        "print(stats.ttest_ind(volos_turbo_final['avg_rad'],chicago_final['avg_rad'],equal_var=False))"
      ]
    },
    {
      "cell_type": "markdown",
      "id": "97ffb58e",
      "metadata": {
        "id": "97ffb58e"
      },
      "source": [
        "The small p-value suggests that the populations do not have equal variances.\n",
        "\n",
        "This chicago data may not be suitable for volos."
      ]
    }
  ],
  "metadata": {
    "kernelspec": {
      "display_name": "Python 3 (ipykernel)",
      "language": "python",
      "name": "python3"
    },
    "language_info": {
      "codemirror_mode": {
        "name": "ipython",
        "version": 3
      },
      "file_extension": ".py",
      "mimetype": "text/x-python",
      "name": "python",
      "nbconvert_exporter": "python",
      "pygments_lexer": "ipython3",
      "version": "3.9.1"
    },
    "latex_envs": {
      "LaTeX_envs_menu_present": true,
      "autoclose": false,
      "autocomplete": true,
      "bibliofile": "biblio.bib",
      "cite_by": "apalike",
      "current_citInitial": 1,
      "eqLabelWithNumbers": true,
      "eqNumInitial": 1,
      "hotkeys": {
        "equation": "Ctrl-E",
        "itemize": "Ctrl-I"
      },
      "labels_anchors": false,
      "latex_user_defs": false,
      "report_style_numbering": false,
      "user_envs_cfg": false
    },
    "colab": {
      "provenance": []
    }
  },
  "nbformat": 4,
  "nbformat_minor": 5
}