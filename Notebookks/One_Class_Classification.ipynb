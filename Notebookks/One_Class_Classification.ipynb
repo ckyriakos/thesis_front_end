{
 "cells": [
  {
   "cell_type": "code",
   "execution_count": 1,
   "id": "80df0372",
   "metadata": {},
   "outputs": [],
   "source": [
    "import pandas as pd\n",
    "import numpy as np\n",
    "import  wxee\n",
    "import matplotlib.pyplot as plt\n",
    "from sklearn import tree\n",
    "import time\n",
    "from datetime import timedelta"
   ]
  },
  {
   "cell_type": "code",
   "execution_count": 2,
   "id": "454066db",
   "metadata": {},
   "outputs": [],
   "source": [
    "try:\n",
    "    import geemap, ee\n",
    "except ModuleNotFoundError:\n",
    "    if 'google.colab' in str(get_ipython()):\n",
    "        print(\"package not found, installing w/ pip in Google Colab...\")\n",
    "        !pip install geemap\n",
    "    else:\n",
    "        print(\"package not found, installing w/ conda...\")\n",
    "        !conda install mamba -c conda-forge -y\n",
    "        !mamba install geemap -c conda-forge -y\n",
    "    import geemap, ee"
   ]
  },
  {
   "cell_type": "code",
   "execution_count": 3,
   "id": "1afb42fe",
   "metadata": {},
   "outputs": [],
   "source": [
    "try:\n",
    "        geemap.ee_initialize()\n",
    "except Exception as e:\n",
    "        geemap.ee_initialize()\n",
    "        geemap.ee_initialize()\n",
    "\n",
    "from geemap import geojson_to_ee, ee_to_geojson\n",
    "import eemont"
   ]
  },
  {
   "cell_type": "code",
   "execution_count": null,
   "id": "f6361cf5",
   "metadata": {},
   "outputs": [],
   "source": [
    "# Load the required datasets from Chicago and Philly"
   ]
  },
  {
   "cell_type": "markdown",
   "id": "78d1d216",
   "metadata": {},
   "source": [
    "# TA SHMANITKA EINAI  AYTA"
   ]
  },
  {
   "cell_type": "code",
   "execution_count": null,
   "id": "20044221",
   "metadata": {},
   "outputs": [],
   "source": [
    "volos_turbo_final.to_csv('./data/csvs/volos_turbo_final.csv',index=False)"
   ]
  },
  {
   "cell_type": "code",
   "execution_count": 4,
   "id": "39b61721",
   "metadata": {
    "scrolled": true
   },
   "outputs": [
    {
     "name": "stderr",
     "output_type": "stream",
     "text": [
      "C:\\Users\\Christos\\anaconda3\\envs\\ml\\lib\\site-packages\\IPython\\core\\interactiveshell.py:3169: DtypeWarning: Columns (9,10,11,12,18,28) have mixed types.Specify dtype option on import or set low_memory=False.\n",
      "  has_raised = await self.run_ast_nodes(code_ast.body, cell_name,\n"
     ]
    },
    {
     "data": {
      "text/html": [
       "<div>\n",
       "<style scoped>\n",
       "    .dataframe tbody tr th:only-of-type {\n",
       "        vertical-align: middle;\n",
       "    }\n",
       "\n",
       "    .dataframe tbody tr th {\n",
       "        vertical-align: top;\n",
       "    }\n",
       "\n",
       "    .dataframe thead th {\n",
       "        text-align: right;\n",
       "    }\n",
       "</style>\n",
       "<table border=\"1\" class=\"dataframe\">\n",
       "  <thead>\n",
       "    <tr style=\"text-align: right;\">\n",
       "      <th></th>\n",
       "      <th>SR_NUMBER</th>\n",
       "      <th>SR_TYPE</th>\n",
       "      <th>SR_SHORT_CODE</th>\n",
       "      <th>OWNER_DEPARTMENT</th>\n",
       "      <th>STATUS</th>\n",
       "      <th>CREATED_DATE</th>\n",
       "      <th>LAST_MODIFIED_DATE</th>\n",
       "      <th>CLOSED_DATE</th>\n",
       "      <th>STREET_ADDRESS</th>\n",
       "      <th>CITY</th>\n",
       "      <th>...</th>\n",
       "      <th>PRECINCT</th>\n",
       "      <th>SANITATION_DIVISION_DAYS</th>\n",
       "      <th>CREATED_HOUR</th>\n",
       "      <th>CREATED_DAY_OF_WEEK</th>\n",
       "      <th>CREATED_MONTH</th>\n",
       "      <th>X_COORDINATE</th>\n",
       "      <th>Y_COORDINATE</th>\n",
       "      <th>LATITUDE</th>\n",
       "      <th>LONGITUDE</th>\n",
       "      <th>LOCATION</th>\n",
       "    </tr>\n",
       "  </thead>\n",
       "  <tbody>\n",
       "    <tr>\n",
       "      <th>0</th>\n",
       "      <td>SR19-01757960</td>\n",
       "      <td>Street Light Out Complaint</td>\n",
       "      <td>SFD</td>\n",
       "      <td>CDOT - Department of Transportation</td>\n",
       "      <td>Completed</td>\n",
       "      <td>06/20/2019 10:25:56 PM</td>\n",
       "      <td>11/06/2019 11:29:59 PM</td>\n",
       "      <td>11/06/2019 11:29:59 PM</td>\n",
       "      <td>NaN</td>\n",
       "      <td>NaN</td>\n",
       "      <td>...</td>\n",
       "      <td>NaN</td>\n",
       "      <td>NaN</td>\n",
       "      <td>22</td>\n",
       "      <td>5</td>\n",
       "      <td>6</td>\n",
       "      <td>NaN</td>\n",
       "      <td>NaN</td>\n",
       "      <td>NaN</td>\n",
       "      <td>NaN</td>\n",
       "      <td>NaN</td>\n",
       "    </tr>\n",
       "    <tr>\n",
       "      <th>1</th>\n",
       "      <td>SR19-01793200</td>\n",
       "      <td>Graffiti Removal Request</td>\n",
       "      <td>GRAF</td>\n",
       "      <td>Streets and Sanitation</td>\n",
       "      <td>Completed</td>\n",
       "      <td>06/25/2019 04:08:43 PM</td>\n",
       "      <td>06/25/2019 08:31:37 PM</td>\n",
       "      <td>06/25/2019 04:09:00 PM</td>\n",
       "      <td>NaN</td>\n",
       "      <td>NaN</td>\n",
       "      <td>...</td>\n",
       "      <td>NaN</td>\n",
       "      <td>NaN</td>\n",
       "      <td>16</td>\n",
       "      <td>3</td>\n",
       "      <td>6</td>\n",
       "      <td>NaN</td>\n",
       "      <td>NaN</td>\n",
       "      <td>NaN</td>\n",
       "      <td>NaN</td>\n",
       "      <td>NaN</td>\n",
       "    </tr>\n",
       "    <tr>\n",
       "      <th>2</th>\n",
       "      <td>SR19-01785709</td>\n",
       "      <td>Aircraft Noise Complaint</td>\n",
       "      <td>AVN</td>\n",
       "      <td>Aviation</td>\n",
       "      <td>Completed</td>\n",
       "      <td>06/25/2019 04:25:25 AM</td>\n",
       "      <td>06/25/2019 08:31:24 AM</td>\n",
       "      <td>06/25/2019 04:25:26 AM</td>\n",
       "      <td>NaN</td>\n",
       "      <td>NaN</td>\n",
       "      <td>...</td>\n",
       "      <td>NaN</td>\n",
       "      <td>NaN</td>\n",
       "      <td>4</td>\n",
       "      <td>3</td>\n",
       "      <td>6</td>\n",
       "      <td>NaN</td>\n",
       "      <td>NaN</td>\n",
       "      <td>NaN</td>\n",
       "      <td>NaN</td>\n",
       "      <td>NaN</td>\n",
       "    </tr>\n",
       "    <tr>\n",
       "      <th>3</th>\n",
       "      <td>SR19-01785387</td>\n",
       "      <td>Report an Injured Animal</td>\n",
       "      <td>EAQ</td>\n",
       "      <td>Animal Care and Control</td>\n",
       "      <td>Completed</td>\n",
       "      <td>06/24/2019 11:36:02 PM</td>\n",
       "      <td>06/25/2019 08:54:15 AM</td>\n",
       "      <td>06/25/2019 08:54:15 AM</td>\n",
       "      <td>NaN</td>\n",
       "      <td>NaN</td>\n",
       "      <td>...</td>\n",
       "      <td>NaN</td>\n",
       "      <td>NaN</td>\n",
       "      <td>23</td>\n",
       "      <td>2</td>\n",
       "      <td>6</td>\n",
       "      <td>NaN</td>\n",
       "      <td>NaN</td>\n",
       "      <td>NaN</td>\n",
       "      <td>NaN</td>\n",
       "      <td>NaN</td>\n",
       "    </tr>\n",
       "    <tr>\n",
       "      <th>4</th>\n",
       "      <td>SR19-01785441</td>\n",
       "      <td>Aircraft Noise Complaint</td>\n",
       "      <td>AVN</td>\n",
       "      <td>Aviation</td>\n",
       "      <td>Completed</td>\n",
       "      <td>06/24/2019 11:57:44 PM</td>\n",
       "      <td>06/25/2019 04:31:55 AM</td>\n",
       "      <td>06/24/2019 11:57:44 PM</td>\n",
       "      <td>NaN</td>\n",
       "      <td>NaN</td>\n",
       "      <td>...</td>\n",
       "      <td>NaN</td>\n",
       "      <td>NaN</td>\n",
       "      <td>23</td>\n",
       "      <td>2</td>\n",
       "      <td>6</td>\n",
       "      <td>NaN</td>\n",
       "      <td>NaN</td>\n",
       "      <td>NaN</td>\n",
       "      <td>NaN</td>\n",
       "      <td>NaN</td>\n",
       "    </tr>\n",
       "    <tr>\n",
       "      <th>...</th>\n",
       "      <td>...</td>\n",
       "      <td>...</td>\n",
       "      <td>...</td>\n",
       "      <td>...</td>\n",
       "      <td>...</td>\n",
       "      <td>...</td>\n",
       "      <td>...</td>\n",
       "      <td>...</td>\n",
       "      <td>...</td>\n",
       "      <td>...</td>\n",
       "      <td>...</td>\n",
       "      <td>...</td>\n",
       "      <td>...</td>\n",
       "      <td>...</td>\n",
       "      <td>...</td>\n",
       "      <td>...</td>\n",
       "      <td>...</td>\n",
       "      <td>...</td>\n",
       "      <td>...</td>\n",
       "      <td>...</td>\n",
       "      <td>...</td>\n",
       "    </tr>\n",
       "    <tr>\n",
       "      <th>6219178</th>\n",
       "      <td>SR22-00840282</td>\n",
       "      <td>Graffiti Removal Request</td>\n",
       "      <td>GRAF</td>\n",
       "      <td>Streets and Sanitation</td>\n",
       "      <td>Completed</td>\n",
       "      <td>05/19/2022 04:14:41 PM</td>\n",
       "      <td>05/20/2022 02:11:41 PM</td>\n",
       "      <td>05/20/2022 02:11:41 PM</td>\n",
       "      <td>815 N MILWAUKEE AVE</td>\n",
       "      <td>NaN</td>\n",
       "      <td>...</td>\n",
       "      <td>35.0</td>\n",
       "      <td>NaN</td>\n",
       "      <td>16</td>\n",
       "      <td>5</td>\n",
       "      <td>5</td>\n",
       "      <td>1.168731e+06</td>\n",
       "      <td>1.905694e+06</td>\n",
       "      <td>41.896757</td>\n",
       "      <td>-87.655729</td>\n",
       "      <td>(41.89675650597323, -87.6557285319848)</td>\n",
       "    </tr>\n",
       "    <tr>\n",
       "      <th>6219179</th>\n",
       "      <td>SR22-00840107</td>\n",
       "      <td>Rodent Baiting/Rat Complaint</td>\n",
       "      <td>SGA</td>\n",
       "      <td>Streets and Sanitation</td>\n",
       "      <td>Completed</td>\n",
       "      <td>05/19/2022 03:53:37 PM</td>\n",
       "      <td>05/24/2022 01:36:02 PM</td>\n",
       "      <td>05/24/2022 01:36:02 PM</td>\n",
       "      <td>5933 S PRAIRIE AVE</td>\n",
       "      <td>NaN</td>\n",
       "      <td>...</td>\n",
       "      <td>7.0</td>\n",
       "      <td>NaN</td>\n",
       "      <td>15</td>\n",
       "      <td>5</td>\n",
       "      <td>5</td>\n",
       "      <td>1.179160e+06</td>\n",
       "      <td>1.865599e+06</td>\n",
       "      <td>41.786502</td>\n",
       "      <td>-87.618652</td>\n",
       "      <td>(41.786501989913454, -87.61865161410047)</td>\n",
       "    </tr>\n",
       "    <tr>\n",
       "      <th>6219180</th>\n",
       "      <td>SR22-00840144</td>\n",
       "      <td>Garbage Cart Maintenance</td>\n",
       "      <td>SIE</td>\n",
       "      <td>Streets and Sanitation</td>\n",
       "      <td>Completed</td>\n",
       "      <td>05/19/2022 03:57:25 PM</td>\n",
       "      <td>05/26/2022 08:14:39 AM</td>\n",
       "      <td>05/26/2022 08:14:39 AM</td>\n",
       "      <td>749 W 29TH ST</td>\n",
       "      <td>NaN</td>\n",
       "      <td>...</td>\n",
       "      <td>16.0</td>\n",
       "      <td>NaN</td>\n",
       "      <td>15</td>\n",
       "      <td>5</td>\n",
       "      <td>5</td>\n",
       "      <td>1.171593e+06</td>\n",
       "      <td>1.885590e+06</td>\n",
       "      <td>41.841528</td>\n",
       "      <td>-87.645809</td>\n",
       "      <td>(41.8415280201541, -87.64580868753987)</td>\n",
       "    </tr>\n",
       "    <tr>\n",
       "      <th>6219181</th>\n",
       "      <td>SR22-00840184</td>\n",
       "      <td>Garbage Cart Maintenance</td>\n",
       "      <td>SIE</td>\n",
       "      <td>Streets and Sanitation</td>\n",
       "      <td>Completed</td>\n",
       "      <td>05/19/2022 04:01:54 PM</td>\n",
       "      <td>05/27/2022 10:13:46 AM</td>\n",
       "      <td>05/27/2022 10:13:46 AM</td>\n",
       "      <td>4359 S KOMENSKY AVE</td>\n",
       "      <td>NaN</td>\n",
       "      <td>...</td>\n",
       "      <td>2.0</td>\n",
       "      <td>NaN</td>\n",
       "      <td>16</td>\n",
       "      <td>5</td>\n",
       "      <td>5</td>\n",
       "      <td>1.150158e+06</td>\n",
       "      <td>1.875213e+06</td>\n",
       "      <td>41.813496</td>\n",
       "      <td>-87.724737</td>\n",
       "      <td>(41.81349611266885, -87.72473723165622)</td>\n",
       "    </tr>\n",
       "    <tr>\n",
       "      <th>6219182</th>\n",
       "      <td>SR22-00840253</td>\n",
       "      <td>Vacant/Abandoned Building Complaint</td>\n",
       "      <td>BBK</td>\n",
       "      <td>DOB - Buildings</td>\n",
       "      <td>Completed</td>\n",
       "      <td>05/19/2022 04:10:02 PM</td>\n",
       "      <td>06/15/2022 08:30:14 AM</td>\n",
       "      <td>06/15/2022 08:30:12 AM</td>\n",
       "      <td>500 W 115TH ST</td>\n",
       "      <td>NaN</td>\n",
       "      <td>...</td>\n",
       "      <td>23.0</td>\n",
       "      <td>NaN</td>\n",
       "      <td>16</td>\n",
       "      <td>5</td>\n",
       "      <td>5</td>\n",
       "      <td>1.174963e+06</td>\n",
       "      <td>1.828733e+06</td>\n",
       "      <td>41.685431</td>\n",
       "      <td>-87.635134</td>\n",
       "      <td>(41.68543062522327, -87.63513439615683)</td>\n",
       "    </tr>\n",
       "  </tbody>\n",
       "</table>\n",
       "<p>6219183 rows × 37 columns</p>\n",
       "</div>"
      ],
      "text/plain": [
       "             SR_NUMBER                              SR_TYPE SR_SHORT_CODE  \\\n",
       "0        SR19-01757960           Street Light Out Complaint           SFD   \n",
       "1        SR19-01793200             Graffiti Removal Request          GRAF   \n",
       "2        SR19-01785709             Aircraft Noise Complaint           AVN   \n",
       "3        SR19-01785387             Report an Injured Animal           EAQ   \n",
       "4        SR19-01785441             Aircraft Noise Complaint           AVN   \n",
       "...                ...                                  ...           ...   \n",
       "6219178  SR22-00840282             Graffiti Removal Request          GRAF   \n",
       "6219179  SR22-00840107         Rodent Baiting/Rat Complaint           SGA   \n",
       "6219180  SR22-00840144             Garbage Cart Maintenance           SIE   \n",
       "6219181  SR22-00840184             Garbage Cart Maintenance           SIE   \n",
       "6219182  SR22-00840253  Vacant/Abandoned Building Complaint           BBK   \n",
       "\n",
       "                            OWNER_DEPARTMENT     STATUS  \\\n",
       "0        CDOT - Department of Transportation  Completed   \n",
       "1                     Streets and Sanitation  Completed   \n",
       "2                                   Aviation  Completed   \n",
       "3                    Animal Care and Control  Completed   \n",
       "4                                   Aviation  Completed   \n",
       "...                                      ...        ...   \n",
       "6219178               Streets and Sanitation  Completed   \n",
       "6219179               Streets and Sanitation  Completed   \n",
       "6219180               Streets and Sanitation  Completed   \n",
       "6219181               Streets and Sanitation  Completed   \n",
       "6219182                      DOB - Buildings  Completed   \n",
       "\n",
       "                   CREATED_DATE      LAST_MODIFIED_DATE  \\\n",
       "0        06/20/2019 10:25:56 PM  11/06/2019 11:29:59 PM   \n",
       "1        06/25/2019 04:08:43 PM  06/25/2019 08:31:37 PM   \n",
       "2        06/25/2019 04:25:25 AM  06/25/2019 08:31:24 AM   \n",
       "3        06/24/2019 11:36:02 PM  06/25/2019 08:54:15 AM   \n",
       "4        06/24/2019 11:57:44 PM  06/25/2019 04:31:55 AM   \n",
       "...                         ...                     ...   \n",
       "6219178  05/19/2022 04:14:41 PM  05/20/2022 02:11:41 PM   \n",
       "6219179  05/19/2022 03:53:37 PM  05/24/2022 01:36:02 PM   \n",
       "6219180  05/19/2022 03:57:25 PM  05/26/2022 08:14:39 AM   \n",
       "6219181  05/19/2022 04:01:54 PM  05/27/2022 10:13:46 AM   \n",
       "6219182  05/19/2022 04:10:02 PM  06/15/2022 08:30:14 AM   \n",
       "\n",
       "                    CLOSED_DATE       STREET_ADDRESS CITY  ... PRECINCT  \\\n",
       "0        11/06/2019 11:29:59 PM                  NaN  NaN  ...      NaN   \n",
       "1        06/25/2019 04:09:00 PM                  NaN  NaN  ...      NaN   \n",
       "2        06/25/2019 04:25:26 AM                  NaN  NaN  ...      NaN   \n",
       "3        06/25/2019 08:54:15 AM                  NaN  NaN  ...      NaN   \n",
       "4        06/24/2019 11:57:44 PM                  NaN  NaN  ...      NaN   \n",
       "...                         ...                  ...  ...  ...      ...   \n",
       "6219178  05/20/2022 02:11:41 PM  815 N MILWAUKEE AVE  NaN  ...     35.0   \n",
       "6219179  05/24/2022 01:36:02 PM   5933 S PRAIRIE AVE  NaN  ...      7.0   \n",
       "6219180  05/26/2022 08:14:39 AM        749 W 29TH ST  NaN  ...     16.0   \n",
       "6219181  05/27/2022 10:13:46 AM  4359 S KOMENSKY AVE  NaN  ...      2.0   \n",
       "6219182  06/15/2022 08:30:12 AM       500 W 115TH ST  NaN  ...     23.0   \n",
       "\n",
       "        SANITATION_DIVISION_DAYS CREATED_HOUR CREATED_DAY_OF_WEEK  \\\n",
       "0                            NaN           22                   5   \n",
       "1                            NaN           16                   3   \n",
       "2                            NaN            4                   3   \n",
       "3                            NaN           23                   2   \n",
       "4                            NaN           23                   2   \n",
       "...                          ...          ...                 ...   \n",
       "6219178                      NaN           16                   5   \n",
       "6219179                      NaN           15                   5   \n",
       "6219180                      NaN           15                   5   \n",
       "6219181                      NaN           16                   5   \n",
       "6219182                      NaN           16                   5   \n",
       "\n",
       "        CREATED_MONTH  X_COORDINATE  Y_COORDINATE   LATITUDE  LONGITUDE  \\\n",
       "0                   6           NaN           NaN        NaN        NaN   \n",
       "1                   6           NaN           NaN        NaN        NaN   \n",
       "2                   6           NaN           NaN        NaN        NaN   \n",
       "3                   6           NaN           NaN        NaN        NaN   \n",
       "4                   6           NaN           NaN        NaN        NaN   \n",
       "...               ...           ...           ...        ...        ...   \n",
       "6219178             5  1.168731e+06  1.905694e+06  41.896757 -87.655729   \n",
       "6219179             5  1.179160e+06  1.865599e+06  41.786502 -87.618652   \n",
       "6219180             5  1.171593e+06  1.885590e+06  41.841528 -87.645809   \n",
       "6219181             5  1.150158e+06  1.875213e+06  41.813496 -87.724737   \n",
       "6219182             5  1.174963e+06  1.828733e+06  41.685431 -87.635134   \n",
       "\n",
       "                                         LOCATION  \n",
       "0                                             NaN  \n",
       "1                                             NaN  \n",
       "2                                             NaN  \n",
       "3                                             NaN  \n",
       "4                                             NaN  \n",
       "...                                           ...  \n",
       "6219178    (41.89675650597323, -87.6557285319848)  \n",
       "6219179  (41.786501989913454, -87.61865161410047)  \n",
       "6219180    (41.8415280201541, -87.64580868753987)  \n",
       "6219181   (41.81349611266885, -87.72473723165622)  \n",
       "6219182   (41.68543062522327, -87.63513439615683)  \n",
       "\n",
       "[6219183 rows x 37 columns]"
      ]
     },
     "execution_count": 4,
     "metadata": {},
     "output_type": "execute_result"
    }
   ],
   "source": [
    "# We have obtained two datasets from the City of Chicago Portal.\n",
    "# These datasets contain service requests from citizens\n",
    "# Among those requests there are some regarding abandoned buildigs and  vacant areas.\n",
    "# \n",
    "\n",
    "# Load chicago service calls and then take the abandoned buildings reports from that\n",
    "chicago_service_new = pd.read_csv(\"./data/csvs/311_Service_Requests_new.csv\")\n",
    "chicago_service_new"
   ]
  },
  {
   "cell_type": "markdown",
   "id": "fb9bf52b",
   "metadata": {},
   "source": [
    "# S2  region kai regions  time series gia  CHICAGO"
   ]
  },
  {
   "cell_type": "code",
   "execution_count": 136,
   "id": "5845bdc7",
   "metadata": {},
   "outputs": [],
   "source": []
  },
  {
   "cell_type": "code",
   "execution_count": 151,
   "id": "ce4bc3c2",
   "metadata": {},
   "outputs": [],
   "source": [
    "#generate time series over aoi, get spectral indices(awsome index) #  fixed\n",
    "import time\n",
    "from datetime import timedelta\n",
    "def generate_time_series_regions(geometry,startDate,endDate):\n",
    "    print('start  collecting satellite  images')\n",
    "    \n",
    "    start_time = time.monotonic()\n",
    "    \n",
    "    #collect imageCollection\n",
    "    \n",
    "    s2 = (ee.ImageCollection(\"COPERNICUS/S2_SR\")#.filterMetadata('CLOUDY_PIXEL_PERCENTAGE', 'less_than', 5)\n",
    "      .filterDate(startDate,endDate)\n",
    "      .filterBounds(geometry)\n",
    "      .maskClouds()\n",
    "      .scaleAndOffset()\n",
    "      .spectralIndices(['NDVI','NDBI','IBI','EMBI','VgNIRBI','VrNIRBI','PISI'],online=True)).select([ 'NDVI', 'NDBI', 'IBI', \n",
    "                                                                                              'EMBI','VgNIRBI','VrNIRBI','PISI'])\n",
    "\n",
    "    print(len(s2))\n",
    "    ts = s2.wx.to_time_series()\n",
    "    \n",
    "    \n",
    "    #cloudless = ts.filterBounds(geometry).filterMetadata(\"CLOUDY_PIXEL_PERCENTAGE\", \"less_than\", 5)\n",
    "    #use geemap to generate a pandas dataframe from the time series(contains the ts for the selected indices)\n",
    "    #satellite_df= geemap.ee_to_pandas(time_series)\n",
    "    end_time = time.monotonic()\n",
    "    print(timedelta(seconds=end_time - start_time))\n",
    "    print('done collecting')\n",
    "    \n",
    "    print('start  calculating ts')\n",
    "    start_time = time.monotonic()\n",
    "    ts_mean =ts.aggregate_time(frequency=\"month\",reducer=ee.Reducer.mean())#.filterMetadata('CLOUDY_PIXEL_PERCENTAGE', 'less_than', 20)\n",
    "    time_series = ts_mean.getTimeSeriesByRegions(\n",
    "                               collection = geometry,\n",
    "                               bands = ['NDVI','NDBI','IBI','EMBI','VgNIRBI','VrNIRBI','PISI'],\n",
    "                               reducer = [ee.Reducer.mean()],\n",
    "                               scale = 10)\n",
    "    end_time = time.monotonic()\n",
    "    print(timedelta(seconds=end_time - start_time))\n",
    "    print('done calculating ts')\n",
    "    print(len(time_series))\n",
    "    print('start  making dataframe ts')\n",
    "    start_time = time.monotonic()\n",
    "    satellite_df = geemap.ee_to_pandas(time_series)\n",
    "\n",
    "    end_time = time.monotonic()\n",
    "    print(timedelta(seconds=end_time - start_time))\n",
    "    print('done making dataframe ts')\n",
    "    satellite_df[satellite_df == -9999] = np.nan\n",
    "    #satellite_df[satellite_df > -9999] = np.nan\n",
    "    #filter outliers\n",
    "    #satellite_df1=pd.DataFrame()\n",
    "    #satellite_df1['date'] =\n",
    "    #satellite_df=satellite_df[(np.abs(stats.zscore(satellite_df.drop(['date','reducer'],axis=1))) < 3).all(axis=1)]#==np.nan\n",
    "    satellite_df['date']=pd.to_datetime(satellite_df['date'],infer_datetime_format = True)\n",
    "    satellite_df['NDVI']=satellite_df['NDVI'].fillna(satellite_df['NDVI'].mean())\n",
    "    satellite_df['NDBI']=satellite_df['NDBI'].fillna(satellite_df['NDBI'].mean())\n",
    "    satellite_df['EMBI']=satellite_df['EMBI'].fillna(satellite_df['EMBI'].mean())\n",
    "    satellite_df['IBI']=satellite_df['IBI'].fillna(satellite_df['IBI'].mean())\n",
    "    satellite_df['VgNIRBI']=satellite_df['VgNIRBI'].fillna(satellite_df['VgNIRBI'].mean())\n",
    "    satellite_df['VrNIRBI']=satellite_df['VrNIRBI'].fillna(satellite_df['VrNIRBI'].mean())\n",
    "    satellite_df['PISI']=satellite_df['PISI'].fillna(satellite_df['PISI'].mean())\n",
    "    #satellite_df['date'] = satellite_df1['date']\n",
    "    return satellite_df"
   ]
  },
  {
   "cell_type": "code",
   "execution_count": null,
   "id": "cbcc70ca",
   "metadata": {},
   "outputs": [],
   "source": []
  },
  {
   "cell_type": "markdown",
   "id": "235bf7d4",
   "metadata": {},
   "source": [
    "# Viirs gia  region kai gia regions time series gia tmo CHICAGO"
   ]
  },
  {
   "cell_type": "code",
   "execution_count": 150,
   "id": "319af15b",
   "metadata": {},
   "outputs": [],
   "source": [
    "def get_viirs_regions(collection,startDate,endDate):\n",
    "#get times series of average radiance from viirs dnb monthly composites\n",
    "#startDate,endDate= set_dates()\n",
    "    viirs = ee.ImageCollection(\"NOAA/VIIRS/DNB/MONTHLY_V1/VCMSLCFG\").filterDate(startDate,endDate).select('avg_rad').scaleAndOffset()\n",
    "    print(len(viirs))\n",
    "\n",
    "    ts = viirs.getTimeSeriesByRegions(ee.Reducer.mean(),\n",
    "                              collection = collection,\n",
    "                              scale = 10,\n",
    "                              #bestEffort = True,\n",
    "                              #maxPixels = 2e9,\n",
    "                              dateFormat = 'YYYYMMdd'\n",
    "                              )\n",
    "    print(len(ts))\n",
    "    viirs_df = geemap.ee_to_pandas(ts)\n",
    "    viirs_df['date'] = pd.to_datetime(viirs_df['date'],infer_datetime_format = True)\n",
    "    return viirs_df\n",
    "\n",
    "def get_viirs_region(geometry,startDate,endDate):\n",
    "#get times series of average radiance from viirs dnb monthly composites\n",
    "#startDate,endDate= set_dates()\n",
    "    viirs = ee.ImageCollection(\"NOAA/VIIRS/DNB/MONTHLY_V1/VCMSLCFG\").filterDate(startDate,endDate).select('avg_rad').scaleAndOffset()\n",
    "    print(len(viirs))\n",
    "\n",
    "    ts = viirs.getTimeSeriesByRegion(ee.Reducer.mean(),\n",
    "                              geometry = geometry,\n",
    "                              scale = 10,\n",
    "                              #bestEffort = True,\n",
    "                              maxPixels = 2e9,\n",
    "                              dateFormat = 'YYYYMMdd'\n",
    "                              )\n",
    "    print(len(ts))\n",
    "    viirs_df = geemap.ee_to_pandas(ts)\n",
    "    viirs_df['date'] = pd.to_datetime(viirs_df['date'],infer_datetime_format = True)\n",
    "    return viirs_df"
   ]
  },
  {
   "cell_type": "code",
   "execution_count": 298,
   "id": "7255f496",
   "metadata": {},
   "outputs": [],
   "source": [
    "def get_dnb_regions(collection,startDate,endDate):\n",
    "#get times series of average radiance from viirs dnb monthly composites\n",
    "#startDate,endDate= set_dates()\n",
    "    viirs = ee.ImageCollection(\"NOAA/VIIRS/DNB/MONTHLY_V1/VCMSLCFG\").filterDate(startDate,endDate).scaleAndOffset()\n",
    "    print(len(viirs))\n",
    "\n",
    "    ts = viirs.getTimeSeriesByRegions(ee.Reducer.mean(),\n",
    "                              collection = collection,\n",
    "                              scale = 10,\n",
    "                              #bestEffort = True,\n",
    "                              #maxPixels = 2e9,\n",
    "                              dateFormat = 'YYYYMMdd'\n",
    "                              )\n",
    "    print(len(ts))\n",
    "    viirs_df = geemap.ee_to_pandas(ts)\n",
    "    viirs_df['date'] = pd.to_datetime(viirs_df['date'],infer_datetime_format = True)\n",
    "    return viirs_df\n",
    "\n",
    "def get_dnb_region(geometry,startDate,endDate):\n",
    "#get times series of average radiance from viirs dnb monthly composites\n",
    "#startDate,endDate= set_dates()\n",
    "    viirs = ee.ImageCollection(\"NOAA/VIIRS/DNB/MONTHLY_V1/VCMSLCFG\").filterDate(startDate,endDate).scaleAndOffset()\n",
    "    print(len(viirs))\n",
    "\n",
    "    ts = viirs.getTimeSeriesByRegion(ee.Reducer.mean(),\n",
    "                              geometry = geometry,\n",
    "                              scale = 10,\n",
    "                              #bestEffort = True,\n",
    "                              maxPixels = 2e9,\n",
    "                              dateFormat = 'YYYYMMdd'\n",
    "                              )\n",
    "    print(len(ts))\n",
    "    viirs_df = geemap.ee_to_pandas(ts)\n",
    "    viirs_df['date'] = pd.to_datetime(viirs_df['date'],infer_datetime_format = True)\n",
    "    return viirs_df"
   ]
  },
  {
   "cell_type": "code",
   "execution_count": null,
   "id": "bd93ccb8",
   "metadata": {},
   "outputs": [],
   "source": []
  },
  {
   "cell_type": "markdown",
   "id": "497a61ee",
   "metadata": {},
   "source": [
    "# S2 and  VIIRS FOR NOT ABANDONED VOLOS OBTAINED BY OVERPASS API AND OPENSTREETMAPS\n",
    "\n",
    "## AMA THELW  NA TA FORTWSW PALI EINAI SE CSV EDW\n",
    "volos_turbo_s2 = pd.read_csv('./data/csvs/volos_turbo_s2.csv')\n",
    "\n",
    "volos_turbo_viirs = pd.read_csv('./data/csvs/volos_turbo_viirs.csv')\n",
    "\n",
    "volos_turbo_cfg = pd.read_csv('./data/csvs/turbo_volos_cfg.csv')\n",
    "\n",
    "volos_amenities_cfg  = pd.read_csv('./data/csvs/volos_amenities_cfg.csv')"
   ]
  },
  {
   "cell_type": "code",
   "execution_count": 300,
   "id": "715c658f",
   "metadata": {
    "scrolled": true
   },
   "outputs": [
    {
     "data": {
      "text/html": [
       "<div>\n",
       "<style scoped>\n",
       "    .dataframe tbody tr th:only-of-type {\n",
       "        vertical-align: middle;\n",
       "    }\n",
       "\n",
       "    .dataframe tbody tr th {\n",
       "        vertical-align: top;\n",
       "    }\n",
       "\n",
       "    .dataframe thead th {\n",
       "        text-align: right;\n",
       "    }\n",
       "</style>\n",
       "<table border=\"1\" class=\"dataframe\">\n",
       "  <thead>\n",
       "    <tr style=\"text-align: right;\">\n",
       "      <th></th>\n",
       "      <th>id</th>\n",
       "      <th>@id</th>\n",
       "      <th>access</th>\n",
       "      <th>addr:city</th>\n",
       "      <th>addr:country</th>\n",
       "      <th>addr:housename</th>\n",
       "      <th>addr:housenumber</th>\n",
       "      <th>addr:postcode</th>\n",
       "      <th>addr:street</th>\n",
       "      <th>addr:unit</th>\n",
       "      <th>...</th>\n",
       "      <th>theatre:type</th>\n",
       "      <th>toilets:wheelchair</th>\n",
       "      <th>tourism</th>\n",
       "      <th>tower:type</th>\n",
       "      <th>type</th>\n",
       "      <th>website</th>\n",
       "      <th>wheelchair</th>\n",
       "      <th>wikidata</th>\n",
       "      <th>wikipedia</th>\n",
       "      <th>geometry</th>\n",
       "    </tr>\n",
       "  </thead>\n",
       "  <tbody>\n",
       "    <tr>\n",
       "      <th>0</th>\n",
       "      <td>relation/2821121</td>\n",
       "      <td>relation/2821121</td>\n",
       "      <td>None</td>\n",
       "      <td>None</td>\n",
       "      <td>None</td>\n",
       "      <td>None</td>\n",
       "      <td>None</td>\n",
       "      <td>None</td>\n",
       "      <td>None</td>\n",
       "      <td>None</td>\n",
       "      <td>...</td>\n",
       "      <td>None</td>\n",
       "      <td>None</td>\n",
       "      <td>None</td>\n",
       "      <td>None</td>\n",
       "      <td>multipolygon</td>\n",
       "      <td>None</td>\n",
       "      <td>None</td>\n",
       "      <td>None</td>\n",
       "      <td>None</td>\n",
       "      <td>POLYGON ((22.93043 39.38660, 22.93048 39.38655...</td>\n",
       "    </tr>\n",
       "    <tr>\n",
       "      <th>1</th>\n",
       "      <td>relation/2821125</td>\n",
       "      <td>relation/2821125</td>\n",
       "      <td>None</td>\n",
       "      <td>None</td>\n",
       "      <td>None</td>\n",
       "      <td>None</td>\n",
       "      <td>None</td>\n",
       "      <td>None</td>\n",
       "      <td>None</td>\n",
       "      <td>None</td>\n",
       "      <td>...</td>\n",
       "      <td>None</td>\n",
       "      <td>None</td>\n",
       "      <td>None</td>\n",
       "      <td>None</td>\n",
       "      <td>multipolygon</td>\n",
       "      <td>None</td>\n",
       "      <td>None</td>\n",
       "      <td>None</td>\n",
       "      <td>None</td>\n",
       "      <td>POLYGON ((22.96682 39.35537, 22.96752 39.35464...</td>\n",
       "    </tr>\n",
       "    <tr>\n",
       "      <th>2</th>\n",
       "      <td>relation/3286509</td>\n",
       "      <td>relation/3286509</td>\n",
       "      <td>None</td>\n",
       "      <td>None</td>\n",
       "      <td>None</td>\n",
       "      <td>None</td>\n",
       "      <td>None</td>\n",
       "      <td>None</td>\n",
       "      <td>None</td>\n",
       "      <td>None</td>\n",
       "      <td>...</td>\n",
       "      <td>None</td>\n",
       "      <td>None</td>\n",
       "      <td>None</td>\n",
       "      <td>None</td>\n",
       "      <td>multipolygon</td>\n",
       "      <td>None</td>\n",
       "      <td>None</td>\n",
       "      <td>None</td>\n",
       "      <td>None</td>\n",
       "      <td>POLYGON ((22.92219 39.35849, 22.92179 39.35802...</td>\n",
       "    </tr>\n",
       "    <tr>\n",
       "      <th>3</th>\n",
       "      <td>relation/3286513</td>\n",
       "      <td>relation/3286513</td>\n",
       "      <td>None</td>\n",
       "      <td>None</td>\n",
       "      <td>None</td>\n",
       "      <td>None</td>\n",
       "      <td>None</td>\n",
       "      <td>None</td>\n",
       "      <td>None</td>\n",
       "      <td>None</td>\n",
       "      <td>...</td>\n",
       "      <td>None</td>\n",
       "      <td>None</td>\n",
       "      <td>None</td>\n",
       "      <td>None</td>\n",
       "      <td>multipolygon</td>\n",
       "      <td>None</td>\n",
       "      <td>None</td>\n",
       "      <td>None</td>\n",
       "      <td>None</td>\n",
       "      <td>POLYGON ((22.93658 39.37681, 22.93589 39.37672...</td>\n",
       "    </tr>\n",
       "    <tr>\n",
       "      <th>4</th>\n",
       "      <td>relation/3560382</td>\n",
       "      <td>relation/3560382</td>\n",
       "      <td>None</td>\n",
       "      <td>None</td>\n",
       "      <td>None</td>\n",
       "      <td>None</td>\n",
       "      <td>None</td>\n",
       "      <td>None</td>\n",
       "      <td>None</td>\n",
       "      <td>None</td>\n",
       "      <td>...</td>\n",
       "      <td>None</td>\n",
       "      <td>None</td>\n",
       "      <td>None</td>\n",
       "      <td>None</td>\n",
       "      <td>multipolygon</td>\n",
       "      <td>None</td>\n",
       "      <td>None</td>\n",
       "      <td>None</td>\n",
       "      <td>None</td>\n",
       "      <td>POLYGON ((22.95421 39.37342, 22.95387 39.37381...</td>\n",
       "    </tr>\n",
       "    <tr>\n",
       "      <th>...</th>\n",
       "      <td>...</td>\n",
       "      <td>...</td>\n",
       "      <td>...</td>\n",
       "      <td>...</td>\n",
       "      <td>...</td>\n",
       "      <td>...</td>\n",
       "      <td>...</td>\n",
       "      <td>...</td>\n",
       "      <td>...</td>\n",
       "      <td>...</td>\n",
       "      <td>...</td>\n",
       "      <td>...</td>\n",
       "      <td>...</td>\n",
       "      <td>...</td>\n",
       "      <td>...</td>\n",
       "      <td>...</td>\n",
       "      <td>...</td>\n",
       "      <td>...</td>\n",
       "      <td>...</td>\n",
       "      <td>...</td>\n",
       "      <td>...</td>\n",
       "    </tr>\n",
       "    <tr>\n",
       "      <th>1199</th>\n",
       "      <td>way/243195321</td>\n",
       "      <td>way/243195321</td>\n",
       "      <td>None</td>\n",
       "      <td>None</td>\n",
       "      <td>None</td>\n",
       "      <td>None</td>\n",
       "      <td>None</td>\n",
       "      <td>None</td>\n",
       "      <td>None</td>\n",
       "      <td>None</td>\n",
       "      <td>...</td>\n",
       "      <td>None</td>\n",
       "      <td>None</td>\n",
       "      <td>None</td>\n",
       "      <td>None</td>\n",
       "      <td>None</td>\n",
       "      <td>None</td>\n",
       "      <td>None</td>\n",
       "      <td>None</td>\n",
       "      <td>None</td>\n",
       "      <td>POLYGON ((22.93043 39.38665, 22.93071 39.38680...</td>\n",
       "    </tr>\n",
       "    <tr>\n",
       "      <th>1200</th>\n",
       "      <td>way/581728023</td>\n",
       "      <td>way/581728023</td>\n",
       "      <td>None</td>\n",
       "      <td>None</td>\n",
       "      <td>None</td>\n",
       "      <td>None</td>\n",
       "      <td>None</td>\n",
       "      <td>None</td>\n",
       "      <td>None</td>\n",
       "      <td>None</td>\n",
       "      <td>...</td>\n",
       "      <td>None</td>\n",
       "      <td>None</td>\n",
       "      <td>None</td>\n",
       "      <td>None</td>\n",
       "      <td>None</td>\n",
       "      <td>None</td>\n",
       "      <td>None</td>\n",
       "      <td>None</td>\n",
       "      <td>None</td>\n",
       "      <td>POLYGON ((22.95902 39.35127, 22.95905 39.35125...</td>\n",
       "    </tr>\n",
       "    <tr>\n",
       "      <th>1201</th>\n",
       "      <td>node/1886551394</td>\n",
       "      <td>node/1886551394</td>\n",
       "      <td>None</td>\n",
       "      <td>None</td>\n",
       "      <td>None</td>\n",
       "      <td>None</td>\n",
       "      <td>None</td>\n",
       "      <td>None</td>\n",
       "      <td>None</td>\n",
       "      <td>None</td>\n",
       "      <td>...</td>\n",
       "      <td>None</td>\n",
       "      <td>None</td>\n",
       "      <td>None</td>\n",
       "      <td>None</td>\n",
       "      <td>None</td>\n",
       "      <td>None</td>\n",
       "      <td>None</td>\n",
       "      <td>None</td>\n",
       "      <td>None</td>\n",
       "      <td>POINT (22.93858 39.36584)</td>\n",
       "    </tr>\n",
       "    <tr>\n",
       "      <th>1202</th>\n",
       "      <td>node/2149437197</td>\n",
       "      <td>node/2149437197</td>\n",
       "      <td>None</td>\n",
       "      <td>None</td>\n",
       "      <td>None</td>\n",
       "      <td>7ο Γυμνάσιο Βόλου</td>\n",
       "      <td>None</td>\n",
       "      <td>38333</td>\n",
       "      <td>Χείρωνος</td>\n",
       "      <td>None</td>\n",
       "      <td>...</td>\n",
       "      <td>None</td>\n",
       "      <td>None</td>\n",
       "      <td>None</td>\n",
       "      <td>None</td>\n",
       "      <td>None</td>\n",
       "      <td>None</td>\n",
       "      <td>None</td>\n",
       "      <td>None</td>\n",
       "      <td>None</td>\n",
       "      <td>POINT (22.94066 39.37105)</td>\n",
       "    </tr>\n",
       "    <tr>\n",
       "      <th>1203</th>\n",
       "      <td>node/5577185588</td>\n",
       "      <td>node/5577185588</td>\n",
       "      <td>None</td>\n",
       "      <td>None</td>\n",
       "      <td>None</td>\n",
       "      <td>None</td>\n",
       "      <td>None</td>\n",
       "      <td>None</td>\n",
       "      <td>None</td>\n",
       "      <td>None</td>\n",
       "      <td>...</td>\n",
       "      <td>None</td>\n",
       "      <td>None</td>\n",
       "      <td>None</td>\n",
       "      <td>None</td>\n",
       "      <td>None</td>\n",
       "      <td>None</td>\n",
       "      <td>None</td>\n",
       "      <td>None</td>\n",
       "      <td>None</td>\n",
       "      <td>POINT (22.94021 39.37162)</td>\n",
       "    </tr>\n",
       "  </tbody>\n",
       "</table>\n",
       "<p>1204 rows × 98 columns</p>\n",
       "</div>"
      ],
      "text/plain": [
       "                    id               @id access addr:city addr:country  \\\n",
       "0     relation/2821121  relation/2821121   None      None         None   \n",
       "1     relation/2821125  relation/2821125   None      None         None   \n",
       "2     relation/3286509  relation/3286509   None      None         None   \n",
       "3     relation/3286513  relation/3286513   None      None         None   \n",
       "4     relation/3560382  relation/3560382   None      None         None   \n",
       "...                ...               ...    ...       ...          ...   \n",
       "1199     way/243195321     way/243195321   None      None         None   \n",
       "1200     way/581728023     way/581728023   None      None         None   \n",
       "1201   node/1886551394   node/1886551394   None      None         None   \n",
       "1202   node/2149437197   node/2149437197   None      None         None   \n",
       "1203   node/5577185588   node/5577185588   None      None         None   \n",
       "\n",
       "         addr:housename addr:housenumber addr:postcode addr:street addr:unit  \\\n",
       "0                  None             None          None        None      None   \n",
       "1                  None             None          None        None      None   \n",
       "2                  None             None          None        None      None   \n",
       "3                  None             None          None        None      None   \n",
       "4                  None             None          None        None      None   \n",
       "...                 ...              ...           ...         ...       ...   \n",
       "1199               None             None          None        None      None   \n",
       "1200               None             None          None        None      None   \n",
       "1201               None             None          None        None      None   \n",
       "1202  7ο Γυμνάσιο Βόλου             None         38333    Χείρωνος      None   \n",
       "1203               None             None          None        None      None   \n",
       "\n",
       "      ... theatre:type toilets:wheelchair tourism tower:type          type  \\\n",
       "0     ...         None               None    None       None  multipolygon   \n",
       "1     ...         None               None    None       None  multipolygon   \n",
       "2     ...         None               None    None       None  multipolygon   \n",
       "3     ...         None               None    None       None  multipolygon   \n",
       "4     ...         None               None    None       None  multipolygon   \n",
       "...   ...          ...                ...     ...        ...           ...   \n",
       "1199  ...         None               None    None       None          None   \n",
       "1200  ...         None               None    None       None          None   \n",
       "1201  ...         None               None    None       None          None   \n",
       "1202  ...         None               None    None       None          None   \n",
       "1203  ...         None               None    None       None          None   \n",
       "\n",
       "     website wheelchair wikidata wikipedia  \\\n",
       "0       None       None     None      None   \n",
       "1       None       None     None      None   \n",
       "2       None       None     None      None   \n",
       "3       None       None     None      None   \n",
       "4       None       None     None      None   \n",
       "...      ...        ...      ...       ...   \n",
       "1199    None       None     None      None   \n",
       "1200    None       None     None      None   \n",
       "1201    None       None     None      None   \n",
       "1202    None       None     None      None   \n",
       "1203    None       None     None      None   \n",
       "\n",
       "                                               geometry  \n",
       "0     POLYGON ((22.93043 39.38660, 22.93048 39.38655...  \n",
       "1     POLYGON ((22.96682 39.35537, 22.96752 39.35464...  \n",
       "2     POLYGON ((22.92219 39.35849, 22.92179 39.35802...  \n",
       "3     POLYGON ((22.93658 39.37681, 22.93589 39.37672...  \n",
       "4     POLYGON ((22.95421 39.37342, 22.95387 39.37381...  \n",
       "...                                                 ...  \n",
       "1199  POLYGON ((22.93043 39.38665, 22.93071 39.38680...  \n",
       "1200  POLYGON ((22.95902 39.35127, 22.95905 39.35125...  \n",
       "1201                          POINT (22.93858 39.36584)  \n",
       "1202                          POINT (22.94066 39.37105)  \n",
       "1203                          POINT (22.94021 39.37162)  \n",
       "\n",
       "[1204 rows x 98 columns]"
      ]
     },
     "execution_count": 300,
     "metadata": {},
     "output_type": "execute_result"
    }
   ],
   "source": [
    "import geopandas as gpd\n",
    "volos_turbo = gpd.read_file(\"./data/geojson/turbo_volos_bldgs.geojson\")\n",
    "volos_turbo"
   ]
  },
  {
   "cell_type": "code",
   "execution_count": 301,
   "id": "4fef87f6",
   "metadata": {},
   "outputs": [
    {
     "data": {
      "text/plain": [
       "<ee.featurecollection.FeatureCollection at 0x26b09a13790>"
      ]
     },
     "execution_count": 301,
     "metadata": {},
     "output_type": "execute_result"
    }
   ],
   "source": [
    "volos_turbo_fc=geemap.geopandas_to_ee(volos_turbo)\n",
    "volos_turbo_fc"
   ]
  },
  {
   "cell_type": "code",
   "execution_count": 259,
   "id": "00737662",
   "metadata": {},
   "outputs": [],
   "source": [
    "abandoned_volos_s2=pd.read_csv('./data/csvs/abandoned_volos.csv')"
   ]
  },
  {
   "cell_type": "code",
   "execution_count": 270,
   "id": "5930f735",
   "metadata": {},
   "outputs": [
    {
     "data": {
      "text/html": [
       "<div>\n",
       "<style scoped>\n",
       "    .dataframe tbody tr th:only-of-type {\n",
       "        vertical-align: middle;\n",
       "    }\n",
       "\n",
       "    .dataframe tbody tr th {\n",
       "        vertical-align: top;\n",
       "    }\n",
       "\n",
       "    .dataframe thead th {\n",
       "        text-align: right;\n",
       "    }\n",
       "</style>\n",
       "<table border=\"1\" class=\"dataframe\">\n",
       "  <thead>\n",
       "    <tr style=\"text-align: right;\">\n",
       "      <th></th>\n",
       "      <th>date</th>\n",
       "      <th>cf_cvg</th>\n",
       "      <th>avg_rad</th>\n",
       "      <th>reducer</th>\n",
       "      <th>month</th>\n",
       "      <th>year</th>\n",
       "    </tr>\n",
       "  </thead>\n",
       "  <tbody>\n",
       "    <tr>\n",
       "      <th>0</th>\n",
       "      <td>2019-01-01</td>\n",
       "      <td>10</td>\n",
       "      <td>72.930000</td>\n",
       "      <td>mean</td>\n",
       "      <td>1</td>\n",
       "      <td>2019</td>\n",
       "    </tr>\n",
       "    <tr>\n",
       "      <th>1</th>\n",
       "      <td>2019-01-01</td>\n",
       "      <td>10</td>\n",
       "      <td>72.930000</td>\n",
       "      <td>mean</td>\n",
       "      <td>1</td>\n",
       "      <td>2019</td>\n",
       "    </tr>\n",
       "    <tr>\n",
       "      <th>2</th>\n",
       "      <td>2019-01-01</td>\n",
       "      <td>10</td>\n",
       "      <td>74.989998</td>\n",
       "      <td>mean</td>\n",
       "      <td>1</td>\n",
       "      <td>2019</td>\n",
       "    </tr>\n",
       "    <tr>\n",
       "      <th>3</th>\n",
       "      <td>2019-01-01</td>\n",
       "      <td>10</td>\n",
       "      <td>72.930000</td>\n",
       "      <td>mean</td>\n",
       "      <td>1</td>\n",
       "      <td>2019</td>\n",
       "    </tr>\n",
       "    <tr>\n",
       "      <th>4</th>\n",
       "      <td>2019-02-01</td>\n",
       "      <td>6</td>\n",
       "      <td>82.989998</td>\n",
       "      <td>mean</td>\n",
       "      <td>2</td>\n",
       "      <td>2019</td>\n",
       "    </tr>\n",
       "    <tr>\n",
       "      <th>...</th>\n",
       "      <td>...</td>\n",
       "      <td>...</td>\n",
       "      <td>...</td>\n",
       "      <td>...</td>\n",
       "      <td>...</td>\n",
       "      <td>...</td>\n",
       "    </tr>\n",
       "    <tr>\n",
       "      <th>159</th>\n",
       "      <td>2022-04-01</td>\n",
       "      <td>8</td>\n",
       "      <td>77.650002</td>\n",
       "      <td>mean</td>\n",
       "      <td>4</td>\n",
       "      <td>2022</td>\n",
       "    </tr>\n",
       "    <tr>\n",
       "      <th>160</th>\n",
       "      <td>2022-05-01</td>\n",
       "      <td>14</td>\n",
       "      <td>68.900002</td>\n",
       "      <td>mean</td>\n",
       "      <td>5</td>\n",
       "      <td>2022</td>\n",
       "    </tr>\n",
       "    <tr>\n",
       "      <th>161</th>\n",
       "      <td>2022-05-01</td>\n",
       "      <td>14</td>\n",
       "      <td>68.900002</td>\n",
       "      <td>mean</td>\n",
       "      <td>5</td>\n",
       "      <td>2022</td>\n",
       "    </tr>\n",
       "    <tr>\n",
       "      <th>162</th>\n",
       "      <td>2022-05-01</td>\n",
       "      <td>14</td>\n",
       "      <td>74.459999</td>\n",
       "      <td>mean</td>\n",
       "      <td>5</td>\n",
       "      <td>2022</td>\n",
       "    </tr>\n",
       "    <tr>\n",
       "      <th>163</th>\n",
       "      <td>2022-05-01</td>\n",
       "      <td>14</td>\n",
       "      <td>68.900002</td>\n",
       "      <td>mean</td>\n",
       "      <td>5</td>\n",
       "      <td>2022</td>\n",
       "    </tr>\n",
       "  </tbody>\n",
       "</table>\n",
       "<p>164 rows × 6 columns</p>\n",
       "</div>"
      ],
      "text/plain": [
       "          date  cf_cvg    avg_rad reducer  month  year\n",
       "0   2019-01-01      10  72.930000    mean      1  2019\n",
       "1   2019-01-01      10  72.930000    mean      1  2019\n",
       "2   2019-01-01      10  74.989998    mean      1  2019\n",
       "3   2019-01-01      10  72.930000    mean      1  2019\n",
       "4   2019-02-01       6  82.989998    mean      2  2019\n",
       "..         ...     ...        ...     ...    ...   ...\n",
       "159 2022-04-01       8  77.650002    mean      4  2022\n",
       "160 2022-05-01      14  68.900002    mean      5  2022\n",
       "161 2022-05-01      14  68.900002    mean      5  2022\n",
       "162 2022-05-01      14  74.459999    mean      5  2022\n",
       "163 2022-05-01      14  68.900002    mean      5  2022\n",
       "\n",
       "[164 rows x 6 columns]"
      ]
     },
     "execution_count": 270,
     "metadata": {},
     "output_type": "execute_result"
    }
   ],
   "source": [
    "abandoned_volos_dnb"
   ]
  },
  {
   "cell_type": "code",
   "execution_count": 261,
   "id": "03550d8f",
   "metadata": {},
   "outputs": [],
   "source": [
    "abandoned_volos_dnb  = pd.read_csv('./data/csvs/abandoned_volos_cfg.csv')"
   ]
  },
  {
   "cell_type": "code",
   "execution_count": 269,
   "id": "eb2d6075",
   "metadata": {},
   "outputs": [],
   "source": [
    "abandoned_volos_dnb['date'] = pd.to_datetime(abandoned_volos_dnb['date'], errors='coerce')\n",
    "abandoned_volos_s2['date'] = pd.to_datetime(abandoned_volos_s2['date'] , errors='coerce')\n",
    "abandoned_volos_dnb['month']=abandoned_volos_dnb['date'].dt.month\n",
    "abandoned_volos_dnb['year']=abandoned_volos_dnb['date'].dt.year\n",
    "abandoned_volos_s2['month']=abandoned_volos_s2['date'].dt.month\n",
    "abandoned_volos_s2['year']=abandoned_volos_s2['date'].dt.year"
   ]
  },
  {
   "cell_type": "code",
   "execution_count": 296,
   "id": "5d5e3756",
   "metadata": {},
   "outputs": [],
   "source": [
    "abandoned_volos['label']=1"
   ]
  },
  {
   "cell_type": "code",
   "execution_count": 272,
   "id": "c6a192be",
   "metadata": {},
   "outputs": [],
   "source": [
    "abandoned_volos=abandoned_volos_s2.merge(abandoned_volos_dnb,how='left',on=['year','month'])"
   ]
  },
  {
   "cell_type": "code",
   "execution_count": 285,
   "id": "34fe7727",
   "metadata": {},
   "outputs": [],
   "source": [
    "abandoned_volos_post=  abandoned_volos[408:]\n",
    "abandoned_volos_post=abandoned_volos_post.drop(['date_x','date_y','reducer_x','reducer_y','month','year'],axis=1)"
   ]
  },
  {
   "cell_type": "code",
   "execution_count": 297,
   "id": "a72407b3",
   "metadata": {},
   "outputs": [],
   "source": [
    "abandoned_volos_post['label']=1\n",
    "volos_amenities_dropped_combined['label']=0"
   ]
  },
  {
   "cell_type": "code",
   "execution_count": 298,
   "id": "75e076af",
   "metadata": {},
   "outputs": [],
   "source": [
    "volos_turbo_final=volos_amenities_dropped_combined.append(abandoned_volos_post,ignore_index=True).drop('reducer_x',axis=1)\n",
    "volos_turbo_final.to_csv('./data/csvs/volos_turbo_final.csv',index=False)"
   ]
  },
  {
   "cell_type": "code",
   "execution_count": 299,
   "id": "93dc5331",
   "metadata": {},
   "outputs": [
    {
     "data": {
      "text/html": [
       "<div>\n",
       "<style scoped>\n",
       "    .dataframe tbody tr th:only-of-type {\n",
       "        vertical-align: middle;\n",
       "    }\n",
       "\n",
       "    .dataframe tbody tr th {\n",
       "        vertical-align: top;\n",
       "    }\n",
       "\n",
       "    .dataframe thead th {\n",
       "        text-align: right;\n",
       "    }\n",
       "</style>\n",
       "<table border=\"1\" class=\"dataframe\">\n",
       "  <thead>\n",
       "    <tr style=\"text-align: right;\">\n",
       "      <th></th>\n",
       "      <th>VgNIRBI</th>\n",
       "      <th>PISI</th>\n",
       "      <th>NDVI</th>\n",
       "      <th>EMBI</th>\n",
       "      <th>VrNIRBI</th>\n",
       "      <th>IBI</th>\n",
       "      <th>NDBI</th>\n",
       "      <th>cf_cvg</th>\n",
       "      <th>avg_rad</th>\n",
       "      <th>label</th>\n",
       "    </tr>\n",
       "  </thead>\n",
       "  <tbody>\n",
       "    <tr>\n",
       "      <th>0</th>\n",
       "      <td>-0.156262</td>\n",
       "      <td>0.057925</td>\n",
       "      <td>0.069752</td>\n",
       "      <td>-0.089758</td>\n",
       "      <td>-0.069752</td>\n",
       "      <td>-15.913936</td>\n",
       "      <td>-0.010811</td>\n",
       "      <td>NaN</td>\n",
       "      <td>70.093898</td>\n",
       "      <td>0</td>\n",
       "    </tr>\n",
       "    <tr>\n",
       "      <th>1</th>\n",
       "      <td>-0.163073</td>\n",
       "      <td>0.054353</td>\n",
       "      <td>0.129827</td>\n",
       "      <td>-0.124079</td>\n",
       "      <td>-0.129827</td>\n",
       "      <td>-0.019400</td>\n",
       "      <td>-0.044529</td>\n",
       "      <td>NaN</td>\n",
       "      <td>70.093898</td>\n",
       "      <td>0</td>\n",
       "    </tr>\n",
       "    <tr>\n",
       "      <th>2</th>\n",
       "      <td>-0.152122</td>\n",
       "      <td>0.073200</td>\n",
       "      <td>0.101133</td>\n",
       "      <td>-0.027589</td>\n",
       "      <td>-0.101133</td>\n",
       "      <td>-0.673711</td>\n",
       "      <td>0.087293</td>\n",
       "      <td>NaN</td>\n",
       "      <td>70.093898</td>\n",
       "      <td>0</td>\n",
       "    </tr>\n",
       "    <tr>\n",
       "      <th>3</th>\n",
       "      <td>-0.279784</td>\n",
       "      <td>0.023549</td>\n",
       "      <td>0.288706</td>\n",
       "      <td>-0.124254</td>\n",
       "      <td>-0.288706</td>\n",
       "      <td>0.978246</td>\n",
       "      <td>-0.123526</td>\n",
       "      <td>NaN</td>\n",
       "      <td>70.093898</td>\n",
       "      <td>0</td>\n",
       "    </tr>\n",
       "    <tr>\n",
       "      <th>4</th>\n",
       "      <td>-0.226384</td>\n",
       "      <td>0.048742</td>\n",
       "      <td>0.194209</td>\n",
       "      <td>-0.024817</td>\n",
       "      <td>-0.194209</td>\n",
       "      <td>-2.934090</td>\n",
       "      <td>0.011797</td>\n",
       "      <td>NaN</td>\n",
       "      <td>70.093898</td>\n",
       "      <td>0</td>\n",
       "    </tr>\n",
       "    <tr>\n",
       "      <th>...</th>\n",
       "      <td>...</td>\n",
       "      <td>...</td>\n",
       "      <td>...</td>\n",
       "      <td>...</td>\n",
       "      <td>...</td>\n",
       "      <td>...</td>\n",
       "      <td>...</td>\n",
       "      <td>...</td>\n",
       "      <td>...</td>\n",
       "      <td>...</td>\n",
       "    </tr>\n",
       "    <tr>\n",
       "      <th>9821</th>\n",
       "      <td>-0.235897</td>\n",
       "      <td>0.019614</td>\n",
       "      <td>0.178426</td>\n",
       "      <td>-0.045459</td>\n",
       "      <td>-0.178426</td>\n",
       "      <td>2.214779</td>\n",
       "      <td>0.003865</td>\n",
       "      <td>14.0</td>\n",
       "      <td>68.900002</td>\n",
       "      <td>1</td>\n",
       "    </tr>\n",
       "    <tr>\n",
       "      <th>9822</th>\n",
       "      <td>-0.219015</td>\n",
       "      <td>0.029755</td>\n",
       "      <td>0.152598</td>\n",
       "      <td>-0.043590</td>\n",
       "      <td>-0.152598</td>\n",
       "      <td>-3.224787</td>\n",
       "      <td>0.018013</td>\n",
       "      <td>14.0</td>\n",
       "      <td>68.900002</td>\n",
       "      <td>1</td>\n",
       "    </tr>\n",
       "    <tr>\n",
       "      <th>9823</th>\n",
       "      <td>-0.219015</td>\n",
       "      <td>0.029755</td>\n",
       "      <td>0.152598</td>\n",
       "      <td>-0.043590</td>\n",
       "      <td>-0.152598</td>\n",
       "      <td>-3.224787</td>\n",
       "      <td>0.018013</td>\n",
       "      <td>14.0</td>\n",
       "      <td>68.900002</td>\n",
       "      <td>1</td>\n",
       "    </tr>\n",
       "    <tr>\n",
       "      <th>9824</th>\n",
       "      <td>-0.219015</td>\n",
       "      <td>0.029755</td>\n",
       "      <td>0.152598</td>\n",
       "      <td>-0.043590</td>\n",
       "      <td>-0.152598</td>\n",
       "      <td>-3.224787</td>\n",
       "      <td>0.018013</td>\n",
       "      <td>14.0</td>\n",
       "      <td>74.459999</td>\n",
       "      <td>1</td>\n",
       "    </tr>\n",
       "    <tr>\n",
       "      <th>9825</th>\n",
       "      <td>-0.219015</td>\n",
       "      <td>0.029755</td>\n",
       "      <td>0.152598</td>\n",
       "      <td>-0.043590</td>\n",
       "      <td>-0.152598</td>\n",
       "      <td>-3.224787</td>\n",
       "      <td>0.018013</td>\n",
       "      <td>14.0</td>\n",
       "      <td>68.900002</td>\n",
       "      <td>1</td>\n",
       "    </tr>\n",
       "  </tbody>\n",
       "</table>\n",
       "<p>9826 rows × 10 columns</p>\n",
       "</div>"
      ],
      "text/plain": [
       "       VgNIRBI      PISI      NDVI      EMBI   VrNIRBI        IBI      NDBI  \\\n",
       "0    -0.156262  0.057925  0.069752 -0.089758 -0.069752 -15.913936 -0.010811   \n",
       "1    -0.163073  0.054353  0.129827 -0.124079 -0.129827  -0.019400 -0.044529   \n",
       "2    -0.152122  0.073200  0.101133 -0.027589 -0.101133  -0.673711  0.087293   \n",
       "3    -0.279784  0.023549  0.288706 -0.124254 -0.288706   0.978246 -0.123526   \n",
       "4    -0.226384  0.048742  0.194209 -0.024817 -0.194209  -2.934090  0.011797   \n",
       "...        ...       ...       ...       ...       ...        ...       ...   \n",
       "9821 -0.235897  0.019614  0.178426 -0.045459 -0.178426   2.214779  0.003865   \n",
       "9822 -0.219015  0.029755  0.152598 -0.043590 -0.152598  -3.224787  0.018013   \n",
       "9823 -0.219015  0.029755  0.152598 -0.043590 -0.152598  -3.224787  0.018013   \n",
       "9824 -0.219015  0.029755  0.152598 -0.043590 -0.152598  -3.224787  0.018013   \n",
       "9825 -0.219015  0.029755  0.152598 -0.043590 -0.152598  -3.224787  0.018013   \n",
       "\n",
       "      cf_cvg    avg_rad  label  \n",
       "0        NaN  70.093898      0  \n",
       "1        NaN  70.093898      0  \n",
       "2        NaN  70.093898      0  \n",
       "3        NaN  70.093898      0  \n",
       "4        NaN  70.093898      0  \n",
       "...      ...        ...    ...  \n",
       "9821    14.0  68.900002      1  \n",
       "9822    14.0  68.900002      1  \n",
       "9823    14.0  68.900002      1  \n",
       "9824    14.0  74.459999      1  \n",
       "9825    14.0  68.900002      1  \n",
       "\n",
       "[9826 rows x 10 columns]"
      ]
     },
     "execution_count": 299,
     "metadata": {},
     "output_type": "execute_result"
    }
   ],
   "source": []
  },
  {
   "cell_type": "code",
   "execution_count": 263,
   "id": "f4fc5818",
   "metadata": {},
   "outputs": [
    {
     "data": {
      "text/plain": [
       "66.35499989114156"
      ]
     },
     "execution_count": 263,
     "metadata": {},
     "output_type": "execute_result"
    }
   ],
   "source": [
    "abandoned_volos_dnb['avg_rad'].mean()"
   ]
  },
  {
   "cell_type": "code",
   "execution_count": 353,
   "id": "69e64d36",
   "metadata": {},
   "outputs": [
    {
     "data": {
      "text/plain": [
       "173.55999755859375"
      ]
     },
     "execution_count": 353,
     "metadata": {},
     "output_type": "execute_result"
    }
   ],
   "source": [
    "volos_amenities_viirs['avg_rad'].max()"
   ]
  },
  {
   "cell_type": "code",
   "execution_count": 352,
   "id": "d763a8cc",
   "metadata": {},
   "outputs": [
    {
     "data": {
      "text/plain": [
       "173.55999755859375"
      ]
     },
     "execution_count": 352,
     "metadata": {},
     "output_type": "execute_result"
    }
   ],
   "source": [
    "volos_turbo_dnb = pd.read_csv('./data/csvs/turbo_volos_cfg.csv')\n",
    "volos_turbo_dnb['avg_rad'].max()"
   ]
  },
  {
   "cell_type": "code",
   "execution_count": 334,
   "id": "87358884",
   "metadata": {},
   "outputs": [
    {
     "data": {
      "text/plain": [
       "0.812531367304803"
      ]
     },
     "execution_count": 334,
     "metadata": {},
     "output_type": "execute_result"
    }
   ],
   "source": [
    "volos_amenities_s2['NDVI'].max()"
   ]
  },
  {
   "cell_type": "code",
   "execution_count": 347,
   "id": "a34313df",
   "metadata": {
    "scrolled": true
   },
   "outputs": [
    {
     "data": {
      "text/plain": [
       "0.013065614227895476"
      ]
     },
     "execution_count": 347,
     "metadata": {},
     "output_type": "execute_result"
    }
   ],
   "source": [
    "abandoned_volos_s2['NDBI'].mean()"
   ]
  },
  {
   "cell_type": "code",
   "execution_count": 349,
   "id": "c0de0a2e",
   "metadata": {},
   "outputs": [
    {
     "data": {
      "text/plain": [
       "0.021370779222527878"
      ]
     },
     "execution_count": 349,
     "metadata": {},
     "output_type": "execute_result"
    }
   ],
   "source": [
    "volos_turbo_s2 = pd.read_csv('./data/csvs/volos_turbo_s2.csv')\n",
    "volos_turbo_s2['NDBI'].mean()"
   ]
  },
  {
   "cell_type": "code",
   "execution_count": 337,
   "id": "daf365da",
   "metadata": {},
   "outputs": [
    {
     "data": {
      "text/plain": [
       "array(['university', 'prison', 'parking', 'parking_space', 'library',\n",
       "       'courthouse', 'theatre', 'bank', 'place_of_worship', 'school',\n",
       "       'cafe', 'arts_centre', 'music_school', 'cinema', 'bus_station',\n",
       "       'townhall', 'community_centre', 'dressing_room', 'kindergarten',\n",
       "       'hospital', 'grave_yard', 'post_office', 'bar', 'fountain',\n",
       "       'police', 'social_facility', 'childcare', 'nightclub',\n",
       "       'marketplace', 'clinic', 'restaurant', 'monastery',\n",
       "       'social_centre', 'fire_station', 'telephone', 'car_rental',\n",
       "       'fast_food', 'pharmacy', 'taxi', 'fuel', 'post_box', 'recycling',\n",
       "       'pub', 'food_court', 'atm', 'doctors', 'ferry_terminal',\n",
       "       'ice_cream', 'shelter', 'parking_entrance', 'toilets',\n",
       "       'drinking_water', 'bench', 'dojo', 'dentist', 'studio',\n",
       "       'charging_station', 'prep_school', 'public_bookcase'], dtype=object)"
      ]
     },
     "execution_count": 337,
     "metadata": {},
     "output_type": "execute_result"
    }
   ],
   "source": [
    "volos_amenities['amenity'].unique()"
   ]
  },
  {
   "cell_type": "code",
   "execution_count": 42,
   "id": "2b070d82",
   "metadata": {},
   "outputs": [],
   "source": [
    "volos_turbo_s2.to_csv('./data/csvs/volos_turbo_s2.csv')"
   ]
  },
  {
   "cell_type": "code",
   "execution_count": null,
   "id": "75807c11",
   "metadata": {},
   "outputs": [],
   "source": []
  },
  {
   "cell_type": "code",
   "execution_count": 159,
   "id": "407b3cf5",
   "metadata": {},
   "outputs": [],
   "source": [
    "volos_turbo_s2 = pd.read_csv('./data/csvs/volos_turbo_s2.csv')\n",
    "volos_turbo_viirs = pd.read_csv('./data/csvs/volos_turbo_viirs.csv')"
   ]
  },
  {
   "cell_type": "code",
   "execution_count": 51,
   "id": "cce3c590",
   "metadata": {},
   "outputs": [],
   "source": [
    "#volos_turbo_viirs = pd.read_csv('./data/csvs/volos_turbo_viirs.csv')"
   ]
  },
  {
   "cell_type": "code",
   "execution_count": 5,
   "id": "0cbdda76",
   "metadata": {},
   "outputs": [
    {
     "data": {
      "text/plain": [
       "array(['grandstand', 'yes', 'retail', 'school', 'apartments', 'public',\n",
       "       'warehouse', 'college', 'shed', 'office', 'university', 'service',\n",
       "       'church', 'hospital', 'industrial', 'roof', 'storage_tank',\n",
       "       'terrace', 'university_department', 'residential', 'commercial',\n",
       "       'kindergarten', 'house', 'hotel', 'government', 'train_station',\n",
       "       'temple', 'transportation', 'greenhouse', 'supermarket', 'civic'],\n",
       "      dtype=object)"
      ]
     },
     "execution_count": 5,
     "metadata": {},
     "output_type": "execute_result"
    }
   ],
   "source": [
    "volos_turbo_s2['building'].unique()"
   ]
  },
  {
   "cell_type": "code",
   "execution_count": 60,
   "id": "c6c01b8e",
   "metadata": {},
   "outputs": [],
   "source": [
    "residential = volos_turbo_viirs[volos_turbo_viirs['building']=='residential']\n",
    "apartments = volos_turbo_viirs[volos_turbo_viirs['building']=='apartments']\n",
    "public = volos_turbo_viirs[volos_turbo_viirs['building']=='public']\n",
    "supermarket = volos_turbo_viirs[volos_turbo_viirs['building']=='supermarket']\n",
    "commercial = volos_turbo_viirs[volos_turbo_viirs['building']=='commercial']\n",
    "retail = volos_turbo_viirs[volos_turbo_viirs['building']=='retail']\n",
    "house = volos_turbo_viirs[volos_turbo_viirs['building']=='house']\n",
    "office = volos_turbo_viirs[volos_turbo_viirs['building']=='office']\n",
    "service = volos_turbo_viirs[volos_turbo_viirs['building']=='service']"
   ]
  },
  {
   "cell_type": "code",
   "execution_count": 7,
   "id": "4399e7a1",
   "metadata": {},
   "outputs": [
    {
     "data": {
      "text/plain": [
       "37.92609117366532"
      ]
     },
     "execution_count": 7,
     "metadata": {},
     "output_type": "execute_result"
    }
   ],
   "source": [
    "residential['avg_rad'].mean()"
   ]
  },
  {
   "cell_type": "code",
   "execution_count": 79,
   "id": "b6577687",
   "metadata": {},
   "outputs": [
    {
     "data": {
      "text/plain": [
       "64.45204523352751"
      ]
     },
     "execution_count": 79,
     "metadata": {},
     "output_type": "execute_result"
    }
   ],
   "source": [
    "apartments['avg_rad'].mean()"
   ]
  },
  {
   "cell_type": "code",
   "execution_count": 78,
   "id": "8ea8840c",
   "metadata": {},
   "outputs": [
    {
     "data": {
      "text/plain": [
       "76.37504849321616"
      ]
     },
     "execution_count": 78,
     "metadata": {},
     "output_type": "execute_result"
    }
   ],
   "source": [
    "public['avg_rad'].mean()"
   ]
  },
  {
   "cell_type": "code",
   "execution_count": 82,
   "id": "41943386",
   "metadata": {},
   "outputs": [
    {
     "data": {
      "text/plain": [
       "43.10411704541553"
      ]
     },
     "execution_count": 82,
     "metadata": {},
     "output_type": "execute_result"
    }
   ],
   "source": [
    "house['avg_rad'].mean()"
   ]
  },
  {
   "cell_type": "code",
   "execution_count": 83,
   "id": "e10eb019",
   "metadata": {},
   "outputs": [
    {
     "data": {
      "text/plain": [
       "66.82020926060162"
      ]
     },
     "execution_count": 83,
     "metadata": {},
     "output_type": "execute_result"
    }
   ],
   "source": [
    "commercial['avg_rad'].mean()"
   ]
  },
  {
   "cell_type": "code",
   "execution_count": 86,
   "id": "cc6abd86",
   "metadata": {},
   "outputs": [
    {
     "data": {
      "text/plain": [
       "99.86758928421513"
      ]
     },
     "execution_count": 86,
     "metadata": {},
     "output_type": "execute_result"
    }
   ],
   "source": [
    "retail['avg_rad'].mean()"
   ]
  },
  {
   "cell_type": "code",
   "execution_count": 89,
   "id": "d0f3115f",
   "metadata": {},
   "outputs": [
    {
     "data": {
      "text/plain": [
       "44.243658763606376"
      ]
     },
     "execution_count": 89,
     "metadata": {},
     "output_type": "execute_result"
    }
   ],
   "source": [
    "supermarket['avg_rad'].mean()"
   ]
  },
  {
   "cell_type": "code",
   "execution_count": 92,
   "id": "221d44a6",
   "metadata": {},
   "outputs": [
    {
     "data": {
      "text/plain": [
       "101.63816670809533"
      ]
     },
     "execution_count": 92,
     "metadata": {},
     "output_type": "execute_result"
    }
   ],
   "source": [
    "service['avg_rad'].mean()"
   ]
  },
  {
   "cell_type": "code",
   "execution_count": 95,
   "id": "0483b9e3",
   "metadata": {
    "scrolled": true
   },
   "outputs": [
    {
     "data": {
      "text/plain": [
       "date                38\n",
       "avg_rad            226\n",
       "building:levels      2\n",
       "id                  13\n",
       "@id                 13\n",
       "reducer              1\n",
       "type                 1\n",
       "building             1\n",
       "dtype: int64"
      ]
     },
     "execution_count": 95,
     "metadata": {},
     "output_type": "execute_result"
    }
   ],
   "source": [
    "retail.nunique()"
   ]
  },
  {
   "cell_type": "markdown",
   "id": "fb58273b",
   "metadata": {},
   "source": [
    "# S2  AND  VIIRS FOR AMENITIES  VOLOS  (CAFE KLP)\n",
    "\n",
    "volos_amenities_s2 =  pd.read_csv('./data/csvs/volos_amenities_s2.csv')\n",
    "volos_amenities_viirs =  pd.read_csv('./data/csvs/volos_amenities_viirs.csv')"
   ]
  },
  {
   "cell_type": "code",
   "execution_count": 244,
   "id": "8d475057",
   "metadata": {},
   "outputs": [],
   "source": [
    "volos_turbo_s2 = pd.read_csv('./data/csvs/volos_turbo_s2.csv')\n",
    "\n",
    "#volos_turbo_viirs = pd.read_csv('./data/csvs/volos_turbo_viirs.csv')\n",
    "\n",
    "volos_turbo_cfg = pd.read_csv('./data/csvs/turbo_volos_cfg.csv')\n",
    "\n",
    "volos_amenities_cfg  = pd.read_csv('./data/csvs/volos_amenities_cfg.csv')"
   ]
  },
  {
   "cell_type": "code",
   "execution_count": 245,
   "id": "d46a9a20",
   "metadata": {},
   "outputs": [],
   "source": [
    "volos_turbo_s2_post=volos_turbo_s2[28896:]"
   ]
  },
  {
   "cell_type": "code",
   "execution_count": 221,
   "id": "1a067557",
   "metadata": {},
   "outputs": [],
   "source": [
    "volos_turbo_cfg_post=volos_turbo_cfg[28896:]\n"
   ]
  },
  {
   "cell_type": "code",
   "execution_count": 248,
   "id": "f977ed3d",
   "metadata": {},
   "outputs": [],
   "source": [
    "volos_turbo_dropped_combined=volos_turbo_s2_post.merge(volos_turbo_cfg_post,how='left',on=['year','month','building','id'])"
   ]
  },
  {
   "cell_type": "code",
   "execution_count": 250,
   "id": "6e9eb037",
   "metadata": {},
   "outputs": [
    {
     "data": {
      "text/plain": [
       "Index(['Unnamed: 0', 'date_x', 'VgNIRBI', 'building:levels_x', 'PISI',\n",
       "       'type_x', 'NDVI', 'building', 'EMBI', 'VrNIRBI', 'IBI', 'NDBI', 'id',\n",
       "       '@id_x', 'reducer_x', 'month', 'year', 'date_y', 'cf_cvg', 'avg_rad',\n",
       "       'building:levels_y', '@id_y', 'reducer_y', 'type_y'],\n",
       "      dtype='object')"
      ]
     },
     "execution_count": 250,
     "metadata": {},
     "output_type": "execute_result"
    }
   ],
   "source": [
    "volos_turbo_dropped_combined.columns"
   ]
  },
  {
   "cell_type": "code",
   "execution_count": 251,
   "id": "f0671328",
   "metadata": {},
   "outputs": [],
   "source": [
    "volos_turbo_dropped_combined=volos_turbo_dropped_combined.drop(['Unnamed: 0', 'date_x','building:levels_x','type_x','id',\n",
    "       '@id_x', 'reducer_x', 'month', 'year', 'date_y','building:levels_y', '@id_y', 'reducer_y', 'type_y'],axis=1)"
   ]
  },
  {
   "cell_type": "code",
   "execution_count": 254,
   "id": "2704ad13",
   "metadata": {},
   "outputs": [],
   "source": [
    "volos_turbo_dropped_combined=volos_turbo_dropped_combined.drop('building',axis=1)\n",
    "volos_amenities_dropped_combined=volos_amenities_dropped_combined.drop('amenity',axis=1)"
   ]
  },
  {
   "cell_type": "code",
   "execution_count": 257,
   "id": "c3606533",
   "metadata": {},
   "outputs": [],
   "source": [
    "volos_combined=volos_turbo_dropped_combined.append(volos_amenities_dropped_combined,ignore_index=False).drop('reducer_x',axis=1)"
   ]
  },
  {
   "cell_type": "code",
   "execution_count": null,
   "id": "d608e81d",
   "metadata": {},
   "outputs": [],
   "source": []
  },
  {
   "cell_type": "code",
   "execution_count": 258,
   "id": "7ce240a5",
   "metadata": {},
   "outputs": [
    {
     "data": {
      "text/html": [
       "<div>\n",
       "<style scoped>\n",
       "    .dataframe tbody tr th:only-of-type {\n",
       "        vertical-align: middle;\n",
       "    }\n",
       "\n",
       "    .dataframe tbody tr th {\n",
       "        vertical-align: top;\n",
       "    }\n",
       "\n",
       "    .dataframe thead th {\n",
       "        text-align: right;\n",
       "    }\n",
       "</style>\n",
       "<table border=\"1\" class=\"dataframe\">\n",
       "  <thead>\n",
       "    <tr style=\"text-align: right;\">\n",
       "      <th></th>\n",
       "      <th>VgNIRBI</th>\n",
       "      <th>PISI</th>\n",
       "      <th>NDVI</th>\n",
       "      <th>EMBI</th>\n",
       "      <th>VrNIRBI</th>\n",
       "      <th>IBI</th>\n",
       "      <th>NDBI</th>\n",
       "      <th>cf_cvg</th>\n",
       "      <th>avg_rad</th>\n",
       "    </tr>\n",
       "  </thead>\n",
       "  <tbody>\n",
       "    <tr>\n",
       "      <th>0</th>\n",
       "      <td>-0.131262</td>\n",
       "      <td>0.081178</td>\n",
       "      <td>0.090647</td>\n",
       "      <td>-0.016430</td>\n",
       "      <td>-0.090647</td>\n",
       "      <td>0.539249</td>\n",
       "      <td>0.071293</td>\n",
       "      <td>5.426367</td>\n",
       "      <td>38.045962</td>\n",
       "    </tr>\n",
       "    <tr>\n",
       "      <th>1</th>\n",
       "      <td>-0.289961</td>\n",
       "      <td>0.027756</td>\n",
       "      <td>0.157727</td>\n",
       "      <td>-0.006732</td>\n",
       "      <td>-0.157727</td>\n",
       "      <td>0.927303</td>\n",
       "      <td>-0.038643</td>\n",
       "      <td>5.000000</td>\n",
       "      <td>37.900002</td>\n",
       "    </tr>\n",
       "    <tr>\n",
       "      <th>2</th>\n",
       "      <td>-0.375650</td>\n",
       "      <td>0.008394</td>\n",
       "      <td>0.279140</td>\n",
       "      <td>0.023299</td>\n",
       "      <td>-0.279140</td>\n",
       "      <td>-1.146301</td>\n",
       "      <td>-0.052925</td>\n",
       "      <td>4.926482</td>\n",
       "      <td>15.781851</td>\n",
       "    </tr>\n",
       "    <tr>\n",
       "      <th>3</th>\n",
       "      <td>-0.169644</td>\n",
       "      <td>0.056583</td>\n",
       "      <td>0.335052</td>\n",
       "      <td>0.064807</td>\n",
       "      <td>-0.335052</td>\n",
       "      <td>16.834263</td>\n",
       "      <td>0.136629</td>\n",
       "      <td>5.000000</td>\n",
       "      <td>114.230003</td>\n",
       "    </tr>\n",
       "    <tr>\n",
       "      <th>4</th>\n",
       "      <td>-0.163073</td>\n",
       "      <td>0.054353</td>\n",
       "      <td>0.129827</td>\n",
       "      <td>-0.124079</td>\n",
       "      <td>-0.129827</td>\n",
       "      <td>-0.019400</td>\n",
       "      <td>-0.044529</td>\n",
       "      <td>6.000000</td>\n",
       "      <td>45.320000</td>\n",
       "    </tr>\n",
       "    <tr>\n",
       "      <th>...</th>\n",
       "      <td>...</td>\n",
       "      <td>...</td>\n",
       "      <td>...</td>\n",
       "      <td>...</td>\n",
       "      <td>...</td>\n",
       "      <td>...</td>\n",
       "      <td>...</td>\n",
       "      <td>...</td>\n",
       "      <td>...</td>\n",
       "    </tr>\n",
       "    <tr>\n",
       "      <th>9549</th>\n",
       "      <td>-0.323125</td>\n",
       "      <td>-0.015730</td>\n",
       "      <td>0.342754</td>\n",
       "      <td>-0.131719</td>\n",
       "      <td>-0.342754</td>\n",
       "      <td>1.879394</td>\n",
       "      <td>-0.152741</td>\n",
       "      <td>15.000000</td>\n",
       "      <td>7.660000</td>\n",
       "    </tr>\n",
       "    <tr>\n",
       "      <th>9550</th>\n",
       "      <td>-0.167445</td>\n",
       "      <td>0.069997</td>\n",
       "      <td>0.156031</td>\n",
       "      <td>-0.057795</td>\n",
       "      <td>-0.156031</td>\n",
       "      <td>-11.247508</td>\n",
       "      <td>0.022907</td>\n",
       "      <td>15.000000</td>\n",
       "      <td>7.660000</td>\n",
       "    </tr>\n",
       "    <tr>\n",
       "      <th>9551</th>\n",
       "      <td>-0.280998</td>\n",
       "      <td>0.005385</td>\n",
       "      <td>0.178769</td>\n",
       "      <td>-0.023882</td>\n",
       "      <td>-0.178769</td>\n",
       "      <td>-0.862384</td>\n",
       "      <td>-0.009727</td>\n",
       "      <td>14.000000</td>\n",
       "      <td>41.459999</td>\n",
       "    </tr>\n",
       "    <tr>\n",
       "      <th>9552</th>\n",
       "      <td>-0.298744</td>\n",
       "      <td>-0.019351</td>\n",
       "      <td>0.221049</td>\n",
       "      <td>-0.024372</td>\n",
       "      <td>-0.221049</td>\n",
       "      <td>-0.514179</td>\n",
       "      <td>-0.018378</td>\n",
       "      <td>14.000000</td>\n",
       "      <td>41.459999</td>\n",
       "    </tr>\n",
       "    <tr>\n",
       "      <th>9553</th>\n",
       "      <td>-0.087048</td>\n",
       "      <td>0.103465</td>\n",
       "      <td>0.045282</td>\n",
       "      <td>-0.150802</td>\n",
       "      <td>-0.045282</td>\n",
       "      <td>-0.014899</td>\n",
       "      <td>-0.019654</td>\n",
       "      <td>13.000000</td>\n",
       "      <td>101.489998</td>\n",
       "    </tr>\n",
       "  </tbody>\n",
       "</table>\n",
       "<p>30022 rows × 9 columns</p>\n",
       "</div>"
      ],
      "text/plain": [
       "       VgNIRBI      PISI      NDVI      EMBI   VrNIRBI        IBI      NDBI  \\\n",
       "0    -0.131262  0.081178  0.090647 -0.016430 -0.090647   0.539249  0.071293   \n",
       "1    -0.289961  0.027756  0.157727 -0.006732 -0.157727   0.927303 -0.038643   \n",
       "2    -0.375650  0.008394  0.279140  0.023299 -0.279140  -1.146301 -0.052925   \n",
       "3    -0.169644  0.056583  0.335052  0.064807 -0.335052  16.834263  0.136629   \n",
       "4    -0.163073  0.054353  0.129827 -0.124079 -0.129827  -0.019400 -0.044529   \n",
       "...        ...       ...       ...       ...       ...        ...       ...   \n",
       "9549 -0.323125 -0.015730  0.342754 -0.131719 -0.342754   1.879394 -0.152741   \n",
       "9550 -0.167445  0.069997  0.156031 -0.057795 -0.156031 -11.247508  0.022907   \n",
       "9551 -0.280998  0.005385  0.178769 -0.023882 -0.178769  -0.862384 -0.009727   \n",
       "9552 -0.298744 -0.019351  0.221049 -0.024372 -0.221049  -0.514179 -0.018378   \n",
       "9553 -0.087048  0.103465  0.045282 -0.150802 -0.045282  -0.014899 -0.019654   \n",
       "\n",
       "         cf_cvg     avg_rad  \n",
       "0      5.426367   38.045962  \n",
       "1      5.000000   37.900002  \n",
       "2      4.926482   15.781851  \n",
       "3      5.000000  114.230003  \n",
       "4      6.000000   45.320000  \n",
       "...         ...         ...  \n",
       "9549  15.000000    7.660000  \n",
       "9550  15.000000    7.660000  \n",
       "9551  14.000000   41.459999  \n",
       "9552  14.000000   41.459999  \n",
       "9553  13.000000  101.489998  \n",
       "\n",
       "[30022 rows x 9 columns]"
      ]
     },
     "execution_count": 258,
     "metadata": {},
     "output_type": "execute_result"
    }
   ],
   "source": [
    "volos_combined.to_csv('./data/csvs/volos_combined')"
   ]
  },
  {
   "cell_type": "code",
   "execution_count": 246,
   "id": "18fb32c9",
   "metadata": {
    "scrolled": true
   },
   "outputs": [
    {
     "name": "stderr",
     "output_type": "stream",
     "text": [
      "C:\\Users\\Christos\\AppData\\Local\\Temp/ipykernel_10812/2953880348.py:1: SettingWithCopyWarning: \n",
      "A value is trying to be set on a copy of a slice from a DataFrame.\n",
      "Try using .loc[row_indexer,col_indexer] = value instead\n",
      "\n",
      "See the caveats in the documentation: https://pandas.pydata.org/pandas-docs/stable/user_guide/indexing.html#returning-a-view-versus-a-copy\n",
      "  volos_turbo_cfg_post['date'] = pd.to_datetime(volos_turbo_cfg_post['date'], errors='coerce')\n",
      "C:\\Users\\Christos\\AppData\\Local\\Temp/ipykernel_10812/2953880348.py:2: SettingWithCopyWarning: \n",
      "A value is trying to be set on a copy of a slice from a DataFrame.\n",
      "Try using .loc[row_indexer,col_indexer] = value instead\n",
      "\n",
      "See the caveats in the documentation: https://pandas.pydata.org/pandas-docs/stable/user_guide/indexing.html#returning-a-view-versus-a-copy\n",
      "  volos_turbo_s2_post['date'] = pd.to_datetime(volos_turbo_s2_post['date'] , errors='coerce')\n",
      "C:\\Users\\Christos\\AppData\\Local\\Temp/ipykernel_10812/2953880348.py:3: SettingWithCopyWarning: \n",
      "A value is trying to be set on a copy of a slice from a DataFrame.\n",
      "Try using .loc[row_indexer,col_indexer] = value instead\n",
      "\n",
      "See the caveats in the documentation: https://pandas.pydata.org/pandas-docs/stable/user_guide/indexing.html#returning-a-view-versus-a-copy\n",
      "  volos_turbo_cfg_post['month']=volos_turbo_cfg_post['date'].dt.month\n",
      "C:\\Users\\Christos\\AppData\\Local\\Temp/ipykernel_10812/2953880348.py:4: SettingWithCopyWarning: \n",
      "A value is trying to be set on a copy of a slice from a DataFrame.\n",
      "Try using .loc[row_indexer,col_indexer] = value instead\n",
      "\n",
      "See the caveats in the documentation: https://pandas.pydata.org/pandas-docs/stable/user_guide/indexing.html#returning-a-view-versus-a-copy\n",
      "  volos_turbo_cfg_post['year']=volos_turbo_cfg_post['date'].dt.year\n",
      "C:\\Users\\Christos\\AppData\\Local\\Temp/ipykernel_10812/2953880348.py:5: SettingWithCopyWarning: \n",
      "A value is trying to be set on a copy of a slice from a DataFrame.\n",
      "Try using .loc[row_indexer,col_indexer] = value instead\n",
      "\n",
      "See the caveats in the documentation: https://pandas.pydata.org/pandas-docs/stable/user_guide/indexing.html#returning-a-view-versus-a-copy\n",
      "  volos_turbo_s2_post['month']=volos_turbo_s2_post['date'].dt.month\n",
      "C:\\Users\\Christos\\AppData\\Local\\Temp/ipykernel_10812/2953880348.py:6: SettingWithCopyWarning: \n",
      "A value is trying to be set on a copy of a slice from a DataFrame.\n",
      "Try using .loc[row_indexer,col_indexer] = value instead\n",
      "\n",
      "See the caveats in the documentation: https://pandas.pydata.org/pandas-docs/stable/user_guide/indexing.html#returning-a-view-versus-a-copy\n",
      "  volos_turbo_s2_post['year']=volos_turbo_s2_post['date'].dt.year\n"
     ]
    }
   ],
   "source": [
    "volos_turbo_cfg_post['date'] = pd.to_datetime(volos_turbo_cfg_post['date'], errors='coerce')\n",
    "volos_turbo_s2_post['date'] = pd.to_datetime(volos_turbo_s2_post['date'] , errors='coerce')\n",
    "volos_turbo_cfg_post['month']=volos_turbo_cfg_post['date'].dt.month\n",
    "volos_turbo_cfg_post['year']=volos_turbo_cfg_post['date'].dt.year\n",
    "volos_turbo_s2_post['month']=volos_turbo_s2_post['date'].dt.month\n",
    "volos_turbo_s2_post['year']=volos_turbo_s2_post['date'].dt.year"
   ]
  },
  {
   "cell_type": "code",
   "execution_count": 86,
   "id": "d30d137b",
   "metadata": {
    "scrolled": true
   },
   "outputs": [
    {
     "data": {
      "text/html": [
       "<div>\n",
       "<style scoped>\n",
       "    .dataframe tbody tr th:only-of-type {\n",
       "        vertical-align: middle;\n",
       "    }\n",
       "\n",
       "    .dataframe tbody tr th {\n",
       "        vertical-align: top;\n",
       "    }\n",
       "\n",
       "    .dataframe thead th {\n",
       "        text-align: right;\n",
       "    }\n",
       "</style>\n",
       "<table border=\"1\" class=\"dataframe\">\n",
       "  <thead>\n",
       "    <tr style=\"text-align: right;\">\n",
       "      <th></th>\n",
       "      <th>date</th>\n",
       "      <th>cf_cvg</th>\n",
       "      <th>amenity</th>\n",
       "      <th>avg_rad</th>\n",
       "      <th>id</th>\n",
       "      <th>@id</th>\n",
       "      <th>reducer</th>\n",
       "      <th>type</th>\n",
       "    </tr>\n",
       "  </thead>\n",
       "  <tbody>\n",
       "    <tr>\n",
       "      <th>14232</th>\n",
       "      <td>2021-01-01</td>\n",
       "      <td>5.0</td>\n",
       "      <td>university</td>\n",
       "      <td>30.910000</td>\n",
       "      <td>relation/3560042</td>\n",
       "      <td>relation/3560042</td>\n",
       "      <td>mean</td>\n",
       "      <td>multipolygon</td>\n",
       "    </tr>\n",
       "    <tr>\n",
       "      <th>14233</th>\n",
       "      <td>2021-01-01</td>\n",
       "      <td>6.0</td>\n",
       "      <td>prison</td>\n",
       "      <td>45.320000</td>\n",
       "      <td>relation/3560382</td>\n",
       "      <td>relation/3560382</td>\n",
       "      <td>mean</td>\n",
       "      <td>multipolygon</td>\n",
       "    </tr>\n",
       "    <tr>\n",
       "      <th>14234</th>\n",
       "      <td>2021-01-01</td>\n",
       "      <td>5.0</td>\n",
       "      <td>parking</td>\n",
       "      <td>85.199997</td>\n",
       "      <td>relation/8234668</td>\n",
       "      <td>relation/8234668</td>\n",
       "      <td>mean</td>\n",
       "      <td>multipolygon</td>\n",
       "    </tr>\n",
       "    <tr>\n",
       "      <th>14235</th>\n",
       "      <td>2021-01-01</td>\n",
       "      <td>6.0</td>\n",
       "      <td>parking</td>\n",
       "      <td>26.000000</td>\n",
       "      <td>relation/14115705</td>\n",
       "      <td>relation/14115705</td>\n",
       "      <td>mean</td>\n",
       "      <td>multipolygon</td>\n",
       "    </tr>\n",
       "    <tr>\n",
       "      <th>14236</th>\n",
       "      <td>2021-01-01</td>\n",
       "      <td>6.0</td>\n",
       "      <td>parking_space</td>\n",
       "      <td>25.338632</td>\n",
       "      <td>way/26250160</td>\n",
       "      <td>way/26250160</td>\n",
       "      <td>mean</td>\n",
       "      <td>NaN</td>\n",
       "    </tr>\n",
       "    <tr>\n",
       "      <th>...</th>\n",
       "      <td>...</td>\n",
       "      <td>...</td>\n",
       "      <td>...</td>\n",
       "      <td>...</td>\n",
       "      <td>...</td>\n",
       "      <td>...</td>\n",
       "      <td>...</td>\n",
       "      <td>...</td>\n",
       "    </tr>\n",
       "    <tr>\n",
       "      <th>14820</th>\n",
       "      <td>2021-01-01</td>\n",
       "      <td>5.0</td>\n",
       "      <td>bus_station</td>\n",
       "      <td>7.910000</td>\n",
       "      <td>node/9724693399</td>\n",
       "      <td>node/9724693399</td>\n",
       "      <td>mean</td>\n",
       "      <td>NaN</td>\n",
       "    </tr>\n",
       "    <tr>\n",
       "      <th>14821</th>\n",
       "      <td>2021-01-01</td>\n",
       "      <td>5.0</td>\n",
       "      <td>bus_station</td>\n",
       "      <td>7.910000</td>\n",
       "      <td>node/9724693400</td>\n",
       "      <td>node/9724693400</td>\n",
       "      <td>mean</td>\n",
       "      <td>NaN</td>\n",
       "    </tr>\n",
       "    <tr>\n",
       "      <th>14822</th>\n",
       "      <td>2021-01-01</td>\n",
       "      <td>6.0</td>\n",
       "      <td>place_of_worship</td>\n",
       "      <td>22.940001</td>\n",
       "      <td>node/9729450760</td>\n",
       "      <td>node/9729450760</td>\n",
       "      <td>mean</td>\n",
       "      <td>NaN</td>\n",
       "    </tr>\n",
       "    <tr>\n",
       "      <th>14823</th>\n",
       "      <td>2021-01-01</td>\n",
       "      <td>6.0</td>\n",
       "      <td>social_centre</td>\n",
       "      <td>22.940001</td>\n",
       "      <td>node/9729450761</td>\n",
       "      <td>node/9729450761</td>\n",
       "      <td>mean</td>\n",
       "      <td>NaN</td>\n",
       "    </tr>\n",
       "    <tr>\n",
       "      <th>14824</th>\n",
       "      <td>2021-01-01</td>\n",
       "      <td>6.0</td>\n",
       "      <td>post_office</td>\n",
       "      <td>77.349998</td>\n",
       "      <td>node/9819581599</td>\n",
       "      <td>node/9819581599</td>\n",
       "      <td>mean</td>\n",
       "      <td>NaN</td>\n",
       "    </tr>\n",
       "  </tbody>\n",
       "</table>\n",
       "<p>593 rows × 8 columns</p>\n",
       "</div>"
      ],
      "text/plain": [
       "             date  cf_cvg           amenity    avg_rad                 id  \\\n",
       "14232  2021-01-01     5.0        university  30.910000   relation/3560042   \n",
       "14233  2021-01-01     6.0            prison  45.320000   relation/3560382   \n",
       "14234  2021-01-01     5.0           parking  85.199997   relation/8234668   \n",
       "14235  2021-01-01     6.0           parking  26.000000  relation/14115705   \n",
       "14236  2021-01-01     6.0     parking_space  25.338632       way/26250160   \n",
       "...           ...     ...               ...        ...                ...   \n",
       "14820  2021-01-01     5.0       bus_station   7.910000    node/9724693399   \n",
       "14821  2021-01-01     5.0       bus_station   7.910000    node/9724693400   \n",
       "14822  2021-01-01     6.0  place_of_worship  22.940001    node/9729450760   \n",
       "14823  2021-01-01     6.0     social_centre  22.940001    node/9729450761   \n",
       "14824  2021-01-01     6.0       post_office  77.349998    node/9819581599   \n",
       "\n",
       "                     @id reducer          type  \n",
       "14232   relation/3560042    mean  multipolygon  \n",
       "14233   relation/3560382    mean  multipolygon  \n",
       "14234   relation/8234668    mean  multipolygon  \n",
       "14235  relation/14115705    mean  multipolygon  \n",
       "14236       way/26250160    mean           NaN  \n",
       "...                  ...     ...           ...  \n",
       "14820    node/9724693399    mean           NaN  \n",
       "14821    node/9724693400    mean           NaN  \n",
       "14822    node/9729450760    mean           NaN  \n",
       "14823    node/9729450761    mean           NaN  \n",
       "14824    node/9819581599    mean           NaN  \n",
       "\n",
       "[593 rows x 8 columns]"
      ]
     },
     "execution_count": 86,
     "metadata": {},
     "output_type": "execute_result"
    }
   ],
   "source": [
    "volos_amenities_cfg[volos_amenities_cfg['date']=='2021-01-01']"
   ]
  },
  {
   "cell_type": "markdown",
   "id": "3a27b936",
   "metadata": {},
   "source": [
    "We select the time series after the lifting of lockdown"
   ]
  },
  {
   "cell_type": "code",
   "execution_count": 169,
   "id": "56060b83",
   "metadata": {},
   "outputs": [],
   "source": [
    "volos_amenities_s2=pd.read_csv('./data/csvs/volos_amenities_s2.csv')"
   ]
  },
  {
   "cell_type": "raw",
   "id": "d88bdb4c",
   "metadata": {},
   "source": [
    "volos_amenities_s2_post = volos_amenities_s2[14232:]"
   ]
  },
  {
   "cell_type": "raw",
   "id": "39610190",
   "metadata": {},
   "source": [
    "parking_space=volos_amenities_s2_post[volos_amenities_s2_post['amenity']=='parking_space']\n",
    "graveyard=volos_amenities_s2_post[volos_amenities_s2_post['amenity']=='grave_yard']\n",
    "fountain=volos_amenities_s2_post[volos_amenities_s2_post['amenity']=='fountain']\n",
    "recycling=volos_amenities_s2_post[volos_amenities_s2_post['amenity']=='recycling']\n",
    "bench=volos_amenities_s2_post[volos_amenities_s2_post['amenity']=='bench']\n",
    "charging_station=volos_amenities_s2_post[volos_amenities_s2_post['amenity']=='charging_station']\n",
    "drinking_water=volos_amenities_s2_post[volos_amenities_s2_post['amenity']=='drinking_water']\n",
    "public_bookcase=volos_amenities_s2_post[volos_amenities_s2_post['amenity']=='public_bookcase']\n",
    "monastery=volos_amenities_s2_post[volos_amenities_s2_post['amenity']=='monastery']\n",
    "#volos_amenities_cfg_post_lock.drop(parking_space.index,axis=0)"
   ]
  },
  {
   "cell_type": "raw",
   "id": "1161a80c",
   "metadata": {},
   "source": [
    "volos_amenities_dropped=volos_amenities_s2_post.drop(parking_space.index,axis=0)\n",
    "volos_amenities_dropped=volos_amenities_dropped.drop(graveyard.index,axis=0)\n",
    "volos_amenities_dropped=volos_amenities_dropped.drop(fountain.index,axis=0)\n",
    "volos_amenities_dropped=volos_amenities_dropped.drop(recycling.index,axis=0)\n",
    "volos_amenities_dropped=volos_amenities_dropped.drop(bench.index,axis=0)\n",
    "volos_amenities_dropped=volos_amenities_dropped.drop(charging_station.index,axis=0)\n",
    "volos_amenities_dropped=volos_amenities_dropped.drop(drinking_water.index,axis=0)\n",
    "volos_amenities_dropped=volos_amenities_dropped.drop(public_bookcase.index,axis=0)\n",
    "volos_amenities_dropped=volos_amenities_dropped.drop(monastery.index,axis=0)\n",
    "#volos_amenities_dropped[volos_amenities_dropped['amenity']=='monastery']"
   ]
  },
  {
   "cell_type": "code",
   "execution_count": 192,
   "id": "933d8841",
   "metadata": {},
   "outputs": [],
   "source": [
    "volos_amenities_dropped_s2=pd.read_csv('./data/csvs/volos_amenities_dropped_s2.csv')"
   ]
  },
  {
   "cell_type": "code",
   "execution_count": 96,
   "id": "ac87148b",
   "metadata": {},
   "outputs": [],
   "source": [
    "volos_amenities_cfg_post_lock=volos_amenities_cfg[16011:]"
   ]
  },
  {
   "cell_type": "raw",
   "id": "8d3dc51f",
   "metadata": {},
   "source": [
    "volos_amenities_cfg_post_lock"
   ]
  },
  {
   "cell_type": "raw",
   "id": "347ff1b9",
   "metadata": {},
   "source": [
    "parking_space=volos_amenities_cfg_post_lock[volos_amenities_cfg_post_lock['amenity']=='parking_space']\n",
    "graveyard=volos_amenities_cfg_post_lock[volos_amenities_cfg_post_lock['amenity']=='grave_yard']\n",
    "fountain=volos_amenities_cfg_post_lock[volos_amenities_cfg_post_lock['amenity']=='fountain']\n",
    "recycling=volos_amenities_cfg_post_lock[volos_amenities_cfg_post_lock['amenity']=='recycling']\n",
    "bench=volos_amenities_cfg_post_lock[volos_amenities_cfg_post_lock['amenity']=='bench']\n",
    "charging_station=volos_amenities_cfg_post_lock[volos_amenities_cfg_post_lock['amenity']=='charging_station']\n",
    "drinking_water=volos_amenities_cfg_post_lock[volos_amenities_cfg_post_lock['amenity']=='drinking_water']\n",
    "public_bookcase=volos_amenities_cfg_post_lock[volos_amenities_cfg_post_lock['amenity']=='public_bookcase']\n",
    "monastery=volos_amenities_cfg_post_lock[volos_amenities_cfg_post_lock['amenity']=='monastery']\n",
    "#volos_amenities_cfg_post_lock.drop(parking_space.index,axis=0)"
   ]
  },
  {
   "cell_type": "raw",
   "id": "3a4163a0",
   "metadata": {},
   "source": [
    "volos_amenities_dropped=volos_amenities_cfg_post_lock.drop(parking_space.index,axis=0)\n",
    "volos_amenities_dropped=volos_amenities_dropped.drop(graveyard.index,axis=0)\n",
    "volos_amenities_dropped=volos_amenities_dropped.drop(fountain.index,axis=0)\n",
    "volos_amenities_dropped=volos_amenities_dropped.drop(recycling.index,axis=0)\n",
    "volos_amenities_dropped=volos_amenities_dropped.drop(bench.index,axis=0)\n",
    "volos_amenities_dropped=volos_amenities_dropped.drop(charging_station.index,axis=0)\n",
    "volos_amenities_dropped=volos_amenities_dropped.drop(drinking_water.index,axis=0)\n",
    "volos_amenities_dropped=volos_amenities_dropped.drop(public_bookcase.index,axis=0)\n",
    "volos_amenities_dropped=volos_amenities_dropped.drop(monastery.index,axis=0)\n",
    "#volos_amenities_dropped[volos_amenities_dropped['amenity']=='monastery']"
   ]
  },
  {
   "cell_type": "code",
   "execution_count": 198,
   "id": "6d488ab0",
   "metadata": {},
   "outputs": [],
   "source": [
    "volos_amenities_dropped_cfg=pd.read_csv('./data/csvs/volos_amenities_dropped_cfg.csv')"
   ]
  },
  {
   "cell_type": "code",
   "execution_count": 199,
   "id": "c5b19d5f",
   "metadata": {},
   "outputs": [],
   "source": [
    "volos_amenities_dropped_cfg['date'] = pd.to_datetime(volos_amenities_dropped_cfg['date'], errors='coerce')\n",
    "volos_amenities_dropped_s2['date'] = pd.to_datetime(volos_amenities_dropped_s2['date'] , errors='coerce')\n",
    "volos_amenities_dropped_cfg['month']=volos_amenities_dropped_cfg['date'].dt.month\n",
    "volos_amenities_dropped_cfg['year']=volos_amenities_dropped_cfg['date'].dt.year\n",
    "volos_amenities_dropped_s2['month']=volos_amenities_dropped_s2['date'].dt.month\n",
    "volos_amenities_dropped_s2['year']=volos_amenities_dropped_s2['date'].dt.year"
   ]
  },
  {
   "cell_type": "code",
   "execution_count": 197,
   "id": "05151cc5",
   "metadata": {
    "scrolled": true
   },
   "outputs": [
    {
     "data": {
      "text/plain": [
       "array(['university', 'prison', 'parking', 'library', 'courthouse',\n",
       "       'theatre', 'bank', 'place_of_worship', 'school', 'cafe',\n",
       "       'arts_centre', 'music_school', 'cinema', 'bus_station', 'townhall',\n",
       "       'community_centre', 'dressing_room', 'kindergarten', 'hospital',\n",
       "       'post_office', 'bar', 'police', 'social_facility', 'childcare',\n",
       "       'nightclub', 'marketplace', 'clinic', 'restaurant',\n",
       "       'social_centre', 'fire_station', 'telephone', 'car_rental',\n",
       "       'fast_food', 'pharmacy', 'taxi', 'fuel', 'post_box', 'pub',\n",
       "       'food_court', 'atm', 'doctors', 'ferry_terminal', 'ice_cream',\n",
       "       'shelter', 'parking_entrance', 'toilets', 'dojo', 'dentist',\n",
       "       'studio', 'prep_school'], dtype=object)"
      ]
     },
     "execution_count": 197,
     "metadata": {},
     "output_type": "execute_result"
    }
   ],
   "source": [
    "volos_amenities_dropped_s2['amenity'].unique()"
   ]
  },
  {
   "cell_type": "code",
   "execution_count": null,
   "id": "e329f7f9",
   "metadata": {},
   "outputs": [],
   "source": [
    "['university','prison','library','courthouse', 'theatre', 'bank', 'place_of_worship', 'school',\n",
    "       'cafe', 'arts_centre', 'music_school', 'cinema','townhall', 'community_centre', 'dressing_room', 'kindergarten',\n",
    "       'hospital','post_office', 'bar','police', 'social_facility', 'childcare', 'nightclub',\n",
    "       'marketplace', 'clinic', 'restaurant', 'monastery',\n",
    "       'social_centre', 'fire_station',"
   ]
  },
  {
   "cell_type": "code",
   "execution_count": 46,
   "id": "dfe984b4",
   "metadata": {},
   "outputs": [],
   "source": [
    "university=volos_amenities_cfg[volos_amenities_cfg['amenity']=='university']\n",
    "prison=volos_amenities_cfg[volos_amenities_cfg['amenity']=='prison']\n",
    "library=volos_amenities_cfg[volos_amenities_cfg['amenity']=='library']\n",
    "courthouse=volos_amenities_cfg[volos_amenities_cfg['amenity']=='courthouse']\n",
    "theatre=volos_amenities_cfg[volos_amenities_cfg['amenity']=='theatre']\n",
    "bank=volos_amenities_cfg[volos_amenities_cfg['amenity']=='bank']\n",
    "school=volos_amenities_cfg[volos_amenities_cfg['amenity']=='school']\n",
    "cafe=volos_amenities_cfg[volos_amenities_cfg['amenity']=='cafe']\n",
    "cinema=volos_amenities_cfg[volos_amenities_cfg['amenity']=='cinema']"
   ]
  },
  {
   "cell_type": "code",
   "execution_count": null,
   "id": "e98c36e1",
   "metadata": {},
   "outputs": [],
   "source": []
  },
  {
   "cell_type": "code",
   "execution_count": 201,
   "id": "84a20e6c",
   "metadata": {},
   "outputs": [],
   "source": [
    "volos_amenities_dropped_combined=volos_amenities_dropped_s2.merge(volos_amenities_dropped_cfg,how='left',on=['year','month','amenity','id'])"
   ]
  },
  {
   "cell_type": "code",
   "execution_count": 253,
   "id": "1dd0e611",
   "metadata": {},
   "outputs": [
    {
     "data": {
      "text/plain": [
       "Index(['VgNIRBI', 'amenity', 'PISI', 'NDVI', 'EMBI', 'VrNIRBI', 'IBI', 'NDBI',\n",
       "       'reducer_x', 'cf_cvg', 'avg_rad'],\n",
       "      dtype='object')"
      ]
     },
     "execution_count": 253,
     "metadata": {},
     "output_type": "execute_result"
    }
   ],
   "source": [
    "volos_amenities_dropped_combined.columns"
   ]
  },
  {
   "cell_type": "code",
   "execution_count": 204,
   "id": "6fde80e5",
   "metadata": {},
   "outputs": [],
   "source": [
    "volos_amenities_dropped_combined=volos_amenities_dropped_combined.drop(['Unnamed: 0','date_x','type_x','@id_x','date_y','@id_y'\n",
    "                                      ,'reducer_y','type_y','id','year','month'],axis=1)"
   ]
  },
  {
   "cell_type": "code",
   "execution_count": 206,
   "id": "12943410",
   "metadata": {},
   "outputs": [],
   "source": [
    "volos_amenities_dropped_combined['avg_rad']=volos_amenities_dropped_combined['avg_rad'].fillna(volos_amenities_dropped_combined['avg_rad'].mean())"
   ]
  },
  {
   "cell_type": "code",
   "execution_count": 555,
   "id": "3a076fd6",
   "metadata": {},
   "outputs": [],
   "source": [
    "volos_amenities_dropped_combined.to_csv('./data/csvs/volos_amenities_combined.csv',index=False)"
   ]
  },
  {
   "cell_type": "code",
   "execution_count": 207,
   "id": "a46264bf",
   "metadata": {},
   "outputs": [
    {
     "data": {
      "text/plain": [
       "0        70.093898\n",
       "1        70.093898\n",
       "2        70.093898\n",
       "3        70.093898\n",
       "4        70.093898\n",
       "           ...    \n",
       "9549      7.660000\n",
       "9550      7.660000\n",
       "9551     41.459999\n",
       "9552     41.459999\n",
       "9553    101.489998\n",
       "Name: avg_rad, Length: 9554, dtype: float64"
      ]
     },
     "execution_count": 207,
     "metadata": {},
     "output_type": "execute_result"
    }
   ],
   "source": [
    "volos_amenities_dropped_combined/c"
   ]
  },
  {
   "cell_type": "code",
   "execution_count": 208,
   "id": "72169def",
   "metadata": {},
   "outputs": [],
   "source": [
    "university_p=volos_amenities_dropped_combined[volos_amenities_dropped_combined['amenity']=='university']"
   ]
  },
  {
   "cell_type": "code",
   "execution_count": 209,
   "id": "66101266",
   "metadata": {},
   "outputs": [
    {
     "data": {
      "text/plain": [
       "70.63925048921129"
      ]
     },
     "execution_count": 209,
     "metadata": {},
     "output_type": "execute_result"
    }
   ],
   "source": [
    "university_p['avg_rad'].mean()"
   ]
  },
  {
   "cell_type": "code",
   "execution_count": 210,
   "id": "461a2d66",
   "metadata": {},
   "outputs": [
    {
     "data": {
      "text/plain": [
       "66.99892160677386"
      ]
     },
     "execution_count": 210,
     "metadata": {},
     "output_type": "execute_result"
    }
   ],
   "source": [
    "university['avg_rad'].mean()"
   ]
  },
  {
   "cell_type": "code",
   "execution_count": 95,
   "id": "39e0f1ac",
   "metadata": {},
   "outputs": [
    {
     "data": {
      "text/plain": [
       "67.83620437546017"
      ]
     },
     "execution_count": 95,
     "metadata": {},
     "output_type": "execute_result"
    }
   ],
   "source": [
    "cafe['avg_rad'].mean()"
   ]
  },
  {
   "cell_type": "code",
   "execution_count": 557,
   "id": "1b75082f",
   "metadata": {},
   "outputs": [
    {
     "ename": "NameError",
     "evalue": "name 'volos_final' is not defined",
     "output_type": "error",
     "traceback": [
      "\u001b[1;31m---------------------------------------------------------------------------\u001b[0m",
      "\u001b[1;31mNameError\u001b[0m                                 Traceback (most recent call last)",
      "\u001b[1;32m~\\AppData\\Local\\Temp/ipykernel_10812/3683513903.py\u001b[0m in \u001b[0;36m<module>\u001b[1;34m\u001b[0m\n\u001b[1;32m----> 1\u001b[1;33m \u001b[0mvolos_final\u001b[0m\u001b[1;33m.\u001b[0m\u001b[0mto_csv\u001b[0m\u001b[1;33m(\u001b[0m\u001b[1;34m'./data/csvs/volos_turb0_amenities.csv'\u001b[0m\u001b[1;33m,\u001b[0m\u001b[0mindex\u001b[0m\u001b[1;33m=\u001b[0m\u001b[1;32mFalse\u001b[0m\u001b[1;33m)\u001b[0m\u001b[1;33m\u001b[0m\u001b[1;33m\u001b[0m\u001b[0m\n\u001b[0m",
      "\u001b[1;31mNameError\u001b[0m: name 'volos_final' is not defined"
     ]
    }
   ],
   "source": [
    "volos_final.to_csv('./data/csvs/volos_turb0_amenities.csv',index=False)"
   ]
  },
  {
   "cell_type": "code",
   "execution_count": 15,
   "id": "1edab5ef",
   "metadata": {},
   "outputs": [],
   "source": [
    "volos_amenities_viirs['label'] =1  "
   ]
  },
  {
   "cell_type": "code",
   "execution_count": 18,
   "id": "13a7c399",
   "metadata": {
    "scrolled": false
   },
   "outputs": [
    {
     "data": {
      "text/html": [
       "<div>\n",
       "<style scoped>\n",
       "    .dataframe tbody tr th:only-of-type {\n",
       "        vertical-align: middle;\n",
       "    }\n",
       "\n",
       "    .dataframe tbody tr th {\n",
       "        vertical-align: top;\n",
       "    }\n",
       "\n",
       "    .dataframe thead th {\n",
       "        text-align: right;\n",
       "    }\n",
       "</style>\n",
       "<table border=\"1\" class=\"dataframe\">\n",
       "  <thead>\n",
       "    <tr style=\"text-align: right;\">\n",
       "      <th></th>\n",
       "      <th>avg_rad</th>\n",
       "      <th>label</th>\n",
       "    </tr>\n",
       "  </thead>\n",
       "  <tbody>\n",
       "    <tr>\n",
       "      <th>0</th>\n",
       "      <td>34.630001</td>\n",
       "      <td>1</td>\n",
       "    </tr>\n",
       "    <tr>\n",
       "      <th>1</th>\n",
       "      <td>70.129997</td>\n",
       "      <td>1</td>\n",
       "    </tr>\n",
       "    <tr>\n",
       "      <th>2</th>\n",
       "      <td>91.150002</td>\n",
       "      <td>1</td>\n",
       "    </tr>\n",
       "    <tr>\n",
       "      <th>3</th>\n",
       "      <td>31.350000</td>\n",
       "      <td>1</td>\n",
       "    </tr>\n",
       "    <tr>\n",
       "      <th>4</th>\n",
       "      <td>29.073004</td>\n",
       "      <td>1</td>\n",
       "    </tr>\n",
       "    <tr>\n",
       "      <th>...</th>\n",
       "      <td>...</td>\n",
       "      <td>...</td>\n",
       "    </tr>\n",
       "    <tr>\n",
       "      <th>24308</th>\n",
       "      <td>7.660000</td>\n",
       "      <td>1</td>\n",
       "    </tr>\n",
       "    <tr>\n",
       "      <th>24309</th>\n",
       "      <td>7.660000</td>\n",
       "      <td>1</td>\n",
       "    </tr>\n",
       "    <tr>\n",
       "      <th>24310</th>\n",
       "      <td>41.459999</td>\n",
       "      <td>1</td>\n",
       "    </tr>\n",
       "    <tr>\n",
       "      <th>24311</th>\n",
       "      <td>41.459999</td>\n",
       "      <td>1</td>\n",
       "    </tr>\n",
       "    <tr>\n",
       "      <th>24312</th>\n",
       "      <td>101.489998</td>\n",
       "      <td>1</td>\n",
       "    </tr>\n",
       "  </tbody>\n",
       "</table>\n",
       "<p>24313 rows × 2 columns</p>\n",
       "</div>"
      ],
      "text/plain": [
       "          avg_rad  label\n",
       "0       34.630001      1\n",
       "1       70.129997      1\n",
       "2       91.150002      1\n",
       "3       31.350000      1\n",
       "4       29.073004      1\n",
       "...           ...    ...\n",
       "24308    7.660000      1\n",
       "24309    7.660000      1\n",
       "24310   41.459999      1\n",
       "24311   41.459999      1\n",
       "24312  101.489998      1\n",
       "\n",
       "[24313 rows x 2 columns]"
      ]
     },
     "execution_count": 18,
     "metadata": {},
     "output_type": "execute_result"
    }
   ],
   "source": [
    "volos_amenities_viirs.drop(['date','amenity','id','@id','reducer','type'],axis=1)"
   ]
  },
  {
   "cell_type": "code",
   "execution_count": 24,
   "id": "469101e3",
   "metadata": {
    "scrolled": true
   },
   "outputs": [
    {
     "data": {
      "text/html": [
       "<div>\n",
       "<style scoped>\n",
       "    .dataframe tbody tr th:only-of-type {\n",
       "        vertical-align: middle;\n",
       "    }\n",
       "\n",
       "    .dataframe tbody tr th {\n",
       "        vertical-align: top;\n",
       "    }\n",
       "\n",
       "    .dataframe thead th {\n",
       "        text-align: right;\n",
       "    }\n",
       "</style>\n",
       "<table border=\"1\" class=\"dataframe\">\n",
       "  <thead>\n",
       "    <tr style=\"text-align: right;\">\n",
       "      <th></th>\n",
       "      <th>avg_rad</th>\n",
       "    </tr>\n",
       "  </thead>\n",
       "  <tbody>\n",
       "    <tr>\n",
       "      <th>0</th>\n",
       "      <td>46.096627</td>\n",
       "    </tr>\n",
       "    <tr>\n",
       "      <th>1</th>\n",
       "      <td>31.200001</td>\n",
       "    </tr>\n",
       "    <tr>\n",
       "      <th>2</th>\n",
       "      <td>24.015228</td>\n",
       "    </tr>\n",
       "    <tr>\n",
       "      <th>3</th>\n",
       "      <td>94.980003</td>\n",
       "    </tr>\n",
       "    <tr>\n",
       "      <th>4</th>\n",
       "      <td>70.129997</td>\n",
       "    </tr>\n",
       "    <tr>\n",
       "      <th>...</th>\n",
       "      <td>...</td>\n",
       "    </tr>\n",
       "    <tr>\n",
       "      <th>49359</th>\n",
       "      <td>50.720001</td>\n",
       "    </tr>\n",
       "    <tr>\n",
       "      <th>49360</th>\n",
       "      <td>26.190001</td>\n",
       "    </tr>\n",
       "    <tr>\n",
       "      <th>49361</th>\n",
       "      <td>104.300003</td>\n",
       "    </tr>\n",
       "    <tr>\n",
       "      <th>49362</th>\n",
       "      <td>111.919998</td>\n",
       "    </tr>\n",
       "    <tr>\n",
       "      <th>49363</th>\n",
       "      <td>111.919998</td>\n",
       "    </tr>\n",
       "  </tbody>\n",
       "</table>\n",
       "<p>49364 rows × 1 columns</p>\n",
       "</div>"
      ],
      "text/plain": [
       "          avg_rad\n",
       "0       46.096627\n",
       "1       31.200001\n",
       "2       24.015228\n",
       "3       94.980003\n",
       "4       70.129997\n",
       "...           ...\n",
       "49359   50.720001\n",
       "49360   26.190001\n",
       "49361  104.300003\n",
       "49362  111.919998\n",
       "49363  111.919998\n",
       "\n",
       "[49364 rows x 1 columns]"
      ]
     },
     "execution_count": 24,
     "metadata": {},
     "output_type": "execute_result"
    }
   ],
   "source": [
    "volos_turbo_viirs.drop(['date','building','id','@id','reducer','type','building:levels'],axis=1)"
   ]
  },
  {
   "cell_type": "code",
   "execution_count": 70,
   "id": "ff028bac",
   "metadata": {},
   "outputs": [
    {
     "ename": "AttributeError",
     "evalue": "Can only use .dt accessor with datetimelike values",
     "output_type": "error",
     "traceback": [
      "\u001b[1;31m---------------------------------------------------------------------------\u001b[0m",
      "\u001b[1;31mAttributeError\u001b[0m                            Traceback (most recent call last)",
      "\u001b[1;32m~\\AppData\\Local\\Temp/ipykernel_18224/3197744533.py\u001b[0m in \u001b[0;36m<module>\u001b[1;34m\u001b[0m\n\u001b[0;32m      1\u001b[0m \u001b[1;32mimport\u001b[0m \u001b[0mdatetime\u001b[0m \u001b[1;32mas\u001b[0m \u001b[0mdt\u001b[0m\u001b[1;33m\u001b[0m\u001b[1;33m\u001b[0m\u001b[0m\n\u001b[1;32m----> 2\u001b[1;33m \u001b[0mvolos_turbo_viirs\u001b[0m\u001b[1;33m[\u001b[0m\u001b[1;34m'month'\u001b[0m\u001b[1;33m]\u001b[0m\u001b[1;33m=\u001b[0m\u001b[0mvolos_turbo_viirs\u001b[0m\u001b[1;33m[\u001b[0m\u001b[1;34m'date'\u001b[0m\u001b[1;33m]\u001b[0m\u001b[1;33m.\u001b[0m\u001b[0mdt\u001b[0m\u001b[1;33m.\u001b[0m\u001b[0mmonth\u001b[0m\u001b[1;33m\u001b[0m\u001b[1;33m\u001b[0m\u001b[0m\n\u001b[0m",
      "\u001b[1;32m~\\anaconda3\\envs\\ml\\lib\\site-packages\\pandas\\core\\generic.py\u001b[0m in \u001b[0;36m__getattr__\u001b[1;34m(self, name)\u001b[0m\n\u001b[0;32m   5456\u001b[0m             \u001b[1;32mor\u001b[0m \u001b[0mname\u001b[0m \u001b[1;32min\u001b[0m \u001b[0mself\u001b[0m\u001b[1;33m.\u001b[0m\u001b[0m_accessors\u001b[0m\u001b[1;33m\u001b[0m\u001b[1;33m\u001b[0m\u001b[0m\n\u001b[0;32m   5457\u001b[0m         ):\n\u001b[1;32m-> 5458\u001b[1;33m             \u001b[1;32mreturn\u001b[0m \u001b[0mobject\u001b[0m\u001b[1;33m.\u001b[0m\u001b[0m__getattribute__\u001b[0m\u001b[1;33m(\u001b[0m\u001b[0mself\u001b[0m\u001b[1;33m,\u001b[0m \u001b[0mname\u001b[0m\u001b[1;33m)\u001b[0m\u001b[1;33m\u001b[0m\u001b[1;33m\u001b[0m\u001b[0m\n\u001b[0m\u001b[0;32m   5459\u001b[0m         \u001b[1;32melse\u001b[0m\u001b[1;33m:\u001b[0m\u001b[1;33m\u001b[0m\u001b[1;33m\u001b[0m\u001b[0m\n\u001b[0;32m   5460\u001b[0m             \u001b[1;32mif\u001b[0m \u001b[0mself\u001b[0m\u001b[1;33m.\u001b[0m\u001b[0m_info_axis\u001b[0m\u001b[1;33m.\u001b[0m\u001b[0m_can_hold_identifiers_and_holds_name\u001b[0m\u001b[1;33m(\u001b[0m\u001b[0mname\u001b[0m\u001b[1;33m)\u001b[0m\u001b[1;33m:\u001b[0m\u001b[1;33m\u001b[0m\u001b[1;33m\u001b[0m\u001b[0m\n",
      "\u001b[1;32m~\\anaconda3\\envs\\ml\\lib\\site-packages\\pandas\\core\\accessor.py\u001b[0m in \u001b[0;36m__get__\u001b[1;34m(self, obj, cls)\u001b[0m\n\u001b[0;32m    178\u001b[0m             \u001b[1;31m# we're accessing the attribute of the class, i.e., Dataset.geo\u001b[0m\u001b[1;33m\u001b[0m\u001b[1;33m\u001b[0m\u001b[1;33m\u001b[0m\u001b[0m\n\u001b[0;32m    179\u001b[0m             \u001b[1;32mreturn\u001b[0m \u001b[0mself\u001b[0m\u001b[1;33m.\u001b[0m\u001b[0m_accessor\u001b[0m\u001b[1;33m\u001b[0m\u001b[1;33m\u001b[0m\u001b[0m\n\u001b[1;32m--> 180\u001b[1;33m         \u001b[0maccessor_obj\u001b[0m \u001b[1;33m=\u001b[0m \u001b[0mself\u001b[0m\u001b[1;33m.\u001b[0m\u001b[0m_accessor\u001b[0m\u001b[1;33m(\u001b[0m\u001b[0mobj\u001b[0m\u001b[1;33m)\u001b[0m\u001b[1;33m\u001b[0m\u001b[1;33m\u001b[0m\u001b[0m\n\u001b[0m\u001b[0;32m    181\u001b[0m         \u001b[1;31m# Replace the property with the accessor object. Inspired by:\u001b[0m\u001b[1;33m\u001b[0m\u001b[1;33m\u001b[0m\u001b[1;33m\u001b[0m\u001b[0m\n\u001b[0;32m    182\u001b[0m         \u001b[1;31m# https://www.pydanny.com/cached-property.html\u001b[0m\u001b[1;33m\u001b[0m\u001b[1;33m\u001b[0m\u001b[1;33m\u001b[0m\u001b[0m\n",
      "\u001b[1;32m~\\anaconda3\\envs\\ml\\lib\\site-packages\\pandas\\core\\indexes\\accessors.py\u001b[0m in \u001b[0;36m__new__\u001b[1;34m(cls, data)\u001b[0m\n\u001b[0;32m    492\u001b[0m             \u001b[1;32mreturn\u001b[0m \u001b[0mPeriodProperties\u001b[0m\u001b[1;33m(\u001b[0m\u001b[0mdata\u001b[0m\u001b[1;33m,\u001b[0m \u001b[0morig\u001b[0m\u001b[1;33m)\u001b[0m\u001b[1;33m\u001b[0m\u001b[1;33m\u001b[0m\u001b[0m\n\u001b[0;32m    493\u001b[0m \u001b[1;33m\u001b[0m\u001b[0m\n\u001b[1;32m--> 494\u001b[1;33m         \u001b[1;32mraise\u001b[0m \u001b[0mAttributeError\u001b[0m\u001b[1;33m(\u001b[0m\u001b[1;34m\"Can only use .dt accessor with datetimelike values\"\u001b[0m\u001b[1;33m)\u001b[0m\u001b[1;33m\u001b[0m\u001b[1;33m\u001b[0m\u001b[0m\n\u001b[0m",
      "\u001b[1;31mAttributeError\u001b[0m: Can only use .dt accessor with datetimelike values"
     ]
    }
   ],
   "source": [
    "import datetime as dt\n",
    "volos_turbo_viirs['month']=volos_turbo_viirs['date'].dt.month"
   ]
  },
  {
   "cell_type": "code",
   "execution_count": 75,
   "id": "bf13d7ef",
   "metadata": {},
   "outputs": [
    {
     "data": {
      "text/plain": [
       "0       2019-01-01\n",
       "1       2019-01-01\n",
       "2       2019-01-01\n",
       "3       2019-01-01\n",
       "4       2019-01-01\n",
       "           ...    \n",
       "24308   2022-05-01\n",
       "24309   2022-05-01\n",
       "24310   2022-05-01\n",
       "24311   2022-05-01\n",
       "24312   2022-05-01\n",
       "Name: date, Length: 24313, dtype: datetime64[ns]"
      ]
     },
     "execution_count": 75,
     "metadata": {},
     "output_type": "execute_result"
    }
   ],
   "source": [
    "volos_amenities_viirs['date'] = pd.to_datetime(volos_amenities_viirs['date'], errors='coerce')\n",
    "volos_amenities_s2['date'] = pd.to_datetime(volos_amenities_s2['date'] , errors='coerce')\n",
    "volos_amenities_viirs['date']"
   ]
  },
  {
   "cell_type": "code",
   "execution_count": 76,
   "id": "f42dc0a8",
   "metadata": {},
   "outputs": [],
   "source": [
    "volos_amenities_viirs['month']=volos_amenities_viirs['date'].dt.month\n",
    "volos_amenities_viirs['year']=volos_amenities_viirs['date'].dt.year\n",
    "volos_amenities_s2['month']=volos_amenities_s2['date'].dt.month\n",
    "volos_amenities_s2['year']=volos_amenities_s2['date'].dt.year"
   ]
  },
  {
   "cell_type": "code",
   "execution_count": 77,
   "id": "f08fc011",
   "metadata": {},
   "outputs": [
    {
     "data": {
      "text/html": [
       "<div>\n",
       "<style scoped>\n",
       "    .dataframe tbody tr th:only-of-type {\n",
       "        vertical-align: middle;\n",
       "    }\n",
       "\n",
       "    .dataframe tbody tr th {\n",
       "        vertical-align: top;\n",
       "    }\n",
       "\n",
       "    .dataframe thead th {\n",
       "        text-align: right;\n",
       "    }\n",
       "</style>\n",
       "<table border=\"1\" class=\"dataframe\">\n",
       "  <thead>\n",
       "    <tr style=\"text-align: right;\">\n",
       "      <th></th>\n",
       "      <th>Unnamed: 0</th>\n",
       "      <th>date</th>\n",
       "      <th>VgNIRBI</th>\n",
       "      <th>amenity</th>\n",
       "      <th>PISI</th>\n",
       "      <th>type</th>\n",
       "      <th>NDVI</th>\n",
       "      <th>EMBI</th>\n",
       "      <th>VrNIRBI</th>\n",
       "      <th>IBI</th>\n",
       "      <th>NDBI</th>\n",
       "      <th>id</th>\n",
       "      <th>@id</th>\n",
       "      <th>reducer</th>\n",
       "      <th>month</th>\n",
       "      <th>year</th>\n",
       "    </tr>\n",
       "  </thead>\n",
       "  <tbody>\n",
       "    <tr>\n",
       "      <th>0</th>\n",
       "      <td>0</td>\n",
       "      <td>2020-01-04 09:29:30</td>\n",
       "      <td>-0.166943</td>\n",
       "      <td>university</td>\n",
       "      <td>0.054487</td>\n",
       "      <td>multipolygon</td>\n",
       "      <td>0.071631</td>\n",
       "      <td>-0.073549</td>\n",
       "      <td>-0.071631</td>\n",
       "      <td>4.277746</td>\n",
       "      <td>0.001260</td>\n",
       "      <td>relation/3560042</td>\n",
       "      <td>relation/3560042</td>\n",
       "      <td>mean</td>\n",
       "      <td>1</td>\n",
       "      <td>2020</td>\n",
       "    </tr>\n",
       "    <tr>\n",
       "      <th>1</th>\n",
       "      <td>1</td>\n",
       "      <td>2020-01-04 09:29:30</td>\n",
       "      <td>-0.131503</td>\n",
       "      <td>prison</td>\n",
       "      <td>0.069876</td>\n",
       "      <td>multipolygon</td>\n",
       "      <td>0.083905</td>\n",
       "      <td>-0.116364</td>\n",
       "      <td>-0.083905</td>\n",
       "      <td>0.354652</td>\n",
       "      <td>-0.010272</td>\n",
       "      <td>relation/3560382</td>\n",
       "      <td>relation/3560382</td>\n",
       "      <td>mean</td>\n",
       "      <td>1</td>\n",
       "      <td>2020</td>\n",
       "    </tr>\n",
       "    <tr>\n",
       "      <th>2</th>\n",
       "      <td>2</td>\n",
       "      <td>2020-01-04 09:29:30</td>\n",
       "      <td>-0.152271</td>\n",
       "      <td>parking</td>\n",
       "      <td>0.071628</td>\n",
       "      <td>multipolygon</td>\n",
       "      <td>0.095336</td>\n",
       "      <td>-0.023245</td>\n",
       "      <td>-0.095336</td>\n",
       "      <td>28.688298</td>\n",
       "      <td>0.092982</td>\n",
       "      <td>relation/8234668</td>\n",
       "      <td>relation/8234668</td>\n",
       "      <td>mean</td>\n",
       "      <td>1</td>\n",
       "      <td>2020</td>\n",
       "    </tr>\n",
       "    <tr>\n",
       "      <th>3</th>\n",
       "      <td>3</td>\n",
       "      <td>2020-01-04 09:29:30</td>\n",
       "      <td>-0.276980</td>\n",
       "      <td>parking</td>\n",
       "      <td>0.022643</td>\n",
       "      <td>multipolygon</td>\n",
       "      <td>0.285543</td>\n",
       "      <td>-0.107604</td>\n",
       "      <td>-0.285543</td>\n",
       "      <td>0.866571</td>\n",
       "      <td>-0.105068</td>\n",
       "      <td>relation/14115705</td>\n",
       "      <td>relation/14115705</td>\n",
       "      <td>mean</td>\n",
       "      <td>1</td>\n",
       "      <td>2020</td>\n",
       "    </tr>\n",
       "    <tr>\n",
       "      <th>4</th>\n",
       "      <td>4</td>\n",
       "      <td>2020-01-04 09:29:30</td>\n",
       "      <td>-0.306612</td>\n",
       "      <td>parking_space</td>\n",
       "      <td>0.013982</td>\n",
       "      <td>NaN</td>\n",
       "      <td>0.295115</td>\n",
       "      <td>-0.015318</td>\n",
       "      <td>-0.295115</td>\n",
       "      <td>-0.404325</td>\n",
       "      <td>-0.031821</td>\n",
       "      <td>way/26250160</td>\n",
       "      <td>way/26250160</td>\n",
       "      <td>mean</td>\n",
       "      <td>1</td>\n",
       "      <td>2020</td>\n",
       "    </tr>\n",
       "    <tr>\n",
       "      <th>...</th>\n",
       "      <td>...</td>\n",
       "      <td>...</td>\n",
       "      <td>...</td>\n",
       "      <td>...</td>\n",
       "      <td>...</td>\n",
       "      <td>...</td>\n",
       "      <td>...</td>\n",
       "      <td>...</td>\n",
       "      <td>...</td>\n",
       "      <td>...</td>\n",
       "      <td>...</td>\n",
       "      <td>...</td>\n",
       "      <td>...</td>\n",
       "      <td>...</td>\n",
       "      <td>...</td>\n",
       "      <td>...</td>\n",
       "    </tr>\n",
       "    <tr>\n",
       "      <th>24308</th>\n",
       "      <td>24308</td>\n",
       "      <td>2022-05-03 09:29:41</td>\n",
       "      <td>-0.323125</td>\n",
       "      <td>bus_station</td>\n",
       "      <td>-0.015730</td>\n",
       "      <td>NaN</td>\n",
       "      <td>0.342754</td>\n",
       "      <td>-0.131719</td>\n",
       "      <td>-0.342754</td>\n",
       "      <td>1.879394</td>\n",
       "      <td>-0.152741</td>\n",
       "      <td>node/9724693399</td>\n",
       "      <td>node/9724693399</td>\n",
       "      <td>mean</td>\n",
       "      <td>5</td>\n",
       "      <td>2022</td>\n",
       "    </tr>\n",
       "    <tr>\n",
       "      <th>24309</th>\n",
       "      <td>24309</td>\n",
       "      <td>2022-05-03 09:29:41</td>\n",
       "      <td>-0.167445</td>\n",
       "      <td>bus_station</td>\n",
       "      <td>0.069997</td>\n",
       "      <td>NaN</td>\n",
       "      <td>0.156031</td>\n",
       "      <td>-0.057795</td>\n",
       "      <td>-0.156031</td>\n",
       "      <td>-11.247508</td>\n",
       "      <td>0.022907</td>\n",
       "      <td>node/9724693400</td>\n",
       "      <td>node/9724693400</td>\n",
       "      <td>mean</td>\n",
       "      <td>5</td>\n",
       "      <td>2022</td>\n",
       "    </tr>\n",
       "    <tr>\n",
       "      <th>24310</th>\n",
       "      <td>24310</td>\n",
       "      <td>2022-05-03 09:29:41</td>\n",
       "      <td>-0.280998</td>\n",
       "      <td>place_of_worship</td>\n",
       "      <td>0.005385</td>\n",
       "      <td>NaN</td>\n",
       "      <td>0.178769</td>\n",
       "      <td>-0.023882</td>\n",
       "      <td>-0.178769</td>\n",
       "      <td>-0.862384</td>\n",
       "      <td>-0.009727</td>\n",
       "      <td>node/9729450760</td>\n",
       "      <td>node/9729450760</td>\n",
       "      <td>mean</td>\n",
       "      <td>5</td>\n",
       "      <td>2022</td>\n",
       "    </tr>\n",
       "    <tr>\n",
       "      <th>24311</th>\n",
       "      <td>24311</td>\n",
       "      <td>2022-05-03 09:29:41</td>\n",
       "      <td>-0.298744</td>\n",
       "      <td>social_centre</td>\n",
       "      <td>-0.019351</td>\n",
       "      <td>NaN</td>\n",
       "      <td>0.221049</td>\n",
       "      <td>-0.024372</td>\n",
       "      <td>-0.221049</td>\n",
       "      <td>-0.514179</td>\n",
       "      <td>-0.018378</td>\n",
       "      <td>node/9729450761</td>\n",
       "      <td>node/9729450761</td>\n",
       "      <td>mean</td>\n",
       "      <td>5</td>\n",
       "      <td>2022</td>\n",
       "    </tr>\n",
       "    <tr>\n",
       "      <th>24312</th>\n",
       "      <td>24312</td>\n",
       "      <td>2022-05-03 09:29:41</td>\n",
       "      <td>-0.087048</td>\n",
       "      <td>post_office</td>\n",
       "      <td>0.103465</td>\n",
       "      <td>NaN</td>\n",
       "      <td>0.045282</td>\n",
       "      <td>-0.150802</td>\n",
       "      <td>-0.045282</td>\n",
       "      <td>-0.014899</td>\n",
       "      <td>-0.019654</td>\n",
       "      <td>node/9819581599</td>\n",
       "      <td>node/9819581599</td>\n",
       "      <td>mean</td>\n",
       "      <td>5</td>\n",
       "      <td>2022</td>\n",
       "    </tr>\n",
       "  </tbody>\n",
       "</table>\n",
       "<p>24313 rows × 16 columns</p>\n",
       "</div>"
      ],
      "text/plain": [
       "       Unnamed: 0                date   VgNIRBI           amenity      PISI  \\\n",
       "0               0 2020-01-04 09:29:30 -0.166943        university  0.054487   \n",
       "1               1 2020-01-04 09:29:30 -0.131503            prison  0.069876   \n",
       "2               2 2020-01-04 09:29:30 -0.152271           parking  0.071628   \n",
       "3               3 2020-01-04 09:29:30 -0.276980           parking  0.022643   \n",
       "4               4 2020-01-04 09:29:30 -0.306612     parking_space  0.013982   \n",
       "...           ...                 ...       ...               ...       ...   \n",
       "24308       24308 2022-05-03 09:29:41 -0.323125       bus_station -0.015730   \n",
       "24309       24309 2022-05-03 09:29:41 -0.167445       bus_station  0.069997   \n",
       "24310       24310 2022-05-03 09:29:41 -0.280998  place_of_worship  0.005385   \n",
       "24311       24311 2022-05-03 09:29:41 -0.298744     social_centre -0.019351   \n",
       "24312       24312 2022-05-03 09:29:41 -0.087048       post_office  0.103465   \n",
       "\n",
       "               type      NDVI      EMBI   VrNIRBI        IBI      NDBI  \\\n",
       "0      multipolygon  0.071631 -0.073549 -0.071631   4.277746  0.001260   \n",
       "1      multipolygon  0.083905 -0.116364 -0.083905   0.354652 -0.010272   \n",
       "2      multipolygon  0.095336 -0.023245 -0.095336  28.688298  0.092982   \n",
       "3      multipolygon  0.285543 -0.107604 -0.285543   0.866571 -0.105068   \n",
       "4               NaN  0.295115 -0.015318 -0.295115  -0.404325 -0.031821   \n",
       "...             ...       ...       ...       ...        ...       ...   \n",
       "24308           NaN  0.342754 -0.131719 -0.342754   1.879394 -0.152741   \n",
       "24309           NaN  0.156031 -0.057795 -0.156031 -11.247508  0.022907   \n",
       "24310           NaN  0.178769 -0.023882 -0.178769  -0.862384 -0.009727   \n",
       "24311           NaN  0.221049 -0.024372 -0.221049  -0.514179 -0.018378   \n",
       "24312           NaN  0.045282 -0.150802 -0.045282  -0.014899 -0.019654   \n",
       "\n",
       "                      id                @id reducer  month  year  \n",
       "0       relation/3560042   relation/3560042    mean      1  2020  \n",
       "1       relation/3560382   relation/3560382    mean      1  2020  \n",
       "2       relation/8234668   relation/8234668    mean      1  2020  \n",
       "3      relation/14115705  relation/14115705    mean      1  2020  \n",
       "4           way/26250160       way/26250160    mean      1  2020  \n",
       "...                  ...                ...     ...    ...   ...  \n",
       "24308    node/9724693399    node/9724693399    mean      5  2022  \n",
       "24309    node/9724693400    node/9724693400    mean      5  2022  \n",
       "24310    node/9729450760    node/9729450760    mean      5  2022  \n",
       "24311    node/9729450761    node/9729450761    mean      5  2022  \n",
       "24312    node/9819581599    node/9819581599    mean      5  2022  \n",
       "\n",
       "[24313 rows x 16 columns]"
      ]
     },
     "execution_count": 77,
     "metadata": {},
     "output_type": "execute_result"
    }
   ],
   "source": [
    "volos_amenities_s2"
   ]
  },
  {
   "cell_type": "code",
   "execution_count": 87,
   "id": "9fbf7a61",
   "metadata": {},
   "outputs": [],
   "source": [
    "volos_amenities = volos_amenities_s2.merge( volos_amenities_viirs,how='left',on=['year','month'])"
   ]
  },
  {
   "cell_type": "code",
   "execution_count": 91,
   "id": "8b47d169",
   "metadata": {},
   "outputs": [
    {
     "data": {
      "text/plain": [
       "17102"
      ]
     },
     "execution_count": 91,
     "metadata": {},
     "output_type": "execute_result"
    }
   ],
   "source": [
    "volos_amenities['NDVI'].nunique()"
   ]
  },
  {
   "cell_type": "code",
   "execution_count": 90,
   "id": "919de73d",
   "metadata": {},
   "outputs": [
    {
     "data": {
      "text/plain": [
       "17102"
      ]
     },
     "execution_count": 90,
     "metadata": {},
     "output_type": "execute_result"
    }
   ],
   "source": [
    "volos_amenities_s2['NDVI'].nunique()"
   ]
  },
  {
   "cell_type": "code",
   "execution_count": 163,
   "id": "c83b72fd",
   "metadata": {},
   "outputs": [
    {
     "data": {
      "text/plain": [
       "44.563422074621386"
      ]
     },
     "execution_count": 163,
     "metadata": {},
     "output_type": "execute_result"
    }
   ],
   "source": [
    "volos_turbo_viirs['avg_rad'].mean()"
   ]
  },
  {
   "cell_type": "code",
   "execution_count": 164,
   "id": "ac952bdf",
   "metadata": {},
   "outputs": [
    {
     "data": {
      "text/plain": [
       "63.2931925909716"
      ]
     },
     "execution_count": 164,
     "metadata": {},
     "output_type": "execute_result"
    }
   ],
   "source": [
    "volos_amenities_viirs['avg_rad'].mean()"
   ]
  },
  {
   "cell_type": "code",
   "execution_count": 105,
   "id": "007febaf",
   "metadata": {},
   "outputs": [],
   "source": [
    "abandoned_chicago_regions_viirs=pd.read_csv('./data/csvs/abandoned_chicago_viirs.csv')\n",
    "#not_abandoned_chicago_regions_viirs=pd.read_csv('./data/csvs/not_abandoned_chicago_viirs.csv')\n",
    "final_chicago=pd.read_csv('./data/csvs/chicago_final.csv')"
   ]
  },
  {
   "cell_type": "code",
   "execution_count": 141,
   "id": "864d0af0",
   "metadata": {},
   "outputs": [
    {
     "data": {
      "text/plain": [
       "75.2699966430664"
      ]
     },
     "execution_count": 141,
     "metadata": {},
     "output_type": "execute_result"
    }
   ],
   "source": [
    "abandoned_chicago_regions_viirs['avg_rad'].median()"
   ]
  },
  {
   "cell_type": "code",
   "execution_count": 127,
   "id": "69e9b6f7",
   "metadata": {},
   "outputs": [
    {
     "data": {
      "text/plain": [
       "92.8488343136643"
      ]
     },
     "execution_count": 127,
     "metadata": {},
     "output_type": "execute_result"
    }
   ],
   "source": [
    "final_chicago['avg_rad'].mean()"
   ]
  },
  {
   "cell_type": "code",
   "execution_count": 142,
   "id": "78547529",
   "metadata": {},
   "outputs": [
    {
     "data": {
      "text/plain": [
       "75.56999969482422"
      ]
     },
     "execution_count": 142,
     "metadata": {},
     "output_type": "execute_result"
    }
   ],
   "source": [
    "chicago_not_abadnoned_rad = final_chicago[final_chicago['label']==0]\n",
    "chicago_not_abadnoned_rad['avg_rad'].median()"
   ]
  },
  {
   "cell_type": "code",
   "execution_count": 117,
   "id": "738ab6d7",
   "metadata": {},
   "outputs": [
    {
     "data": {
      "text/plain": [
       "96.13472185818723"
      ]
     },
     "execution_count": 117,
     "metadata": {},
     "output_type": "execute_result"
    }
   ],
   "source": [
    "chicago_abadnoned_rad = final_chicago[final_chicago['label']==1]\n",
    "chicago_abadnoned_rad['avg_rad'].mean()"
   ]
  },
  {
   "cell_type": "code",
   "execution_count": 47,
   "id": "a41e18c1",
   "metadata": {},
   "outputs": [],
   "source": [
    "# Attempt  harmonic time series clustering for ndvi\n",
    "# https://joaootavionf007.medium.com/harmonic-ndvi-time-series-clustering-with-python-and-gee-f5c1a8b47f6f"
   ]
  },
  {
   "cell_type": "code",
   "execution_count": 53,
   "id": "bb14b811",
   "metadata": {},
   "outputs": [],
   "source": [
    "#https://stats.stackexchange.com/questions/57010/is-it-essential-to-do-normalization-for-svm-and-random-forest"
   ]
  },
  {
   "cell_type": "code",
   "execution_count": 7,
   "id": "29151527",
   "metadata": {},
   "outputs": [],
   "source": [
    "volos_turbo_final  = pd.read_csv('./data/csvs/volos_turbo_final.csv')"
   ]
  },
  {
   "cell_type": "code",
   "execution_count": 8,
   "id": "8ee4252a",
   "metadata": {},
   "outputs": [
    {
     "data": {
      "text/html": [
       "<div>\n",
       "<style scoped>\n",
       "    .dataframe tbody tr th:only-of-type {\n",
       "        vertical-align: middle;\n",
       "    }\n",
       "\n",
       "    .dataframe tbody tr th {\n",
       "        vertical-align: top;\n",
       "    }\n",
       "\n",
       "    .dataframe thead th {\n",
       "        text-align: right;\n",
       "    }\n",
       "</style>\n",
       "<table border=\"1\" class=\"dataframe\">\n",
       "  <thead>\n",
       "    <tr style=\"text-align: right;\">\n",
       "      <th></th>\n",
       "      <th>VgNIRBI</th>\n",
       "      <th>PISI</th>\n",
       "      <th>NDVI</th>\n",
       "      <th>EMBI</th>\n",
       "      <th>VrNIRBI</th>\n",
       "      <th>IBI</th>\n",
       "      <th>NDBI</th>\n",
       "      <th>cf_cvg</th>\n",
       "      <th>avg_rad</th>\n",
       "      <th>label</th>\n",
       "    </tr>\n",
       "  </thead>\n",
       "  <tbody>\n",
       "    <tr>\n",
       "      <th>0</th>\n",
       "      <td>-0.156262</td>\n",
       "      <td>0.057925</td>\n",
       "      <td>0.069752</td>\n",
       "      <td>-0.089758</td>\n",
       "      <td>-0.069752</td>\n",
       "      <td>-15.913936</td>\n",
       "      <td>-0.010811</td>\n",
       "      <td>NaN</td>\n",
       "      <td>70.093898</td>\n",
       "      <td>0</td>\n",
       "    </tr>\n",
       "    <tr>\n",
       "      <th>1</th>\n",
       "      <td>-0.163073</td>\n",
       "      <td>0.054353</td>\n",
       "      <td>0.129827</td>\n",
       "      <td>-0.124079</td>\n",
       "      <td>-0.129827</td>\n",
       "      <td>-0.019400</td>\n",
       "      <td>-0.044529</td>\n",
       "      <td>NaN</td>\n",
       "      <td>70.093898</td>\n",
       "      <td>0</td>\n",
       "    </tr>\n",
       "    <tr>\n",
       "      <th>2</th>\n",
       "      <td>-0.152122</td>\n",
       "      <td>0.073200</td>\n",
       "      <td>0.101133</td>\n",
       "      <td>-0.027589</td>\n",
       "      <td>-0.101133</td>\n",
       "      <td>-0.673711</td>\n",
       "      <td>0.087293</td>\n",
       "      <td>NaN</td>\n",
       "      <td>70.093898</td>\n",
       "      <td>0</td>\n",
       "    </tr>\n",
       "    <tr>\n",
       "      <th>3</th>\n",
       "      <td>-0.279784</td>\n",
       "      <td>0.023549</td>\n",
       "      <td>0.288706</td>\n",
       "      <td>-0.124254</td>\n",
       "      <td>-0.288706</td>\n",
       "      <td>0.978246</td>\n",
       "      <td>-0.123526</td>\n",
       "      <td>NaN</td>\n",
       "      <td>70.093898</td>\n",
       "      <td>0</td>\n",
       "    </tr>\n",
       "    <tr>\n",
       "      <th>4</th>\n",
       "      <td>-0.226384</td>\n",
       "      <td>0.048742</td>\n",
       "      <td>0.194209</td>\n",
       "      <td>-0.024817</td>\n",
       "      <td>-0.194209</td>\n",
       "      <td>-2.934090</td>\n",
       "      <td>0.011797</td>\n",
       "      <td>NaN</td>\n",
       "      <td>70.093898</td>\n",
       "      <td>0</td>\n",
       "    </tr>\n",
       "    <tr>\n",
       "      <th>...</th>\n",
       "      <td>...</td>\n",
       "      <td>...</td>\n",
       "      <td>...</td>\n",
       "      <td>...</td>\n",
       "      <td>...</td>\n",
       "      <td>...</td>\n",
       "      <td>...</td>\n",
       "      <td>...</td>\n",
       "      <td>...</td>\n",
       "      <td>...</td>\n",
       "    </tr>\n",
       "    <tr>\n",
       "      <th>9821</th>\n",
       "      <td>-0.235897</td>\n",
       "      <td>0.019614</td>\n",
       "      <td>0.178426</td>\n",
       "      <td>-0.045459</td>\n",
       "      <td>-0.178426</td>\n",
       "      <td>2.214779</td>\n",
       "      <td>0.003865</td>\n",
       "      <td>14.0</td>\n",
       "      <td>68.900002</td>\n",
       "      <td>1</td>\n",
       "    </tr>\n",
       "    <tr>\n",
       "      <th>9822</th>\n",
       "      <td>-0.219015</td>\n",
       "      <td>0.029755</td>\n",
       "      <td>0.152598</td>\n",
       "      <td>-0.043590</td>\n",
       "      <td>-0.152598</td>\n",
       "      <td>-3.224787</td>\n",
       "      <td>0.018013</td>\n",
       "      <td>14.0</td>\n",
       "      <td>68.900002</td>\n",
       "      <td>1</td>\n",
       "    </tr>\n",
       "    <tr>\n",
       "      <th>9823</th>\n",
       "      <td>-0.219015</td>\n",
       "      <td>0.029755</td>\n",
       "      <td>0.152598</td>\n",
       "      <td>-0.043590</td>\n",
       "      <td>-0.152598</td>\n",
       "      <td>-3.224787</td>\n",
       "      <td>0.018013</td>\n",
       "      <td>14.0</td>\n",
       "      <td>68.900002</td>\n",
       "      <td>1</td>\n",
       "    </tr>\n",
       "    <tr>\n",
       "      <th>9824</th>\n",
       "      <td>-0.219015</td>\n",
       "      <td>0.029755</td>\n",
       "      <td>0.152598</td>\n",
       "      <td>-0.043590</td>\n",
       "      <td>-0.152598</td>\n",
       "      <td>-3.224787</td>\n",
       "      <td>0.018013</td>\n",
       "      <td>14.0</td>\n",
       "      <td>74.459999</td>\n",
       "      <td>1</td>\n",
       "    </tr>\n",
       "    <tr>\n",
       "      <th>9825</th>\n",
       "      <td>-0.219015</td>\n",
       "      <td>0.029755</td>\n",
       "      <td>0.152598</td>\n",
       "      <td>-0.043590</td>\n",
       "      <td>-0.152598</td>\n",
       "      <td>-3.224787</td>\n",
       "      <td>0.018013</td>\n",
       "      <td>14.0</td>\n",
       "      <td>68.900002</td>\n",
       "      <td>1</td>\n",
       "    </tr>\n",
       "  </tbody>\n",
       "</table>\n",
       "<p>9826 rows × 10 columns</p>\n",
       "</div>"
      ],
      "text/plain": [
       "       VgNIRBI      PISI      NDVI      EMBI   VrNIRBI        IBI      NDBI  \\\n",
       "0    -0.156262  0.057925  0.069752 -0.089758 -0.069752 -15.913936 -0.010811   \n",
       "1    -0.163073  0.054353  0.129827 -0.124079 -0.129827  -0.019400 -0.044529   \n",
       "2    -0.152122  0.073200  0.101133 -0.027589 -0.101133  -0.673711  0.087293   \n",
       "3    -0.279784  0.023549  0.288706 -0.124254 -0.288706   0.978246 -0.123526   \n",
       "4    -0.226384  0.048742  0.194209 -0.024817 -0.194209  -2.934090  0.011797   \n",
       "...        ...       ...       ...       ...       ...        ...       ...   \n",
       "9821 -0.235897  0.019614  0.178426 -0.045459 -0.178426   2.214779  0.003865   \n",
       "9822 -0.219015  0.029755  0.152598 -0.043590 -0.152598  -3.224787  0.018013   \n",
       "9823 -0.219015  0.029755  0.152598 -0.043590 -0.152598  -3.224787  0.018013   \n",
       "9824 -0.219015  0.029755  0.152598 -0.043590 -0.152598  -3.224787  0.018013   \n",
       "9825 -0.219015  0.029755  0.152598 -0.043590 -0.152598  -3.224787  0.018013   \n",
       "\n",
       "      cf_cvg    avg_rad  label  \n",
       "0        NaN  70.093898      0  \n",
       "1        NaN  70.093898      0  \n",
       "2        NaN  70.093898      0  \n",
       "3        NaN  70.093898      0  \n",
       "4        NaN  70.093898      0  \n",
       "...      ...        ...    ...  \n",
       "9821    14.0  68.900002      1  \n",
       "9822    14.0  68.900002      1  \n",
       "9823    14.0  68.900002      1  \n",
       "9824    14.0  74.459999      1  \n",
       "9825    14.0  68.900002      1  \n",
       "\n",
       "[9826 rows x 10 columns]"
      ]
     },
     "execution_count": 8,
     "metadata": {},
     "output_type": "execute_result"
    }
   ],
   "source": [
    "volos_turbo_final"
   ]
  },
  {
   "cell_type": "code",
   "execution_count": 48,
   "id": "68d27076",
   "metadata": {},
   "outputs": [],
   "source": [
    "avg_rad_mu=volos_turbo_final['VrNIRBI'].mean()\n",
    "avg_rad_std=volos_turbo_final['VrNIRBI'].std()\n",
    "normalized_avg_rad = (volos_turbo_final['VrNIRBI']-avg_rad_mu)/avg_rad_std"
   ]
  },
  {
   "cell_type": "code",
   "execution_count": 49,
   "id": "2149691a",
   "metadata": {},
   "outputs": [
    {
     "data": {
      "text/plain": [
       "0.11555398854079321"
      ]
     },
     "execution_count": 49,
     "metadata": {},
     "output_type": "execute_result"
    }
   ],
   "source": [
    "avg_rad_std"
   ]
  },
  {
   "cell_type": "code",
   "execution_count": 50,
   "id": "f3e45e37",
   "metadata": {
    "scrolled": true
   },
   "outputs": [
    {
     "data": {
      "text/plain": [
       "0       0.551067\n",
       "1       0.031179\n",
       "2       0.279491\n",
       "3      -1.343752\n",
       "4      -0.525984\n",
       "          ...   \n",
       "9821   -0.389394\n",
       "9822   -0.165879\n",
       "9823   -0.165879\n",
       "9824   -0.165879\n",
       "9825   -0.165879\n",
       "Name: VrNIRBI, Length: 9826, dtype: float64"
      ]
     },
     "execution_count": 50,
     "metadata": {},
     "output_type": "execute_result"
    }
   ],
   "source": [
    "normalized_avg_rad"
   ]
  },
  {
   "cell_type": "code",
   "execution_count": 52,
   "id": "07a154d0",
   "metadata": {},
   "outputs": [
    {
     "data": {
      "image/png": "[encoded data removed]",
      "text/plain": [
       "<Figure size 432x288 with 1 Axes>"
      ]
     },
     "metadata": {
      "needs_background": "light"
     },
     "output_type": "display_data"
    }
   ],
   "source": [
    "# QQ Plot\n",
    "from numpy.random import seed\n",
    "from numpy.random import randn\n",
    "from statsmodels.graphics.gofplots import qqplot\n",
    "from matplotlib import pyplot\n",
    "# seed the random number generator\n",
    "seed(1)\n",
    "# generate univariate observations\n",
    "#data = 5 * randn(100) + 50\n",
    "# q-q plot\n",
    "qqplot(normalized_avg_rad, line='s')\n",
    "pyplot.show()"
   ]
  },
  {
   "cell_type": "code",
   "execution_count": 51,
   "id": "212163a4",
   "metadata": {},
   "outputs": [
    {
     "data": {
      "image/png": "[encoded data removed]",
      "text/plain": [
       "<Figure size 432x288 with 1 Axes>"
      ]
     },
     "metadata": {
      "needs_background": "light"
     },
     "output_type": "display_data"
    }
   ],
   "source": [
    "# histogram plot\n",
    "from numpy.random import seed\n",
    "from numpy.random import randn\n",
    "from matplotlib import pyplot\n",
    "# seed the random number generator\n",
    "seed(1)\n",
    "# generate univariate observations\n",
    "#data = 5 * randn(100) + 50\n",
    "# histogram plot\n",
    "pyplot.hist(normalized_avg_rad)\n",
    "pyplot.show()"
   ]
  },
  {
   "cell_type": "code",
   "execution_count": 26,
   "id": "e33a64d0",
   "metadata": {},
   "outputs": [
    {
     "data": {
      "image/png": "[encoded data removed]",
      "text/plain": [
       "<Figure size 432x288 with 1 Axes>"
      ]
     },
     "metadata": {
      "needs_background": "light"
     },
     "output_type": "display_data"
    }
   ],
   "source": [
    "# histogram plot\n",
    "from numpy.random import seed\n",
    "from numpy.random import randn\n",
    "from matplotlib import pyplot\n",
    "# seed the random number generator\n",
    "seed(1)\n",
    "# generate univariate observations\n",
    "#data = 5 * randn(100) + 50\n",
    "# histogram plot\n",
    "pyplot.hist(volos_turbo_final['VrNIRBI'])\n",
    "pyplot.show()\n"
   ]
  },
  {
   "cell_type": "raw",
   "id": "e3dc9e01",
   "metadata": {},
   "source": [
    "from sklearn import preprocessing\n",
    "\n",
    "normalized = preprocessing.normalize(np.reshape(volos_turbo_final['avg_rad'],[-1,1])\n",
    "print(\"Normalized Data = \", normalized)"
   ]
  },
  {
   "cell_type": "code",
   "execution_count": 28,
   "id": "369705a7",
   "metadata": {},
   "outputs": [
    {
     "data": {
      "text/plain": [
       "array([69.11684134, 68.64956335, 68.615471  , ..., 68.66205165,\n",
       "       68.66205165, 68.63610077])"
      ]
     },
     "execution_count": 28,
     "metadata": {},
     "output_type": "execute_result"
    }
   ],
   "source": [
    "from sklearn.svm import OneClassSVM\n",
    "model = OneClassSVM(gamma='scale', nu=0.01)\n",
    "trainX = volos_turbo_final.drop(['label'],axis=1)\n",
    "model.fit(trainX)\n",
    "yhat = model.predict(axis=1)\n",
    "model.score_samples(trainX)\n",
    "# calculate score\n",
    "#score = f1_score(testy, yhat, pos_label=-1)\n",
    "#print('F1 Score: %.3f' % score)"
   ]
  },
  {
   "cell_type": "code",
   "execution_count": 32,
   "id": "3ef2a5d3",
   "metadata": {},
   "outputs": [],
   "source": [
    "from sklearn.ensemble import IsolationForest\n",
    "\n",
    "clf = IsolationForest(random_state=0).fit(trainX)\n",
    "pred=clf.predict(volos_turbo_viirs.drop(['date','building','id','@id','reducer','type','building:levels'],axis=1))"
   ]
  },
  {
   "cell_type": "code",
   "execution_count": 37,
   "id": "df8c9649",
   "metadata": {},
   "outputs": [
    {
     "data": {
      "text/plain": [
       "27628"
      ]
     },
     "execution_count": 37,
     "metadata": {},
     "output_type": "execute_result"
    }
   ],
   "source": [
    "len(pred[pred==-1])"
   ]
  },
  {
   "cell_type": "code",
   "execution_count": 9,
   "id": "2d492ce5",
   "metadata": {},
   "outputs": [
    {
     "ename": "NameError",
     "evalue": "name 'make_point_list' is not defined",
     "output_type": "error",
     "traceback": [
      "\u001b[1;31m---------------------------------------------------------------------------\u001b[0m",
      "\u001b[1;31mNameError\u001b[0m                                 Traceback (most recent call last)",
      "\u001b[1;32m~\\AppData\\Local\\Temp/ipykernel_16328/2101832110.py\u001b[0m in \u001b[0;36m<module>\u001b[1;34m\u001b[0m\n\u001b[0;32m      7\u001b[0m \u001b[1;31m# chicago_abandoned_sample1 =  chicago_abandoned[1000:20000]\u001b[0m\u001b[1;33m\u001b[0m\u001b[1;33m\u001b[0m\u001b[1;33m\u001b[0m\u001b[0m\n\u001b[0;32m      8\u001b[0m \u001b[1;31m# chicago_not_abandoned_sample1 =  chicago_not_abandoned[1000:2000]\u001b[0m\u001b[1;33m\u001b[0m\u001b[1;33m\u001b[0m\u001b[1;33m\u001b[0m\u001b[0m\n\u001b[1;32m----> 9\u001b[1;33m \u001b[0mchicago_abandoned_fc1\u001b[0m \u001b[1;33m=\u001b[0m \u001b[0mmake_point_list\u001b[0m\u001b[1;33m(\u001b[0m\u001b[0mchicago_abandoned_sample1\u001b[0m\u001b[1;33m)\u001b[0m\u001b[1;33m\u001b[0m\u001b[1;33m\u001b[0m\u001b[0m\n\u001b[0m\u001b[0;32m     10\u001b[0m \u001b[0mchicago_not_abandoned_fc1\u001b[0m \u001b[1;33m=\u001b[0m \u001b[0mmake_point_list\u001b[0m\u001b[1;33m(\u001b[0m\u001b[0mchicago_not_abandoned_sample1\u001b[0m\u001b[1;33m)\u001b[0m\u001b[1;33m\u001b[0m\u001b[1;33m\u001b[0m\u001b[0m\n",
      "\u001b[1;31mNameError\u001b[0m: name 'make_point_list' is not defined"
     ]
    }
   ],
   "source": [
    "# Make batches of these files\n",
    "# First 1000\n",
    "chicago_abandoned_sample1 =  chicago_abandoned[:1000]\n",
    "chicago_not_abandoned_sample1 =  chicago_not_abandoned[:1000]\n",
    "\n",
    "# Senond 1000\n",
    "# chicago_abandoned_sample1 =  chicago_abandoned[1000:20000]\n",
    "# chicago_not_abandoned_sample1 =  chicago_not_abandoned[1000:2000]\n",
    "chicago_abandoned_fc1 = make_point_list(chicago_abandoned_sample1)\n",
    "chicago_not_abandoned_fc1 = make_point_list(chicago_not_abandoned_sample1)"
   ]
  },
  {
   "cell_type": "markdown",
   "id": "5bb23a11",
   "metadata": {},
   "source": [
    "# S2  AND VIIRS  FOR  PHILLY BUILDINGS"
   ]
  },
  {
   "cell_type": "code",
   "execution_count": 177,
   "id": "05d53467",
   "metadata": {
    "scrolled": true
   },
   "outputs": [
    {
     "name": "stderr",
     "output_type": "stream",
     "text": [
      "C:\\Users\\Christos\\anaconda3\\envs\\ml\\lib\\site-packages\\scipy\\stats\\morestats.py:1760: UserWarning: p-value may not be accurate for N > 5000.\n",
      "  warnings.warn(\"p-value may not be accurate for N > 5000.\")\n",
      "C:\\Users\\Christos\\anaconda3\\envs\\ml\\lib\\site-packages\\scipy\\stats\\morestats.py:1760: UserWarning: p-value may not be accurate for N > 5000.\n",
      "  warnings.warn(\"p-value may not be accurate for N > 5000.\")\n"
     ]
    },
    {
     "data": {
      "text/plain": [
       "ShapiroResult(statistic=0.9358696937561035, pvalue=0.0)"
      ]
     },
     "execution_count": 177,
     "metadata": {},
     "output_type": "execute_result"
    }
   ],
   "source": [
    "# check  mean  difference significace\n",
    "#  https://towardsdatascience.com/anova-t-test-and-other-statistical-tests-with-python-e7a36a2fdc0c\n",
    "from scipy import stats\n",
    "import pandas as pd\n",
    "# import the data\n",
    "#df= pd.read_csv(\"Iris_Data.csv\")\n",
    "#setosa = volos_amenities_viirs['avg_rad']\n",
    "#versicolor = vacant_philly_bldgs_viirs['avg_rad']\n",
    "# homogeneity\n",
    "stats.levene(volos_amenities_viirs['avg_rad'],vacant_philly_bldgs_viirs['avg_rad'])\n",
    "# Shapiro-Wilk test for normality\n",
    "stats.shapiro(volos_amenities_viirs['avg_rad'])\n",
    "stats.shapiro(vacant_philly_bldgs_viirs['avg_rad'])"
   ]
  },
  {
   "cell_type": "code",
   "execution_count": 185,
   "id": "3465da24",
   "metadata": {},
   "outputs": [
    {
     "data": {
      "text/plain": [
       "LeveneResult(statistic=1474.2551187816864, pvalue=1.332969179747605e-288)"
      ]
     },
     "execution_count": 185,
     "metadata": {},
     "output_type": "execute_result"
    }
   ],
   "source": [
    "stats.levene(volos_amenities_viirs['avg_rad'].iloc[:3000],vacant_philly_bldgs_viirs['avg_rad'].iloc[:3000])"
   ]
  },
  {
   "cell_type": "code",
   "execution_count": 187,
   "id": "298205f1",
   "metadata": {},
   "outputs": [
    {
     "data": {
      "text/plain": [
       "ShapiroResult(statistic=0.9563784003257751, pvalue=1.1211261915408915e-16)"
      ]
     },
     "execution_count": 187,
     "metadata": {},
     "output_type": "execute_result"
    }
   ],
   "source": [
    "stats.shapiro(volos_amenities_viirs['avg_rad'].iloc[:1000])"
   ]
  },
  {
   "cell_type": "code",
   "execution_count": 178,
   "id": "0e5a8669",
   "metadata": {
    "scrolled": false
   },
   "outputs": [
    {
     "name": "stderr",
     "output_type": "stream",
     "text": [
      "C:\\Users\\Christos\\anaconda3\\envs\\ml\\lib\\site-packages\\scipy\\stats\\morestats.py:1760: UserWarning: p-value may not be accurate for N > 5000.\n",
      "  warnings.warn(\"p-value may not be accurate for N > 5000.\")\n"
     ]
    },
    {
     "data": {
      "text/plain": [
       "ShapiroResult(statistic=0.9358696937561035, pvalue=0.0)"
      ]
     },
     "execution_count": 178,
     "metadata": {},
     "output_type": "execute_result"
    }
   ],
   "source": [
    "stats.shapiro(vacant_philly_bldgs_viirs['avg_rad'])"
   ]
  },
  {
   "cell_type": "code",
   "execution_count": 197,
   "id": "568ba650",
   "metadata": {},
   "outputs": [],
   "source": [
    "# These  results   show  that  we should use a non  parametric  approach\n",
    "#  Ths wilcoxon"
   ]
  },
  {
   "cell_type": "code",
   "execution_count": 200,
   "id": "1fb1be86",
   "metadata": {},
   "outputs": [
    {
     "data": {
      "text/plain": [
       "49364"
      ]
     },
     "execution_count": 200,
     "metadata": {},
     "output_type": "execute_result"
    }
   ],
   "source": [
    "len(volos_turbo_viirs['avg_rad'])"
   ]
  },
  {
   "cell_type": "code",
   "execution_count": 198,
   "id": "7b8a7426",
   "metadata": {},
   "outputs": [
    {
     "data": {
      "text/plain": [
       "WilcoxonResult(statistic=2075.0, pvalue=1.6460273421042428e-162)"
      ]
     },
     "execution_count": 198,
     "metadata": {},
     "output_type": "execute_result"
    }
   ],
   "source": [
    "stats.wilcoxon(volos_amenities_viirs['avg_rad'].iloc[:1000],abandoned_chicago_regions_viirs['avg_rad'].iloc[:1000])"
   ]
  },
  {
   "cell_type": "code",
   "execution_count": 201,
   "id": "7f0f8d14",
   "metadata": {},
   "outputs": [],
   "source": [
    "# Thus we  will do  a one class classification"
   ]
  },
  {
   "cell_type": "code",
   "execution_count": null,
   "id": "fc13524b",
   "metadata": {},
   "outputs": [],
   "source": [
    "volos_turbo_final = pd.read_csv('./data/csvs/volos_turbo_final.csv')\n",
    "\n",
    "#volos_turbo_viirs = pd.read_csv('./data/csvs/volos_turbo_viirs.csv')\n",
    "\n",
    "volos_turbo_cfg = pd.read_csv('./data/csvs/turbo_volos_cfg.csv')\n",
    "\n",
    "volos_amenities_cfg  = pd.read_csv('./data/csvs/volos_amenities_cfg.csv')"
   ]
  },
  {
   "cell_type": "code",
   "execution_count": 202,
   "id": "9f59babd",
   "metadata": {
    "scrolled": true
   },
   "outputs": [
    {
     "data": {
      "text/html": [
       "<div>\n",
       "<style scoped>\n",
       "    .dataframe tbody tr th:only-of-type {\n",
       "        vertical-align: middle;\n",
       "    }\n",
       "\n",
       "    .dataframe tbody tr th {\n",
       "        vertical-align: top;\n",
       "    }\n",
       "\n",
       "    .dataframe thead th {\n",
       "        text-align: right;\n",
       "    }\n",
       "</style>\n",
       "<table border=\"1\" class=\"dataframe\">\n",
       "  <thead>\n",
       "    <tr style=\"text-align: right;\">\n",
       "      <th></th>\n",
       "      <th>Unnamed: 0</th>\n",
       "      <th>date_x</th>\n",
       "      <th>VgNIRBI</th>\n",
       "      <th>amenity_x</th>\n",
       "      <th>PISI</th>\n",
       "      <th>type_x</th>\n",
       "      <th>NDVI</th>\n",
       "      <th>EMBI</th>\n",
       "      <th>VrNIRBI</th>\n",
       "      <th>IBI</th>\n",
       "      <th>...</th>\n",
       "      <th>month</th>\n",
       "      <th>year</th>\n",
       "      <th>date_y</th>\n",
       "      <th>amenity_y</th>\n",
       "      <th>avg_rad</th>\n",
       "      <th>id_y</th>\n",
       "      <th>@id_y</th>\n",
       "      <th>reducer_y</th>\n",
       "      <th>type_y</th>\n",
       "      <th>label</th>\n",
       "    </tr>\n",
       "  </thead>\n",
       "  <tbody>\n",
       "    <tr>\n",
       "      <th>0</th>\n",
       "      <td>0</td>\n",
       "      <td>2020-01-04 09:29:30</td>\n",
       "      <td>-0.166943</td>\n",
       "      <td>university</td>\n",
       "      <td>0.054487</td>\n",
       "      <td>multipolygon</td>\n",
       "      <td>0.071631</td>\n",
       "      <td>-0.073549</td>\n",
       "      <td>-0.071631</td>\n",
       "      <td>4.277746</td>\n",
       "      <td>...</td>\n",
       "      <td>1</td>\n",
       "      <td>2020</td>\n",
       "      <td>2020-01-01</td>\n",
       "      <td>university</td>\n",
       "      <td>33.939999</td>\n",
       "      <td>relation/3560042</td>\n",
       "      <td>relation/3560042</td>\n",
       "      <td>mean</td>\n",
       "      <td>multipolygon</td>\n",
       "      <td>1.0</td>\n",
       "    </tr>\n",
       "    <tr>\n",
       "      <th>1</th>\n",
       "      <td>0</td>\n",
       "      <td>2020-01-04 09:29:30</td>\n",
       "      <td>-0.166943</td>\n",
       "      <td>university</td>\n",
       "      <td>0.054487</td>\n",
       "      <td>multipolygon</td>\n",
       "      <td>0.071631</td>\n",
       "      <td>-0.073549</td>\n",
       "      <td>-0.071631</td>\n",
       "      <td>4.277746</td>\n",
       "      <td>...</td>\n",
       "      <td>1</td>\n",
       "      <td>2020</td>\n",
       "      <td>2020-01-01</td>\n",
       "      <td>prison</td>\n",
       "      <td>49.459999</td>\n",
       "      <td>relation/3560382</td>\n",
       "      <td>relation/3560382</td>\n",
       "      <td>mean</td>\n",
       "      <td>multipolygon</td>\n",
       "      <td>1.0</td>\n",
       "    </tr>\n",
       "    <tr>\n",
       "      <th>2</th>\n",
       "      <td>0</td>\n",
       "      <td>2020-01-04 09:29:30</td>\n",
       "      <td>-0.166943</td>\n",
       "      <td>university</td>\n",
       "      <td>0.054487</td>\n",
       "      <td>multipolygon</td>\n",
       "      <td>0.071631</td>\n",
       "      <td>-0.073549</td>\n",
       "      <td>-0.071631</td>\n",
       "      <td>4.277746</td>\n",
       "      <td>...</td>\n",
       "      <td>1</td>\n",
       "      <td>2020</td>\n",
       "      <td>2020-01-01</td>\n",
       "      <td>parking</td>\n",
       "      <td>98.040001</td>\n",
       "      <td>relation/8234668</td>\n",
       "      <td>relation/8234668</td>\n",
       "      <td>mean</td>\n",
       "      <td>multipolygon</td>\n",
       "      <td>1.0</td>\n",
       "    </tr>\n",
       "    <tr>\n",
       "      <th>3</th>\n",
       "      <td>0</td>\n",
       "      <td>2020-01-04 09:29:30</td>\n",
       "      <td>-0.166943</td>\n",
       "      <td>university</td>\n",
       "      <td>0.054487</td>\n",
       "      <td>multipolygon</td>\n",
       "      <td>0.071631</td>\n",
       "      <td>-0.073549</td>\n",
       "      <td>-0.071631</td>\n",
       "      <td>4.277746</td>\n",
       "      <td>...</td>\n",
       "      <td>1</td>\n",
       "      <td>2020</td>\n",
       "      <td>2020-01-01</td>\n",
       "      <td>parking</td>\n",
       "      <td>32.930000</td>\n",
       "      <td>relation/14115705</td>\n",
       "      <td>relation/14115705</td>\n",
       "      <td>mean</td>\n",
       "      <td>multipolygon</td>\n",
       "      <td>1.0</td>\n",
       "    </tr>\n",
       "    <tr>\n",
       "      <th>4</th>\n",
       "      <td>0</td>\n",
       "      <td>2020-01-04 09:29:30</td>\n",
       "      <td>-0.166943</td>\n",
       "      <td>university</td>\n",
       "      <td>0.054487</td>\n",
       "      <td>multipolygon</td>\n",
       "      <td>0.071631</td>\n",
       "      <td>-0.073549</td>\n",
       "      <td>-0.071631</td>\n",
       "      <td>4.277746</td>\n",
       "      <td>...</td>\n",
       "      <td>1</td>\n",
       "      <td>2020</td>\n",
       "      <td>2020-01-01</td>\n",
       "      <td>parking_space</td>\n",
       "      <td>30.582142</td>\n",
       "      <td>way/26250160</td>\n",
       "      <td>way/26250160</td>\n",
       "      <td>mean</td>\n",
       "      <td>NaN</td>\n",
       "      <td>1.0</td>\n",
       "    </tr>\n",
       "    <tr>\n",
       "      <th>...</th>\n",
       "      <td>...</td>\n",
       "      <td>...</td>\n",
       "      <td>...</td>\n",
       "      <td>...</td>\n",
       "      <td>...</td>\n",
       "      <td>...</td>\n",
       "      <td>...</td>\n",
       "      <td>...</td>\n",
       "      <td>...</td>\n",
       "      <td>...</td>\n",
       "      <td>...</td>\n",
       "      <td>...</td>\n",
       "      <td>...</td>\n",
       "      <td>...</td>\n",
       "      <td>...</td>\n",
       "      <td>...</td>\n",
       "      <td>...</td>\n",
       "      <td>...</td>\n",
       "      <td>...</td>\n",
       "      <td>...</td>\n",
       "      <td>...</td>\n",
       "    </tr>\n",
       "    <tr>\n",
       "      <th>14421162</th>\n",
       "      <td>24312</td>\n",
       "      <td>2022-05-03 09:29:41</td>\n",
       "      <td>-0.087048</td>\n",
       "      <td>post_office</td>\n",
       "      <td>0.103465</td>\n",
       "      <td>NaN</td>\n",
       "      <td>0.045282</td>\n",
       "      <td>-0.150802</td>\n",
       "      <td>-0.045282</td>\n",
       "      <td>-0.014899</td>\n",
       "      <td>...</td>\n",
       "      <td>5</td>\n",
       "      <td>2022</td>\n",
       "      <td>2022-05-01</td>\n",
       "      <td>bus_station</td>\n",
       "      <td>7.660000</td>\n",
       "      <td>node/9724693399</td>\n",
       "      <td>node/9724693399</td>\n",
       "      <td>mean</td>\n",
       "      <td>NaN</td>\n",
       "      <td>1.0</td>\n",
       "    </tr>\n",
       "    <tr>\n",
       "      <th>14421163</th>\n",
       "      <td>24312</td>\n",
       "      <td>2022-05-03 09:29:41</td>\n",
       "      <td>-0.087048</td>\n",
       "      <td>post_office</td>\n",
       "      <td>0.103465</td>\n",
       "      <td>NaN</td>\n",
       "      <td>0.045282</td>\n",
       "      <td>-0.150802</td>\n",
       "      <td>-0.045282</td>\n",
       "      <td>-0.014899</td>\n",
       "      <td>...</td>\n",
       "      <td>5</td>\n",
       "      <td>2022</td>\n",
       "      <td>2022-05-01</td>\n",
       "      <td>bus_station</td>\n",
       "      <td>7.660000</td>\n",
       "      <td>node/9724693400</td>\n",
       "      <td>node/9724693400</td>\n",
       "      <td>mean</td>\n",
       "      <td>NaN</td>\n",
       "      <td>1.0</td>\n",
       "    </tr>\n",
       "    <tr>\n",
       "      <th>14421164</th>\n",
       "      <td>24312</td>\n",
       "      <td>2022-05-03 09:29:41</td>\n",
       "      <td>-0.087048</td>\n",
       "      <td>post_office</td>\n",
       "      <td>0.103465</td>\n",
       "      <td>NaN</td>\n",
       "      <td>0.045282</td>\n",
       "      <td>-0.150802</td>\n",
       "      <td>-0.045282</td>\n",
       "      <td>-0.014899</td>\n",
       "      <td>...</td>\n",
       "      <td>5</td>\n",
       "      <td>2022</td>\n",
       "      <td>2022-05-01</td>\n",
       "      <td>place_of_worship</td>\n",
       "      <td>41.459999</td>\n",
       "      <td>node/9729450760</td>\n",
       "      <td>node/9729450760</td>\n",
       "      <td>mean</td>\n",
       "      <td>NaN</td>\n",
       "      <td>1.0</td>\n",
       "    </tr>\n",
       "    <tr>\n",
       "      <th>14421165</th>\n",
       "      <td>24312</td>\n",
       "      <td>2022-05-03 09:29:41</td>\n",
       "      <td>-0.087048</td>\n",
       "      <td>post_office</td>\n",
       "      <td>0.103465</td>\n",
       "      <td>NaN</td>\n",
       "      <td>0.045282</td>\n",
       "      <td>-0.150802</td>\n",
       "      <td>-0.045282</td>\n",
       "      <td>-0.014899</td>\n",
       "      <td>...</td>\n",
       "      <td>5</td>\n",
       "      <td>2022</td>\n",
       "      <td>2022-05-01</td>\n",
       "      <td>social_centre</td>\n",
       "      <td>41.459999</td>\n",
       "      <td>node/9729450761</td>\n",
       "      <td>node/9729450761</td>\n",
       "      <td>mean</td>\n",
       "      <td>NaN</td>\n",
       "      <td>1.0</td>\n",
       "    </tr>\n",
       "    <tr>\n",
       "      <th>14421166</th>\n",
       "      <td>24312</td>\n",
       "      <td>2022-05-03 09:29:41</td>\n",
       "      <td>-0.087048</td>\n",
       "      <td>post_office</td>\n",
       "      <td>0.103465</td>\n",
       "      <td>NaN</td>\n",
       "      <td>0.045282</td>\n",
       "      <td>-0.150802</td>\n",
       "      <td>-0.045282</td>\n",
       "      <td>-0.014899</td>\n",
       "      <td>...</td>\n",
       "      <td>5</td>\n",
       "      <td>2022</td>\n",
       "      <td>2022-05-01</td>\n",
       "      <td>post_office</td>\n",
       "      <td>101.489998</td>\n",
       "      <td>node/9819581599</td>\n",
       "      <td>node/9819581599</td>\n",
       "      <td>mean</td>\n",
       "      <td>NaN</td>\n",
       "      <td>1.0</td>\n",
       "    </tr>\n",
       "  </tbody>\n",
       "</table>\n",
       "<p>14421167 rows × 24 columns</p>\n",
       "</div>"
      ],
      "text/plain": [
       "          Unnamed: 0              date_x   VgNIRBI    amenity_x      PISI  \\\n",
       "0                  0 2020-01-04 09:29:30 -0.166943   university  0.054487   \n",
       "1                  0 2020-01-04 09:29:30 -0.166943   university  0.054487   \n",
       "2                  0 2020-01-04 09:29:30 -0.166943   university  0.054487   \n",
       "3                  0 2020-01-04 09:29:30 -0.166943   university  0.054487   \n",
       "4                  0 2020-01-04 09:29:30 -0.166943   university  0.054487   \n",
       "...              ...                 ...       ...          ...       ...   \n",
       "14421162       24312 2022-05-03 09:29:41 -0.087048  post_office  0.103465   \n",
       "14421163       24312 2022-05-03 09:29:41 -0.087048  post_office  0.103465   \n",
       "14421164       24312 2022-05-03 09:29:41 -0.087048  post_office  0.103465   \n",
       "14421165       24312 2022-05-03 09:29:41 -0.087048  post_office  0.103465   \n",
       "14421166       24312 2022-05-03 09:29:41 -0.087048  post_office  0.103465   \n",
       "\n",
       "                type_x      NDVI      EMBI   VrNIRBI       IBI  ...  month  \\\n",
       "0         multipolygon  0.071631 -0.073549 -0.071631  4.277746  ...      1   \n",
       "1         multipolygon  0.071631 -0.073549 -0.071631  4.277746  ...      1   \n",
       "2         multipolygon  0.071631 -0.073549 -0.071631  4.277746  ...      1   \n",
       "3         multipolygon  0.071631 -0.073549 -0.071631  4.277746  ...      1   \n",
       "4         multipolygon  0.071631 -0.073549 -0.071631  4.277746  ...      1   \n",
       "...                ...       ...       ...       ...       ...  ...    ...   \n",
       "14421162           NaN  0.045282 -0.150802 -0.045282 -0.014899  ...      5   \n",
       "14421163           NaN  0.045282 -0.150802 -0.045282 -0.014899  ...      5   \n",
       "14421164           NaN  0.045282 -0.150802 -0.045282 -0.014899  ...      5   \n",
       "14421165           NaN  0.045282 -0.150802 -0.045282 -0.014899  ...      5   \n",
       "14421166           NaN  0.045282 -0.150802 -0.045282 -0.014899  ...      5   \n",
       "\n",
       "          year     date_y         amenity_y     avg_rad               id_y  \\\n",
       "0         2020 2020-01-01        university   33.939999   relation/3560042   \n",
       "1         2020 2020-01-01            prison   49.459999   relation/3560382   \n",
       "2         2020 2020-01-01           parking   98.040001   relation/8234668   \n",
       "3         2020 2020-01-01           parking   32.930000  relation/14115705   \n",
       "4         2020 2020-01-01     parking_space   30.582142       way/26250160   \n",
       "...        ...        ...               ...         ...                ...   \n",
       "14421162  2022 2022-05-01       bus_station    7.660000    node/9724693399   \n",
       "14421163  2022 2022-05-01       bus_station    7.660000    node/9724693400   \n",
       "14421164  2022 2022-05-01  place_of_worship   41.459999    node/9729450760   \n",
       "14421165  2022 2022-05-01     social_centre   41.459999    node/9729450761   \n",
       "14421166  2022 2022-05-01       post_office  101.489998    node/9819581599   \n",
       "\n",
       "                      @id_y reducer_y        type_y label  \n",
       "0          relation/3560042      mean  multipolygon   1.0  \n",
       "1          relation/3560382      mean  multipolygon   1.0  \n",
       "2          relation/8234668      mean  multipolygon   1.0  \n",
       "3         relation/14115705      mean  multipolygon   1.0  \n",
       "4              way/26250160      mean           NaN   1.0  \n",
       "...                     ...       ...           ...   ...  \n",
       "14421162    node/9724693399      mean           NaN   1.0  \n",
       "14421163    node/9724693400      mean           NaN   1.0  \n",
       "14421164    node/9729450760      mean           NaN   1.0  \n",
       "14421165    node/9729450761      mean           NaN   1.0  \n",
       "14421166    node/9819581599      mean           NaN   1.0  \n",
       "\n",
       "[14421167 rows x 24 columns]"
      ]
     },
     "execution_count": 202,
     "metadata": {},
     "output_type": "execute_result"
    }
   ],
   "source": [
    "\n",
    "volos_amenities"
   ]
  },
  {
   "cell_type": "code",
   "execution_count": 209,
   "id": "bf0d6be3",
   "metadata": {},
   "outputs": [
    {
     "data": {
      "text/html": [
       "<div>\n",
       "<style scoped>\n",
       "    .dataframe tbody tr th:only-of-type {\n",
       "        vertical-align: middle;\n",
       "    }\n",
       "\n",
       "    .dataframe tbody tr th {\n",
       "        vertical-align: top;\n",
       "    }\n",
       "\n",
       "    .dataframe thead th {\n",
       "        text-align: right;\n",
       "    }\n",
       "</style>\n",
       "<table border=\"1\" class=\"dataframe\">\n",
       "  <thead>\n",
       "    <tr style=\"text-align: right;\">\n",
       "      <th></th>\n",
       "      <th>Unnamed: 0</th>\n",
       "      <th>date</th>\n",
       "      <th>VgNIRBI</th>\n",
       "      <th>building:levels</th>\n",
       "      <th>PISI</th>\n",
       "      <th>type</th>\n",
       "      <th>NDVI</th>\n",
       "      <th>building</th>\n",
       "      <th>EMBI</th>\n",
       "      <th>VrNIRBI</th>\n",
       "      <th>IBI</th>\n",
       "      <th>NDBI</th>\n",
       "      <th>id</th>\n",
       "      <th>@id</th>\n",
       "      <th>reducer</th>\n",
       "      <th>month</th>\n",
       "      <th>year</th>\n",
       "    </tr>\n",
       "  </thead>\n",
       "  <tbody>\n",
       "    <tr>\n",
       "      <th>0</th>\n",
       "      <td>0</td>\n",
       "      <td>2020-01-04 09:29:30</td>\n",
       "      <td>-0.104926</td>\n",
       "      <td>2.0</td>\n",
       "      <td>0.087421</td>\n",
       "      <td>multipolygon</td>\n",
       "      <td>0.078712</td>\n",
       "      <td>grandstand</td>\n",
       "      <td>-0.052816</td>\n",
       "      <td>-0.078712</td>\n",
       "      <td>4.218635</td>\n",
       "      <td>0.049151</td>\n",
       "      <td>relation/2821121</td>\n",
       "      <td>relation/2821121</td>\n",
       "      <td>mean</td>\n",
       "      <td>1</td>\n",
       "      <td>2020</td>\n",
       "    </tr>\n",
       "    <tr>\n",
       "      <th>1</th>\n",
       "      <td>1</td>\n",
       "      <td>2020-01-04 09:29:30</td>\n",
       "      <td>-0.264219</td>\n",
       "      <td>1.0</td>\n",
       "      <td>0.032466</td>\n",
       "      <td>multipolygon</td>\n",
       "      <td>0.140273</td>\n",
       "      <td>grandstand</td>\n",
       "      <td>0.001069</td>\n",
       "      <td>-0.140273</td>\n",
       "      <td>0.417595</td>\n",
       "      <td>-0.007310</td>\n",
       "      <td>relation/2821125</td>\n",
       "      <td>relation/2821125</td>\n",
       "      <td>mean</td>\n",
       "      <td>1</td>\n",
       "      <td>2020</td>\n",
       "    </tr>\n",
       "    <tr>\n",
       "      <th>2</th>\n",
       "      <td>2</td>\n",
       "      <td>2020-01-04 09:29:30</td>\n",
       "      <td>-0.336806</td>\n",
       "      <td>NaN</td>\n",
       "      <td>0.017114</td>\n",
       "      <td>multipolygon</td>\n",
       "      <td>0.219708</td>\n",
       "      <td>yes</td>\n",
       "      <td>0.036701</td>\n",
       "      <td>-0.219708</td>\n",
       "      <td>1.372537</td>\n",
       "      <td>-0.006935</td>\n",
       "      <td>relation/3286509</td>\n",
       "      <td>relation/3286509</td>\n",
       "      <td>mean</td>\n",
       "      <td>1</td>\n",
       "      <td>2020</td>\n",
       "    </tr>\n",
       "    <tr>\n",
       "      <th>3</th>\n",
       "      <td>3</td>\n",
       "      <td>2020-01-04 09:29:30</td>\n",
       "      <td>-0.165165</td>\n",
       "      <td>NaN</td>\n",
       "      <td>0.064398</td>\n",
       "      <td>multipolygon</td>\n",
       "      <td>0.273171</td>\n",
       "      <td>yes</td>\n",
       "      <td>0.075486</td>\n",
       "      <td>-0.273171</td>\n",
       "      <td>-2.210336</td>\n",
       "      <td>0.150246</td>\n",
       "      <td>relation/3286513</td>\n",
       "      <td>relation/3286513</td>\n",
       "      <td>mean</td>\n",
       "      <td>1</td>\n",
       "      <td>2020</td>\n",
       "    </tr>\n",
       "    <tr>\n",
       "      <th>4</th>\n",
       "      <td>4</td>\n",
       "      <td>2020-01-04 09:29:30</td>\n",
       "      <td>-0.131503</td>\n",
       "      <td>NaN</td>\n",
       "      <td>0.069876</td>\n",
       "      <td>multipolygon</td>\n",
       "      <td>0.083905</td>\n",
       "      <td>yes</td>\n",
       "      <td>-0.116364</td>\n",
       "      <td>-0.083905</td>\n",
       "      <td>0.354652</td>\n",
       "      <td>-0.010272</td>\n",
       "      <td>relation/3560382</td>\n",
       "      <td>relation/3560382</td>\n",
       "      <td>mean</td>\n",
       "      <td>1</td>\n",
       "      <td>2020</td>\n",
       "    </tr>\n",
       "    <tr>\n",
       "      <th>...</th>\n",
       "      <td>...</td>\n",
       "      <td>...</td>\n",
       "      <td>...</td>\n",
       "      <td>...</td>\n",
       "      <td>...</td>\n",
       "      <td>...</td>\n",
       "      <td>...</td>\n",
       "      <td>...</td>\n",
       "      <td>...</td>\n",
       "      <td>...</td>\n",
       "      <td>...</td>\n",
       "      <td>...</td>\n",
       "      <td>...</td>\n",
       "      <td>...</td>\n",
       "      <td>...</td>\n",
       "      <td>...</td>\n",
       "      <td>...</td>\n",
       "    </tr>\n",
       "    <tr>\n",
       "      <th>49359</th>\n",
       "      <td>49359</td>\n",
       "      <td>2022-05-03 09:29:41</td>\n",
       "      <td>-0.029282</td>\n",
       "      <td>NaN</td>\n",
       "      <td>0.222188</td>\n",
       "      <td>NaN</td>\n",
       "      <td>0.004398</td>\n",
       "      <td>roof</td>\n",
       "      <td>-0.205138</td>\n",
       "      <td>-0.004398</td>\n",
       "      <td>2.804536</td>\n",
       "      <td>-0.074004</td>\n",
       "      <td>way/243195321</td>\n",
       "      <td>way/243195321</td>\n",
       "      <td>mean</td>\n",
       "      <td>5</td>\n",
       "      <td>2022</td>\n",
       "    </tr>\n",
       "    <tr>\n",
       "      <th>49360</th>\n",
       "      <td>49360</td>\n",
       "      <td>2022-05-03 09:29:41</td>\n",
       "      <td>-0.103768</td>\n",
       "      <td>NaN</td>\n",
       "      <td>0.090054</td>\n",
       "      <td>NaN</td>\n",
       "      <td>0.086091</td>\n",
       "      <td>yes</td>\n",
       "      <td>-0.162913</td>\n",
       "      <td>-0.086091</td>\n",
       "      <td>1.167357</td>\n",
       "      <td>-0.053032</td>\n",
       "      <td>way/581728023</td>\n",
       "      <td>way/581728023</td>\n",
       "      <td>mean</td>\n",
       "      <td>5</td>\n",
       "      <td>2022</td>\n",
       "    </tr>\n",
       "    <tr>\n",
       "      <th>49361</th>\n",
       "      <td>49361</td>\n",
       "      <td>2022-05-03 09:29:41</td>\n",
       "      <td>-0.134889</td>\n",
       "      <td>NaN</td>\n",
       "      <td>0.074477</td>\n",
       "      <td>NaN</td>\n",
       "      <td>0.095672</td>\n",
       "      <td>yes</td>\n",
       "      <td>-0.136561</td>\n",
       "      <td>-0.095672</td>\n",
       "      <td>0.129453</td>\n",
       "      <td>-0.022671</td>\n",
       "      <td>node/1886551394</td>\n",
       "      <td>node/1886551394</td>\n",
       "      <td>mean</td>\n",
       "      <td>5</td>\n",
       "      <td>2022</td>\n",
       "    </tr>\n",
       "    <tr>\n",
       "      <th>49362</th>\n",
       "      <td>49362</td>\n",
       "      <td>2022-05-03 09:29:41</td>\n",
       "      <td>-0.046506</td>\n",
       "      <td>NaN</td>\n",
       "      <td>0.138377</td>\n",
       "      <td>NaN</td>\n",
       "      <td>0.044630</td>\n",
       "      <td>school</td>\n",
       "      <td>-0.150712</td>\n",
       "      <td>-0.044630</td>\n",
       "      <td>-3.298938</td>\n",
       "      <td>0.015404</td>\n",
       "      <td>node/2149437197</td>\n",
       "      <td>node/2149437197</td>\n",
       "      <td>mean</td>\n",
       "      <td>5</td>\n",
       "      <td>2022</td>\n",
       "    </tr>\n",
       "    <tr>\n",
       "      <th>49363</th>\n",
       "      <td>49363</td>\n",
       "      <td>2022-05-03 09:29:41</td>\n",
       "      <td>-0.078410</td>\n",
       "      <td>NaN</td>\n",
       "      <td>0.091652</td>\n",
       "      <td>NaN</td>\n",
       "      <td>0.039495</td>\n",
       "      <td>yes</td>\n",
       "      <td>-0.136854</td>\n",
       "      <td>-0.039495</td>\n",
       "      <td>-2.715143</td>\n",
       "      <td>0.012416</td>\n",
       "      <td>node/5577185588</td>\n",
       "      <td>node/5577185588</td>\n",
       "      <td>mean</td>\n",
       "      <td>5</td>\n",
       "      <td>2022</td>\n",
       "    </tr>\n",
       "  </tbody>\n",
       "</table>\n",
       "<p>49364 rows × 17 columns</p>\n",
       "</div>"
      ],
      "text/plain": [
       "       Unnamed: 0                date   VgNIRBI  building:levels      PISI  \\\n",
       "0               0 2020-01-04 09:29:30 -0.104926              2.0  0.087421   \n",
       "1               1 2020-01-04 09:29:30 -0.264219              1.0  0.032466   \n",
       "2               2 2020-01-04 09:29:30 -0.336806              NaN  0.017114   \n",
       "3               3 2020-01-04 09:29:30 -0.165165              NaN  0.064398   \n",
       "4               4 2020-01-04 09:29:30 -0.131503              NaN  0.069876   \n",
       "...           ...                 ...       ...              ...       ...   \n",
       "49359       49359 2022-05-03 09:29:41 -0.029282              NaN  0.222188   \n",
       "49360       49360 2022-05-03 09:29:41 -0.103768              NaN  0.090054   \n",
       "49361       49361 2022-05-03 09:29:41 -0.134889              NaN  0.074477   \n",
       "49362       49362 2022-05-03 09:29:41 -0.046506              NaN  0.138377   \n",
       "49363       49363 2022-05-03 09:29:41 -0.078410              NaN  0.091652   \n",
       "\n",
       "               type      NDVI    building      EMBI   VrNIRBI       IBI  \\\n",
       "0      multipolygon  0.078712  grandstand -0.052816 -0.078712  4.218635   \n",
       "1      multipolygon  0.140273  grandstand  0.001069 -0.140273  0.417595   \n",
       "2      multipolygon  0.219708         yes  0.036701 -0.219708  1.372537   \n",
       "3      multipolygon  0.273171         yes  0.075486 -0.273171 -2.210336   \n",
       "4      multipolygon  0.083905         yes -0.116364 -0.083905  0.354652   \n",
       "...             ...       ...         ...       ...       ...       ...   \n",
       "49359           NaN  0.004398        roof -0.205138 -0.004398  2.804536   \n",
       "49360           NaN  0.086091         yes -0.162913 -0.086091  1.167357   \n",
       "49361           NaN  0.095672         yes -0.136561 -0.095672  0.129453   \n",
       "49362           NaN  0.044630      school -0.150712 -0.044630 -3.298938   \n",
       "49363           NaN  0.039495         yes -0.136854 -0.039495 -2.715143   \n",
       "\n",
       "           NDBI                id               @id reducer  month  year  \n",
       "0      0.049151  relation/2821121  relation/2821121    mean      1  2020  \n",
       "1     -0.007310  relation/2821125  relation/2821125    mean      1  2020  \n",
       "2     -0.006935  relation/3286509  relation/3286509    mean      1  2020  \n",
       "3      0.150246  relation/3286513  relation/3286513    mean      1  2020  \n",
       "4     -0.010272  relation/3560382  relation/3560382    mean      1  2020  \n",
       "...         ...               ...               ...     ...    ...   ...  \n",
       "49359 -0.074004     way/243195321     way/243195321    mean      5  2022  \n",
       "49360 -0.053032     way/581728023     way/581728023    mean      5  2022  \n",
       "49361 -0.022671   node/1886551394   node/1886551394    mean      5  2022  \n",
       "49362  0.015404   node/2149437197   node/2149437197    mean      5  2022  \n",
       "49363  0.012416   node/5577185588   node/5577185588    mean      5  2022  \n",
       "\n",
       "[49364 rows x 17 columns]"
      ]
     },
     "execution_count": 209,
     "metadata": {},
     "output_type": "execute_result"
    }
   ],
   "source": [
    "volos_turbo_s2"
   ]
  },
  {
   "cell_type": "code",
   "execution_count": 208,
   "id": "8b047ac0",
   "metadata": {},
   "outputs": [],
   "source": [
    "volos_turbo_s2['date'] = pd.to_datetime(volos_turbo_s2['date'], errors='coerce')\n",
    "volos_turbo_viirs['date'] = pd.to_datetime(volos_turbo_viirs['date'], errors='coerce')\n",
    "volos_turbo_s2['month']=volos_turbo_s2['date'].dt.month\n",
    "volos_turbo_s2['year']=volos_turbo_s2['date'].dt.year\n",
    "volos_turbo_viirs['month']=volos_turbo_viirs['date'].dt.month\n",
    "volos_turbo_viirs['year']=volos_turbo_viirs['date'].dt.year"
   ]
  },
  {
   "cell_type": "code",
   "execution_count": 227,
   "id": "7107804c",
   "metadata": {},
   "outputs": [],
   "source": [
    "volos_turbo = volos_turbo_s2.merge(volos_turbo_viirs,how='left',on=['year','month','id','@id'])"
   ]
  },
  {
   "cell_type": "code",
   "execution_count": 235,
   "id": "eedaf5e3",
   "metadata": {},
   "outputs": [],
   "source": [
    "volos_amenities = volos_amenities_s2.merge(volos_amenities_viirs,how='left',on=['year','month','id','@id'])"
   ]
  },
  {
   "cell_type": "code",
   "execution_count": 228,
   "id": "8ffea6da",
   "metadata": {},
   "outputs": [
    {
     "data": {
      "text/plain": [
       "49364"
      ]
     },
     "execution_count": 228,
     "metadata": {},
     "output_type": "execute_result"
    }
   ],
   "source": [
    "len(volos_turbo_s2)"
   ]
  },
  {
   "cell_type": "code",
   "execution_count": 229,
   "id": "e40a82fa",
   "metadata": {},
   "outputs": [
    {
     "data": {
      "text/plain": [
       "56588"
      ]
     },
     "execution_count": 229,
     "metadata": {},
     "output_type": "execute_result"
    }
   ],
   "source": [
    "len(volos_turbo)"
   ]
  },
  {
   "cell_type": "code",
   "execution_count": 231,
   "id": "f03b053f",
   "metadata": {},
   "outputs": [
    {
     "data": {
      "text/plain": [
       "6529"
      ]
     },
     "execution_count": 231,
     "metadata": {},
     "output_type": "execute_result"
    }
   ],
   "source": [
    "volos_turbo['avg_rad'].nunique()"
   ]
  },
  {
   "cell_type": "code",
   "execution_count": 237,
   "id": "585f6896",
   "metadata": {},
   "outputs": [
    {
     "data": {
      "text/plain": [
       "27871"
      ]
     },
     "execution_count": 237,
     "metadata": {},
     "output_type": "execute_result"
    }
   ],
   "source": [
    "len(volos_amenities)"
   ]
  },
  {
   "cell_type": "code",
   "execution_count": 238,
   "id": "328395fc",
   "metadata": {},
   "outputs": [],
   "source": [
    "volos=volos_turbo.append(volos_amenities,ignore_index=True)"
   ]
  },
  {
   "cell_type": "code",
   "execution_count": 239,
   "id": "c1a1e6f5",
   "metadata": {
    "scrolled": true
   },
   "outputs": [
    {
     "data": {
      "text/html": [
       "<div>\n",
       "<style scoped>\n",
       "    .dataframe tbody tr th:only-of-type {\n",
       "        vertical-align: middle;\n",
       "    }\n",
       "\n",
       "    .dataframe tbody tr th {\n",
       "        vertical-align: top;\n",
       "    }\n",
       "\n",
       "    .dataframe thead th {\n",
       "        text-align: right;\n",
       "    }\n",
       "</style>\n",
       "<table border=\"1\" class=\"dataframe\">\n",
       "  <thead>\n",
       "    <tr style=\"text-align: right;\">\n",
       "      <th></th>\n",
       "      <th>Unnamed: 0</th>\n",
       "      <th>date_x</th>\n",
       "      <th>VgNIRBI</th>\n",
       "      <th>building:levels_x</th>\n",
       "      <th>PISI</th>\n",
       "      <th>type_x</th>\n",
       "      <th>NDVI</th>\n",
       "      <th>building_x</th>\n",
       "      <th>EMBI</th>\n",
       "      <th>VrNIRBI</th>\n",
       "      <th>...</th>\n",
       "      <th>year</th>\n",
       "      <th>date_y</th>\n",
       "      <th>avg_rad</th>\n",
       "      <th>building:levels_y</th>\n",
       "      <th>reducer_y</th>\n",
       "      <th>type_y</th>\n",
       "      <th>building_y</th>\n",
       "      <th>amenity_x</th>\n",
       "      <th>amenity_y</th>\n",
       "      <th>label</th>\n",
       "    </tr>\n",
       "  </thead>\n",
       "  <tbody>\n",
       "    <tr>\n",
       "      <th>0</th>\n",
       "      <td>0</td>\n",
       "      <td>2020-01-04 09:29:30</td>\n",
       "      <td>-0.104926</td>\n",
       "      <td>2.0</td>\n",
       "      <td>0.087421</td>\n",
       "      <td>multipolygon</td>\n",
       "      <td>0.078712</td>\n",
       "      <td>grandstand</td>\n",
       "      <td>-0.052816</td>\n",
       "      <td>-0.078712</td>\n",
       "      <td>...</td>\n",
       "      <td>2020</td>\n",
       "      <td>2020-01-01</td>\n",
       "      <td>31.074827</td>\n",
       "      <td>2.0</td>\n",
       "      <td>mean</td>\n",
       "      <td>multipolygon</td>\n",
       "      <td>grandstand</td>\n",
       "      <td>NaN</td>\n",
       "      <td>NaN</td>\n",
       "      <td>NaN</td>\n",
       "    </tr>\n",
       "    <tr>\n",
       "      <th>1</th>\n",
       "      <td>1</td>\n",
       "      <td>2020-01-04 09:29:30</td>\n",
       "      <td>-0.264219</td>\n",
       "      <td>1.0</td>\n",
       "      <td>0.032466</td>\n",
       "      <td>multipolygon</td>\n",
       "      <td>0.140273</td>\n",
       "      <td>grandstand</td>\n",
       "      <td>0.001069</td>\n",
       "      <td>-0.140273</td>\n",
       "      <td>...</td>\n",
       "      <td>2020</td>\n",
       "      <td>2020-01-01</td>\n",
       "      <td>40.900002</td>\n",
       "      <td>1.0</td>\n",
       "      <td>mean</td>\n",
       "      <td>multipolygon</td>\n",
       "      <td>grandstand</td>\n",
       "      <td>NaN</td>\n",
       "      <td>NaN</td>\n",
       "      <td>NaN</td>\n",
       "    </tr>\n",
       "    <tr>\n",
       "      <th>2</th>\n",
       "      <td>2</td>\n",
       "      <td>2020-01-04 09:29:30</td>\n",
       "      <td>-0.336806</td>\n",
       "      <td>NaN</td>\n",
       "      <td>0.017114</td>\n",
       "      <td>multipolygon</td>\n",
       "      <td>0.219708</td>\n",
       "      <td>yes</td>\n",
       "      <td>0.036701</td>\n",
       "      <td>-0.219708</td>\n",
       "      <td>...</td>\n",
       "      <td>2020</td>\n",
       "      <td>2020-01-01</td>\n",
       "      <td>30.088737</td>\n",
       "      <td>NaN</td>\n",
       "      <td>mean</td>\n",
       "      <td>multipolygon</td>\n",
       "      <td>yes</td>\n",
       "      <td>NaN</td>\n",
       "      <td>NaN</td>\n",
       "      <td>NaN</td>\n",
       "    </tr>\n",
       "    <tr>\n",
       "      <th>3</th>\n",
       "      <td>3</td>\n",
       "      <td>2020-01-04 09:29:30</td>\n",
       "      <td>-0.165165</td>\n",
       "      <td>NaN</td>\n",
       "      <td>0.064398</td>\n",
       "      <td>multipolygon</td>\n",
       "      <td>0.273171</td>\n",
       "      <td>yes</td>\n",
       "      <td>0.075486</td>\n",
       "      <td>-0.273171</td>\n",
       "      <td>...</td>\n",
       "      <td>2020</td>\n",
       "      <td>2020-01-01</td>\n",
       "      <td>101.230003</td>\n",
       "      <td>NaN</td>\n",
       "      <td>mean</td>\n",
       "      <td>multipolygon</td>\n",
       "      <td>yes</td>\n",
       "      <td>NaN</td>\n",
       "      <td>NaN</td>\n",
       "      <td>NaN</td>\n",
       "    </tr>\n",
       "    <tr>\n",
       "      <th>4</th>\n",
       "      <td>4</td>\n",
       "      <td>2020-01-04 09:29:30</td>\n",
       "      <td>-0.131503</td>\n",
       "      <td>NaN</td>\n",
       "      <td>0.069876</td>\n",
       "      <td>multipolygon</td>\n",
       "      <td>0.083905</td>\n",
       "      <td>yes</td>\n",
       "      <td>-0.116364</td>\n",
       "      <td>-0.083905</td>\n",
       "      <td>...</td>\n",
       "      <td>2020</td>\n",
       "      <td>2020-01-01</td>\n",
       "      <td>49.459999</td>\n",
       "      <td>NaN</td>\n",
       "      <td>mean</td>\n",
       "      <td>multipolygon</td>\n",
       "      <td>yes</td>\n",
       "      <td>NaN</td>\n",
       "      <td>NaN</td>\n",
       "      <td>NaN</td>\n",
       "    </tr>\n",
       "    <tr>\n",
       "      <th>...</th>\n",
       "      <td>...</td>\n",
       "      <td>...</td>\n",
       "      <td>...</td>\n",
       "      <td>...</td>\n",
       "      <td>...</td>\n",
       "      <td>...</td>\n",
       "      <td>...</td>\n",
       "      <td>...</td>\n",
       "      <td>...</td>\n",
       "      <td>...</td>\n",
       "      <td>...</td>\n",
       "      <td>...</td>\n",
       "      <td>...</td>\n",
       "      <td>...</td>\n",
       "      <td>...</td>\n",
       "      <td>...</td>\n",
       "      <td>...</td>\n",
       "      <td>...</td>\n",
       "      <td>...</td>\n",
       "      <td>...</td>\n",
       "      <td>...</td>\n",
       "    </tr>\n",
       "    <tr>\n",
       "      <th>84454</th>\n",
       "      <td>24308</td>\n",
       "      <td>2022-05-03 09:29:41</td>\n",
       "      <td>-0.323125</td>\n",
       "      <td>NaN</td>\n",
       "      <td>-0.015730</td>\n",
       "      <td>NaN</td>\n",
       "      <td>0.342754</td>\n",
       "      <td>NaN</td>\n",
       "      <td>-0.131719</td>\n",
       "      <td>-0.342754</td>\n",
       "      <td>...</td>\n",
       "      <td>2022</td>\n",
       "      <td>2022-05-01</td>\n",
       "      <td>7.660000</td>\n",
       "      <td>NaN</td>\n",
       "      <td>mean</td>\n",
       "      <td>NaN</td>\n",
       "      <td>NaN</td>\n",
       "      <td>bus_station</td>\n",
       "      <td>bus_station</td>\n",
       "      <td>1.0</td>\n",
       "    </tr>\n",
       "    <tr>\n",
       "      <th>84455</th>\n",
       "      <td>24309</td>\n",
       "      <td>2022-05-03 09:29:41</td>\n",
       "      <td>-0.167445</td>\n",
       "      <td>NaN</td>\n",
       "      <td>0.069997</td>\n",
       "      <td>NaN</td>\n",
       "      <td>0.156031</td>\n",
       "      <td>NaN</td>\n",
       "      <td>-0.057795</td>\n",
       "      <td>-0.156031</td>\n",
       "      <td>...</td>\n",
       "      <td>2022</td>\n",
       "      <td>2022-05-01</td>\n",
       "      <td>7.660000</td>\n",
       "      <td>NaN</td>\n",
       "      <td>mean</td>\n",
       "      <td>NaN</td>\n",
       "      <td>NaN</td>\n",
       "      <td>bus_station</td>\n",
       "      <td>bus_station</td>\n",
       "      <td>1.0</td>\n",
       "    </tr>\n",
       "    <tr>\n",
       "      <th>84456</th>\n",
       "      <td>24310</td>\n",
       "      <td>2022-05-03 09:29:41</td>\n",
       "      <td>-0.280998</td>\n",
       "      <td>NaN</td>\n",
       "      <td>0.005385</td>\n",
       "      <td>NaN</td>\n",
       "      <td>0.178769</td>\n",
       "      <td>NaN</td>\n",
       "      <td>-0.023882</td>\n",
       "      <td>-0.178769</td>\n",
       "      <td>...</td>\n",
       "      <td>2022</td>\n",
       "      <td>2022-05-01</td>\n",
       "      <td>41.459999</td>\n",
       "      <td>NaN</td>\n",
       "      <td>mean</td>\n",
       "      <td>NaN</td>\n",
       "      <td>NaN</td>\n",
       "      <td>place_of_worship</td>\n",
       "      <td>place_of_worship</td>\n",
       "      <td>1.0</td>\n",
       "    </tr>\n",
       "    <tr>\n",
       "      <th>84457</th>\n",
       "      <td>24311</td>\n",
       "      <td>2022-05-03 09:29:41</td>\n",
       "      <td>-0.298744</td>\n",
       "      <td>NaN</td>\n",
       "      <td>-0.019351</td>\n",
       "      <td>NaN</td>\n",
       "      <td>0.221049</td>\n",
       "      <td>NaN</td>\n",
       "      <td>-0.024372</td>\n",
       "      <td>-0.221049</td>\n",
       "      <td>...</td>\n",
       "      <td>2022</td>\n",
       "      <td>2022-05-01</td>\n",
       "      <td>41.459999</td>\n",
       "      <td>NaN</td>\n",
       "      <td>mean</td>\n",
       "      <td>NaN</td>\n",
       "      <td>NaN</td>\n",
       "      <td>social_centre</td>\n",
       "      <td>social_centre</td>\n",
       "      <td>1.0</td>\n",
       "    </tr>\n",
       "    <tr>\n",
       "      <th>84458</th>\n",
       "      <td>24312</td>\n",
       "      <td>2022-05-03 09:29:41</td>\n",
       "      <td>-0.087048</td>\n",
       "      <td>NaN</td>\n",
       "      <td>0.103465</td>\n",
       "      <td>NaN</td>\n",
       "      <td>0.045282</td>\n",
       "      <td>NaN</td>\n",
       "      <td>-0.150802</td>\n",
       "      <td>-0.045282</td>\n",
       "      <td>...</td>\n",
       "      <td>2022</td>\n",
       "      <td>2022-05-01</td>\n",
       "      <td>101.489998</td>\n",
       "      <td>NaN</td>\n",
       "      <td>mean</td>\n",
       "      <td>NaN</td>\n",
       "      <td>NaN</td>\n",
       "      <td>post_office</td>\n",
       "      <td>post_office</td>\n",
       "      <td>1.0</td>\n",
       "    </tr>\n",
       "  </tbody>\n",
       "</table>\n",
       "<p>84459 rows × 26 columns</p>\n",
       "</div>"
      ],
      "text/plain": [
       "       Unnamed: 0              date_x   VgNIRBI  building:levels_x      PISI  \\\n",
       "0               0 2020-01-04 09:29:30 -0.104926                2.0  0.087421   \n",
       "1               1 2020-01-04 09:29:30 -0.264219                1.0  0.032466   \n",
       "2               2 2020-01-04 09:29:30 -0.336806                NaN  0.017114   \n",
       "3               3 2020-01-04 09:29:30 -0.165165                NaN  0.064398   \n",
       "4               4 2020-01-04 09:29:30 -0.131503                NaN  0.069876   \n",
       "...           ...                 ...       ...                ...       ...   \n",
       "84454       24308 2022-05-03 09:29:41 -0.323125                NaN -0.015730   \n",
       "84455       24309 2022-05-03 09:29:41 -0.167445                NaN  0.069997   \n",
       "84456       24310 2022-05-03 09:29:41 -0.280998                NaN  0.005385   \n",
       "84457       24311 2022-05-03 09:29:41 -0.298744                NaN -0.019351   \n",
       "84458       24312 2022-05-03 09:29:41 -0.087048                NaN  0.103465   \n",
       "\n",
       "             type_x      NDVI  building_x      EMBI   VrNIRBI  ...  year  \\\n",
       "0      multipolygon  0.078712  grandstand -0.052816 -0.078712  ...  2020   \n",
       "1      multipolygon  0.140273  grandstand  0.001069 -0.140273  ...  2020   \n",
       "2      multipolygon  0.219708         yes  0.036701 -0.219708  ...  2020   \n",
       "3      multipolygon  0.273171         yes  0.075486 -0.273171  ...  2020   \n",
       "4      multipolygon  0.083905         yes -0.116364 -0.083905  ...  2020   \n",
       "...             ...       ...         ...       ...       ...  ...   ...   \n",
       "84454           NaN  0.342754         NaN -0.131719 -0.342754  ...  2022   \n",
       "84455           NaN  0.156031         NaN -0.057795 -0.156031  ...  2022   \n",
       "84456           NaN  0.178769         NaN -0.023882 -0.178769  ...  2022   \n",
       "84457           NaN  0.221049         NaN -0.024372 -0.221049  ...  2022   \n",
       "84458           NaN  0.045282         NaN -0.150802 -0.045282  ...  2022   \n",
       "\n",
       "          date_y     avg_rad building:levels_y reducer_y        type_y  \\\n",
       "0     2020-01-01   31.074827               2.0      mean  multipolygon   \n",
       "1     2020-01-01   40.900002               1.0      mean  multipolygon   \n",
       "2     2020-01-01   30.088737               NaN      mean  multipolygon   \n",
       "3     2020-01-01  101.230003               NaN      mean  multipolygon   \n",
       "4     2020-01-01   49.459999               NaN      mean  multipolygon   \n",
       "...          ...         ...               ...       ...           ...   \n",
       "84454 2022-05-01    7.660000               NaN      mean           NaN   \n",
       "84455 2022-05-01    7.660000               NaN      mean           NaN   \n",
       "84456 2022-05-01   41.459999               NaN      mean           NaN   \n",
       "84457 2022-05-01   41.459999               NaN      mean           NaN   \n",
       "84458 2022-05-01  101.489998               NaN      mean           NaN   \n",
       "\n",
       "       building_y         amenity_x         amenity_y  label  \n",
       "0      grandstand               NaN               NaN    NaN  \n",
       "1      grandstand               NaN               NaN    NaN  \n",
       "2             yes               NaN               NaN    NaN  \n",
       "3             yes               NaN               NaN    NaN  \n",
       "4             yes               NaN               NaN    NaN  \n",
       "...           ...               ...               ...    ...  \n",
       "84454         NaN       bus_station       bus_station    1.0  \n",
       "84455         NaN       bus_station       bus_station    1.0  \n",
       "84456         NaN  place_of_worship  place_of_worship    1.0  \n",
       "84457         NaN     social_centre     social_centre    1.0  \n",
       "84458         NaN       post_office       post_office    1.0  \n",
       "\n",
       "[84459 rows x 26 columns]"
      ]
     },
     "execution_count": 239,
     "metadata": {},
     "output_type": "execute_result"
    }
   ],
   "source": [
    "volos"
   ]
  },
  {
   "cell_type": "code",
   "execution_count": null,
   "id": "f3a2d637",
   "metadata": {},
   "outputs": [],
   "source": []
  },
  {
   "cell_type": "code",
   "execution_count": 214,
   "id": "ef7edbc7",
   "metadata": {},
   "outputs": [
    {
     "data": {
      "text/plain": [
       "6529"
      ]
     },
     "execution_count": 214,
     "metadata": {},
     "output_type": "execute_result"
    }
   ],
   "source": [
    "volos_turbo['avg_rad'].nunique()"
   ]
  },
  {
   "cell_type": "code",
   "execution_count": 215,
   "id": "9b047883",
   "metadata": {},
   "outputs": [
    {
     "data": {
      "text/plain": [
       "9256"
      ]
     },
     "execution_count": 215,
     "metadata": {},
     "output_type": "execute_result"
    }
   ],
   "source": [
    "volos_turbo_viirs['avg_rad'].nunique()"
   ]
  },
  {
   "cell_type": "code",
   "execution_count": 222,
   "id": "64e25c25",
   "metadata": {},
   "outputs": [
    {
     "ename": "MemoryError",
     "evalue": "Unable to allocate 454. MiB for an array with shape (59441480, 1) and data type int64",
     "output_type": "error",
     "traceback": [
      "\u001b[1;31m---------------------------------------------------------------------------\u001b[0m",
      "\u001b[1;31mMemoryError\u001b[0m                               Traceback (most recent call last)",
      "\u001b[1;32m~\\anaconda3\\envs\\ml\\lib\\site-packages\\IPython\\core\\formatters.py\u001b[0m in \u001b[0;36m__call__\u001b[1;34m(self, obj)\u001b[0m\n\u001b[0;32m    700\u001b[0m                 \u001b[0mtype_pprinters\u001b[0m\u001b[1;33m=\u001b[0m\u001b[0mself\u001b[0m\u001b[1;33m.\u001b[0m\u001b[0mtype_printers\u001b[0m\u001b[1;33m,\u001b[0m\u001b[1;33m\u001b[0m\u001b[1;33m\u001b[0m\u001b[0m\n\u001b[0;32m    701\u001b[0m                 deferred_pprinters=self.deferred_printers)\n\u001b[1;32m--> 702\u001b[1;33m             \u001b[0mprinter\u001b[0m\u001b[1;33m.\u001b[0m\u001b[0mpretty\u001b[0m\u001b[1;33m(\u001b[0m\u001b[0mobj\u001b[0m\u001b[1;33m)\u001b[0m\u001b[1;33m\u001b[0m\u001b[1;33m\u001b[0m\u001b[0m\n\u001b[0m\u001b[0;32m    703\u001b[0m             \u001b[0mprinter\u001b[0m\u001b[1;33m.\u001b[0m\u001b[0mflush\u001b[0m\u001b[1;33m(\u001b[0m\u001b[1;33m)\u001b[0m\u001b[1;33m\u001b[0m\u001b[1;33m\u001b[0m\u001b[0m\n\u001b[0;32m    704\u001b[0m             \u001b[1;32mreturn\u001b[0m \u001b[0mstream\u001b[0m\u001b[1;33m.\u001b[0m\u001b[0mgetvalue\u001b[0m\u001b[1;33m(\u001b[0m\u001b[1;33m)\u001b[0m\u001b[1;33m\u001b[0m\u001b[1;33m\u001b[0m\u001b[0m\n",
      "\u001b[1;32m~\\anaconda3\\envs\\ml\\lib\\site-packages\\IPython\\lib\\pretty.py\u001b[0m in \u001b[0;36mpretty\u001b[1;34m(self, obj)\u001b[0m\n\u001b[0;32m    392\u001b[0m                         \u001b[1;32mif\u001b[0m \u001b[0mcls\u001b[0m \u001b[1;32mis\u001b[0m \u001b[1;32mnot\u001b[0m \u001b[0mobject\u001b[0m\u001b[0;31m \u001b[0m\u001b[0;31m\\\u001b[0m\u001b[1;33m\u001b[0m\u001b[1;33m\u001b[0m\u001b[0m\n\u001b[0;32m    393\u001b[0m                                 \u001b[1;32mand\u001b[0m \u001b[0mcallable\u001b[0m\u001b[1;33m(\u001b[0m\u001b[0mcls\u001b[0m\u001b[1;33m.\u001b[0m\u001b[0m__dict__\u001b[0m\u001b[1;33m.\u001b[0m\u001b[0mget\u001b[0m\u001b[1;33m(\u001b[0m\u001b[1;34m'__repr__'\u001b[0m\u001b[1;33m)\u001b[0m\u001b[1;33m)\u001b[0m\u001b[1;33m:\u001b[0m\u001b[1;33m\u001b[0m\u001b[1;33m\u001b[0m\u001b[0m\n\u001b[1;32m--> 394\u001b[1;33m                             \u001b[1;32mreturn\u001b[0m \u001b[0m_repr_pprint\u001b[0m\u001b[1;33m(\u001b[0m\u001b[0mobj\u001b[0m\u001b[1;33m,\u001b[0m \u001b[0mself\u001b[0m\u001b[1;33m,\u001b[0m \u001b[0mcycle\u001b[0m\u001b[1;33m)\u001b[0m\u001b[1;33m\u001b[0m\u001b[1;33m\u001b[0m\u001b[0m\n\u001b[0m\u001b[0;32m    395\u001b[0m \u001b[1;33m\u001b[0m\u001b[0m\n\u001b[0;32m    396\u001b[0m             \u001b[1;32mreturn\u001b[0m \u001b[0m_default_pprint\u001b[0m\u001b[1;33m(\u001b[0m\u001b[0mobj\u001b[0m\u001b[1;33m,\u001b[0m \u001b[0mself\u001b[0m\u001b[1;33m,\u001b[0m \u001b[0mcycle\u001b[0m\u001b[1;33m)\u001b[0m\u001b[1;33m\u001b[0m\u001b[1;33m\u001b[0m\u001b[0m\n",
      "\u001b[1;32m~\\anaconda3\\envs\\ml\\lib\\site-packages\\IPython\\lib\\pretty.py\u001b[0m in \u001b[0;36m_repr_pprint\u001b[1;34m(obj, p, cycle)\u001b[0m\n\u001b[0;32m    698\u001b[0m     \u001b[1;34m\"\"\"A pprint that just redirects to the normal repr function.\"\"\"\u001b[0m\u001b[1;33m\u001b[0m\u001b[1;33m\u001b[0m\u001b[0m\n\u001b[0;32m    699\u001b[0m     \u001b[1;31m# Find newlines and replace them with p.break_()\u001b[0m\u001b[1;33m\u001b[0m\u001b[1;33m\u001b[0m\u001b[1;33m\u001b[0m\u001b[0m\n\u001b[1;32m--> 700\u001b[1;33m     \u001b[0moutput\u001b[0m \u001b[1;33m=\u001b[0m \u001b[0mrepr\u001b[0m\u001b[1;33m(\u001b[0m\u001b[0mobj\u001b[0m\u001b[1;33m)\u001b[0m\u001b[1;33m\u001b[0m\u001b[1;33m\u001b[0m\u001b[0m\n\u001b[0m\u001b[0;32m    701\u001b[0m     \u001b[0mlines\u001b[0m \u001b[1;33m=\u001b[0m \u001b[0moutput\u001b[0m\u001b[1;33m.\u001b[0m\u001b[0msplitlines\u001b[0m\u001b[1;33m(\u001b[0m\u001b[1;33m)\u001b[0m\u001b[1;33m\u001b[0m\u001b[1;33m\u001b[0m\u001b[0m\n\u001b[0;32m    702\u001b[0m     \u001b[1;32mwith\u001b[0m \u001b[0mp\u001b[0m\u001b[1;33m.\u001b[0m\u001b[0mgroup\u001b[0m\u001b[1;33m(\u001b[0m\u001b[1;33m)\u001b[0m\u001b[1;33m:\u001b[0m\u001b[1;33m\u001b[0m\u001b[1;33m\u001b[0m\u001b[0m\n",
      "\u001b[1;32m~\\anaconda3\\envs\\ml\\lib\\site-packages\\pandas\\core\\frame.py\u001b[0m in \u001b[0;36m__repr__\u001b[1;34m(self)\u001b[0m\n\u001b[0;32m    801\u001b[0m         \u001b[1;32melse\u001b[0m\u001b[1;33m:\u001b[0m\u001b[1;33m\u001b[0m\u001b[1;33m\u001b[0m\u001b[0m\n\u001b[0;32m    802\u001b[0m             \u001b[0mwidth\u001b[0m \u001b[1;33m=\u001b[0m \u001b[1;32mNone\u001b[0m\u001b[1;33m\u001b[0m\u001b[1;33m\u001b[0m\u001b[0m\n\u001b[1;32m--> 803\u001b[1;33m         self.to_string(\n\u001b[0m\u001b[0;32m    804\u001b[0m             \u001b[0mbuf\u001b[0m\u001b[1;33m=\u001b[0m\u001b[0mbuf\u001b[0m\u001b[1;33m,\u001b[0m\u001b[1;33m\u001b[0m\u001b[1;33m\u001b[0m\u001b[0m\n\u001b[0;32m    805\u001b[0m             \u001b[0mmax_rows\u001b[0m\u001b[1;33m=\u001b[0m\u001b[0mmax_rows\u001b[0m\u001b[1;33m,\u001b[0m\u001b[1;33m\u001b[0m\u001b[1;33m\u001b[0m\u001b[0m\n",
      "\u001b[1;32m~\\anaconda3\\envs\\ml\\lib\\site-packages\\pandas\\core\\frame.py\u001b[0m in \u001b[0;36mto_string\u001b[1;34m(self, buf, columns, col_space, header, index, na_rep, formatters, float_format, sparsify, index_names, justify, max_rows, min_rows, max_cols, show_dimensions, decimal, line_width, max_colwidth, encoding)\u001b[0m\n\u001b[0;32m    919\u001b[0m \u001b[1;33m\u001b[0m\u001b[0m\n\u001b[0;32m    920\u001b[0m         \u001b[1;32mwith\u001b[0m \u001b[0moption_context\u001b[0m\u001b[1;33m(\u001b[0m\u001b[1;34m\"display.max_colwidth\"\u001b[0m\u001b[1;33m,\u001b[0m \u001b[0mmax_colwidth\u001b[0m\u001b[1;33m)\u001b[0m\u001b[1;33m:\u001b[0m\u001b[1;33m\u001b[0m\u001b[1;33m\u001b[0m\u001b[0m\n\u001b[1;32m--> 921\u001b[1;33m             formatter = fmt.DataFrameFormatter(\n\u001b[0m\u001b[0;32m    922\u001b[0m                 \u001b[0mself\u001b[0m\u001b[1;33m,\u001b[0m\u001b[1;33m\u001b[0m\u001b[1;33m\u001b[0m\u001b[0m\n\u001b[0;32m    923\u001b[0m                 \u001b[0mcolumns\u001b[0m\u001b[1;33m=\u001b[0m\u001b[0mcolumns\u001b[0m\u001b[1;33m,\u001b[0m\u001b[1;33m\u001b[0m\u001b[1;33m\u001b[0m\u001b[0m\n",
      "\u001b[1;32m~\\anaconda3\\envs\\ml\\lib\\site-packages\\pandas\\io\\formats\\format.py\u001b[0m in \u001b[0;36m__init__\u001b[1;34m(self, frame, columns, col_space, header, index, na_rep, formatters, justify, float_format, sparsify, index_names, max_rows, min_rows, max_cols, show_dimensions, decimal, bold_rows, escape)\u001b[0m\n\u001b[0;32m    510\u001b[0m \u001b[1;33m\u001b[0m\u001b[0m\n\u001b[0;32m    511\u001b[0m         \u001b[0mself\u001b[0m\u001b[1;33m.\u001b[0m\u001b[0mtr_frame\u001b[0m \u001b[1;33m=\u001b[0m \u001b[0mself\u001b[0m\u001b[1;33m.\u001b[0m\u001b[0mframe\u001b[0m\u001b[1;33m\u001b[0m\u001b[1;33m\u001b[0m\u001b[0m\n\u001b[1;32m--> 512\u001b[1;33m         \u001b[0mself\u001b[0m\u001b[1;33m.\u001b[0m\u001b[0mtruncate\u001b[0m\u001b[1;33m(\u001b[0m\u001b[1;33m)\u001b[0m\u001b[1;33m\u001b[0m\u001b[1;33m\u001b[0m\u001b[0m\n\u001b[0m\u001b[0;32m    513\u001b[0m         \u001b[0mself\u001b[0m\u001b[1;33m.\u001b[0m\u001b[0madj\u001b[0m \u001b[1;33m=\u001b[0m \u001b[0mget_adjustment\u001b[0m\u001b[1;33m(\u001b[0m\u001b[1;33m)\u001b[0m\u001b[1;33m\u001b[0m\u001b[1;33m\u001b[0m\u001b[0m\n\u001b[0;32m    514\u001b[0m \u001b[1;33m\u001b[0m\u001b[0m\n",
      "\u001b[1;32m~\\anaconda3\\envs\\ml\\lib\\site-packages\\pandas\\io\\formats\\format.py\u001b[0m in \u001b[0;36mtruncate\u001b[1;34m(self)\u001b[0m\n\u001b[0;32m    698\u001b[0m         \"\"\"\n\u001b[0;32m    699\u001b[0m         \u001b[1;32mif\u001b[0m \u001b[0mself\u001b[0m\u001b[1;33m.\u001b[0m\u001b[0mis_truncated_horizontally\u001b[0m\u001b[1;33m:\u001b[0m\u001b[1;33m\u001b[0m\u001b[1;33m\u001b[0m\u001b[0m\n\u001b[1;32m--> 700\u001b[1;33m             \u001b[0mself\u001b[0m\u001b[1;33m.\u001b[0m\u001b[0m_truncate_horizontally\u001b[0m\u001b[1;33m(\u001b[0m\u001b[1;33m)\u001b[0m\u001b[1;33m\u001b[0m\u001b[1;33m\u001b[0m\u001b[0m\n\u001b[0m\u001b[0;32m    701\u001b[0m \u001b[1;33m\u001b[0m\u001b[0m\n\u001b[0;32m    702\u001b[0m         \u001b[1;32mif\u001b[0m \u001b[0mself\u001b[0m\u001b[1;33m.\u001b[0m\u001b[0mis_truncated_vertically\u001b[0m\u001b[1;33m:\u001b[0m\u001b[1;33m\u001b[0m\u001b[1;33m\u001b[0m\u001b[0m\n",
      "\u001b[1;32m~\\anaconda3\\envs\\ml\\lib\\site-packages\\pandas\\io\\formats\\format.py\u001b[0m in \u001b[0;36m_truncate_horizontally\u001b[1;34m(self)\u001b[0m\n\u001b[0;32m    715\u001b[0m         \u001b[1;32mif\u001b[0m \u001b[0mcol_num\u001b[0m \u001b[1;33m>=\u001b[0m \u001b[1;36m1\u001b[0m\u001b[1;33m:\u001b[0m\u001b[1;33m\u001b[0m\u001b[1;33m\u001b[0m\u001b[0m\n\u001b[0;32m    716\u001b[0m             \u001b[0mleft\u001b[0m \u001b[1;33m=\u001b[0m \u001b[0mself\u001b[0m\u001b[1;33m.\u001b[0m\u001b[0mtr_frame\u001b[0m\u001b[1;33m.\u001b[0m\u001b[0miloc\u001b[0m\u001b[1;33m[\u001b[0m\u001b[1;33m:\u001b[0m\u001b[1;33m,\u001b[0m \u001b[1;33m:\u001b[0m\u001b[0mcol_num\u001b[0m\u001b[1;33m]\u001b[0m\u001b[1;33m\u001b[0m\u001b[1;33m\u001b[0m\u001b[0m\n\u001b[1;32m--> 717\u001b[1;33m             \u001b[0mright\u001b[0m \u001b[1;33m=\u001b[0m \u001b[0mself\u001b[0m\u001b[1;33m.\u001b[0m\u001b[0mtr_frame\u001b[0m\u001b[1;33m.\u001b[0m\u001b[0miloc\u001b[0m\u001b[1;33m[\u001b[0m\u001b[1;33m:\u001b[0m\u001b[1;33m,\u001b[0m \u001b[1;33m-\u001b[0m\u001b[0mcol_num\u001b[0m\u001b[1;33m:\u001b[0m\u001b[1;33m]\u001b[0m\u001b[1;33m\u001b[0m\u001b[1;33m\u001b[0m\u001b[0m\n\u001b[0m\u001b[0;32m    718\u001b[0m             \u001b[0mself\u001b[0m\u001b[1;33m.\u001b[0m\u001b[0mtr_frame\u001b[0m \u001b[1;33m=\u001b[0m \u001b[0mconcat\u001b[0m\u001b[1;33m(\u001b[0m\u001b[1;33m(\u001b[0m\u001b[0mleft\u001b[0m\u001b[1;33m,\u001b[0m \u001b[0mright\u001b[0m\u001b[1;33m)\u001b[0m\u001b[1;33m,\u001b[0m \u001b[0maxis\u001b[0m\u001b[1;33m=\u001b[0m\u001b[1;36m1\u001b[0m\u001b[1;33m)\u001b[0m\u001b[1;33m\u001b[0m\u001b[1;33m\u001b[0m\u001b[0m\n\u001b[0;32m    719\u001b[0m \u001b[1;33m\u001b[0m\u001b[0m\n",
      "\u001b[1;32m~\\anaconda3\\envs\\ml\\lib\\site-packages\\pandas\\core\\indexing.py\u001b[0m in \u001b[0;36m__getitem__\u001b[1;34m(self, key)\u001b[0m\n\u001b[0;32m    887\u001b[0m                     \u001b[1;31m# AttributeError for IntervalTree get_value\u001b[0m\u001b[1;33m\u001b[0m\u001b[1;33m\u001b[0m\u001b[1;33m\u001b[0m\u001b[0m\n\u001b[0;32m    888\u001b[0m                     \u001b[1;32mreturn\u001b[0m \u001b[0mself\u001b[0m\u001b[1;33m.\u001b[0m\u001b[0mobj\u001b[0m\u001b[1;33m.\u001b[0m\u001b[0m_get_value\u001b[0m\u001b[1;33m(\u001b[0m\u001b[1;33m*\u001b[0m\u001b[0mkey\u001b[0m\u001b[1;33m,\u001b[0m \u001b[0mtakeable\u001b[0m\u001b[1;33m=\u001b[0m\u001b[0mself\u001b[0m\u001b[1;33m.\u001b[0m\u001b[0m_takeable\u001b[0m\u001b[1;33m)\u001b[0m\u001b[1;33m\u001b[0m\u001b[1;33m\u001b[0m\u001b[0m\n\u001b[1;32m--> 889\u001b[1;33m             \u001b[1;32mreturn\u001b[0m \u001b[0mself\u001b[0m\u001b[1;33m.\u001b[0m\u001b[0m_getitem_tuple\u001b[0m\u001b[1;33m(\u001b[0m\u001b[0mkey\u001b[0m\u001b[1;33m)\u001b[0m\u001b[1;33m\u001b[0m\u001b[1;33m\u001b[0m\u001b[0m\n\u001b[0m\u001b[0;32m    890\u001b[0m         \u001b[1;32melse\u001b[0m\u001b[1;33m:\u001b[0m\u001b[1;33m\u001b[0m\u001b[1;33m\u001b[0m\u001b[0m\n\u001b[0;32m    891\u001b[0m             \u001b[1;31m# we by definition only have the 0th axis\u001b[0m\u001b[1;33m\u001b[0m\u001b[1;33m\u001b[0m\u001b[1;33m\u001b[0m\u001b[0m\n",
      "\u001b[1;32m~\\anaconda3\\envs\\ml\\lib\\site-packages\\pandas\\core\\indexing.py\u001b[0m in \u001b[0;36m_getitem_tuple\u001b[1;34m(self, tup)\u001b[0m\n\u001b[0;32m   1452\u001b[0m             \u001b[1;32mreturn\u001b[0m \u001b[0mself\u001b[0m\u001b[1;33m.\u001b[0m\u001b[0m_getitem_lowerdim\u001b[0m\u001b[1;33m(\u001b[0m\u001b[0mtup\u001b[0m\u001b[1;33m)\u001b[0m\u001b[1;33m\u001b[0m\u001b[1;33m\u001b[0m\u001b[0m\n\u001b[0;32m   1453\u001b[0m \u001b[1;33m\u001b[0m\u001b[0m\n\u001b[1;32m-> 1454\u001b[1;33m         \u001b[1;32mreturn\u001b[0m \u001b[0mself\u001b[0m\u001b[1;33m.\u001b[0m\u001b[0m_getitem_tuple_same_dim\u001b[0m\u001b[1;33m(\u001b[0m\u001b[0mtup\u001b[0m\u001b[1;33m)\u001b[0m\u001b[1;33m\u001b[0m\u001b[1;33m\u001b[0m\u001b[0m\n\u001b[0m\u001b[0;32m   1455\u001b[0m \u001b[1;33m\u001b[0m\u001b[0m\n\u001b[0;32m   1456\u001b[0m     \u001b[1;32mdef\u001b[0m \u001b[0m_get_list_axis\u001b[0m\u001b[1;33m(\u001b[0m\u001b[0mself\u001b[0m\u001b[1;33m,\u001b[0m \u001b[0mkey\u001b[0m\u001b[1;33m,\u001b[0m \u001b[0maxis\u001b[0m\u001b[1;33m:\u001b[0m \u001b[0mint\u001b[0m\u001b[1;33m)\u001b[0m\u001b[1;33m:\u001b[0m\u001b[1;33m\u001b[0m\u001b[1;33m\u001b[0m\u001b[0m\n",
      "\u001b[1;32m~\\anaconda3\\envs\\ml\\lib\\site-packages\\pandas\\core\\indexing.py\u001b[0m in \u001b[0;36m_getitem_tuple_same_dim\u001b[1;34m(self, tup)\u001b[0m\n\u001b[0;32m    773\u001b[0m                 \u001b[1;32mcontinue\u001b[0m\u001b[1;33m\u001b[0m\u001b[1;33m\u001b[0m\u001b[0m\n\u001b[0;32m    774\u001b[0m \u001b[1;33m\u001b[0m\u001b[0m\n\u001b[1;32m--> 775\u001b[1;33m             \u001b[0mretval\u001b[0m \u001b[1;33m=\u001b[0m \u001b[0mgetattr\u001b[0m\u001b[1;33m(\u001b[0m\u001b[0mretval\u001b[0m\u001b[1;33m,\u001b[0m \u001b[0mself\u001b[0m\u001b[1;33m.\u001b[0m\u001b[0mname\u001b[0m\u001b[1;33m)\u001b[0m\u001b[1;33m.\u001b[0m\u001b[0m_getitem_axis\u001b[0m\u001b[1;33m(\u001b[0m\u001b[0mkey\u001b[0m\u001b[1;33m,\u001b[0m \u001b[0maxis\u001b[0m\u001b[1;33m=\u001b[0m\u001b[0mi\u001b[0m\u001b[1;33m)\u001b[0m\u001b[1;33m\u001b[0m\u001b[1;33m\u001b[0m\u001b[0m\n\u001b[0m\u001b[0;32m    776\u001b[0m             \u001b[1;31m# We should never have retval.ndim < self.ndim, as that should\u001b[0m\u001b[1;33m\u001b[0m\u001b[1;33m\u001b[0m\u001b[1;33m\u001b[0m\u001b[0m\n\u001b[0;32m    777\u001b[0m             \u001b[1;31m#  be handled by the _getitem_lowerdim call above.\u001b[0m\u001b[1;33m\u001b[0m\u001b[1;33m\u001b[0m\u001b[1;33m\u001b[0m\u001b[0m\n",
      "\u001b[1;32m~\\anaconda3\\envs\\ml\\lib\\site-packages\\pandas\\core\\indexing.py\u001b[0m in \u001b[0;36m_getitem_axis\u001b[1;34m(self, key, axis)\u001b[0m\n\u001b[0;32m   1479\u001b[0m     \u001b[1;32mdef\u001b[0m \u001b[0m_getitem_axis\u001b[0m\u001b[1;33m(\u001b[0m\u001b[0mself\u001b[0m\u001b[1;33m,\u001b[0m \u001b[0mkey\u001b[0m\u001b[1;33m,\u001b[0m \u001b[0maxis\u001b[0m\u001b[1;33m:\u001b[0m \u001b[0mint\u001b[0m\u001b[1;33m)\u001b[0m\u001b[1;33m:\u001b[0m\u001b[1;33m\u001b[0m\u001b[1;33m\u001b[0m\u001b[0m\n\u001b[0;32m   1480\u001b[0m         \u001b[1;32mif\u001b[0m \u001b[0misinstance\u001b[0m\u001b[1;33m(\u001b[0m\u001b[0mkey\u001b[0m\u001b[1;33m,\u001b[0m \u001b[0mslice\u001b[0m\u001b[1;33m)\u001b[0m\u001b[1;33m:\u001b[0m\u001b[1;33m\u001b[0m\u001b[1;33m\u001b[0m\u001b[0m\n\u001b[1;32m-> 1481\u001b[1;33m             \u001b[1;32mreturn\u001b[0m \u001b[0mself\u001b[0m\u001b[1;33m.\u001b[0m\u001b[0m_get_slice_axis\u001b[0m\u001b[1;33m(\u001b[0m\u001b[0mkey\u001b[0m\u001b[1;33m,\u001b[0m \u001b[0maxis\u001b[0m\u001b[1;33m=\u001b[0m\u001b[0maxis\u001b[0m\u001b[1;33m)\u001b[0m\u001b[1;33m\u001b[0m\u001b[1;33m\u001b[0m\u001b[0m\n\u001b[0m\u001b[0;32m   1482\u001b[0m \u001b[1;33m\u001b[0m\u001b[0m\n\u001b[0;32m   1483\u001b[0m         \u001b[1;32mif\u001b[0m \u001b[0misinstance\u001b[0m\u001b[1;33m(\u001b[0m\u001b[0mkey\u001b[0m\u001b[1;33m,\u001b[0m \u001b[0mlist\u001b[0m\u001b[1;33m)\u001b[0m\u001b[1;33m:\u001b[0m\u001b[1;33m\u001b[0m\u001b[1;33m\u001b[0m\u001b[0m\n",
      "\u001b[1;32m~\\anaconda3\\envs\\ml\\lib\\site-packages\\pandas\\core\\indexing.py\u001b[0m in \u001b[0;36m_get_slice_axis\u001b[1;34m(self, slice_obj, axis)\u001b[0m\n\u001b[0;32m   1512\u001b[0m         \u001b[0mlabels\u001b[0m \u001b[1;33m=\u001b[0m \u001b[0mobj\u001b[0m\u001b[1;33m.\u001b[0m\u001b[0m_get_axis\u001b[0m\u001b[1;33m(\u001b[0m\u001b[0maxis\u001b[0m\u001b[1;33m)\u001b[0m\u001b[1;33m\u001b[0m\u001b[1;33m\u001b[0m\u001b[0m\n\u001b[0;32m   1513\u001b[0m         \u001b[0mlabels\u001b[0m\u001b[1;33m.\u001b[0m\u001b[0m_validate_positional_slice\u001b[0m\u001b[1;33m(\u001b[0m\u001b[0mslice_obj\u001b[0m\u001b[1;33m)\u001b[0m\u001b[1;33m\u001b[0m\u001b[1;33m\u001b[0m\u001b[0m\n\u001b[1;32m-> 1514\u001b[1;33m         \u001b[1;32mreturn\u001b[0m \u001b[0mself\u001b[0m\u001b[1;33m.\u001b[0m\u001b[0mobj\u001b[0m\u001b[1;33m.\u001b[0m\u001b[0m_slice\u001b[0m\u001b[1;33m(\u001b[0m\u001b[0mslice_obj\u001b[0m\u001b[1;33m,\u001b[0m \u001b[0maxis\u001b[0m\u001b[1;33m=\u001b[0m\u001b[0maxis\u001b[0m\u001b[1;33m)\u001b[0m\u001b[1;33m\u001b[0m\u001b[1;33m\u001b[0m\u001b[0m\n\u001b[0m\u001b[0;32m   1515\u001b[0m \u001b[1;33m\u001b[0m\u001b[0m\n\u001b[0;32m   1516\u001b[0m     \u001b[1;32mdef\u001b[0m \u001b[0m_convert_to_indexer\u001b[0m\u001b[1;33m(\u001b[0m\u001b[0mself\u001b[0m\u001b[1;33m,\u001b[0m \u001b[0mkey\u001b[0m\u001b[1;33m,\u001b[0m \u001b[0maxis\u001b[0m\u001b[1;33m:\u001b[0m \u001b[0mint\u001b[0m\u001b[1;33m,\u001b[0m \u001b[0mis_setter\u001b[0m\u001b[1;33m:\u001b[0m \u001b[0mbool\u001b[0m \u001b[1;33m=\u001b[0m \u001b[1;32mFalse\u001b[0m\u001b[1;33m)\u001b[0m\u001b[1;33m:\u001b[0m\u001b[1;33m\u001b[0m\u001b[1;33m\u001b[0m\u001b[0m\n",
      "\u001b[1;32m~\\anaconda3\\envs\\ml\\lib\\site-packages\\pandas\\core\\generic.py\u001b[0m in \u001b[0;36m_slice\u001b[1;34m(self, slobj, axis)\u001b[0m\n\u001b[0;32m   3808\u001b[0m         \u001b[1;32massert\u001b[0m \u001b[0misinstance\u001b[0m\u001b[1;33m(\u001b[0m\u001b[0mslobj\u001b[0m\u001b[1;33m,\u001b[0m \u001b[0mslice\u001b[0m\u001b[1;33m)\u001b[0m\u001b[1;33m,\u001b[0m \u001b[0mtype\u001b[0m\u001b[1;33m(\u001b[0m\u001b[0mslobj\u001b[0m\u001b[1;33m)\u001b[0m\u001b[1;33m\u001b[0m\u001b[1;33m\u001b[0m\u001b[0m\n\u001b[0;32m   3809\u001b[0m         \u001b[0maxis\u001b[0m \u001b[1;33m=\u001b[0m \u001b[0mself\u001b[0m\u001b[1;33m.\u001b[0m\u001b[0m_get_block_manager_axis\u001b[0m\u001b[1;33m(\u001b[0m\u001b[0maxis\u001b[0m\u001b[1;33m)\u001b[0m\u001b[1;33m\u001b[0m\u001b[1;33m\u001b[0m\u001b[0m\n\u001b[1;32m-> 3810\u001b[1;33m         \u001b[0mresult\u001b[0m \u001b[1;33m=\u001b[0m \u001b[0mself\u001b[0m\u001b[1;33m.\u001b[0m\u001b[0m_constructor\u001b[0m\u001b[1;33m(\u001b[0m\u001b[0mself\u001b[0m\u001b[1;33m.\u001b[0m\u001b[0m_mgr\u001b[0m\u001b[1;33m.\u001b[0m\u001b[0mget_slice\u001b[0m\u001b[1;33m(\u001b[0m\u001b[0mslobj\u001b[0m\u001b[1;33m,\u001b[0m \u001b[0maxis\u001b[0m\u001b[1;33m=\u001b[0m\u001b[0maxis\u001b[0m\u001b[1;33m)\u001b[0m\u001b[1;33m)\u001b[0m\u001b[1;33m\u001b[0m\u001b[1;33m\u001b[0m\u001b[0m\n\u001b[0m\u001b[0;32m   3811\u001b[0m         \u001b[0mresult\u001b[0m \u001b[1;33m=\u001b[0m \u001b[0mresult\u001b[0m\u001b[1;33m.\u001b[0m\u001b[0m__finalize__\u001b[0m\u001b[1;33m(\u001b[0m\u001b[0mself\u001b[0m\u001b[1;33m)\u001b[0m\u001b[1;33m\u001b[0m\u001b[1;33m\u001b[0m\u001b[0m\n\u001b[0;32m   3812\u001b[0m \u001b[1;33m\u001b[0m\u001b[0m\n",
      "\u001b[1;32m~\\anaconda3\\envs\\ml\\lib\\site-packages\\pandas\\core\\internals\\managers.py\u001b[0m in \u001b[0;36mget_slice\u001b[1;34m(self, slobj, axis)\u001b[0m\n\u001b[0;32m    777\u001b[0m \u001b[1;33m\u001b[0m\u001b[0m\n\u001b[0;32m    778\u001b[0m         \u001b[1;32mif\u001b[0m \u001b[0maxis\u001b[0m \u001b[1;33m==\u001b[0m \u001b[1;36m0\u001b[0m\u001b[1;33m:\u001b[0m\u001b[1;33m\u001b[0m\u001b[1;33m\u001b[0m\u001b[0m\n\u001b[1;32m--> 779\u001b[1;33m             \u001b[0mnew_blocks\u001b[0m \u001b[1;33m=\u001b[0m \u001b[0mself\u001b[0m\u001b[1;33m.\u001b[0m\u001b[0m_slice_take_blocks_ax0\u001b[0m\u001b[1;33m(\u001b[0m\u001b[0mslobj\u001b[0m\u001b[1;33m)\u001b[0m\u001b[1;33m\u001b[0m\u001b[1;33m\u001b[0m\u001b[0m\n\u001b[0m\u001b[0;32m    780\u001b[0m         \u001b[1;32melif\u001b[0m \u001b[0maxis\u001b[0m \u001b[1;33m==\u001b[0m \u001b[1;36m1\u001b[0m\u001b[1;33m:\u001b[0m\u001b[1;33m\u001b[0m\u001b[1;33m\u001b[0m\u001b[0m\n\u001b[0;32m    781\u001b[0m             \u001b[0mslicer\u001b[0m \u001b[1;33m=\u001b[0m \u001b[1;33m(\u001b[0m\u001b[0mslice\u001b[0m\u001b[1;33m(\u001b[0m\u001b[1;32mNone\u001b[0m\u001b[1;33m)\u001b[0m\u001b[1;33m,\u001b[0m \u001b[0mslobj\u001b[0m\u001b[1;33m)\u001b[0m\u001b[1;33m\u001b[0m\u001b[1;33m\u001b[0m\u001b[0m\n",
      "\u001b[1;32m~\\anaconda3\\envs\\ml\\lib\\site-packages\\pandas\\core\\internals\\managers.py\u001b[0m in \u001b[0;36m_slice_take_blocks_ax0\u001b[1;34m(self, slice_or_indexer, fill_value, only_slice)\u001b[0m\n\u001b[0;32m   1435\u001b[0m                             \u001b[0mblocks\u001b[0m\u001b[1;33m.\u001b[0m\u001b[0mappend\u001b[0m\u001b[1;33m(\u001b[0m\u001b[0mnb\u001b[0m\u001b[1;33m)\u001b[0m\u001b[1;33m\u001b[0m\u001b[1;33m\u001b[0m\u001b[0m\n\u001b[0;32m   1436\u001b[0m                     \u001b[1;32melse\u001b[0m\u001b[1;33m:\u001b[0m\u001b[1;33m\u001b[0m\u001b[1;33m\u001b[0m\u001b[0m\n\u001b[1;32m-> 1437\u001b[1;33m                         \u001b[0mnb\u001b[0m \u001b[1;33m=\u001b[0m \u001b[0mblk\u001b[0m\u001b[1;33m.\u001b[0m\u001b[0mtake_nd\u001b[0m\u001b[1;33m(\u001b[0m\u001b[0mtaker\u001b[0m\u001b[1;33m,\u001b[0m \u001b[0maxis\u001b[0m\u001b[1;33m=\u001b[0m\u001b[1;36m0\u001b[0m\u001b[1;33m,\u001b[0m \u001b[0mnew_mgr_locs\u001b[0m\u001b[1;33m=\u001b[0m\u001b[0mmgr_locs\u001b[0m\u001b[1;33m)\u001b[0m\u001b[1;33m\u001b[0m\u001b[1;33m\u001b[0m\u001b[0m\n\u001b[0m\u001b[0;32m   1438\u001b[0m                         \u001b[0mblocks\u001b[0m\u001b[1;33m.\u001b[0m\u001b[0mappend\u001b[0m\u001b[1;33m(\u001b[0m\u001b[0mnb\u001b[0m\u001b[1;33m)\u001b[0m\u001b[1;33m\u001b[0m\u001b[1;33m\u001b[0m\u001b[0m\n\u001b[0;32m   1439\u001b[0m \u001b[1;33m\u001b[0m\u001b[0m\n",
      "\u001b[1;32m~\\anaconda3\\envs\\ml\\lib\\site-packages\\pandas\\core\\internals\\blocks.py\u001b[0m in \u001b[0;36mtake_nd\u001b[1;34m(self, indexer, axis, new_mgr_locs, fill_value)\u001b[0m\n\u001b[0;32m   1383\u001b[0m             \u001b[0mallow_fill\u001b[0m \u001b[1;33m=\u001b[0m \u001b[1;32mTrue\u001b[0m\u001b[1;33m\u001b[0m\u001b[1;33m\u001b[0m\u001b[0m\n\u001b[0;32m   1384\u001b[0m \u001b[1;33m\u001b[0m\u001b[0m\n\u001b[1;32m-> 1385\u001b[1;33m         new_values = algos.take_nd(\n\u001b[0m\u001b[0;32m   1386\u001b[0m             \u001b[0mvalues\u001b[0m\u001b[1;33m,\u001b[0m \u001b[0mindexer\u001b[0m\u001b[1;33m,\u001b[0m \u001b[0maxis\u001b[0m\u001b[1;33m=\u001b[0m\u001b[0maxis\u001b[0m\u001b[1;33m,\u001b[0m \u001b[0mallow_fill\u001b[0m\u001b[1;33m=\u001b[0m\u001b[0mallow_fill\u001b[0m\u001b[1;33m,\u001b[0m \u001b[0mfill_value\u001b[0m\u001b[1;33m=\u001b[0m\u001b[0mfill_value\u001b[0m\u001b[1;33m\u001b[0m\u001b[1;33m\u001b[0m\u001b[0m\n\u001b[0;32m   1387\u001b[0m         )\n",
      "\u001b[1;32m~\\anaconda3\\envs\\ml\\lib\\site-packages\\pandas\\core\\algorithms.py\u001b[0m in \u001b[0;36mtake_nd\u001b[1;34m(arr, indexer, axis, out, fill_value, allow_fill)\u001b[0m\n\u001b[0;32m   1750\u001b[0m             \u001b[1;31m# (s.t. df.values is c-contiguous and df._mgr.blocks[0] is its\u001b[0m\u001b[1;33m\u001b[0m\u001b[1;33m\u001b[0m\u001b[1;33m\u001b[0m\u001b[0m\n\u001b[0;32m   1751\u001b[0m             \u001b[1;31m# f-contiguous transpose)\u001b[0m\u001b[1;33m\u001b[0m\u001b[1;33m\u001b[0m\u001b[1;33m\u001b[0m\u001b[0m\n\u001b[1;32m-> 1752\u001b[1;33m             \u001b[0mout\u001b[0m \u001b[1;33m=\u001b[0m \u001b[0mnp\u001b[0m\u001b[1;33m.\u001b[0m\u001b[0mempty\u001b[0m\u001b[1;33m(\u001b[0m\u001b[0mout_shape\u001b[0m\u001b[1;33m,\u001b[0m \u001b[0mdtype\u001b[0m\u001b[1;33m=\u001b[0m\u001b[0mdtype\u001b[0m\u001b[1;33m,\u001b[0m \u001b[0morder\u001b[0m\u001b[1;33m=\u001b[0m\u001b[1;34m\"F\"\u001b[0m\u001b[1;33m)\u001b[0m\u001b[1;33m\u001b[0m\u001b[1;33m\u001b[0m\u001b[0m\n\u001b[0m\u001b[0;32m   1753\u001b[0m         \u001b[1;32melse\u001b[0m\u001b[1;33m:\u001b[0m\u001b[1;33m\u001b[0m\u001b[1;33m\u001b[0m\u001b[0m\n\u001b[0;32m   1754\u001b[0m             \u001b[0mout\u001b[0m \u001b[1;33m=\u001b[0m \u001b[0mnp\u001b[0m\u001b[1;33m.\u001b[0m\u001b[0mempty\u001b[0m\u001b[1;33m(\u001b[0m\u001b[0mout_shape\u001b[0m\u001b[1;33m,\u001b[0m \u001b[0mdtype\u001b[0m\u001b[1;33m=\u001b[0m\u001b[0mdtype\u001b[0m\u001b[1;33m)\u001b[0m\u001b[1;33m\u001b[0m\u001b[1;33m\u001b[0m\u001b[0m\n",
      "\u001b[1;31mMemoryError\u001b[0m: Unable to allocate 454. MiB for an array with shape (59441480, 1) and data type int64"
     ]
    },
    {
     "ename": "MemoryError",
     "evalue": "Unable to allocate 454. MiB for an array with shape (59441480, 1) and data type int64",
     "output_type": "error",
     "traceback": [
      "\u001b[1;31m---------------------------------------------------------------------------\u001b[0m",
      "\u001b[1;31mMemoryError\u001b[0m                               Traceback (most recent call last)",
      "\u001b[1;32m~\\anaconda3\\envs\\ml\\lib\\site-packages\\IPython\\core\\formatters.py\u001b[0m in \u001b[0;36m__call__\u001b[1;34m(self, obj)\u001b[0m\n\u001b[0;32m    343\u001b[0m             \u001b[0mmethod\u001b[0m \u001b[1;33m=\u001b[0m \u001b[0mget_real_method\u001b[0m\u001b[1;33m(\u001b[0m\u001b[0mobj\u001b[0m\u001b[1;33m,\u001b[0m \u001b[0mself\u001b[0m\u001b[1;33m.\u001b[0m\u001b[0mprint_method\u001b[0m\u001b[1;33m)\u001b[0m\u001b[1;33m\u001b[0m\u001b[1;33m\u001b[0m\u001b[0m\n\u001b[0;32m    344\u001b[0m             \u001b[1;32mif\u001b[0m \u001b[0mmethod\u001b[0m \u001b[1;32mis\u001b[0m \u001b[1;32mnot\u001b[0m \u001b[1;32mNone\u001b[0m\u001b[1;33m:\u001b[0m\u001b[1;33m\u001b[0m\u001b[1;33m\u001b[0m\u001b[0m\n\u001b[1;32m--> 345\u001b[1;33m                 \u001b[1;32mreturn\u001b[0m \u001b[0mmethod\u001b[0m\u001b[1;33m(\u001b[0m\u001b[1;33m)\u001b[0m\u001b[1;33m\u001b[0m\u001b[1;33m\u001b[0m\u001b[0m\n\u001b[0m\u001b[0;32m    346\u001b[0m             \u001b[1;32mreturn\u001b[0m \u001b[1;32mNone\u001b[0m\u001b[1;33m\u001b[0m\u001b[1;33m\u001b[0m\u001b[0m\n\u001b[0;32m    347\u001b[0m         \u001b[1;32melse\u001b[0m\u001b[1;33m:\u001b[0m\u001b[1;33m\u001b[0m\u001b[1;33m\u001b[0m\u001b[0m\n",
      "\u001b[1;32m~\\anaconda3\\envs\\ml\\lib\\site-packages\\pandas\\core\\frame.py\u001b[0m in \u001b[0;36m_repr_html_\u001b[1;34m(self)\u001b[0m\n\u001b[0;32m    833\u001b[0m             \u001b[0mshow_dimensions\u001b[0m \u001b[1;33m=\u001b[0m \u001b[0mget_option\u001b[0m\u001b[1;33m(\u001b[0m\u001b[1;34m\"display.show_dimensions\"\u001b[0m\u001b[1;33m)\u001b[0m\u001b[1;33m\u001b[0m\u001b[1;33m\u001b[0m\u001b[0m\n\u001b[0;32m    834\u001b[0m \u001b[1;33m\u001b[0m\u001b[0m\n\u001b[1;32m--> 835\u001b[1;33m             formatter = fmt.DataFrameFormatter(\n\u001b[0m\u001b[0;32m    836\u001b[0m                 \u001b[0mself\u001b[0m\u001b[1;33m,\u001b[0m\u001b[1;33m\u001b[0m\u001b[1;33m\u001b[0m\u001b[0m\n\u001b[0;32m    837\u001b[0m                 \u001b[0mcolumns\u001b[0m\u001b[1;33m=\u001b[0m\u001b[1;32mNone\u001b[0m\u001b[1;33m,\u001b[0m\u001b[1;33m\u001b[0m\u001b[1;33m\u001b[0m\u001b[0m\n",
      "\u001b[1;32m~\\anaconda3\\envs\\ml\\lib\\site-packages\\pandas\\io\\formats\\format.py\u001b[0m in \u001b[0;36m__init__\u001b[1;34m(self, frame, columns, col_space, header, index, na_rep, formatters, justify, float_format, sparsify, index_names, max_rows, min_rows, max_cols, show_dimensions, decimal, bold_rows, escape)\u001b[0m\n\u001b[0;32m    510\u001b[0m \u001b[1;33m\u001b[0m\u001b[0m\n\u001b[0;32m    511\u001b[0m         \u001b[0mself\u001b[0m\u001b[1;33m.\u001b[0m\u001b[0mtr_frame\u001b[0m \u001b[1;33m=\u001b[0m \u001b[0mself\u001b[0m\u001b[1;33m.\u001b[0m\u001b[0mframe\u001b[0m\u001b[1;33m\u001b[0m\u001b[1;33m\u001b[0m\u001b[0m\n\u001b[1;32m--> 512\u001b[1;33m         \u001b[0mself\u001b[0m\u001b[1;33m.\u001b[0m\u001b[0mtruncate\u001b[0m\u001b[1;33m(\u001b[0m\u001b[1;33m)\u001b[0m\u001b[1;33m\u001b[0m\u001b[1;33m\u001b[0m\u001b[0m\n\u001b[0m\u001b[0;32m    513\u001b[0m         \u001b[0mself\u001b[0m\u001b[1;33m.\u001b[0m\u001b[0madj\u001b[0m \u001b[1;33m=\u001b[0m \u001b[0mget_adjustment\u001b[0m\u001b[1;33m(\u001b[0m\u001b[1;33m)\u001b[0m\u001b[1;33m\u001b[0m\u001b[1;33m\u001b[0m\u001b[0m\n\u001b[0;32m    514\u001b[0m \u001b[1;33m\u001b[0m\u001b[0m\n",
      "\u001b[1;32m~\\anaconda3\\envs\\ml\\lib\\site-packages\\pandas\\io\\formats\\format.py\u001b[0m in \u001b[0;36mtruncate\u001b[1;34m(self)\u001b[0m\n\u001b[0;32m    698\u001b[0m         \"\"\"\n\u001b[0;32m    699\u001b[0m         \u001b[1;32mif\u001b[0m \u001b[0mself\u001b[0m\u001b[1;33m.\u001b[0m\u001b[0mis_truncated_horizontally\u001b[0m\u001b[1;33m:\u001b[0m\u001b[1;33m\u001b[0m\u001b[1;33m\u001b[0m\u001b[0m\n\u001b[1;32m--> 700\u001b[1;33m             \u001b[0mself\u001b[0m\u001b[1;33m.\u001b[0m\u001b[0m_truncate_horizontally\u001b[0m\u001b[1;33m(\u001b[0m\u001b[1;33m)\u001b[0m\u001b[1;33m\u001b[0m\u001b[1;33m\u001b[0m\u001b[0m\n\u001b[0m\u001b[0;32m    701\u001b[0m \u001b[1;33m\u001b[0m\u001b[0m\n\u001b[0;32m    702\u001b[0m         \u001b[1;32mif\u001b[0m \u001b[0mself\u001b[0m\u001b[1;33m.\u001b[0m\u001b[0mis_truncated_vertically\u001b[0m\u001b[1;33m:\u001b[0m\u001b[1;33m\u001b[0m\u001b[1;33m\u001b[0m\u001b[0m\n",
      "\u001b[1;32m~\\anaconda3\\envs\\ml\\lib\\site-packages\\pandas\\io\\formats\\format.py\u001b[0m in \u001b[0;36m_truncate_horizontally\u001b[1;34m(self)\u001b[0m\n\u001b[0;32m    714\u001b[0m         \u001b[0mcol_num\u001b[0m \u001b[1;33m=\u001b[0m \u001b[0mself\u001b[0m\u001b[1;33m.\u001b[0m\u001b[0mmax_cols_fitted\u001b[0m \u001b[1;33m//\u001b[0m \u001b[1;36m2\u001b[0m\u001b[1;33m\u001b[0m\u001b[1;33m\u001b[0m\u001b[0m\n\u001b[0;32m    715\u001b[0m         \u001b[1;32mif\u001b[0m \u001b[0mcol_num\u001b[0m \u001b[1;33m>=\u001b[0m \u001b[1;36m1\u001b[0m\u001b[1;33m:\u001b[0m\u001b[1;33m\u001b[0m\u001b[1;33m\u001b[0m\u001b[0m\n\u001b[1;32m--> 716\u001b[1;33m             \u001b[0mleft\u001b[0m \u001b[1;33m=\u001b[0m \u001b[0mself\u001b[0m\u001b[1;33m.\u001b[0m\u001b[0mtr_frame\u001b[0m\u001b[1;33m.\u001b[0m\u001b[0miloc\u001b[0m\u001b[1;33m[\u001b[0m\u001b[1;33m:\u001b[0m\u001b[1;33m,\u001b[0m \u001b[1;33m:\u001b[0m\u001b[0mcol_num\u001b[0m\u001b[1;33m]\u001b[0m\u001b[1;33m\u001b[0m\u001b[1;33m\u001b[0m\u001b[0m\n\u001b[0m\u001b[0;32m    717\u001b[0m             \u001b[0mright\u001b[0m \u001b[1;33m=\u001b[0m \u001b[0mself\u001b[0m\u001b[1;33m.\u001b[0m\u001b[0mtr_frame\u001b[0m\u001b[1;33m.\u001b[0m\u001b[0miloc\u001b[0m\u001b[1;33m[\u001b[0m\u001b[1;33m:\u001b[0m\u001b[1;33m,\u001b[0m \u001b[1;33m-\u001b[0m\u001b[0mcol_num\u001b[0m\u001b[1;33m:\u001b[0m\u001b[1;33m]\u001b[0m\u001b[1;33m\u001b[0m\u001b[1;33m\u001b[0m\u001b[0m\n\u001b[0;32m    718\u001b[0m             \u001b[0mself\u001b[0m\u001b[1;33m.\u001b[0m\u001b[0mtr_frame\u001b[0m \u001b[1;33m=\u001b[0m \u001b[0mconcat\u001b[0m\u001b[1;33m(\u001b[0m\u001b[1;33m(\u001b[0m\u001b[0mleft\u001b[0m\u001b[1;33m,\u001b[0m \u001b[0mright\u001b[0m\u001b[1;33m)\u001b[0m\u001b[1;33m,\u001b[0m \u001b[0maxis\u001b[0m\u001b[1;33m=\u001b[0m\u001b[1;36m1\u001b[0m\u001b[1;33m)\u001b[0m\u001b[1;33m\u001b[0m\u001b[1;33m\u001b[0m\u001b[0m\n",
      "\u001b[1;32m~\\anaconda3\\envs\\ml\\lib\\site-packages\\pandas\\core\\indexing.py\u001b[0m in \u001b[0;36m__getitem__\u001b[1;34m(self, key)\u001b[0m\n\u001b[0;32m    887\u001b[0m                     \u001b[1;31m# AttributeError for IntervalTree get_value\u001b[0m\u001b[1;33m\u001b[0m\u001b[1;33m\u001b[0m\u001b[1;33m\u001b[0m\u001b[0m\n\u001b[0;32m    888\u001b[0m                     \u001b[1;32mreturn\u001b[0m \u001b[0mself\u001b[0m\u001b[1;33m.\u001b[0m\u001b[0mobj\u001b[0m\u001b[1;33m.\u001b[0m\u001b[0m_get_value\u001b[0m\u001b[1;33m(\u001b[0m\u001b[1;33m*\u001b[0m\u001b[0mkey\u001b[0m\u001b[1;33m,\u001b[0m \u001b[0mtakeable\u001b[0m\u001b[1;33m=\u001b[0m\u001b[0mself\u001b[0m\u001b[1;33m.\u001b[0m\u001b[0m_takeable\u001b[0m\u001b[1;33m)\u001b[0m\u001b[1;33m\u001b[0m\u001b[1;33m\u001b[0m\u001b[0m\n\u001b[1;32m--> 889\u001b[1;33m             \u001b[1;32mreturn\u001b[0m \u001b[0mself\u001b[0m\u001b[1;33m.\u001b[0m\u001b[0m_getitem_tuple\u001b[0m\u001b[1;33m(\u001b[0m\u001b[0mkey\u001b[0m\u001b[1;33m)\u001b[0m\u001b[1;33m\u001b[0m\u001b[1;33m\u001b[0m\u001b[0m\n\u001b[0m\u001b[0;32m    890\u001b[0m         \u001b[1;32melse\u001b[0m\u001b[1;33m:\u001b[0m\u001b[1;33m\u001b[0m\u001b[1;33m\u001b[0m\u001b[0m\n\u001b[0;32m    891\u001b[0m             \u001b[1;31m# we by definition only have the 0th axis\u001b[0m\u001b[1;33m\u001b[0m\u001b[1;33m\u001b[0m\u001b[1;33m\u001b[0m\u001b[0m\n",
      "\u001b[1;32m~\\anaconda3\\envs\\ml\\lib\\site-packages\\pandas\\core\\indexing.py\u001b[0m in \u001b[0;36m_getitem_tuple\u001b[1;34m(self, tup)\u001b[0m\n\u001b[0;32m   1452\u001b[0m             \u001b[1;32mreturn\u001b[0m \u001b[0mself\u001b[0m\u001b[1;33m.\u001b[0m\u001b[0m_getitem_lowerdim\u001b[0m\u001b[1;33m(\u001b[0m\u001b[0mtup\u001b[0m\u001b[1;33m)\u001b[0m\u001b[1;33m\u001b[0m\u001b[1;33m\u001b[0m\u001b[0m\n\u001b[0;32m   1453\u001b[0m \u001b[1;33m\u001b[0m\u001b[0m\n\u001b[1;32m-> 1454\u001b[1;33m         \u001b[1;32mreturn\u001b[0m \u001b[0mself\u001b[0m\u001b[1;33m.\u001b[0m\u001b[0m_getitem_tuple_same_dim\u001b[0m\u001b[1;33m(\u001b[0m\u001b[0mtup\u001b[0m\u001b[1;33m)\u001b[0m\u001b[1;33m\u001b[0m\u001b[1;33m\u001b[0m\u001b[0m\n\u001b[0m\u001b[0;32m   1455\u001b[0m \u001b[1;33m\u001b[0m\u001b[0m\n\u001b[0;32m   1456\u001b[0m     \u001b[1;32mdef\u001b[0m \u001b[0m_get_list_axis\u001b[0m\u001b[1;33m(\u001b[0m\u001b[0mself\u001b[0m\u001b[1;33m,\u001b[0m \u001b[0mkey\u001b[0m\u001b[1;33m,\u001b[0m \u001b[0maxis\u001b[0m\u001b[1;33m:\u001b[0m \u001b[0mint\u001b[0m\u001b[1;33m)\u001b[0m\u001b[1;33m:\u001b[0m\u001b[1;33m\u001b[0m\u001b[1;33m\u001b[0m\u001b[0m\n",
      "\u001b[1;32m~\\anaconda3\\envs\\ml\\lib\\site-packages\\pandas\\core\\indexing.py\u001b[0m in \u001b[0;36m_getitem_tuple_same_dim\u001b[1;34m(self, tup)\u001b[0m\n\u001b[0;32m    773\u001b[0m                 \u001b[1;32mcontinue\u001b[0m\u001b[1;33m\u001b[0m\u001b[1;33m\u001b[0m\u001b[0m\n\u001b[0;32m    774\u001b[0m \u001b[1;33m\u001b[0m\u001b[0m\n\u001b[1;32m--> 775\u001b[1;33m             \u001b[0mretval\u001b[0m \u001b[1;33m=\u001b[0m \u001b[0mgetattr\u001b[0m\u001b[1;33m(\u001b[0m\u001b[0mretval\u001b[0m\u001b[1;33m,\u001b[0m \u001b[0mself\u001b[0m\u001b[1;33m.\u001b[0m\u001b[0mname\u001b[0m\u001b[1;33m)\u001b[0m\u001b[1;33m.\u001b[0m\u001b[0m_getitem_axis\u001b[0m\u001b[1;33m(\u001b[0m\u001b[0mkey\u001b[0m\u001b[1;33m,\u001b[0m \u001b[0maxis\u001b[0m\u001b[1;33m=\u001b[0m\u001b[0mi\u001b[0m\u001b[1;33m)\u001b[0m\u001b[1;33m\u001b[0m\u001b[1;33m\u001b[0m\u001b[0m\n\u001b[0m\u001b[0;32m    776\u001b[0m             \u001b[1;31m# We should never have retval.ndim < self.ndim, as that should\u001b[0m\u001b[1;33m\u001b[0m\u001b[1;33m\u001b[0m\u001b[1;33m\u001b[0m\u001b[0m\n\u001b[0;32m    777\u001b[0m             \u001b[1;31m#  be handled by the _getitem_lowerdim call above.\u001b[0m\u001b[1;33m\u001b[0m\u001b[1;33m\u001b[0m\u001b[1;33m\u001b[0m\u001b[0m\n",
      "\u001b[1;32m~\\anaconda3\\envs\\ml\\lib\\site-packages\\pandas\\core\\indexing.py\u001b[0m in \u001b[0;36m_getitem_axis\u001b[1;34m(self, key, axis)\u001b[0m\n\u001b[0;32m   1479\u001b[0m     \u001b[1;32mdef\u001b[0m \u001b[0m_getitem_axis\u001b[0m\u001b[1;33m(\u001b[0m\u001b[0mself\u001b[0m\u001b[1;33m,\u001b[0m \u001b[0mkey\u001b[0m\u001b[1;33m,\u001b[0m \u001b[0maxis\u001b[0m\u001b[1;33m:\u001b[0m \u001b[0mint\u001b[0m\u001b[1;33m)\u001b[0m\u001b[1;33m:\u001b[0m\u001b[1;33m\u001b[0m\u001b[1;33m\u001b[0m\u001b[0m\n\u001b[0;32m   1480\u001b[0m         \u001b[1;32mif\u001b[0m \u001b[0misinstance\u001b[0m\u001b[1;33m(\u001b[0m\u001b[0mkey\u001b[0m\u001b[1;33m,\u001b[0m \u001b[0mslice\u001b[0m\u001b[1;33m)\u001b[0m\u001b[1;33m:\u001b[0m\u001b[1;33m\u001b[0m\u001b[1;33m\u001b[0m\u001b[0m\n\u001b[1;32m-> 1481\u001b[1;33m             \u001b[1;32mreturn\u001b[0m \u001b[0mself\u001b[0m\u001b[1;33m.\u001b[0m\u001b[0m_get_slice_axis\u001b[0m\u001b[1;33m(\u001b[0m\u001b[0mkey\u001b[0m\u001b[1;33m,\u001b[0m \u001b[0maxis\u001b[0m\u001b[1;33m=\u001b[0m\u001b[0maxis\u001b[0m\u001b[1;33m)\u001b[0m\u001b[1;33m\u001b[0m\u001b[1;33m\u001b[0m\u001b[0m\n\u001b[0m\u001b[0;32m   1482\u001b[0m \u001b[1;33m\u001b[0m\u001b[0m\n\u001b[0;32m   1483\u001b[0m         \u001b[1;32mif\u001b[0m \u001b[0misinstance\u001b[0m\u001b[1;33m(\u001b[0m\u001b[0mkey\u001b[0m\u001b[1;33m,\u001b[0m \u001b[0mlist\u001b[0m\u001b[1;33m)\u001b[0m\u001b[1;33m:\u001b[0m\u001b[1;33m\u001b[0m\u001b[1;33m\u001b[0m\u001b[0m\n",
      "\u001b[1;32m~\\anaconda3\\envs\\ml\\lib\\site-packages\\pandas\\core\\indexing.py\u001b[0m in \u001b[0;36m_get_slice_axis\u001b[1;34m(self, slice_obj, axis)\u001b[0m\n\u001b[0;32m   1512\u001b[0m         \u001b[0mlabels\u001b[0m \u001b[1;33m=\u001b[0m \u001b[0mobj\u001b[0m\u001b[1;33m.\u001b[0m\u001b[0m_get_axis\u001b[0m\u001b[1;33m(\u001b[0m\u001b[0maxis\u001b[0m\u001b[1;33m)\u001b[0m\u001b[1;33m\u001b[0m\u001b[1;33m\u001b[0m\u001b[0m\n\u001b[0;32m   1513\u001b[0m         \u001b[0mlabels\u001b[0m\u001b[1;33m.\u001b[0m\u001b[0m_validate_positional_slice\u001b[0m\u001b[1;33m(\u001b[0m\u001b[0mslice_obj\u001b[0m\u001b[1;33m)\u001b[0m\u001b[1;33m\u001b[0m\u001b[1;33m\u001b[0m\u001b[0m\n\u001b[1;32m-> 1514\u001b[1;33m         \u001b[1;32mreturn\u001b[0m \u001b[0mself\u001b[0m\u001b[1;33m.\u001b[0m\u001b[0mobj\u001b[0m\u001b[1;33m.\u001b[0m\u001b[0m_slice\u001b[0m\u001b[1;33m(\u001b[0m\u001b[0mslice_obj\u001b[0m\u001b[1;33m,\u001b[0m \u001b[0maxis\u001b[0m\u001b[1;33m=\u001b[0m\u001b[0maxis\u001b[0m\u001b[1;33m)\u001b[0m\u001b[1;33m\u001b[0m\u001b[1;33m\u001b[0m\u001b[0m\n\u001b[0m\u001b[0;32m   1515\u001b[0m \u001b[1;33m\u001b[0m\u001b[0m\n\u001b[0;32m   1516\u001b[0m     \u001b[1;32mdef\u001b[0m \u001b[0m_convert_to_indexer\u001b[0m\u001b[1;33m(\u001b[0m\u001b[0mself\u001b[0m\u001b[1;33m,\u001b[0m \u001b[0mkey\u001b[0m\u001b[1;33m,\u001b[0m \u001b[0maxis\u001b[0m\u001b[1;33m:\u001b[0m \u001b[0mint\u001b[0m\u001b[1;33m,\u001b[0m \u001b[0mis_setter\u001b[0m\u001b[1;33m:\u001b[0m \u001b[0mbool\u001b[0m \u001b[1;33m=\u001b[0m \u001b[1;32mFalse\u001b[0m\u001b[1;33m)\u001b[0m\u001b[1;33m:\u001b[0m\u001b[1;33m\u001b[0m\u001b[1;33m\u001b[0m\u001b[0m\n",
      "\u001b[1;32m~\\anaconda3\\envs\\ml\\lib\\site-packages\\pandas\\core\\generic.py\u001b[0m in \u001b[0;36m_slice\u001b[1;34m(self, slobj, axis)\u001b[0m\n\u001b[0;32m   3808\u001b[0m         \u001b[1;32massert\u001b[0m \u001b[0misinstance\u001b[0m\u001b[1;33m(\u001b[0m\u001b[0mslobj\u001b[0m\u001b[1;33m,\u001b[0m \u001b[0mslice\u001b[0m\u001b[1;33m)\u001b[0m\u001b[1;33m,\u001b[0m \u001b[0mtype\u001b[0m\u001b[1;33m(\u001b[0m\u001b[0mslobj\u001b[0m\u001b[1;33m)\u001b[0m\u001b[1;33m\u001b[0m\u001b[1;33m\u001b[0m\u001b[0m\n\u001b[0;32m   3809\u001b[0m         \u001b[0maxis\u001b[0m \u001b[1;33m=\u001b[0m \u001b[0mself\u001b[0m\u001b[1;33m.\u001b[0m\u001b[0m_get_block_manager_axis\u001b[0m\u001b[1;33m(\u001b[0m\u001b[0maxis\u001b[0m\u001b[1;33m)\u001b[0m\u001b[1;33m\u001b[0m\u001b[1;33m\u001b[0m\u001b[0m\n\u001b[1;32m-> 3810\u001b[1;33m         \u001b[0mresult\u001b[0m \u001b[1;33m=\u001b[0m \u001b[0mself\u001b[0m\u001b[1;33m.\u001b[0m\u001b[0m_constructor\u001b[0m\u001b[1;33m(\u001b[0m\u001b[0mself\u001b[0m\u001b[1;33m.\u001b[0m\u001b[0m_mgr\u001b[0m\u001b[1;33m.\u001b[0m\u001b[0mget_slice\u001b[0m\u001b[1;33m(\u001b[0m\u001b[0mslobj\u001b[0m\u001b[1;33m,\u001b[0m \u001b[0maxis\u001b[0m\u001b[1;33m=\u001b[0m\u001b[0maxis\u001b[0m\u001b[1;33m)\u001b[0m\u001b[1;33m)\u001b[0m\u001b[1;33m\u001b[0m\u001b[1;33m\u001b[0m\u001b[0m\n\u001b[0m\u001b[0;32m   3811\u001b[0m         \u001b[0mresult\u001b[0m \u001b[1;33m=\u001b[0m \u001b[0mresult\u001b[0m\u001b[1;33m.\u001b[0m\u001b[0m__finalize__\u001b[0m\u001b[1;33m(\u001b[0m\u001b[0mself\u001b[0m\u001b[1;33m)\u001b[0m\u001b[1;33m\u001b[0m\u001b[1;33m\u001b[0m\u001b[0m\n\u001b[0;32m   3812\u001b[0m \u001b[1;33m\u001b[0m\u001b[0m\n",
      "\u001b[1;32m~\\anaconda3\\envs\\ml\\lib\\site-packages\\pandas\\core\\internals\\managers.py\u001b[0m in \u001b[0;36mget_slice\u001b[1;34m(self, slobj, axis)\u001b[0m\n\u001b[0;32m    777\u001b[0m \u001b[1;33m\u001b[0m\u001b[0m\n\u001b[0;32m    778\u001b[0m         \u001b[1;32mif\u001b[0m \u001b[0maxis\u001b[0m \u001b[1;33m==\u001b[0m \u001b[1;36m0\u001b[0m\u001b[1;33m:\u001b[0m\u001b[1;33m\u001b[0m\u001b[1;33m\u001b[0m\u001b[0m\n\u001b[1;32m--> 779\u001b[1;33m             \u001b[0mnew_blocks\u001b[0m \u001b[1;33m=\u001b[0m \u001b[0mself\u001b[0m\u001b[1;33m.\u001b[0m\u001b[0m_slice_take_blocks_ax0\u001b[0m\u001b[1;33m(\u001b[0m\u001b[0mslobj\u001b[0m\u001b[1;33m)\u001b[0m\u001b[1;33m\u001b[0m\u001b[1;33m\u001b[0m\u001b[0m\n\u001b[0m\u001b[0;32m    780\u001b[0m         \u001b[1;32melif\u001b[0m \u001b[0maxis\u001b[0m \u001b[1;33m==\u001b[0m \u001b[1;36m1\u001b[0m\u001b[1;33m:\u001b[0m\u001b[1;33m\u001b[0m\u001b[1;33m\u001b[0m\u001b[0m\n\u001b[0;32m    781\u001b[0m             \u001b[0mslicer\u001b[0m \u001b[1;33m=\u001b[0m \u001b[1;33m(\u001b[0m\u001b[0mslice\u001b[0m\u001b[1;33m(\u001b[0m\u001b[1;32mNone\u001b[0m\u001b[1;33m)\u001b[0m\u001b[1;33m,\u001b[0m \u001b[0mslobj\u001b[0m\u001b[1;33m)\u001b[0m\u001b[1;33m\u001b[0m\u001b[1;33m\u001b[0m\u001b[0m\n",
      "\u001b[1;32m~\\anaconda3\\envs\\ml\\lib\\site-packages\\pandas\\core\\internals\\managers.py\u001b[0m in \u001b[0;36m_slice_take_blocks_ax0\u001b[1;34m(self, slice_or_indexer, fill_value, only_slice)\u001b[0m\n\u001b[0;32m   1435\u001b[0m                             \u001b[0mblocks\u001b[0m\u001b[1;33m.\u001b[0m\u001b[0mappend\u001b[0m\u001b[1;33m(\u001b[0m\u001b[0mnb\u001b[0m\u001b[1;33m)\u001b[0m\u001b[1;33m\u001b[0m\u001b[1;33m\u001b[0m\u001b[0m\n\u001b[0;32m   1436\u001b[0m                     \u001b[1;32melse\u001b[0m\u001b[1;33m:\u001b[0m\u001b[1;33m\u001b[0m\u001b[1;33m\u001b[0m\u001b[0m\n\u001b[1;32m-> 1437\u001b[1;33m                         \u001b[0mnb\u001b[0m \u001b[1;33m=\u001b[0m \u001b[0mblk\u001b[0m\u001b[1;33m.\u001b[0m\u001b[0mtake_nd\u001b[0m\u001b[1;33m(\u001b[0m\u001b[0mtaker\u001b[0m\u001b[1;33m,\u001b[0m \u001b[0maxis\u001b[0m\u001b[1;33m=\u001b[0m\u001b[1;36m0\u001b[0m\u001b[1;33m,\u001b[0m \u001b[0mnew_mgr_locs\u001b[0m\u001b[1;33m=\u001b[0m\u001b[0mmgr_locs\u001b[0m\u001b[1;33m)\u001b[0m\u001b[1;33m\u001b[0m\u001b[1;33m\u001b[0m\u001b[0m\n\u001b[0m\u001b[0;32m   1438\u001b[0m                         \u001b[0mblocks\u001b[0m\u001b[1;33m.\u001b[0m\u001b[0mappend\u001b[0m\u001b[1;33m(\u001b[0m\u001b[0mnb\u001b[0m\u001b[1;33m)\u001b[0m\u001b[1;33m\u001b[0m\u001b[1;33m\u001b[0m\u001b[0m\n\u001b[0;32m   1439\u001b[0m \u001b[1;33m\u001b[0m\u001b[0m\n",
      "\u001b[1;32m~\\anaconda3\\envs\\ml\\lib\\site-packages\\pandas\\core\\internals\\blocks.py\u001b[0m in \u001b[0;36mtake_nd\u001b[1;34m(self, indexer, axis, new_mgr_locs, fill_value)\u001b[0m\n\u001b[0;32m   1383\u001b[0m             \u001b[0mallow_fill\u001b[0m \u001b[1;33m=\u001b[0m \u001b[1;32mTrue\u001b[0m\u001b[1;33m\u001b[0m\u001b[1;33m\u001b[0m\u001b[0m\n\u001b[0;32m   1384\u001b[0m \u001b[1;33m\u001b[0m\u001b[0m\n\u001b[1;32m-> 1385\u001b[1;33m         new_values = algos.take_nd(\n\u001b[0m\u001b[0;32m   1386\u001b[0m             \u001b[0mvalues\u001b[0m\u001b[1;33m,\u001b[0m \u001b[0mindexer\u001b[0m\u001b[1;33m,\u001b[0m \u001b[0maxis\u001b[0m\u001b[1;33m=\u001b[0m\u001b[0maxis\u001b[0m\u001b[1;33m,\u001b[0m \u001b[0mallow_fill\u001b[0m\u001b[1;33m=\u001b[0m\u001b[0mallow_fill\u001b[0m\u001b[1;33m,\u001b[0m \u001b[0mfill_value\u001b[0m\u001b[1;33m=\u001b[0m\u001b[0mfill_value\u001b[0m\u001b[1;33m\u001b[0m\u001b[1;33m\u001b[0m\u001b[0m\n\u001b[0;32m   1387\u001b[0m         )\n",
      "\u001b[1;32m~\\anaconda3\\envs\\ml\\lib\\site-packages\\pandas\\core\\algorithms.py\u001b[0m in \u001b[0;36mtake_nd\u001b[1;34m(arr, indexer, axis, out, fill_value, allow_fill)\u001b[0m\n\u001b[0;32m   1750\u001b[0m             \u001b[1;31m# (s.t. df.values is c-contiguous and df._mgr.blocks[0] is its\u001b[0m\u001b[1;33m\u001b[0m\u001b[1;33m\u001b[0m\u001b[1;33m\u001b[0m\u001b[0m\n\u001b[0;32m   1751\u001b[0m             \u001b[1;31m# f-contiguous transpose)\u001b[0m\u001b[1;33m\u001b[0m\u001b[1;33m\u001b[0m\u001b[1;33m\u001b[0m\u001b[0m\n\u001b[1;32m-> 1752\u001b[1;33m             \u001b[0mout\u001b[0m \u001b[1;33m=\u001b[0m \u001b[0mnp\u001b[0m\u001b[1;33m.\u001b[0m\u001b[0mempty\u001b[0m\u001b[1;33m(\u001b[0m\u001b[0mout_shape\u001b[0m\u001b[1;33m,\u001b[0m \u001b[0mdtype\u001b[0m\u001b[1;33m=\u001b[0m\u001b[0mdtype\u001b[0m\u001b[1;33m,\u001b[0m \u001b[0morder\u001b[0m\u001b[1;33m=\u001b[0m\u001b[1;34m\"F\"\u001b[0m\u001b[1;33m)\u001b[0m\u001b[1;33m\u001b[0m\u001b[1;33m\u001b[0m\u001b[0m\n\u001b[0m\u001b[0;32m   1753\u001b[0m         \u001b[1;32melse\u001b[0m\u001b[1;33m:\u001b[0m\u001b[1;33m\u001b[0m\u001b[1;33m\u001b[0m\u001b[0m\n\u001b[0;32m   1754\u001b[0m             \u001b[0mout\u001b[0m \u001b[1;33m=\u001b[0m \u001b[0mnp\u001b[0m\u001b[1;33m.\u001b[0m\u001b[0mempty\u001b[0m\u001b[1;33m(\u001b[0m\u001b[0mout_shape\u001b[0m\u001b[1;33m,\u001b[0m \u001b[0mdtype\u001b[0m\u001b[1;33m=\u001b[0m\u001b[0mdtype\u001b[0m\u001b[1;33m)\u001b[0m\u001b[1;33m\u001b[0m\u001b[1;33m\u001b[0m\u001b[0m\n",
      "\u001b[1;31mMemoryError\u001b[0m: Unable to allocate 454. MiB for an array with shape (59441480, 1) and data type int64"
     ]
    }
   ],
   "source": [
    "volos_turbo"
   ]
  },
  {
   "cell_type": "code",
   "execution_count": 221,
   "id": "8e0ac8b8",
   "metadata": {
    "scrolled": true
   },
   "outputs": [
    {
     "ename": "KeyError",
     "evalue": "\"['date' 'building' 'id' '@id' 'reducer' 'type' 'building:levels'] not found in axis\"",
     "output_type": "error",
     "traceback": [
      "\u001b[1;31m---------------------------------------------------------------------------\u001b[0m",
      "\u001b[1;31mKeyError\u001b[0m                                  Traceback (most recent call last)",
      "\u001b[1;32m~\\AppData\\Local\\Temp/ipykernel_18224/4111549860.py\u001b[0m in \u001b[0;36m<module>\u001b[1;34m\u001b[0m\n\u001b[1;32m----> 1\u001b[1;33m \u001b[0mvolos_turbo\u001b[0m\u001b[1;33m.\u001b[0m\u001b[0mdrop\u001b[0m\u001b[1;33m(\u001b[0m\u001b[1;33m[\u001b[0m\u001b[1;34m'date'\u001b[0m\u001b[1;33m,\u001b[0m\u001b[1;34m'building'\u001b[0m\u001b[1;33m,\u001b[0m\u001b[1;34m'id'\u001b[0m\u001b[1;33m,\u001b[0m\u001b[1;34m'@id'\u001b[0m\u001b[1;33m,\u001b[0m\u001b[1;34m'reducer'\u001b[0m\u001b[1;33m,\u001b[0m\u001b[1;34m'type'\u001b[0m\u001b[1;33m,\u001b[0m\u001b[1;34m'building:levels'\u001b[0m\u001b[1;33m]\u001b[0m\u001b[1;33m)\u001b[0m\u001b[1;33m\u001b[0m\u001b[1;33m\u001b[0m\u001b[0m\n\u001b[0m",
      "\u001b[1;32m~\\anaconda3\\envs\\ml\\lib\\site-packages\\pandas\\core\\frame.py\u001b[0m in \u001b[0;36mdrop\u001b[1;34m(self, labels, axis, index, columns, level, inplace, errors)\u001b[0m\n\u001b[0;32m   4303\u001b[0m                 \u001b[0mweight\u001b[0m  \u001b[1;36m1.0\u001b[0m     \u001b[1;36m0.8\u001b[0m\u001b[1;33m\u001b[0m\u001b[1;33m\u001b[0m\u001b[0m\n\u001b[0;32m   4304\u001b[0m         \"\"\"\n\u001b[1;32m-> 4305\u001b[1;33m         return super().drop(\n\u001b[0m\u001b[0;32m   4306\u001b[0m             \u001b[0mlabels\u001b[0m\u001b[1;33m=\u001b[0m\u001b[0mlabels\u001b[0m\u001b[1;33m,\u001b[0m\u001b[1;33m\u001b[0m\u001b[1;33m\u001b[0m\u001b[0m\n\u001b[0;32m   4307\u001b[0m             \u001b[0maxis\u001b[0m\u001b[1;33m=\u001b[0m\u001b[0maxis\u001b[0m\u001b[1;33m,\u001b[0m\u001b[1;33m\u001b[0m\u001b[1;33m\u001b[0m\u001b[0m\n",
      "\u001b[1;32m~\\anaconda3\\envs\\ml\\lib\\site-packages\\pandas\\core\\generic.py\u001b[0m in \u001b[0;36mdrop\u001b[1;34m(self, labels, axis, index, columns, level, inplace, errors)\u001b[0m\n\u001b[0;32m   4150\u001b[0m         \u001b[1;32mfor\u001b[0m \u001b[0maxis\u001b[0m\u001b[1;33m,\u001b[0m \u001b[0mlabels\u001b[0m \u001b[1;32min\u001b[0m \u001b[0maxes\u001b[0m\u001b[1;33m.\u001b[0m\u001b[0mitems\u001b[0m\u001b[1;33m(\u001b[0m\u001b[1;33m)\u001b[0m\u001b[1;33m:\u001b[0m\u001b[1;33m\u001b[0m\u001b[1;33m\u001b[0m\u001b[0m\n\u001b[0;32m   4151\u001b[0m             \u001b[1;32mif\u001b[0m \u001b[0mlabels\u001b[0m \u001b[1;32mis\u001b[0m \u001b[1;32mnot\u001b[0m \u001b[1;32mNone\u001b[0m\u001b[1;33m:\u001b[0m\u001b[1;33m\u001b[0m\u001b[1;33m\u001b[0m\u001b[0m\n\u001b[1;32m-> 4152\u001b[1;33m                 \u001b[0mobj\u001b[0m \u001b[1;33m=\u001b[0m \u001b[0mobj\u001b[0m\u001b[1;33m.\u001b[0m\u001b[0m_drop_axis\u001b[0m\u001b[1;33m(\u001b[0m\u001b[0mlabels\u001b[0m\u001b[1;33m,\u001b[0m \u001b[0maxis\u001b[0m\u001b[1;33m,\u001b[0m \u001b[0mlevel\u001b[0m\u001b[1;33m=\u001b[0m\u001b[0mlevel\u001b[0m\u001b[1;33m,\u001b[0m \u001b[0merrors\u001b[0m\u001b[1;33m=\u001b[0m\u001b[0merrors\u001b[0m\u001b[1;33m)\u001b[0m\u001b[1;33m\u001b[0m\u001b[1;33m\u001b[0m\u001b[0m\n\u001b[0m\u001b[0;32m   4153\u001b[0m \u001b[1;33m\u001b[0m\u001b[0m\n\u001b[0;32m   4154\u001b[0m         \u001b[1;32mif\u001b[0m \u001b[0minplace\u001b[0m\u001b[1;33m:\u001b[0m\u001b[1;33m\u001b[0m\u001b[1;33m\u001b[0m\u001b[0m\n",
      "\u001b[1;32m~\\anaconda3\\envs\\ml\\lib\\site-packages\\pandas\\core\\generic.py\u001b[0m in \u001b[0;36m_drop_axis\u001b[1;34m(self, labels, axis, level, errors)\u001b[0m\n\u001b[0;32m   4185\u001b[0m                 \u001b[0mnew_axis\u001b[0m \u001b[1;33m=\u001b[0m \u001b[0maxis\u001b[0m\u001b[1;33m.\u001b[0m\u001b[0mdrop\u001b[0m\u001b[1;33m(\u001b[0m\u001b[0mlabels\u001b[0m\u001b[1;33m,\u001b[0m \u001b[0mlevel\u001b[0m\u001b[1;33m=\u001b[0m\u001b[0mlevel\u001b[0m\u001b[1;33m,\u001b[0m \u001b[0merrors\u001b[0m\u001b[1;33m=\u001b[0m\u001b[0merrors\u001b[0m\u001b[1;33m)\u001b[0m\u001b[1;33m\u001b[0m\u001b[1;33m\u001b[0m\u001b[0m\n\u001b[0;32m   4186\u001b[0m             \u001b[1;32melse\u001b[0m\u001b[1;33m:\u001b[0m\u001b[1;33m\u001b[0m\u001b[1;33m\u001b[0m\u001b[0m\n\u001b[1;32m-> 4187\u001b[1;33m                 \u001b[0mnew_axis\u001b[0m \u001b[1;33m=\u001b[0m \u001b[0maxis\u001b[0m\u001b[1;33m.\u001b[0m\u001b[0mdrop\u001b[0m\u001b[1;33m(\u001b[0m\u001b[0mlabels\u001b[0m\u001b[1;33m,\u001b[0m \u001b[0merrors\u001b[0m\u001b[1;33m=\u001b[0m\u001b[0merrors\u001b[0m\u001b[1;33m)\u001b[0m\u001b[1;33m\u001b[0m\u001b[1;33m\u001b[0m\u001b[0m\n\u001b[0m\u001b[0;32m   4188\u001b[0m             \u001b[0mresult\u001b[0m \u001b[1;33m=\u001b[0m \u001b[0mself\u001b[0m\u001b[1;33m.\u001b[0m\u001b[0mreindex\u001b[0m\u001b[1;33m(\u001b[0m\u001b[1;33m**\u001b[0m\u001b[1;33m{\u001b[0m\u001b[0maxis_name\u001b[0m\u001b[1;33m:\u001b[0m \u001b[0mnew_axis\u001b[0m\u001b[1;33m}\u001b[0m\u001b[1;33m)\u001b[0m\u001b[1;33m\u001b[0m\u001b[1;33m\u001b[0m\u001b[0m\n\u001b[0;32m   4189\u001b[0m \u001b[1;33m\u001b[0m\u001b[0m\n",
      "\u001b[1;32m~\\anaconda3\\envs\\ml\\lib\\site-packages\\pandas\\core\\indexes\\base.py\u001b[0m in \u001b[0;36mdrop\u001b[1;34m(self, labels, errors)\u001b[0m\n\u001b[0;32m   5589\u001b[0m         \u001b[1;32mif\u001b[0m \u001b[0mmask\u001b[0m\u001b[1;33m.\u001b[0m\u001b[0many\u001b[0m\u001b[1;33m(\u001b[0m\u001b[1;33m)\u001b[0m\u001b[1;33m:\u001b[0m\u001b[1;33m\u001b[0m\u001b[1;33m\u001b[0m\u001b[0m\n\u001b[0;32m   5590\u001b[0m             \u001b[1;32mif\u001b[0m \u001b[0merrors\u001b[0m \u001b[1;33m!=\u001b[0m \u001b[1;34m\"ignore\"\u001b[0m\u001b[1;33m:\u001b[0m\u001b[1;33m\u001b[0m\u001b[1;33m\u001b[0m\u001b[0m\n\u001b[1;32m-> 5591\u001b[1;33m                 \u001b[1;32mraise\u001b[0m \u001b[0mKeyError\u001b[0m\u001b[1;33m(\u001b[0m\u001b[1;34mf\"{labels[mask]} not found in axis\"\u001b[0m\u001b[1;33m)\u001b[0m\u001b[1;33m\u001b[0m\u001b[1;33m\u001b[0m\u001b[0m\n\u001b[0m\u001b[0;32m   5592\u001b[0m             \u001b[0mindexer\u001b[0m \u001b[1;33m=\u001b[0m \u001b[0mindexer\u001b[0m\u001b[1;33m[\u001b[0m\u001b[1;33m~\u001b[0m\u001b[0mmask\u001b[0m\u001b[1;33m]\u001b[0m\u001b[1;33m\u001b[0m\u001b[1;33m\u001b[0m\u001b[0m\n\u001b[0;32m   5593\u001b[0m         \u001b[1;32mreturn\u001b[0m \u001b[0mself\u001b[0m\u001b[1;33m.\u001b[0m\u001b[0mdelete\u001b[0m\u001b[1;33m(\u001b[0m\u001b[0mindexer\u001b[0m\u001b[1;33m)\u001b[0m\u001b[1;33m\u001b[0m\u001b[1;33m\u001b[0m\u001b[0m\n",
      "\u001b[1;31mKeyError\u001b[0m: \"['date' 'building' 'id' '@id' 'reducer' 'type' 'building:levels'] not found in axis\""
     ]
    }
   ],
   "source": [
    "volos_turbo.drop(['date','building','id','@id','reducer','type','building:levels'])"
   ]
  },
  {
   "cell_type": "code",
   "execution_count": 243,
   "id": "34448458",
   "metadata": {},
   "outputs": [],
   "source": [
    "volos=volos.reset_index().drop('index',axis=1)"
   ]
  },
  {
   "cell_type": "code",
   "execution_count": 244,
   "id": "80afa3f5",
   "metadata": {},
   "outputs": [
    {
     "data": {
      "text/plain": [
       "Index(['Unnamed: 0', 'date_x', 'VgNIRBI', 'building:levels_x', 'PISI',\n",
       "       'type_x', 'NDVI', 'building_x', 'EMBI', 'VrNIRBI', 'IBI', 'NDBI', 'id',\n",
       "       '@id', 'reducer_x', 'month', 'year', 'date_y', 'avg_rad',\n",
       "       'building:levels_y', 'reducer_y', 'type_y', 'building_y', 'amenity_x',\n",
       "       'amenity_y', 'label'],\n",
       "      dtype='object')"
      ]
     },
     "execution_count": 244,
     "metadata": {},
     "output_type": "execute_result"
    }
   ],
   "source": [
    "volos.columns"
   ]
  },
  {
   "cell_type": "code",
   "execution_count": 247,
   "id": "aff8c81f",
   "metadata": {},
   "outputs": [],
   "source": [
    "volos_dropped=volos.drop(['Unnamed: 0', 'date_x','building:levels_x','type_x','building_x','id',\n",
    "       '@id', 'reducer_x', 'month', 'year', 'date_y','building:levels_y', 'reducer_y', 'type_y', 'building_y', 'amenity_x',\n",
    "       'amenity_y', 'label'],axis=1)"
   ]
  },
  {
   "cell_type": "code",
   "execution_count": 252,
   "id": "2dd15521",
   "metadata": {},
   "outputs": [],
   "source": [
    "volos_dropped['avg_rad']=volos_dropped['avg_rad'].fillna(volos_dropped['avg_rad'].mean())"
   ]
  },
  {
   "cell_type": "code",
   "execution_count": 257,
   "id": "d13aadb3",
   "metadata": {},
   "outputs": [
    {
     "data": {
      "text/plain": [
       "84459"
      ]
     },
     "execution_count": 257,
     "metadata": {},
     "output_type": "execute_result"
    }
   ],
   "source": [
    "len(volos_dropped)"
   ]
  },
  {
   "cell_type": "code",
   "execution_count": 281,
   "id": "25400eba",
   "metadata": {},
   "outputs": [
    {
     "data": {
      "text/plain": [
       "-0.25305596293582333"
      ]
     },
     "execution_count": 281,
     "metadata": {},
     "output_type": "execute_result"
    }
   ],
   "source": [
    "volos_dropped['VgNIRBI'].mean()"
   ]
  },
  {
   "cell_type": "code",
   "execution_count": 286,
   "id": "3f4fcbe0",
   "metadata": {},
   "outputs": [],
   "source": [
    "#volos_dropped_1_row=pd.DataFrame(columns=volos_dropped.columns)\n",
    "volos_dropped_1_row['VgNIRBI']=volos_dropped['VgNIRBI']\n",
    "volos_dropped_1_row['PISI']=volos_dropped['PISI'].mean()\n",
    "volos_dropped_1_row['NDVI']=volos_dropped['NDVI'].mean()\n",
    "volos_dropped_1_row['VrNIRBI']=volos_dropped['VrNIRBI'].mean()\n",
    "volos_dropped_1_row['EMBI']=volos_dropped['EMBI'].mean()\n",
    "volos_dropped_1_row['IBI']=volos_dropped['IBI'].mean()\n",
    "volos_dropped_1_row['avg_rad']=volos_dropped['avg_rad'].mean()\n",
    "volos_dropped_1_row['NDBI']=volos_dropped['NDBI'].mean()\n"
   ]
  },
  {
   "cell_type": "code",
   "execution_count": 291,
   "id": "fef8da99",
   "metadata": {},
   "outputs": [
    {
     "data": {
      "text/html": [
       "<div>\n",
       "<style scoped>\n",
       "    .dataframe tbody tr th:only-of-type {\n",
       "        vertical-align: middle;\n",
       "    }\n",
       "\n",
       "    .dataframe tbody tr th {\n",
       "        vertical-align: top;\n",
       "    }\n",
       "\n",
       "    .dataframe thead th {\n",
       "        text-align: right;\n",
       "    }\n",
       "</style>\n",
       "<table border=\"1\" class=\"dataframe\">\n",
       "  <thead>\n",
       "    <tr style=\"text-align: right;\">\n",
       "      <th></th>\n",
       "      <th>VgNIRBI</th>\n",
       "      <th>PISI</th>\n",
       "      <th>NDVI</th>\n",
       "      <th>EMBI</th>\n",
       "      <th>VrNIRBI</th>\n",
       "      <th>IBI</th>\n",
       "      <th>NDBI</th>\n",
       "      <th>avg_rad</th>\n",
       "    </tr>\n",
       "  </thead>\n",
       "  <tbody>\n",
       "    <tr>\n",
       "      <th>0</th>\n",
       "      <td>-0.253056</td>\n",
       "      <td>0.037459</td>\n",
       "      <td>0.181231</td>\n",
       "      <td>-0.001584</td>\n",
       "      <td>-0.181231</td>\n",
       "      <td>-1.857394</td>\n",
       "      <td>0.018011</td>\n",
       "      <td>50.612454</td>\n",
       "    </tr>\n",
       "  </tbody>\n",
       "</table>\n",
       "</div>"
      ],
      "text/plain": [
       "    VgNIRBI      PISI      NDVI      EMBI   VrNIRBI       IBI      NDBI  \\\n",
       "0 -0.253056  0.037459  0.181231 -0.001584 -0.181231 -1.857394  0.018011   \n",
       "\n",
       "     avg_rad  \n",
       "0  50.612454  "
      ]
     },
     "execution_count": 291,
     "metadata": {},
     "output_type": "execute_result"
    }
   ],
   "source": [
    "\n",
    "volos_dropped_1_row=volos_dropped_1_row[:1]\n",
    "volos_dropped_1_row"
   ]
  },
  {
   "cell_type": "code",
   "execution_count": 325,
   "id": "e9e2166c",
   "metadata": {
    "scrolled": false
   },
   "outputs": [
    {
     "data": {
      "text/plain": [
       "VgNIRBI       0\n",
       "PISI          0\n",
       "NDVI          0\n",
       "EMBI          0\n",
       "VrNIRBI       0\n",
       "IBI           0\n",
       "NDBI          0\n",
       "cf_cvg     1686\n",
       "avg_rad       0\n",
       "label         0\n",
       "dtype: int64"
      ]
     },
     "execution_count": 325,
     "metadata": {},
     "output_type": "execute_result"
    }
   ],
   "source": [
    "volos_turbo_final.isnull().sum()"
   ]
  },
  {
   "cell_type": "code",
   "execution_count": 323,
   "id": "db2df298",
   "metadata": {},
   "outputs": [
    {
     "data": {
      "text/plain": [
       "2"
      ]
     },
     "execution_count": 323,
     "metadata": {},
     "output_type": "execute_result"
    }
   ],
   "source": [
    "volos_turbo_final['label'].nunique()"
   ]
  },
  {
   "cell_type": "code",
   "execution_count": null,
   "id": "a85883e3",
   "metadata": {},
   "outputs": [],
   "source": [
    "trainX"
   ]
  },
  {
   "cell_type": "code",
   "execution_count": 551,
   "id": "d92051a0",
   "metadata": {
    "scrolled": false
   },
   "outputs": [
    {
     "data": {
      "text/plain": [
       "array([127.87101897, 127.69899763, 127.9279858 , ..., 108.39606061,\n",
       "       108.27639296, 124.3991431 ])"
      ]
     },
     "execution_count": 551,
     "metadata": {},
     "output_type": "execute_result"
    }
   ],
   "source": [
    "from sklearn.svm import OneClassSVM\n",
    "one_class_svm = OneClassSVM(nu=0.5, kernel=\"rbf\",gamma='auto')\n",
    "trainX = volos_turbo_final[volos_turbo_final['label']==0].drop(['cf_cvg','label','IBI','VgNIRBI',\n",
    "                                                             'VrNIRBI', 'NDBI','NDVI' ],axis=1)\n",
    "one_class_svm.fit(trainX)\n",
    "#yhat = model.predict(volos_turbo_viirs.drop(['date','building','id','@id','reducer','type','building:levels'],axis=1))\n",
    "one_class_svm.score_samples(trainX)\n"
   ]
  },
  {
   "cell_type": "code",
   "execution_count": 552,
   "id": "6b8943a0",
   "metadata": {
    "scrolled": false
   },
   "outputs": [
    {
     "data": {
      "text/plain": [
       "array([-1, -1, -1, -1, -1, -1, -1, -1, -1, -1,  1, -1, -1, -1, -1, -1, -1,\n",
       "       -1, -1, -1, -1, -1, -1, -1,  1,  1,  1,  1,  1,  1, -1,  1, -1, -1,\n",
       "       -1, -1, -1, -1, -1, -1, -1, -1, -1, -1, -1, -1, -1, -1, -1, -1, -1,\n",
       "       -1, -1, -1,  1, -1, -1, -1, -1, -1, -1, -1, -1, -1, -1, -1, -1, -1,\n",
       "        1,  1,  1,  1, -1, -1, -1, -1, -1, -1, -1, -1, -1, -1, -1, -1,  1,\n",
       "        1,  1,  1, -1, -1, -1, -1, -1, -1, -1, -1, -1, -1, -1, -1,  1,  1,\n",
       "        1,  1, -1, -1, -1, -1, -1, -1, -1, -1, -1, -1, -1, -1, -1, -1,  1,\n",
       "       -1, -1, -1, -1, -1, -1, -1, -1, -1, -1, -1,  1, -1, -1, -1,  1, -1,\n",
       "       -1, -1,  1, -1, -1, -1,  1, -1, -1, -1, -1, -1, -1, -1,  1, -1, -1,\n",
       "       -1,  1, -1, -1, -1, -1, -1, -1, -1, -1, -1, -1, -1,  1, -1, -1, -1,\n",
       "       -1, -1, -1, -1, -1, -1,  1,  1,  1,  1, -1, -1, -1, -1, -1, -1, -1,\n",
       "       -1,  1,  1, -1,  1,  1,  1,  1,  1, -1, -1,  1, -1, -1, -1,  1, -1,\n",
       "        1,  1,  1,  1,  1,  1,  1,  1, -1, -1,  1, -1,  1,  1,  1,  1,  1,\n",
       "        1,  1,  1, -1, -1,  1, -1, -1, -1, -1, -1, -1, -1,  1, -1, -1, -1,\n",
       "        1, -1,  1,  1,  1,  1,  1,  1,  1,  1,  1,  1,  1,  1,  1,  1,  1,\n",
       "        1,  1,  1,  1,  1,  1,  1,  1,  1,  1,  1, -1,  1,  1,  1, -1,  1],\n",
       "      dtype=int64)"
      ]
     },
     "execution_count": 552,
     "metadata": {},
     "output_type": "execute_result"
    }
   ],
   "source": [
    "yhat = one_class_svm.predict(volos_turbo_final[volos_turbo_final['label']==1].drop(['cf_cvg','label','IBI','VgNIRBI',\n",
    "                                                             'VrNIRBI', 'NDBI','NDVI'],axis=1))\n",
    "yhat"
   ]
  },
  {
   "cell_type": "code",
   "execution_count": 550,
   "id": "cc080e9a",
   "metadata": {
    "scrolled": true
   },
   "outputs": [
    {
     "data": {
      "text/plain": [
       "['one_class_svm_5.pkl']"
      ]
     },
     "execution_count": 550,
     "metadata": {},
     "output_type": "execute_result"
    }
   ],
   "source": [
    "import joblib\n",
    "joblib.dump(one_class_svm, 'one_class_svm_5.pkl')"
   ]
  },
  {
   "cell_type": "code",
   "execution_count": 553,
   "id": "80a8038a",
   "metadata": {},
   "outputs": [
    {
     "data": {
      "text/plain": [
       "180"
      ]
     },
     "execution_count": 553,
     "metadata": {},
     "output_type": "execute_result"
    }
   ],
   "source": [
    "len(yhat[yhat==-1])#PISI,VgNIRBI"
   ]
  },
  {
   "cell_type": "code",
   "execution_count": 544,
   "id": "6d7c3062",
   "metadata": {},
   "outputs": [
    {
     "data": {
      "text/plain": [
       "176"
      ]
     },
     "execution_count": 544,
     "metadata": {},
     "output_type": "execute_result"
    }
   ],
   "source": [
    "len(yhat[yhat==-1])#EMBI,VgNIRBI"
   ]
  },
  {
   "cell_type": "code",
   "execution_count": 531,
   "id": "c2380c20",
   "metadata": {},
   "outputs": [
    {
     "data": {
      "text/plain": [
       "176"
      ]
     },
     "execution_count": 531,
     "metadata": {},
     "output_type": "execute_result"
    }
   ],
   "source": [
    "len(yhat[yhat==-1])#EMBI,VgNIRBI"
   ]
  },
  {
   "cell_type": "code",
   "execution_count": 539,
   "id": "3e0046ca",
   "metadata": {},
   "outputs": [
    {
     "data": {
      "text/plain": [
       "181"
      ]
     },
     "execution_count": 539,
     "metadata": {},
     "output_type": "execute_result"
    }
   ],
   "source": [
    "len(yhat[yhat==-1])#EMBI,AVG_RAD"
   ]
  },
  {
   "cell_type": "code",
   "execution_count": 524,
   "id": "fa861971",
   "metadata": {},
   "outputs": [
    {
     "data": {
      "text/plain": [
       "142"
      ]
     },
     "execution_count": 524,
     "metadata": {},
     "output_type": "execute_result"
    }
   ],
   "source": [
    "len(yhat[yhat==1])#PISI,AVG_RAD"
   ]
  },
  {
   "cell_type": "code",
   "execution_count": 506,
   "id": "5222f0cc",
   "metadata": {},
   "outputs": [
    {
     "data": {
      "text/plain": [
       "array([-1., -1., -1., ..., -1., -1., -1.])"
      ]
     },
     "execution_count": 506,
     "metadata": {},
     "output_type": "execute_result"
    }
   ],
   "source": [
    "import numpy as np\n",
    "from sklearn.neighbors import LocalOutlierFactor\n",
    "X = trainX\n",
    "clf = LocalOutlierFactor(n_neighbors=40,metric='correlation',novelty=True)\n",
    "clf.fit(X)\n",
    "\n",
    "clf.negative_outlier_factor_\n"
   ]
  },
  {
   "cell_type": "code",
   "execution_count": 507,
   "id": "b5522509",
   "metadata": {},
   "outputs": [],
   "source": [
    "yhat = clf.predict(volos_turbo_final[volos_turbo_final['label']==1].drop(['cf_cvg','label','IBI','VgNIRBI',\n",
    "                                                             'VrNIRBI','EMBI', 'NDBI','NDVI'],axis=1))"
   ]
  },
  {
   "cell_type": "code",
   "execution_count": 509,
   "id": "77d25347",
   "metadata": {},
   "outputs": [
    {
     "data": {
      "text/plain": [
       "272"
      ]
     },
     "execution_count": 509,
     "metadata": {},
     "output_type": "execute_result"
    }
   ],
   "source": [
    "len(yhat[yhat==1])"
   ]
  },
  {
   "cell_type": "code",
   "execution_count": 365,
   "id": "66f1d03d",
   "metadata": {},
   "outputs": [
    {
     "ename": "ValueError",
     "evalue": "X.shape[1] = 2 should be equal to 3, the number of features at training time",
     "output_type": "error",
     "traceback": [
      "\u001b[1;31m---------------------------------------------------------------------------\u001b[0m",
      "\u001b[1;31mValueError\u001b[0m                                Traceback (most recent call last)",
      "\u001b[1;32m~\\AppData\\Local\\Temp/ipykernel_10812/2174536881.py\u001b[0m in \u001b[0;36m<module>\u001b[1;34m\u001b[0m\n\u001b[0;32m     27\u001b[0m \u001b[1;33m\u001b[0m\u001b[0m\n\u001b[0;32m     28\u001b[0m \u001b[1;31m# plot the line, the points, and the nearest vectors to the plane\u001b[0m\u001b[1;33m\u001b[0m\u001b[1;33m\u001b[0m\u001b[1;33m\u001b[0m\u001b[0m\n\u001b[1;32m---> 29\u001b[1;33m \u001b[0mZ\u001b[0m \u001b[1;33m=\u001b[0m \u001b[0mclf\u001b[0m\u001b[1;33m.\u001b[0m\u001b[0mdecision_function\u001b[0m\u001b[1;33m(\u001b[0m\u001b[0mnp\u001b[0m\u001b[1;33m.\u001b[0m\u001b[0mc_\u001b[0m\u001b[1;33m[\u001b[0m\u001b[0mxx\u001b[0m\u001b[1;33m.\u001b[0m\u001b[0mravel\u001b[0m\u001b[1;33m(\u001b[0m\u001b[1;33m)\u001b[0m\u001b[1;33m,\u001b[0m \u001b[0myy\u001b[0m\u001b[1;33m.\u001b[0m\u001b[0mravel\u001b[0m\u001b[1;33m(\u001b[0m\u001b[1;33m)\u001b[0m\u001b[1;33m]\u001b[0m\u001b[1;33m)\u001b[0m\u001b[1;33m\u001b[0m\u001b[1;33m\u001b[0m\u001b[0m\n\u001b[0m\u001b[0;32m     30\u001b[0m \u001b[0mZ\u001b[0m \u001b[1;33m=\u001b[0m \u001b[0mZ\u001b[0m\u001b[1;33m.\u001b[0m\u001b[0mreshape\u001b[0m\u001b[1;33m(\u001b[0m\u001b[0mxx\u001b[0m\u001b[1;33m.\u001b[0m\u001b[0mshape\u001b[0m\u001b[1;33m)\u001b[0m\u001b[1;33m\u001b[0m\u001b[1;33m\u001b[0m\u001b[0m\n\u001b[0;32m     31\u001b[0m \u001b[1;33m\u001b[0m\u001b[0m\n",
      "\u001b[1;32m~\\AppData\\Roaming\\Python\\Python39\\site-packages\\sklearn\\svm\\_classes.py\u001b[0m in \u001b[0;36mdecision_function\u001b[1;34m(self, X)\u001b[0m\n\u001b[0;32m   1394\u001b[0m             \u001b[0mReturns\u001b[0m \u001b[0mthe\u001b[0m \u001b[0mdecision\u001b[0m \u001b[0mfunction\u001b[0m \u001b[0mof\u001b[0m \u001b[0mthe\u001b[0m \u001b[0msamples\u001b[0m\u001b[1;33m.\u001b[0m\u001b[1;33m\u001b[0m\u001b[1;33m\u001b[0m\u001b[0m\n\u001b[0;32m   1395\u001b[0m         \"\"\"\n\u001b[1;32m-> 1396\u001b[1;33m         \u001b[0mdec\u001b[0m \u001b[1;33m=\u001b[0m \u001b[0mself\u001b[0m\u001b[1;33m.\u001b[0m\u001b[0m_decision_function\u001b[0m\u001b[1;33m(\u001b[0m\u001b[0mX\u001b[0m\u001b[1;33m)\u001b[0m\u001b[1;33m.\u001b[0m\u001b[0mravel\u001b[0m\u001b[1;33m(\u001b[0m\u001b[1;33m)\u001b[0m\u001b[1;33m\u001b[0m\u001b[1;33m\u001b[0m\u001b[0m\n\u001b[0m\u001b[0;32m   1397\u001b[0m         \u001b[1;32mreturn\u001b[0m \u001b[0mdec\u001b[0m\u001b[1;33m\u001b[0m\u001b[1;33m\u001b[0m\u001b[0m\n\u001b[0;32m   1398\u001b[0m \u001b[1;33m\u001b[0m\u001b[0m\n",
      "\u001b[1;32m~\\AppData\\Roaming\\Python\\Python39\\site-packages\\sklearn\\svm\\_base.py\u001b[0m in \u001b[0;36m_decision_function\u001b[1;34m(self, X)\u001b[0m\n\u001b[0;32m    415\u001b[0m         \u001b[1;31m# NOTE: _validate_for_predict contains check for is_fitted\u001b[0m\u001b[1;33m\u001b[0m\u001b[1;33m\u001b[0m\u001b[1;33m\u001b[0m\u001b[0m\n\u001b[0;32m    416\u001b[0m         \u001b[1;31m# hence must be placed before any other attributes are used.\u001b[0m\u001b[1;33m\u001b[0m\u001b[1;33m\u001b[0m\u001b[1;33m\u001b[0m\u001b[0m\n\u001b[1;32m--> 417\u001b[1;33m         \u001b[0mX\u001b[0m \u001b[1;33m=\u001b[0m \u001b[0mself\u001b[0m\u001b[1;33m.\u001b[0m\u001b[0m_validate_for_predict\u001b[0m\u001b[1;33m(\u001b[0m\u001b[0mX\u001b[0m\u001b[1;33m)\u001b[0m\u001b[1;33m\u001b[0m\u001b[1;33m\u001b[0m\u001b[0m\n\u001b[0m\u001b[0;32m    418\u001b[0m         \u001b[0mX\u001b[0m \u001b[1;33m=\u001b[0m \u001b[0mself\u001b[0m\u001b[1;33m.\u001b[0m\u001b[0m_compute_kernel\u001b[0m\u001b[1;33m(\u001b[0m\u001b[0mX\u001b[0m\u001b[1;33m)\u001b[0m\u001b[1;33m\u001b[0m\u001b[1;33m\u001b[0m\u001b[0m\n\u001b[0;32m    419\u001b[0m \u001b[1;33m\u001b[0m\u001b[0m\n",
      "\u001b[1;32m~\\AppData\\Roaming\\Python\\Python39\\site-packages\\sklearn\\svm\\_base.py\u001b[0m in \u001b[0;36m_validate_for_predict\u001b[1;34m(self, X)\u001b[0m\n\u001b[0;32m    491\u001b[0m                                  (X.shape[1], self.shape_fit_[0]))\n\u001b[0;32m    492\u001b[0m         \u001b[1;32melif\u001b[0m \u001b[1;32mnot\u001b[0m \u001b[0mcallable\u001b[0m\u001b[1;33m(\u001b[0m\u001b[0mself\u001b[0m\u001b[1;33m.\u001b[0m\u001b[0mkernel\u001b[0m\u001b[1;33m)\u001b[0m \u001b[1;32mand\u001b[0m \u001b[0mX\u001b[0m\u001b[1;33m.\u001b[0m\u001b[0mshape\u001b[0m\u001b[1;33m[\u001b[0m\u001b[1;36m1\u001b[0m\u001b[1;33m]\u001b[0m \u001b[1;33m!=\u001b[0m \u001b[0mself\u001b[0m\u001b[1;33m.\u001b[0m\u001b[0mshape_fit_\u001b[0m\u001b[1;33m[\u001b[0m\u001b[1;36m1\u001b[0m\u001b[1;33m]\u001b[0m\u001b[1;33m:\u001b[0m\u001b[1;33m\u001b[0m\u001b[1;33m\u001b[0m\u001b[0m\n\u001b[1;32m--> 493\u001b[1;33m             raise ValueError(\"X.shape[1] = %d should be equal to %d, \"\n\u001b[0m\u001b[0;32m    494\u001b[0m                              \u001b[1;34m\"the number of features at training time\"\u001b[0m \u001b[1;33m%\u001b[0m\u001b[1;33m\u001b[0m\u001b[1;33m\u001b[0m\u001b[0m\n\u001b[0;32m    495\u001b[0m                              (X.shape[1], self.shape_fit_[1]))\n",
      "\u001b[1;31mValueError\u001b[0m: X.shape[1] = 2 should be equal to 3, the number of features at training time"
     ]
    }
   ],
   "source": [
    "import numpy as np\n",
    "import matplotlib.pyplot as plt\n",
    "import matplotlib.font_manager\n",
    "from sklearn import svm\n",
    "\n",
    "xx, yy = np.meshgrid(np.linspace(-5, 5, 500), np.linspace(-5, 5, 500))\n",
    "# Generate train data\n",
    "#X = 0.3 * np.random.randn(100, 2)\n",
    "X_train =  volos_turbo_final[volos_turbo_final['label']==0].drop(['cf_cvg','label','IBI','VgNIRBI',\n",
    "                                                             'VrNIRBI','EMBI', 'PISI' ],axis=1)\n",
    "# Generate some regular novel observations\n",
    "#X = 0.3 * np.random.randn(20, 2)\n",
    "X_test = volos_turbo_final[volos_turbo_final['label']==1].drop(['cf_cvg','label','IBI','VgNIRBI',\n",
    "                                                             'VrNIRBI','EMBI', 'PISI' ],axis=1)\n",
    "# Generate some abnormal novel observations\n",
    "#X_outliers = np.random.uniform(low=-4, high=4, size=(20, 2))\n",
    "\n",
    "# fit the model\n",
    "clf = svm.OneClassSVM(nu=0.1, kernel=\"rbf\", gamma=0.1)\n",
    "clf.fit(X_train)\n",
    "y_pred_train = clf.predict(X_train)\n",
    "y_pred_test = clf.predict(X_test)\n",
    "#y_pred_outliers = clf.predict(X_outliers)\n",
    "n_error_train = y_pred_train[y_pred_train == -1].size\n",
    "n_error_test = y_pred_test[y_pred_test == -1].size\n",
    "#n_error_outliers = y_pred_outliers[y_pred_outliers == 1].size\n",
    "\n",
    "# plot the line, the points, and the nearest vectors to the plane\n",
    "Z = clf.decision_function(np.c_[xx.ravel(), yy.ravel()])\n",
    "Z = Z.reshape(xx.shape)\n",
    "\n",
    "plt.title(\"Novelty Detection\")\n",
    "plt.contourf(xx, yy, Z, levels=np.linspace(Z.min(), 0, 7), cmap=plt.cm.PuBu)\n",
    "a = plt.contour(xx, yy, Z, levels=[0], linewidths=2, colors=\"darkred\")\n",
    "plt.contourf(xx, yy, Z, levels=[0, Z.max()], colors=\"palevioletred\")\n",
    "\n",
    "s = 40\n",
    "b1 = plt.scatter(X_train[:, 0], X_train[:, 1], c=\"white\", s=s, edgecolors=\"k\")\n",
    "b2 = plt.scatter(X_test[:, 0], X_test[:, 1], c=\"blueviolet\", s=s, edgecolors=\"k\")\n",
    "c = plt.scatter(X_outliers[:, 0], X_outliers[:, 1], c=\"gold\", s=s, edgecolors=\"k\")\n",
    "plt.axis(\"tight\")\n",
    "plt.xlim((-5, 5))\n",
    "plt.ylim((-5, 5))\n",
    "plt.legend(\n",
    "    [a.collections[0], b1, b2, c],\n",
    "    [\n",
    "        \"learned frontier\",\n",
    "        \"training observations\",\n",
    "        \"new regular observations\",\n",
    "        \"new abnormal observations\",\n",
    "    ],\n",
    "    loc=\"upper left\",\n",
    "    prop=matplotlib.font_manager.FontProperties(size=11),\n",
    ")\n",
    "plt.xlabel(\n",
    "    \"error train: %d/200 ; errors novel regular: %d/40 ; errors novel abnormal: %d/40\"\n",
    "    % (n_error_train, n_error_test, n_error_outliers)\n",
    ")\n",
    "plt.show()"
   ]
  },
  {
   "cell_type": "code",
   "execution_count": 360,
   "id": "9fe06549",
   "metadata": {},
   "outputs": [
    {
     "data": {
      "text/plain": [
       "60"
      ]
     },
     "execution_count": 360,
     "metadata": {},
     "output_type": "execute_result"
    }
   ],
   "source": [
    "len(yhat[yhat==-1])"
   ]
  },
  {
   "cell_type": "code",
   "execution_count": 351,
   "id": "e872ae5e",
   "metadata": {},
   "outputs": [
    {
     "data": {
      "text/plain": [
       "['one_class_svm_2.pkl']"
      ]
     },
     "execution_count": 351,
     "metadata": {},
     "output_type": "execute_result"
    }
   ],
   "source": [
    "import joblib\n",
    "joblib.dump(one_class_svm, 'one_class_svm_2.pkl')"
   ]
  },
  {
   "cell_type": "code",
   "execution_count": 354,
   "id": "7c790e31",
   "metadata": {},
   "outputs": [
    {
     "data": {
      "text/plain": [
       "array([1, 1, 1, 1, 1, 1, 1, 1, 1, 1, 1, 1, 1, 1, 1, 1, 1, 1, 1, 1, 1, 1,\n",
       "       1, 1, 1, 1, 1, 1, 1, 1, 1, 1, 1, 1, 1, 1, 1, 1, 1, 1, 1, 1, 1, 1,\n",
       "       1, 1, 1, 1, 1, 1, 1, 1, 1, 1, 1, 1, 1, 1, 1, 1, 1, 1, 1, 1, 1, 1,\n",
       "       1, 1, 1, 1, 1, 1, 1, 1, 1, 1, 1, 1, 1, 1, 1, 1, 1, 1, 1, 1, 1, 1,\n",
       "       1, 1, 1, 1, 1, 1, 1, 1, 1, 1, 1, 1, 1, 1, 1, 1, 1, 1, 1, 1, 1, 1,\n",
       "       1, 1, 1, 1, 1, 1, 1, 1, 1, 1, 1, 1, 1, 1, 1, 1, 1, 1, 1, 1, 1, 1,\n",
       "       1, 1, 1, 1, 1, 1, 1, 1, 1, 1, 1, 1, 1, 1, 1, 1, 1, 1, 1, 1, 1, 1,\n",
       "       1, 1, 1, 1, 1, 1, 1, 1, 1, 1, 1, 1, 1, 1, 1, 1, 1, 1, 1, 1, 1, 1,\n",
       "       1, 1, 1, 1, 1, 1, 1, 1, 1, 1, 1, 1, 1, 1, 1, 1, 1, 1, 1, 1, 1, 1,\n",
       "       1, 1, 1, 1, 1, 1, 1, 1, 1, 1, 1, 1, 1, 1, 1, 1, 1, 1, 1, 1, 1, 1,\n",
       "       1, 1, 1, 1, 1, 1, 1, 1, 1, 1, 1, 1, 1, 1, 1, 1, 1, 1, 1, 1, 1, 1,\n",
       "       1, 1, 1, 1, 1, 1, 1, 1, 1, 1, 1, 1, 1, 1, 1, 1, 1, 1, 1, 1, 1, 1,\n",
       "       1, 1, 1, 1, 1, 1, 1, 1])"
      ]
     },
     "execution_count": 354,
     "metadata": {},
     "output_type": "execute_result"
    }
   ],
   "source": [
    "from sklearn.ensemble import IsolationForest\n",
    "X = volos_turbo_final[volos_turbo_final['label']==0].drop(['cf_cvg','label','IBI','VgNIRBI','VrNIRBI','EMBI', 'PISI' ],axis=1)\n",
    "clf = IsolationForest(random_state=5).fit(X)\n",
    "clf.predict(volos_turbo_final[volos_turbo_final['label']==1].drop(['cf_cvg','label','IBI','VgNIRBI',\n",
    "                                                             'VrNIRBI','EMBI', 'PISI' ],axis=1))\n"
   ]
  },
  {
   "cell_type": "code",
   "execution_count": 338,
   "id": "bf49fda5",
   "metadata": {},
   "outputs": [
    {
     "data": {
      "text/plain": [
       "IsolationForest(random_state=0)"
      ]
     },
     "execution_count": 338,
     "metadata": {},
     "output_type": "execute_result"
    }
   ],
   "source": [
    "clf"
   ]
  },
  {
   "cell_type": "code",
   "execution_count": 314,
   "id": "cf0ee7b2",
   "metadata": {},
   "outputs": [],
   "source": [
    "X=volos_turbo_final.drop(['label','cf_cvg'],axis=1)\n",
    "y=volos_turbo_final['label']"
   ]
  },
  {
   "cell_type": "code",
   "execution_count": 315,
   "id": "a5c14509",
   "metadata": {
    "scrolled": true
   },
   "outputs": [
    {
     "data": {
      "text/html": [
       "<div>\n",
       "<style scoped>\n",
       "    .dataframe tbody tr th:only-of-type {\n",
       "        vertical-align: middle;\n",
       "    }\n",
       "\n",
       "    .dataframe tbody tr th {\n",
       "        vertical-align: top;\n",
       "    }\n",
       "\n",
       "    .dataframe thead th {\n",
       "        text-align: right;\n",
       "    }\n",
       "</style>\n",
       "<table border=\"1\" class=\"dataframe\">\n",
       "  <thead>\n",
       "    <tr style=\"text-align: right;\">\n",
       "      <th></th>\n",
       "      <th>VgNIRBI</th>\n",
       "      <th>PISI</th>\n",
       "      <th>NDVI</th>\n",
       "      <th>EMBI</th>\n",
       "      <th>VrNIRBI</th>\n",
       "      <th>IBI</th>\n",
       "      <th>NDBI</th>\n",
       "      <th>avg_rad</th>\n",
       "    </tr>\n",
       "  </thead>\n",
       "  <tbody>\n",
       "    <tr>\n",
       "      <th>0</th>\n",
       "      <td>-0.156262</td>\n",
       "      <td>0.057925</td>\n",
       "      <td>0.069752</td>\n",
       "      <td>-0.089758</td>\n",
       "      <td>-0.069752</td>\n",
       "      <td>-15.913936</td>\n",
       "      <td>-0.010811</td>\n",
       "      <td>70.093898</td>\n",
       "    </tr>\n",
       "    <tr>\n",
       "      <th>1</th>\n",
       "      <td>-0.163073</td>\n",
       "      <td>0.054353</td>\n",
       "      <td>0.129827</td>\n",
       "      <td>-0.124079</td>\n",
       "      <td>-0.129827</td>\n",
       "      <td>-0.019400</td>\n",
       "      <td>-0.044529</td>\n",
       "      <td>70.093898</td>\n",
       "    </tr>\n",
       "    <tr>\n",
       "      <th>2</th>\n",
       "      <td>-0.152122</td>\n",
       "      <td>0.073200</td>\n",
       "      <td>0.101133</td>\n",
       "      <td>-0.027589</td>\n",
       "      <td>-0.101133</td>\n",
       "      <td>-0.673711</td>\n",
       "      <td>0.087293</td>\n",
       "      <td>70.093898</td>\n",
       "    </tr>\n",
       "    <tr>\n",
       "      <th>3</th>\n",
       "      <td>-0.279784</td>\n",
       "      <td>0.023549</td>\n",
       "      <td>0.288706</td>\n",
       "      <td>-0.124254</td>\n",
       "      <td>-0.288706</td>\n",
       "      <td>0.978246</td>\n",
       "      <td>-0.123526</td>\n",
       "      <td>70.093898</td>\n",
       "    </tr>\n",
       "    <tr>\n",
       "      <th>4</th>\n",
       "      <td>-0.226384</td>\n",
       "      <td>0.048742</td>\n",
       "      <td>0.194209</td>\n",
       "      <td>-0.024817</td>\n",
       "      <td>-0.194209</td>\n",
       "      <td>-2.934090</td>\n",
       "      <td>0.011797</td>\n",
       "      <td>70.093898</td>\n",
       "    </tr>\n",
       "    <tr>\n",
       "      <th>...</th>\n",
       "      <td>...</td>\n",
       "      <td>...</td>\n",
       "      <td>...</td>\n",
       "      <td>...</td>\n",
       "      <td>...</td>\n",
       "      <td>...</td>\n",
       "      <td>...</td>\n",
       "      <td>...</td>\n",
       "    </tr>\n",
       "    <tr>\n",
       "      <th>9821</th>\n",
       "      <td>-0.235897</td>\n",
       "      <td>0.019614</td>\n",
       "      <td>0.178426</td>\n",
       "      <td>-0.045459</td>\n",
       "      <td>-0.178426</td>\n",
       "      <td>2.214779</td>\n",
       "      <td>0.003865</td>\n",
       "      <td>68.900002</td>\n",
       "    </tr>\n",
       "    <tr>\n",
       "      <th>9822</th>\n",
       "      <td>-0.219015</td>\n",
       "      <td>0.029755</td>\n",
       "      <td>0.152598</td>\n",
       "      <td>-0.043590</td>\n",
       "      <td>-0.152598</td>\n",
       "      <td>-3.224787</td>\n",
       "      <td>0.018013</td>\n",
       "      <td>68.900002</td>\n",
       "    </tr>\n",
       "    <tr>\n",
       "      <th>9823</th>\n",
       "      <td>-0.219015</td>\n",
       "      <td>0.029755</td>\n",
       "      <td>0.152598</td>\n",
       "      <td>-0.043590</td>\n",
       "      <td>-0.152598</td>\n",
       "      <td>-3.224787</td>\n",
       "      <td>0.018013</td>\n",
       "      <td>68.900002</td>\n",
       "    </tr>\n",
       "    <tr>\n",
       "      <th>9824</th>\n",
       "      <td>-0.219015</td>\n",
       "      <td>0.029755</td>\n",
       "      <td>0.152598</td>\n",
       "      <td>-0.043590</td>\n",
       "      <td>-0.152598</td>\n",
       "      <td>-3.224787</td>\n",
       "      <td>0.018013</td>\n",
       "      <td>74.459999</td>\n",
       "    </tr>\n",
       "    <tr>\n",
       "      <th>9825</th>\n",
       "      <td>-0.219015</td>\n",
       "      <td>0.029755</td>\n",
       "      <td>0.152598</td>\n",
       "      <td>-0.043590</td>\n",
       "      <td>-0.152598</td>\n",
       "      <td>-3.224787</td>\n",
       "      <td>0.018013</td>\n",
       "      <td>68.900002</td>\n",
       "    </tr>\n",
       "  </tbody>\n",
       "</table>\n",
       "<p>9826 rows × 8 columns</p>\n",
       "</div>"
      ],
      "text/plain": [
       "       VgNIRBI      PISI      NDVI      EMBI   VrNIRBI        IBI      NDBI  \\\n",
       "0    -0.156262  0.057925  0.069752 -0.089758 -0.069752 -15.913936 -0.010811   \n",
       "1    -0.163073  0.054353  0.129827 -0.124079 -0.129827  -0.019400 -0.044529   \n",
       "2    -0.152122  0.073200  0.101133 -0.027589 -0.101133  -0.673711  0.087293   \n",
       "3    -0.279784  0.023549  0.288706 -0.124254 -0.288706   0.978246 -0.123526   \n",
       "4    -0.226384  0.048742  0.194209 -0.024817 -0.194209  -2.934090  0.011797   \n",
       "...        ...       ...       ...       ...       ...        ...       ...   \n",
       "9821 -0.235897  0.019614  0.178426 -0.045459 -0.178426   2.214779  0.003865   \n",
       "9822 -0.219015  0.029755  0.152598 -0.043590 -0.152598  -3.224787  0.018013   \n",
       "9823 -0.219015  0.029755  0.152598 -0.043590 -0.152598  -3.224787  0.018013   \n",
       "9824 -0.219015  0.029755  0.152598 -0.043590 -0.152598  -3.224787  0.018013   \n",
       "9825 -0.219015  0.029755  0.152598 -0.043590 -0.152598  -3.224787  0.018013   \n",
       "\n",
       "        avg_rad  \n",
       "0     70.093898  \n",
       "1     70.093898  \n",
       "2     70.093898  \n",
       "3     70.093898  \n",
       "4     70.093898  \n",
       "...         ...  \n",
       "9821  68.900002  \n",
       "9822  68.900002  \n",
       "9823  68.900002  \n",
       "9824  74.459999  \n",
       "9825  68.900002  \n",
       "\n",
       "[9826 rows x 8 columns]"
      ]
     },
     "execution_count": 315,
     "metadata": {},
     "output_type": "execute_result"
    }
   ],
   "source": [
    "X"
   ]
  },
  {
   "cell_type": "code",
   "execution_count": 310,
   "id": "5bb8de17",
   "metadata": {},
   "outputs": [
    {
     "data": {
      "text/plain": [
       "VgNIRBI       0\n",
       "PISI          0\n",
       "NDVI          0\n",
       "EMBI          0\n",
       "VrNIRBI       0\n",
       "IBI           0\n",
       "NDBI          0\n",
       "cf_cvg     1686\n",
       "avg_rad       0\n",
       "dtype: int64"
      ]
     },
     "execution_count": 310,
     "metadata": {},
     "output_type": "execute_result"
    }
   ],
   "source": [
    "X.isnull().sum()"
   ]
  },
  {
   "cell_type": "code",
   "execution_count": 317,
   "id": "867eef4a",
   "metadata": {},
   "outputs": [
    {
     "name": "stdout",
     "output_type": "stream",
     "text": [
      "F1 Score: 0.000\n"
     ]
    }
   ],
   "source": [
    "# isolation forest for imbalanced classification\n",
    "from sklearn.datasets import make_classification\n",
    "from sklearn.model_selection import train_test_split\n",
    "from sklearn.metrics import f1_score\n",
    "from sklearn.ensemble import IsolationForest\n",
    "# generate dataset\n",
    "#X, y = make_classification(n_samples=10000, n_features=2, n_redundant=0,\n",
    "#\tn_clusters_per_class=1, weights=[0.999], flip_y=0, random_state=4)\n",
    "# split into train/test sets\n",
    "trainX, testX, trainy, testy = train_test_split(X, y, test_size=0.2, random_state=2, stratify=y)\n",
    "# define outlier detection model\n",
    "model = IsolationForest(contamination=0.01)\n",
    "# fit on majority class\n",
    "#trainX = trainX[trainy==0]\n",
    "model.fit(trainX)\n",
    "# detect outliers in the test set\n",
    "yhat = model.predict(testX)\n",
    "# mark inliers 1, outliers -1\n",
    "testy[testy == 1] = -1\n",
    "testy[testy == 0] = 1\n",
    "# calculate score\n",
    "score = f1_score(testy, yhat, pos_label=-1)\n",
    "print('F1 Score: %.3f' % score)"
   ]
  },
  {
   "cell_type": "code",
   "execution_count": 295,
   "id": "a0d73895",
   "metadata": {},
   "outputs": [
    {
     "data": {
      "text/plain": [
       "<bound method BaseEstimator.get_params of OneClassSVM(nu=0.01)>"
      ]
     },
     "execution_count": 295,
     "metadata": {},
     "output_type": "execute_result"
    }
   ],
   "source": [
    "model.get_params"
   ]
  },
  {
   "cell_type": "code",
   "execution_count": 267,
   "id": "62795e75",
   "metadata": {
    "scrolled": true
   },
   "outputs": [
    {
     "name": "stderr",
     "output_type": "stream",
     "text": [
      "C:\\Users\\Christos\\AppData\\Local\\Temp/ipykernel_18224/1516421600.py:2: SettingWithCopyWarning: \n",
      "A value is trying to be set on a copy of a slice from a DataFrame.\n",
      "Try using .loc[row_indexer,col_indexer] = value instead\n",
      "\n",
      "See the caveats in the documentation: https://pandas.pydata.org/pandas-docs/stable/user_guide/indexing.html#returning-a-view-versus-a-copy\n",
      "  testy['label']=0\n"
     ]
    }
   ],
   "source": [
    "testy=trainX[80000:]\n",
    "testy['label']=0\n",
    "testy=testy['label']"
   ]
  },
  {
   "cell_type": "code",
   "execution_count": 269,
   "id": "cd57a4ad",
   "metadata": {},
   "outputs": [
    {
     "data": {
      "text/plain": [
       "array([1, 1, 1, ..., 1, 1, 1], dtype=int64)"
      ]
     },
     "execution_count": 269,
     "metadata": {},
     "output_type": "execute_result"
    }
   ],
   "source": [
    "yhat"
   ]
  },
  {
   "cell_type": "code",
   "execution_count": 268,
   "id": "3ab9f6d0",
   "metadata": {},
   "outputs": [
    {
     "ename": "ValueError",
     "evalue": "Target is multiclass but average='binary'. Please choose another average setting, one of [None, 'micro', 'macro', 'weighted'].",
     "output_type": "error",
     "traceback": [
      "\u001b[1;31m---------------------------------------------------------------------------\u001b[0m",
      "\u001b[1;31mValueError\u001b[0m                                Traceback (most recent call last)",
      "\u001b[1;32m~\\AppData\\Local\\Temp/ipykernel_18224/2279118969.py\u001b[0m in \u001b[0;36m<module>\u001b[1;34m\u001b[0m\n\u001b[0;32m      2\u001b[0m \u001b[0myhat\u001b[0m \u001b[1;33m=\u001b[0m \u001b[0mmodel\u001b[0m\u001b[1;33m.\u001b[0m\u001b[0mpredict\u001b[0m\u001b[1;33m(\u001b[0m\u001b[0mtrainX\u001b[0m\u001b[1;33m[\u001b[0m\u001b[1;36m80000\u001b[0m\u001b[1;33m:\u001b[0m\u001b[1;33m]\u001b[0m\u001b[1;33m)\u001b[0m\u001b[1;33m\u001b[0m\u001b[1;33m\u001b[0m\u001b[0m\n\u001b[0;32m      3\u001b[0m \u001b[1;31m# calculate score\u001b[0m\u001b[1;33m\u001b[0m\u001b[1;33m\u001b[0m\u001b[1;33m\u001b[0m\u001b[0m\n\u001b[1;32m----> 4\u001b[1;33m \u001b[0mscore\u001b[0m \u001b[1;33m=\u001b[0m \u001b[0mf1_score\u001b[0m\u001b[1;33m(\u001b[0m\u001b[0mtesty\u001b[0m\u001b[1;33m,\u001b[0m \u001b[0myhat\u001b[0m\u001b[1;33m,\u001b[0m \u001b[0mpos_label\u001b[0m\u001b[1;33m=\u001b[0m\u001b[1;33m-\u001b[0m\u001b[1;36m1\u001b[0m\u001b[1;33m)\u001b[0m\u001b[1;33m\u001b[0m\u001b[1;33m\u001b[0m\u001b[0m\n\u001b[0m\u001b[0;32m      5\u001b[0m \u001b[0mprint\u001b[0m\u001b[1;33m(\u001b[0m\u001b[1;34m'F1 Score: %.3f'\u001b[0m \u001b[1;33m%\u001b[0m \u001b[0mscore\u001b[0m\u001b[1;33m)\u001b[0m\u001b[1;33m\u001b[0m\u001b[1;33m\u001b[0m\u001b[0m\n",
      "\u001b[1;32m~\\AppData\\Roaming\\Python\\Python39\\site-packages\\sklearn\\utils\\validation.py\u001b[0m in \u001b[0;36minner_f\u001b[1;34m(*args, **kwargs)\u001b[0m\n\u001b[0;32m     61\u001b[0m             \u001b[0mextra_args\u001b[0m \u001b[1;33m=\u001b[0m \u001b[0mlen\u001b[0m\u001b[1;33m(\u001b[0m\u001b[0margs\u001b[0m\u001b[1;33m)\u001b[0m \u001b[1;33m-\u001b[0m \u001b[0mlen\u001b[0m\u001b[1;33m(\u001b[0m\u001b[0mall_args\u001b[0m\u001b[1;33m)\u001b[0m\u001b[1;33m\u001b[0m\u001b[1;33m\u001b[0m\u001b[0m\n\u001b[0;32m     62\u001b[0m             \u001b[1;32mif\u001b[0m \u001b[0mextra_args\u001b[0m \u001b[1;33m<=\u001b[0m \u001b[1;36m0\u001b[0m\u001b[1;33m:\u001b[0m\u001b[1;33m\u001b[0m\u001b[1;33m\u001b[0m\u001b[0m\n\u001b[1;32m---> 63\u001b[1;33m                 \u001b[1;32mreturn\u001b[0m \u001b[0mf\u001b[0m\u001b[1;33m(\u001b[0m\u001b[1;33m*\u001b[0m\u001b[0margs\u001b[0m\u001b[1;33m,\u001b[0m \u001b[1;33m**\u001b[0m\u001b[0mkwargs\u001b[0m\u001b[1;33m)\u001b[0m\u001b[1;33m\u001b[0m\u001b[1;33m\u001b[0m\u001b[0m\n\u001b[0m\u001b[0;32m     64\u001b[0m \u001b[1;33m\u001b[0m\u001b[0m\n\u001b[0;32m     65\u001b[0m             \u001b[1;31m# extra_args > 0\u001b[0m\u001b[1;33m\u001b[0m\u001b[1;33m\u001b[0m\u001b[1;33m\u001b[0m\u001b[0m\n",
      "\u001b[1;32m~\\AppData\\Roaming\\Python\\Python39\\site-packages\\sklearn\\metrics\\_classification.py\u001b[0m in \u001b[0;36mf1_score\u001b[1;34m(y_true, y_pred, labels, pos_label, average, sample_weight, zero_division)\u001b[0m\n\u001b[0;32m   1069\u001b[0m     \u001b[0mmodified\u001b[0m \u001b[1;32mwith\u001b[0m\u001b[0;31m \u001b[0m\u001b[0;31m`\u001b[0m\u001b[0;31m`\u001b[0m\u001b[0mzero_division\u001b[0m\u001b[0;31m`\u001b[0m\u001b[0;31m`\u001b[0m\u001b[1;33m.\u001b[0m\u001b[1;33m\u001b[0m\u001b[1;33m\u001b[0m\u001b[0m\n\u001b[0;32m   1070\u001b[0m     \"\"\"\n\u001b[1;32m-> 1071\u001b[1;33m     return fbeta_score(y_true, y_pred, beta=1, labels=labels,\n\u001b[0m\u001b[0;32m   1072\u001b[0m                        \u001b[0mpos_label\u001b[0m\u001b[1;33m=\u001b[0m\u001b[0mpos_label\u001b[0m\u001b[1;33m,\u001b[0m \u001b[0maverage\u001b[0m\u001b[1;33m=\u001b[0m\u001b[0maverage\u001b[0m\u001b[1;33m,\u001b[0m\u001b[1;33m\u001b[0m\u001b[1;33m\u001b[0m\u001b[0m\n\u001b[0;32m   1073\u001b[0m                        \u001b[0msample_weight\u001b[0m\u001b[1;33m=\u001b[0m\u001b[0msample_weight\u001b[0m\u001b[1;33m,\u001b[0m\u001b[1;33m\u001b[0m\u001b[1;33m\u001b[0m\u001b[0m\n",
      "\u001b[1;32m~\\AppData\\Roaming\\Python\\Python39\\site-packages\\sklearn\\utils\\validation.py\u001b[0m in \u001b[0;36minner_f\u001b[1;34m(*args, **kwargs)\u001b[0m\n\u001b[0;32m     61\u001b[0m             \u001b[0mextra_args\u001b[0m \u001b[1;33m=\u001b[0m \u001b[0mlen\u001b[0m\u001b[1;33m(\u001b[0m\u001b[0margs\u001b[0m\u001b[1;33m)\u001b[0m \u001b[1;33m-\u001b[0m \u001b[0mlen\u001b[0m\u001b[1;33m(\u001b[0m\u001b[0mall_args\u001b[0m\u001b[1;33m)\u001b[0m\u001b[1;33m\u001b[0m\u001b[1;33m\u001b[0m\u001b[0m\n\u001b[0;32m     62\u001b[0m             \u001b[1;32mif\u001b[0m \u001b[0mextra_args\u001b[0m \u001b[1;33m<=\u001b[0m \u001b[1;36m0\u001b[0m\u001b[1;33m:\u001b[0m\u001b[1;33m\u001b[0m\u001b[1;33m\u001b[0m\u001b[0m\n\u001b[1;32m---> 63\u001b[1;33m                 \u001b[1;32mreturn\u001b[0m \u001b[0mf\u001b[0m\u001b[1;33m(\u001b[0m\u001b[1;33m*\u001b[0m\u001b[0margs\u001b[0m\u001b[1;33m,\u001b[0m \u001b[1;33m**\u001b[0m\u001b[0mkwargs\u001b[0m\u001b[1;33m)\u001b[0m\u001b[1;33m\u001b[0m\u001b[1;33m\u001b[0m\u001b[0m\n\u001b[0m\u001b[0;32m     64\u001b[0m \u001b[1;33m\u001b[0m\u001b[0m\n\u001b[0;32m     65\u001b[0m             \u001b[1;31m# extra_args > 0\u001b[0m\u001b[1;33m\u001b[0m\u001b[1;33m\u001b[0m\u001b[1;33m\u001b[0m\u001b[0m\n",
      "\u001b[1;32m~\\AppData\\Roaming\\Python\\Python39\\site-packages\\sklearn\\metrics\\_classification.py\u001b[0m in \u001b[0;36mfbeta_score\u001b[1;34m(y_true, y_pred, beta, labels, pos_label, average, sample_weight, zero_division)\u001b[0m\n\u001b[0;32m   1193\u001b[0m     \"\"\"\n\u001b[0;32m   1194\u001b[0m \u001b[1;33m\u001b[0m\u001b[0m\n\u001b[1;32m-> 1195\u001b[1;33m     _, _, f, _ = precision_recall_fscore_support(y_true, y_pred,\n\u001b[0m\u001b[0;32m   1196\u001b[0m                                                  \u001b[0mbeta\u001b[0m\u001b[1;33m=\u001b[0m\u001b[0mbeta\u001b[0m\u001b[1;33m,\u001b[0m\u001b[1;33m\u001b[0m\u001b[1;33m\u001b[0m\u001b[0m\n\u001b[0;32m   1197\u001b[0m                                                  \u001b[0mlabels\u001b[0m\u001b[1;33m=\u001b[0m\u001b[0mlabels\u001b[0m\u001b[1;33m,\u001b[0m\u001b[1;33m\u001b[0m\u001b[1;33m\u001b[0m\u001b[0m\n",
      "\u001b[1;32m~\\AppData\\Roaming\\Python\\Python39\\site-packages\\sklearn\\utils\\validation.py\u001b[0m in \u001b[0;36minner_f\u001b[1;34m(*args, **kwargs)\u001b[0m\n\u001b[0;32m     61\u001b[0m             \u001b[0mextra_args\u001b[0m \u001b[1;33m=\u001b[0m \u001b[0mlen\u001b[0m\u001b[1;33m(\u001b[0m\u001b[0margs\u001b[0m\u001b[1;33m)\u001b[0m \u001b[1;33m-\u001b[0m \u001b[0mlen\u001b[0m\u001b[1;33m(\u001b[0m\u001b[0mall_args\u001b[0m\u001b[1;33m)\u001b[0m\u001b[1;33m\u001b[0m\u001b[1;33m\u001b[0m\u001b[0m\n\u001b[0;32m     62\u001b[0m             \u001b[1;32mif\u001b[0m \u001b[0mextra_args\u001b[0m \u001b[1;33m<=\u001b[0m \u001b[1;36m0\u001b[0m\u001b[1;33m:\u001b[0m\u001b[1;33m\u001b[0m\u001b[1;33m\u001b[0m\u001b[0m\n\u001b[1;32m---> 63\u001b[1;33m                 \u001b[1;32mreturn\u001b[0m \u001b[0mf\u001b[0m\u001b[1;33m(\u001b[0m\u001b[1;33m*\u001b[0m\u001b[0margs\u001b[0m\u001b[1;33m,\u001b[0m \u001b[1;33m**\u001b[0m\u001b[0mkwargs\u001b[0m\u001b[1;33m)\u001b[0m\u001b[1;33m\u001b[0m\u001b[1;33m\u001b[0m\u001b[0m\n\u001b[0m\u001b[0;32m     64\u001b[0m \u001b[1;33m\u001b[0m\u001b[0m\n\u001b[0;32m     65\u001b[0m             \u001b[1;31m# extra_args > 0\u001b[0m\u001b[1;33m\u001b[0m\u001b[1;33m\u001b[0m\u001b[1;33m\u001b[0m\u001b[0m\n",
      "\u001b[1;32m~\\AppData\\Roaming\\Python\\Python39\\site-packages\\sklearn\\metrics\\_classification.py\u001b[0m in \u001b[0;36mprecision_recall_fscore_support\u001b[1;34m(y_true, y_pred, beta, labels, pos_label, average, warn_for, sample_weight, zero_division)\u001b[0m\n\u001b[0;32m   1462\u001b[0m     \u001b[1;32mif\u001b[0m \u001b[0mbeta\u001b[0m \u001b[1;33m<\u001b[0m \u001b[1;36m0\u001b[0m\u001b[1;33m:\u001b[0m\u001b[1;33m\u001b[0m\u001b[1;33m\u001b[0m\u001b[0m\n\u001b[0;32m   1463\u001b[0m         \u001b[1;32mraise\u001b[0m \u001b[0mValueError\u001b[0m\u001b[1;33m(\u001b[0m\u001b[1;34m\"beta should be >=0 in the F-beta score\"\u001b[0m\u001b[1;33m)\u001b[0m\u001b[1;33m\u001b[0m\u001b[1;33m\u001b[0m\u001b[0m\n\u001b[1;32m-> 1464\u001b[1;33m     labels = _check_set_wise_labels(y_true, y_pred, average, labels,\n\u001b[0m\u001b[0;32m   1465\u001b[0m                                     pos_label)\n\u001b[0;32m   1466\u001b[0m \u001b[1;33m\u001b[0m\u001b[0m\n",
      "\u001b[1;32m~\\AppData\\Roaming\\Python\\Python39\\site-packages\\sklearn\\metrics\\_classification.py\u001b[0m in \u001b[0;36m_check_set_wise_labels\u001b[1;34m(y_true, y_pred, average, labels, pos_label)\u001b[0m\n\u001b[0;32m   1292\u001b[0m             \u001b[1;32mif\u001b[0m \u001b[0my_type\u001b[0m \u001b[1;33m==\u001b[0m \u001b[1;34m'multiclass'\u001b[0m\u001b[1;33m:\u001b[0m\u001b[1;33m\u001b[0m\u001b[1;33m\u001b[0m\u001b[0m\n\u001b[0;32m   1293\u001b[0m                 \u001b[0maverage_options\u001b[0m\u001b[1;33m.\u001b[0m\u001b[0mremove\u001b[0m\u001b[1;33m(\u001b[0m\u001b[1;34m'samples'\u001b[0m\u001b[1;33m)\u001b[0m\u001b[1;33m\u001b[0m\u001b[1;33m\u001b[0m\u001b[0m\n\u001b[1;32m-> 1294\u001b[1;33m             raise ValueError(\"Target is %s but average='binary'. Please \"\n\u001b[0m\u001b[0;32m   1295\u001b[0m                              \u001b[1;34m\"choose another average setting, one of %r.\"\u001b[0m\u001b[1;33m\u001b[0m\u001b[1;33m\u001b[0m\u001b[0m\n\u001b[0;32m   1296\u001b[0m                              % (y_type, average_options))\n",
      "\u001b[1;31mValueError\u001b[0m: Target is multiclass but average='binary'. Please choose another average setting, one of [None, 'micro', 'macro', 'weighted']."
     ]
    }
   ],
   "source": [
    "from sklearn.metrics import f1_score\n",
    "yhat = model.predict(trainX[80000:])\n",
    "# calculate score\n",
    "score = f1_score(testy, yhat, pos_label=-1)\n",
    "print('F1 Score: %.3f' % score)"
   ]
  },
  {
   "cell_type": "code",
   "execution_count": null,
   "id": "2cfaf7ca",
   "metadata": {},
   "outputs": [],
   "source": []
  },
  {
   "cell_type": "code",
   "execution_count": 176,
   "id": "fb152a6d",
   "metadata": {},
   "outputs": [
    {
     "data": {
      "text/plain": [
       "Ttest_indResult(statistic=-115.30731437167127, pvalue=0.0)"
      ]
     },
     "execution_count": 176,
     "metadata": {},
     "output_type": "execute_result"
    }
   ],
   "source": [
    "from scipy import stats\n",
    "rng = np.random.default_rng()\n",
    "#rvs5 = stats.norm.rvs(loc=8, scale=20, size=100, random_state=rng)\n",
    "stats.ttest_ind(vacant_philly_bldgs_viirs['avg_rad'], abandoned_chicago_regions_viirs['avg_rad'])\n",
    "#Ttest_indResult(statistic=-2.8415950600298774, pvalue=0.0046418707568707885)\n",
    "#stats.ttest_ind(volos_turbo_viirs['avg_rad'], volos_amenities_viirs['avg_rad'], equal_var=False)\n",
    "#Ttest_indResult(statistic=-1.8686598649188084, pvalue=0.06434714193919686)"
   ]
  },
  {
   "cell_type": "code",
   "execution_count": null,
   "id": "c21875e2",
   "metadata": {},
   "outputs": [],
   "source": []
  },
  {
   "cell_type": "code",
   "execution_count": 308,
   "id": "2ea687c4",
   "metadata": {},
   "outputs": [],
   "source": [
    "### EKTOS APO TO OIKONOMAKI TA ALLA EINAI ABANDONED\n",
    "\n",
    "kount_fil = ee.Geometry.Polygon([\n",
    "          [\n",
    "            22.952406182885166,\n",
    "            39.35917348693331\n",
    "          ],\n",
    "          [\n",
    "            22.952624447643757,\n",
    "            39.359061499184136\n",
    "          ],\n",
    "          [\n",
    "            22.952531576156613,\n",
    "            39.35895702896919\n",
    "          ],\n",
    "          [\n",
    "            22.952297888696194,\n",
    "            39.35905890687299\n",
    "          ],\n",
    "          [\n",
    "            22.952407523989677,\n",
    "            39.359176597701556\n",
    "          ]\n",
    "        ])\n",
    "kount_mavro = ee.Geometry.Polygon([\n",
    "          [\n",
    "            22.951523065567017,\n",
    "            39.35919215154071\n",
    "          ],\n",
    "          [\n",
    "            22.951737642288208,\n",
    "            39.35908016382146\n",
    "          ],\n",
    "          [\n",
    "            22.951886504888535,\n",
    "            39.3592429607245\n",
    "          ],\n",
    "          [\n",
    "            22.95165583491325,\n",
    "            39.35935598510286\n",
    "          ],\n",
    "          [\n",
    "            22.951521389186382,\n",
    "            39.35919085538758\n",
    "          ]\n",
    "        ])\n",
    "\n",
    "fil_28okt = ee.Geometry.Polygon( [\n",
    "          [\n",
    "            22.95275218784809,\n",
    "            39.35951204139807\n",
    "          ],\n",
    "          [\n",
    "            22.952881939709187,\n",
    "            39.35942908792906\n",
    "          ],\n",
    "          [\n",
    "            22.95277565717697,\n",
    "            39.35932072981181\n",
    "          ],\n",
    "          [\n",
    "            22.95261740684509,\n",
    "            39.35940160957075\n",
    "          ],\n",
    "          [\n",
    "            22.952740788459778,\n",
    "            39.359515670610094\n",
    "          ]\n",
    "        ])\n",
    "\n",
    "fill_28okt2 = ee.Geometry.Polygon([\n",
    "          [\n",
    "            22.95280247926712,\n",
    "            39.359597846288914\n",
    "          ],\n",
    "          [\n",
    "            22.95294027775526,\n",
    "            39.35953174283249\n",
    "          ],\n",
    "          [\n",
    "            22.9528571292758,\n",
    "            39.359441271726006\n",
    "          ],\n",
    "          [\n",
    "            22.95270960777998,\n",
    "            39.35952889130942\n",
    "          ],\n",
    "          [\n",
    "            22.952714301645756,\n",
    "            39.35956570187087\n",
    "          ],\n",
    "          [\n",
    "            22.952717654407024,\n",
    "            39.35957736718557\n",
    "          ],\n",
    "          [\n",
    "            22.952751852571964,\n",
    "            39.35956777570473\n",
    "          ],\n",
    "          [\n",
    "            22.952791415154934,\n",
    "            39.35959499476857\n",
    "          ],\n",
    "          [\n",
    "            22.95280247926712,\n",
    "            39.359595253997696\n",
    "          ],\n",
    "          [\n",
    "            22.952802814543247,\n",
    "            39.35960017935096\n",
    "          ],\n",
    "          [\n",
    "            22.95280449092388,\n",
    "            39.359598883205386\n",
    "          ]\n",
    "        ])\n",
    "\n",
    "# not abandoned\n",
    "fil_fer = ee.Geometry.Polygon([\n",
    "          [\n",
    "            22.95489829033613,\n",
    "            39.361775077721575\n",
    "          ],\n",
    "          [\n",
    "            22.954826205968857,\n",
    "            39.361703014235744\n",
    "          ],\n",
    "          [\n",
    "            22.954844646155834,\n",
    "            39.36168823861977\n",
    "          ],\n",
    "          [\n",
    "            22.95478966087103,\n",
    "            39.361634320555964\n",
    "          ],\n",
    "          [\n",
    "            22.95481715351343,\n",
    "            39.361614360492915\n",
    "          ],\n",
    "          [\n",
    "            22.954944893717766,\n",
    "            39.36154437061647\n",
    "          ],\n",
    "          [\n",
    "            22.955089397728443,\n",
    "            39.3616892755052\n",
    "          ],\n",
    "          [\n",
    "            22.954903990030285,\n",
    "            39.361783632015296\n",
    "          ],\n",
    "          [\n",
    "            22.954898625612255,\n",
    "            39.36177715148985\n",
    "          ]\n",
    "        ])\n",
    "\n",
    "fil_fer_apenanti = ee.Geometry.Polygon([\n",
    "          [\n",
    "            22.955063581466675,\n",
    "            39.362018745072554\n",
    "          ],\n",
    "          [\n",
    "            22.955232560634613,\n",
    "            39.361943052752395\n",
    "          ],\n",
    "          [\n",
    "            22.95509308576584,\n",
    "            39.36182692190997\n",
    "          ],\n",
    "          [\n",
    "            22.95496568083763,\n",
    "            39.36189742994447\n",
    "          ],\n",
    "          [\n",
    "            22.955056875944138,\n",
    "            39.36201148690843\n",
    "          ]\n",
    "        ])\n",
    "#not abandoned\n",
    "konst_gamv = ee.Geometry.Polygon( [\n",
    "          [\n",
    "            22.95320212841034,\n",
    "            39.36192127823414\n",
    "          ],\n",
    "          [\n",
    "            22.953552156686783,\n",
    "            39.36170871710425\n",
    "          ],\n",
    "          [\n",
    "            22.95335903763771,\n",
    "            39.36154488906026\n",
    "          ],\n",
    "          [\n",
    "            22.95302912592888,\n",
    "            39.361739823651455\n",
    "          ],\n",
    "          [\n",
    "            22.953198105096817,\n",
    "            39.36191816758813\n",
    "          ]\n",
    "        ])\n",
    "\n",
    "poi_oikonomaki= ee.Geometry.Polygon([[[\n",
    "              22.949098348617554,39.35979978548018],\n",
    "            [22.951193153858185,39.35979978548018 ],\n",
    "            [22.951193153858185,39.36196275350115],\n",
    "            [22.949098348617554,39.36196275350115],\n",
    "            [22.949098348617554,39.35979978548018]]])"
   ]
  },
  {
   "cell_type": "code",
   "execution_count": 309,
   "id": "08f5bccc",
   "metadata": {},
   "outputs": [],
   "source": [
    "# Some random places that for local dataset. Should add more\n",
    "f1 = ee.Feature(konst_gamv) #,{'ID':'1_0','Class':'Not Abandoned','ClassPallete':'006633'}\n",
    "f2 = ee.Feature(fil_fer_apenanti) # ,{'ID':'2_0','Class':'Not Abandoned','ClassPallete':'006633'}\n",
    "f3 = ee.Feature(fil_fer) # ,{'ID':'3_0','Class':'Not Abandoned','ClassPallete':'006633'}\n",
    "f4 = ee.Feature(fill_28okt2) # ,{'ID':'4_0','Class':'Abandoned','ClassPallete':'E5FFCC'}\n",
    "f5 = ee.Feature(fil_28okt) # ,{'ID':'5_0','Class':'Abandoned','ClassPallete':'E5FFCC'}\n",
    "f6 = ee.Feature(kount_mavro) # ,{'ID':'6_0','Class':'Abandoned','ClassPallete':'E5FFCC'}\n",
    "f7 = ee.Feature(poi_oikonomaki) # ,{'ID':'7_0','Class':'Not Abandoned','ClassPallete':'006633'}\n",
    "f8 = ee.Feature(kount_fil) # ,{'ID':'8_0','Class':'Abandoned','ClassPallete':'E5FFCC'}\n",
    "\n",
    "#f2 = ee.Feature(ee.Geometry.Point([22.947140336036682,39.36547976654773]).buffer(50),{'ID':'B'})\n",
    "abandoned_volos = ee.FeatureCollection([f4,f5,f6,f8])\n",
    "not_abandoned_volos =  ee.FeatureCollection([f1,f2,f3,f7])"
   ]
  },
  {
   "cell_type": "code",
   "execution_count": 239,
   "id": "a5e079ed",
   "metadata": {},
   "outputs": [],
   "source": [
    "# Combine vacant/abandoned collections\n",
    "\n",
    "abandoned_collection = ee.FeatureCollection([chicago_abandoned_fc1,vacant_philly_buildings_fc,vacant_uk_fc,abandoned_volos]).flatten()\n",
    "not_abandoned_collection = ee.FeatureCollection([chicago_not_abandoned_fc1,volos_turbo_fc,not_abandoned_volos]).flatten()"
   ]
  },
  {
   "cell_type": "code",
   "execution_count": 231,
   "id": "fa5b1051",
   "metadata": {},
   "outputs": [],
   "source": []
  },
  {
   "cell_type": "code",
   "execution_count": 240,
   "id": "b7657e0e",
   "metadata": {
    "scrolled": true
   },
   "outputs": [
    {
     "data": {
      "text/html": [
       "<div>\n",
       "<style scoped>\n",
       "    .dataframe tbody tr th:only-of-type {\n",
       "        vertical-align: middle;\n",
       "    }\n",
       "\n",
       "    .dataframe tbody tr th {\n",
       "        vertical-align: top;\n",
       "    }\n",
       "\n",
       "    .dataframe thead th {\n",
       "        text-align: right;\n",
       "    }\n",
       "</style>\n",
       "<table border=\"1\" class=\"dataframe\">\n",
       "  <thead>\n",
       "    <tr style=\"text-align: right;\">\n",
       "      <th></th>\n",
       "      <th>id</th>\n",
       "      <th>geometry</th>\n",
       "    </tr>\n",
       "  </thead>\n",
       "  <tbody>\n",
       "    <tr>\n",
       "      <th>0</th>\n",
       "      <td>0_0</td>\n",
       "      <td>POINT (41.73868 -87.65007)</td>\n",
       "    </tr>\n",
       "    <tr>\n",
       "      <th>1</th>\n",
       "      <td>0_1</td>\n",
       "      <td>POINT (41.97459 -87.66357)</td>\n",
       "    </tr>\n",
       "    <tr>\n",
       "      <th>2</th>\n",
       "      <td>0_2</td>\n",
       "      <td>POINT (41.80043 -87.66284)</td>\n",
       "    </tr>\n",
       "    <tr>\n",
       "      <th>3</th>\n",
       "      <td>0_3</td>\n",
       "      <td>POINT (41.70922 -87.62144)</td>\n",
       "    </tr>\n",
       "    <tr>\n",
       "      <th>4</th>\n",
       "      <td>0_4</td>\n",
       "      <td>POINT (41.92275 -87.69507)</td>\n",
       "    </tr>\n",
       "    <tr>\n",
       "      <th>...</th>\n",
       "      <td>...</td>\n",
       "      <td>...</td>\n",
       "    </tr>\n",
       "    <tr>\n",
       "      <th>2073</th>\n",
       "      <td>2_73</td>\n",
       "      <td>POINT (52.85500 -1.33638)</td>\n",
       "    </tr>\n",
       "    <tr>\n",
       "      <th>2074</th>\n",
       "      <td>3_0</td>\n",
       "      <td>POLYGON ((22.95280 39.35960, 22.95294 39.35953...</td>\n",
       "    </tr>\n",
       "    <tr>\n",
       "      <th>2075</th>\n",
       "      <td>3_1</td>\n",
       "      <td>POLYGON ((22.95275 39.35951, 22.95274 39.35952...</td>\n",
       "    </tr>\n",
       "    <tr>\n",
       "      <th>2076</th>\n",
       "      <td>3_2</td>\n",
       "      <td>POLYGON ((22.95152 39.35919, 22.95174 39.35908...</td>\n",
       "    </tr>\n",
       "    <tr>\n",
       "      <th>2077</th>\n",
       "      <td>3_3</td>\n",
       "      <td>POLYGON ((22.95241 39.35917, 22.95241 39.35918...</td>\n",
       "    </tr>\n",
       "  </tbody>\n",
       "</table>\n",
       "<p>2078 rows × 2 columns</p>\n",
       "</div>"
      ],
      "text/plain": [
       "        id                                           geometry\n",
       "0      0_0                         POINT (41.73868 -87.65007)\n",
       "1      0_1                         POINT (41.97459 -87.66357)\n",
       "2      0_2                         POINT (41.80043 -87.66284)\n",
       "3      0_3                         POINT (41.70922 -87.62144)\n",
       "4      0_4                         POINT (41.92275 -87.69507)\n",
       "...    ...                                                ...\n",
       "2073  2_73                          POINT (52.85500 -1.33638)\n",
       "2074   3_0  POLYGON ((22.95280 39.35960, 22.95294 39.35953...\n",
       "2075   3_1  POLYGON ((22.95275 39.35951, 22.95274 39.35952...\n",
       "2076   3_2  POLYGON ((22.95152 39.35919, 22.95174 39.35908...\n",
       "2077   3_3  POLYGON ((22.95241 39.35917, 22.95241 39.35918...\n",
       "\n",
       "[2078 rows x 2 columns]"
      ]
     },
     "execution_count": 240,
     "metadata": {},
     "output_type": "execute_result"
    }
   ],
   "source": [
    "abandoned_geojson =  geemap.ee_export_geojson(abandoned_collection)\n",
    "abandoned_geojson_gdf = gpd.read_file(abandoned_geojson)\n",
    "abandoned_geojson_gdf"
   ]
  },
  {
   "cell_type": "code",
   "execution_count": 236,
   "id": "eb1463aa",
   "metadata": {},
   "outputs": [
    {
     "data": {
      "text/html": [
       "<div>\n",
       "<style scoped>\n",
       "    .dataframe tbody tr th:only-of-type {\n",
       "        vertical-align: middle;\n",
       "    }\n",
       "\n",
       "    .dataframe tbody tr th {\n",
       "        vertical-align: top;\n",
       "    }\n",
       "\n",
       "    .dataframe thead th {\n",
       "        text-align: right;\n",
       "    }\n",
       "</style>\n",
       "<table border=\"1\" class=\"dataframe\">\n",
       "  <thead>\n",
       "    <tr style=\"text-align: right;\">\n",
       "      <th></th>\n",
       "      <th>id</th>\n",
       "      <th>geometry</th>\n",
       "    </tr>\n",
       "  </thead>\n",
       "  <tbody>\n",
       "    <tr>\n",
       "      <th>0</th>\n",
       "      <td>0_0</td>\n",
       "      <td>POINT (41.94804 -87.78606)</td>\n",
       "    </tr>\n",
       "    <tr>\n",
       "      <th>1</th>\n",
       "      <td>0_1</td>\n",
       "      <td>POINT (41.89782 -87.76142)</td>\n",
       "    </tr>\n",
       "    <tr>\n",
       "      <th>2</th>\n",
       "      <td>0_2</td>\n",
       "      <td>POINT (41.72716 -87.61766)</td>\n",
       "    </tr>\n",
       "    <tr>\n",
       "      <th>3</th>\n",
       "      <td>0_3</td>\n",
       "      <td>POINT (41.67039 -87.63715)</td>\n",
       "    </tr>\n",
       "    <tr>\n",
       "      <th>4</th>\n",
       "      <td>0_4</td>\n",
       "      <td>POINT (41.93608 -87.73062)</td>\n",
       "    </tr>\n",
       "    <tr>\n",
       "      <th>...</th>\n",
       "      <td>...</td>\n",
       "      <td>...</td>\n",
       "    </tr>\n",
       "    <tr>\n",
       "      <th>2203</th>\n",
       "      <td>1_1203</td>\n",
       "      <td>POINT (39.37162 22.94021)</td>\n",
       "    </tr>\n",
       "    <tr>\n",
       "      <th>2204</th>\n",
       "      <td>2_0</td>\n",
       "      <td>POLYGON ((22.95320 39.36192, 22.95320 39.36192...</td>\n",
       "    </tr>\n",
       "    <tr>\n",
       "      <th>2205</th>\n",
       "      <td>2_1</td>\n",
       "      <td>POLYGON ((22.95506 39.36202, 22.95506 39.36201...</td>\n",
       "    </tr>\n",
       "    <tr>\n",
       "      <th>2206</th>\n",
       "      <td>2_2</td>\n",
       "      <td>POLYGON ((22.95490 39.36178, 22.95483 39.36170...</td>\n",
       "    </tr>\n",
       "    <tr>\n",
       "      <th>2207</th>\n",
       "      <td>2_3</td>\n",
       "      <td>POLYGON ((22.94910 39.35980, 22.95119 39.35980...</td>\n",
       "    </tr>\n",
       "  </tbody>\n",
       "</table>\n",
       "<p>2208 rows × 2 columns</p>\n",
       "</div>"
      ],
      "text/plain": [
       "          id                                           geometry\n",
       "0        0_0                         POINT (41.94804 -87.78606)\n",
       "1        0_1                         POINT (41.89782 -87.76142)\n",
       "2        0_2                         POINT (41.72716 -87.61766)\n",
       "3        0_3                         POINT (41.67039 -87.63715)\n",
       "4        0_4                         POINT (41.93608 -87.73062)\n",
       "...      ...                                                ...\n",
       "2203  1_1203                          POINT (39.37162 22.94021)\n",
       "2204     2_0  POLYGON ((22.95320 39.36192, 22.95320 39.36192...\n",
       "2205     2_1  POLYGON ((22.95506 39.36202, 22.95506 39.36201...\n",
       "2206     2_2  POLYGON ((22.95490 39.36178, 22.95483 39.36170...\n",
       "2207     2_3  POLYGON ((22.94910 39.35980, 22.95119 39.35980...\n",
       "\n",
       "[2208 rows x 2 columns]"
      ]
     },
     "execution_count": 236,
     "metadata": {},
     "output_type": "execute_result"
    }
   ],
   "source": [
    "not_abandoned_geojson =  geemap.ee_export_geojson(not_abandoned_collection)\n",
    "not_abandoned_geojson_gdf = gpd.read_file(not_abandoned_geojson)\n",
    "not_abandoned_geojson_gdf"
   ]
  },
  {
   "cell_type": "code",
   "execution_count": 105,
   "id": "83bf0a11",
   "metadata": {},
   "outputs": [],
   "source": [
    "abandoned_geojson_gdf.to_file(\"./data/geojson/abandoned_geojson.geojson\", driver='GeoJSON')\n",
    "#abandoned_geojson_gdf.crs = \"EPSG:4326\"\n",
    "#abandoned_collection = geemap.geopandas_to_ee(abandoned_geojson_gdf)"
   ]
  },
  {
   "cell_type": "code",
   "execution_count": 29,
   "id": "575f7c38",
   "metadata": {},
   "outputs": [],
   "source": [
    "# Get Time Series Data for selected locations\n",
    "import wxee"
   ]
  },
  {
   "cell_type": "code",
   "execution_count": null,
   "id": "90422da8",
   "metadata": {},
   "outputs": [],
   "source": [
    "import eemont #improved iteration of ee api\n",
    "\n",
    "def select_satellite(gee_name,bounds,indices):\n",
    "    #data from sentinel-2 surface reflectance\n",
    "\n",
    "    satellite = (ee.ImageCollection(gee_name)\n",
    "        .filterBounds(bounds)\n",
    "        .filterDate(startDate,endDate)\n",
    "        .maskClouds()\n",
    "        .scaleAndOffset()\n",
    "        #.spectralIndices(['EVI','NDVI','NDBI','IBI','UI','BLFEI']))\n",
    "        .spectralIndices(indices))\n",
    "    print('satellite data loaded')\n",
    "    return satellite\n",
    "#select some bands\n",
    "#N = s2.select('B8')\n",
    "#R = s2.select('B4')\n",
    "#B = s2.select('B2')\n",
    "#G = s2.select('B3')\n",
    "\n",
    "s2 = select_satellite(gee_name,magnisia,indices)"
   ]
  },
  {
   "cell_type": "code",
   "execution_count": 139,
   "id": "85475304",
   "metadata": {},
   "outputs": [
    {
     "data": {
      "text/plain": [
       "1078"
      ]
     },
     "execution_count": 139,
     "metadata": {},
     "output_type": "execute_result"
    }
   ],
   "source": [
    "len(abandoned_collection)"
   ]
  },
  {
   "cell_type": "code",
   "execution_count": null,
   "id": "06913cde",
   "metadata": {},
   "outputs": [],
   "source": []
  },
  {
   "cell_type": "code",
   "execution_count": 242,
   "id": "8b2840c0",
   "metadata": {},
   "outputs": [],
   "source": [
    "#generate time series over aoi, get spectral indices(awsome index) #  fixed\n",
    "import time\n",
    "from datetime import timedelta\n",
    "def generate_time_series_region(geometry,startDate,endDate):\n",
    "    print('start  collecting satellite  images')\n",
    "    \n",
    "    start_time = time.monotonic()\n",
    "    \n",
    "    #collect imageCollection\n",
    "    \n",
    "    s2 = (ee.ImageCollection(\"COPERNICUS/S2_SR\")#.filterMetadata('CLOUDY_PIXEL_PERCENTAGE', 'less_than', 5)\n",
    "      .filterDate(startDate,endDate)\n",
    "      .filterBounds(geometry)\n",
    "      .maskClouds()\n",
    "      #.scaleAndOffset()\n",
    "      .spectralIndices(['NDVI','NDBI','IBI','EMBI','VgNIRBI','VrNIRBI','PISI'],online=True)).select([ 'NDVI', 'NDBI', 'IBI', \n",
    "                                                                                              'EMBI','VgNIRBI','VrNIRBI','PISI'])\n",
    "\n",
    "    print(len(s2))\n",
    "    ts = s2.wx.to_time_series()\n",
    "    \n",
    "    \n",
    "    #cloudless = ts.filterBounds(geometry).filterMetadata(\"CLOUDY_PIXEL_PERCENTAGE\", \"less_than\", 5)\n",
    "    #use geemap to generate a pandas dataframe from the time series(contains the ts for the selected indices)\n",
    "    #satellite_df= geemap.ee_to_pandas(time_series)\n",
    "    end_time = time.monotonic()\n",
    "    print(timedelta(seconds=end_time - start_time))\n",
    "    print('done collecting')\n",
    "    \n",
    "    print('start  calculating ts')\n",
    "    start_time = time.monotonic()\n",
    "    ts_mean =ts.aggregate_time(frequency=\"month\",reducer=ee.Reducer.mean()).filterMetadata('CLOUDY_PIXEL_PERCENTAGE', 'less_than', 5)\n",
    "    time_series = ts_mean.getTimeSeriesByRegion(\n",
    "                               geometry = geometry,\n",
    "                               bands = ['NDVI','NDBI','IBI','EMBI','VgNIRBI','VrNIRBI','PISI'],\n",
    "                               reducer = [ee.Reducer.mean()],\n",
    "                               scale = 10)\n",
    "    end_time = time.monotonic()\n",
    "    print(timedelta(seconds=end_time - start_time))\n",
    "    print('done calculating ts')\n",
    "    print(len(time_series))\n",
    "    print('start  making dataframe ts')\n",
    "    start_time = time.monotonic()\n",
    "    satellite_df = geemap.ee_to_pandas(time_series)\n",
    "\n",
    "    end_time = time.monotonic()\n",
    "    print(timedelta(seconds=end_time - start_time))\n",
    "    print('done making dataframe ts')\n",
    "    satellite_df[satellite_df == -9999] = np.nan\n",
    "    #satellite_df[satellite_df > -9999] = np.nan\n",
    "    #filter outliers\n",
    "    #satellite_df1=pd.DataFrame()\n",
    "    #satellite_df1['date'] =\n",
    "    #satellite_df=satellite_df[(np.abs(stats.zscore(satellite_df.drop(['date','reducer'],axis=1))) < 3).all(axis=1)]#==np.nan\n",
    "    satellite_df['date']=pd.to_datetime(satellite_df['date'],infer_datetime_format = True)\n",
    "    satellite_df['NDVI']=satellite_df['NDVI'].fillna(satellite_df['NDVI'].mean())\n",
    "    satellite_df['NDBI']=satellite_df['NDBI'].fillna(satellite_df['NDBI'].mean())\n",
    "    satellite_df['EMBI']=satellite_df['EMBI'].fillna(satellite_df['EMBI'].mean())\n",
    "    satellite_df['IBI']=satellite_df['IBI'].fillna(satellite_df['IBI'].mean())\n",
    "    satellite_df['VgNIRBI']=satellite_df['VgNIRBI'].fillna(satellite_df['VgNIRBI'].mean())\n",
    "    satellite_df['VrNIRBI']=satellite_df['VrNIRBI'].fillna(satellite_df['VrNIRBI'].mean())\n",
    "    satellite_df['PISI']=satellite_df['PISI'].fillna(satellite_df['PISI'].mean())\n",
    "    #satellite_df['date'] = satellite_df1['date']\n",
    "    return satellite_df"
   ]
  },
  {
   "cell_type": "code",
   "execution_count": 98,
   "id": "2effd8d6",
   "metadata": {},
   "outputs": [],
   "source": [
    "#generate time series over aoi, get spectral indices(awsome index) #  fixed\n",
    "import time\n",
    "from datetime import timedelta\n",
    "def generate_time_series_regions(geometry,startDate,endDate):\n",
    "    print('start  collecting satellite  images')\n",
    "    \n",
    "    start_time = time.monotonic()\n",
    "    \n",
    "    #collect imageCollection\n",
    "    \n",
    "    s2 = (ee.ImageCollection(\"COPERNICUS/S2_SR\")#.filterMetadata('CLOUDY_PIXEL_PERCENTAGE', 'less_than', 5)\n",
    "      .filterDate(startDate,endDate)\n",
    "      .filterBounds(geometry)\n",
    "      .maskClouds()\n",
    "      .scaleAndOffset()\n",
    "      .spectralIndices(['NDVI','NDBI','IBI','EMBI','VgNIRBI','VrNIRBI','PISI'],online=True)).select([ 'NDVI', 'NDBI', 'IBI', \n",
    "                                                                                              'EMBI','VgNIRBI','VrNIRBI','PISI'])\n",
    "\n",
    "    print(len(s2))\n",
    "    ts = s2.wx.to_time_series()\n",
    "    \n",
    "    \n",
    "    #cloudless = ts.filterBounds(geometry).filterMetadata(\"CLOUDY_PIXEL_PERCENTAGE\", \"less_than\", 5)\n",
    "    #use geemap to generate a pandas dataframe from the time series(contains the ts for the selected indices)\n",
    "    #satellite_df= geemap.ee_to_pandas(time_series)\n",
    "    end_time = time.monotonic()\n",
    "    print(timedelta(seconds=end_time - start_time))\n",
    "    print('done collecting')\n",
    "    \n",
    "    print('start  calculating ts')\n",
    "    start_time = time.monotonic()\n",
    "    ts_mean =ts.aggregate_time(frequency=\"month\",reducer=ee.Reducer.mean()).filterMetadata('CLOUDY_PIXEL_PERCENTAGE', 'less_than', 5)\n",
    "    time_series = ts_mean.getTimeSeriesByRegions(\n",
    "                               collection = geometry,\n",
    "                               bands = ['NDVI','NDBI','IBI','EMBI','VgNIRBI','VrNIRBI','PISI'],\n",
    "                               reducer = [ee.Reducer.mean()],\n",
    "                               scale = 10)\n",
    "    end_time = time.monotonic()\n",
    "    print(timedelta(seconds=end_time - start_time))\n",
    "    print('done calculating ts')\n",
    "    print(len(time_series))\n",
    "    print('start  making dataframe ts')\n",
    "    start_time = time.monotonic()\n",
    "    satellite_df = geemap.ee_to_pandas(time_series)\n",
    "\n",
    "    end_time = time.monotonic()\n",
    "    print(timedelta(seconds=end_time - start_time))\n",
    "    print('done making dataframe ts')\n",
    "    satellite_df[satellite_df == -9999] = np.nan\n",
    "    #satellite_df[satellite_df > -9999] = np.nan\n",
    "    #filter outliers\n",
    "    #satellite_df1=pd.DataFrame()\n",
    "    #satellite_df1['date'] =\n",
    "    #satellite_df=satellite_df[(np.abs(stats.zscore(satellite_df.drop(['date','reducer'],axis=1))) < 3).all(axis=1)]#==np.nan\n",
    "    satellite_df['date']=pd.to_datetime(satellite_df['date'],infer_datetime_format = True)\n",
    "    satellite_df['NDVI']=satellite_df['NDVI'].fillna(satellite_df['NDVI'].mean())\n",
    "    satellite_df['NDBI']=satellite_df['NDBI'].fillna(satellite_df['NDBI'].mean())\n",
    "    satellite_df['EMBI']=satellite_df['EMBI'].fillna(satellite_df['EMBI'].mean())\n",
    "    satellite_df['IBI']=satellite_df['IBI'].fillna(satellite_df['IBI'].mean())\n",
    "    satellite_df['VgNIRBI']=satellite_df['VgNIRBI'].fillna(satellite_df['VgNIRBI'].mean())\n",
    "    satellite_df['VrNIRBI']=satellite_df['VrNIRBI'].fillna(satellite_df['VrNIRBI'].mean())\n",
    "    satellite_df['PISI']=satellite_df['PISI'].fillna(satellite_df['PISI'].mean())\n",
    "    #satellite_df['date'] = satellite_df1['date']\n",
    "    return satellite_df"
   ]
  },
  {
   "cell_type": "code",
   "execution_count": null,
   "id": "a12f2bde",
   "metadata": {},
   "outputs": [
    {
     "name": "stdout",
     "output_type": "stream",
     "text": [
      "start  collecting satellite  images\n",
      "160\n",
      "0:00:16.563000\n",
      "done collecting\n",
      "start  calculating ts\n",
      "0:00:02.500000\n",
      "done calculating ts\n",
      "4\n",
      "start  making dataframe ts\n"
     ]
    }
   ],
   "source": [
    "s2_df_class2018  = generate_time_series_region(abandoned_collection,'2018-01-01','2019-01-01')"
   ]
  },
  {
   "cell_type": "code",
   "execution_count": 153,
   "id": "949fbe43",
   "metadata": {},
   "outputs": [
    {
     "data": {
      "text/plain": [
       "-1.6944064970319819"
      ]
     },
     "execution_count": 153,
     "metadata": {},
     "output_type": "execute_result"
    }
   ],
   "source": [
    "s2_df_class2018['IBI'].min()"
   ]
  },
  {
   "cell_type": "code",
   "execution_count": null,
   "id": "33dc38c4",
   "metadata": {},
   "outputs": [],
   "source": [
    "naValue"
   ]
  },
  {
   "cell_type": "code",
   "execution_count": null,
   "id": "22c7e29b",
   "metadata": {},
   "outputs": [],
   "source": []
  },
  {
   "cell_type": "code",
   "execution_count": null,
   "id": "cb673145",
   "metadata": {},
   "outputs": [],
   "source": []
  },
  {
   "cell_type": "code",
   "execution_count": null,
   "id": "4c2477f6",
   "metadata": {},
   "outputs": [],
   "source": [
    "# We  calculate yearly time series. For s2 and viirs \n",
    "# Then we will concat them"
   ]
  },
  {
   "cell_type": "code",
   "execution_count": 195,
   "id": "dab7c473",
   "metadata": {},
   "outputs": [
    {
     "name": "stdout",
     "output_type": "stream",
     "text": [
      "start  collecting satellite  images\n",
      "146\n",
      "0:00:07.750000\n",
      "done collecting\n",
      "start  calculating ts\n",
      "0:00:00.922000\n",
      "done calculating ts\n",
      "4312\n",
      "start  making dataframe ts\n",
      "0:01:43.875000\n",
      "done making dataframe ts\n"
     ]
    }
   ],
   "source": [
    "s2_df_class2018  = generate_time_series(abandoned_collection,'2018-01-01','2019-01-01')"
   ]
  },
  {
   "cell_type": "code",
   "execution_count": 209,
   "id": "abc611c2",
   "metadata": {},
   "outputs": [
    {
     "name": "stdout",
     "output_type": "stream",
     "text": [
      "start  collecting satellite  images\n",
      "59\n",
      "0:00:14.766000\n",
      "done collecting\n",
      "start  calculating ts\n",
      "0:00:01.922000\n",
      "done calculating ts\n",
      "2208\n",
      "start  making dataframe ts\n",
      "0:00:47.328000\n",
      "done making dataframe ts\n"
     ]
    }
   ],
   "source": [
    "s2_df_class2018_na_1  = generate_time_series(not_abandoned_collection,'2018-01-01','2018-06-01')"
   ]
  },
  {
   "cell_type": "code",
   "execution_count": 211,
   "id": "1af4b172",
   "metadata": {
    "scrolled": true
   },
   "outputs": [
    {
     "name": "stdout",
     "output_type": "stream",
     "text": [
      "start  collecting satellite  images\n",
      "86\n",
      "0:00:13.891000\n",
      "done collecting\n",
      "start  calculating ts\n",
      "0:00:01.906000\n",
      "done calculating ts\n",
      "4416\n",
      "start  making dataframe ts\n",
      "0:00:41.750000\n",
      "done making dataframe ts\n"
     ]
    }
   ],
   "source": [
    "s2_df_class2018_na_2  = generate_time_series(not_abandoned_collection,'2018-06-01','2019-01-01')"
   ]
  },
  {
   "cell_type": "code",
   "execution_count": 214,
   "id": "12487c3b",
   "metadata": {},
   "outputs": [
    {
     "name": "stdout",
     "output_type": "stream",
     "text": [
      "start  collecting satellite  images\n",
      "89\n",
      "0:00:14.125000\n",
      "done collecting\n",
      "start  calculating ts\n",
      "0:00:01.843000\n",
      "done calculating ts\n",
      "2208\n",
      "start  making dataframe ts\n",
      "0:00:40.266000\n",
      "done making dataframe ts\n"
     ]
    }
   ],
   "source": [
    "s2_df_class2019_na = generate_time_series(not_abandoned_collection,'2019-01-01','2019-06-01')"
   ]
  },
  {
   "cell_type": "code",
   "execution_count": 217,
   "id": "0548d18d",
   "metadata": {},
   "outputs": [
    {
     "name": "stdout",
     "output_type": "stream",
     "text": [
      "start  collecting satellite  images\n",
      "55\n",
      "0:00:15.203000\n",
      "done collecting\n",
      "start  calculating ts\n",
      "0:00:01.922000\n",
      "done calculating ts\n",
      "4416\n",
      "start  making dataframe ts\n",
      "0:00:32.390000\n",
      "done making dataframe ts\n"
     ]
    }
   ],
   "source": [
    "s2_df_class2019_na_2 = generate_time_series(not_abandoned_collection,'2019-06-01','2019-09-01')"
   ]
  },
  {
   "cell_type": "code",
   "execution_count": 219,
   "id": "fb20710e",
   "metadata": {},
   "outputs": [
    {
     "name": "stdout",
     "output_type": "stream",
     "text": [
      "start  collecting satellite  images\n",
      "72\n",
      "0:00:17.547000\n",
      "done collecting\n",
      "start  calculating ts\n",
      "0:00:01.922000\n",
      "done calculating ts\n",
      "2208\n",
      "start  making dataframe ts\n",
      "0:00:31.844000\n",
      "done making dataframe ts\n"
     ]
    }
   ],
   "source": [
    "s2_df_class2019_na_3 = generate_time_series(not_abandoned_collection,'2019-09-01','2020-01-01')"
   ]
  },
  {
   "cell_type": "code",
   "execution_count": 225,
   "id": "451aa383",
   "metadata": {},
   "outputs": [
    {
     "name": "stdout",
     "output_type": "stream",
     "text": [
      "start  collecting satellite  images\n",
      "55\n",
      "0:00:14.266000\n",
      "done collecting\n",
      "start  calculating ts\n",
      "0:00:01.734000\n",
      "done calculating ts\n",
      "2208\n",
      "start  making dataframe ts\n",
      "0:00:29.438000\n",
      "done making dataframe ts\n"
     ]
    }
   ],
   "source": [
    "s2_df_class2020_na_1 = generate_time_series(not_abandoned_collection,'2020-06-01','2020-09-01')"
   ]
  },
  {
   "cell_type": "code",
   "execution_count": 227,
   "id": "2e8d6745",
   "metadata": {},
   "outputs": [
    {
     "name": "stdout",
     "output_type": "stream",
     "text": [
      "start  collecting satellite  images\n",
      "71\n",
      "0:00:13.984000\n",
      "done collecting\n",
      "start  calculating ts\n",
      "0:00:01.875000\n",
      "done calculating ts\n",
      "2208\n",
      "start  making dataframe ts\n",
      "0:00:31.063000\n",
      "done making dataframe ts\n"
     ]
    }
   ],
   "source": [
    "s2_df_class2020_na_2 = generate_time_series(not_abandoned_collection,'2020-09-01','2021-01-01')"
   ]
  },
  {
   "cell_type": "code",
   "execution_count": 230,
   "id": "8819d887",
   "metadata": {},
   "outputs": [
    {
     "name": "stdout",
     "output_type": "stream",
     "text": [
      "start  collecting satellite  images\n",
      "310\n",
      "0:00:15.922000\n",
      "done collecting\n",
      "start  calculating ts\n",
      "0:00:01.843000\n",
      "done calculating ts\n"
     ]
    },
    {
     "ename": "KeyboardInterrupt",
     "evalue": "",
     "output_type": "error",
     "traceback": [
      "\u001b[1;31m---------------------------------------------------------------------------\u001b[0m",
      "\u001b[1;31mKeyboardInterrupt\u001b[0m                         Traceback (most recent call last)",
      "\u001b[1;32m~\\AppData\\Local\\Temp/ipykernel_6836/175639603.py\u001b[0m in \u001b[0;36m<module>\u001b[1;34m\u001b[0m\n\u001b[1;32m----> 1\u001b[1;33m \u001b[0ms2_df_class2021_na_1\u001b[0m \u001b[1;33m=\u001b[0m \u001b[0mgenerate_time_series\u001b[0m\u001b[1;33m(\u001b[0m\u001b[0mnot_abandoned_collection\u001b[0m\u001b[1;33m,\u001b[0m\u001b[1;34m'2021-01-01'\u001b[0m\u001b[1;33m,\u001b[0m\u001b[1;34m'2022-06-01'\u001b[0m\u001b[1;33m)\u001b[0m\u001b[1;33m\u001b[0m\u001b[1;33m\u001b[0m\u001b[0m\n\u001b[0m",
      "\u001b[1;32m~\\AppData\\Local\\Temp/ipykernel_6836/1515487539.py\u001b[0m in \u001b[0;36mgenerate_time_series\u001b[1;34m(geometry, startDate, endDate)\u001b[0m\n\u001b[0;32m     39\u001b[0m     \u001b[0mprint\u001b[0m\u001b[1;33m(\u001b[0m\u001b[0mtimedelta\u001b[0m\u001b[1;33m(\u001b[0m\u001b[0mseconds\u001b[0m\u001b[1;33m=\u001b[0m\u001b[0mend_time\u001b[0m \u001b[1;33m-\u001b[0m \u001b[0mstart_time\u001b[0m\u001b[1;33m)\u001b[0m\u001b[1;33m)\u001b[0m\u001b[1;33m\u001b[0m\u001b[1;33m\u001b[0m\u001b[0m\n\u001b[0;32m     40\u001b[0m     \u001b[0mprint\u001b[0m\u001b[1;33m(\u001b[0m\u001b[1;34m'done calculating ts'\u001b[0m\u001b[1;33m)\u001b[0m\u001b[1;33m\u001b[0m\u001b[1;33m\u001b[0m\u001b[0m\n\u001b[1;32m---> 41\u001b[1;33m     \u001b[0mprint\u001b[0m\u001b[1;33m(\u001b[0m\u001b[0mlen\u001b[0m\u001b[1;33m(\u001b[0m\u001b[0mtime_series\u001b[0m\u001b[1;33m)\u001b[0m\u001b[1;33m)\u001b[0m\u001b[1;33m\u001b[0m\u001b[1;33m\u001b[0m\u001b[0m\n\u001b[0m\u001b[0;32m     42\u001b[0m     \u001b[0mprint\u001b[0m\u001b[1;33m(\u001b[0m\u001b[1;34m'start  making dataframe ts'\u001b[0m\u001b[1;33m)\u001b[0m\u001b[1;33m\u001b[0m\u001b[1;33m\u001b[0m\u001b[0m\n\u001b[0;32m     43\u001b[0m     \u001b[0mstart_time\u001b[0m \u001b[1;33m=\u001b[0m \u001b[0mtime\u001b[0m\u001b[1;33m.\u001b[0m\u001b[0mmonotonic\u001b[0m\u001b[1;33m(\u001b[0m\u001b[1;33m)\u001b[0m\u001b[1;33m\u001b[0m\u001b[1;33m\u001b[0m\u001b[0m\n",
      "\u001b[1;32m~\\anaconda3\\envs\\ml\\lib\\site-packages\\eemont\\featurecollection.py\u001b[0m in \u001b[0;36m__len__\u001b[1;34m(self)\u001b[0m\n\u001b[0;32m     22\u001b[0m         \u001b[0mSize\u001b[0m \u001b[0mof\u001b[0m \u001b[0mthe\u001b[0m \u001b[0mfeature\u001b[0m \u001b[0mcollection\u001b[0m\u001b[1;33m.\u001b[0m\u001b[1;33m\u001b[0m\u001b[1;33m\u001b[0m\u001b[0m\n\u001b[0;32m     23\u001b[0m     \"\"\"\n\u001b[1;32m---> 24\u001b[1;33m     \u001b[1;32mreturn\u001b[0m \u001b[0mself\u001b[0m\u001b[1;33m.\u001b[0m\u001b[0msize\u001b[0m\u001b[1;33m(\u001b[0m\u001b[1;33m)\u001b[0m\u001b[1;33m.\u001b[0m\u001b[0mgetInfo\u001b[0m\u001b[1;33m(\u001b[0m\u001b[1;33m)\u001b[0m\u001b[1;33m\u001b[0m\u001b[1;33m\u001b[0m\u001b[0m\n\u001b[0m\u001b[0;32m     25\u001b[0m \u001b[1;33m\u001b[0m\u001b[0m\n\u001b[0;32m     26\u001b[0m \u001b[1;33m\u001b[0m\u001b[0m\n",
      "\u001b[1;32m~\\anaconda3\\envs\\ml\\lib\\site-packages\\ee\\computedobject.py\u001b[0m in \u001b[0;36mgetInfo\u001b[1;34m(self)\u001b[0m\n\u001b[0;32m     96\u001b[0m       \u001b[0mThe\u001b[0m \u001b[0mobject\u001b[0m \u001b[0mcan\u001b[0m \u001b[0mevaluate\u001b[0m \u001b[0mto\u001b[0m \u001b[0manything\u001b[0m\u001b[1;33m.\u001b[0m\u001b[1;33m\u001b[0m\u001b[1;33m\u001b[0m\u001b[0m\n\u001b[0;32m     97\u001b[0m     \"\"\"\n\u001b[1;32m---> 98\u001b[1;33m     \u001b[1;32mreturn\u001b[0m \u001b[0mdata\u001b[0m\u001b[1;33m.\u001b[0m\u001b[0mcomputeValue\u001b[0m\u001b[1;33m(\u001b[0m\u001b[0mself\u001b[0m\u001b[1;33m)\u001b[0m\u001b[1;33m\u001b[0m\u001b[1;33m\u001b[0m\u001b[0m\n\u001b[0m\u001b[0;32m     99\u001b[0m \u001b[1;33m\u001b[0m\u001b[0m\n\u001b[0;32m    100\u001b[0m   \u001b[1;32mdef\u001b[0m \u001b[0mencode\u001b[0m\u001b[1;33m(\u001b[0m\u001b[0mself\u001b[0m\u001b[1;33m,\u001b[0m \u001b[0mencoder\u001b[0m\u001b[1;33m)\u001b[0m\u001b[1;33m:\u001b[0m\u001b[1;33m\u001b[0m\u001b[1;33m\u001b[0m\u001b[0m\n",
      "\u001b[1;32m~\\anaconda3\\envs\\ml\\lib\\site-packages\\ee\\data.py\u001b[0m in \u001b[0;36mcomputeValue\u001b[1;34m(obj)\u001b[0m\n\u001b[0;32m    733\u001b[0m     \u001b[0mThe\u001b[0m \u001b[0mresult\u001b[0m \u001b[0mof\u001b[0m \u001b[0mevaluating\u001b[0m \u001b[0mthat\u001b[0m \u001b[0mobject\u001b[0m \u001b[0mon\u001b[0m \u001b[0mthe\u001b[0m \u001b[0mserver\u001b[0m\u001b[1;33m.\u001b[0m\u001b[1;33m\u001b[0m\u001b[1;33m\u001b[0m\u001b[0m\n\u001b[0;32m    734\u001b[0m   \"\"\"\n\u001b[1;32m--> 735\u001b[1;33m   return _execute_cloud_call(\n\u001b[0m\u001b[0;32m    736\u001b[0m       _get_cloud_api_resource().projects().value().compute(\n\u001b[0;32m    737\u001b[0m           \u001b[0mbody\u001b[0m\u001b[1;33m=\u001b[0m\u001b[1;33m{\u001b[0m\u001b[1;34m'expression'\u001b[0m\u001b[1;33m:\u001b[0m \u001b[0mserializer\u001b[0m\u001b[1;33m.\u001b[0m\u001b[0mencode\u001b[0m\u001b[1;33m(\u001b[0m\u001b[0mobj\u001b[0m\u001b[1;33m,\u001b[0m \u001b[0mfor_cloud_api\u001b[0m\u001b[1;33m=\u001b[0m\u001b[1;32mTrue\u001b[0m\u001b[1;33m)\u001b[0m\u001b[1;33m}\u001b[0m\u001b[1;33m,\u001b[0m\u001b[1;33m\u001b[0m\u001b[1;33m\u001b[0m\u001b[0m\n",
      "\u001b[1;32m~\\anaconda3\\envs\\ml\\lib\\site-packages\\ee\\data.py\u001b[0m in \u001b[0;36m_execute_cloud_call\u001b[1;34m(call, num_retries)\u001b[0m\n\u001b[0;32m    328\u001b[0m   \"\"\"\n\u001b[0;32m    329\u001b[0m   \u001b[1;32mtry\u001b[0m\u001b[1;33m:\u001b[0m\u001b[1;33m\u001b[0m\u001b[1;33m\u001b[0m\u001b[0m\n\u001b[1;32m--> 330\u001b[1;33m     \u001b[1;32mreturn\u001b[0m \u001b[0mcall\u001b[0m\u001b[1;33m.\u001b[0m\u001b[0mexecute\u001b[0m\u001b[1;33m(\u001b[0m\u001b[0mnum_retries\u001b[0m\u001b[1;33m=\u001b[0m\u001b[0mnum_retries\u001b[0m\u001b[1;33m)\u001b[0m\u001b[1;33m\u001b[0m\u001b[1;33m\u001b[0m\u001b[0m\n\u001b[0m\u001b[0;32m    331\u001b[0m   \u001b[1;32mexcept\u001b[0m \u001b[0mgoogleapiclient\u001b[0m\u001b[1;33m.\u001b[0m\u001b[0merrors\u001b[0m\u001b[1;33m.\u001b[0m\u001b[0mHttpError\u001b[0m \u001b[1;32mas\u001b[0m \u001b[0me\u001b[0m\u001b[1;33m:\u001b[0m\u001b[1;33m\u001b[0m\u001b[1;33m\u001b[0m\u001b[0m\n\u001b[0;32m    332\u001b[0m     \u001b[1;32mraise\u001b[0m \u001b[0m_translate_cloud_exception\u001b[0m\u001b[1;33m(\u001b[0m\u001b[0me\u001b[0m\u001b[1;33m)\u001b[0m\u001b[1;33m\u001b[0m\u001b[1;33m\u001b[0m\u001b[0m\n",
      "\u001b[1;32m~\\anaconda3\\envs\\ml\\lib\\site-packages\\googleapiclient\\_helpers.py\u001b[0m in \u001b[0;36mpositional_wrapper\u001b[1;34m(*args, **kwargs)\u001b[0m\n\u001b[0;32m    132\u001b[0m                 \u001b[1;32melif\u001b[0m \u001b[0mpositional_parameters_enforcement\u001b[0m \u001b[1;33m==\u001b[0m \u001b[0mPOSITIONAL_WARNING\u001b[0m\u001b[1;33m:\u001b[0m\u001b[1;33m\u001b[0m\u001b[1;33m\u001b[0m\u001b[0m\n\u001b[0;32m    133\u001b[0m                     \u001b[0mlogger\u001b[0m\u001b[1;33m.\u001b[0m\u001b[0mwarning\u001b[0m\u001b[1;33m(\u001b[0m\u001b[0mmessage\u001b[0m\u001b[1;33m)\u001b[0m\u001b[1;33m\u001b[0m\u001b[1;33m\u001b[0m\u001b[0m\n\u001b[1;32m--> 134\u001b[1;33m             \u001b[1;32mreturn\u001b[0m \u001b[0mwrapped\u001b[0m\u001b[1;33m(\u001b[0m\u001b[1;33m*\u001b[0m\u001b[0margs\u001b[0m\u001b[1;33m,\u001b[0m \u001b[1;33m**\u001b[0m\u001b[0mkwargs\u001b[0m\u001b[1;33m)\u001b[0m\u001b[1;33m\u001b[0m\u001b[1;33m\u001b[0m\u001b[0m\n\u001b[0m\u001b[0;32m    135\u001b[0m \u001b[1;33m\u001b[0m\u001b[0m\n\u001b[0;32m    136\u001b[0m         \u001b[1;32mreturn\u001b[0m \u001b[0mpositional_wrapper\u001b[0m\u001b[1;33m\u001b[0m\u001b[1;33m\u001b[0m\u001b[0m\n",
      "\u001b[1;32m~\\anaconda3\\envs\\ml\\lib\\site-packages\\googleapiclient\\http.py\u001b[0m in \u001b[0;36mexecute\u001b[1;34m(self, http, num_retries)\u001b[0m\n\u001b[0;32m    898\u001b[0m \u001b[1;33m\u001b[0m\u001b[0m\n\u001b[0;32m    899\u001b[0m         \u001b[1;31m# Handle retries for server-side errors.\u001b[0m\u001b[1;33m\u001b[0m\u001b[1;33m\u001b[0m\u001b[1;33m\u001b[0m\u001b[0m\n\u001b[1;32m--> 900\u001b[1;33m         resp, content = _retry_request(\n\u001b[0m\u001b[0;32m    901\u001b[0m             \u001b[0mhttp\u001b[0m\u001b[1;33m,\u001b[0m\u001b[1;33m\u001b[0m\u001b[1;33m\u001b[0m\u001b[0m\n\u001b[0;32m    902\u001b[0m             \u001b[0mnum_retries\u001b[0m\u001b[1;33m,\u001b[0m\u001b[1;33m\u001b[0m\u001b[1;33m\u001b[0m\u001b[0m\n",
      "\u001b[1;32m~\\anaconda3\\envs\\ml\\lib\\site-packages\\googleapiclient\\http.py\u001b[0m in \u001b[0;36m_retry_request\u001b[1;34m(http, num_retries, req_type, sleep, rand, uri, method, *args, **kwargs)\u001b[0m\n\u001b[0;32m    175\u001b[0m         \u001b[1;32mtry\u001b[0m\u001b[1;33m:\u001b[0m\u001b[1;33m\u001b[0m\u001b[1;33m\u001b[0m\u001b[0m\n\u001b[0;32m    176\u001b[0m             \u001b[0mexception\u001b[0m \u001b[1;33m=\u001b[0m \u001b[1;32mNone\u001b[0m\u001b[1;33m\u001b[0m\u001b[1;33m\u001b[0m\u001b[0m\n\u001b[1;32m--> 177\u001b[1;33m             \u001b[0mresp\u001b[0m\u001b[1;33m,\u001b[0m \u001b[0mcontent\u001b[0m \u001b[1;33m=\u001b[0m \u001b[0mhttp\u001b[0m\u001b[1;33m.\u001b[0m\u001b[0mrequest\u001b[0m\u001b[1;33m(\u001b[0m\u001b[0muri\u001b[0m\u001b[1;33m,\u001b[0m \u001b[0mmethod\u001b[0m\u001b[1;33m,\u001b[0m \u001b[1;33m*\u001b[0m\u001b[0margs\u001b[0m\u001b[1;33m,\u001b[0m \u001b[1;33m**\u001b[0m\u001b[0mkwargs\u001b[0m\u001b[1;33m)\u001b[0m\u001b[1;33m\u001b[0m\u001b[1;33m\u001b[0m\u001b[0m\n\u001b[0m\u001b[0;32m    178\u001b[0m         \u001b[1;31m# Retry on SSL errors and socket timeout errors.\u001b[0m\u001b[1;33m\u001b[0m\u001b[1;33m\u001b[0m\u001b[1;33m\u001b[0m\u001b[0m\n\u001b[0;32m    179\u001b[0m         \u001b[1;32mexcept\u001b[0m \u001b[0m_ssl_SSLError\u001b[0m \u001b[1;32mas\u001b[0m \u001b[0mssl_error\u001b[0m\u001b[1;33m:\u001b[0m\u001b[1;33m\u001b[0m\u001b[1;33m\u001b[0m\u001b[0m\n",
      "\u001b[1;32m~\\anaconda3\\envs\\ml\\lib\\site-packages\\google_auth_httplib2.py\u001b[0m in \u001b[0;36mrequest\u001b[1;34m(self, uri, method, body, headers, redirections, connection_type, **kwargs)\u001b[0m\n\u001b[0;32m    216\u001b[0m \u001b[1;33m\u001b[0m\u001b[0m\n\u001b[0;32m    217\u001b[0m         \u001b[1;31m# Make the request.\u001b[0m\u001b[1;33m\u001b[0m\u001b[1;33m\u001b[0m\u001b[1;33m\u001b[0m\u001b[0m\n\u001b[1;32m--> 218\u001b[1;33m         response, content = self.http.request(\n\u001b[0m\u001b[0;32m    219\u001b[0m             \u001b[0muri\u001b[0m\u001b[1;33m,\u001b[0m\u001b[1;33m\u001b[0m\u001b[1;33m\u001b[0m\u001b[0m\n\u001b[0;32m    220\u001b[0m             \u001b[0mmethod\u001b[0m\u001b[1;33m,\u001b[0m\u001b[1;33m\u001b[0m\u001b[1;33m\u001b[0m\u001b[0m\n",
      "\u001b[1;32m~\\anaconda3\\envs\\ml\\lib\\site-packages\\httplib2\\__init__.py\u001b[0m in \u001b[0;36mrequest\u001b[1;34m(self, uri, method, body, headers, redirections, connection_type)\u001b[0m\n\u001b[0;32m   1699\u001b[0m                     \u001b[0mcontent\u001b[0m \u001b[1;33m=\u001b[0m \u001b[1;34mb\"\"\u001b[0m\u001b[1;33m\u001b[0m\u001b[1;33m\u001b[0m\u001b[0m\n\u001b[0;32m   1700\u001b[0m                 \u001b[1;32melse\u001b[0m\u001b[1;33m:\u001b[0m\u001b[1;33m\u001b[0m\u001b[1;33m\u001b[0m\u001b[0m\n\u001b[1;32m-> 1701\u001b[1;33m                     (response, content) = self._request(\n\u001b[0m\u001b[0;32m   1702\u001b[0m                         \u001b[0mconn\u001b[0m\u001b[1;33m,\u001b[0m \u001b[0mauthority\u001b[0m\u001b[1;33m,\u001b[0m \u001b[0muri\u001b[0m\u001b[1;33m,\u001b[0m \u001b[0mrequest_uri\u001b[0m\u001b[1;33m,\u001b[0m \u001b[0mmethod\u001b[0m\u001b[1;33m,\u001b[0m \u001b[0mbody\u001b[0m\u001b[1;33m,\u001b[0m \u001b[0mheaders\u001b[0m\u001b[1;33m,\u001b[0m \u001b[0mredirections\u001b[0m\u001b[1;33m,\u001b[0m \u001b[0mcachekey\u001b[0m\u001b[1;33m,\u001b[0m\u001b[1;33m\u001b[0m\u001b[1;33m\u001b[0m\u001b[0m\n\u001b[0;32m   1703\u001b[0m                     )\n",
      "\u001b[1;32m~\\anaconda3\\envs\\ml\\lib\\site-packages\\httplib2\\__init__.py\u001b[0m in \u001b[0;36m_request\u001b[1;34m(self, conn, host, absolute_uri, request_uri, method, body, headers, redirections, cachekey)\u001b[0m\n\u001b[0;32m   1419\u001b[0m             \u001b[0mauth\u001b[0m\u001b[1;33m.\u001b[0m\u001b[0mrequest\u001b[0m\u001b[1;33m(\u001b[0m\u001b[0mmethod\u001b[0m\u001b[1;33m,\u001b[0m \u001b[0mrequest_uri\u001b[0m\u001b[1;33m,\u001b[0m \u001b[0mheaders\u001b[0m\u001b[1;33m,\u001b[0m \u001b[0mbody\u001b[0m\u001b[1;33m)\u001b[0m\u001b[1;33m\u001b[0m\u001b[1;33m\u001b[0m\u001b[0m\n\u001b[0;32m   1420\u001b[0m \u001b[1;33m\u001b[0m\u001b[0m\n\u001b[1;32m-> 1421\u001b[1;33m         \u001b[1;33m(\u001b[0m\u001b[0mresponse\u001b[0m\u001b[1;33m,\u001b[0m \u001b[0mcontent\u001b[0m\u001b[1;33m)\u001b[0m \u001b[1;33m=\u001b[0m \u001b[0mself\u001b[0m\u001b[1;33m.\u001b[0m\u001b[0m_conn_request\u001b[0m\u001b[1;33m(\u001b[0m\u001b[0mconn\u001b[0m\u001b[1;33m,\u001b[0m \u001b[0mrequest_uri\u001b[0m\u001b[1;33m,\u001b[0m \u001b[0mmethod\u001b[0m\u001b[1;33m,\u001b[0m \u001b[0mbody\u001b[0m\u001b[1;33m,\u001b[0m \u001b[0mheaders\u001b[0m\u001b[1;33m)\u001b[0m\u001b[1;33m\u001b[0m\u001b[1;33m\u001b[0m\u001b[0m\n\u001b[0m\u001b[0;32m   1422\u001b[0m \u001b[1;33m\u001b[0m\u001b[0m\n\u001b[0;32m   1423\u001b[0m         \u001b[1;32mif\u001b[0m \u001b[0mauth\u001b[0m\u001b[1;33m:\u001b[0m\u001b[1;33m\u001b[0m\u001b[1;33m\u001b[0m\u001b[0m\n",
      "\u001b[1;32m~\\anaconda3\\envs\\ml\\lib\\site-packages\\httplib2shim\\__init__.py\u001b[0m in \u001b[0;36m_conn_request\u001b[1;34m(self, conn, request_uri, method, body, headers)\u001b[0m\n\u001b[0;32m    138\u001b[0m \u001b[1;33m\u001b[0m\u001b[0m\n\u001b[0;32m    139\u001b[0m         \u001b[1;32mtry\u001b[0m\u001b[1;33m:\u001b[0m\u001b[1;33m\u001b[0m\u001b[1;33m\u001b[0m\u001b[0m\n\u001b[1;32m--> 140\u001b[1;33m             urllib3_response = self.pool.request(\n\u001b[0m\u001b[0;32m    141\u001b[0m                 \u001b[0mmethod\u001b[0m\u001b[1;33m,\u001b[0m\u001b[1;33m\u001b[0m\u001b[1;33m\u001b[0m\u001b[0m\n\u001b[0;32m    142\u001b[0m                 \u001b[0mfull_uri\u001b[0m\u001b[1;33m,\u001b[0m\u001b[1;33m\u001b[0m\u001b[1;33m\u001b[0m\u001b[0m\n",
      "\u001b[1;32m~\\anaconda3\\envs\\ml\\lib\\site-packages\\urllib3\\request.py\u001b[0m in \u001b[0;36mrequest\u001b[1;34m(self, method, url, fields, headers, **urlopen_kw)\u001b[0m\n\u001b[0;32m     76\u001b[0m             )\n\u001b[0;32m     77\u001b[0m         \u001b[1;32melse\u001b[0m\u001b[1;33m:\u001b[0m\u001b[1;33m\u001b[0m\u001b[1;33m\u001b[0m\u001b[0m\n\u001b[1;32m---> 78\u001b[1;33m             return self.request_encode_body(\n\u001b[0m\u001b[0;32m     79\u001b[0m                 \u001b[0mmethod\u001b[0m\u001b[1;33m,\u001b[0m \u001b[0murl\u001b[0m\u001b[1;33m,\u001b[0m \u001b[0mfields\u001b[0m\u001b[1;33m=\u001b[0m\u001b[0mfields\u001b[0m\u001b[1;33m,\u001b[0m \u001b[0mheaders\u001b[0m\u001b[1;33m=\u001b[0m\u001b[0mheaders\u001b[0m\u001b[1;33m,\u001b[0m \u001b[1;33m**\u001b[0m\u001b[0murlopen_kw\u001b[0m\u001b[1;33m\u001b[0m\u001b[1;33m\u001b[0m\u001b[0m\n\u001b[0;32m     80\u001b[0m             )\n",
      "\u001b[1;32m~\\anaconda3\\envs\\ml\\lib\\site-packages\\urllib3\\request.py\u001b[0m in \u001b[0;36mrequest_encode_body\u001b[1;34m(self, method, url, fields, headers, encode_multipart, multipart_boundary, **urlopen_kw)\u001b[0m\n\u001b[0;32m    168\u001b[0m         \u001b[0mextra_kw\u001b[0m\u001b[1;33m.\u001b[0m\u001b[0mupdate\u001b[0m\u001b[1;33m(\u001b[0m\u001b[0murlopen_kw\u001b[0m\u001b[1;33m)\u001b[0m\u001b[1;33m\u001b[0m\u001b[1;33m\u001b[0m\u001b[0m\n\u001b[0;32m    169\u001b[0m \u001b[1;33m\u001b[0m\u001b[0m\n\u001b[1;32m--> 170\u001b[1;33m         \u001b[1;32mreturn\u001b[0m \u001b[0mself\u001b[0m\u001b[1;33m.\u001b[0m\u001b[0murlopen\u001b[0m\u001b[1;33m(\u001b[0m\u001b[0mmethod\u001b[0m\u001b[1;33m,\u001b[0m \u001b[0murl\u001b[0m\u001b[1;33m,\u001b[0m \u001b[1;33m**\u001b[0m\u001b[0mextra_kw\u001b[0m\u001b[1;33m)\u001b[0m\u001b[1;33m\u001b[0m\u001b[1;33m\u001b[0m\u001b[0m\n\u001b[0m",
      "\u001b[1;32m~\\anaconda3\\envs\\ml\\lib\\site-packages\\urllib3\\poolmanager.py\u001b[0m in \u001b[0;36murlopen\u001b[1;34m(self, method, url, redirect, **kw)\u001b[0m\n\u001b[0;32m    373\u001b[0m             \u001b[0mresponse\u001b[0m \u001b[1;33m=\u001b[0m \u001b[0mconn\u001b[0m\u001b[1;33m.\u001b[0m\u001b[0murlopen\u001b[0m\u001b[1;33m(\u001b[0m\u001b[0mmethod\u001b[0m\u001b[1;33m,\u001b[0m \u001b[0murl\u001b[0m\u001b[1;33m,\u001b[0m \u001b[1;33m**\u001b[0m\u001b[0mkw\u001b[0m\u001b[1;33m)\u001b[0m\u001b[1;33m\u001b[0m\u001b[1;33m\u001b[0m\u001b[0m\n\u001b[0;32m    374\u001b[0m         \u001b[1;32melse\u001b[0m\u001b[1;33m:\u001b[0m\u001b[1;33m\u001b[0m\u001b[1;33m\u001b[0m\u001b[0m\n\u001b[1;32m--> 375\u001b[1;33m             \u001b[0mresponse\u001b[0m \u001b[1;33m=\u001b[0m \u001b[0mconn\u001b[0m\u001b[1;33m.\u001b[0m\u001b[0murlopen\u001b[0m\u001b[1;33m(\u001b[0m\u001b[0mmethod\u001b[0m\u001b[1;33m,\u001b[0m \u001b[0mu\u001b[0m\u001b[1;33m.\u001b[0m\u001b[0mrequest_uri\u001b[0m\u001b[1;33m,\u001b[0m \u001b[1;33m**\u001b[0m\u001b[0mkw\u001b[0m\u001b[1;33m)\u001b[0m\u001b[1;33m\u001b[0m\u001b[1;33m\u001b[0m\u001b[0m\n\u001b[0m\u001b[0;32m    376\u001b[0m \u001b[1;33m\u001b[0m\u001b[0m\n\u001b[0;32m    377\u001b[0m         \u001b[0mredirect_location\u001b[0m \u001b[1;33m=\u001b[0m \u001b[0mredirect\u001b[0m \u001b[1;32mand\u001b[0m \u001b[0mresponse\u001b[0m\u001b[1;33m.\u001b[0m\u001b[0mget_redirect_location\u001b[0m\u001b[1;33m(\u001b[0m\u001b[1;33m)\u001b[0m\u001b[1;33m\u001b[0m\u001b[1;33m\u001b[0m\u001b[0m\n",
      "\u001b[1;32m~\\anaconda3\\envs\\ml\\lib\\site-packages\\urllib3\\connectionpool.py\u001b[0m in \u001b[0;36murlopen\u001b[1;34m(self, method, url, body, headers, retries, redirect, assert_same_host, timeout, pool_timeout, release_conn, chunked, body_pos, **response_kw)\u001b[0m\n\u001b[0;32m    697\u001b[0m \u001b[1;33m\u001b[0m\u001b[0m\n\u001b[0;32m    698\u001b[0m             \u001b[1;31m# Make the request on the httplib connection object.\u001b[0m\u001b[1;33m\u001b[0m\u001b[1;33m\u001b[0m\u001b[1;33m\u001b[0m\u001b[0m\n\u001b[1;32m--> 699\u001b[1;33m             httplib_response = self._make_request(\n\u001b[0m\u001b[0;32m    700\u001b[0m                 \u001b[0mconn\u001b[0m\u001b[1;33m,\u001b[0m\u001b[1;33m\u001b[0m\u001b[1;33m\u001b[0m\u001b[0m\n\u001b[0;32m    701\u001b[0m                 \u001b[0mmethod\u001b[0m\u001b[1;33m,\u001b[0m\u001b[1;33m\u001b[0m\u001b[1;33m\u001b[0m\u001b[0m\n",
      "\u001b[1;32m~\\anaconda3\\envs\\ml\\lib\\site-packages\\urllib3\\connectionpool.py\u001b[0m in \u001b[0;36m_make_request\u001b[1;34m(self, conn, method, url, timeout, chunked, **httplib_request_kw)\u001b[0m\n\u001b[0;32m    443\u001b[0m                     \u001b[1;31m# Python 3 (including for exceptions like SystemExit).\u001b[0m\u001b[1;33m\u001b[0m\u001b[1;33m\u001b[0m\u001b[1;33m\u001b[0m\u001b[0m\n\u001b[0;32m    444\u001b[0m                     \u001b[1;31m# Otherwise it looks like a bug in the code.\u001b[0m\u001b[1;33m\u001b[0m\u001b[1;33m\u001b[0m\u001b[1;33m\u001b[0m\u001b[0m\n\u001b[1;32m--> 445\u001b[1;33m                     \u001b[0msix\u001b[0m\u001b[1;33m.\u001b[0m\u001b[0mraise_from\u001b[0m\u001b[1;33m(\u001b[0m\u001b[0me\u001b[0m\u001b[1;33m,\u001b[0m \u001b[1;32mNone\u001b[0m\u001b[1;33m)\u001b[0m\u001b[1;33m\u001b[0m\u001b[1;33m\u001b[0m\u001b[0m\n\u001b[0m\u001b[0;32m    446\u001b[0m         \u001b[1;32mexcept\u001b[0m \u001b[1;33m(\u001b[0m\u001b[0mSocketTimeout\u001b[0m\u001b[1;33m,\u001b[0m \u001b[0mBaseSSLError\u001b[0m\u001b[1;33m,\u001b[0m \u001b[0mSocketError\u001b[0m\u001b[1;33m)\u001b[0m \u001b[1;32mas\u001b[0m \u001b[0me\u001b[0m\u001b[1;33m:\u001b[0m\u001b[1;33m\u001b[0m\u001b[1;33m\u001b[0m\u001b[0m\n\u001b[0;32m    447\u001b[0m             \u001b[0mself\u001b[0m\u001b[1;33m.\u001b[0m\u001b[0m_raise_timeout\u001b[0m\u001b[1;33m(\u001b[0m\u001b[0merr\u001b[0m\u001b[1;33m=\u001b[0m\u001b[0me\u001b[0m\u001b[1;33m,\u001b[0m \u001b[0murl\u001b[0m\u001b[1;33m=\u001b[0m\u001b[0murl\u001b[0m\u001b[1;33m,\u001b[0m \u001b[0mtimeout_value\u001b[0m\u001b[1;33m=\u001b[0m\u001b[0mread_timeout\u001b[0m\u001b[1;33m)\u001b[0m\u001b[1;33m\u001b[0m\u001b[1;33m\u001b[0m\u001b[0m\n",
      "\u001b[1;32m~\\anaconda3\\envs\\ml\\lib\\site-packages\\urllib3\\packages\\six.py\u001b[0m in \u001b[0;36mraise_from\u001b[1;34m(value, from_value)\u001b[0m\n",
      "\u001b[1;32m~\\anaconda3\\envs\\ml\\lib\\site-packages\\urllib3\\connectionpool.py\u001b[0m in \u001b[0;36m_make_request\u001b[1;34m(self, conn, method, url, timeout, chunked, **httplib_request_kw)\u001b[0m\n\u001b[0;32m    438\u001b[0m                 \u001b[1;31m# Python 3\u001b[0m\u001b[1;33m\u001b[0m\u001b[1;33m\u001b[0m\u001b[1;33m\u001b[0m\u001b[0m\n\u001b[0;32m    439\u001b[0m                 \u001b[1;32mtry\u001b[0m\u001b[1;33m:\u001b[0m\u001b[1;33m\u001b[0m\u001b[1;33m\u001b[0m\u001b[0m\n\u001b[1;32m--> 440\u001b[1;33m                     \u001b[0mhttplib_response\u001b[0m \u001b[1;33m=\u001b[0m \u001b[0mconn\u001b[0m\u001b[1;33m.\u001b[0m\u001b[0mgetresponse\u001b[0m\u001b[1;33m(\u001b[0m\u001b[1;33m)\u001b[0m\u001b[1;33m\u001b[0m\u001b[1;33m\u001b[0m\u001b[0m\n\u001b[0m\u001b[0;32m    441\u001b[0m                 \u001b[1;32mexcept\u001b[0m \u001b[0mBaseException\u001b[0m \u001b[1;32mas\u001b[0m \u001b[0me\u001b[0m\u001b[1;33m:\u001b[0m\u001b[1;33m\u001b[0m\u001b[1;33m\u001b[0m\u001b[0m\n\u001b[0;32m    442\u001b[0m                     \u001b[1;31m# Remove the TypeError from the exception chain in\u001b[0m\u001b[1;33m\u001b[0m\u001b[1;33m\u001b[0m\u001b[1;33m\u001b[0m\u001b[0m\n",
      "\u001b[1;32m~\\anaconda3\\envs\\ml\\lib\\http\\client.py\u001b[0m in \u001b[0;36mgetresponse\u001b[1;34m(self)\u001b[0m\n\u001b[0;32m   1345\u001b[0m         \u001b[1;32mtry\u001b[0m\u001b[1;33m:\u001b[0m\u001b[1;33m\u001b[0m\u001b[1;33m\u001b[0m\u001b[0m\n\u001b[0;32m   1346\u001b[0m             \u001b[1;32mtry\u001b[0m\u001b[1;33m:\u001b[0m\u001b[1;33m\u001b[0m\u001b[1;33m\u001b[0m\u001b[0m\n\u001b[1;32m-> 1347\u001b[1;33m                 \u001b[0mresponse\u001b[0m\u001b[1;33m.\u001b[0m\u001b[0mbegin\u001b[0m\u001b[1;33m(\u001b[0m\u001b[1;33m)\u001b[0m\u001b[1;33m\u001b[0m\u001b[1;33m\u001b[0m\u001b[0m\n\u001b[0m\u001b[0;32m   1348\u001b[0m             \u001b[1;32mexcept\u001b[0m \u001b[0mConnectionError\u001b[0m\u001b[1;33m:\u001b[0m\u001b[1;33m\u001b[0m\u001b[1;33m\u001b[0m\u001b[0m\n\u001b[0;32m   1349\u001b[0m                 \u001b[0mself\u001b[0m\u001b[1;33m.\u001b[0m\u001b[0mclose\u001b[0m\u001b[1;33m(\u001b[0m\u001b[1;33m)\u001b[0m\u001b[1;33m\u001b[0m\u001b[1;33m\u001b[0m\u001b[0m\n",
      "\u001b[1;32m~\\anaconda3\\envs\\ml\\lib\\http\\client.py\u001b[0m in \u001b[0;36mbegin\u001b[1;34m(self)\u001b[0m\n\u001b[0;32m    305\u001b[0m         \u001b[1;31m# read until we get a non-100 response\u001b[0m\u001b[1;33m\u001b[0m\u001b[1;33m\u001b[0m\u001b[1;33m\u001b[0m\u001b[0m\n\u001b[0;32m    306\u001b[0m         \u001b[1;32mwhile\u001b[0m \u001b[1;32mTrue\u001b[0m\u001b[1;33m:\u001b[0m\u001b[1;33m\u001b[0m\u001b[1;33m\u001b[0m\u001b[0m\n\u001b[1;32m--> 307\u001b[1;33m             \u001b[0mversion\u001b[0m\u001b[1;33m,\u001b[0m \u001b[0mstatus\u001b[0m\u001b[1;33m,\u001b[0m \u001b[0mreason\u001b[0m \u001b[1;33m=\u001b[0m \u001b[0mself\u001b[0m\u001b[1;33m.\u001b[0m\u001b[0m_read_status\u001b[0m\u001b[1;33m(\u001b[0m\u001b[1;33m)\u001b[0m\u001b[1;33m\u001b[0m\u001b[1;33m\u001b[0m\u001b[0m\n\u001b[0m\u001b[0;32m    308\u001b[0m             \u001b[1;32mif\u001b[0m \u001b[0mstatus\u001b[0m \u001b[1;33m!=\u001b[0m \u001b[0mCONTINUE\u001b[0m\u001b[1;33m:\u001b[0m\u001b[1;33m\u001b[0m\u001b[1;33m\u001b[0m\u001b[0m\n\u001b[0;32m    309\u001b[0m                 \u001b[1;32mbreak\u001b[0m\u001b[1;33m\u001b[0m\u001b[1;33m\u001b[0m\u001b[0m\n",
      "\u001b[1;32m~\\anaconda3\\envs\\ml\\lib\\http\\client.py\u001b[0m in \u001b[0;36m_read_status\u001b[1;34m(self)\u001b[0m\n\u001b[0;32m    266\u001b[0m \u001b[1;33m\u001b[0m\u001b[0m\n\u001b[0;32m    267\u001b[0m     \u001b[1;32mdef\u001b[0m \u001b[0m_read_status\u001b[0m\u001b[1;33m(\u001b[0m\u001b[0mself\u001b[0m\u001b[1;33m)\u001b[0m\u001b[1;33m:\u001b[0m\u001b[1;33m\u001b[0m\u001b[1;33m\u001b[0m\u001b[0m\n\u001b[1;32m--> 268\u001b[1;33m         \u001b[0mline\u001b[0m \u001b[1;33m=\u001b[0m \u001b[0mstr\u001b[0m\u001b[1;33m(\u001b[0m\u001b[0mself\u001b[0m\u001b[1;33m.\u001b[0m\u001b[0mfp\u001b[0m\u001b[1;33m.\u001b[0m\u001b[0mreadline\u001b[0m\u001b[1;33m(\u001b[0m\u001b[0m_MAXLINE\u001b[0m \u001b[1;33m+\u001b[0m \u001b[1;36m1\u001b[0m\u001b[1;33m)\u001b[0m\u001b[1;33m,\u001b[0m \u001b[1;34m\"iso-8859-1\"\u001b[0m\u001b[1;33m)\u001b[0m\u001b[1;33m\u001b[0m\u001b[1;33m\u001b[0m\u001b[0m\n\u001b[0m\u001b[0;32m    269\u001b[0m         \u001b[1;32mif\u001b[0m \u001b[0mlen\u001b[0m\u001b[1;33m(\u001b[0m\u001b[0mline\u001b[0m\u001b[1;33m)\u001b[0m \u001b[1;33m>\u001b[0m \u001b[0m_MAXLINE\u001b[0m\u001b[1;33m:\u001b[0m\u001b[1;33m\u001b[0m\u001b[1;33m\u001b[0m\u001b[0m\n\u001b[0;32m    270\u001b[0m             \u001b[1;32mraise\u001b[0m \u001b[0mLineTooLong\u001b[0m\u001b[1;33m(\u001b[0m\u001b[1;34m\"status line\"\u001b[0m\u001b[1;33m)\u001b[0m\u001b[1;33m\u001b[0m\u001b[1;33m\u001b[0m\u001b[0m\n",
      "\u001b[1;32m~\\anaconda3\\envs\\ml\\lib\\socket.py\u001b[0m in \u001b[0;36mreadinto\u001b[1;34m(self, b)\u001b[0m\n\u001b[0;32m    702\u001b[0m         \u001b[1;32mwhile\u001b[0m \u001b[1;32mTrue\u001b[0m\u001b[1;33m:\u001b[0m\u001b[1;33m\u001b[0m\u001b[1;33m\u001b[0m\u001b[0m\n\u001b[0;32m    703\u001b[0m             \u001b[1;32mtry\u001b[0m\u001b[1;33m:\u001b[0m\u001b[1;33m\u001b[0m\u001b[1;33m\u001b[0m\u001b[0m\n\u001b[1;32m--> 704\u001b[1;33m                 \u001b[1;32mreturn\u001b[0m \u001b[0mself\u001b[0m\u001b[1;33m.\u001b[0m\u001b[0m_sock\u001b[0m\u001b[1;33m.\u001b[0m\u001b[0mrecv_into\u001b[0m\u001b[1;33m(\u001b[0m\u001b[0mb\u001b[0m\u001b[1;33m)\u001b[0m\u001b[1;33m\u001b[0m\u001b[1;33m\u001b[0m\u001b[0m\n\u001b[0m\u001b[0;32m    705\u001b[0m             \u001b[1;32mexcept\u001b[0m \u001b[0mtimeout\u001b[0m\u001b[1;33m:\u001b[0m\u001b[1;33m\u001b[0m\u001b[1;33m\u001b[0m\u001b[0m\n\u001b[0;32m    706\u001b[0m                 \u001b[0mself\u001b[0m\u001b[1;33m.\u001b[0m\u001b[0m_timeout_occurred\u001b[0m \u001b[1;33m=\u001b[0m \u001b[1;32mTrue\u001b[0m\u001b[1;33m\u001b[0m\u001b[1;33m\u001b[0m\u001b[0m\n",
      "\u001b[1;32m~\\anaconda3\\envs\\ml\\lib\\ssl.py\u001b[0m in \u001b[0;36mrecv_into\u001b[1;34m(self, buffer, nbytes, flags)\u001b[0m\n\u001b[0;32m   1239\u001b[0m                   \u001b[1;34m\"non-zero flags not allowed in calls to recv_into() on %s\"\u001b[0m \u001b[1;33m%\u001b[0m\u001b[1;33m\u001b[0m\u001b[1;33m\u001b[0m\u001b[0m\n\u001b[0;32m   1240\u001b[0m                   self.__class__)\n\u001b[1;32m-> 1241\u001b[1;33m             \u001b[1;32mreturn\u001b[0m \u001b[0mself\u001b[0m\u001b[1;33m.\u001b[0m\u001b[0mread\u001b[0m\u001b[1;33m(\u001b[0m\u001b[0mnbytes\u001b[0m\u001b[1;33m,\u001b[0m \u001b[0mbuffer\u001b[0m\u001b[1;33m)\u001b[0m\u001b[1;33m\u001b[0m\u001b[1;33m\u001b[0m\u001b[0m\n\u001b[0m\u001b[0;32m   1242\u001b[0m         \u001b[1;32melse\u001b[0m\u001b[1;33m:\u001b[0m\u001b[1;33m\u001b[0m\u001b[1;33m\u001b[0m\u001b[0m\n\u001b[0;32m   1243\u001b[0m             \u001b[1;32mreturn\u001b[0m \u001b[0msuper\u001b[0m\u001b[1;33m(\u001b[0m\u001b[1;33m)\u001b[0m\u001b[1;33m.\u001b[0m\u001b[0mrecv_into\u001b[0m\u001b[1;33m(\u001b[0m\u001b[0mbuffer\u001b[0m\u001b[1;33m,\u001b[0m \u001b[0mnbytes\u001b[0m\u001b[1;33m,\u001b[0m \u001b[0mflags\u001b[0m\u001b[1;33m)\u001b[0m\u001b[1;33m\u001b[0m\u001b[1;33m\u001b[0m\u001b[0m\n",
      "\u001b[1;32m~\\anaconda3\\envs\\ml\\lib\\ssl.py\u001b[0m in \u001b[0;36mread\u001b[1;34m(self, len, buffer)\u001b[0m\n\u001b[0;32m   1097\u001b[0m         \u001b[1;32mtry\u001b[0m\u001b[1;33m:\u001b[0m\u001b[1;33m\u001b[0m\u001b[1;33m\u001b[0m\u001b[0m\n\u001b[0;32m   1098\u001b[0m             \u001b[1;32mif\u001b[0m \u001b[0mbuffer\u001b[0m \u001b[1;32mis\u001b[0m \u001b[1;32mnot\u001b[0m \u001b[1;32mNone\u001b[0m\u001b[1;33m:\u001b[0m\u001b[1;33m\u001b[0m\u001b[1;33m\u001b[0m\u001b[0m\n\u001b[1;32m-> 1099\u001b[1;33m                 \u001b[1;32mreturn\u001b[0m \u001b[0mself\u001b[0m\u001b[1;33m.\u001b[0m\u001b[0m_sslobj\u001b[0m\u001b[1;33m.\u001b[0m\u001b[0mread\u001b[0m\u001b[1;33m(\u001b[0m\u001b[0mlen\u001b[0m\u001b[1;33m,\u001b[0m \u001b[0mbuffer\u001b[0m\u001b[1;33m)\u001b[0m\u001b[1;33m\u001b[0m\u001b[1;33m\u001b[0m\u001b[0m\n\u001b[0m\u001b[0;32m   1100\u001b[0m             \u001b[1;32melse\u001b[0m\u001b[1;33m:\u001b[0m\u001b[1;33m\u001b[0m\u001b[1;33m\u001b[0m\u001b[0m\n\u001b[0;32m   1101\u001b[0m                 \u001b[1;32mreturn\u001b[0m \u001b[0mself\u001b[0m\u001b[1;33m.\u001b[0m\u001b[0m_sslobj\u001b[0m\u001b[1;33m.\u001b[0m\u001b[0mread\u001b[0m\u001b[1;33m(\u001b[0m\u001b[0mlen\u001b[0m\u001b[1;33m)\u001b[0m\u001b[1;33m\u001b[0m\u001b[1;33m\u001b[0m\u001b[0m\n",
      "\u001b[1;31mKeyboardInterrupt\u001b[0m: "
     ]
    }
   ],
   "source": [
    "s2_df_class2021_na_1 = generate_time_series(not_abandoned_collection,'2021-01-01','2021-06-01')"
   ]
  },
  {
   "cell_type": "code",
   "execution_count": null,
   "id": "a16f7d36",
   "metadata": {},
   "outputs": [],
   "source": []
  },
  {
   "cell_type": "code",
   "execution_count": 198,
   "id": "f3a8c878",
   "metadata": {},
   "outputs": [
    {
     "name": "stdout",
     "output_type": "stream",
     "text": [
      "start  collecting satellite  images\n",
      "90\n",
      "0:00:08.406000\n",
      "done collecting\n",
      "start  calculating ts\n",
      "0:00:00.969000\n",
      "done calculating ts\n",
      "1078\n",
      "start  making dataframe ts\n",
      "0:00:33.531000\n",
      "done making dataframe ts\n"
     ]
    }
   ],
   "source": [
    "s2_df_class2019_1  = generate_time_series(abandoned_collection,'2019-01-01','2019-06-01')"
   ]
  },
  {
   "cell_type": "code",
   "execution_count": 199,
   "id": "cd6f9c12",
   "metadata": {},
   "outputs": [
    {
     "data": {
      "text/html": [
       "<div>\n",
       "<style scoped>\n",
       "    .dataframe tbody tr th:only-of-type {\n",
       "        vertical-align: middle;\n",
       "    }\n",
       "\n",
       "    .dataframe tbody tr th {\n",
       "        vertical-align: top;\n",
       "    }\n",
       "\n",
       "    .dataframe thead th {\n",
       "        text-align: right;\n",
       "    }\n",
       "</style>\n",
       "<table border=\"1\" class=\"dataframe\">\n",
       "  <thead>\n",
       "    <tr style=\"text-align: right;\">\n",
       "      <th></th>\n",
       "      <th>date</th>\n",
       "      <th>IBI</th>\n",
       "      <th>VgNIRBI</th>\n",
       "      <th>NDBI</th>\n",
       "      <th>PISI</th>\n",
       "      <th>reducer</th>\n",
       "      <th>NDVI</th>\n",
       "      <th>EMBI</th>\n",
       "      <th>VrNIRBI</th>\n",
       "    </tr>\n",
       "  </thead>\n",
       "  <tbody>\n",
       "    <tr>\n",
       "      <th>0</th>\n",
       "      <td>2019-04-01 09:19:41</td>\n",
       "      <td>-2.665034</td>\n",
       "      <td>-0.144470</td>\n",
       "      <td>0.036319</td>\n",
       "      <td>0.039763</td>\n",
       "      <td>mean</td>\n",
       "      <td>0.128292</td>\n",
       "      <td>-0.048712</td>\n",
       "      <td>-0.128292</td>\n",
       "    </tr>\n",
       "    <tr>\n",
       "      <th>1</th>\n",
       "      <td>2019-04-01 09:19:41</td>\n",
       "      <td>-2.665034</td>\n",
       "      <td>-0.144470</td>\n",
       "      <td>0.036319</td>\n",
       "      <td>0.039763</td>\n",
       "      <td>mean</td>\n",
       "      <td>0.128292</td>\n",
       "      <td>-0.048712</td>\n",
       "      <td>-0.128292</td>\n",
       "    </tr>\n",
       "    <tr>\n",
       "      <th>2</th>\n",
       "      <td>2019-04-01 09:19:41</td>\n",
       "      <td>-2.665034</td>\n",
       "      <td>-0.144470</td>\n",
       "      <td>0.036319</td>\n",
       "      <td>0.039763</td>\n",
       "      <td>mean</td>\n",
       "      <td>0.128292</td>\n",
       "      <td>-0.048712</td>\n",
       "      <td>-0.128292</td>\n",
       "    </tr>\n",
       "    <tr>\n",
       "      <th>3</th>\n",
       "      <td>2019-04-01 09:19:41</td>\n",
       "      <td>-2.665034</td>\n",
       "      <td>-0.144470</td>\n",
       "      <td>0.036319</td>\n",
       "      <td>0.039763</td>\n",
       "      <td>mean</td>\n",
       "      <td>0.128292</td>\n",
       "      <td>-0.048712</td>\n",
       "      <td>-0.128292</td>\n",
       "    </tr>\n",
       "    <tr>\n",
       "      <th>4</th>\n",
       "      <td>2019-04-01 09:19:41</td>\n",
       "      <td>-2.665034</td>\n",
       "      <td>-0.144470</td>\n",
       "      <td>0.036319</td>\n",
       "      <td>0.039763</td>\n",
       "      <td>mean</td>\n",
       "      <td>0.128292</td>\n",
       "      <td>-0.048712</td>\n",
       "      <td>-0.128292</td>\n",
       "    </tr>\n",
       "    <tr>\n",
       "      <th>...</th>\n",
       "      <td>...</td>\n",
       "      <td>...</td>\n",
       "      <td>...</td>\n",
       "      <td>...</td>\n",
       "      <td>...</td>\n",
       "      <td>...</td>\n",
       "      <td>...</td>\n",
       "      <td>...</td>\n",
       "      <td>...</td>\n",
       "    </tr>\n",
       "    <tr>\n",
       "      <th>1073</th>\n",
       "      <td>2019-04-01 09:19:41</td>\n",
       "      <td>-2.665034</td>\n",
       "      <td>-0.144470</td>\n",
       "      <td>0.036319</td>\n",
       "      <td>0.039763</td>\n",
       "      <td>mean</td>\n",
       "      <td>0.128292</td>\n",
       "      <td>-0.048712</td>\n",
       "      <td>-0.128292</td>\n",
       "    </tr>\n",
       "    <tr>\n",
       "      <th>1074</th>\n",
       "      <td>2019-04-01 09:19:41</td>\n",
       "      <td>-4.956279</td>\n",
       "      <td>-0.297294</td>\n",
       "      <td>0.062099</td>\n",
       "      <td>0.021543</td>\n",
       "      <td>mean</td>\n",
       "      <td>0.154266</td>\n",
       "      <td>0.059294</td>\n",
       "      <td>-0.154266</td>\n",
       "    </tr>\n",
       "    <tr>\n",
       "      <th>1075</th>\n",
       "      <td>2019-04-01 09:19:41</td>\n",
       "      <td>-1.452800</td>\n",
       "      <td>-0.171237</td>\n",
       "      <td>-0.019998</td>\n",
       "      <td>0.058868</td>\n",
       "      <td>mean</td>\n",
       "      <td>0.117402</td>\n",
       "      <td>-0.099845</td>\n",
       "      <td>-0.117402</td>\n",
       "    </tr>\n",
       "    <tr>\n",
       "      <th>1076</th>\n",
       "      <td>2019-04-01 09:19:41</td>\n",
       "      <td>-4.759475</td>\n",
       "      <td>-0.355611</td>\n",
       "      <td>-0.008339</td>\n",
       "      <td>0.000485</td>\n",
       "      <td>mean</td>\n",
       "      <td>0.273426</td>\n",
       "      <td>0.046899</td>\n",
       "      <td>-0.273426</td>\n",
       "    </tr>\n",
       "    <tr>\n",
       "      <th>1077</th>\n",
       "      <td>2019-04-01 09:19:41</td>\n",
       "      <td>-4.193531</td>\n",
       "      <td>-0.316609</td>\n",
       "      <td>0.052635</td>\n",
       "      <td>0.020118</td>\n",
       "      <td>mean</td>\n",
       "      <td>0.219312</td>\n",
       "      <td>0.066667</td>\n",
       "      <td>-0.219312</td>\n",
       "    </tr>\n",
       "  </tbody>\n",
       "</table>\n",
       "<p>1078 rows × 9 columns</p>\n",
       "</div>"
      ],
      "text/plain": [
       "                    date       IBI   VgNIRBI      NDBI      PISI reducer  \\\n",
       "0    2019-04-01 09:19:41 -2.665034 -0.144470  0.036319  0.039763    mean   \n",
       "1    2019-04-01 09:19:41 -2.665034 -0.144470  0.036319  0.039763    mean   \n",
       "2    2019-04-01 09:19:41 -2.665034 -0.144470  0.036319  0.039763    mean   \n",
       "3    2019-04-01 09:19:41 -2.665034 -0.144470  0.036319  0.039763    mean   \n",
       "4    2019-04-01 09:19:41 -2.665034 -0.144470  0.036319  0.039763    mean   \n",
       "...                  ...       ...       ...       ...       ...     ...   \n",
       "1073 2019-04-01 09:19:41 -2.665034 -0.144470  0.036319  0.039763    mean   \n",
       "1074 2019-04-01 09:19:41 -4.956279 -0.297294  0.062099  0.021543    mean   \n",
       "1075 2019-04-01 09:19:41 -1.452800 -0.171237 -0.019998  0.058868    mean   \n",
       "1076 2019-04-01 09:19:41 -4.759475 -0.355611 -0.008339  0.000485    mean   \n",
       "1077 2019-04-01 09:19:41 -4.193531 -0.316609  0.052635  0.020118    mean   \n",
       "\n",
       "          NDVI      EMBI   VrNIRBI  \n",
       "0     0.128292 -0.048712 -0.128292  \n",
       "1     0.128292 -0.048712 -0.128292  \n",
       "2     0.128292 -0.048712 -0.128292  \n",
       "3     0.128292 -0.048712 -0.128292  \n",
       "4     0.128292 -0.048712 -0.128292  \n",
       "...        ...       ...       ...  \n",
       "1073  0.128292 -0.048712 -0.128292  \n",
       "1074  0.154266  0.059294 -0.154266  \n",
       "1075  0.117402 -0.099845 -0.117402  \n",
       "1076  0.273426  0.046899 -0.273426  \n",
       "1077  0.219312  0.066667 -0.219312  \n",
       "\n",
       "[1078 rows x 9 columns]"
      ]
     },
     "execution_count": 199,
     "metadata": {},
     "output_type": "execute_result"
    }
   ],
   "source": [
    "s2_df_class2019_1"
   ]
  },
  {
   "cell_type": "code",
   "execution_count": 200,
   "id": "59b05199",
   "metadata": {},
   "outputs": [
    {
     "name": "stdout",
     "output_type": "stream",
     "text": [
      "start  collecting satellite  images\n",
      "125\n",
      "0:00:11.250000\n",
      "done collecting\n",
      "start  calculating ts\n",
      "0:00:01.282000\n",
      "done calculating ts\n",
      "4312\n",
      "start  making dataframe ts\n",
      "0:00:57.546000\n",
      "done making dataframe ts\n"
     ]
    }
   ],
   "source": [
    "s2_df_class2019_2  = generate_time_series(abandoned_collection,'2019-06-01','2020-01-01')"
   ]
  },
  {
   "cell_type": "code",
   "execution_count": 201,
   "id": "8d0290d9",
   "metadata": {},
   "outputs": [
    {
     "data": {
      "text/html": [
       "<div>\n",
       "<style scoped>\n",
       "    .dataframe tbody tr th:only-of-type {\n",
       "        vertical-align: middle;\n",
       "    }\n",
       "\n",
       "    .dataframe tbody tr th {\n",
       "        vertical-align: top;\n",
       "    }\n",
       "\n",
       "    .dataframe thead th {\n",
       "        text-align: right;\n",
       "    }\n",
       "</style>\n",
       "<table border=\"1\" class=\"dataframe\">\n",
       "  <thead>\n",
       "    <tr style=\"text-align: right;\">\n",
       "      <th></th>\n",
       "      <th>date</th>\n",
       "      <th>IBI</th>\n",
       "      <th>VgNIRBI</th>\n",
       "      <th>NDBI</th>\n",
       "      <th>PISI</th>\n",
       "      <th>reducer</th>\n",
       "      <th>NDVI</th>\n",
       "      <th>EMBI</th>\n",
       "      <th>VrNIRBI</th>\n",
       "    </tr>\n",
       "  </thead>\n",
       "  <tbody>\n",
       "    <tr>\n",
       "      <th>0</th>\n",
       "      <td>2019-07-03 09:29:44</td>\n",
       "      <td>-3.198027</td>\n",
       "      <td>-0.167031</td>\n",
       "      <td>0.034317</td>\n",
       "      <td>0.037984</td>\n",
       "      <td>mean</td>\n",
       "      <td>0.133994</td>\n",
       "      <td>-0.034142</td>\n",
       "      <td>-0.133994</td>\n",
       "    </tr>\n",
       "    <tr>\n",
       "      <th>1</th>\n",
       "      <td>2019-07-03 09:29:44</td>\n",
       "      <td>-3.198027</td>\n",
       "      <td>-0.167031</td>\n",
       "      <td>0.034317</td>\n",
       "      <td>0.037984</td>\n",
       "      <td>mean</td>\n",
       "      <td>0.133994</td>\n",
       "      <td>-0.034142</td>\n",
       "      <td>-0.133994</td>\n",
       "    </tr>\n",
       "    <tr>\n",
       "      <th>2</th>\n",
       "      <td>2019-07-03 09:29:44</td>\n",
       "      <td>-3.198027</td>\n",
       "      <td>-0.167031</td>\n",
       "      <td>0.034317</td>\n",
       "      <td>0.037984</td>\n",
       "      <td>mean</td>\n",
       "      <td>0.133994</td>\n",
       "      <td>-0.034142</td>\n",
       "      <td>-0.133994</td>\n",
       "    </tr>\n",
       "    <tr>\n",
       "      <th>3</th>\n",
       "      <td>2019-07-03 09:29:44</td>\n",
       "      <td>-3.198027</td>\n",
       "      <td>-0.167031</td>\n",
       "      <td>0.034317</td>\n",
       "      <td>0.037984</td>\n",
       "      <td>mean</td>\n",
       "      <td>0.133994</td>\n",
       "      <td>-0.034142</td>\n",
       "      <td>-0.133994</td>\n",
       "    </tr>\n",
       "    <tr>\n",
       "      <th>4</th>\n",
       "      <td>2019-07-03 09:29:44</td>\n",
       "      <td>-3.198027</td>\n",
       "      <td>-0.167031</td>\n",
       "      <td>0.034317</td>\n",
       "      <td>0.037984</td>\n",
       "      <td>mean</td>\n",
       "      <td>0.133994</td>\n",
       "      <td>-0.034142</td>\n",
       "      <td>-0.133994</td>\n",
       "    </tr>\n",
       "    <tr>\n",
       "      <th>...</th>\n",
       "      <td>...</td>\n",
       "      <td>...</td>\n",
       "      <td>...</td>\n",
       "      <td>...</td>\n",
       "      <td>...</td>\n",
       "      <td>...</td>\n",
       "      <td>...</td>\n",
       "      <td>...</td>\n",
       "      <td>...</td>\n",
       "    </tr>\n",
       "    <tr>\n",
       "      <th>4307</th>\n",
       "      <td>2019-11-05 09:29:39</td>\n",
       "      <td>-3.198027</td>\n",
       "      <td>-0.167031</td>\n",
       "      <td>0.034317</td>\n",
       "      <td>0.037984</td>\n",
       "      <td>mean</td>\n",
       "      <td>0.133994</td>\n",
       "      <td>-0.034142</td>\n",
       "      <td>-0.133994</td>\n",
       "    </tr>\n",
       "    <tr>\n",
       "      <th>4308</th>\n",
       "      <td>2019-11-05 09:29:39</td>\n",
       "      <td>-0.202991</td>\n",
       "      <td>-0.298985</td>\n",
       "      <td>0.077534</td>\n",
       "      <td>0.034364</td>\n",
       "      <td>mean</td>\n",
       "      <td>0.148457</td>\n",
       "      <td>0.088858</td>\n",
       "      <td>-0.148457</td>\n",
       "    </tr>\n",
       "    <tr>\n",
       "      <th>4309</th>\n",
       "      <td>2019-11-05 09:29:39</td>\n",
       "      <td>1.213720</td>\n",
       "      <td>-0.195799</td>\n",
       "      <td>-0.098057</td>\n",
       "      <td>0.056550</td>\n",
       "      <td>mean</td>\n",
       "      <td>0.109091</td>\n",
       "      <td>-0.145167</td>\n",
       "      <td>-0.109091</td>\n",
       "    </tr>\n",
       "    <tr>\n",
       "      <th>4310</th>\n",
       "      <td>2019-11-05 09:29:39</td>\n",
       "      <td>3.483761</td>\n",
       "      <td>-0.294902</td>\n",
       "      <td>0.000561</td>\n",
       "      <td>0.028298</td>\n",
       "      <td>mean</td>\n",
       "      <td>0.212736</td>\n",
       "      <td>0.014451</td>\n",
       "      <td>-0.212736</td>\n",
       "    </tr>\n",
       "    <tr>\n",
       "      <th>4311</th>\n",
       "      <td>2019-11-05 09:29:39</td>\n",
       "      <td>1.927284</td>\n",
       "      <td>-0.287964</td>\n",
       "      <td>0.071062</td>\n",
       "      <td>0.043225</td>\n",
       "      <td>mean</td>\n",
       "      <td>0.203772</td>\n",
       "      <td>0.076115</td>\n",
       "      <td>-0.203772</td>\n",
       "    </tr>\n",
       "  </tbody>\n",
       "</table>\n",
       "<p>4312 rows × 9 columns</p>\n",
       "</div>"
      ],
      "text/plain": [
       "                    date       IBI   VgNIRBI      NDBI      PISI reducer  \\\n",
       "0    2019-07-03 09:29:44 -3.198027 -0.167031  0.034317  0.037984    mean   \n",
       "1    2019-07-03 09:29:44 -3.198027 -0.167031  0.034317  0.037984    mean   \n",
       "2    2019-07-03 09:29:44 -3.198027 -0.167031  0.034317  0.037984    mean   \n",
       "3    2019-07-03 09:29:44 -3.198027 -0.167031  0.034317  0.037984    mean   \n",
       "4    2019-07-03 09:29:44 -3.198027 -0.167031  0.034317  0.037984    mean   \n",
       "...                  ...       ...       ...       ...       ...     ...   \n",
       "4307 2019-11-05 09:29:39 -3.198027 -0.167031  0.034317  0.037984    mean   \n",
       "4308 2019-11-05 09:29:39 -0.202991 -0.298985  0.077534  0.034364    mean   \n",
       "4309 2019-11-05 09:29:39  1.213720 -0.195799 -0.098057  0.056550    mean   \n",
       "4310 2019-11-05 09:29:39  3.483761 -0.294902  0.000561  0.028298    mean   \n",
       "4311 2019-11-05 09:29:39  1.927284 -0.287964  0.071062  0.043225    mean   \n",
       "\n",
       "          NDVI      EMBI   VrNIRBI  \n",
       "0     0.133994 -0.034142 -0.133994  \n",
       "1     0.133994 -0.034142 -0.133994  \n",
       "2     0.133994 -0.034142 -0.133994  \n",
       "3     0.133994 -0.034142 -0.133994  \n",
       "4     0.133994 -0.034142 -0.133994  \n",
       "...        ...       ...       ...  \n",
       "4307  0.133994 -0.034142 -0.133994  \n",
       "4308  0.148457  0.088858 -0.148457  \n",
       "4309  0.109091 -0.145167 -0.109091  \n",
       "4310  0.212736  0.014451 -0.212736  \n",
       "4311  0.203772  0.076115 -0.203772  \n",
       "\n",
       "[4312 rows x 9 columns]"
      ]
     },
     "execution_count": 201,
     "metadata": {},
     "output_type": "execute_result"
    }
   ],
   "source": [
    "s2_df_class2019_2"
   ]
  },
  {
   "cell_type": "code",
   "execution_count": 202,
   "id": "1d8bc428",
   "metadata": {},
   "outputs": [
    {
     "name": "stdout",
     "output_type": "stream",
     "text": [
      "start  collecting satellite  images\n",
      "214\n",
      "0:00:11.703000\n",
      "done collecting\n",
      "start  calculating ts\n",
      "0:00:00.797000\n",
      "done calculating ts\n",
      "3234\n",
      "start  making dataframe ts\n",
      "0:02:00.453000\n",
      "done making dataframe ts\n"
     ]
    }
   ],
   "source": [
    "s2_df_class2020  = generate_time_series(abandoned_collection,'2020-01-01','2021-01-01')"
   ]
  },
  {
   "cell_type": "code",
   "execution_count": 203,
   "id": "f610c5fa",
   "metadata": {},
   "outputs": [
    {
     "data": {
      "text/html": [
       "<div>\n",
       "<style scoped>\n",
       "    .dataframe tbody tr th:only-of-type {\n",
       "        vertical-align: middle;\n",
       "    }\n",
       "\n",
       "    .dataframe tbody tr th {\n",
       "        vertical-align: top;\n",
       "    }\n",
       "\n",
       "    .dataframe thead th {\n",
       "        text-align: right;\n",
       "    }\n",
       "</style>\n",
       "<table border=\"1\" class=\"dataframe\">\n",
       "  <thead>\n",
       "    <tr style=\"text-align: right;\">\n",
       "      <th></th>\n",
       "      <th>date</th>\n",
       "      <th>IBI</th>\n",
       "      <th>VgNIRBI</th>\n",
       "      <th>NDBI</th>\n",
       "      <th>PISI</th>\n",
       "      <th>reducer</th>\n",
       "      <th>NDVI</th>\n",
       "      <th>EMBI</th>\n",
       "      <th>VrNIRBI</th>\n",
       "    </tr>\n",
       "  </thead>\n",
       "  <tbody>\n",
       "    <tr>\n",
       "      <th>0</th>\n",
       "      <td>2020-01-04 09:29:30</td>\n",
       "      <td>-18.305726</td>\n",
       "      <td>-0.145067</td>\n",
       "      <td>0.032327</td>\n",
       "      <td>0.046515</td>\n",
       "      <td>mean</td>\n",
       "      <td>0.109905</td>\n",
       "      <td>-0.056097</td>\n",
       "      <td>-0.109905</td>\n",
       "    </tr>\n",
       "    <tr>\n",
       "      <th>1</th>\n",
       "      <td>2020-01-04 09:29:30</td>\n",
       "      <td>-18.305726</td>\n",
       "      <td>-0.145067</td>\n",
       "      <td>0.032327</td>\n",
       "      <td>0.046515</td>\n",
       "      <td>mean</td>\n",
       "      <td>0.109905</td>\n",
       "      <td>-0.056097</td>\n",
       "      <td>-0.109905</td>\n",
       "    </tr>\n",
       "    <tr>\n",
       "      <th>2</th>\n",
       "      <td>2020-01-04 09:29:30</td>\n",
       "      <td>-18.305726</td>\n",
       "      <td>-0.145067</td>\n",
       "      <td>0.032327</td>\n",
       "      <td>0.046515</td>\n",
       "      <td>mean</td>\n",
       "      <td>0.109905</td>\n",
       "      <td>-0.056097</td>\n",
       "      <td>-0.109905</td>\n",
       "    </tr>\n",
       "    <tr>\n",
       "      <th>3</th>\n",
       "      <td>2020-01-04 09:29:30</td>\n",
       "      <td>-18.305726</td>\n",
       "      <td>-0.145067</td>\n",
       "      <td>0.032327</td>\n",
       "      <td>0.046515</td>\n",
       "      <td>mean</td>\n",
       "      <td>0.109905</td>\n",
       "      <td>-0.056097</td>\n",
       "      <td>-0.109905</td>\n",
       "    </tr>\n",
       "    <tr>\n",
       "      <th>4</th>\n",
       "      <td>2020-01-04 09:29:30</td>\n",
       "      <td>-18.305726</td>\n",
       "      <td>-0.145067</td>\n",
       "      <td>0.032327</td>\n",
       "      <td>0.046515</td>\n",
       "      <td>mean</td>\n",
       "      <td>0.109905</td>\n",
       "      <td>-0.056097</td>\n",
       "      <td>-0.109905</td>\n",
       "    </tr>\n",
       "    <tr>\n",
       "      <th>...</th>\n",
       "      <td>...</td>\n",
       "      <td>...</td>\n",
       "      <td>...</td>\n",
       "      <td>...</td>\n",
       "      <td>...</td>\n",
       "      <td>...</td>\n",
       "      <td>...</td>\n",
       "      <td>...</td>\n",
       "      <td>...</td>\n",
       "    </tr>\n",
       "    <tr>\n",
       "      <th>3229</th>\n",
       "      <td>2020-09-05 09:29:39</td>\n",
       "      <td>-18.305726</td>\n",
       "      <td>-0.145067</td>\n",
       "      <td>0.032327</td>\n",
       "      <td>0.046515</td>\n",
       "      <td>mean</td>\n",
       "      <td>0.109905</td>\n",
       "      <td>-0.056097</td>\n",
       "      <td>-0.109905</td>\n",
       "    </tr>\n",
       "    <tr>\n",
       "      <th>3230</th>\n",
       "      <td>2020-09-05 09:29:39</td>\n",
       "      <td>8.908910</td>\n",
       "      <td>-0.308404</td>\n",
       "      <td>0.103038</td>\n",
       "      <td>0.018865</td>\n",
       "      <td>mean</td>\n",
       "      <td>0.147372</td>\n",
       "      <td>0.107116</td>\n",
       "      <td>-0.147372</td>\n",
       "    </tr>\n",
       "    <tr>\n",
       "      <th>3231</th>\n",
       "      <td>2020-09-05 09:29:39</td>\n",
       "      <td>0.586053</td>\n",
       "      <td>-0.192361</td>\n",
       "      <td>-0.034158</td>\n",
       "      <td>0.046334</td>\n",
       "      <td>mean</td>\n",
       "      <td>0.117493</td>\n",
       "      <td>-0.097159</td>\n",
       "      <td>-0.117493</td>\n",
       "    </tr>\n",
       "    <tr>\n",
       "      <th>3232</th>\n",
       "      <td>2020-09-05 09:29:39</td>\n",
       "      <td>-1.594881</td>\n",
       "      <td>-0.275615</td>\n",
       "      <td>0.006593</td>\n",
       "      <td>0.019887</td>\n",
       "      <td>mean</td>\n",
       "      <td>0.204378</td>\n",
       "      <td>0.002900</td>\n",
       "      <td>-0.204378</td>\n",
       "    </tr>\n",
       "    <tr>\n",
       "      <th>3233</th>\n",
       "      <td>2020-09-05 09:29:39</td>\n",
       "      <td>-345.725245</td>\n",
       "      <td>-0.321567</td>\n",
       "      <td>0.077430</td>\n",
       "      <td>0.022711</td>\n",
       "      <td>mean</td>\n",
       "      <td>0.213639</td>\n",
       "      <td>0.098358</td>\n",
       "      <td>-0.213639</td>\n",
       "    </tr>\n",
       "  </tbody>\n",
       "</table>\n",
       "<p>3234 rows × 9 columns</p>\n",
       "</div>"
      ],
      "text/plain": [
       "                    date         IBI   VgNIRBI      NDBI      PISI reducer  \\\n",
       "0    2020-01-04 09:29:30  -18.305726 -0.145067  0.032327  0.046515    mean   \n",
       "1    2020-01-04 09:29:30  -18.305726 -0.145067  0.032327  0.046515    mean   \n",
       "2    2020-01-04 09:29:30  -18.305726 -0.145067  0.032327  0.046515    mean   \n",
       "3    2020-01-04 09:29:30  -18.305726 -0.145067  0.032327  0.046515    mean   \n",
       "4    2020-01-04 09:29:30  -18.305726 -0.145067  0.032327  0.046515    mean   \n",
       "...                  ...         ...       ...       ...       ...     ...   \n",
       "3229 2020-09-05 09:29:39  -18.305726 -0.145067  0.032327  0.046515    mean   \n",
       "3230 2020-09-05 09:29:39    8.908910 -0.308404  0.103038  0.018865    mean   \n",
       "3231 2020-09-05 09:29:39    0.586053 -0.192361 -0.034158  0.046334    mean   \n",
       "3232 2020-09-05 09:29:39   -1.594881 -0.275615  0.006593  0.019887    mean   \n",
       "3233 2020-09-05 09:29:39 -345.725245 -0.321567  0.077430  0.022711    mean   \n",
       "\n",
       "          NDVI      EMBI   VrNIRBI  \n",
       "0     0.109905 -0.056097 -0.109905  \n",
       "1     0.109905 -0.056097 -0.109905  \n",
       "2     0.109905 -0.056097 -0.109905  \n",
       "3     0.109905 -0.056097 -0.109905  \n",
       "4     0.109905 -0.056097 -0.109905  \n",
       "...        ...       ...       ...  \n",
       "3229  0.109905 -0.056097 -0.109905  \n",
       "3230  0.147372  0.107116 -0.147372  \n",
       "3231  0.117493 -0.097159 -0.117493  \n",
       "3232  0.204378  0.002900 -0.204378  \n",
       "3233  0.213639  0.098358 -0.213639  \n",
       "\n",
       "[3234 rows x 9 columns]"
      ]
     },
     "execution_count": 203,
     "metadata": {},
     "output_type": "execute_result"
    }
   ],
   "source": [
    "s2_df_class2020"
   ]
  },
  {
   "cell_type": "code",
   "execution_count": 204,
   "id": "1db58f6e",
   "metadata": {},
   "outputs": [
    {
     "name": "stdout",
     "output_type": "stream",
     "text": [
      "start  collecting satellite  images\n",
      "486\n",
      "0:00:09.046000\n",
      "done collecting\n",
      "start  calculating ts\n",
      "0:00:00.782000\n",
      "done calculating ts\n",
      "3234\n",
      "start  making dataframe ts\n",
      "0:03:45.172000\n",
      "done making dataframe ts\n"
     ]
    }
   ],
   "source": [
    "s2_df_class2021  = generate_time_series(abandoned_collection,'2021-01-01','2022-01-01')"
   ]
  },
  {
   "cell_type": "code",
   "execution_count": 205,
   "id": "853dd420",
   "metadata": {},
   "outputs": [
    {
     "data": {
      "text/html": [
       "<div>\n",
       "<style scoped>\n",
       "    .dataframe tbody tr th:only-of-type {\n",
       "        vertical-align: middle;\n",
       "    }\n",
       "\n",
       "    .dataframe tbody tr th {\n",
       "        vertical-align: top;\n",
       "    }\n",
       "\n",
       "    .dataframe thead th {\n",
       "        text-align: right;\n",
       "    }\n",
       "</style>\n",
       "<table border=\"1\" class=\"dataframe\">\n",
       "  <thead>\n",
       "    <tr style=\"text-align: right;\">\n",
       "      <th></th>\n",
       "      <th>date</th>\n",
       "      <th>IBI</th>\n",
       "      <th>VgNIRBI</th>\n",
       "      <th>NDBI</th>\n",
       "      <th>PISI</th>\n",
       "      <th>reducer</th>\n",
       "      <th>NDVI</th>\n",
       "      <th>EMBI</th>\n",
       "      <th>VrNIRBI</th>\n",
       "    </tr>\n",
       "  </thead>\n",
       "  <tbody>\n",
       "    <tr>\n",
       "      <th>0</th>\n",
       "      <td>2021-02-04 09:19:38</td>\n",
       "      <td>-29.731753</td>\n",
       "      <td>-0.048594</td>\n",
       "      <td>0.020619</td>\n",
       "      <td>0.067285</td>\n",
       "      <td>mean</td>\n",
       "      <td>0.058747</td>\n",
       "      <td>-0.120998</td>\n",
       "      <td>-0.058747</td>\n",
       "    </tr>\n",
       "    <tr>\n",
       "      <th>1</th>\n",
       "      <td>2021-02-04 09:19:38</td>\n",
       "      <td>-29.731753</td>\n",
       "      <td>-0.048594</td>\n",
       "      <td>0.020619</td>\n",
       "      <td>0.067285</td>\n",
       "      <td>mean</td>\n",
       "      <td>0.058747</td>\n",
       "      <td>-0.120998</td>\n",
       "      <td>-0.058747</td>\n",
       "    </tr>\n",
       "    <tr>\n",
       "      <th>2</th>\n",
       "      <td>2021-02-04 09:19:38</td>\n",
       "      <td>-29.731753</td>\n",
       "      <td>-0.048594</td>\n",
       "      <td>0.020619</td>\n",
       "      <td>0.067285</td>\n",
       "      <td>mean</td>\n",
       "      <td>0.058747</td>\n",
       "      <td>-0.120998</td>\n",
       "      <td>-0.058747</td>\n",
       "    </tr>\n",
       "    <tr>\n",
       "      <th>3</th>\n",
       "      <td>2021-02-04 09:19:38</td>\n",
       "      <td>-29.731753</td>\n",
       "      <td>-0.048594</td>\n",
       "      <td>0.020619</td>\n",
       "      <td>0.067285</td>\n",
       "      <td>mean</td>\n",
       "      <td>0.058747</td>\n",
       "      <td>-0.120998</td>\n",
       "      <td>-0.058747</td>\n",
       "    </tr>\n",
       "    <tr>\n",
       "      <th>4</th>\n",
       "      <td>2021-02-04 09:19:38</td>\n",
       "      <td>-29.731753</td>\n",
       "      <td>-0.048594</td>\n",
       "      <td>0.020619</td>\n",
       "      <td>0.067285</td>\n",
       "      <td>mean</td>\n",
       "      <td>0.058747</td>\n",
       "      <td>-0.120998</td>\n",
       "      <td>-0.058747</td>\n",
       "    </tr>\n",
       "    <tr>\n",
       "      <th>...</th>\n",
       "      <td>...</td>\n",
       "      <td>...</td>\n",
       "      <td>...</td>\n",
       "      <td>...</td>\n",
       "      <td>...</td>\n",
       "      <td>...</td>\n",
       "      <td>...</td>\n",
       "      <td>...</td>\n",
       "      <td>...</td>\n",
       "    </tr>\n",
       "    <tr>\n",
       "      <th>3229</th>\n",
       "      <td>2021-09-04 06:50:29</td>\n",
       "      <td>-29.731753</td>\n",
       "      <td>-0.048594</td>\n",
       "      <td>0.020619</td>\n",
       "      <td>0.067285</td>\n",
       "      <td>mean</td>\n",
       "      <td>0.058747</td>\n",
       "      <td>-0.120998</td>\n",
       "      <td>-0.058747</td>\n",
       "    </tr>\n",
       "    <tr>\n",
       "      <th>3230</th>\n",
       "      <td>2021-09-04 06:50:29</td>\n",
       "      <td>5.465109</td>\n",
       "      <td>-0.259828</td>\n",
       "      <td>0.039577</td>\n",
       "      <td>0.029167</td>\n",
       "      <td>mean</td>\n",
       "      <td>0.148127</td>\n",
       "      <td>0.012978</td>\n",
       "      <td>-0.148127</td>\n",
       "    </tr>\n",
       "    <tr>\n",
       "      <th>3231</th>\n",
       "      <td>2021-09-04 06:50:29</td>\n",
       "      <td>0.291457</td>\n",
       "      <td>-0.142490</td>\n",
       "      <td>-0.017187</td>\n",
       "      <td>0.063076</td>\n",
       "      <td>mean</td>\n",
       "      <td>0.087144</td>\n",
       "      <td>-0.114404</td>\n",
       "      <td>-0.087144</td>\n",
       "    </tr>\n",
       "    <tr>\n",
       "      <th>3232</th>\n",
       "      <td>2021-09-04 06:50:29</td>\n",
       "      <td>-2.431224</td>\n",
       "      <td>-0.338054</td>\n",
       "      <td>0.000351</td>\n",
       "      <td>0.003139</td>\n",
       "      <td>mean</td>\n",
       "      <td>0.260067</td>\n",
       "      <td>0.040056</td>\n",
       "      <td>-0.260067</td>\n",
       "    </tr>\n",
       "    <tr>\n",
       "      <th>3233</th>\n",
       "      <td>2021-09-04 06:50:29</td>\n",
       "      <td>-0.472482</td>\n",
       "      <td>-0.323146</td>\n",
       "      <td>0.053845</td>\n",
       "      <td>0.019980</td>\n",
       "      <td>mean</td>\n",
       "      <td>0.210186</td>\n",
       "      <td>0.075435</td>\n",
       "      <td>-0.210186</td>\n",
       "    </tr>\n",
       "  </tbody>\n",
       "</table>\n",
       "<p>3234 rows × 9 columns</p>\n",
       "</div>"
      ],
      "text/plain": [
       "                    date        IBI   VgNIRBI      NDBI      PISI reducer  \\\n",
       "0    2021-02-04 09:19:38 -29.731753 -0.048594  0.020619  0.067285    mean   \n",
       "1    2021-02-04 09:19:38 -29.731753 -0.048594  0.020619  0.067285    mean   \n",
       "2    2021-02-04 09:19:38 -29.731753 -0.048594  0.020619  0.067285    mean   \n",
       "3    2021-02-04 09:19:38 -29.731753 -0.048594  0.020619  0.067285    mean   \n",
       "4    2021-02-04 09:19:38 -29.731753 -0.048594  0.020619  0.067285    mean   \n",
       "...                  ...        ...       ...       ...       ...     ...   \n",
       "3229 2021-09-04 06:50:29 -29.731753 -0.048594  0.020619  0.067285    mean   \n",
       "3230 2021-09-04 06:50:29   5.465109 -0.259828  0.039577  0.029167    mean   \n",
       "3231 2021-09-04 06:50:29   0.291457 -0.142490 -0.017187  0.063076    mean   \n",
       "3232 2021-09-04 06:50:29  -2.431224 -0.338054  0.000351  0.003139    mean   \n",
       "3233 2021-09-04 06:50:29  -0.472482 -0.323146  0.053845  0.019980    mean   \n",
       "\n",
       "          NDVI      EMBI   VrNIRBI  \n",
       "0     0.058747 -0.120998 -0.058747  \n",
       "1     0.058747 -0.120998 -0.058747  \n",
       "2     0.058747 -0.120998 -0.058747  \n",
       "3     0.058747 -0.120998 -0.058747  \n",
       "4     0.058747 -0.120998 -0.058747  \n",
       "...        ...       ...       ...  \n",
       "3229  0.058747 -0.120998 -0.058747  \n",
       "3230  0.148127  0.012978 -0.148127  \n",
       "3231  0.087144 -0.114404 -0.087144  \n",
       "3232  0.260067  0.040056 -0.260067  \n",
       "3233  0.210186  0.075435 -0.210186  \n",
       "\n",
       "[3234 rows x 9 columns]"
      ]
     },
     "execution_count": 205,
     "metadata": {},
     "output_type": "execute_result"
    }
   ],
   "source": [
    "s2_df_class2021"
   ]
  },
  {
   "cell_type": "code",
   "execution_count": 206,
   "id": "5f812536",
   "metadata": {},
   "outputs": [
    {
     "name": "stdout",
     "output_type": "stream",
     "text": [
      "start  collecting satellite  images\n",
      "216\n",
      "0:00:08.562000\n",
      "done collecting\n",
      "start  calculating ts\n",
      "0:00:00.953000\n",
      "done calculating ts\n",
      "0\n",
      "start  making dataframe ts\n"
     ]
    },
    {
     "ename": "Exception",
     "evalue": "Element.propertyNames: Parameter 'element' is required.",
     "output_type": "error",
     "traceback": [
      "\u001b[1;31m---------------------------------------------------------------------------\u001b[0m",
      "\u001b[1;31mHttpError\u001b[0m                                 Traceback (most recent call last)",
      "\u001b[1;32m~\\anaconda3\\envs\\ml\\lib\\site-packages\\ee\\data.py\u001b[0m in \u001b[0;36m_execute_cloud_call\u001b[1;34m(call, num_retries)\u001b[0m\n\u001b[0;32m    329\u001b[0m   \u001b[1;32mtry\u001b[0m\u001b[1;33m:\u001b[0m\u001b[1;33m\u001b[0m\u001b[1;33m\u001b[0m\u001b[0m\n\u001b[1;32m--> 330\u001b[1;33m     \u001b[1;32mreturn\u001b[0m \u001b[0mcall\u001b[0m\u001b[1;33m.\u001b[0m\u001b[0mexecute\u001b[0m\u001b[1;33m(\u001b[0m\u001b[0mnum_retries\u001b[0m\u001b[1;33m=\u001b[0m\u001b[0mnum_retries\u001b[0m\u001b[1;33m)\u001b[0m\u001b[1;33m\u001b[0m\u001b[1;33m\u001b[0m\u001b[0m\n\u001b[0m\u001b[0;32m    331\u001b[0m   \u001b[1;32mexcept\u001b[0m \u001b[0mgoogleapiclient\u001b[0m\u001b[1;33m.\u001b[0m\u001b[0merrors\u001b[0m\u001b[1;33m.\u001b[0m\u001b[0mHttpError\u001b[0m \u001b[1;32mas\u001b[0m \u001b[0me\u001b[0m\u001b[1;33m:\u001b[0m\u001b[1;33m\u001b[0m\u001b[1;33m\u001b[0m\u001b[0m\n",
      "\u001b[1;32m~\\anaconda3\\envs\\ml\\lib\\site-packages\\googleapiclient\\_helpers.py\u001b[0m in \u001b[0;36mpositional_wrapper\u001b[1;34m(*args, **kwargs)\u001b[0m\n\u001b[0;32m    133\u001b[0m                     \u001b[0mlogger\u001b[0m\u001b[1;33m.\u001b[0m\u001b[0mwarning\u001b[0m\u001b[1;33m(\u001b[0m\u001b[0mmessage\u001b[0m\u001b[1;33m)\u001b[0m\u001b[1;33m\u001b[0m\u001b[1;33m\u001b[0m\u001b[0m\n\u001b[1;32m--> 134\u001b[1;33m             \u001b[1;32mreturn\u001b[0m \u001b[0mwrapped\u001b[0m\u001b[1;33m(\u001b[0m\u001b[1;33m*\u001b[0m\u001b[0margs\u001b[0m\u001b[1;33m,\u001b[0m \u001b[1;33m**\u001b[0m\u001b[0mkwargs\u001b[0m\u001b[1;33m)\u001b[0m\u001b[1;33m\u001b[0m\u001b[1;33m\u001b[0m\u001b[0m\n\u001b[0m\u001b[0;32m    135\u001b[0m \u001b[1;33m\u001b[0m\u001b[0m\n",
      "\u001b[1;32m~\\anaconda3\\envs\\ml\\lib\\site-packages\\googleapiclient\\http.py\u001b[0m in \u001b[0;36mexecute\u001b[1;34m(self, http, num_retries)\u001b[0m\n\u001b[0;32m    914\u001b[0m         \u001b[1;32mif\u001b[0m \u001b[0mresp\u001b[0m\u001b[1;33m.\u001b[0m\u001b[0mstatus\u001b[0m \u001b[1;33m>=\u001b[0m \u001b[1;36m300\u001b[0m\u001b[1;33m:\u001b[0m\u001b[1;33m\u001b[0m\u001b[1;33m\u001b[0m\u001b[0m\n\u001b[1;32m--> 915\u001b[1;33m             \u001b[1;32mraise\u001b[0m \u001b[0mHttpError\u001b[0m\u001b[1;33m(\u001b[0m\u001b[0mresp\u001b[0m\u001b[1;33m,\u001b[0m \u001b[0mcontent\u001b[0m\u001b[1;33m,\u001b[0m \u001b[0muri\u001b[0m\u001b[1;33m=\u001b[0m\u001b[0mself\u001b[0m\u001b[1;33m.\u001b[0m\u001b[0muri\u001b[0m\u001b[1;33m)\u001b[0m\u001b[1;33m\u001b[0m\u001b[1;33m\u001b[0m\u001b[0m\n\u001b[0m\u001b[0;32m    916\u001b[0m         \u001b[1;32mreturn\u001b[0m \u001b[0mself\u001b[0m\u001b[1;33m.\u001b[0m\u001b[0mpostproc\u001b[0m\u001b[1;33m(\u001b[0m\u001b[0mresp\u001b[0m\u001b[1;33m,\u001b[0m \u001b[0mcontent\u001b[0m\u001b[1;33m)\u001b[0m\u001b[1;33m\u001b[0m\u001b[1;33m\u001b[0m\u001b[0m\n",
      "\u001b[1;31mHttpError\u001b[0m: <HttpError 400 when requesting https://earthengine.googleapis.com/v1alpha/projects/earthengine-legacy/value:compute?prettyPrint=false&alt=json returned \"Element.propertyNames: Parameter 'element' is required.\". Details: \"Element.propertyNames: Parameter 'element' is required.\">",
      "\nDuring handling of the above exception, another exception occurred:\n",
      "\u001b[1;31mEEException\u001b[0m                               Traceback (most recent call last)",
      "\u001b[1;32m~\\anaconda3\\envs\\ml\\lib\\site-packages\\geemap\\common.py\u001b[0m in \u001b[0;36mee_to_df\u001b[1;34m(ee_object, col_names, **kwargs)\u001b[0m\n\u001b[0;32m   7607\u001b[0m         \u001b[1;32mif\u001b[0m \u001b[0mcol_names\u001b[0m \u001b[1;32mis\u001b[0m \u001b[1;32mNone\u001b[0m\u001b[1;33m:\u001b[0m\u001b[1;33m\u001b[0m\u001b[1;33m\u001b[0m\u001b[0m\n\u001b[1;32m-> 7608\u001b[1;33m             \u001b[0mcol_names\u001b[0m \u001b[1;33m=\u001b[0m \u001b[0mee_object\u001b[0m\u001b[1;33m.\u001b[0m\u001b[0mfirst\u001b[0m\u001b[1;33m(\u001b[0m\u001b[1;33m)\u001b[0m\u001b[1;33m.\u001b[0m\u001b[0mpropertyNames\u001b[0m\u001b[1;33m(\u001b[0m\u001b[1;33m)\u001b[0m\u001b[1;33m.\u001b[0m\u001b[0mgetInfo\u001b[0m\u001b[1;33m(\u001b[0m\u001b[1;33m)\u001b[0m\u001b[1;33m\u001b[0m\u001b[1;33m\u001b[0m\u001b[0m\n\u001b[0m\u001b[0;32m   7609\u001b[0m             \u001b[0mcol_names\u001b[0m\u001b[1;33m.\u001b[0m\u001b[0mremove\u001b[0m\u001b[1;33m(\u001b[0m\u001b[1;34m\"system:index\"\u001b[0m\u001b[1;33m)\u001b[0m\u001b[1;33m\u001b[0m\u001b[1;33m\u001b[0m\u001b[0m\n",
      "\u001b[1;32m~\\anaconda3\\envs\\ml\\lib\\site-packages\\ee\\computedobject.py\u001b[0m in \u001b[0;36mgetInfo\u001b[1;34m(self)\u001b[0m\n\u001b[0;32m     97\u001b[0m     \"\"\"\n\u001b[1;32m---> 98\u001b[1;33m     \u001b[1;32mreturn\u001b[0m \u001b[0mdata\u001b[0m\u001b[1;33m.\u001b[0m\u001b[0mcomputeValue\u001b[0m\u001b[1;33m(\u001b[0m\u001b[0mself\u001b[0m\u001b[1;33m)\u001b[0m\u001b[1;33m\u001b[0m\u001b[1;33m\u001b[0m\u001b[0m\n\u001b[0m\u001b[0;32m     99\u001b[0m \u001b[1;33m\u001b[0m\u001b[0m\n",
      "\u001b[1;32m~\\anaconda3\\envs\\ml\\lib\\site-packages\\ee\\data.py\u001b[0m in \u001b[0;36mcomputeValue\u001b[1;34m(obj)\u001b[0m\n\u001b[0;32m    734\u001b[0m   \"\"\"\n\u001b[1;32m--> 735\u001b[1;33m   return _execute_cloud_call(\n\u001b[0m\u001b[0;32m    736\u001b[0m       _get_cloud_api_resource().projects().value().compute(\n",
      "\u001b[1;32m~\\anaconda3\\envs\\ml\\lib\\site-packages\\ee\\data.py\u001b[0m in \u001b[0;36m_execute_cloud_call\u001b[1;34m(call, num_retries)\u001b[0m\n\u001b[0;32m    331\u001b[0m   \u001b[1;32mexcept\u001b[0m \u001b[0mgoogleapiclient\u001b[0m\u001b[1;33m.\u001b[0m\u001b[0merrors\u001b[0m\u001b[1;33m.\u001b[0m\u001b[0mHttpError\u001b[0m \u001b[1;32mas\u001b[0m \u001b[0me\u001b[0m\u001b[1;33m:\u001b[0m\u001b[1;33m\u001b[0m\u001b[1;33m\u001b[0m\u001b[0m\n\u001b[1;32m--> 332\u001b[1;33m     \u001b[1;32mraise\u001b[0m \u001b[0m_translate_cloud_exception\u001b[0m\u001b[1;33m(\u001b[0m\u001b[0me\u001b[0m\u001b[1;33m)\u001b[0m\u001b[1;33m\u001b[0m\u001b[1;33m\u001b[0m\u001b[0m\n\u001b[0m\u001b[0;32m    333\u001b[0m \u001b[1;33m\u001b[0m\u001b[0m\n",
      "\u001b[1;31mEEException\u001b[0m: Element.propertyNames: Parameter 'element' is required.",
      "\nDuring handling of the above exception, another exception occurred:\n",
      "\u001b[1;31mException\u001b[0m                                 Traceback (most recent call last)",
      "\u001b[1;32m~\\AppData\\Local\\Temp/ipykernel_6836/2290894853.py\u001b[0m in \u001b[0;36m<module>\u001b[1;34m\u001b[0m\n\u001b[1;32m----> 1\u001b[1;33m \u001b[0ms2_df_class2022\u001b[0m  \u001b[1;33m=\u001b[0m \u001b[0mgenerate_time_series\u001b[0m\u001b[1;33m(\u001b[0m\u001b[0mabandoned_collection\u001b[0m\u001b[1;33m,\u001b[0m\u001b[1;34m'2022-01-01'\u001b[0m\u001b[1;33m,\u001b[0m\u001b[1;34m'2022-05-01'\u001b[0m\u001b[1;33m)\u001b[0m\u001b[1;33m\u001b[0m\u001b[1;33m\u001b[0m\u001b[0m\n\u001b[0m",
      "\u001b[1;32m~\\AppData\\Local\\Temp/ipykernel_6836/1515487539.py\u001b[0m in \u001b[0;36mgenerate_time_series\u001b[1;34m(geometry, startDate, endDate)\u001b[0m\n\u001b[0;32m     42\u001b[0m     \u001b[0mprint\u001b[0m\u001b[1;33m(\u001b[0m\u001b[1;34m'start  making dataframe ts'\u001b[0m\u001b[1;33m)\u001b[0m\u001b[1;33m\u001b[0m\u001b[1;33m\u001b[0m\u001b[0m\n\u001b[0;32m     43\u001b[0m     \u001b[0mstart_time\u001b[0m \u001b[1;33m=\u001b[0m \u001b[0mtime\u001b[0m\u001b[1;33m.\u001b[0m\u001b[0mmonotonic\u001b[0m\u001b[1;33m(\u001b[0m\u001b[1;33m)\u001b[0m\u001b[1;33m\u001b[0m\u001b[1;33m\u001b[0m\u001b[0m\n\u001b[1;32m---> 44\u001b[1;33m     \u001b[0msatellite_df\u001b[0m \u001b[1;33m=\u001b[0m \u001b[0mgeemap\u001b[0m\u001b[1;33m.\u001b[0m\u001b[0mee_to_pandas\u001b[0m\u001b[1;33m(\u001b[0m\u001b[0mtime_series\u001b[0m\u001b[1;33m)\u001b[0m\u001b[1;33m\u001b[0m\u001b[1;33m\u001b[0m\u001b[0m\n\u001b[0m\u001b[0;32m     45\u001b[0m \u001b[1;33m\u001b[0m\u001b[0m\n\u001b[0;32m     46\u001b[0m     \u001b[0mend_time\u001b[0m \u001b[1;33m=\u001b[0m \u001b[0mtime\u001b[0m\u001b[1;33m.\u001b[0m\u001b[0mmonotonic\u001b[0m\u001b[1;33m(\u001b[0m\u001b[1;33m)\u001b[0m\u001b[1;33m\u001b[0m\u001b[1;33m\u001b[0m\u001b[0m\n",
      "\u001b[1;32m~\\anaconda3\\envs\\ml\\lib\\site-packages\\geemap\\common.py\u001b[0m in \u001b[0;36mee_to_df\u001b[1;34m(ee_object, col_names, **kwargs)\u001b[0m\n\u001b[0;32m   7615\u001b[0m         \u001b[1;32mreturn\u001b[0m \u001b[0mdf\u001b[0m\u001b[1;33m\u001b[0m\u001b[1;33m\u001b[0m\u001b[0m\n\u001b[0;32m   7616\u001b[0m     \u001b[1;32mexcept\u001b[0m \u001b[0mException\u001b[0m \u001b[1;32mas\u001b[0m \u001b[0me\u001b[0m\u001b[1;33m:\u001b[0m\u001b[1;33m\u001b[0m\u001b[1;33m\u001b[0m\u001b[0m\n\u001b[1;32m-> 7617\u001b[1;33m         \u001b[1;32mraise\u001b[0m \u001b[0mException\u001b[0m\u001b[1;33m(\u001b[0m\u001b[0me\u001b[0m\u001b[1;33m)\u001b[0m\u001b[1;33m\u001b[0m\u001b[1;33m\u001b[0m\u001b[0m\n\u001b[0m\u001b[0;32m   7618\u001b[0m \u001b[1;33m\u001b[0m\u001b[0m\n\u001b[0;32m   7619\u001b[0m \u001b[1;33m\u001b[0m\u001b[0m\n",
      "\u001b[1;31mException\u001b[0m: Element.propertyNames: Parameter 'element' is required."
     ]
    }
   ],
   "source": [
    "s2_df_class2022  = generate_time_series(abandoned_collection,'2022-01-01','2022-05-01')"
   ]
  },
  {
   "cell_type": "code",
   "execution_count": 174,
   "id": "55f1c705",
   "metadata": {},
   "outputs": [
    {
     "data": {
      "text/html": [
       "<div>\n",
       "<style scoped>\n",
       "    .dataframe tbody tr th:only-of-type {\n",
       "        vertical-align: middle;\n",
       "    }\n",
       "\n",
       "    .dataframe tbody tr th {\n",
       "        vertical-align: top;\n",
       "    }\n",
       "\n",
       "    .dataframe thead th {\n",
       "        text-align: right;\n",
       "    }\n",
       "</style>\n",
       "<table border=\"1\" class=\"dataframe\">\n",
       "  <thead>\n",
       "    <tr style=\"text-align: right;\">\n",
       "      <th></th>\n",
       "      <th>IBI</th>\n",
       "      <th>VgNIRBI</th>\n",
       "      <th>NDBI</th>\n",
       "      <th>PISI</th>\n",
       "      <th>NDVI</th>\n",
       "      <th>EMBI</th>\n",
       "      <th>VrNIRBI</th>\n",
       "    </tr>\n",
       "  </thead>\n",
       "  <tbody>\n",
       "    <tr>\n",
       "      <th>0</th>\n",
       "      <td>5.006088e-16</td>\n",
       "      <td>9.965743e-15</td>\n",
       "      <td>1.030452e-15</td>\n",
       "      <td>2.725819e-15</td>\n",
       "      <td>5.083941e-15</td>\n",
       "      <td>7.153681e-16</td>\n",
       "      <td>5.083941e-15</td>\n",
       "    </tr>\n",
       "    <tr>\n",
       "      <th>1</th>\n",
       "      <td>5.006088e-16</td>\n",
       "      <td>9.965743e-15</td>\n",
       "      <td>1.030452e-15</td>\n",
       "      <td>2.725819e-15</td>\n",
       "      <td>5.083941e-15</td>\n",
       "      <td>7.153681e-16</td>\n",
       "      <td>5.083941e-15</td>\n",
       "    </tr>\n",
       "    <tr>\n",
       "      <th>2</th>\n",
       "      <td>5.006088e-16</td>\n",
       "      <td>9.965743e-15</td>\n",
       "      <td>1.030452e-15</td>\n",
       "      <td>2.725819e-15</td>\n",
       "      <td>5.083941e-15</td>\n",
       "      <td>7.153681e-16</td>\n",
       "      <td>5.083941e-15</td>\n",
       "    </tr>\n",
       "    <tr>\n",
       "      <th>3</th>\n",
       "      <td>5.006088e-16</td>\n",
       "      <td>9.965743e-15</td>\n",
       "      <td>1.030452e-15</td>\n",
       "      <td>2.725819e-15</td>\n",
       "      <td>5.083941e-15</td>\n",
       "      <td>7.153681e-16</td>\n",
       "      <td>5.083941e-15</td>\n",
       "    </tr>\n",
       "    <tr>\n",
       "      <th>4</th>\n",
       "      <td>5.006088e-16</td>\n",
       "      <td>9.965743e-15</td>\n",
       "      <td>1.030452e-15</td>\n",
       "      <td>2.725819e-15</td>\n",
       "      <td>5.083941e-15</td>\n",
       "      <td>7.153681e-16</td>\n",
       "      <td>5.083941e-15</td>\n",
       "    </tr>\n",
       "    <tr>\n",
       "      <th>...</th>\n",
       "      <td>...</td>\n",
       "      <td>...</td>\n",
       "      <td>...</td>\n",
       "      <td>...</td>\n",
       "      <td>...</td>\n",
       "      <td>...</td>\n",
       "      <td>...</td>\n",
       "    </tr>\n",
       "    <tr>\n",
       "      <th>4307</th>\n",
       "      <td>5.006088e-16</td>\n",
       "      <td>9.965743e-15</td>\n",
       "      <td>1.030452e-15</td>\n",
       "      <td>2.725819e-15</td>\n",
       "      <td>5.083941e-15</td>\n",
       "      <td>7.153681e-16</td>\n",
       "      <td>5.083941e-15</td>\n",
       "    </tr>\n",
       "    <tr>\n",
       "      <th>4308</th>\n",
       "      <td>4.201613e+00</td>\n",
       "      <td>2.565548e+00</td>\n",
       "      <td>1.272108e+01</td>\n",
       "      <td>2.887579e-01</td>\n",
       "      <td>7.916702e+00</td>\n",
       "      <td>8.489857e+00</td>\n",
       "      <td>7.916702e+00</td>\n",
       "    </tr>\n",
       "    <tr>\n",
       "      <th>4309</th>\n",
       "      <td>4.340105e+00</td>\n",
       "      <td>1.902298e+01</td>\n",
       "      <td>9.467695e+00</td>\n",
       "      <td>1.562915e+01</td>\n",
       "      <td>1.363867e+01</td>\n",
       "      <td>2.139523e+01</td>\n",
       "      <td>1.363867e+01</td>\n",
       "    </tr>\n",
       "    <tr>\n",
       "      <th>4310</th>\n",
       "      <td>4.356126e+00</td>\n",
       "      <td>1.567654e+01</td>\n",
       "      <td>2.299170e+01</td>\n",
       "      <td>1.406162e+01</td>\n",
       "      <td>2.367365e+01</td>\n",
       "      <td>1.335282e+00</td>\n",
       "      <td>2.367365e+01</td>\n",
       "    </tr>\n",
       "    <tr>\n",
       "      <th>4311</th>\n",
       "      <td>4.329424e+00</td>\n",
       "      <td>1.003794e+01</td>\n",
       "      <td>1.432491e+01</td>\n",
       "      <td>2.238734e+00</td>\n",
       "      <td>8.729726e+00</td>\n",
       "      <td>1.683092e+01</td>\n",
       "      <td>8.729726e+00</td>\n",
       "    </tr>\n",
       "  </tbody>\n",
       "</table>\n",
       "<p>4312 rows × 7 columns</p>\n",
       "</div>"
      ],
      "text/plain": [
       "               IBI       VgNIRBI          NDBI          PISI          NDVI  \\\n",
       "0     5.006088e-16  9.965743e-15  1.030452e-15  2.725819e-15  5.083941e-15   \n",
       "1     5.006088e-16  9.965743e-15  1.030452e-15  2.725819e-15  5.083941e-15   \n",
       "2     5.006088e-16  9.965743e-15  1.030452e-15  2.725819e-15  5.083941e-15   \n",
       "3     5.006088e-16  9.965743e-15  1.030452e-15  2.725819e-15  5.083941e-15   \n",
       "4     5.006088e-16  9.965743e-15  1.030452e-15  2.725819e-15  5.083941e-15   \n",
       "...            ...           ...           ...           ...           ...   \n",
       "4307  5.006088e-16  9.965743e-15  1.030452e-15  2.725819e-15  5.083941e-15   \n",
       "4308  4.201613e+00  2.565548e+00  1.272108e+01  2.887579e-01  7.916702e+00   \n",
       "4309  4.340105e+00  1.902298e+01  9.467695e+00  1.562915e+01  1.363867e+01   \n",
       "4310  4.356126e+00  1.567654e+01  2.299170e+01  1.406162e+01  2.367365e+01   \n",
       "4311  4.329424e+00  1.003794e+01  1.432491e+01  2.238734e+00  8.729726e+00   \n",
       "\n",
       "              EMBI       VrNIRBI  \n",
       "0     7.153681e-16  5.083941e-15  \n",
       "1     7.153681e-16  5.083941e-15  \n",
       "2     7.153681e-16  5.083941e-15  \n",
       "3     7.153681e-16  5.083941e-15  \n",
       "4     7.153681e-16  5.083941e-15  \n",
       "...            ...           ...  \n",
       "4307  7.153681e-16  5.083941e-15  \n",
       "4308  8.489857e+00  7.916702e+00  \n",
       "4309  2.139523e+01  1.363867e+01  \n",
       "4310  1.335282e+00  2.367365e+01  \n",
       "4311  1.683092e+01  8.729726e+00  \n",
       "\n",
       "[4312 rows x 7 columns]"
      ]
     },
     "execution_count": 174,
     "metadata": {},
     "output_type": "execute_result"
    }
   ],
   "source": [
    "from scipy import stats\n",
    "np.abs(stats.zscore(s2_df_class2018.drop(['date','reducer'],axis=1))) "
   ]
  },
  {
   "cell_type": "code",
   "execution_count": 169,
   "id": "b64750fe",
   "metadata": {},
   "outputs": [
    {
     "data": {
      "text/html": [
       "<div>\n",
       "<style scoped>\n",
       "    .dataframe tbody tr th:only-of-type {\n",
       "        vertical-align: middle;\n",
       "    }\n",
       "\n",
       "    .dataframe tbody tr th {\n",
       "        vertical-align: top;\n",
       "    }\n",
       "\n",
       "    .dataframe thead th {\n",
       "        text-align: right;\n",
       "    }\n",
       "</style>\n",
       "<table border=\"1\" class=\"dataframe\">\n",
       "  <thead>\n",
       "    <tr style=\"text-align: right;\">\n",
       "      <th></th>\n",
       "      <th>date</th>\n",
       "      <th>IBI</th>\n",
       "      <th>VgNIRBI</th>\n",
       "      <th>NDBI</th>\n",
       "      <th>reducer</th>\n",
       "      <th>NDVI</th>\n",
       "      <th>EMBI</th>\n",
       "      <th>VrNIRBI</th>\n",
       "    </tr>\n",
       "  </thead>\n",
       "  <tbody>\n",
       "    <tr>\n",
       "      <th>0</th>\n",
       "      <td>2018-01-01 09:17:55</td>\n",
       "      <td>245.621585</td>\n",
       "      <td>-0.268979</td>\n",
       "      <td>0.028484</td>\n",
       "      <td>mean</td>\n",
       "      <td>0.173472</td>\n",
       "      <td>0.017751</td>\n",
       "      <td>-0.173472</td>\n",
       "    </tr>\n",
       "    <tr>\n",
       "      <th>1</th>\n",
       "      <td>2018-01-01 09:17:55</td>\n",
       "      <td>245.621585</td>\n",
       "      <td>-0.268979</td>\n",
       "      <td>0.028484</td>\n",
       "      <td>mean</td>\n",
       "      <td>0.173472</td>\n",
       "      <td>0.017751</td>\n",
       "      <td>-0.173472</td>\n",
       "    </tr>\n",
       "    <tr>\n",
       "      <th>2</th>\n",
       "      <td>2018-01-01 09:17:55</td>\n",
       "      <td>245.621585</td>\n",
       "      <td>-0.268979</td>\n",
       "      <td>0.028484</td>\n",
       "      <td>mean</td>\n",
       "      <td>0.173472</td>\n",
       "      <td>0.017751</td>\n",
       "      <td>-0.173472</td>\n",
       "    </tr>\n",
       "    <tr>\n",
       "      <th>3</th>\n",
       "      <td>2018-01-01 09:17:55</td>\n",
       "      <td>245.621585</td>\n",
       "      <td>-0.268979</td>\n",
       "      <td>0.028484</td>\n",
       "      <td>mean</td>\n",
       "      <td>0.173472</td>\n",
       "      <td>0.017751</td>\n",
       "      <td>-0.173472</td>\n",
       "    </tr>\n",
       "    <tr>\n",
       "      <th>4</th>\n",
       "      <td>2018-01-01 09:17:55</td>\n",
       "      <td>245.621585</td>\n",
       "      <td>-0.268979</td>\n",
       "      <td>0.028484</td>\n",
       "      <td>mean</td>\n",
       "      <td>0.173472</td>\n",
       "      <td>0.017751</td>\n",
       "      <td>-0.173472</td>\n",
       "    </tr>\n",
       "    <tr>\n",
       "      <th>...</th>\n",
       "      <td>...</td>\n",
       "      <td>...</td>\n",
       "      <td>...</td>\n",
       "      <td>...</td>\n",
       "      <td>...</td>\n",
       "      <td>...</td>\n",
       "      <td>...</td>\n",
       "      <td>...</td>\n",
       "    </tr>\n",
       "    <tr>\n",
       "      <th>4307</th>\n",
       "      <td>2018-09-01 09:22:21</td>\n",
       "      <td>245.621585</td>\n",
       "      <td>-0.268979</td>\n",
       "      <td>0.028484</td>\n",
       "      <td>mean</td>\n",
       "      <td>0.173472</td>\n",
       "      <td>0.017751</td>\n",
       "      <td>-0.173472</td>\n",
       "    </tr>\n",
       "    <tr>\n",
       "      <th>4308</th>\n",
       "      <td>2018-09-01 09:22:21</td>\n",
       "      <td>7.077949</td>\n",
       "      <td>-0.283270</td>\n",
       "      <td>0.071315</td>\n",
       "      <td>mean</td>\n",
       "      <td>0.130251</td>\n",
       "      <td>0.058925</td>\n",
       "      <td>-0.130251</td>\n",
       "    </tr>\n",
       "    <tr>\n",
       "      <th>4309</th>\n",
       "      <td>2018-09-01 09:22:21</td>\n",
       "      <td>-0.784811</td>\n",
       "      <td>-0.163017</td>\n",
       "      <td>-0.003393</td>\n",
       "      <td>mean</td>\n",
       "      <td>0.099012</td>\n",
       "      <td>-0.086014</td>\n",
       "      <td>-0.099012</td>\n",
       "    </tr>\n",
       "    <tr>\n",
       "      <th>4310</th>\n",
       "      <td>2018-09-01 09:22:21</td>\n",
       "      <td>-1.694406</td>\n",
       "      <td>-0.356300</td>\n",
       "      <td>-0.048927</td>\n",
       "      <td>mean</td>\n",
       "      <td>0.302717</td>\n",
       "      <td>0.011275</td>\n",
       "      <td>-0.302717</td>\n",
       "    </tr>\n",
       "    <tr>\n",
       "      <th>4311</th>\n",
       "      <td>2018-09-01 09:22:21</td>\n",
       "      <td>-0.178382</td>\n",
       "      <td>-0.324892</td>\n",
       "      <td>0.076715</td>\n",
       "      <td>mean</td>\n",
       "      <td>0.221132</td>\n",
       "      <td>0.099378</td>\n",
       "      <td>-0.221132</td>\n",
       "    </tr>\n",
       "  </tbody>\n",
       "</table>\n",
       "<p>4312 rows × 8 columns</p>\n",
       "</div>"
      ],
      "text/plain": [
       "                    date         IBI   VgNIRBI      NDBI reducer      NDVI  \\\n",
       "0    2018-01-01 09:17:55  245.621585 -0.268979  0.028484    mean  0.173472   \n",
       "1    2018-01-01 09:17:55  245.621585 -0.268979  0.028484    mean  0.173472   \n",
       "2    2018-01-01 09:17:55  245.621585 -0.268979  0.028484    mean  0.173472   \n",
       "3    2018-01-01 09:17:55  245.621585 -0.268979  0.028484    mean  0.173472   \n",
       "4    2018-01-01 09:17:55  245.621585 -0.268979  0.028484    mean  0.173472   \n",
       "...                  ...         ...       ...       ...     ...       ...   \n",
       "4307 2018-09-01 09:22:21  245.621585 -0.268979  0.028484    mean  0.173472   \n",
       "4308 2018-09-01 09:22:21    7.077949 -0.283270  0.071315    mean  0.130251   \n",
       "4309 2018-09-01 09:22:21   -0.784811 -0.163017 -0.003393    mean  0.099012   \n",
       "4310 2018-09-01 09:22:21   -1.694406 -0.356300 -0.048927    mean  0.302717   \n",
       "4311 2018-09-01 09:22:21   -0.178382 -0.324892  0.076715    mean  0.221132   \n",
       "\n",
       "          EMBI   VrNIRBI  \n",
       "0     0.017751 -0.173472  \n",
       "1     0.017751 -0.173472  \n",
       "2     0.017751 -0.173472  \n",
       "3     0.017751 -0.173472  \n",
       "4     0.017751 -0.173472  \n",
       "...        ...       ...  \n",
       "4307  0.017751 -0.173472  \n",
       "4308  0.058925 -0.130251  \n",
       "4309 -0.086014 -0.099012  \n",
       "4310  0.011275 -0.302717  \n",
       "4311  0.099378 -0.221132  \n",
       "\n",
       "[4312 rows x 8 columns]"
      ]
     },
     "execution_count": 169,
     "metadata": {},
     "output_type": "execute_result"
    }
   ],
   "source": [
    "s2_df_class2018"
   ]
  },
  {
   "cell_type": "code",
   "execution_count": null,
   "id": "b4d926bc",
   "metadata": {},
   "outputs": [],
   "source": []
  },
  {
   "cell_type": "code",
   "execution_count": null,
   "id": "3fa6f842",
   "metadata": {},
   "outputs": [],
   "source": []
  },
  {
   "cell_type": "code",
   "execution_count": 294,
   "id": "f7ffe2bb",
   "metadata": {},
   "outputs": [],
   "source": [
    "s2_df = pd.read_csv('./data/csvs/nea_ionia_mean.csv')   #dataframe  an  paroume  to   max\n",
    "viirs_df = pd.read_csv('./data/csvs/nea_ionia_viirs.csv')"
   ]
  },
  {
   "cell_type": "code",
   "execution_count": 295,
   "id": "fb0d1824",
   "metadata": {},
   "outputs": [],
   "source": [
    "test_s2 = s2_df.drop(['date','reducer'],axis=1)"
   ]
  },
  {
   "cell_type": "code",
   "execution_count": 296,
   "id": "9e8c0a69",
   "metadata": {},
   "outputs": [],
   "source": [
    "test_viirs = viirs_df.drop(['date','reducer'],axis=1)"
   ]
  },
  {
   "cell_type": "code",
   "execution_count": 297,
   "id": "93a83306",
   "metadata": {},
   "outputs": [],
   "source": [
    "test_s2_1 = test_s2[test_s2['pivot']==1].reset_index()"
   ]
  },
  {
   "cell_type": "code",
   "execution_count": 298,
   "id": "aba97ca7",
   "metadata": {},
   "outputs": [],
   "source": [
    "test_s2_1= test_s2_1.drop('index',axis=1)"
   ]
  },
  {
   "cell_type": "code",
   "execution_count": 299,
   "id": "e9e30eff",
   "metadata": {},
   "outputs": [],
   "source": [
    "test_s2_0 = test_s2[test_s2['pivot']==0].reset_index()\n",
    "test_s2_0= test_s2_0.drop('index',axis=1)"
   ]
  },
  {
   "cell_type": "code",
   "execution_count": null,
   "id": "61387932",
   "metadata": {},
   "outputs": [],
   "source": []
  },
  {
   "cell_type": "code",
   "execution_count": 300,
   "id": "0ee4664a",
   "metadata": {},
   "outputs": [],
   "source": [
    "abadnoned_s2_df['label'] = 1\n",
    "not_abadnoned_s2_df['label']  = 0\n",
    "\n",
    "s2= abadnoned_s2_df.append(not_abadnoned_s2_df,ignore_index=True)"
   ]
  },
  {
   "cell_type": "code",
   "execution_count": 301,
   "id": "9866d35a",
   "metadata": {},
   "outputs": [],
   "source": [
    "s2.to_csv('./data/csvs/class_example.csv',index=False)"
   ]
  },
  {
   "cell_type": "code",
   "execution_count": 302,
   "id": "f9c49975",
   "metadata": {},
   "outputs": [],
   "source": [
    "viirs_not_abandoned['label'] = 0\n",
    "viirs_abandoned['label'] = 1\n",
    "viirs = viirs_not_abandoned.append(viirs_abandoned,ignore_index=True)"
   ]
  },
  {
   "cell_type": "code",
   "execution_count": 303,
   "id": "4b601767",
   "metadata": {},
   "outputs": [],
   "source": [
    "turbo_volos_filled['label']  = -1\n",
    "viirs_turbo['label'] = -1"
   ]
  },
  {
   "cell_type": "code",
   "execution_count": 235,
   "id": "752a7980",
   "metadata": {},
   "outputs": [],
   "source": [
    "s2_oik = pd.read_csv('./data/csvs/oik.csv')\n",
    "viirs_oik = pd.read_csv('./data/csvs/viirs_oik.csv')"
   ]
  },
  {
   "cell_type": "code",
   "execution_count": 305,
   "id": "9c9dad0f",
   "metadata": {
    "scrolled": true
   },
   "outputs": [
    {
     "data": {
      "text/plain": [
       "0       1\n",
       "1       1\n",
       "2       1\n",
       "3       1\n",
       "4       1\n",
       "       ..\n",
       "1740    0\n",
       "1741    0\n",
       "1742    0\n",
       "1743    0\n",
       "1744    0\n",
       "Name: label, Length: 1745, dtype: int64"
      ]
     },
     "execution_count": 305,
     "metadata": {},
     "output_type": "execute_result"
    }
   ],
   "source": [
    "s2['label']"
   ]
  },
  {
   "cell_type": "markdown",
   "id": "6841aeb8",
   "metadata": {},
   "source": [
    "# Classification based on final chicago"
   ]
  },
  {
   "cell_type": "code",
   "execution_count": null,
   "id": "ef6c857d",
   "metadata": {},
   "outputs": [],
   "source": []
  },
  {
   "cell_type": "code",
   "execution_count": null,
   "id": "b16d9616",
   "metadata": {},
   "outputs": [],
   "source": []
  },
  {
   "cell_type": "code",
   "execution_count": 278,
   "id": "73c7847c",
   "metadata": {
    "scrolled": false
   },
   "outputs": [
    {
     "data": {
      "text/plain": [
       "0.6872378186511778"
      ]
     },
     "execution_count": 278,
     "metadata": {},
     "output_type": "execute_result"
    }
   ],
   "source": [
    "from sklearn.model_selection import train_test_split\n",
    "from sklearn.ensemble import RandomForestClassifier\n",
    "from sklearn.metrics import balanced_accuracy_score,accuracy_score,roc_curve,plot_roc_curve \n",
    "# Define our dependent and independent variables\n",
    "X1=chicago_final[['NDVI','NDBI','IBI','EMBI','PISI','VgNIRBI','VrNIRBI','avg_rad']]\n",
    "y1=chicago_final['label']\n",
    "#X2=turbo_volos_filled[['NDVI','NDBI','UI','IBI']]\n",
    "#y2=turbo_volos_filled['label']\n",
    "\n",
    "#X=X1.append(X2,ignore_index=True)\n",
    "#y=y1.append(y2,ignore_index=True)\n",
    "\n",
    "X_train,x_test,Y_train,y_test = train_test_split(X1,y1, test_size=0.3, random_state=1)\n",
    "\n",
    "classifier = RandomForestClassifier(n_estimators=50)\n",
    "\n",
    "classifier.fit(X_train, Y_train)\n",
    "y_pred = classifier.predict(x_test)\n",
    "accuracy_score(y_test, y_pred)\n",
    "\n",
    "\n",
    "\n"
   ]
  },
  {
   "cell_type": "code",
   "execution_count": 290,
   "id": "a5fc9651",
   "metadata": {},
   "outputs": [
    {
     "data": {
      "text/plain": [
       "0.436189093255889"
      ]
     },
     "execution_count": 290,
     "metadata": {},
     "output_type": "execute_result"
    }
   ],
   "source": [
    "# Feature Scaling\n",
    "\n",
    "\n",
    "\n",
    "X_train,x_test,Y_train,y_test = train_test_split(X1,y1, test_size=0.3, random_state=1)\n",
    "#sc = StandardScaler()\n",
    "#X_train = sc.fit_transform(X_train)\n",
    "#X_test = sc.transform(X_test)\n",
    "classifier = RandomForestClassifier(n_estimators=50)\n",
    "\n",
    "classifier.fit(X_train, Y_train)\n",
    "y_pred = classifier.predict(x_test)\n",
    "accuracy_score(y_test, y_pred)\n",
    "\n"
   ]
  },
  {
   "cell_type": "code",
   "execution_count": 288,
   "id": "52c06483",
   "metadata": {},
   "outputs": [
    {
     "name": "stderr",
     "output_type": "stream",
     "text": [
      "C:\\Users\\Christos\\anaconda3\\envs\\ml\\lib\\site-packages\\xgboost\\core.py:525: FutureWarning: Pass `sample_weight` as keyword args.  Passing these as positional arguments will be considered as error in future releases.\n",
      "  warnings.warn(\n"
     ]
    },
    {
     "ename": "TypeError",
     "evalue": "('Unsupported type for weight', \"<class 'str'>\")",
     "output_type": "error",
     "traceback": [
      "\u001b[1;31m---------------------------------------------------------------------------\u001b[0m",
      "\u001b[1;31mTypeError\u001b[0m                                 Traceback (most recent call last)",
      "\u001b[1;32m~\\AppData\\Local\\Temp/ipykernel_16328/3649036167.py\u001b[0m in \u001b[0;36m<module>\u001b[1;34m\u001b[0m\n\u001b[0;32m     30\u001b[0m                                   max_depth=8)\n\u001b[0;32m     31\u001b[0m \u001b[1;33m\u001b[0m\u001b[0m\n\u001b[1;32m---> 32\u001b[1;33m \u001b[0mxg_cl\u001b[0m\u001b[1;33m.\u001b[0m\u001b[0mfit\u001b[0m\u001b[1;33m(\u001b[0m\u001b[0mX1\u001b[0m\u001b[1;33m,\u001b[0m \u001b[0my1\u001b[0m\u001b[1;33m,\u001b[0m\u001b[1;34m'binary:logistic'\u001b[0m\u001b[1;33m)\u001b[0m\u001b[1;33m\u001b[0m\u001b[1;33m\u001b[0m\u001b[0m\n\u001b[0m\u001b[0;32m     33\u001b[0m \u001b[1;33m\u001b[0m\u001b[0m\n\u001b[0;32m     34\u001b[0m \u001b[0mpreds\u001b[0m \u001b[1;33m=\u001b[0m \u001b[0mxg_cl\u001b[0m\u001b[1;33m.\u001b[0m\u001b[0mpredict\u001b[0m\u001b[1;33m(\u001b[0m\u001b[0mX_test\u001b[0m\u001b[1;33m)\u001b[0m\u001b[1;33m\u001b[0m\u001b[1;33m\u001b[0m\u001b[0m\n",
      "\u001b[1;32m~\\anaconda3\\envs\\ml\\lib\\site-packages\\xgboost\\core.py\u001b[0m in \u001b[0;36minner_f\u001b[1;34m(*args, **kwargs)\u001b[0m\n\u001b[0;32m    530\u001b[0m         \u001b[1;32mfor\u001b[0m \u001b[0mk\u001b[0m\u001b[1;33m,\u001b[0m \u001b[0marg\u001b[0m \u001b[1;32min\u001b[0m \u001b[0mzip\u001b[0m\u001b[1;33m(\u001b[0m\u001b[0msig\u001b[0m\u001b[1;33m.\u001b[0m\u001b[0mparameters\u001b[0m\u001b[1;33m,\u001b[0m \u001b[0margs\u001b[0m\u001b[1;33m)\u001b[0m\u001b[1;33m:\u001b[0m\u001b[1;33m\u001b[0m\u001b[1;33m\u001b[0m\u001b[0m\n\u001b[0;32m    531\u001b[0m             \u001b[0mkwargs\u001b[0m\u001b[1;33m[\u001b[0m\u001b[0mk\u001b[0m\u001b[1;33m]\u001b[0m \u001b[1;33m=\u001b[0m \u001b[0marg\u001b[0m\u001b[1;33m\u001b[0m\u001b[1;33m\u001b[0m\u001b[0m\n\u001b[1;32m--> 532\u001b[1;33m         \u001b[1;32mreturn\u001b[0m \u001b[0mf\u001b[0m\u001b[1;33m(\u001b[0m\u001b[1;33m**\u001b[0m\u001b[0mkwargs\u001b[0m\u001b[1;33m)\u001b[0m\u001b[1;33m\u001b[0m\u001b[1;33m\u001b[0m\u001b[0m\n\u001b[0m\u001b[0;32m    533\u001b[0m \u001b[1;33m\u001b[0m\u001b[0m\n\u001b[0;32m    534\u001b[0m     \u001b[1;32mreturn\u001b[0m \u001b[0minner_f\u001b[0m\u001b[1;33m\u001b[0m\u001b[1;33m\u001b[0m\u001b[0m\n",
      "\u001b[1;32m~\\anaconda3\\envs\\ml\\lib\\site-packages\\xgboost\\sklearn.py\u001b[0m in \u001b[0;36mfit\u001b[1;34m(self, X, y, sample_weight, base_margin, eval_set, eval_metric, early_stopping_rounds, verbose, xgb_model, sample_weight_eval_set, base_margin_eval_set, feature_weights, callbacks)\u001b[0m\n\u001b[0;32m   1380\u001b[0m             \u001b[0mxgb_model\u001b[0m\u001b[1;33m,\u001b[0m \u001b[0meval_metric\u001b[0m\u001b[1;33m,\u001b[0m \u001b[0mparams\u001b[0m\u001b[1;33m,\u001b[0m \u001b[0mearly_stopping_rounds\u001b[0m\u001b[1;33m,\u001b[0m \u001b[0mcallbacks\u001b[0m\u001b[1;33m\u001b[0m\u001b[1;33m\u001b[0m\u001b[0m\n\u001b[0;32m   1381\u001b[0m         )\n\u001b[1;32m-> 1382\u001b[1;33m         train_dmatrix, evals = _wrap_evaluation_matrices(\n\u001b[0m\u001b[0;32m   1383\u001b[0m             \u001b[0mmissing\u001b[0m\u001b[1;33m=\u001b[0m\u001b[0mself\u001b[0m\u001b[1;33m.\u001b[0m\u001b[0mmissing\u001b[0m\u001b[1;33m,\u001b[0m\u001b[1;33m\u001b[0m\u001b[1;33m\u001b[0m\u001b[0m\n\u001b[0;32m   1384\u001b[0m             \u001b[0mX\u001b[0m\u001b[1;33m=\u001b[0m\u001b[0mX\u001b[0m\u001b[1;33m,\u001b[0m\u001b[1;33m\u001b[0m\u001b[1;33m\u001b[0m\u001b[0m\n",
      "\u001b[1;32m~\\anaconda3\\envs\\ml\\lib\\site-packages\\xgboost\\sklearn.py\u001b[0m in \u001b[0;36m_wrap_evaluation_matrices\u001b[1;34m(missing, X, y, group, qid, sample_weight, base_margin, feature_weights, eval_set, sample_weight_eval_set, base_margin_eval_set, eval_group, eval_qid, create_dmatrix, enable_categorical)\u001b[0m\n\u001b[0;32m    399\u001b[0m \u001b[1;33m\u001b[0m\u001b[0m\n\u001b[0;32m    400\u001b[0m     \"\"\"\n\u001b[1;32m--> 401\u001b[1;33m     train_dmatrix = create_dmatrix(\n\u001b[0m\u001b[0;32m    402\u001b[0m         \u001b[0mdata\u001b[0m\u001b[1;33m=\u001b[0m\u001b[0mX\u001b[0m\u001b[1;33m,\u001b[0m\u001b[1;33m\u001b[0m\u001b[1;33m\u001b[0m\u001b[0m\n\u001b[0;32m    403\u001b[0m         \u001b[0mlabel\u001b[0m\u001b[1;33m=\u001b[0m\u001b[0my\u001b[0m\u001b[1;33m,\u001b[0m\u001b[1;33m\u001b[0m\u001b[1;33m\u001b[0m\u001b[0m\n",
      "\u001b[1;32m~\\anaconda3\\envs\\ml\\lib\\site-packages\\xgboost\\sklearn.py\u001b[0m in \u001b[0;36m<lambda>\u001b[1;34m(**kwargs)\u001b[0m\n\u001b[0;32m   1394\u001b[0m             \u001b[0meval_group\u001b[0m\u001b[1;33m=\u001b[0m\u001b[1;32mNone\u001b[0m\u001b[1;33m,\u001b[0m\u001b[1;33m\u001b[0m\u001b[1;33m\u001b[0m\u001b[0m\n\u001b[0;32m   1395\u001b[0m             \u001b[0meval_qid\u001b[0m\u001b[1;33m=\u001b[0m\u001b[1;32mNone\u001b[0m\u001b[1;33m,\u001b[0m\u001b[1;33m\u001b[0m\u001b[1;33m\u001b[0m\u001b[0m\n\u001b[1;32m-> 1396\u001b[1;33m             \u001b[0mcreate_dmatrix\u001b[0m\u001b[1;33m=\u001b[0m\u001b[1;32mlambda\u001b[0m \u001b[1;33m**\u001b[0m\u001b[0mkwargs\u001b[0m\u001b[1;33m:\u001b[0m \u001b[0mDMatrix\u001b[0m\u001b[1;33m(\u001b[0m\u001b[0mnthread\u001b[0m\u001b[1;33m=\u001b[0m\u001b[0mself\u001b[0m\u001b[1;33m.\u001b[0m\u001b[0mn_jobs\u001b[0m\u001b[1;33m,\u001b[0m \u001b[1;33m**\u001b[0m\u001b[0mkwargs\u001b[0m\u001b[1;33m)\u001b[0m\u001b[1;33m,\u001b[0m\u001b[1;33m\u001b[0m\u001b[1;33m\u001b[0m\u001b[0m\n\u001b[0m\u001b[0;32m   1397\u001b[0m             \u001b[0menable_categorical\u001b[0m\u001b[1;33m=\u001b[0m\u001b[0mself\u001b[0m\u001b[1;33m.\u001b[0m\u001b[0menable_categorical\u001b[0m\u001b[1;33m,\u001b[0m\u001b[1;33m\u001b[0m\u001b[1;33m\u001b[0m\u001b[0m\n\u001b[0;32m   1398\u001b[0m         )\n",
      "\u001b[1;32m~\\anaconda3\\envs\\ml\\lib\\site-packages\\xgboost\\core.py\u001b[0m in \u001b[0;36minner_f\u001b[1;34m(*args, **kwargs)\u001b[0m\n\u001b[0;32m    530\u001b[0m         \u001b[1;32mfor\u001b[0m \u001b[0mk\u001b[0m\u001b[1;33m,\u001b[0m \u001b[0marg\u001b[0m \u001b[1;32min\u001b[0m \u001b[0mzip\u001b[0m\u001b[1;33m(\u001b[0m\u001b[0msig\u001b[0m\u001b[1;33m.\u001b[0m\u001b[0mparameters\u001b[0m\u001b[1;33m,\u001b[0m \u001b[0margs\u001b[0m\u001b[1;33m)\u001b[0m\u001b[1;33m:\u001b[0m\u001b[1;33m\u001b[0m\u001b[1;33m\u001b[0m\u001b[0m\n\u001b[0;32m    531\u001b[0m             \u001b[0mkwargs\u001b[0m\u001b[1;33m[\u001b[0m\u001b[0mk\u001b[0m\u001b[1;33m]\u001b[0m \u001b[1;33m=\u001b[0m \u001b[0marg\u001b[0m\u001b[1;33m\u001b[0m\u001b[1;33m\u001b[0m\u001b[0m\n\u001b[1;32m--> 532\u001b[1;33m         \u001b[1;32mreturn\u001b[0m \u001b[0mf\u001b[0m\u001b[1;33m(\u001b[0m\u001b[1;33m**\u001b[0m\u001b[0mkwargs\u001b[0m\u001b[1;33m)\u001b[0m\u001b[1;33m\u001b[0m\u001b[1;33m\u001b[0m\u001b[0m\n\u001b[0m\u001b[0;32m    533\u001b[0m \u001b[1;33m\u001b[0m\u001b[0m\n\u001b[0;32m    534\u001b[0m     \u001b[1;32mreturn\u001b[0m \u001b[0minner_f\u001b[0m\u001b[1;33m\u001b[0m\u001b[1;33m\u001b[0m\u001b[0m\n",
      "\u001b[1;32m~\\anaconda3\\envs\\ml\\lib\\site-packages\\xgboost\\core.py\u001b[0m in \u001b[0;36m__init__\u001b[1;34m(self, data, label, weight, base_margin, missing, silent, feature_names, feature_types, nthread, group, qid, label_lower_bound, label_upper_bound, feature_weights, enable_categorical)\u001b[0m\n\u001b[0;32m    652\u001b[0m         \u001b[0mself\u001b[0m\u001b[1;33m.\u001b[0m\u001b[0mhandle\u001b[0m \u001b[1;33m=\u001b[0m \u001b[0mhandle\u001b[0m\u001b[1;33m\u001b[0m\u001b[1;33m\u001b[0m\u001b[0m\n\u001b[0;32m    653\u001b[0m \u001b[1;33m\u001b[0m\u001b[0m\n\u001b[1;32m--> 654\u001b[1;33m         self.set_info(\n\u001b[0m\u001b[0;32m    655\u001b[0m             \u001b[0mlabel\u001b[0m\u001b[1;33m=\u001b[0m\u001b[0mlabel\u001b[0m\u001b[1;33m,\u001b[0m\u001b[1;33m\u001b[0m\u001b[1;33m\u001b[0m\u001b[0m\n\u001b[0;32m    656\u001b[0m             \u001b[0mweight\u001b[0m\u001b[1;33m=\u001b[0m\u001b[0mweight\u001b[0m\u001b[1;33m,\u001b[0m\u001b[1;33m\u001b[0m\u001b[1;33m\u001b[0m\u001b[0m\n",
      "\u001b[1;32m~\\anaconda3\\envs\\ml\\lib\\site-packages\\xgboost\\core.py\u001b[0m in \u001b[0;36minner_f\u001b[1;34m(*args, **kwargs)\u001b[0m\n\u001b[0;32m    530\u001b[0m         \u001b[1;32mfor\u001b[0m \u001b[0mk\u001b[0m\u001b[1;33m,\u001b[0m \u001b[0marg\u001b[0m \u001b[1;32min\u001b[0m \u001b[0mzip\u001b[0m\u001b[1;33m(\u001b[0m\u001b[0msig\u001b[0m\u001b[1;33m.\u001b[0m\u001b[0mparameters\u001b[0m\u001b[1;33m,\u001b[0m \u001b[0margs\u001b[0m\u001b[1;33m)\u001b[0m\u001b[1;33m:\u001b[0m\u001b[1;33m\u001b[0m\u001b[1;33m\u001b[0m\u001b[0m\n\u001b[0;32m    531\u001b[0m             \u001b[0mkwargs\u001b[0m\u001b[1;33m[\u001b[0m\u001b[0mk\u001b[0m\u001b[1;33m]\u001b[0m \u001b[1;33m=\u001b[0m \u001b[0marg\u001b[0m\u001b[1;33m\u001b[0m\u001b[1;33m\u001b[0m\u001b[0m\n\u001b[1;32m--> 532\u001b[1;33m         \u001b[1;32mreturn\u001b[0m \u001b[0mf\u001b[0m\u001b[1;33m(\u001b[0m\u001b[1;33m**\u001b[0m\u001b[0mkwargs\u001b[0m\u001b[1;33m)\u001b[0m\u001b[1;33m\u001b[0m\u001b[1;33m\u001b[0m\u001b[0m\n\u001b[0m\u001b[0;32m    533\u001b[0m \u001b[1;33m\u001b[0m\u001b[0m\n\u001b[0;32m    534\u001b[0m     \u001b[1;32mreturn\u001b[0m \u001b[0minner_f\u001b[0m\u001b[1;33m\u001b[0m\u001b[1;33m\u001b[0m\u001b[0m\n",
      "\u001b[1;32m~\\anaconda3\\envs\\ml\\lib\\site-packages\\xgboost\\core.py\u001b[0m in \u001b[0;36mset_info\u001b[1;34m(self, label, weight, base_margin, group, qid, label_lower_bound, label_upper_bound, feature_names, feature_types, feature_weights)\u001b[0m\n\u001b[0;32m    719\u001b[0m             \u001b[0mself\u001b[0m\u001b[1;33m.\u001b[0m\u001b[0mset_label\u001b[0m\u001b[1;33m(\u001b[0m\u001b[0mlabel\u001b[0m\u001b[1;33m)\u001b[0m\u001b[1;33m\u001b[0m\u001b[1;33m\u001b[0m\u001b[0m\n\u001b[0;32m    720\u001b[0m         \u001b[1;32mif\u001b[0m \u001b[0mweight\u001b[0m \u001b[1;32mis\u001b[0m \u001b[1;32mnot\u001b[0m \u001b[1;32mNone\u001b[0m\u001b[1;33m:\u001b[0m\u001b[1;33m\u001b[0m\u001b[1;33m\u001b[0m\u001b[0m\n\u001b[1;32m--> 721\u001b[1;33m             \u001b[0mself\u001b[0m\u001b[1;33m.\u001b[0m\u001b[0mset_weight\u001b[0m\u001b[1;33m(\u001b[0m\u001b[0mweight\u001b[0m\u001b[1;33m)\u001b[0m\u001b[1;33m\u001b[0m\u001b[1;33m\u001b[0m\u001b[0m\n\u001b[0m\u001b[0;32m    722\u001b[0m         \u001b[1;32mif\u001b[0m \u001b[0mbase_margin\u001b[0m \u001b[1;32mis\u001b[0m \u001b[1;32mnot\u001b[0m \u001b[1;32mNone\u001b[0m\u001b[1;33m:\u001b[0m\u001b[1;33m\u001b[0m\u001b[1;33m\u001b[0m\u001b[0m\n\u001b[0;32m    723\u001b[0m             \u001b[0mself\u001b[0m\u001b[1;33m.\u001b[0m\u001b[0mset_base_margin\u001b[0m\u001b[1;33m(\u001b[0m\u001b[0mbase_margin\u001b[0m\u001b[1;33m)\u001b[0m\u001b[1;33m\u001b[0m\u001b[1;33m\u001b[0m\u001b[0m\n",
      "\u001b[1;32m~\\anaconda3\\envs\\ml\\lib\\site-packages\\xgboost\\core.py\u001b[0m in \u001b[0;36mset_weight\u001b[1;34m(self, weight)\u001b[0m\n\u001b[0;32m    867\u001b[0m         \"\"\"\n\u001b[0;32m    868\u001b[0m         \u001b[1;32mfrom\u001b[0m \u001b[1;33m.\u001b[0m\u001b[0mdata\u001b[0m \u001b[1;32mimport\u001b[0m \u001b[0mdispatch_meta_backend\u001b[0m\u001b[1;33m\u001b[0m\u001b[1;33m\u001b[0m\u001b[0m\n\u001b[1;32m--> 869\u001b[1;33m         \u001b[0mdispatch_meta_backend\u001b[0m\u001b[1;33m(\u001b[0m\u001b[0mself\u001b[0m\u001b[1;33m,\u001b[0m \u001b[0mweight\u001b[0m\u001b[1;33m,\u001b[0m \u001b[1;34m'weight'\u001b[0m\u001b[1;33m,\u001b[0m \u001b[1;34m'float'\u001b[0m\u001b[1;33m)\u001b[0m\u001b[1;33m\u001b[0m\u001b[1;33m\u001b[0m\u001b[0m\n\u001b[0m\u001b[0;32m    870\u001b[0m \u001b[1;33m\u001b[0m\u001b[0m\n\u001b[0;32m    871\u001b[0m     \u001b[1;32mdef\u001b[0m \u001b[0mset_base_margin\u001b[0m\u001b[1;33m(\u001b[0m\u001b[0mself\u001b[0m\u001b[1;33m,\u001b[0m \u001b[0mmargin\u001b[0m\u001b[1;33m:\u001b[0m \u001b[0mArrayLike\u001b[0m\u001b[1;33m)\u001b[0m \u001b[1;33m->\u001b[0m \u001b[1;32mNone\u001b[0m\u001b[1;33m:\u001b[0m\u001b[1;33m\u001b[0m\u001b[1;33m\u001b[0m\u001b[0m\n",
      "\u001b[1;32m~\\anaconda3\\envs\\ml\\lib\\site-packages\\xgboost\\data.py\u001b[0m in \u001b[0;36mdispatch_meta_backend\u001b[1;34m(matrix, data, name, dtype)\u001b[0m\n\u001b[0;32m   1073\u001b[0m         \u001b[0m_meta_from_numpy\u001b[0m\u001b[1;33m(\u001b[0m\u001b[0marray\u001b[0m\u001b[1;33m,\u001b[0m \u001b[0mname\u001b[0m\u001b[1;33m,\u001b[0m \u001b[0mdtype\u001b[0m\u001b[1;33m,\u001b[0m \u001b[0mhandle\u001b[0m\u001b[1;33m)\u001b[0m\u001b[1;33m\u001b[0m\u001b[1;33m\u001b[0m\u001b[0m\n\u001b[0;32m   1074\u001b[0m         \u001b[1;32mreturn\u001b[0m\u001b[1;33m\u001b[0m\u001b[1;33m\u001b[0m\u001b[0m\n\u001b[1;32m-> 1075\u001b[1;33m     \u001b[1;32mraise\u001b[0m \u001b[0mTypeError\u001b[0m\u001b[1;33m(\u001b[0m\u001b[1;34m'Unsupported type for '\u001b[0m \u001b[1;33m+\u001b[0m \u001b[0mname\u001b[0m\u001b[1;33m,\u001b[0m \u001b[0mstr\u001b[0m\u001b[1;33m(\u001b[0m\u001b[0mtype\u001b[0m\u001b[1;33m(\u001b[0m\u001b[0mdata\u001b[0m\u001b[1;33m)\u001b[0m\u001b[1;33m)\u001b[0m\u001b[1;33m)\u001b[0m\u001b[1;33m\u001b[0m\u001b[1;33m\u001b[0m\u001b[0m\n\u001b[0m\u001b[0;32m   1076\u001b[0m \u001b[1;33m\u001b[0m\u001b[0m\n\u001b[0;32m   1077\u001b[0m \u001b[1;33m\u001b[0m\u001b[0m\n",
      "\u001b[1;31mTypeError\u001b[0m: ('Unsupported type for weight', \"<class 'str'>\")"
     ]
    }
   ],
   "source": [
    "#https://github.com/KUNJAN6902/MultiClass-Classifier\n",
    "from sklearn.preprocessing import StandardScaler\n",
    "from sklearn.tree import DecisionTreeClassifier \n",
    "from sklearn.ensemble import RandomForestClassifier\n",
    "from sklearn.model_selection import train_test_split\n",
    "from sklearn.metrics import confusion_matrix\n",
    "from sklearn.metrics import accuracy_score\n",
    "# Splitting Independent and Dependent Variables\n",
    "#x_7per = dataframe_7per.iloc[:, 2:35].values\n",
    "#y_7per = dataframe_7per.iloc[:, 1].values\n",
    "\n",
    "# Splitting the dataset into the Training set and Test set\n",
    "X_train, X_test, y_train, y_test = train_test_split(X1, y1, test_size=0.2, random_state=0)\n",
    "\n",
    "# Feature Scaling\n",
    "sc = StandardScaler()\n",
    "X_train = sc.fit_transform(X_train)\n",
    "X_test = sc.transform(X_test)\n",
    "\n",
    "#SMOTE\n",
    "#from imblearn.over_sampling import SMOTE\n",
    "#smote = SMOTE('minority')\n",
    "#x_sm, y_sm = smote.fit_sample(X_train, y_train)\n",
    "import xgboost as xgb\n",
    "#XGB Classifier\n",
    "xg_cl = xgb.XGBClassifier(objective= \"multi:softprob\", \n",
    "                                  n_estimators=1000, \n",
    "                                  learning_rate=0.1, \n",
    "                                  seed=123,\n",
    "                                  max_depth=8)\n",
    "\n",
    "xg_cl.fit(X1, y1,'binary:logistic')\n",
    "\n",
    "preds = xg_cl.predict(X_test)\n",
    "        \n",
    "print('Accuracy : ', accuracy_score(y_test, preds))"
   ]
  },
  {
   "cell_type": "code",
   "execution_count": 282,
   "id": "0a99419b",
   "metadata": {},
   "outputs": [
    {
     "name": "stderr",
     "output_type": "stream",
     "text": [
      "ERROR:root:Internal Python error in the inspect module.\n",
      "Below is the traceback from this internal error.\n",
      "\n"
     ]
    },
    {
     "name": "stdout",
     "output_type": "stream",
     "text": [
      "Traceback (most recent call last):\n",
      "  File \"C:\\Users\\Christos\\anaconda3\\envs\\ml\\lib\\site-packages\\IPython\\core\\interactiveshell.py\", line 3441, in run_code\n",
      "    exec(code_obj, self.user_global_ns, self.user_ns)\n",
      "  File \"C:\\Users\\Christos\\AppData\\Local\\Temp/ipykernel_16328/3507763753.py\", line 8, in <module>\n",
      "    cv.fit(X1,y1.values.ravel())\n",
      "  File \"C:\\Users\\Christos\\AppData\\Roaming\\Python\\Python39\\site-packages\\sklearn\\utils\\validation.py\", line 63, in inner_f\n",
      "    return f(*args, **kwargs)\n",
      "  File \"C:\\Users\\Christos\\AppData\\Roaming\\Python\\Python39\\site-packages\\sklearn\\model_selection\\_search.py\", line 841, in fit\n",
      "    self._run_search(evaluate_candidates)\n",
      "  File \"C:\\Users\\Christos\\AppData\\Roaming\\Python\\Python39\\site-packages\\sklearn\\model_selection\\_search.py\", line 1296, in _run_search\n",
      "    evaluate_candidates(ParameterGrid(self.param_grid))\n",
      "  File \"C:\\Users\\Christos\\AppData\\Roaming\\Python\\Python39\\site-packages\\sklearn\\model_selection\\_search.py\", line 795, in evaluate_candidates\n",
      "    out = parallel(delayed(_fit_and_score)(clone(base_estimator),\n",
      "  File \"C:\\Users\\Christos\\AppData\\Roaming\\Python\\Python39\\site-packages\\joblib\\parallel.py\", line 1044, in __call__\n",
      "    while self.dispatch_one_batch(iterator):\n",
      "  File \"C:\\Users\\Christos\\AppData\\Roaming\\Python\\Python39\\site-packages\\joblib\\parallel.py\", line 859, in dispatch_one_batch\n",
      "    self._dispatch(tasks)\n",
      "  File \"C:\\Users\\Christos\\AppData\\Roaming\\Python\\Python39\\site-packages\\joblib\\parallel.py\", line 777, in _dispatch\n",
      "    job = self._backend.apply_async(batch, callback=cb)\n",
      "  File \"C:\\Users\\Christos\\AppData\\Roaming\\Python\\Python39\\site-packages\\joblib\\_parallel_backends.py\", line 208, in apply_async\n",
      "    result = ImmediateResult(func)\n",
      "  File \"C:\\Users\\Christos\\AppData\\Roaming\\Python\\Python39\\site-packages\\joblib\\_parallel_backends.py\", line 572, in __init__\n",
      "    self.results = batch()\n",
      "  File \"C:\\Users\\Christos\\AppData\\Roaming\\Python\\Python39\\site-packages\\joblib\\parallel.py\", line 262, in __call__\n",
      "    return [func(*args, **kwargs)\n",
      "  File \"C:\\Users\\Christos\\AppData\\Roaming\\Python\\Python39\\site-packages\\joblib\\parallel.py\", line 262, in <listcomp>\n",
      "    return [func(*args, **kwargs)\n",
      "  File \"C:\\Users\\Christos\\AppData\\Roaming\\Python\\Python39\\site-packages\\sklearn\\utils\\fixes.py\", line 222, in __call__\n",
      "    return self.function(*args, **kwargs)\n",
      "  File \"C:\\Users\\Christos\\AppData\\Roaming\\Python\\Python39\\site-packages\\sklearn\\model_selection\\_validation.py\", line 598, in _fit_and_score\n",
      "    estimator.fit(X_train, y_train, **fit_params)\n",
      "  File \"C:\\Users\\Christos\\AppData\\Roaming\\Python\\Python39\\site-packages\\sklearn\\ensemble\\_forest.py\", line 387, in fit\n",
      "    trees = Parallel(n_jobs=self.n_jobs, verbose=self.verbose,\n",
      "  File \"C:\\Users\\Christos\\AppData\\Roaming\\Python\\Python39\\site-packages\\joblib\\parallel.py\", line 1044, in __call__\n",
      "    while self.dispatch_one_batch(iterator):\n",
      "  File \"C:\\Users\\Christos\\AppData\\Roaming\\Python\\Python39\\site-packages\\joblib\\parallel.py\", line 859, in dispatch_one_batch\n",
      "    self._dispatch(tasks)\n",
      "  File \"C:\\Users\\Christos\\AppData\\Roaming\\Python\\Python39\\site-packages\\joblib\\parallel.py\", line 777, in _dispatch\n",
      "    job = self._backend.apply_async(batch, callback=cb)\n",
      "  File \"C:\\Users\\Christos\\AppData\\Roaming\\Python\\Python39\\site-packages\\joblib\\_parallel_backends.py\", line 208, in apply_async\n",
      "    result = ImmediateResult(func)\n",
      "  File \"C:\\Users\\Christos\\AppData\\Roaming\\Python\\Python39\\site-packages\\joblib\\_parallel_backends.py\", line 572, in __init__\n",
      "    self.results = batch()\n",
      "  File \"C:\\Users\\Christos\\AppData\\Roaming\\Python\\Python39\\site-packages\\joblib\\parallel.py\", line 262, in __call__\n",
      "    return [func(*args, **kwargs)\n",
      "  File \"C:\\Users\\Christos\\AppData\\Roaming\\Python\\Python39\\site-packages\\joblib\\parallel.py\", line 262, in <listcomp>\n",
      "    return [func(*args, **kwargs)\n",
      "  File \"C:\\Users\\Christos\\AppData\\Roaming\\Python\\Python39\\site-packages\\sklearn\\utils\\fixes.py\", line 222, in __call__\n",
      "    return self.function(*args, **kwargs)\n",
      "  File \"C:\\Users\\Christos\\AppData\\Roaming\\Python\\Python39\\site-packages\\sklearn\\ensemble\\_forest.py\", line 169, in _parallel_build_trees\n",
      "    tree.fit(X, y, sample_weight=curr_sample_weight, check_input=False)\n",
      "  File \"C:\\Users\\Christos\\AppData\\Roaming\\Python\\Python39\\site-packages\\sklearn\\tree\\_classes.py\", line 903, in fit\n",
      "    super().fit(\n",
      "  File \"C:\\Users\\Christos\\AppData\\Roaming\\Python\\Python39\\site-packages\\sklearn\\tree\\_classes.py\", line 394, in fit\n",
      "    builder.build(self.tree_, X, y, sample_weight)\n",
      "KeyboardInterrupt\n",
      "\n",
      "During handling of the above exception, another exception occurred:\n",
      "\n",
      "Traceback (most recent call last):\n",
      "  File \"C:\\Users\\Christos\\anaconda3\\envs\\ml\\lib\\site-packages\\IPython\\core\\interactiveshell.py\", line 2061, in showtraceback\n",
      "    stb = value._render_traceback_()\n",
      "AttributeError: 'KeyboardInterrupt' object has no attribute '_render_traceback_'\n",
      "\n",
      "During handling of the above exception, another exception occurred:\n",
      "\n",
      "Traceback (most recent call last):\n",
      "  File \"C:\\Users\\Christos\\anaconda3\\envs\\ml\\lib\\site-packages\\IPython\\core\\ultratb.py\", line 1101, in get_records\n",
      "    return _fixed_getinnerframes(etb, number_of_lines_of_context, tb_offset)\n",
      "  File \"C:\\Users\\Christos\\anaconda3\\envs\\ml\\lib\\site-packages\\IPython\\core\\ultratb.py\", line 248, in wrapped\n",
      "    return f(*args, **kwargs)\n",
      "  File \"C:\\Users\\Christos\\anaconda3\\envs\\ml\\lib\\site-packages\\IPython\\core\\ultratb.py\", line 281, in _fixed_getinnerframes\n",
      "    records = fix_frame_records_filenames(inspect.getinnerframes(etb, context))\n",
      "  File \"C:\\Users\\Christos\\anaconda3\\envs\\ml\\lib\\inspect.py\", line 1541, in getinnerframes\n",
      "    frameinfo = (tb.tb_frame,) + getframeinfo(tb, context)\n",
      "  File \"C:\\Users\\Christos\\anaconda3\\envs\\ml\\lib\\inspect.py\", line 1503, in getframeinfo\n",
      "    lines, lnum = findsource(frame)\n",
      "  File \"C:\\Users\\Christos\\anaconda3\\envs\\ml\\lib\\site-packages\\IPython\\core\\ultratb.py\", line 182, in findsource\n",
      "    lines = linecache.getlines(file, globals_dict)\n",
      "  File \"C:\\Users\\Christos\\anaconda3\\envs\\ml\\lib\\linecache.py\", line 46, in getlines\n",
      "    return updatecache(filename, module_globals)\n",
      "  File \"C:\\Users\\Christos\\anaconda3\\envs\\ml\\lib\\linecache.py\", line 136, in updatecache\n",
      "    with tokenize.open(fullname) as fp:\n",
      "  File \"C:\\Users\\Christos\\anaconda3\\envs\\ml\\lib\\tokenize.py\", line 392, in open\n",
      "    buffer = _builtin_open(filename, 'rb')\n",
      "KeyboardInterrupt\n"
     ]
    },
    {
     "ename": "TypeError",
     "evalue": "object of type 'NoneType' has no len()",
     "output_type": "error",
     "traceback": [
      "\u001b[1;31m---------------------------------------------------------------------------\u001b[0m",
      "\u001b[1;31mKeyboardInterrupt\u001b[0m                         Traceback (most recent call last)",
      "    \u001b[1;31m[... skipping hidden 1 frame]\u001b[0m\n",
      "\u001b[1;32m~\\AppData\\Local\\Temp/ipykernel_16328/3507763753.py\u001b[0m in \u001b[0;36m<module>\u001b[1;34m\u001b[0m\n\u001b[0;32m      7\u001b[0m \u001b[0mcv\u001b[0m \u001b[1;33m=\u001b[0m \u001b[0mGridSearchCV\u001b[0m\u001b[1;33m(\u001b[0m\u001b[0mclassifier\u001b[0m\u001b[1;33m,\u001b[0m\u001b[0mparameters\u001b[0m\u001b[1;33m,\u001b[0m\u001b[0mcv\u001b[0m\u001b[1;33m=\u001b[0m\u001b[1;36m5\u001b[0m\u001b[1;33m)\u001b[0m\u001b[1;33m\u001b[0m\u001b[1;33m\u001b[0m\u001b[0m\n\u001b[1;32m----> 8\u001b[1;33m \u001b[0mcv\u001b[0m\u001b[1;33m.\u001b[0m\u001b[0mfit\u001b[0m\u001b[1;33m(\u001b[0m\u001b[0mX1\u001b[0m\u001b[1;33m,\u001b[0m\u001b[0my1\u001b[0m\u001b[1;33m.\u001b[0m\u001b[0mvalues\u001b[0m\u001b[1;33m.\u001b[0m\u001b[0mravel\u001b[0m\u001b[1;33m(\u001b[0m\u001b[1;33m)\u001b[0m\u001b[1;33m)\u001b[0m\u001b[1;33m\u001b[0m\u001b[1;33m\u001b[0m\u001b[0m\n\u001b[0m",
      "\u001b[1;32m~\\AppData\\Roaming\\Python\\Python39\\site-packages\\sklearn\\utils\\validation.py\u001b[0m in \u001b[0;36minner_f\u001b[1;34m(*args, **kwargs)\u001b[0m\n\u001b[0;32m     62\u001b[0m             \u001b[1;32mif\u001b[0m \u001b[0mextra_args\u001b[0m \u001b[1;33m<=\u001b[0m \u001b[1;36m0\u001b[0m\u001b[1;33m:\u001b[0m\u001b[1;33m\u001b[0m\u001b[1;33m\u001b[0m\u001b[0m\n\u001b[1;32m---> 63\u001b[1;33m                 \u001b[1;32mreturn\u001b[0m \u001b[0mf\u001b[0m\u001b[1;33m(\u001b[0m\u001b[1;33m*\u001b[0m\u001b[0margs\u001b[0m\u001b[1;33m,\u001b[0m \u001b[1;33m**\u001b[0m\u001b[0mkwargs\u001b[0m\u001b[1;33m)\u001b[0m\u001b[1;33m\u001b[0m\u001b[1;33m\u001b[0m\u001b[0m\n\u001b[0m\u001b[0;32m     64\u001b[0m \u001b[1;33m\u001b[0m\u001b[0m\n",
      "\u001b[1;32m~\\AppData\\Roaming\\Python\\Python39\\site-packages\\sklearn\\model_selection\\_search.py\u001b[0m in \u001b[0;36mfit\u001b[1;34m(self, X, y, groups, **fit_params)\u001b[0m\n\u001b[0;32m    840\u001b[0m \u001b[1;33m\u001b[0m\u001b[0m\n\u001b[1;32m--> 841\u001b[1;33m             \u001b[0mself\u001b[0m\u001b[1;33m.\u001b[0m\u001b[0m_run_search\u001b[0m\u001b[1;33m(\u001b[0m\u001b[0mevaluate_candidates\u001b[0m\u001b[1;33m)\u001b[0m\u001b[1;33m\u001b[0m\u001b[1;33m\u001b[0m\u001b[0m\n\u001b[0m\u001b[0;32m    842\u001b[0m \u001b[1;33m\u001b[0m\u001b[0m\n",
      "\u001b[1;32m~\\AppData\\Roaming\\Python\\Python39\\site-packages\\sklearn\\model_selection\\_search.py\u001b[0m in \u001b[0;36m_run_search\u001b[1;34m(self, evaluate_candidates)\u001b[0m\n\u001b[0;32m   1295\u001b[0m         \u001b[1;34m\"\"\"Search all candidates in param_grid\"\"\"\u001b[0m\u001b[1;33m\u001b[0m\u001b[1;33m\u001b[0m\u001b[0m\n\u001b[1;32m-> 1296\u001b[1;33m         \u001b[0mevaluate_candidates\u001b[0m\u001b[1;33m(\u001b[0m\u001b[0mParameterGrid\u001b[0m\u001b[1;33m(\u001b[0m\u001b[0mself\u001b[0m\u001b[1;33m.\u001b[0m\u001b[0mparam_grid\u001b[0m\u001b[1;33m)\u001b[0m\u001b[1;33m)\u001b[0m\u001b[1;33m\u001b[0m\u001b[1;33m\u001b[0m\u001b[0m\n\u001b[0m\u001b[0;32m   1297\u001b[0m \u001b[1;33m\u001b[0m\u001b[0m\n",
      "\u001b[1;32m~\\AppData\\Roaming\\Python\\Python39\\site-packages\\sklearn\\model_selection\\_search.py\u001b[0m in \u001b[0;36mevaluate_candidates\u001b[1;34m(candidate_params, cv, more_results)\u001b[0m\n\u001b[0;32m    794\u001b[0m \u001b[1;33m\u001b[0m\u001b[0m\n\u001b[1;32m--> 795\u001b[1;33m                 out = parallel(delayed(_fit_and_score)(clone(base_estimator),\n\u001b[0m\u001b[0;32m    796\u001b[0m                                                        \u001b[0mX\u001b[0m\u001b[1;33m,\u001b[0m \u001b[0my\u001b[0m\u001b[1;33m,\u001b[0m\u001b[1;33m\u001b[0m\u001b[1;33m\u001b[0m\u001b[0m\n",
      "\u001b[1;32m~\\AppData\\Roaming\\Python\\Python39\\site-packages\\joblib\\parallel.py\u001b[0m in \u001b[0;36m__call__\u001b[1;34m(self, iterable)\u001b[0m\n\u001b[0;32m   1043\u001b[0m \u001b[1;33m\u001b[0m\u001b[0m\n\u001b[1;32m-> 1044\u001b[1;33m             \u001b[1;32mwhile\u001b[0m \u001b[0mself\u001b[0m\u001b[1;33m.\u001b[0m\u001b[0mdispatch_one_batch\u001b[0m\u001b[1;33m(\u001b[0m\u001b[0miterator\u001b[0m\u001b[1;33m)\u001b[0m\u001b[1;33m:\u001b[0m\u001b[1;33m\u001b[0m\u001b[1;33m\u001b[0m\u001b[0m\n\u001b[0m\u001b[0;32m   1045\u001b[0m                 \u001b[1;32mpass\u001b[0m\u001b[1;33m\u001b[0m\u001b[1;33m\u001b[0m\u001b[0m\n",
      "\u001b[1;32m~\\AppData\\Roaming\\Python\\Python39\\site-packages\\joblib\\parallel.py\u001b[0m in \u001b[0;36mdispatch_one_batch\u001b[1;34m(self, iterator)\u001b[0m\n\u001b[0;32m    858\u001b[0m             \u001b[1;32melse\u001b[0m\u001b[1;33m:\u001b[0m\u001b[1;33m\u001b[0m\u001b[1;33m\u001b[0m\u001b[0m\n\u001b[1;32m--> 859\u001b[1;33m                 \u001b[0mself\u001b[0m\u001b[1;33m.\u001b[0m\u001b[0m_dispatch\u001b[0m\u001b[1;33m(\u001b[0m\u001b[0mtasks\u001b[0m\u001b[1;33m)\u001b[0m\u001b[1;33m\u001b[0m\u001b[1;33m\u001b[0m\u001b[0m\n\u001b[0m\u001b[0;32m    860\u001b[0m                 \u001b[1;32mreturn\u001b[0m \u001b[1;32mTrue\u001b[0m\u001b[1;33m\u001b[0m\u001b[1;33m\u001b[0m\u001b[0m\n",
      "\u001b[1;32m~\\AppData\\Roaming\\Python\\Python39\\site-packages\\joblib\\parallel.py\u001b[0m in \u001b[0;36m_dispatch\u001b[1;34m(self, batch)\u001b[0m\n\u001b[0;32m    776\u001b[0m             \u001b[0mjob_idx\u001b[0m \u001b[1;33m=\u001b[0m \u001b[0mlen\u001b[0m\u001b[1;33m(\u001b[0m\u001b[0mself\u001b[0m\u001b[1;33m.\u001b[0m\u001b[0m_jobs\u001b[0m\u001b[1;33m)\u001b[0m\u001b[1;33m\u001b[0m\u001b[1;33m\u001b[0m\u001b[0m\n\u001b[1;32m--> 777\u001b[1;33m             \u001b[0mjob\u001b[0m \u001b[1;33m=\u001b[0m \u001b[0mself\u001b[0m\u001b[1;33m.\u001b[0m\u001b[0m_backend\u001b[0m\u001b[1;33m.\u001b[0m\u001b[0mapply_async\u001b[0m\u001b[1;33m(\u001b[0m\u001b[0mbatch\u001b[0m\u001b[1;33m,\u001b[0m \u001b[0mcallback\u001b[0m\u001b[1;33m=\u001b[0m\u001b[0mcb\u001b[0m\u001b[1;33m)\u001b[0m\u001b[1;33m\u001b[0m\u001b[1;33m\u001b[0m\u001b[0m\n\u001b[0m\u001b[0;32m    778\u001b[0m             \u001b[1;31m# A job can complete so quickly than its callback is\u001b[0m\u001b[1;33m\u001b[0m\u001b[1;33m\u001b[0m\u001b[1;33m\u001b[0m\u001b[0m\n",
      "\u001b[1;32m~\\AppData\\Roaming\\Python\\Python39\\site-packages\\joblib\\_parallel_backends.py\u001b[0m in \u001b[0;36mapply_async\u001b[1;34m(self, func, callback)\u001b[0m\n\u001b[0;32m    207\u001b[0m         \u001b[1;34m\"\"\"Schedule a func to be run\"\"\"\u001b[0m\u001b[1;33m\u001b[0m\u001b[1;33m\u001b[0m\u001b[0m\n\u001b[1;32m--> 208\u001b[1;33m         \u001b[0mresult\u001b[0m \u001b[1;33m=\u001b[0m \u001b[0mImmediateResult\u001b[0m\u001b[1;33m(\u001b[0m\u001b[0mfunc\u001b[0m\u001b[1;33m)\u001b[0m\u001b[1;33m\u001b[0m\u001b[1;33m\u001b[0m\u001b[0m\n\u001b[0m\u001b[0;32m    209\u001b[0m         \u001b[1;32mif\u001b[0m \u001b[0mcallback\u001b[0m\u001b[1;33m:\u001b[0m\u001b[1;33m\u001b[0m\u001b[1;33m\u001b[0m\u001b[0m\n",
      "\u001b[1;32m~\\AppData\\Roaming\\Python\\Python39\\site-packages\\joblib\\_parallel_backends.py\u001b[0m in \u001b[0;36m__init__\u001b[1;34m(self, batch)\u001b[0m\n\u001b[0;32m    571\u001b[0m         \u001b[1;31m# arguments in memory\u001b[0m\u001b[1;33m\u001b[0m\u001b[1;33m\u001b[0m\u001b[1;33m\u001b[0m\u001b[0m\n\u001b[1;32m--> 572\u001b[1;33m         \u001b[0mself\u001b[0m\u001b[1;33m.\u001b[0m\u001b[0mresults\u001b[0m \u001b[1;33m=\u001b[0m \u001b[0mbatch\u001b[0m\u001b[1;33m(\u001b[0m\u001b[1;33m)\u001b[0m\u001b[1;33m\u001b[0m\u001b[1;33m\u001b[0m\u001b[0m\n\u001b[0m\u001b[0;32m    573\u001b[0m \u001b[1;33m\u001b[0m\u001b[0m\n",
      "\u001b[1;32m~\\AppData\\Roaming\\Python\\Python39\\site-packages\\joblib\\parallel.py\u001b[0m in \u001b[0;36m__call__\u001b[1;34m(self)\u001b[0m\n\u001b[0;32m    261\u001b[0m         \u001b[1;32mwith\u001b[0m \u001b[0mparallel_backend\u001b[0m\u001b[1;33m(\u001b[0m\u001b[0mself\u001b[0m\u001b[1;33m.\u001b[0m\u001b[0m_backend\u001b[0m\u001b[1;33m,\u001b[0m \u001b[0mn_jobs\u001b[0m\u001b[1;33m=\u001b[0m\u001b[0mself\u001b[0m\u001b[1;33m.\u001b[0m\u001b[0m_n_jobs\u001b[0m\u001b[1;33m)\u001b[0m\u001b[1;33m:\u001b[0m\u001b[1;33m\u001b[0m\u001b[1;33m\u001b[0m\u001b[0m\n\u001b[1;32m--> 262\u001b[1;33m             return [func(*args, **kwargs)\n\u001b[0m\u001b[0;32m    263\u001b[0m                     for func, args, kwargs in self.items]\n",
      "\u001b[1;32m~\\AppData\\Roaming\\Python\\Python39\\site-packages\\joblib\\parallel.py\u001b[0m in \u001b[0;36m<listcomp>\u001b[1;34m(.0)\u001b[0m\n\u001b[0;32m    261\u001b[0m         \u001b[1;32mwith\u001b[0m \u001b[0mparallel_backend\u001b[0m\u001b[1;33m(\u001b[0m\u001b[0mself\u001b[0m\u001b[1;33m.\u001b[0m\u001b[0m_backend\u001b[0m\u001b[1;33m,\u001b[0m \u001b[0mn_jobs\u001b[0m\u001b[1;33m=\u001b[0m\u001b[0mself\u001b[0m\u001b[1;33m.\u001b[0m\u001b[0m_n_jobs\u001b[0m\u001b[1;33m)\u001b[0m\u001b[1;33m:\u001b[0m\u001b[1;33m\u001b[0m\u001b[1;33m\u001b[0m\u001b[0m\n\u001b[1;32m--> 262\u001b[1;33m             return [func(*args, **kwargs)\n\u001b[0m\u001b[0;32m    263\u001b[0m                     for func, args, kwargs in self.items]\n",
      "\u001b[1;32m~\\AppData\\Roaming\\Python\\Python39\\site-packages\\sklearn\\utils\\fixes.py\u001b[0m in \u001b[0;36m__call__\u001b[1;34m(self, *args, **kwargs)\u001b[0m\n\u001b[0;32m    221\u001b[0m         \u001b[1;32mwith\u001b[0m \u001b[0mconfig_context\u001b[0m\u001b[1;33m(\u001b[0m\u001b[1;33m**\u001b[0m\u001b[0mself\u001b[0m\u001b[1;33m.\u001b[0m\u001b[0mconfig\u001b[0m\u001b[1;33m)\u001b[0m\u001b[1;33m:\u001b[0m\u001b[1;33m\u001b[0m\u001b[1;33m\u001b[0m\u001b[0m\n\u001b[1;32m--> 222\u001b[1;33m             \u001b[1;32mreturn\u001b[0m \u001b[0mself\u001b[0m\u001b[1;33m.\u001b[0m\u001b[0mfunction\u001b[0m\u001b[1;33m(\u001b[0m\u001b[1;33m*\u001b[0m\u001b[0margs\u001b[0m\u001b[1;33m,\u001b[0m \u001b[1;33m**\u001b[0m\u001b[0mkwargs\u001b[0m\u001b[1;33m)\u001b[0m\u001b[1;33m\u001b[0m\u001b[1;33m\u001b[0m\u001b[0m\n\u001b[0m",
      "\u001b[1;32m~\\AppData\\Roaming\\Python\\Python39\\site-packages\\sklearn\\model_selection\\_validation.py\u001b[0m in \u001b[0;36m_fit_and_score\u001b[1;34m(estimator, X, y, scorer, train, test, verbose, parameters, fit_params, return_train_score, return_parameters, return_n_test_samples, return_times, return_estimator, split_progress, candidate_progress, error_score)\u001b[0m\n\u001b[0;32m    597\u001b[0m         \u001b[1;32melse\u001b[0m\u001b[1;33m:\u001b[0m\u001b[1;33m\u001b[0m\u001b[1;33m\u001b[0m\u001b[0m\n\u001b[1;32m--> 598\u001b[1;33m             \u001b[0mestimator\u001b[0m\u001b[1;33m.\u001b[0m\u001b[0mfit\u001b[0m\u001b[1;33m(\u001b[0m\u001b[0mX_train\u001b[0m\u001b[1;33m,\u001b[0m \u001b[0my_train\u001b[0m\u001b[1;33m,\u001b[0m \u001b[1;33m**\u001b[0m\u001b[0mfit_params\u001b[0m\u001b[1;33m)\u001b[0m\u001b[1;33m\u001b[0m\u001b[1;33m\u001b[0m\u001b[0m\n\u001b[0m\u001b[0;32m    599\u001b[0m \u001b[1;33m\u001b[0m\u001b[0m\n",
      "\u001b[1;32m~\\AppData\\Roaming\\Python\\Python39\\site-packages\\sklearn\\ensemble\\_forest.py\u001b[0m in \u001b[0;36mfit\u001b[1;34m(self, X, y, sample_weight)\u001b[0m\n\u001b[0;32m    386\u001b[0m             \u001b[1;31m# since correctness does not rely on using threads.\u001b[0m\u001b[1;33m\u001b[0m\u001b[1;33m\u001b[0m\u001b[1;33m\u001b[0m\u001b[0m\n\u001b[1;32m--> 387\u001b[1;33m             trees = Parallel(n_jobs=self.n_jobs, verbose=self.verbose,\n\u001b[0m\u001b[0;32m    388\u001b[0m                              \u001b[1;33m**\u001b[0m\u001b[0m_joblib_parallel_args\u001b[0m\u001b[1;33m(\u001b[0m\u001b[0mprefer\u001b[0m\u001b[1;33m=\u001b[0m\u001b[1;34m'threads'\u001b[0m\u001b[1;33m)\u001b[0m\u001b[1;33m)\u001b[0m\u001b[1;33m(\u001b[0m\u001b[1;33m\u001b[0m\u001b[1;33m\u001b[0m\u001b[0m\n",
      "\u001b[1;32m~\\AppData\\Roaming\\Python\\Python39\\site-packages\\joblib\\parallel.py\u001b[0m in \u001b[0;36m__call__\u001b[1;34m(self, iterable)\u001b[0m\n\u001b[0;32m   1043\u001b[0m \u001b[1;33m\u001b[0m\u001b[0m\n\u001b[1;32m-> 1044\u001b[1;33m             \u001b[1;32mwhile\u001b[0m \u001b[0mself\u001b[0m\u001b[1;33m.\u001b[0m\u001b[0mdispatch_one_batch\u001b[0m\u001b[1;33m(\u001b[0m\u001b[0miterator\u001b[0m\u001b[1;33m)\u001b[0m\u001b[1;33m:\u001b[0m\u001b[1;33m\u001b[0m\u001b[1;33m\u001b[0m\u001b[0m\n\u001b[0m\u001b[0;32m   1045\u001b[0m                 \u001b[1;32mpass\u001b[0m\u001b[1;33m\u001b[0m\u001b[1;33m\u001b[0m\u001b[0m\n",
      "\u001b[1;32m~\\AppData\\Roaming\\Python\\Python39\\site-packages\\joblib\\parallel.py\u001b[0m in \u001b[0;36mdispatch_one_batch\u001b[1;34m(self, iterator)\u001b[0m\n\u001b[0;32m    858\u001b[0m             \u001b[1;32melse\u001b[0m\u001b[1;33m:\u001b[0m\u001b[1;33m\u001b[0m\u001b[1;33m\u001b[0m\u001b[0m\n\u001b[1;32m--> 859\u001b[1;33m                 \u001b[0mself\u001b[0m\u001b[1;33m.\u001b[0m\u001b[0m_dispatch\u001b[0m\u001b[1;33m(\u001b[0m\u001b[0mtasks\u001b[0m\u001b[1;33m)\u001b[0m\u001b[1;33m\u001b[0m\u001b[1;33m\u001b[0m\u001b[0m\n\u001b[0m\u001b[0;32m    860\u001b[0m                 \u001b[1;32mreturn\u001b[0m \u001b[1;32mTrue\u001b[0m\u001b[1;33m\u001b[0m\u001b[1;33m\u001b[0m\u001b[0m\n",
      "\u001b[1;32m~\\AppData\\Roaming\\Python\\Python39\\site-packages\\joblib\\parallel.py\u001b[0m in \u001b[0;36m_dispatch\u001b[1;34m(self, batch)\u001b[0m\n\u001b[0;32m    776\u001b[0m             \u001b[0mjob_idx\u001b[0m \u001b[1;33m=\u001b[0m \u001b[0mlen\u001b[0m\u001b[1;33m(\u001b[0m\u001b[0mself\u001b[0m\u001b[1;33m.\u001b[0m\u001b[0m_jobs\u001b[0m\u001b[1;33m)\u001b[0m\u001b[1;33m\u001b[0m\u001b[1;33m\u001b[0m\u001b[0m\n\u001b[1;32m--> 777\u001b[1;33m             \u001b[0mjob\u001b[0m \u001b[1;33m=\u001b[0m \u001b[0mself\u001b[0m\u001b[1;33m.\u001b[0m\u001b[0m_backend\u001b[0m\u001b[1;33m.\u001b[0m\u001b[0mapply_async\u001b[0m\u001b[1;33m(\u001b[0m\u001b[0mbatch\u001b[0m\u001b[1;33m,\u001b[0m \u001b[0mcallback\u001b[0m\u001b[1;33m=\u001b[0m\u001b[0mcb\u001b[0m\u001b[1;33m)\u001b[0m\u001b[1;33m\u001b[0m\u001b[1;33m\u001b[0m\u001b[0m\n\u001b[0m\u001b[0;32m    778\u001b[0m             \u001b[1;31m# A job can complete so quickly than its callback is\u001b[0m\u001b[1;33m\u001b[0m\u001b[1;33m\u001b[0m\u001b[1;33m\u001b[0m\u001b[0m\n",
      "\u001b[1;32m~\\AppData\\Roaming\\Python\\Python39\\site-packages\\joblib\\_parallel_backends.py\u001b[0m in \u001b[0;36mapply_async\u001b[1;34m(self, func, callback)\u001b[0m\n\u001b[0;32m    207\u001b[0m         \u001b[1;34m\"\"\"Schedule a func to be run\"\"\"\u001b[0m\u001b[1;33m\u001b[0m\u001b[1;33m\u001b[0m\u001b[0m\n\u001b[1;32m--> 208\u001b[1;33m         \u001b[0mresult\u001b[0m \u001b[1;33m=\u001b[0m \u001b[0mImmediateResult\u001b[0m\u001b[1;33m(\u001b[0m\u001b[0mfunc\u001b[0m\u001b[1;33m)\u001b[0m\u001b[1;33m\u001b[0m\u001b[1;33m\u001b[0m\u001b[0m\n\u001b[0m\u001b[0;32m    209\u001b[0m         \u001b[1;32mif\u001b[0m \u001b[0mcallback\u001b[0m\u001b[1;33m:\u001b[0m\u001b[1;33m\u001b[0m\u001b[1;33m\u001b[0m\u001b[0m\n",
      "\u001b[1;32m~\\AppData\\Roaming\\Python\\Python39\\site-packages\\joblib\\_parallel_backends.py\u001b[0m in \u001b[0;36m__init__\u001b[1;34m(self, batch)\u001b[0m\n\u001b[0;32m    571\u001b[0m         \u001b[1;31m# arguments in memory\u001b[0m\u001b[1;33m\u001b[0m\u001b[1;33m\u001b[0m\u001b[1;33m\u001b[0m\u001b[0m\n\u001b[1;32m--> 572\u001b[1;33m         \u001b[0mself\u001b[0m\u001b[1;33m.\u001b[0m\u001b[0mresults\u001b[0m \u001b[1;33m=\u001b[0m \u001b[0mbatch\u001b[0m\u001b[1;33m(\u001b[0m\u001b[1;33m)\u001b[0m\u001b[1;33m\u001b[0m\u001b[1;33m\u001b[0m\u001b[0m\n\u001b[0m\u001b[0;32m    573\u001b[0m \u001b[1;33m\u001b[0m\u001b[0m\n",
      "\u001b[1;32m~\\AppData\\Roaming\\Python\\Python39\\site-packages\\joblib\\parallel.py\u001b[0m in \u001b[0;36m__call__\u001b[1;34m(self)\u001b[0m\n\u001b[0;32m    261\u001b[0m         \u001b[1;32mwith\u001b[0m \u001b[0mparallel_backend\u001b[0m\u001b[1;33m(\u001b[0m\u001b[0mself\u001b[0m\u001b[1;33m.\u001b[0m\u001b[0m_backend\u001b[0m\u001b[1;33m,\u001b[0m \u001b[0mn_jobs\u001b[0m\u001b[1;33m=\u001b[0m\u001b[0mself\u001b[0m\u001b[1;33m.\u001b[0m\u001b[0m_n_jobs\u001b[0m\u001b[1;33m)\u001b[0m\u001b[1;33m:\u001b[0m\u001b[1;33m\u001b[0m\u001b[1;33m\u001b[0m\u001b[0m\n\u001b[1;32m--> 262\u001b[1;33m             return [func(*args, **kwargs)\n\u001b[0m\u001b[0;32m    263\u001b[0m                     for func, args, kwargs in self.items]\n",
      "\u001b[1;32m~\\AppData\\Roaming\\Python\\Python39\\site-packages\\joblib\\parallel.py\u001b[0m in \u001b[0;36m<listcomp>\u001b[1;34m(.0)\u001b[0m\n\u001b[0;32m    261\u001b[0m         \u001b[1;32mwith\u001b[0m \u001b[0mparallel_backend\u001b[0m\u001b[1;33m(\u001b[0m\u001b[0mself\u001b[0m\u001b[1;33m.\u001b[0m\u001b[0m_backend\u001b[0m\u001b[1;33m,\u001b[0m \u001b[0mn_jobs\u001b[0m\u001b[1;33m=\u001b[0m\u001b[0mself\u001b[0m\u001b[1;33m.\u001b[0m\u001b[0m_n_jobs\u001b[0m\u001b[1;33m)\u001b[0m\u001b[1;33m:\u001b[0m\u001b[1;33m\u001b[0m\u001b[1;33m\u001b[0m\u001b[0m\n\u001b[1;32m--> 262\u001b[1;33m             return [func(*args, **kwargs)\n\u001b[0m\u001b[0;32m    263\u001b[0m                     for func, args, kwargs in self.items]\n",
      "\u001b[1;32m~\\AppData\\Roaming\\Python\\Python39\\site-packages\\sklearn\\utils\\fixes.py\u001b[0m in \u001b[0;36m__call__\u001b[1;34m(self, *args, **kwargs)\u001b[0m\n\u001b[0;32m    221\u001b[0m         \u001b[1;32mwith\u001b[0m \u001b[0mconfig_context\u001b[0m\u001b[1;33m(\u001b[0m\u001b[1;33m**\u001b[0m\u001b[0mself\u001b[0m\u001b[1;33m.\u001b[0m\u001b[0mconfig\u001b[0m\u001b[1;33m)\u001b[0m\u001b[1;33m:\u001b[0m\u001b[1;33m\u001b[0m\u001b[1;33m\u001b[0m\u001b[0m\n\u001b[1;32m--> 222\u001b[1;33m             \u001b[1;32mreturn\u001b[0m \u001b[0mself\u001b[0m\u001b[1;33m.\u001b[0m\u001b[0mfunction\u001b[0m\u001b[1;33m(\u001b[0m\u001b[1;33m*\u001b[0m\u001b[0margs\u001b[0m\u001b[1;33m,\u001b[0m \u001b[1;33m**\u001b[0m\u001b[0mkwargs\u001b[0m\u001b[1;33m)\u001b[0m\u001b[1;33m\u001b[0m\u001b[1;33m\u001b[0m\u001b[0m\n\u001b[0m",
      "\u001b[1;32m~\\AppData\\Roaming\\Python\\Python39\\site-packages\\sklearn\\ensemble\\_forest.py\u001b[0m in \u001b[0;36m_parallel_build_trees\u001b[1;34m(tree, forest, X, y, sample_weight, tree_idx, n_trees, verbose, class_weight, n_samples_bootstrap)\u001b[0m\n\u001b[0;32m    168\u001b[0m \u001b[1;33m\u001b[0m\u001b[0m\n\u001b[1;32m--> 169\u001b[1;33m         \u001b[0mtree\u001b[0m\u001b[1;33m.\u001b[0m\u001b[0mfit\u001b[0m\u001b[1;33m(\u001b[0m\u001b[0mX\u001b[0m\u001b[1;33m,\u001b[0m \u001b[0my\u001b[0m\u001b[1;33m,\u001b[0m \u001b[0msample_weight\u001b[0m\u001b[1;33m=\u001b[0m\u001b[0mcurr_sample_weight\u001b[0m\u001b[1;33m,\u001b[0m \u001b[0mcheck_input\u001b[0m\u001b[1;33m=\u001b[0m\u001b[1;32mFalse\u001b[0m\u001b[1;33m)\u001b[0m\u001b[1;33m\u001b[0m\u001b[1;33m\u001b[0m\u001b[0m\n\u001b[0m\u001b[0;32m    170\u001b[0m     \u001b[1;32melse\u001b[0m\u001b[1;33m:\u001b[0m\u001b[1;33m\u001b[0m\u001b[1;33m\u001b[0m\u001b[0m\n",
      "\u001b[1;32m~\\AppData\\Roaming\\Python\\Python39\\site-packages\\sklearn\\tree\\_classes.py\u001b[0m in \u001b[0;36mfit\u001b[1;34m(self, X, y, sample_weight, check_input, X_idx_sorted)\u001b[0m\n\u001b[0;32m    902\u001b[0m \u001b[1;33m\u001b[0m\u001b[0m\n\u001b[1;32m--> 903\u001b[1;33m         super().fit(\n\u001b[0m\u001b[0;32m    904\u001b[0m             \u001b[0mX\u001b[0m\u001b[1;33m,\u001b[0m \u001b[0my\u001b[0m\u001b[1;33m,\u001b[0m\u001b[1;33m\u001b[0m\u001b[1;33m\u001b[0m\u001b[0m\n",
      "\u001b[1;32m~\\AppData\\Roaming\\Python\\Python39\\site-packages\\sklearn\\tree\\_classes.py\u001b[0m in \u001b[0;36mfit\u001b[1;34m(self, X, y, sample_weight, check_input, X_idx_sorted)\u001b[0m\n\u001b[0;32m    393\u001b[0m \u001b[1;33m\u001b[0m\u001b[0m\n\u001b[1;32m--> 394\u001b[1;33m         \u001b[0mbuilder\u001b[0m\u001b[1;33m.\u001b[0m\u001b[0mbuild\u001b[0m\u001b[1;33m(\u001b[0m\u001b[0mself\u001b[0m\u001b[1;33m.\u001b[0m\u001b[0mtree_\u001b[0m\u001b[1;33m,\u001b[0m \u001b[0mX\u001b[0m\u001b[1;33m,\u001b[0m \u001b[0my\u001b[0m\u001b[1;33m,\u001b[0m \u001b[0msample_weight\u001b[0m\u001b[1;33m)\u001b[0m\u001b[1;33m\u001b[0m\u001b[1;33m\u001b[0m\u001b[0m\n\u001b[0m\u001b[0;32m    395\u001b[0m \u001b[1;33m\u001b[0m\u001b[0m\n",
      "\u001b[1;31mKeyboardInterrupt\u001b[0m: ",
      "\nDuring handling of the above exception, another exception occurred:\n",
      "\u001b[1;31mAttributeError\u001b[0m                            Traceback (most recent call last)",
      "\u001b[1;32m~\\anaconda3\\envs\\ml\\lib\\site-packages\\IPython\\core\\interactiveshell.py\u001b[0m in \u001b[0;36mshowtraceback\u001b[1;34m(self, exc_tuple, filename, tb_offset, exception_only, running_compiled_code)\u001b[0m\n\u001b[0;32m   2060\u001b[0m                         \u001b[1;31m# in the engines. This should return a list of strings.\u001b[0m\u001b[1;33m\u001b[0m\u001b[1;33m\u001b[0m\u001b[1;33m\u001b[0m\u001b[0m\n\u001b[1;32m-> 2061\u001b[1;33m                         \u001b[0mstb\u001b[0m \u001b[1;33m=\u001b[0m \u001b[0mvalue\u001b[0m\u001b[1;33m.\u001b[0m\u001b[0m_render_traceback_\u001b[0m\u001b[1;33m(\u001b[0m\u001b[1;33m)\u001b[0m\u001b[1;33m\u001b[0m\u001b[1;33m\u001b[0m\u001b[0m\n\u001b[0m\u001b[0;32m   2062\u001b[0m                     \u001b[1;32mexcept\u001b[0m \u001b[0mException\u001b[0m\u001b[1;33m:\u001b[0m\u001b[1;33m\u001b[0m\u001b[1;33m\u001b[0m\u001b[0m\n",
      "\u001b[1;31mAttributeError\u001b[0m: 'KeyboardInterrupt' object has no attribute '_render_traceback_'",
      "\nDuring handling of the above exception, another exception occurred:\n",
      "\u001b[1;31mTypeError\u001b[0m                                 Traceback (most recent call last)",
      "    \u001b[1;31m[... skipping hidden 1 frame]\u001b[0m\n",
      "\u001b[1;32m~\\anaconda3\\envs\\ml\\lib\\site-packages\\IPython\\core\\interactiveshell.py\u001b[0m in \u001b[0;36mshowtraceback\u001b[1;34m(self, exc_tuple, filename, tb_offset, exception_only, running_compiled_code)\u001b[0m\n\u001b[0;32m   2061\u001b[0m                         \u001b[0mstb\u001b[0m \u001b[1;33m=\u001b[0m \u001b[0mvalue\u001b[0m\u001b[1;33m.\u001b[0m\u001b[0m_render_traceback_\u001b[0m\u001b[1;33m(\u001b[0m\u001b[1;33m)\u001b[0m\u001b[1;33m\u001b[0m\u001b[1;33m\u001b[0m\u001b[0m\n\u001b[0;32m   2062\u001b[0m                     \u001b[1;32mexcept\u001b[0m \u001b[0mException\u001b[0m\u001b[1;33m:\u001b[0m\u001b[1;33m\u001b[0m\u001b[1;33m\u001b[0m\u001b[0m\n\u001b[1;32m-> 2063\u001b[1;33m                         stb = self.InteractiveTB.structured_traceback(etype,\n\u001b[0m\u001b[0;32m   2064\u001b[0m                                             value, tb, tb_offset=tb_offset)\n\u001b[0;32m   2065\u001b[0m \u001b[1;33m\u001b[0m\u001b[0m\n",
      "\u001b[1;32m~\\anaconda3\\envs\\ml\\lib\\site-packages\\IPython\\core\\ultratb.py\u001b[0m in \u001b[0;36mstructured_traceback\u001b[1;34m(self, etype, value, tb, tb_offset, number_of_lines_of_context)\u001b[0m\n\u001b[0;32m   1365\u001b[0m         \u001b[1;32melse\u001b[0m\u001b[1;33m:\u001b[0m\u001b[1;33m\u001b[0m\u001b[1;33m\u001b[0m\u001b[0m\n\u001b[0;32m   1366\u001b[0m             \u001b[0mself\u001b[0m\u001b[1;33m.\u001b[0m\u001b[0mtb\u001b[0m \u001b[1;33m=\u001b[0m \u001b[0mtb\u001b[0m\u001b[1;33m\u001b[0m\u001b[1;33m\u001b[0m\u001b[0m\n\u001b[1;32m-> 1367\u001b[1;33m         return FormattedTB.structured_traceback(\n\u001b[0m\u001b[0;32m   1368\u001b[0m             self, etype, value, tb, tb_offset, number_of_lines_of_context)\n\u001b[0;32m   1369\u001b[0m \u001b[1;33m\u001b[0m\u001b[0m\n",
      "\u001b[1;32m~\\anaconda3\\envs\\ml\\lib\\site-packages\\IPython\\core\\ultratb.py\u001b[0m in \u001b[0;36mstructured_traceback\u001b[1;34m(self, etype, value, tb, tb_offset, number_of_lines_of_context)\u001b[0m\n\u001b[0;32m   1265\u001b[0m         \u001b[1;32mif\u001b[0m \u001b[0mmode\u001b[0m \u001b[1;32min\u001b[0m \u001b[0mself\u001b[0m\u001b[1;33m.\u001b[0m\u001b[0mverbose_modes\u001b[0m\u001b[1;33m:\u001b[0m\u001b[1;33m\u001b[0m\u001b[1;33m\u001b[0m\u001b[0m\n\u001b[0;32m   1266\u001b[0m             \u001b[1;31m# Verbose modes need a full traceback\u001b[0m\u001b[1;33m\u001b[0m\u001b[1;33m\u001b[0m\u001b[1;33m\u001b[0m\u001b[0m\n\u001b[1;32m-> 1267\u001b[1;33m             return VerboseTB.structured_traceback(\n\u001b[0m\u001b[0;32m   1268\u001b[0m                 \u001b[0mself\u001b[0m\u001b[1;33m,\u001b[0m \u001b[0metype\u001b[0m\u001b[1;33m,\u001b[0m \u001b[0mvalue\u001b[0m\u001b[1;33m,\u001b[0m \u001b[0mtb\u001b[0m\u001b[1;33m,\u001b[0m \u001b[0mtb_offset\u001b[0m\u001b[1;33m,\u001b[0m \u001b[0mnumber_of_lines_of_context\u001b[0m\u001b[1;33m\u001b[0m\u001b[1;33m\u001b[0m\u001b[0m\n\u001b[0;32m   1269\u001b[0m             )\n",
      "\u001b[1;32m~\\anaconda3\\envs\\ml\\lib\\site-packages\\IPython\\core\\ultratb.py\u001b[0m in \u001b[0;36mstructured_traceback\u001b[1;34m(self, etype, evalue, etb, tb_offset, number_of_lines_of_context)\u001b[0m\n\u001b[0;32m   1122\u001b[0m         \u001b[1;34m\"\"\"Return a nice text document describing the traceback.\"\"\"\u001b[0m\u001b[1;33m\u001b[0m\u001b[1;33m\u001b[0m\u001b[0m\n\u001b[0;32m   1123\u001b[0m \u001b[1;33m\u001b[0m\u001b[0m\n\u001b[1;32m-> 1124\u001b[1;33m         formatted_exception = self.format_exception_as_a_whole(etype, evalue, etb, number_of_lines_of_context,\n\u001b[0m\u001b[0;32m   1125\u001b[0m                                                                tb_offset)\n\u001b[0;32m   1126\u001b[0m \u001b[1;33m\u001b[0m\u001b[0m\n",
      "\u001b[1;32m~\\anaconda3\\envs\\ml\\lib\\site-packages\\IPython\\core\\ultratb.py\u001b[0m in \u001b[0;36mformat_exception_as_a_whole\u001b[1;34m(self, etype, evalue, etb, number_of_lines_of_context, tb_offset)\u001b[0m\n\u001b[0;32m   1080\u001b[0m \u001b[1;33m\u001b[0m\u001b[0m\n\u001b[0;32m   1081\u001b[0m \u001b[1;33m\u001b[0m\u001b[0m\n\u001b[1;32m-> 1082\u001b[1;33m         \u001b[0mlast_unique\u001b[0m\u001b[1;33m,\u001b[0m \u001b[0mrecursion_repeat\u001b[0m \u001b[1;33m=\u001b[0m \u001b[0mfind_recursion\u001b[0m\u001b[1;33m(\u001b[0m\u001b[0morig_etype\u001b[0m\u001b[1;33m,\u001b[0m \u001b[0mevalue\u001b[0m\u001b[1;33m,\u001b[0m \u001b[0mrecords\u001b[0m\u001b[1;33m)\u001b[0m\u001b[1;33m\u001b[0m\u001b[1;33m\u001b[0m\u001b[0m\n\u001b[0m\u001b[0;32m   1083\u001b[0m \u001b[1;33m\u001b[0m\u001b[0m\n\u001b[0;32m   1084\u001b[0m         \u001b[0mframes\u001b[0m \u001b[1;33m=\u001b[0m \u001b[0mself\u001b[0m\u001b[1;33m.\u001b[0m\u001b[0mformat_records\u001b[0m\u001b[1;33m(\u001b[0m\u001b[0mrecords\u001b[0m\u001b[1;33m,\u001b[0m \u001b[0mlast_unique\u001b[0m\u001b[1;33m,\u001b[0m \u001b[0mrecursion_repeat\u001b[0m\u001b[1;33m)\u001b[0m\u001b[1;33m\u001b[0m\u001b[1;33m\u001b[0m\u001b[0m\n",
      "\u001b[1;32m~\\anaconda3\\envs\\ml\\lib\\site-packages\\IPython\\core\\ultratb.py\u001b[0m in \u001b[0;36mfind_recursion\u001b[1;34m(etype, value, records)\u001b[0m\n\u001b[0;32m    380\u001b[0m     \u001b[1;31m# first frame (from in to out) that looks different.\u001b[0m\u001b[1;33m\u001b[0m\u001b[1;33m\u001b[0m\u001b[1;33m\u001b[0m\u001b[0m\n\u001b[0;32m    381\u001b[0m     \u001b[1;32mif\u001b[0m \u001b[1;32mnot\u001b[0m \u001b[0mis_recursion_error\u001b[0m\u001b[1;33m(\u001b[0m\u001b[0metype\u001b[0m\u001b[1;33m,\u001b[0m \u001b[0mvalue\u001b[0m\u001b[1;33m,\u001b[0m \u001b[0mrecords\u001b[0m\u001b[1;33m)\u001b[0m\u001b[1;33m:\u001b[0m\u001b[1;33m\u001b[0m\u001b[1;33m\u001b[0m\u001b[0m\n\u001b[1;32m--> 382\u001b[1;33m         \u001b[1;32mreturn\u001b[0m \u001b[0mlen\u001b[0m\u001b[1;33m(\u001b[0m\u001b[0mrecords\u001b[0m\u001b[1;33m)\u001b[0m\u001b[1;33m,\u001b[0m \u001b[1;36m0\u001b[0m\u001b[1;33m\u001b[0m\u001b[1;33m\u001b[0m\u001b[0m\n\u001b[0m\u001b[0;32m    383\u001b[0m \u001b[1;33m\u001b[0m\u001b[0m\n\u001b[0;32m    384\u001b[0m     \u001b[1;31m# Select filename, lineno, func_name to track frames with\u001b[0m\u001b[1;33m\u001b[0m\u001b[1;33m\u001b[0m\u001b[1;33m\u001b[0m\u001b[0m\n",
      "\u001b[1;31mTypeError\u001b[0m: object of type 'NoneType' has no len()"
     ]
    }
   ],
   "source": [
    "from sklearn.model_selection import GridSearchCV\n",
    "parameters = {\n",
    "    \"n_estimators\":[5,10,50,100,250],\n",
    "    \"max_depth\":[2,4,8,16,32,None]\n",
    "    \n",
    "}\n",
    "cv = GridSearchCV(classifier,parameters,cv=5)\n",
    "cv.fit(X1,y1.values.ravel())"
   ]
  },
  {
   "cell_type": "code",
   "execution_count": 274,
   "id": "a0bc23d4",
   "metadata": {},
   "outputs": [
    {
     "name": "stdout",
     "output_type": "stream",
     "text": [
      "[0.99896587 0.00103406]\n",
      "[443174.08471975  14258.43919614]\n"
     ]
    }
   ],
   "source": [
    "import numpy as np\n",
    "from sklearn.decomposition import PCA\n",
    "pca = PCA(n_components=2, svd_solver='full')\n",
    "pca.fit(X1)\n",
    "PCA(n_components=2, svd_solver='full')\n",
    "print(pca.explained_variance_ratio_)\n",
    "\n",
    "print(pca.singular_values_)\n"
   ]
  },
  {
   "cell_type": "code",
   "execution_count": 276,
   "id": "38bb98b9",
   "metadata": {},
   "outputs": [
    {
     "name": "stdout",
     "output_type": "stream",
     "text": [
      "[0.99896587 0.00103406]\n",
      "[443174.08471975  14258.43919614]\n"
     ]
    }
   ],
   "source": [
    "pca = PCA(n_components=2, svd_solver='full')\n",
    "pca.fit(X1)\n",
    "PCA(n_components=2, svd_solver='full')\n",
    "print(pca.explained_variance_ratio_)\n",
    "\n",
    "print(pca.singular_values_)\n"
   ]
  },
  {
   "cell_type": "code",
   "execution_count": 277,
   "id": "dec43e2e",
   "metadata": {},
   "outputs": [
    {
     "ename": "NameError",
     "evalue": "name 'finalDf' is not defined",
     "output_type": "error",
     "traceback": [
      "\u001b[1;31m---------------------------------------------------------------------------\u001b[0m",
      "\u001b[1;31mNameError\u001b[0m                                 Traceback (most recent call last)",
      "\u001b[1;32m~\\AppData\\Local\\Temp/ipykernel_16328/3089666351.py\u001b[0m in \u001b[0;36m<module>\u001b[1;34m\u001b[0m\n\u001b[0;32m      7\u001b[0m \u001b[0mcolors\u001b[0m \u001b[1;33m=\u001b[0m \u001b[1;33m[\u001b[0m\u001b[1;34m'r'\u001b[0m\u001b[1;33m,\u001b[0m \u001b[1;34m'g'\u001b[0m\u001b[1;33m,\u001b[0m \u001b[1;34m'b'\u001b[0m\u001b[1;33m]\u001b[0m\u001b[1;33m\u001b[0m\u001b[1;33m\u001b[0m\u001b[0m\n\u001b[0;32m      8\u001b[0m \u001b[1;32mfor\u001b[0m \u001b[0mtarget\u001b[0m\u001b[1;33m,\u001b[0m \u001b[0mcolor\u001b[0m \u001b[1;32min\u001b[0m \u001b[0mzip\u001b[0m\u001b[1;33m(\u001b[0m\u001b[0mtargets\u001b[0m\u001b[1;33m,\u001b[0m\u001b[0mcolors\u001b[0m\u001b[1;33m)\u001b[0m\u001b[1;33m:\u001b[0m\u001b[1;33m\u001b[0m\u001b[1;33m\u001b[0m\u001b[0m\n\u001b[1;32m----> 9\u001b[1;33m     \u001b[0mindicesToKeep\u001b[0m \u001b[1;33m=\u001b[0m \u001b[0mfinalDf\u001b[0m\u001b[1;33m[\u001b[0m\u001b[1;34m'target'\u001b[0m\u001b[1;33m]\u001b[0m \u001b[1;33m==\u001b[0m \u001b[0mtarget\u001b[0m\u001b[1;33m\u001b[0m\u001b[1;33m\u001b[0m\u001b[0m\n\u001b[0m\u001b[0;32m     10\u001b[0m     ax.scatter(finalDf.loc[indicesToKeep, 'principal component 1']\n\u001b[0;32m     11\u001b[0m                \u001b[1;33m,\u001b[0m \u001b[0mfinalDf\u001b[0m\u001b[1;33m.\u001b[0m\u001b[0mloc\u001b[0m\u001b[1;33m[\u001b[0m\u001b[0mindicesToKeep\u001b[0m\u001b[1;33m,\u001b[0m \u001b[1;34m'principal component 2'\u001b[0m\u001b[1;33m]\u001b[0m\u001b[1;33m\u001b[0m\u001b[1;33m\u001b[0m\u001b[0m\n",
      "\u001b[1;31mNameError\u001b[0m: name 'finalDf' is not defined"
     ]
    },
    {
     "data": {
      "image/png": "[encoded data removed]",
      "text/plain": [
       "<Figure size 576x576 with 1 Axes>"
      ]
     },
     "metadata": {
      "needs_background": "light"
     },
     "output_type": "display_data"
    }
   ],
   "source": [
    "fig = plt.figure(figsize = (8,8))\n",
    "ax = fig.add_subplot(1,1,1) \n",
    "ax.set_xlabel('Principal Component 1', fontsize = 15)\n",
    "ax.set_ylabel('Principal Component 2', fontsize = 15)\n",
    "ax.set_title('2 component PCA', fontsize = 20)\n",
    "targets = ['NDVI', 'NDBI', 'EMBI']\n",
    "colors = ['r', 'g', 'b']\n",
    "for target, color in zip(targets,colors):\n",
    "    indicesToKeep = finalDf['target'] == target\n",
    "    ax.scatter(finalDf.loc[indicesToKeep, 'principal component 1']\n",
    "               , finalDf.loc[indicesToKeep, 'principal component 2']\n",
    "               , c = color\n",
    "               , s = 50)\n",
    "ax.legend(targets)\n",
    "ax.grid()"
   ]
  },
  {
   "cell_type": "code",
   "execution_count": 263,
   "id": "a4651857",
   "metadata": {},
   "outputs": [],
   "source": [
    "import pickle\n",
    "# save the model to disk\n",
    "filename = 'chicago_classifier.sav'\n",
    "pickle.dump(classifier, open(filename, 'wb'))"
   ]
  },
  {
   "cell_type": "code",
   "execution_count": 265,
   "id": "f86d1d61",
   "metadata": {},
   "outputs": [
    {
     "data": {
      "text/plain": [
       "['chicago_classifier_simple.pkl']"
      ]
     },
     "execution_count": 265,
     "metadata": {},
     "output_type": "execute_result"
    }
   ],
   "source": [
    "import joblib\n",
    "joblib.dump(classifier, 'chicago_classifier_simple.pkl') "
   ]
  },
  {
   "cell_type": "code",
   "execution_count": 267,
   "id": "8ead5ad2",
   "metadata": {},
   "outputs": [
    {
     "name": "stdout",
     "output_type": "stream",
     "text": [
      "For Boosting : F1 Score 0.66, Accuracy 0.66\n"
     ]
    }
   ],
   "source": [
    "from sklearn.ensemble import AdaBoostClassifier\n",
    "from sklearn.tree import DecisionTreeClassifier\n",
    "from sklearn.datasets import load_breast_cancer\n",
    "import pandas as pd\n",
    "import numpy as np\n",
    "from sklearn.model_selection import train_test_split\n",
    "from sklearn.metrics import confusion_matrix\n",
    "from sklearn.preprocessing import LabelEncoder\n",
    "from sklearn.metrics import accuracy_score\n",
    "from sklearn.metrics import f1_score\n",
    "\n",
    "#breast_cancer = load_breast_cancer()\n",
    "#x = pd.DataFrame(breast_cancer.data, columns=breast_cancer.feature_names)\n",
    "#y = pd.Categorical.from_codes(breast_cancer.target, breast_cancer.target_names)\n",
    "# Transforming string Target to an int\n",
    "encoder = LabelEncoder()\n",
    "binary_encoded_y = pd.Series(encoder.fit_transform(y1))\n",
    "\n",
    "#Train Test Split\n",
    "train_x, test_x, train_y, test_y = train_test_split(X1, binary_encoded_y, random_state=1)\n",
    "clf_boosting = AdaBoostClassifier(\n",
    "    DecisionTreeClassifier(max_depth=10),\n",
    "    n_estimators=200\n",
    ")\n",
    "clf_boosting.fit(train_x, train_y)\n",
    "predictions = clf_boosting.predict(test_x)\n",
    "print(\"For Boosting : F1 Score {}, Accuracy {}\".format(round(f1_score(test_y,predictions),2),round(accuracy_score(test_y,predictions),2)))"
   ]
  },
  {
   "cell_type": "code",
   "execution_count": 268,
   "id": "3e2edf61",
   "metadata": {},
   "outputs": [
    {
     "data": {
      "text/plain": [
       "['chicago_adaboost.pkl']"
      ]
     },
     "execution_count": 268,
     "metadata": {},
     "output_type": "execute_result"
    }
   ],
   "source": [
    "import joblib\n",
    "joblib.dump(clf_boosting, 'chicago_adaboost.pkl')"
   ]
  },
  {
   "cell_type": "raw",
   "id": "2cd0a2ed",
   "metadata": {},
   "source": [
    "from sklearn.ensemble import AdaBoostClassifier\n",
    "from sklearn.tree import DecisionTreeClassifier\n",
    "from sklearn.datasets import load_breast_cancer\n",
    "import pandas as pd\n",
    "import numpy as np\n",
    "from sklearn.model_selection import train_test_split\n",
    "from sklearn.metrics import confusion_matrix\n",
    "from sklearn.preprocessing import LabelEncoder\n",
    "from sklearn.metrics import accuracy_score\n",
    "from sklearn.metrics import f1_score\n",
    "from sklearn.ensemble import RandomForestClassifier\n",
    "from sklearn.linear_model import LogisticRegression\n",
    "\n",
    "# Transforming string Target to an int\n",
    "#encoder = LabelEncoder()\n",
    "#binary_encoded_y = pd.Series(encoder.fit_transform(y1))\n",
    "\n",
    "#Train Test Split\n",
    "train_x, test_x, train_y, test_y = train_test_split(X1, y1, random_state=2020)\n",
    "\n",
    "boosting_clf_ada_boost= AdaBoostClassifier(\n",
    "    DecisionTreeClassifier(max_depth=8),\n",
    "    n_estimators=3\n",
    ")\n",
    "bagging_clf_rf = RandomForestClassifier(n_estimators=200, max_depth=8,random_state=2020)\n",
    "\n",
    "\n",
    "clf_rf = RandomForestClassifier(n_estimators=200, max_depth=8,random_state=2020)\n",
    "clf_ada_boost = AdaBoostClassifier(\n",
    "    DecisionTreeClassifier(max_depth=8,random_state=2020),\n",
    "    n_estimators=3\n",
    ")\n",
    "\n",
    "clf_logistic_reg = LogisticRegression(solver='liblinear',random_state=2020)\n",
    "\n",
    "#Customizing and Exception message\n",
    "class NumberOfClassifierException(Exception):\n",
    "    pass\n",
    "\n",
    "#Creating a stacking class\n",
    "class Stacking():\n",
    "\n",
    "    '''\n",
    "        This is a test class for stacking !\n",
    "        Please fill Free to change it to fit your needs\n",
    "        We suppose that at least the First N-1 Classifiers have\n",
    "        a predict_proba function.\n",
    "    '''\n",
    "\n",
    "    def __init__(self,classifiers):\n",
    "        if(len(classifiers) < 2):\n",
    "            raise numberOfClassifierException(\"You must fit your classifier with 2 classifiers at least\");\n",
    "        else:\n",
    "            self._classifiers = classifiers\n",
    "\n",
    "\n",
    "    def fit(self,data_x,data_y):\n",
    "\n",
    "        stacked_data_x = data_x.copy()\n",
    "        for classfier in self._classifiers[:-1]:\n",
    "            classfier.fit(data_x,data_y)\n",
    "            stacked_data_x = np.column_stack((stacked_data_x,classfier.predict_proba(data_x)))\n",
    "\n",
    "\n",
    "        last_classifier = self._classifiers[-1]\n",
    "        last_classifier.fit(stacked_data_x,data_y)\n",
    "\n",
    "\n",
    "    def predict(self,data_x):\n",
    "\n",
    "        stacked_data_x = data_x.copy()\n",
    "        for classfier in self._classifiers[:-1]:\n",
    "            prob_predictions = classfier.predict_proba(data_x)\n",
    "            stacked_data_x = np.column_stack((stacked_data_x,prob_predictions))\n",
    "\n",
    "        last_classifier = self._classifiers[-1]\n",
    "        return last_classifier.predict(stacked_data_x)\n",
    "\n",
    "\n",
    "\n",
    "bagging_clf_rf.fit(train_x, train_y)\n",
    "boosting_clf_ada_boost.fit(train_x, train_y)\n",
    "\n",
    "classifers_list = [clf_rf,clf_ada_boost,clf_logistic_reg]\n",
    "clf_stacking = Stacking(classifers_list)\n",
    "clf_stacking.fit(train_x,train_y)\n",
    "\n",
    "predictions_bagging = bagging_clf_rf.predict(test_x)\n",
    "predictions_boosting = boosting_clf_ada_boost.predict(test_x)\n",
    "predictions_stacking = clf_stacking.predict(test_x)\n",
    "\n",
    "print(\"For Bagging : F1 Score {}, Accuracy {}\".format(round(f1_score(test_y,predictions_bagging),2),round(accuracy_score(test_y,predictions_bagging),2)))\n",
    "print(\"For Boosting : F1 Score {}, Accuracy {}\".format(round(f1_score(test_y,predictions_boosting),2),round(accuracy_score(test_y,predictions_boosting),2)))\n",
    "print(\"For Stacking : F1 Score {}, Accuracy {}\".format(round(f1_score(test_y,predictions_stacking),2),round(accuracy_score(test_y,predictions_stacking),2)))"
   ]
  },
  {
   "cell_type": "code",
   "execution_count": 227,
   "id": "aaf865cb",
   "metadata": {},
   "outputs": [
    {
     "data": {
      "text/plain": [
       "<sklearn.metrics._plot.roc_curve.RocCurveDisplay at 0x24ffbbece50>"
      ]
     },
     "execution_count": 227,
     "metadata": {},
     "output_type": "execute_result"
    },
    {
     "data": {
      "image/png": "[encoded data removed]",
      "text/plain": [
       "<Figure size 432x288 with 1 Axes>"
      ]
     },
     "metadata": {
      "needs_background": "light"
     },
     "output_type": "display_data"
    }
   ],
   "source": [
    "plot_roc_curve(classifier,X_train,Y_train)\n"
   ]
  },
  {
   "cell_type": "code",
   "execution_count": 228,
   "id": "a4d7aca0",
   "metadata": {},
   "outputs": [],
   "source": [
    "fpr, tpr, thresholds = roc_curve(Y_train,classifier.predict_proba(X_train)[:,1], drop_intermediate=False)"
   ]
  },
  {
   "cell_type": "code",
   "execution_count": 229,
   "id": "2b8dc7a2",
   "metadata": {
    "scrolled": true
   },
   "outputs": [
    {
     "data": {
      "image/png": "[encoded data removed]",
      "text/plain": [
       "<Figure size 432x288 with 1 Axes>"
      ]
     },
     "metadata": {
      "needs_background": "light"
     },
     "output_type": "display_data"
    }
   ],
   "source": [
    "\n",
    "plt.scatter(thresholds,np.abs(fpr+tpr-1))\n",
    "plt.xlabel(\"Threshold\")\n",
    "plt.ylabel(\"|FPR + TPR - 1|\")\n",
    "plt.show()"
   ]
  },
  {
   "cell_type": "code",
   "execution_count": 230,
   "id": "4d8960d8",
   "metadata": {},
   "outputs": [
    {
     "data": {
      "text/plain": [
       "0.5083333333333333"
      ]
     },
     "execution_count": 230,
     "metadata": {},
     "output_type": "execute_result"
    }
   ],
   "source": [
    "thresholds[np.argmin(np.abs(fpr+tpr-1))] \n"
   ]
  },
  {
   "cell_type": "code",
   "execution_count": 231,
   "id": "ec2615f9",
   "metadata": {},
   "outputs": [],
   "source": [
    "threshold = [] \n",
    "accuracy = [] \n",
    "for p in np.unique(classifier.predict_proba(X_train)[:,1]):       \n",
    " threshold.append(p) \n",
    " y_pred = (classifier.predict_proba(X_train)[:,1] >= p).astype(int) \n",
    " accuracy.append(balanced_accuracy_score(Y_train,y_pred))"
   ]
  },
  {
   "cell_type": "code",
   "execution_count": 232,
   "id": "374d8831",
   "metadata": {},
   "outputs": [
    {
     "data": {
      "image/png": "[encoded data removed]",
      "text/plain": [
       "<Figure size 432x288 with 1 Axes>"
      ]
     },
     "metadata": {
      "needs_background": "light"
     },
     "output_type": "display_data"
    }
   ],
   "source": [
    "plt.scatter(threshold,accuracy)\n",
    "plt.xlabel(\"Threshold\")\n",
    "plt.ylabel(\"Balanced accuracy\")\n",
    "plt.show()"
   ]
  },
  {
   "cell_type": "code",
   "execution_count": 233,
   "id": "6712d065",
   "metadata": {},
   "outputs": [
    {
     "data": {
      "text/plain": [
       "0.5375"
      ]
     },
     "execution_count": 233,
     "metadata": {},
     "output_type": "execute_result"
    }
   ],
   "source": [
    "threshold[np.argmax(accuracy)] \n",
    "# 0.5602892029098923"
   ]
  },
  {
   "cell_type": "code",
   "execution_count": 236,
   "id": "5df824d3",
   "metadata": {},
   "outputs": [],
   "source": [
    "test_s2_oik = s2_oik[:len(y_pred)]\n",
    "test_s2_oik=test_s2_oik[['NDVI','NDBI','UI','IBI']]\n"
   ]
  },
  {
   "cell_type": "code",
   "execution_count": 315,
   "id": "7c2fb5b8",
   "metadata": {},
   "outputs": [
    {
     "data": {
      "text/plain": [
       "1115"
      ]
     },
     "execution_count": 315,
     "metadata": {},
     "output_type": "execute_result"
    }
   ],
   "source": [
    "len(y_pred_2)"
   ]
  },
  {
   "cell_type": "code",
   "execution_count": null,
   "id": "2bb699e2",
   "metadata": {},
   "outputs": [],
   "source": []
  },
  {
   "cell_type": "code",
   "execution_count": 239,
   "id": "ba4e1e41",
   "metadata": {},
   "outputs": [
    {
     "ename": "NameError",
     "evalue": "name 'test_s2_0' is not defined",
     "output_type": "error",
     "traceback": [
      "\u001b[1;31m---------------------------------------------------------------------------\u001b[0m",
      "\u001b[1;31mNameError\u001b[0m                                 Traceback (most recent call last)",
      "\u001b[1;32m~\\AppData\\Local\\Temp/ipykernel_16328/2189825068.py\u001b[0m in \u001b[0;36m<module>\u001b[1;34m\u001b[0m\n\u001b[1;32m----> 1\u001b[1;33m \u001b[0my_pred_s2_0\u001b[0m \u001b[1;33m=\u001b[0m \u001b[0mclassifier\u001b[0m\u001b[1;33m.\u001b[0m\u001b[0mpredict\u001b[0m\u001b[1;33m(\u001b[0m\u001b[0mtest_s2_0\u001b[0m\u001b[1;33m.\u001b[0m\u001b[0mdrop\u001b[0m\u001b[1;33m(\u001b[0m\u001b[1;34m'pivot'\u001b[0m\u001b[1;33m,\u001b[0m\u001b[0maxis\u001b[0m\u001b[1;33m=\u001b[0m\u001b[1;36m1\u001b[0m\u001b[1;33m)\u001b[0m\u001b[1;33m)\u001b[0m\u001b[1;33m\u001b[0m\u001b[1;33m\u001b[0m\u001b[0m\n\u001b[0m\u001b[0;32m      2\u001b[0m \u001b[0mprint\u001b[0m\u001b[1;33m(\u001b[0m\u001b[1;34m\"Existence of abandoned buildings nea_ionia 0:\"\u001b[0m \u001b[1;33m,\u001b[0m\u001b[0maccuracy_score\u001b[0m\u001b[1;33m(\u001b[0m\u001b[0my_test\u001b[0m\u001b[1;33m[\u001b[0m\u001b[1;33m:\u001b[0m\u001b[0mlen\u001b[0m\u001b[1;33m(\u001b[0m\u001b[0my_pred_s2_0\u001b[0m\u001b[1;33m)\u001b[0m\u001b[1;33m]\u001b[0m\u001b[1;33m,\u001b[0m \u001b[0my_pred_s2_0\u001b[0m\u001b[1;33m[\u001b[0m\u001b[1;33m:\u001b[0m\u001b[0mlen\u001b[0m\u001b[1;33m(\u001b[0m\u001b[0my_test\u001b[0m\u001b[1;33m)\u001b[0m\u001b[1;33m]\u001b[0m\u001b[1;33m)\u001b[0m\u001b[1;33m)\u001b[0m\u001b[1;33m\u001b[0m\u001b[1;33m\u001b[0m\u001b[0m\n\u001b[0;32m      3\u001b[0m \u001b[0my_pred_s2_1\u001b[0m  \u001b[1;33m=\u001b[0m \u001b[0mclassifier\u001b[0m\u001b[1;33m.\u001b[0m\u001b[0mpredict\u001b[0m\u001b[1;33m(\u001b[0m\u001b[0mtest_s2_1\u001b[0m\u001b[1;33m.\u001b[0m\u001b[0mdrop\u001b[0m\u001b[1;33m(\u001b[0m\u001b[1;34m'pivot'\u001b[0m\u001b[1;33m,\u001b[0m\u001b[0maxis\u001b[0m\u001b[1;33m=\u001b[0m\u001b[1;36m1\u001b[0m\u001b[1;33m)\u001b[0m\u001b[1;33m)\u001b[0m\u001b[1;33m\u001b[0m\u001b[1;33m\u001b[0m\u001b[0m\n\u001b[0;32m      4\u001b[0m \u001b[0mprint\u001b[0m\u001b[1;33m(\u001b[0m\u001b[1;34m\"Existence of abandoned buildings  nea_ionia 1:\"\u001b[0m\u001b[1;33m,\u001b[0m \u001b[0maccuracy_score\u001b[0m\u001b[1;33m(\u001b[0m\u001b[0my_test\u001b[0m\u001b[1;33m[\u001b[0m\u001b[1;33m:\u001b[0m\u001b[0mlen\u001b[0m\u001b[1;33m(\u001b[0m\u001b[0my_pred_s2_1\u001b[0m\u001b[1;33m)\u001b[0m\u001b[1;33m]\u001b[0m\u001b[1;33m,\u001b[0m \u001b[0my_pred_s2_1\u001b[0m\u001b[1;33m[\u001b[0m\u001b[1;33m:\u001b[0m\u001b[0mlen\u001b[0m\u001b[1;33m(\u001b[0m\u001b[0my_test\u001b[0m\u001b[1;33m)\u001b[0m\u001b[1;33m]\u001b[0m\u001b[1;33m)\u001b[0m\u001b[1;33m)\u001b[0m\u001b[1;33m\u001b[0m\u001b[1;33m\u001b[0m\u001b[0m\n\u001b[0;32m      5\u001b[0m \u001b[0my_pred_2_oik\u001b[0m \u001b[1;33m=\u001b[0m \u001b[0mclassifier\u001b[0m\u001b[1;33m.\u001b[0m\u001b[0mpredict\u001b[0m\u001b[1;33m(\u001b[0m\u001b[0mtest_s2_oik\u001b[0m\u001b[1;33m)\u001b[0m\u001b[1;33m\u001b[0m\u001b[1;33m\u001b[0m\u001b[0m\n",
      "\u001b[1;31mNameError\u001b[0m: name 'test_s2_0' is not defined"
     ]
    }
   ],
   "source": [
    "y_pred_s2_0 = classifier.predict(test_s2_0.drop('pivot',axis=1))\n",
    "print(\"Existence of abandoned buildings nea_ionia 0:\" ,accuracy_score(y_test[:len(y_pred_s2_0)], y_pred_s2_0[:len(y_test)]))\n",
    "y_pred_s2_1  = classifier.predict(test_s2_1.drop('pivot',axis=1))\n",
    "print(\"Existence of abandoned buildings  nea_ionia 1:\", accuracy_score(y_test[:len(y_pred_s2_1)], y_pred_s2_1[:len(y_test)]))\n",
    "y_pred_2_oik = classifier.predict(test_s2_oik)\n",
    "print(\"Existence of abandoned buildings in oikonomaki:\" ,accuracy_score(y_test[:len(y_pred_2_oik)], y_pred_2_oik[:len(y_test)]))"
   ]
  },
  {
   "cell_type": "code",
   "execution_count": 317,
   "id": "b96be293",
   "metadata": {},
   "outputs": [],
   "source": [
    "if(y_pred_2_oik.max()==0):\n",
    "    test_s2_oik['label'] =0\n",
    "else:\n",
    "    test_s2_oik['label'] =1"
   ]
  },
  {
   "cell_type": "code",
   "execution_count": null,
   "id": "9352fd4d",
   "metadata": {
    "scrolled": true
   },
   "outputs": [],
   "source": []
  },
  {
   "cell_type": "code",
   "execution_count": 320,
   "id": "62649662",
   "metadata": {},
   "outputs": [],
   "source": [
    "if(y_pred_s2_0.max()==0):\n",
    "    test_s2_0['label'] =0\n",
    "else:\n",
    "    test_s2_0['label'] =1\n",
    "if(y_pred_s2_1.max()==0):\n",
    "    test_s2_1['label'] =0\n",
    "else:\n",
    "    test_s2_1['label'] =1"
   ]
  },
  {
   "cell_type": "code",
   "execution_count": 321,
   "id": "e6d4b816",
   "metadata": {},
   "outputs": [],
   "source": [
    "combine_test_dataset  = test_s2_0.append(test_s2_1,ignore_index=True)"
   ]
  },
  {
   "cell_type": "code",
   "execution_count": 361,
   "id": "bd281936",
   "metadata": {
    "scrolled": true
   },
   "outputs": [
    {
     "data": {
      "text/html": [
       "<div>\n",
       "<style scoped>\n",
       "    .dataframe tbody tr th:only-of-type {\n",
       "        vertical-align: middle;\n",
       "    }\n",
       "\n",
       "    .dataframe tbody tr th {\n",
       "        vertical-align: top;\n",
       "    }\n",
       "\n",
       "    .dataframe thead th {\n",
       "        text-align: right;\n",
       "    }\n",
       "</style>\n",
       "<table border=\"1\" class=\"dataframe\">\n",
       "  <thead>\n",
       "    <tr style=\"text-align: right;\">\n",
       "      <th></th>\n",
       "      <th>IBI</th>\n",
       "      <th>UI</th>\n",
       "      <th>pivot</th>\n",
       "      <th>NDBI</th>\n",
       "      <th>NDVI</th>\n",
       "      <th>label</th>\n",
       "    </tr>\n",
       "  </thead>\n",
       "  <tbody>\n",
       "    <tr>\n",
       "      <th>0</th>\n",
       "      <td>-20.542677</td>\n",
       "      <td>-0.024725</td>\n",
       "      <td>0</td>\n",
       "      <td>0.051145</td>\n",
       "      <td>0.140543</td>\n",
       "      <td>1</td>\n",
       "    </tr>\n",
       "    <tr>\n",
       "      <th>1</th>\n",
       "      <td>-4.497370</td>\n",
       "      <td>0.009060</td>\n",
       "      <td>0</td>\n",
       "      <td>0.071438</td>\n",
       "      <td>0.141690</td>\n",
       "      <td>1</td>\n",
       "    </tr>\n",
       "    <tr>\n",
       "      <th>2</th>\n",
       "      <td>-65.600286</td>\n",
       "      <td>0.028423</td>\n",
       "      <td>0</td>\n",
       "      <td>0.083669</td>\n",
       "      <td>0.126949</td>\n",
       "      <td>1</td>\n",
       "    </tr>\n",
       "    <tr>\n",
       "      <th>3</th>\n",
       "      <td>2.197527</td>\n",
       "      <td>0.016962</td>\n",
       "      <td>0</td>\n",
       "      <td>0.079091</td>\n",
       "      <td>0.149611</td>\n",
       "      <td>1</td>\n",
       "    </tr>\n",
       "    <tr>\n",
       "      <th>4</th>\n",
       "      <td>3.113097</td>\n",
       "      <td>0.058703</td>\n",
       "      <td>0</td>\n",
       "      <td>0.099755</td>\n",
       "      <td>0.144748</td>\n",
       "      <td>1</td>\n",
       "    </tr>\n",
       "    <tr>\n",
       "      <th>...</th>\n",
       "      <td>...</td>\n",
       "      <td>...</td>\n",
       "      <td>...</td>\n",
       "      <td>...</td>\n",
       "      <td>...</td>\n",
       "      <td>...</td>\n",
       "    </tr>\n",
       "    <tr>\n",
       "      <th>143</th>\n",
       "      <td>-9.111394</td>\n",
       "      <td>-0.002320</td>\n",
       "      <td>1</td>\n",
       "      <td>0.033901</td>\n",
       "      <td>0.112315</td>\n",
       "      <td>1</td>\n",
       "    </tr>\n",
       "    <tr>\n",
       "      <th>144</th>\n",
       "      <td>-0.214940</td>\n",
       "      <td>0.005720</td>\n",
       "      <td>1</td>\n",
       "      <td>0.068360</td>\n",
       "      <td>0.144849</td>\n",
       "      <td>1</td>\n",
       "    </tr>\n",
       "    <tr>\n",
       "      <th>145</th>\n",
       "      <td>347.884518</td>\n",
       "      <td>0.009392</td>\n",
       "      <td>1</td>\n",
       "      <td>0.045071</td>\n",
       "      <td>0.112793</td>\n",
       "      <td>1</td>\n",
       "    </tr>\n",
       "    <tr>\n",
       "      <th>146</th>\n",
       "      <td>0.991636</td>\n",
       "      <td>-0.016904</td>\n",
       "      <td>1</td>\n",
       "      <td>0.020630</td>\n",
       "      <td>0.207528</td>\n",
       "      <td>1</td>\n",
       "    </tr>\n",
       "    <tr>\n",
       "      <th>147</th>\n",
       "      <td>-0.214940</td>\n",
       "      <td>0.005720</td>\n",
       "      <td>1</td>\n",
       "      <td>0.068360</td>\n",
       "      <td>0.144849</td>\n",
       "      <td>1</td>\n",
       "    </tr>\n",
       "  </tbody>\n",
       "</table>\n",
       "<p>148 rows × 6 columns</p>\n",
       "</div>"
      ],
      "text/plain": [
       "            IBI        UI  pivot      NDBI      NDVI  label\n",
       "0    -20.542677 -0.024725      0  0.051145  0.140543      1\n",
       "1     -4.497370  0.009060      0  0.071438  0.141690      1\n",
       "2    -65.600286  0.028423      0  0.083669  0.126949      1\n",
       "3      2.197527  0.016962      0  0.079091  0.149611      1\n",
       "4      3.113097  0.058703      0  0.099755  0.144748      1\n",
       "..          ...       ...    ...       ...       ...    ...\n",
       "143   -9.111394 -0.002320      1  0.033901  0.112315      1\n",
       "144   -0.214940  0.005720      1  0.068360  0.144849      1\n",
       "145  347.884518  0.009392      1  0.045071  0.112793      1\n",
       "146    0.991636 -0.016904      1  0.020630  0.207528      1\n",
       "147   -0.214940  0.005720      1  0.068360  0.144849      1\n",
       "\n",
       "[148 rows x 6 columns]"
      ]
     },
     "execution_count": 361,
     "metadata": {},
     "output_type": "execute_result"
    }
   ],
   "source": [
    "combine_test_dataset"
   ]
  },
  {
   "cell_type": "code",
   "execution_count": 362,
   "id": "6880ba18",
   "metadata": {},
   "outputs": [],
   "source": [
    "cl=combine_test_dataset['label']\n",
    "cl\n",
    "labels=[]\n",
    "for i in cl.unique():\n",
    "        labels.append(i)\n",
    "        cl_df=pd.DataFrame({'label':labels})"
   ]
  },
  {
   "cell_type": "code",
   "execution_count": 324,
   "id": "fb3c2d6b",
   "metadata": {},
   "outputs": [],
   "source": [
    "map = geemap.Map()\n"
   ]
  },
  {
   "cell_type": "code",
   "execution_count": 363,
   "id": "76de5f31",
   "metadata": {},
   "outputs": [],
   "source": [
    "import eemont\n",
    "import geopandas as gpd\n",
    "filepath  = 'https://raw.githubusercontent.com/ckyriakos/Thesis--BI-through-ML-from-Satellite-Data/master/nea_ionia.geojson'\n",
    "nea_ionia  = gpd.read_file(filepath)\n",
    "\n",
    "\n",
    "nea_ionia_geom = geemap.geopandas_to_ee(nea_ionia)\n",
    "nea_ionia_fishnet = geemap.fishnet(nea_ionia_geom, rows=1, cols=1, delta=1)\n",
    "map.centerObject(nea_ionia_geom, 7)\n",
    "map.addLayer(nea_ionia_geom, {}, 'Nea Ionia')\n",
    "map.addLayer(nea_ionia_fishnet, {}, 'Nea Ionia Fishnet')\n",
    "\n",
    "nea_ionia_gdf = geemap.ee_to_geopandas(nea_ionia_fishnet['geometry'])\n",
    "#nea_ionia_gdf = geemap.ee_to_geopandas(nea_ionia_fishnet)\n",
    "## Add pivot\n",
    "\n",
    "# I don't this is a good practice but otherwise I got an error\n",
    "nea_ionia_gdf['pivot'] = 1\n",
    "\n",
    "for i in range(len(nea_ionia_gdf)):\n",
    "    nea_ionia_gdf['pivot'].loc[i] = i\n",
    "# set crs for greece\n",
    "nea_ionia_gdf.crs = \"EPSG:4326\"\n",
    "nea_ionia_fc = geemap.geopandas_to_ee(nea_ionia_gdf)\n"
   ]
  },
  {
   "cell_type": "code",
   "execution_count": 364,
   "id": "1bebf0e4",
   "metadata": {
    "scrolled": true
   },
   "outputs": [
    {
     "data": {
      "text/html": [
       "<div>\n",
       "<style scoped>\n",
       "    .dataframe tbody tr th:only-of-type {\n",
       "        vertical-align: middle;\n",
       "    }\n",
       "\n",
       "    .dataframe tbody tr th {\n",
       "        vertical-align: top;\n",
       "    }\n",
       "\n",
       "    .dataframe thead th {\n",
       "        text-align: right;\n",
       "    }\n",
       "</style>\n",
       "<table border=\"1\" class=\"dataframe\">\n",
       "  <thead>\n",
       "    <tr style=\"text-align: right;\">\n",
       "      <th></th>\n",
       "      <th>geometry</th>\n",
       "      <th>pivot</th>\n",
       "    </tr>\n",
       "  </thead>\n",
       "  <tbody>\n",
       "    <tr>\n",
       "      <th>0</th>\n",
       "      <td>POLYGON ((22.93235 39.37078, 22.93654 39.37078...</td>\n",
       "      <td>0</td>\n",
       "    </tr>\n",
       "    <tr>\n",
       "      <th>1</th>\n",
       "      <td>POLYGON ((22.93654 39.37078, 22.94074 39.37078...</td>\n",
       "      <td>1</td>\n",
       "    </tr>\n",
       "  </tbody>\n",
       "</table>\n",
       "</div>"
      ],
      "text/plain": [
       "                                            geometry  pivot\n",
       "0  POLYGON ((22.93235 39.37078, 22.93654 39.37078...      0\n",
       "1  POLYGON ((22.93654 39.37078, 22.94074 39.37078...      1"
      ]
     },
     "execution_count": 364,
     "metadata": {},
     "output_type": "execute_result"
    }
   ],
   "source": [
    "nea_ionia_gdf"
   ]
  },
  {
   "cell_type": "code",
   "execution_count": 365,
   "id": "56254c60",
   "metadata": {},
   "outputs": [
    {
     "name": "stdout",
     "output_type": "stream",
     "text": [
      "1\n"
     ]
    }
   ],
   "source": [
    "#cl=combine_test_dataset['label']\n",
    "#cl\n",
    "labels=[]\n",
    "for i in cl_df['label']:\n",
    "        print(i)\n",
    "        #labels.append(i)\n",
    "        \n",
    "        nea_ionia_gdf['label']=i"
   ]
  },
  {
   "cell_type": "code",
   "execution_count": 377,
   "id": "84845643",
   "metadata": {},
   "outputs": [
    {
     "data": {
      "text/plain": [
       "0    False\n",
       "1    False\n",
       "Name: label, dtype: bool"
      ]
     },
     "execution_count": 377,
     "metadata": {},
     "output_type": "execute_result"
    }
   ],
   "source": [
    "nea_ionia_gdf['label']==0"
   ]
  },
  {
   "cell_type": "code",
   "execution_count": 367,
   "id": "e49f15d9",
   "metadata": {},
   "outputs": [
    {
     "data": {
      "text/html": [
       "<div>\n",
       "<style scoped>\n",
       "    .dataframe tbody tr th:only-of-type {\n",
       "        vertical-align: middle;\n",
       "    }\n",
       "\n",
       "    .dataframe tbody tr th {\n",
       "        vertical-align: top;\n",
       "    }\n",
       "\n",
       "    .dataframe thead th {\n",
       "        text-align: right;\n",
       "    }\n",
       "</style>\n",
       "<table border=\"1\" class=\"dataframe\">\n",
       "  <thead>\n",
       "    <tr style=\"text-align: right;\">\n",
       "      <th></th>\n",
       "      <th>label</th>\n",
       "    </tr>\n",
       "  </thead>\n",
       "  <tbody>\n",
       "    <tr>\n",
       "      <th>0</th>\n",
       "      <td>1</td>\n",
       "    </tr>\n",
       "  </tbody>\n",
       "</table>\n",
       "</div>"
      ],
      "text/plain": [
       "   label\n",
       "0      1"
      ]
     },
     "execution_count": 367,
     "metadata": {},
     "output_type": "execute_result"
    }
   ],
   "source": [
    "cl_df"
   ]
  },
  {
   "cell_type": "code",
   "execution_count": 380,
   "id": "2f421d41",
   "metadata": {},
   "outputs": [],
   "source": [
    "#cl_df.crs = \"EPSG:4326\"\n",
    "Map=geemap.Map()\n",
    "Map.add_data(nea_ionia_gdf,'label',colors=['green','red'],layer_name='pepega',zoom_to_layer=True)"
   ]
  },
  {
   "cell_type": "code",
   "execution_count": 370,
   "id": "16a468e6",
   "metadata": {},
   "outputs": [],
   "source": [
    "#cl_df.crs = \"EPSG:4326\"\n",
    "Map=geemap.Map()\n",
    "Map.add_gdf(nea_ionia_gdf,fill_colors=['green','red'],layer_name='pepega_gdf',info_mode='on_click',zoom_to_layer=False)"
   ]
  },
  {
   "cell_type": "code",
   "execution_count": 381,
   "id": "8267bb2e",
   "metadata": {},
   "outputs": [
    {
     "data": {
      "application/vnd.jupyter.widget-view+json": {
       "model_id": "9af40fceb4514c29ac45b7a7ccbd4360",
       "version_major": 2,
       "version_minor": 0
      },
      "text/plain": [
       "Map(center=[39.372173509413734, 22.936545], controls=(WidgetControl(options=['position', 'transparent_bg'], wi…"
      ]
     },
     "metadata": {},
     "output_type": "display_data"
    }
   ],
   "source": [
    "Map"
   ]
  },
  {
   "cell_type": "code",
   "execution_count": 56,
   "id": "c876e774",
   "metadata": {
    "scrolled": true
   },
   "outputs": [
    {
     "data": {
      "application/vnd.jupyter.widget-view+json": {
       "model_id": "14cb284a2ac643dc9696aef3789adbd8",
       "version_major": 2,
       "version_minor": 0
      },
      "text/plain": [
       "Map(center=[39.3721735094405, 22.934447500024692], controls=(WidgetControl(options=['position', 'transparent_b…"
      ]
     },
     "metadata": {},
     "output_type": "display_data"
    }
   ],
   "source": [
    "map"
   ]
  },
  {
   "cell_type": "code",
   "execution_count": 73,
   "id": "71918915",
   "metadata": {},
   "outputs": [],
   "source": [
    "df= pd.concat([X,y])"
   ]
  },
  {
   "cell_type": "code",
   "execution_count": 242,
   "id": "8b4cbaef",
   "metadata": {},
   "outputs": [
    {
     "data": {
      "text/plain": [
       "[('pd.Series', 'Series', 'pd.Series representation of a univariate series'),\n",
       " ('pd.DataFrame',\n",
       "  'Series',\n",
       "  'pd.DataFrame representation of a uni- or multivariate series'),\n",
       " ('np.ndarray',\n",
       "  'Series',\n",
       "  '2D numpy.ndarray with rows=samples, cols=variables, index=integers'),\n",
       " ('nested_univ',\n",
       "  'Panel',\n",
       "  'pd.DataFrame with one column per variable, pd.Series in cells'),\n",
       " ('numpy3D',\n",
       "  'Panel',\n",
       "  '3D np.array of format (n_instances, n_columns, n_timepoints)'),\n",
       " ('numpyflat',\n",
       "  'Panel',\n",
       "  'WARNING: only for internal use, not a fully supported Panel mtype. 2D np.array of format (n_instances, n_columns*n_timepoints)'),\n",
       " ('pd-multiindex',\n",
       "  'Panel',\n",
       "  'pd.DataFrame with multi-index (instances, timepoints)'),\n",
       " ('pd-wide',\n",
       "  'Panel',\n",
       "  'pd.DataFrame in wide format, cols = (instance*timepoints)'),\n",
       " ('pd-long',\n",
       "  'Panel',\n",
       "  'pd.DataFrame in long format, cols = (index, time_index, column)'),\n",
       " ('df-list', 'Panel', 'list of pd.DataFrame'),\n",
       " ('pd_multiindex_hier', 'Hierarchical', 'pd.DataFrame with MultiIndex'),\n",
       " ('alignment',\n",
       "  'Alignment',\n",
       "  'pd.DataFrame in alignment format, values are iloc index references'),\n",
       " ('alignment_loc',\n",
       "  'Alignment',\n",
       "  'pd.DataFrame in alignment format, values are loc index references'),\n",
       " ('pd_DataFrame_Table',\n",
       "  'Table',\n",
       "  'pd.DataFrame representation of a data table'),\n",
       " ('numpy1D', 'Table', '1D np.narray representation of a univariate table'),\n",
       " ('numpy2D', 'Table', '2D np.narray representation of a univariate table'),\n",
       " ('pd_Series_Table', 'Table', 'pd.Series representation of a data table'),\n",
       " ('list_of_dict', 'Table', 'list of dictionaries with primitive entries'),\n",
       " ('pred_interval', 'Proba', 'predictive intervals'),\n",
       " ('pred_quantiles', 'Proba', 'quantile predictions'),\n",
       " ('pred_var', 'Proba', 'variance predictions')]"
      ]
     },
     "execution_count": 242,
     "metadata": {},
     "output_type": "execute_result"
    }
   ],
   "source": [
    "import sktime.datatypes as dtp\n",
    "dtp.MTYPE_REGISTER"
   ]
  },
  {
   "cell_type": "code",
   "execution_count": 243,
   "id": "bd682928",
   "metadata": {
    "scrolled": false
   },
   "outputs": [
    {
     "data": {
      "text/plain": [
       "array([[ 5.64952805e-02, -5.03052044e-01,  2.63681603e+00, ...,\n",
       "        -1.25692489e-01, -5.64952805e-02,  1.46229996e+02],\n",
       "       [ 5.01583422e-02, -6.30723902e-01,  3.01604645e+00, ...,\n",
       "        -6.94206181e-02, -5.01583422e-02,  1.30559998e+02],\n",
       "       [ 3.79514749e-02, -6.33029199e-01,  2.92662615e+00, ...,\n",
       "        -7.94692605e-02, -3.79514749e-02,  1.50059998e+02],\n",
       "       ...,\n",
       "       [ 4.71107158e-02, -1.32841700e-01,  2.44610469e+00, ...,\n",
       "        -7.27156797e-02, -4.71107158e-02,  8.21800003e+01],\n",
       "       [ 1.53112731e-01,  1.36723435e-02, -1.44667533e+00, ...,\n",
       "        -2.17288336e-01, -1.53112731e-01,  7.72900009e+01],\n",
       "       [ 4.13465057e-02, -7.39622642e-02,  1.41746025e+00, ...,\n",
       "        -7.76221128e-02, -4.13465057e-02,  8.40199966e+01]])"
      ]
     },
     "execution_count": 243,
     "metadata": {},
     "output_type": "execute_result"
    }
   ],
   "source": [
    "X1.to_numpy()"
   ]
  },
  {
   "cell_type": "code",
   "execution_count": 244,
   "id": "22a0d248",
   "metadata": {
    "scrolled": true
   },
   "outputs": [
    {
     "name": "stdout",
     "output_type": "stream",
     "text": [
      "<class 'pandas.core.frame.DataFrame'>\n",
      "RangeIndex: 82640 entries, 0 to 82639\n",
      "Data columns (total 8 columns):\n",
      " #   Column   Non-Null Count  Dtype  \n",
      "---  ------   --------------  -----  \n",
      " 0   NDVI     82640 non-null  float64\n",
      " 1   NDBI     82640 non-null  float64\n",
      " 2   IBI      82640 non-null  float64\n",
      " 3   EMBI     82640 non-null  float64\n",
      " 4   PISI     82640 non-null  float64\n",
      " 5   VgNIRBI  82640 non-null  float64\n",
      " 6   VrNIRBI  82640 non-null  float64\n",
      " 7   avg_rad  82640 non-null  float64\n",
      "dtypes: float64(8)\n",
      "memory usage: 5.0 MB\n"
     ]
    }
   ],
   "source": [
    "X1.info()"
   ]
  },
  {
   "cell_type": "code",
   "execution_count": 30,
   "id": "2353a94c",
   "metadata": {},
   "outputs": [
    {
     "ename": "KeyError",
     "evalue": "\"['date'] not found in axis\"",
     "output_type": "error",
     "traceback": [
      "\u001b[1;31m---------------------------------------------------------------------------\u001b[0m",
      "\u001b[1;31mKeyError\u001b[0m                                  Traceback (most recent call last)",
      "\u001b[1;32m~\\AppData\\Local\\Temp/ipykernel_6132/2389123009.py\u001b[0m in \u001b[0;36m<module>\u001b[1;34m\u001b[0m\n\u001b[1;32m----> 1\u001b[1;33m \u001b[0mxx1\u001b[0m\u001b[1;33m=\u001b[0m\u001b[0mX1\u001b[0m\u001b[1;33m.\u001b[0m\u001b[0mdrop\u001b[0m\u001b[1;33m(\u001b[0m\u001b[1;34m'date'\u001b[0m\u001b[1;33m,\u001b[0m\u001b[0maxis\u001b[0m\u001b[1;33m=\u001b[0m\u001b[1;36m1\u001b[0m\u001b[1;33m)\u001b[0m\u001b[1;33m\u001b[0m\u001b[1;33m\u001b[0m\u001b[0m\n\u001b[0m",
      "\u001b[1;32m~\\anaconda3\\envs\\ml\\lib\\site-packages\\pandas\\core\\frame.py\u001b[0m in \u001b[0;36mdrop\u001b[1;34m(self, labels, axis, index, columns, level, inplace, errors)\u001b[0m\n\u001b[0;32m   4303\u001b[0m                 \u001b[0mweight\u001b[0m  \u001b[1;36m1.0\u001b[0m     \u001b[1;36m0.8\u001b[0m\u001b[1;33m\u001b[0m\u001b[1;33m\u001b[0m\u001b[0m\n\u001b[0;32m   4304\u001b[0m         \"\"\"\n\u001b[1;32m-> 4305\u001b[1;33m         return super().drop(\n\u001b[0m\u001b[0;32m   4306\u001b[0m             \u001b[0mlabels\u001b[0m\u001b[1;33m=\u001b[0m\u001b[0mlabels\u001b[0m\u001b[1;33m,\u001b[0m\u001b[1;33m\u001b[0m\u001b[1;33m\u001b[0m\u001b[0m\n\u001b[0;32m   4307\u001b[0m             \u001b[0maxis\u001b[0m\u001b[1;33m=\u001b[0m\u001b[0maxis\u001b[0m\u001b[1;33m,\u001b[0m\u001b[1;33m\u001b[0m\u001b[1;33m\u001b[0m\u001b[0m\n",
      "\u001b[1;32m~\\anaconda3\\envs\\ml\\lib\\site-packages\\pandas\\core\\generic.py\u001b[0m in \u001b[0;36mdrop\u001b[1;34m(self, labels, axis, index, columns, level, inplace, errors)\u001b[0m\n\u001b[0;32m   4150\u001b[0m         \u001b[1;32mfor\u001b[0m \u001b[0maxis\u001b[0m\u001b[1;33m,\u001b[0m \u001b[0mlabels\u001b[0m \u001b[1;32min\u001b[0m \u001b[0maxes\u001b[0m\u001b[1;33m.\u001b[0m\u001b[0mitems\u001b[0m\u001b[1;33m(\u001b[0m\u001b[1;33m)\u001b[0m\u001b[1;33m:\u001b[0m\u001b[1;33m\u001b[0m\u001b[1;33m\u001b[0m\u001b[0m\n\u001b[0;32m   4151\u001b[0m             \u001b[1;32mif\u001b[0m \u001b[0mlabels\u001b[0m \u001b[1;32mis\u001b[0m \u001b[1;32mnot\u001b[0m \u001b[1;32mNone\u001b[0m\u001b[1;33m:\u001b[0m\u001b[1;33m\u001b[0m\u001b[1;33m\u001b[0m\u001b[0m\n\u001b[1;32m-> 4152\u001b[1;33m                 \u001b[0mobj\u001b[0m \u001b[1;33m=\u001b[0m \u001b[0mobj\u001b[0m\u001b[1;33m.\u001b[0m\u001b[0m_drop_axis\u001b[0m\u001b[1;33m(\u001b[0m\u001b[0mlabels\u001b[0m\u001b[1;33m,\u001b[0m \u001b[0maxis\u001b[0m\u001b[1;33m,\u001b[0m \u001b[0mlevel\u001b[0m\u001b[1;33m=\u001b[0m\u001b[0mlevel\u001b[0m\u001b[1;33m,\u001b[0m \u001b[0merrors\u001b[0m\u001b[1;33m=\u001b[0m\u001b[0merrors\u001b[0m\u001b[1;33m)\u001b[0m\u001b[1;33m\u001b[0m\u001b[1;33m\u001b[0m\u001b[0m\n\u001b[0m\u001b[0;32m   4153\u001b[0m \u001b[1;33m\u001b[0m\u001b[0m\n\u001b[0;32m   4154\u001b[0m         \u001b[1;32mif\u001b[0m \u001b[0minplace\u001b[0m\u001b[1;33m:\u001b[0m\u001b[1;33m\u001b[0m\u001b[1;33m\u001b[0m\u001b[0m\n",
      "\u001b[1;32m~\\anaconda3\\envs\\ml\\lib\\site-packages\\pandas\\core\\generic.py\u001b[0m in \u001b[0;36m_drop_axis\u001b[1;34m(self, labels, axis, level, errors)\u001b[0m\n\u001b[0;32m   4185\u001b[0m                 \u001b[0mnew_axis\u001b[0m \u001b[1;33m=\u001b[0m \u001b[0maxis\u001b[0m\u001b[1;33m.\u001b[0m\u001b[0mdrop\u001b[0m\u001b[1;33m(\u001b[0m\u001b[0mlabels\u001b[0m\u001b[1;33m,\u001b[0m \u001b[0mlevel\u001b[0m\u001b[1;33m=\u001b[0m\u001b[0mlevel\u001b[0m\u001b[1;33m,\u001b[0m \u001b[0merrors\u001b[0m\u001b[1;33m=\u001b[0m\u001b[0merrors\u001b[0m\u001b[1;33m)\u001b[0m\u001b[1;33m\u001b[0m\u001b[1;33m\u001b[0m\u001b[0m\n\u001b[0;32m   4186\u001b[0m             \u001b[1;32melse\u001b[0m\u001b[1;33m:\u001b[0m\u001b[1;33m\u001b[0m\u001b[1;33m\u001b[0m\u001b[0m\n\u001b[1;32m-> 4187\u001b[1;33m                 \u001b[0mnew_axis\u001b[0m \u001b[1;33m=\u001b[0m \u001b[0maxis\u001b[0m\u001b[1;33m.\u001b[0m\u001b[0mdrop\u001b[0m\u001b[1;33m(\u001b[0m\u001b[0mlabels\u001b[0m\u001b[1;33m,\u001b[0m \u001b[0merrors\u001b[0m\u001b[1;33m=\u001b[0m\u001b[0merrors\u001b[0m\u001b[1;33m)\u001b[0m\u001b[1;33m\u001b[0m\u001b[1;33m\u001b[0m\u001b[0m\n\u001b[0m\u001b[0;32m   4188\u001b[0m             \u001b[0mresult\u001b[0m \u001b[1;33m=\u001b[0m \u001b[0mself\u001b[0m\u001b[1;33m.\u001b[0m\u001b[0mreindex\u001b[0m\u001b[1;33m(\u001b[0m\u001b[1;33m**\u001b[0m\u001b[1;33m{\u001b[0m\u001b[0maxis_name\u001b[0m\u001b[1;33m:\u001b[0m \u001b[0mnew_axis\u001b[0m\u001b[1;33m}\u001b[0m\u001b[1;33m)\u001b[0m\u001b[1;33m\u001b[0m\u001b[1;33m\u001b[0m\u001b[0m\n\u001b[0;32m   4189\u001b[0m \u001b[1;33m\u001b[0m\u001b[0m\n",
      "\u001b[1;32m~\\anaconda3\\envs\\ml\\lib\\site-packages\\pandas\\core\\indexes\\base.py\u001b[0m in \u001b[0;36mdrop\u001b[1;34m(self, labels, errors)\u001b[0m\n\u001b[0;32m   5589\u001b[0m         \u001b[1;32mif\u001b[0m \u001b[0mmask\u001b[0m\u001b[1;33m.\u001b[0m\u001b[0many\u001b[0m\u001b[1;33m(\u001b[0m\u001b[1;33m)\u001b[0m\u001b[1;33m:\u001b[0m\u001b[1;33m\u001b[0m\u001b[1;33m\u001b[0m\u001b[0m\n\u001b[0;32m   5590\u001b[0m             \u001b[1;32mif\u001b[0m \u001b[0merrors\u001b[0m \u001b[1;33m!=\u001b[0m \u001b[1;34m\"ignore\"\u001b[0m\u001b[1;33m:\u001b[0m\u001b[1;33m\u001b[0m\u001b[1;33m\u001b[0m\u001b[0m\n\u001b[1;32m-> 5591\u001b[1;33m                 \u001b[1;32mraise\u001b[0m \u001b[0mKeyError\u001b[0m\u001b[1;33m(\u001b[0m\u001b[1;34mf\"{labels[mask]} not found in axis\"\u001b[0m\u001b[1;33m)\u001b[0m\u001b[1;33m\u001b[0m\u001b[1;33m\u001b[0m\u001b[0m\n\u001b[0m\u001b[0;32m   5592\u001b[0m             \u001b[0mindexer\u001b[0m \u001b[1;33m=\u001b[0m \u001b[0mindexer\u001b[0m\u001b[1;33m[\u001b[0m\u001b[1;33m~\u001b[0m\u001b[0mmask\u001b[0m\u001b[1;33m]\u001b[0m\u001b[1;33m\u001b[0m\u001b[1;33m\u001b[0m\u001b[0m\n\u001b[0;32m   5593\u001b[0m         \u001b[1;32mreturn\u001b[0m \u001b[0mself\u001b[0m\u001b[1;33m.\u001b[0m\u001b[0mdelete\u001b[0m\u001b[1;33m(\u001b[0m\u001b[0mindexer\u001b[0m\u001b[1;33m)\u001b[0m\u001b[1;33m\u001b[0m\u001b[1;33m\u001b[0m\u001b[0m\n",
      "\u001b[1;31mKeyError\u001b[0m: \"['date'] not found in axis\""
     ]
    }
   ],
   "source": [
    "xx1=X1.drop('date',axis=1)\n"
   ]
  },
  {
   "cell_type": "code",
   "execution_count": 415,
   "id": "e053bdba",
   "metadata": {
    "scrolled": true
   },
   "outputs": [
    {
     "name": "stdout",
     "output_type": "stream",
     "text": [
      "<class 'pandas.core.frame.DataFrame'>\n",
      "RangeIndex: 1745 entries, 0 to 1744\n",
      "Data columns (total 4 columns):\n",
      " #   Column  Non-Null Count  Dtype  \n",
      "---  ------  --------------  -----  \n",
      " 0   NDVI    1745 non-null   float64\n",
      " 1   NDBI    1745 non-null   float64\n",
      " 2   IBI     1745 non-null   float64\n",
      " 3   UI      1745 non-null   float64\n",
      "dtypes: float64(4)\n",
      "memory usage: 54.7 KB\n"
     ]
    }
   ],
   "source": [
    "xx1.info()"
   ]
  },
  {
   "cell_type": "code",
   "execution_count": 440,
   "id": "a298da19",
   "metadata": {
    "scrolled": false
   },
   "outputs": [
    {
     "data": {
      "text/plain": [
       "array([[ 1.24282519e-01, -2.01713784e-03, -9.84907258e-01,\n",
       "        -1.10885556e-01],\n",
       "       [ 2.03770750e-01,  3.10834617e-02, -1.47676692e+00,\n",
       "        -6.20422486e-02],\n",
       "       [ 2.38915855e-01, -3.01800538e-02, -7.43070964e-01,\n",
       "        -1.18759123e-01],\n",
       "       ...,\n",
       "       [ 1.03671056e-01,  2.47959695e-02, -1.29469839e+00,\n",
       "        -6.89110638e-02],\n",
       "       [ 1.03671056e-01,  2.47959695e-02, -1.29469839e+00,\n",
       "        -6.89110638e-02],\n",
       "       [ 6.31822707e-02,  2.10069783e-02,  5.46411528e+00,\n",
       "        -9.09947069e-02]])"
      ]
     },
     "execution_count": 440,
     "metadata": {},
     "output_type": "execute_result"
    }
   ],
   "source": [
    "xx1.to_numpy()"
   ]
  },
  {
   "cell_type": "code",
   "execution_count": 245,
   "id": "71787a78",
   "metadata": {},
   "outputs": [],
   "source": [
    "yy1=y1.to_numpy()"
   ]
  },
  {
   "cell_type": "code",
   "execution_count": 506,
   "id": "62ba1d9a",
   "metadata": {},
   "outputs": [],
   "source": [
    "#https://github.com/alan-turing-institute/sktime/blob/main/examples/AA_datatypes_and_datasets.ipynb"
   ]
  },
  {
   "cell_type": "code",
   "execution_count": 246,
   "id": "dca2a382",
   "metadata": {},
   "outputs": [
    {
     "data": {
      "text/plain": [
       "(True,\n",
       " None,\n",
       " {'is_empty': False,\n",
       "  'is_univariate': True,\n",
       "  'is_equally_spaced': True,\n",
       "  'has_nans': False,\n",
       "  'mtype': 'np.ndarray',\n",
       "  'scitype': 'Series'})"
      ]
     },
     "execution_count": 246,
     "metadata": {},
     "output_type": "execute_result"
    }
   ],
   "source": [
    "from sktime.datatypes import check_is_mtype\n",
    "\n",
    "check_is_mtype(yy1, mtype=\"np.ndarray\", return_metadata=True)"
   ]
  },
  {
   "cell_type": "code",
   "execution_count": 247,
   "id": "4d903560",
   "metadata": {},
   "outputs": [
    {
     "ename": "NameError",
     "evalue": "name 'xx1' is not defined",
     "output_type": "error",
     "traceback": [
      "\u001b[1;31m---------------------------------------------------------------------------\u001b[0m",
      "\u001b[1;31mNameError\u001b[0m                                 Traceback (most recent call last)",
      "\u001b[1;32m~\\AppData\\Local\\Temp/ipykernel_16328/4076716175.py\u001b[0m in \u001b[0;36m<module>\u001b[1;34m\u001b[0m\n\u001b[1;32m----> 1\u001b[1;33m \u001b[0mcheck_is_mtype\u001b[0m\u001b[1;33m(\u001b[0m\u001b[0mxx1\u001b[0m\u001b[1;33m.\u001b[0m\u001b[0mto_numpy\u001b[0m\u001b[1;33m(\u001b[0m\u001b[1;33m)\u001b[0m\u001b[1;33m,\u001b[0m \u001b[0mmtype\u001b[0m\u001b[1;33m=\u001b[0m\u001b[1;34m\"np.ndarray\"\u001b[0m\u001b[1;33m,\u001b[0m \u001b[0mreturn_metadata\u001b[0m\u001b[1;33m=\u001b[0m\u001b[1;32mTrue\u001b[0m\u001b[1;33m)\u001b[0m\u001b[1;33m\u001b[0m\u001b[1;33m\u001b[0m\u001b[0m\n\u001b[0m",
      "\u001b[1;31mNameError\u001b[0m: name 'xx1' is not defined"
     ]
    }
   ],
   "source": [
    "check_is_mtype(xx1.to_numpy(), mtype=\"np.ndarray\", return_metadata=True)"
   ]
  },
  {
   "cell_type": "code",
   "execution_count": 248,
   "id": "58719555",
   "metadata": {},
   "outputs": [],
   "source": [
    "from sktime.datatypes import convert_to\n",
    "\n",
    "A=convert_to(X1.to_numpy(), to_type=\"numpy2D\")\n",
    "#=convert_to(A, to_type=\"nested_univ\")"
   ]
  },
  {
   "cell_type": "code",
   "execution_count": 249,
   "id": "5b2e2a2e",
   "metadata": {},
   "outputs": [],
   "source": [
    "b=convert_to(yy1, to_type=\"numpy1D\")"
   ]
  },
  {
   "cell_type": "code",
   "execution_count": 29,
   "id": "4096a90e",
   "metadata": {},
   "outputs": [
    {
     "data": {
      "text/plain": [
       "array([1, 1, 1, ..., 0, 0, 0], dtype=int64)"
      ]
     },
     "execution_count": 29,
     "metadata": {},
     "output_type": "execute_result"
    }
   ],
   "source": [
    "b"
   ]
  },
  {
   "cell_type": "code",
   "execution_count": 256,
   "id": "f5bd9b64",
   "metadata": {
    "scrolled": false
   },
   "outputs": [
    {
     "data": {
      "text/plain": [
       "0.6673120361406906"
      ]
     },
     "execution_count": 256,
     "metadata": {},
     "output_type": "execute_result"
    }
   ],
   "source": [
    "from sktime.classification.interval_based import TimeSeriesForestClassifier\n",
    "\n",
    "X_train,x_test,Y_train,y_test = train_test_split(X1.to_numpy(),b, test_size=0.3, random_state=1)\n",
    "clf = TimeSeriesForestClassifier(n_estimators=50)\n",
    "clf.fit(X_train, Y_train)\n",
    "y_pred = clf.predict(x_test)\n",
    "accuracy_score(y_test, y_pred)"
   ]
  },
  {
   "cell_type": "code",
   "execution_count": 257,
   "id": "4a744783",
   "metadata": {},
   "outputs": [],
   "source": [
    "# https://www.kaggle.com/code/gautham11/building-a-scikit-learn-classification-pipeline/notebook\n",
    "\n",
    "# https://pythonguides.com/scikit-learn-pipeline/"
   ]
  },
  {
   "cell_type": "code",
   "execution_count": 251,
   "id": "7e968736",
   "metadata": {},
   "outputs": [
    {
     "ename": "NameError",
     "evalue": "name 'test_s2' is not defined",
     "output_type": "error",
     "traceback": [
      "\u001b[1;31m---------------------------------------------------------------------------\u001b[0m",
      "\u001b[1;31mNameError\u001b[0m                                 Traceback (most recent call last)",
      "\u001b[1;32m~\\AppData\\Local\\Temp/ipykernel_16328/4191148044.py\u001b[0m in \u001b[0;36m<module>\u001b[1;34m\u001b[0m\n\u001b[1;32m----> 1\u001b[1;33m \u001b[0my_pred_3\u001b[0m \u001b[1;33m=\u001b[0m \u001b[0mclf\u001b[0m\u001b[1;33m.\u001b[0m\u001b[0mpredict\u001b[0m\u001b[1;33m(\u001b[0m\u001b[0mtest_s2\u001b[0m\u001b[1;33m.\u001b[0m\u001b[0mto_numpy\u001b[0m\u001b[1;33m(\u001b[0m\u001b[1;33m)\u001b[0m\u001b[1;33m)\u001b[0m\u001b[1;33m\u001b[0m\u001b[1;33m\u001b[0m\u001b[0m\n\u001b[0m\u001b[0;32m      2\u001b[0m \u001b[0maccuracy_score\u001b[0m\u001b[1;33m(\u001b[0m\u001b[0my_test\u001b[0m\u001b[1;33m,\u001b[0m \u001b[0my_pred_3\u001b[0m\u001b[1;33m[\u001b[0m\u001b[1;33m:\u001b[0m\u001b[0mlen\u001b[0m\u001b[1;33m(\u001b[0m\u001b[0my_test\u001b[0m\u001b[1;33m)\u001b[0m\u001b[1;33m]\u001b[0m\u001b[1;33m)\u001b[0m\u001b[1;33m\u001b[0m\u001b[1;33m\u001b[0m\u001b[0m\n",
      "\u001b[1;31mNameError\u001b[0m: name 'test_s2' is not defined"
     ]
    }
   ],
   "source": [
    "y_pred_3 = clf.predict(test_s2.to_numpy())\n",
    "accuracy_score(y_test, y_pred_3[:len(y_test)])"
   ]
  },
  {
   "cell_type": "code",
   "execution_count": 254,
   "id": "0b4e3d1c",
   "metadata": {},
   "outputs": [
    {
     "ename": "MemoryError",
     "evalue": "Unable to allocate 4.15 GiB for an array with shape (27848, 20000) and data type float64",
     "output_type": "error",
     "traceback": [
      "\u001b[1;31m---------------------------------------------------------------------------\u001b[0m",
      "\u001b[1;31mMemoryError\u001b[0m                               Traceback (most recent call last)",
      "\u001b[1;32m~\\AppData\\Local\\Temp/ipykernel_16328/3837338287.py\u001b[0m in \u001b[0;36m<module>\u001b[1;34m\u001b[0m\n\u001b[0;32m      3\u001b[0m \u001b[1;33m\u001b[0m\u001b[0m\n\u001b[0;32m      4\u001b[0m \u001b[0mrocket\u001b[0m \u001b[1;33m=\u001b[0m \u001b[0mRocketClassifier\u001b[0m\u001b[1;33m(\u001b[0m\u001b[1;33m)\u001b[0m\u001b[1;33m\u001b[0m\u001b[1;33m\u001b[0m\u001b[0m\n\u001b[1;32m----> 5\u001b[1;33m \u001b[0mrocket\u001b[0m\u001b[1;33m.\u001b[0m\u001b[0mfit\u001b[0m\u001b[1;33m(\u001b[0m\u001b[0mX_train\u001b[0m\u001b[1;33m[\u001b[0m\u001b[1;36m30000\u001b[0m\u001b[1;33m:\u001b[0m\u001b[1;36m60000\u001b[0m\u001b[1;33m]\u001b[0m\u001b[1;33m,\u001b[0m \u001b[0mY_train\u001b[0m\u001b[1;33m[\u001b[0m\u001b[1;36m30000\u001b[0m\u001b[1;33m:\u001b[0m\u001b[1;36m60000\u001b[0m\u001b[1;33m]\u001b[0m\u001b[1;33m)\u001b[0m\u001b[1;33m\u001b[0m\u001b[1;33m\u001b[0m\u001b[0m\n\u001b[0m\u001b[0;32m      6\u001b[0m \u001b[0my_pred\u001b[0m \u001b[1;33m=\u001b[0m \u001b[0mrocket\u001b[0m\u001b[1;33m.\u001b[0m\u001b[0mpredict\u001b[0m\u001b[1;33m(\u001b[0m\u001b[0mx_test\u001b[0m\u001b[1;33m[\u001b[0m\u001b[1;36m30000\u001b[0m\u001b[1;33m:\u001b[0m\u001b[1;36m60000\u001b[0m\u001b[1;33m]\u001b[0m\u001b[1;33m)\u001b[0m\u001b[1;33m\u001b[0m\u001b[1;33m\u001b[0m\u001b[0m\n\u001b[0;32m      7\u001b[0m \u001b[0maccuracy_score\u001b[0m\u001b[1;33m(\u001b[0m\u001b[0my_test\u001b[0m\u001b[1;33m[\u001b[0m\u001b[1;36m30000\u001b[0m\u001b[1;33m:\u001b[0m\u001b[1;36m60000\u001b[0m\u001b[1;33m]\u001b[0m\u001b[1;33m,\u001b[0m \u001b[0my_pred\u001b[0m\u001b[1;33m)\u001b[0m\u001b[1;33m\u001b[0m\u001b[1;33m\u001b[0m\u001b[0m\n",
      "\u001b[1;32m~\\anaconda3\\envs\\ml\\lib\\site-packages\\sktime\\classification\\base.py\u001b[0m in \u001b[0;36mfit\u001b[1;34m(self, X, y)\u001b[0m\n\u001b[0;32m    168\u001b[0m         \u001b[1;32mfor\u001b[0m \u001b[0mindex\u001b[0m\u001b[1;33m,\u001b[0m \u001b[0mclass_val\u001b[0m \u001b[1;32min\u001b[0m \u001b[0menumerate\u001b[0m\u001b[1;33m(\u001b[0m\u001b[0mself\u001b[0m\u001b[1;33m.\u001b[0m\u001b[0mclasses_\u001b[0m\u001b[1;33m)\u001b[0m\u001b[1;33m:\u001b[0m\u001b[1;33m\u001b[0m\u001b[1;33m\u001b[0m\u001b[0m\n\u001b[0;32m    169\u001b[0m             \u001b[0mself\u001b[0m\u001b[1;33m.\u001b[0m\u001b[0m_class_dictionary\u001b[0m\u001b[1;33m[\u001b[0m\u001b[0mclass_val\u001b[0m\u001b[1;33m]\u001b[0m \u001b[1;33m=\u001b[0m \u001b[0mindex\u001b[0m\u001b[1;33m\u001b[0m\u001b[1;33m\u001b[0m\u001b[0m\n\u001b[1;32m--> 170\u001b[1;33m         \u001b[0mself\u001b[0m\u001b[1;33m.\u001b[0m\u001b[0m_fit\u001b[0m\u001b[1;33m(\u001b[0m\u001b[0mX\u001b[0m\u001b[1;33m,\u001b[0m \u001b[0my\u001b[0m\u001b[1;33m)\u001b[0m\u001b[1;33m\u001b[0m\u001b[1;33m\u001b[0m\u001b[0m\n\u001b[0m\u001b[0;32m    171\u001b[0m         \u001b[0mself\u001b[0m\u001b[1;33m.\u001b[0m\u001b[0mfit_time_\u001b[0m \u001b[1;33m=\u001b[0m \u001b[0mint\u001b[0m\u001b[1;33m(\u001b[0m\u001b[0mround\u001b[0m\u001b[1;33m(\u001b[0m\u001b[0mtime\u001b[0m\u001b[1;33m.\u001b[0m\u001b[0mtime\u001b[0m\u001b[1;33m(\u001b[0m\u001b[1;33m)\u001b[0m \u001b[1;33m*\u001b[0m \u001b[1;36m1000\u001b[0m\u001b[1;33m)\u001b[0m\u001b[1;33m)\u001b[0m \u001b[1;33m-\u001b[0m \u001b[0mstart\u001b[0m\u001b[1;33m\u001b[0m\u001b[1;33m\u001b[0m\u001b[0m\n\u001b[0;32m    172\u001b[0m         \u001b[1;31m# this should happen last\u001b[0m\u001b[1;33m\u001b[0m\u001b[1;33m\u001b[0m\u001b[1;33m\u001b[0m\u001b[0m\n",
      "\u001b[1;32m~\\anaconda3\\envs\\ml\\lib\\site-packages\\sktime\\classification\\kernel_based\\_rocket_classifier.py\u001b[0m in \u001b[0;36m_fit\u001b[1;34m(self, X, y)\u001b[0m\n\u001b[0;32m    176\u001b[0m             \u001b[0mRidgeClassifierCV\u001b[0m\u001b[1;33m(\u001b[0m\u001b[0malphas\u001b[0m\u001b[1;33m=\u001b[0m\u001b[0mnp\u001b[0m\u001b[1;33m.\u001b[0m\u001b[0mlogspace\u001b[0m\u001b[1;33m(\u001b[0m\u001b[1;33m-\u001b[0m\u001b[1;36m3\u001b[0m\u001b[1;33m,\u001b[0m \u001b[1;36m3\u001b[0m\u001b[1;33m,\u001b[0m \u001b[1;36m10\u001b[0m\u001b[1;33m)\u001b[0m\u001b[1;33m)\u001b[0m\u001b[1;33m,\u001b[0m\u001b[1;33m\u001b[0m\u001b[1;33m\u001b[0m\u001b[0m\n\u001b[0;32m    177\u001b[0m         )\n\u001b[1;32m--> 178\u001b[1;33m         \u001b[0mrocket_pipeline\u001b[0m\u001b[1;33m.\u001b[0m\u001b[0mfit\u001b[0m\u001b[1;33m(\u001b[0m\u001b[0mX\u001b[0m\u001b[1;33m,\u001b[0m \u001b[0my\u001b[0m\u001b[1;33m)\u001b[0m\u001b[1;33m\u001b[0m\u001b[1;33m\u001b[0m\u001b[0m\n\u001b[0m\u001b[0;32m    179\u001b[0m \u001b[1;33m\u001b[0m\u001b[0m\n\u001b[0;32m    180\u001b[0m         \u001b[1;32mreturn\u001b[0m \u001b[0mself\u001b[0m\u001b[1;33m\u001b[0m\u001b[1;33m\u001b[0m\u001b[0m\n",
      "\u001b[1;32m~\\AppData\\Roaming\\Python\\Python39\\site-packages\\sklearn\\pipeline.py\u001b[0m in \u001b[0;36mfit\u001b[1;34m(self, X, y, **fit_params)\u001b[0m\n\u001b[0;32m    344\u001b[0m             \u001b[1;32mif\u001b[0m \u001b[0mself\u001b[0m\u001b[1;33m.\u001b[0m\u001b[0m_final_estimator\u001b[0m \u001b[1;33m!=\u001b[0m \u001b[1;34m'passthrough'\u001b[0m\u001b[1;33m:\u001b[0m\u001b[1;33m\u001b[0m\u001b[1;33m\u001b[0m\u001b[0m\n\u001b[0;32m    345\u001b[0m                 \u001b[0mfit_params_last_step\u001b[0m \u001b[1;33m=\u001b[0m \u001b[0mfit_params_steps\u001b[0m\u001b[1;33m[\u001b[0m\u001b[0mself\u001b[0m\u001b[1;33m.\u001b[0m\u001b[0msteps\u001b[0m\u001b[1;33m[\u001b[0m\u001b[1;33m-\u001b[0m\u001b[1;36m1\u001b[0m\u001b[1;33m]\u001b[0m\u001b[1;33m[\u001b[0m\u001b[1;36m0\u001b[0m\u001b[1;33m]\u001b[0m\u001b[1;33m]\u001b[0m\u001b[1;33m\u001b[0m\u001b[1;33m\u001b[0m\u001b[0m\n\u001b[1;32m--> 346\u001b[1;33m                 \u001b[0mself\u001b[0m\u001b[1;33m.\u001b[0m\u001b[0m_final_estimator\u001b[0m\u001b[1;33m.\u001b[0m\u001b[0mfit\u001b[0m\u001b[1;33m(\u001b[0m\u001b[0mXt\u001b[0m\u001b[1;33m,\u001b[0m \u001b[0my\u001b[0m\u001b[1;33m,\u001b[0m \u001b[1;33m**\u001b[0m\u001b[0mfit_params_last_step\u001b[0m\u001b[1;33m)\u001b[0m\u001b[1;33m\u001b[0m\u001b[1;33m\u001b[0m\u001b[0m\n\u001b[0m\u001b[0;32m    347\u001b[0m \u001b[1;33m\u001b[0m\u001b[0m\n\u001b[0;32m    348\u001b[0m         \u001b[1;32mreturn\u001b[0m \u001b[0mself\u001b[0m\u001b[1;33m\u001b[0m\u001b[1;33m\u001b[0m\u001b[0m\n",
      "\u001b[1;32m~\\AppData\\Roaming\\Python\\Python39\\site-packages\\sklearn\\linear_model\\_ridge.py\u001b[0m in \u001b[0;36mfit\u001b[1;34m(self, X, y, sample_weight)\u001b[0m\n\u001b[0;32m   1955\u001b[0m \u001b[1;33m\u001b[0m\u001b[0m\n\u001b[0;32m   1956\u001b[0m         \u001b[0mtarget\u001b[0m \u001b[1;33m=\u001b[0m \u001b[0mY\u001b[0m \u001b[1;32mif\u001b[0m \u001b[0mself\u001b[0m\u001b[1;33m.\u001b[0m\u001b[0mcv\u001b[0m \u001b[1;32mis\u001b[0m \u001b[1;32mNone\u001b[0m \u001b[1;32melse\u001b[0m \u001b[0my\u001b[0m\u001b[1;33m\u001b[0m\u001b[1;33m\u001b[0m\u001b[0m\n\u001b[1;32m-> 1957\u001b[1;33m         \u001b[0m_BaseRidgeCV\u001b[0m\u001b[1;33m.\u001b[0m\u001b[0mfit\u001b[0m\u001b[1;33m(\u001b[0m\u001b[0mself\u001b[0m\u001b[1;33m,\u001b[0m \u001b[0mX\u001b[0m\u001b[1;33m,\u001b[0m \u001b[0mtarget\u001b[0m\u001b[1;33m,\u001b[0m \u001b[0msample_weight\u001b[0m\u001b[1;33m=\u001b[0m\u001b[0msample_weight\u001b[0m\u001b[1;33m)\u001b[0m\u001b[1;33m\u001b[0m\u001b[1;33m\u001b[0m\u001b[0m\n\u001b[0m\u001b[0;32m   1958\u001b[0m         \u001b[1;32mreturn\u001b[0m \u001b[0mself\u001b[0m\u001b[1;33m\u001b[0m\u001b[1;33m\u001b[0m\u001b[0m\n\u001b[0;32m   1959\u001b[0m \u001b[1;33m\u001b[0m\u001b[0m\n",
      "\u001b[1;32m~\\AppData\\Roaming\\Python\\Python39\\site-packages\\sklearn\\linear_model\\_ridge.py\u001b[0m in \u001b[0;36mfit\u001b[1;34m(self, X, y, sample_weight)\u001b[0m\n\u001b[0;32m   1635\u001b[0m                                   \u001b[0mis_clf\u001b[0m\u001b[1;33m=\u001b[0m\u001b[0mis_classifier\u001b[0m\u001b[1;33m(\u001b[0m\u001b[0mself\u001b[0m\u001b[1;33m)\u001b[0m\u001b[1;33m,\u001b[0m\u001b[1;33m\u001b[0m\u001b[1;33m\u001b[0m\u001b[0m\n\u001b[0;32m   1636\u001b[0m                                   alpha_per_target=self.alpha_per_target)\n\u001b[1;32m-> 1637\u001b[1;33m             \u001b[0mestimator\u001b[0m\u001b[1;33m.\u001b[0m\u001b[0mfit\u001b[0m\u001b[1;33m(\u001b[0m\u001b[0mX\u001b[0m\u001b[1;33m,\u001b[0m \u001b[0my\u001b[0m\u001b[1;33m,\u001b[0m \u001b[0msample_weight\u001b[0m\u001b[1;33m=\u001b[0m\u001b[0msample_weight\u001b[0m\u001b[1;33m)\u001b[0m\u001b[1;33m\u001b[0m\u001b[1;33m\u001b[0m\u001b[0m\n\u001b[0m\u001b[0;32m   1638\u001b[0m             \u001b[0mself\u001b[0m\u001b[1;33m.\u001b[0m\u001b[0malpha_\u001b[0m \u001b[1;33m=\u001b[0m \u001b[0mestimator\u001b[0m\u001b[1;33m.\u001b[0m\u001b[0malpha_\u001b[0m\u001b[1;33m\u001b[0m\u001b[1;33m\u001b[0m\u001b[0m\n\u001b[0;32m   1639\u001b[0m             \u001b[0mself\u001b[0m\u001b[1;33m.\u001b[0m\u001b[0mbest_score_\u001b[0m \u001b[1;33m=\u001b[0m \u001b[0mestimator\u001b[0m\u001b[1;33m.\u001b[0m\u001b[0mbest_score_\u001b[0m\u001b[1;33m\u001b[0m\u001b[1;33m\u001b[0m\u001b[0m\n",
      "\u001b[1;32m~\\AppData\\Roaming\\Python\\Python39\\site-packages\\sklearn\\linear_model\\_ridge.py\u001b[0m in \u001b[0;36mfit\u001b[1;34m(self, X, y, sample_weight)\u001b[0m\n\u001b[0;32m   1452\u001b[0m         \u001b[0mself\u001b[0m \u001b[1;33m:\u001b[0m \u001b[0mobject\u001b[0m\u001b[1;33m\u001b[0m\u001b[1;33m\u001b[0m\u001b[0m\n\u001b[0;32m   1453\u001b[0m         \"\"\"\n\u001b[1;32m-> 1454\u001b[1;33m         X, y = self._validate_data(X, y, accept_sparse=['csr', 'csc', 'coo'],\n\u001b[0m\u001b[0;32m   1455\u001b[0m                                    \u001b[0mdtype\u001b[0m\u001b[1;33m=\u001b[0m\u001b[1;33m[\u001b[0m\u001b[0mnp\u001b[0m\u001b[1;33m.\u001b[0m\u001b[0mfloat64\u001b[0m\u001b[1;33m]\u001b[0m\u001b[1;33m,\u001b[0m\u001b[1;33m\u001b[0m\u001b[1;33m\u001b[0m\u001b[0m\n\u001b[0;32m   1456\u001b[0m                                    multi_output=True, y_numeric=True)\n",
      "\u001b[1;32m~\\AppData\\Roaming\\Python\\Python39\\site-packages\\sklearn\\base.py\u001b[0m in \u001b[0;36m_validate_data\u001b[1;34m(self, X, y, reset, validate_separately, **check_params)\u001b[0m\n\u001b[0;32m    431\u001b[0m                 \u001b[0my\u001b[0m \u001b[1;33m=\u001b[0m \u001b[0mcheck_array\u001b[0m\u001b[1;33m(\u001b[0m\u001b[0my\u001b[0m\u001b[1;33m,\u001b[0m \u001b[1;33m**\u001b[0m\u001b[0mcheck_y_params\u001b[0m\u001b[1;33m)\u001b[0m\u001b[1;33m\u001b[0m\u001b[1;33m\u001b[0m\u001b[0m\n\u001b[0;32m    432\u001b[0m             \u001b[1;32melse\u001b[0m\u001b[1;33m:\u001b[0m\u001b[1;33m\u001b[0m\u001b[1;33m\u001b[0m\u001b[0m\n\u001b[1;32m--> 433\u001b[1;33m                 \u001b[0mX\u001b[0m\u001b[1;33m,\u001b[0m \u001b[0my\u001b[0m \u001b[1;33m=\u001b[0m \u001b[0mcheck_X_y\u001b[0m\u001b[1;33m(\u001b[0m\u001b[0mX\u001b[0m\u001b[1;33m,\u001b[0m \u001b[0my\u001b[0m\u001b[1;33m,\u001b[0m \u001b[1;33m**\u001b[0m\u001b[0mcheck_params\u001b[0m\u001b[1;33m)\u001b[0m\u001b[1;33m\u001b[0m\u001b[1;33m\u001b[0m\u001b[0m\n\u001b[0m\u001b[0;32m    434\u001b[0m             \u001b[0mout\u001b[0m \u001b[1;33m=\u001b[0m \u001b[0mX\u001b[0m\u001b[1;33m,\u001b[0m \u001b[0my\u001b[0m\u001b[1;33m\u001b[0m\u001b[1;33m\u001b[0m\u001b[0m\n\u001b[0;32m    435\u001b[0m \u001b[1;33m\u001b[0m\u001b[0m\n",
      "\u001b[1;32m~\\AppData\\Roaming\\Python\\Python39\\site-packages\\sklearn\\utils\\validation.py\u001b[0m in \u001b[0;36minner_f\u001b[1;34m(*args, **kwargs)\u001b[0m\n\u001b[0;32m     61\u001b[0m             \u001b[0mextra_args\u001b[0m \u001b[1;33m=\u001b[0m \u001b[0mlen\u001b[0m\u001b[1;33m(\u001b[0m\u001b[0margs\u001b[0m\u001b[1;33m)\u001b[0m \u001b[1;33m-\u001b[0m \u001b[0mlen\u001b[0m\u001b[1;33m(\u001b[0m\u001b[0mall_args\u001b[0m\u001b[1;33m)\u001b[0m\u001b[1;33m\u001b[0m\u001b[1;33m\u001b[0m\u001b[0m\n\u001b[0;32m     62\u001b[0m             \u001b[1;32mif\u001b[0m \u001b[0mextra_args\u001b[0m \u001b[1;33m<=\u001b[0m \u001b[1;36m0\u001b[0m\u001b[1;33m:\u001b[0m\u001b[1;33m\u001b[0m\u001b[1;33m\u001b[0m\u001b[0m\n\u001b[1;32m---> 63\u001b[1;33m                 \u001b[1;32mreturn\u001b[0m \u001b[0mf\u001b[0m\u001b[1;33m(\u001b[0m\u001b[1;33m*\u001b[0m\u001b[0margs\u001b[0m\u001b[1;33m,\u001b[0m \u001b[1;33m**\u001b[0m\u001b[0mkwargs\u001b[0m\u001b[1;33m)\u001b[0m\u001b[1;33m\u001b[0m\u001b[1;33m\u001b[0m\u001b[0m\n\u001b[0m\u001b[0;32m     64\u001b[0m \u001b[1;33m\u001b[0m\u001b[0m\n\u001b[0;32m     65\u001b[0m             \u001b[1;31m# extra_args > 0\u001b[0m\u001b[1;33m\u001b[0m\u001b[1;33m\u001b[0m\u001b[1;33m\u001b[0m\u001b[0m\n",
      "\u001b[1;32m~\\AppData\\Roaming\\Python\\Python39\\site-packages\\sklearn\\utils\\validation.py\u001b[0m in \u001b[0;36mcheck_X_y\u001b[1;34m(X, y, accept_sparse, accept_large_sparse, dtype, order, copy, force_all_finite, ensure_2d, allow_nd, multi_output, ensure_min_samples, ensure_min_features, y_numeric, estimator)\u001b[0m\n\u001b[0;32m    869\u001b[0m         \u001b[1;32mraise\u001b[0m \u001b[0mValueError\u001b[0m\u001b[1;33m(\u001b[0m\u001b[1;34m\"y cannot be None\"\u001b[0m\u001b[1;33m)\u001b[0m\u001b[1;33m\u001b[0m\u001b[1;33m\u001b[0m\u001b[0m\n\u001b[0;32m    870\u001b[0m \u001b[1;33m\u001b[0m\u001b[0m\n\u001b[1;32m--> 871\u001b[1;33m     X = check_array(X, accept_sparse=accept_sparse,\n\u001b[0m\u001b[0;32m    872\u001b[0m                     \u001b[0maccept_large_sparse\u001b[0m\u001b[1;33m=\u001b[0m\u001b[0maccept_large_sparse\u001b[0m\u001b[1;33m,\u001b[0m\u001b[1;33m\u001b[0m\u001b[1;33m\u001b[0m\u001b[0m\n\u001b[0;32m    873\u001b[0m                     \u001b[0mdtype\u001b[0m\u001b[1;33m=\u001b[0m\u001b[0mdtype\u001b[0m\u001b[1;33m,\u001b[0m \u001b[0morder\u001b[0m\u001b[1;33m=\u001b[0m\u001b[0morder\u001b[0m\u001b[1;33m,\u001b[0m \u001b[0mcopy\u001b[0m\u001b[1;33m=\u001b[0m\u001b[0mcopy\u001b[0m\u001b[1;33m,\u001b[0m\u001b[1;33m\u001b[0m\u001b[1;33m\u001b[0m\u001b[0m\n",
      "\u001b[1;32m~\\AppData\\Roaming\\Python\\Python39\\site-packages\\sklearn\\utils\\validation.py\u001b[0m in \u001b[0;36minner_f\u001b[1;34m(*args, **kwargs)\u001b[0m\n\u001b[0;32m     61\u001b[0m             \u001b[0mextra_args\u001b[0m \u001b[1;33m=\u001b[0m \u001b[0mlen\u001b[0m\u001b[1;33m(\u001b[0m\u001b[0margs\u001b[0m\u001b[1;33m)\u001b[0m \u001b[1;33m-\u001b[0m \u001b[0mlen\u001b[0m\u001b[1;33m(\u001b[0m\u001b[0mall_args\u001b[0m\u001b[1;33m)\u001b[0m\u001b[1;33m\u001b[0m\u001b[1;33m\u001b[0m\u001b[0m\n\u001b[0;32m     62\u001b[0m             \u001b[1;32mif\u001b[0m \u001b[0mextra_args\u001b[0m \u001b[1;33m<=\u001b[0m \u001b[1;36m0\u001b[0m\u001b[1;33m:\u001b[0m\u001b[1;33m\u001b[0m\u001b[1;33m\u001b[0m\u001b[0m\n\u001b[1;32m---> 63\u001b[1;33m                 \u001b[1;32mreturn\u001b[0m \u001b[0mf\u001b[0m\u001b[1;33m(\u001b[0m\u001b[1;33m*\u001b[0m\u001b[0margs\u001b[0m\u001b[1;33m,\u001b[0m \u001b[1;33m**\u001b[0m\u001b[0mkwargs\u001b[0m\u001b[1;33m)\u001b[0m\u001b[1;33m\u001b[0m\u001b[1;33m\u001b[0m\u001b[0m\n\u001b[0m\u001b[0;32m     64\u001b[0m \u001b[1;33m\u001b[0m\u001b[0m\n\u001b[0;32m     65\u001b[0m             \u001b[1;31m# extra_args > 0\u001b[0m\u001b[1;33m\u001b[0m\u001b[1;33m\u001b[0m\u001b[1;33m\u001b[0m\u001b[0m\n",
      "\u001b[1;32m~\\AppData\\Roaming\\Python\\Python39\\site-packages\\sklearn\\utils\\validation.py\u001b[0m in \u001b[0;36mcheck_array\u001b[1;34m(array, accept_sparse, accept_large_sparse, dtype, order, copy, force_all_finite, ensure_2d, allow_nd, ensure_min_samples, ensure_min_features, estimator)\u001b[0m\n\u001b[0;32m    671\u001b[0m                     \u001b[0marray\u001b[0m \u001b[1;33m=\u001b[0m \u001b[0marray\u001b[0m\u001b[1;33m.\u001b[0m\u001b[0mastype\u001b[0m\u001b[1;33m(\u001b[0m\u001b[0mdtype\u001b[0m\u001b[1;33m,\u001b[0m \u001b[0mcasting\u001b[0m\u001b[1;33m=\u001b[0m\u001b[1;34m\"unsafe\"\u001b[0m\u001b[1;33m,\u001b[0m \u001b[0mcopy\u001b[0m\u001b[1;33m=\u001b[0m\u001b[1;32mFalse\u001b[0m\u001b[1;33m)\u001b[0m\u001b[1;33m\u001b[0m\u001b[1;33m\u001b[0m\u001b[0m\n\u001b[0;32m    672\u001b[0m                 \u001b[1;32melse\u001b[0m\u001b[1;33m:\u001b[0m\u001b[1;33m\u001b[0m\u001b[1;33m\u001b[0m\u001b[0m\n\u001b[1;32m--> 673\u001b[1;33m                     \u001b[0marray\u001b[0m \u001b[1;33m=\u001b[0m \u001b[0mnp\u001b[0m\u001b[1;33m.\u001b[0m\u001b[0masarray\u001b[0m\u001b[1;33m(\u001b[0m\u001b[0marray\u001b[0m\u001b[1;33m,\u001b[0m \u001b[0morder\u001b[0m\u001b[1;33m=\u001b[0m\u001b[0morder\u001b[0m\u001b[1;33m,\u001b[0m \u001b[0mdtype\u001b[0m\u001b[1;33m=\u001b[0m\u001b[0mdtype\u001b[0m\u001b[1;33m)\u001b[0m\u001b[1;33m\u001b[0m\u001b[1;33m\u001b[0m\u001b[0m\n\u001b[0m\u001b[0;32m    674\u001b[0m             \u001b[1;32mexcept\u001b[0m \u001b[0mComplexWarning\u001b[0m \u001b[1;32mas\u001b[0m \u001b[0mcomplex_warning\u001b[0m\u001b[1;33m:\u001b[0m\u001b[1;33m\u001b[0m\u001b[1;33m\u001b[0m\u001b[0m\n\u001b[0;32m    675\u001b[0m                 raise ValueError(\"Complex data not supported\\n\"\n",
      "\u001b[1;31mMemoryError\u001b[0m: Unable to allocate 4.15 GiB for an array with shape (27848, 20000) and data type float64"
     ]
    }
   ],
   "source": [
    "from sktime.classification.kernel_based import RocketClassifier\n",
    "\n",
    "\n",
    "rocket = RocketClassifier()\n",
    "rocket.fit(X_train[30000:60000], Y_train[30000:60000])\n",
    "y_pred = rocket.predict(x_test[30000:60000])\n",
    "accuracy_score(y_test[30000:60000], y_pred)"
   ]
  },
  {
   "cell_type": "code",
   "execution_count": 467,
   "id": "e35559e2",
   "metadata": {},
   "outputs": [
    {
     "ename": "ZeroDivisionError",
     "evalue": "division by zero",
     "output_type": "error",
     "traceback": [
      "\u001b[1;31m---------------------------------------------------------------------------\u001b[0m",
      "\u001b[1;31m_RemoteTraceback\u001b[0m                          Traceback (most recent call last)",
      "\u001b[1;31m_RemoteTraceback\u001b[0m: \n\"\"\"\nTraceback (most recent call last):\n  File \"C:\\Users\\Christos\\AppData\\Roaming\\Python\\Python39\\site-packages\\joblib\\externals\\loky\\process_executor.py\", line 431, in _process_worker\n    r = call_item()\n  File \"C:\\Users\\Christos\\AppData\\Roaming\\Python\\Python39\\site-packages\\joblib\\externals\\loky\\process_executor.py\", line 285, in __call__\n    return self.fn(*self.args, **self.kwargs)\n  File \"C:\\Users\\Christos\\AppData\\Roaming\\Python\\Python39\\site-packages\\joblib\\_parallel_backends.py\", line 595, in __call__\n    return self.func(*args, **kwargs)\n  File \"C:\\Users\\Christos\\AppData\\Roaming\\Python\\Python39\\site-packages\\joblib\\parallel.py\", line 262, in __call__\n    return [func(*args, **kwargs)\n  File \"C:\\Users\\Christos\\AppData\\Roaming\\Python\\Python39\\site-packages\\joblib\\parallel.py\", line 262, in <listcomp>\n    return [func(*args, **kwargs)\n  File \"C:\\Users\\Christos\\anaconda3\\envs\\ml\\lib\\site-packages\\sktime\\transformations\\panel\\catch22.py\", line 335, in _transform_case_single\n    return features[feature](*args)\nZeroDivisionError: division by zero\n\"\"\"",
      "\nThe above exception was the direct cause of the following exception:\n",
      "\u001b[1;31mZeroDivisionError\u001b[0m                         Traceback (most recent call last)",
      "\u001b[1;32m~\\AppData\\Local\\Temp/ipykernel_23780/3530467106.py\u001b[0m in \u001b[0;36m<module>\u001b[1;34m\u001b[0m\n\u001b[0;32m      2\u001b[0m \u001b[1;33m\u001b[0m\u001b[0m\n\u001b[0;32m      3\u001b[0m \u001b[0mhc2\u001b[0m \u001b[1;33m=\u001b[0m \u001b[0mHIVECOTEV2\u001b[0m\u001b[1;33m(\u001b[0m\u001b[0mtime_limit_in_minutes\u001b[0m\u001b[1;33m=\u001b[0m\u001b[1;36m1\u001b[0m\u001b[1;33m)\u001b[0m\u001b[1;33m\u001b[0m\u001b[1;33m\u001b[0m\u001b[0m\n\u001b[1;32m----> 4\u001b[1;33m \u001b[0mhc2\u001b[0m\u001b[1;33m.\u001b[0m\u001b[0mfit\u001b[0m\u001b[1;33m(\u001b[0m\u001b[0mX_train\u001b[0m\u001b[1;33m,\u001b[0m \u001b[0mY_train\u001b[0m\u001b[1;33m)\u001b[0m\u001b[1;33m\u001b[0m\u001b[1;33m\u001b[0m\u001b[0m\n\u001b[0m\u001b[0;32m      5\u001b[0m \u001b[0my_pred\u001b[0m \u001b[1;33m=\u001b[0m \u001b[0mhc2\u001b[0m\u001b[1;33m.\u001b[0m\u001b[0mpredict\u001b[0m\u001b[1;33m(\u001b[0m\u001b[0mx_test\u001b[0m\u001b[1;33m)\u001b[0m\u001b[1;33m\u001b[0m\u001b[1;33m\u001b[0m\u001b[0m\n\u001b[0;32m      6\u001b[0m \u001b[0maccuracy_score\u001b[0m\u001b[1;33m(\u001b[0m\u001b[0my_test\u001b[0m\u001b[1;33m,\u001b[0m \u001b[0my_pred\u001b[0m\u001b[1;33m)\u001b[0m\u001b[1;33m\u001b[0m\u001b[1;33m\u001b[0m\u001b[0m\n",
      "\u001b[1;32m~\\anaconda3\\envs\\ml\\lib\\site-packages\\sktime\\classification\\base.py\u001b[0m in \u001b[0;36mfit\u001b[1;34m(self, X, y)\u001b[0m\n\u001b[0;32m    168\u001b[0m         \u001b[1;32mfor\u001b[0m \u001b[0mindex\u001b[0m\u001b[1;33m,\u001b[0m \u001b[0mclass_val\u001b[0m \u001b[1;32min\u001b[0m \u001b[0menumerate\u001b[0m\u001b[1;33m(\u001b[0m\u001b[0mself\u001b[0m\u001b[1;33m.\u001b[0m\u001b[0mclasses_\u001b[0m\u001b[1;33m)\u001b[0m\u001b[1;33m:\u001b[0m\u001b[1;33m\u001b[0m\u001b[1;33m\u001b[0m\u001b[0m\n\u001b[0;32m    169\u001b[0m             \u001b[0mself\u001b[0m\u001b[1;33m.\u001b[0m\u001b[0m_class_dictionary\u001b[0m\u001b[1;33m[\u001b[0m\u001b[0mclass_val\u001b[0m\u001b[1;33m]\u001b[0m \u001b[1;33m=\u001b[0m \u001b[0mindex\u001b[0m\u001b[1;33m\u001b[0m\u001b[1;33m\u001b[0m\u001b[0m\n\u001b[1;32m--> 170\u001b[1;33m         \u001b[0mself\u001b[0m\u001b[1;33m.\u001b[0m\u001b[0m_fit\u001b[0m\u001b[1;33m(\u001b[0m\u001b[0mX\u001b[0m\u001b[1;33m,\u001b[0m \u001b[0my\u001b[0m\u001b[1;33m)\u001b[0m\u001b[1;33m\u001b[0m\u001b[1;33m\u001b[0m\u001b[0m\n\u001b[0m\u001b[0;32m    171\u001b[0m         \u001b[0mself\u001b[0m\u001b[1;33m.\u001b[0m\u001b[0mfit_time_\u001b[0m \u001b[1;33m=\u001b[0m \u001b[0mint\u001b[0m\u001b[1;33m(\u001b[0m\u001b[0mround\u001b[0m\u001b[1;33m(\u001b[0m\u001b[0mtime\u001b[0m\u001b[1;33m.\u001b[0m\u001b[0mtime\u001b[0m\u001b[1;33m(\u001b[0m\u001b[1;33m)\u001b[0m \u001b[1;33m*\u001b[0m \u001b[1;36m1000\u001b[0m\u001b[1;33m)\u001b[0m\u001b[1;33m)\u001b[0m \u001b[1;33m-\u001b[0m \u001b[0mstart\u001b[0m\u001b[1;33m\u001b[0m\u001b[1;33m\u001b[0m\u001b[0m\n\u001b[0;32m    172\u001b[0m         \u001b[1;31m# this should happen last\u001b[0m\u001b[1;33m\u001b[0m\u001b[1;33m\u001b[0m\u001b[1;33m\u001b[0m\u001b[0m\n",
      "\u001b[1;32m~\\anaconda3\\envs\\ml\\lib\\site-packages\\sktime\\classification\\hybrid\\_hivecote_v2.py\u001b[0m in \u001b[0;36m_fit\u001b[1;34m(self, X, y)\u001b[0m\n\u001b[0;32m    235\u001b[0m             \u001b[0mn_jobs\u001b[0m\u001b[1;33m=\u001b[0m\u001b[0mself\u001b[0m\u001b[1;33m.\u001b[0m\u001b[0m_threads_to_use\u001b[0m\u001b[1;33m,\u001b[0m\u001b[1;33m\u001b[0m\u001b[1;33m\u001b[0m\u001b[0m\n\u001b[0;32m    236\u001b[0m         )\n\u001b[1;32m--> 237\u001b[1;33m         \u001b[0mself\u001b[0m\u001b[1;33m.\u001b[0m\u001b[0m_drcif\u001b[0m\u001b[1;33m.\u001b[0m\u001b[0mfit\u001b[0m\u001b[1;33m(\u001b[0m\u001b[0mX\u001b[0m\u001b[1;33m,\u001b[0m \u001b[0my\u001b[0m\u001b[1;33m)\u001b[0m\u001b[1;33m\u001b[0m\u001b[1;33m\u001b[0m\u001b[0m\n\u001b[0m\u001b[0;32m    238\u001b[0m \u001b[1;33m\u001b[0m\u001b[0m\n\u001b[0;32m    239\u001b[0m         \u001b[1;32mif\u001b[0m \u001b[0mself\u001b[0m\u001b[1;33m.\u001b[0m\u001b[0mverbose\u001b[0m \u001b[1;33m>\u001b[0m \u001b[1;36m0\u001b[0m\u001b[1;33m:\u001b[0m\u001b[1;33m\u001b[0m\u001b[1;33m\u001b[0m\u001b[0m\n",
      "\u001b[1;32m~\\anaconda3\\envs\\ml\\lib\\site-packages\\sktime\\classification\\base.py\u001b[0m in \u001b[0;36mfit\u001b[1;34m(self, X, y)\u001b[0m\n\u001b[0;32m    168\u001b[0m         \u001b[1;32mfor\u001b[0m \u001b[0mindex\u001b[0m\u001b[1;33m,\u001b[0m \u001b[0mclass_val\u001b[0m \u001b[1;32min\u001b[0m \u001b[0menumerate\u001b[0m\u001b[1;33m(\u001b[0m\u001b[0mself\u001b[0m\u001b[1;33m.\u001b[0m\u001b[0mclasses_\u001b[0m\u001b[1;33m)\u001b[0m\u001b[1;33m:\u001b[0m\u001b[1;33m\u001b[0m\u001b[1;33m\u001b[0m\u001b[0m\n\u001b[0;32m    169\u001b[0m             \u001b[0mself\u001b[0m\u001b[1;33m.\u001b[0m\u001b[0m_class_dictionary\u001b[0m\u001b[1;33m[\u001b[0m\u001b[0mclass_val\u001b[0m\u001b[1;33m]\u001b[0m \u001b[1;33m=\u001b[0m \u001b[0mindex\u001b[0m\u001b[1;33m\u001b[0m\u001b[1;33m\u001b[0m\u001b[0m\n\u001b[1;32m--> 170\u001b[1;33m         \u001b[0mself\u001b[0m\u001b[1;33m.\u001b[0m\u001b[0m_fit\u001b[0m\u001b[1;33m(\u001b[0m\u001b[0mX\u001b[0m\u001b[1;33m,\u001b[0m \u001b[0my\u001b[0m\u001b[1;33m)\u001b[0m\u001b[1;33m\u001b[0m\u001b[1;33m\u001b[0m\u001b[0m\n\u001b[0m\u001b[0;32m    171\u001b[0m         \u001b[0mself\u001b[0m\u001b[1;33m.\u001b[0m\u001b[0mfit_time_\u001b[0m \u001b[1;33m=\u001b[0m \u001b[0mint\u001b[0m\u001b[1;33m(\u001b[0m\u001b[0mround\u001b[0m\u001b[1;33m(\u001b[0m\u001b[0mtime\u001b[0m\u001b[1;33m.\u001b[0m\u001b[0mtime\u001b[0m\u001b[1;33m(\u001b[0m\u001b[1;33m)\u001b[0m \u001b[1;33m*\u001b[0m \u001b[1;36m1000\u001b[0m\u001b[1;33m)\u001b[0m\u001b[1;33m)\u001b[0m \u001b[1;33m-\u001b[0m \u001b[0mstart\u001b[0m\u001b[1;33m\u001b[0m\u001b[1;33m\u001b[0m\u001b[0m\n\u001b[0;32m    172\u001b[0m         \u001b[1;31m# this should happen last\u001b[0m\u001b[1;33m\u001b[0m\u001b[1;33m\u001b[0m\u001b[1;33m\u001b[0m\u001b[0m\n",
      "\u001b[1;32m~\\anaconda3\\envs\\ml\\lib\\site-packages\\sktime\\classification\\interval_based\\_drcif.py\u001b[0m in \u001b[0;36m_fit\u001b[1;34m(self, X, y)\u001b[0m\n\u001b[0;32m    301\u001b[0m                 \u001b[1;32mand\u001b[0m \u001b[0mself\u001b[0m\u001b[1;33m.\u001b[0m\u001b[0m_n_estimators\u001b[0m \u001b[1;33m<\u001b[0m \u001b[0mself\u001b[0m\u001b[1;33m.\u001b[0m\u001b[0mcontract_max_n_estimators\u001b[0m\u001b[1;33m\u001b[0m\u001b[1;33m\u001b[0m\u001b[0m\n\u001b[0;32m    302\u001b[0m             ):\n\u001b[1;32m--> 303\u001b[1;33m                 fit = Parallel(n_jobs=self._threads_to_use)(\n\u001b[0m\u001b[0;32m    304\u001b[0m                     delayed(self._fit_estimator)(\n\u001b[0;32m    305\u001b[0m                         \u001b[0mX\u001b[0m\u001b[1;33m,\u001b[0m\u001b[1;33m\u001b[0m\u001b[1;33m\u001b[0m\u001b[0m\n",
      "\u001b[1;32m~\\AppData\\Roaming\\Python\\Python39\\site-packages\\joblib\\parallel.py\u001b[0m in \u001b[0;36m__call__\u001b[1;34m(self, iterable)\u001b[0m\n\u001b[0;32m   1039\u001b[0m             \u001b[1;31m# remaining jobs.\u001b[0m\u001b[1;33m\u001b[0m\u001b[1;33m\u001b[0m\u001b[1;33m\u001b[0m\u001b[0m\n\u001b[0;32m   1040\u001b[0m             \u001b[0mself\u001b[0m\u001b[1;33m.\u001b[0m\u001b[0m_iterating\u001b[0m \u001b[1;33m=\u001b[0m \u001b[1;32mFalse\u001b[0m\u001b[1;33m\u001b[0m\u001b[1;33m\u001b[0m\u001b[0m\n\u001b[1;32m-> 1041\u001b[1;33m             \u001b[1;32mif\u001b[0m \u001b[0mself\u001b[0m\u001b[1;33m.\u001b[0m\u001b[0mdispatch_one_batch\u001b[0m\u001b[1;33m(\u001b[0m\u001b[0miterator\u001b[0m\u001b[1;33m)\u001b[0m\u001b[1;33m:\u001b[0m\u001b[1;33m\u001b[0m\u001b[1;33m\u001b[0m\u001b[0m\n\u001b[0m\u001b[0;32m   1042\u001b[0m                 \u001b[0mself\u001b[0m\u001b[1;33m.\u001b[0m\u001b[0m_iterating\u001b[0m \u001b[1;33m=\u001b[0m \u001b[0mself\u001b[0m\u001b[1;33m.\u001b[0m\u001b[0m_original_iterator\u001b[0m \u001b[1;32mis\u001b[0m \u001b[1;32mnot\u001b[0m \u001b[1;32mNone\u001b[0m\u001b[1;33m\u001b[0m\u001b[1;33m\u001b[0m\u001b[0m\n\u001b[0;32m   1043\u001b[0m \u001b[1;33m\u001b[0m\u001b[0m\n",
      "\u001b[1;32m~\\AppData\\Roaming\\Python\\Python39\\site-packages\\joblib\\parallel.py\u001b[0m in \u001b[0;36mdispatch_one_batch\u001b[1;34m(self, iterator)\u001b[0m\n\u001b[0;32m    857\u001b[0m                 \u001b[1;32mreturn\u001b[0m \u001b[1;32mFalse\u001b[0m\u001b[1;33m\u001b[0m\u001b[1;33m\u001b[0m\u001b[0m\n\u001b[0;32m    858\u001b[0m             \u001b[1;32melse\u001b[0m\u001b[1;33m:\u001b[0m\u001b[1;33m\u001b[0m\u001b[1;33m\u001b[0m\u001b[0m\n\u001b[1;32m--> 859\u001b[1;33m                 \u001b[0mself\u001b[0m\u001b[1;33m.\u001b[0m\u001b[0m_dispatch\u001b[0m\u001b[1;33m(\u001b[0m\u001b[0mtasks\u001b[0m\u001b[1;33m)\u001b[0m\u001b[1;33m\u001b[0m\u001b[1;33m\u001b[0m\u001b[0m\n\u001b[0m\u001b[0;32m    860\u001b[0m                 \u001b[1;32mreturn\u001b[0m \u001b[1;32mTrue\u001b[0m\u001b[1;33m\u001b[0m\u001b[1;33m\u001b[0m\u001b[0m\n\u001b[0;32m    861\u001b[0m \u001b[1;33m\u001b[0m\u001b[0m\n",
      "\u001b[1;32m~\\AppData\\Roaming\\Python\\Python39\\site-packages\\joblib\\parallel.py\u001b[0m in \u001b[0;36m_dispatch\u001b[1;34m(self, batch)\u001b[0m\n\u001b[0;32m    775\u001b[0m         \u001b[1;32mwith\u001b[0m \u001b[0mself\u001b[0m\u001b[1;33m.\u001b[0m\u001b[0m_lock\u001b[0m\u001b[1;33m:\u001b[0m\u001b[1;33m\u001b[0m\u001b[1;33m\u001b[0m\u001b[0m\n\u001b[0;32m    776\u001b[0m             \u001b[0mjob_idx\u001b[0m \u001b[1;33m=\u001b[0m \u001b[0mlen\u001b[0m\u001b[1;33m(\u001b[0m\u001b[0mself\u001b[0m\u001b[1;33m.\u001b[0m\u001b[0m_jobs\u001b[0m\u001b[1;33m)\u001b[0m\u001b[1;33m\u001b[0m\u001b[1;33m\u001b[0m\u001b[0m\n\u001b[1;32m--> 777\u001b[1;33m             \u001b[0mjob\u001b[0m \u001b[1;33m=\u001b[0m \u001b[0mself\u001b[0m\u001b[1;33m.\u001b[0m\u001b[0m_backend\u001b[0m\u001b[1;33m.\u001b[0m\u001b[0mapply_async\u001b[0m\u001b[1;33m(\u001b[0m\u001b[0mbatch\u001b[0m\u001b[1;33m,\u001b[0m \u001b[0mcallback\u001b[0m\u001b[1;33m=\u001b[0m\u001b[0mcb\u001b[0m\u001b[1;33m)\u001b[0m\u001b[1;33m\u001b[0m\u001b[1;33m\u001b[0m\u001b[0m\n\u001b[0m\u001b[0;32m    778\u001b[0m             \u001b[1;31m# A job can complete so quickly than its callback is\u001b[0m\u001b[1;33m\u001b[0m\u001b[1;33m\u001b[0m\u001b[1;33m\u001b[0m\u001b[0m\n\u001b[0;32m    779\u001b[0m             \u001b[1;31m# called before we get here, causing self._jobs to\u001b[0m\u001b[1;33m\u001b[0m\u001b[1;33m\u001b[0m\u001b[1;33m\u001b[0m\u001b[0m\n",
      "\u001b[1;32m~\\AppData\\Roaming\\Python\\Python39\\site-packages\\joblib\\_parallel_backends.py\u001b[0m in \u001b[0;36mapply_async\u001b[1;34m(self, func, callback)\u001b[0m\n\u001b[0;32m    206\u001b[0m     \u001b[1;32mdef\u001b[0m \u001b[0mapply_async\u001b[0m\u001b[1;33m(\u001b[0m\u001b[0mself\u001b[0m\u001b[1;33m,\u001b[0m \u001b[0mfunc\u001b[0m\u001b[1;33m,\u001b[0m \u001b[0mcallback\u001b[0m\u001b[1;33m=\u001b[0m\u001b[1;32mNone\u001b[0m\u001b[1;33m)\u001b[0m\u001b[1;33m:\u001b[0m\u001b[1;33m\u001b[0m\u001b[1;33m\u001b[0m\u001b[0m\n\u001b[0;32m    207\u001b[0m         \u001b[1;34m\"\"\"Schedule a func to be run\"\"\"\u001b[0m\u001b[1;33m\u001b[0m\u001b[1;33m\u001b[0m\u001b[0m\n\u001b[1;32m--> 208\u001b[1;33m         \u001b[0mresult\u001b[0m \u001b[1;33m=\u001b[0m \u001b[0mImmediateResult\u001b[0m\u001b[1;33m(\u001b[0m\u001b[0mfunc\u001b[0m\u001b[1;33m)\u001b[0m\u001b[1;33m\u001b[0m\u001b[1;33m\u001b[0m\u001b[0m\n\u001b[0m\u001b[0;32m    209\u001b[0m         \u001b[1;32mif\u001b[0m \u001b[0mcallback\u001b[0m\u001b[1;33m:\u001b[0m\u001b[1;33m\u001b[0m\u001b[1;33m\u001b[0m\u001b[0m\n\u001b[0;32m    210\u001b[0m             \u001b[0mcallback\u001b[0m\u001b[1;33m(\u001b[0m\u001b[0mresult\u001b[0m\u001b[1;33m)\u001b[0m\u001b[1;33m\u001b[0m\u001b[1;33m\u001b[0m\u001b[0m\n",
      "\u001b[1;32m~\\AppData\\Roaming\\Python\\Python39\\site-packages\\joblib\\_parallel_backends.py\u001b[0m in \u001b[0;36m__init__\u001b[1;34m(self, batch)\u001b[0m\n\u001b[0;32m    570\u001b[0m         \u001b[1;31m# Don't delay the application, to avoid keeping the input\u001b[0m\u001b[1;33m\u001b[0m\u001b[1;33m\u001b[0m\u001b[1;33m\u001b[0m\u001b[0m\n\u001b[0;32m    571\u001b[0m         \u001b[1;31m# arguments in memory\u001b[0m\u001b[1;33m\u001b[0m\u001b[1;33m\u001b[0m\u001b[1;33m\u001b[0m\u001b[0m\n\u001b[1;32m--> 572\u001b[1;33m         \u001b[0mself\u001b[0m\u001b[1;33m.\u001b[0m\u001b[0mresults\u001b[0m \u001b[1;33m=\u001b[0m \u001b[0mbatch\u001b[0m\u001b[1;33m(\u001b[0m\u001b[1;33m)\u001b[0m\u001b[1;33m\u001b[0m\u001b[1;33m\u001b[0m\u001b[0m\n\u001b[0m\u001b[0;32m    573\u001b[0m \u001b[1;33m\u001b[0m\u001b[0m\n\u001b[0;32m    574\u001b[0m     \u001b[1;32mdef\u001b[0m \u001b[0mget\u001b[0m\u001b[1;33m(\u001b[0m\u001b[0mself\u001b[0m\u001b[1;33m)\u001b[0m\u001b[1;33m:\u001b[0m\u001b[1;33m\u001b[0m\u001b[1;33m\u001b[0m\u001b[0m\n",
      "\u001b[1;32m~\\AppData\\Roaming\\Python\\Python39\\site-packages\\joblib\\parallel.py\u001b[0m in \u001b[0;36m__call__\u001b[1;34m(self)\u001b[0m\n\u001b[0;32m    260\u001b[0m         \u001b[1;31m# change the default number of processes to -1\u001b[0m\u001b[1;33m\u001b[0m\u001b[1;33m\u001b[0m\u001b[1;33m\u001b[0m\u001b[0m\n\u001b[0;32m    261\u001b[0m         \u001b[1;32mwith\u001b[0m \u001b[0mparallel_backend\u001b[0m\u001b[1;33m(\u001b[0m\u001b[0mself\u001b[0m\u001b[1;33m.\u001b[0m\u001b[0m_backend\u001b[0m\u001b[1;33m,\u001b[0m \u001b[0mn_jobs\u001b[0m\u001b[1;33m=\u001b[0m\u001b[0mself\u001b[0m\u001b[1;33m.\u001b[0m\u001b[0m_n_jobs\u001b[0m\u001b[1;33m)\u001b[0m\u001b[1;33m:\u001b[0m\u001b[1;33m\u001b[0m\u001b[1;33m\u001b[0m\u001b[0m\n\u001b[1;32m--> 262\u001b[1;33m             return [func(*args, **kwargs)\n\u001b[0m\u001b[0;32m    263\u001b[0m                     for func, args, kwargs in self.items]\n\u001b[0;32m    264\u001b[0m \u001b[1;33m\u001b[0m\u001b[0m\n",
      "\u001b[1;32m~\\AppData\\Roaming\\Python\\Python39\\site-packages\\joblib\\parallel.py\u001b[0m in \u001b[0;36m<listcomp>\u001b[1;34m(.0)\u001b[0m\n\u001b[0;32m    260\u001b[0m         \u001b[1;31m# change the default number of processes to -1\u001b[0m\u001b[1;33m\u001b[0m\u001b[1;33m\u001b[0m\u001b[1;33m\u001b[0m\u001b[0m\n\u001b[0;32m    261\u001b[0m         \u001b[1;32mwith\u001b[0m \u001b[0mparallel_backend\u001b[0m\u001b[1;33m(\u001b[0m\u001b[0mself\u001b[0m\u001b[1;33m.\u001b[0m\u001b[0m_backend\u001b[0m\u001b[1;33m,\u001b[0m \u001b[0mn_jobs\u001b[0m\u001b[1;33m=\u001b[0m\u001b[0mself\u001b[0m\u001b[1;33m.\u001b[0m\u001b[0m_n_jobs\u001b[0m\u001b[1;33m)\u001b[0m\u001b[1;33m:\u001b[0m\u001b[1;33m\u001b[0m\u001b[1;33m\u001b[0m\u001b[0m\n\u001b[1;32m--> 262\u001b[1;33m             return [func(*args, **kwargs)\n\u001b[0m\u001b[0;32m    263\u001b[0m                     for func, args, kwargs in self.items]\n\u001b[0;32m    264\u001b[0m \u001b[1;33m\u001b[0m\u001b[0m\n",
      "\u001b[1;32m~\\anaconda3\\envs\\ml\\lib\\site-packages\\sktime\\classification\\interval_based\\_drcif.py\u001b[0m in \u001b[0;36m_fit_estimator\u001b[1;34m(self, X, X_p, X_d, y, idx)\u001b[0m\n\u001b[0;32m    502\u001b[0m \u001b[1;33m\u001b[0m\u001b[0m\n\u001b[0;32m    503\u001b[0m                 \u001b[1;32mfor\u001b[0m \u001b[0ma\u001b[0m \u001b[1;32min\u001b[0m \u001b[0mrange\u001b[0m\u001b[1;33m(\u001b[0m\u001b[1;36m0\u001b[0m\u001b[1;33m,\u001b[0m \u001b[0mself\u001b[0m\u001b[1;33m.\u001b[0m\u001b[0m_att_subsample_size\u001b[0m\u001b[1;33m)\u001b[0m\u001b[1;33m:\u001b[0m\u001b[1;33m\u001b[0m\u001b[1;33m\u001b[0m\u001b[0m\n\u001b[1;32m--> 504\u001b[1;33m                     transformed_x[p] = _drcif_feature(\n\u001b[0m\u001b[0;32m    505\u001b[0m                         \u001b[0mT\u001b[0m\u001b[1;33m[\u001b[0m\u001b[0mr\u001b[0m\u001b[1;33m]\u001b[0m\u001b[1;33m,\u001b[0m \u001b[0mintervals\u001b[0m\u001b[1;33m[\u001b[0m\u001b[0mj\u001b[0m\u001b[1;33m]\u001b[0m\u001b[1;33m,\u001b[0m \u001b[0mdims\u001b[0m\u001b[1;33m[\u001b[0m\u001b[0mj\u001b[0m\u001b[1;33m]\u001b[0m\u001b[1;33m,\u001b[0m \u001b[0matts\u001b[0m\u001b[1;33m[\u001b[0m\u001b[0ma\u001b[0m\u001b[1;33m]\u001b[0m\u001b[1;33m,\u001b[0m \u001b[0mc22\u001b[0m\u001b[1;33m,\u001b[0m \u001b[0mcase_id\u001b[0m\u001b[1;33m=\u001b[0m\u001b[0mj\u001b[0m\u001b[1;33m\u001b[0m\u001b[1;33m\u001b[0m\u001b[0m\n\u001b[0;32m    506\u001b[0m                     )\n",
      "\u001b[1;32m~\\anaconda3\\envs\\ml\\lib\\site-packages\\sktime\\_contrib\\vector_classifiers\\_continuous_interval_tree.py\u001b[0m in \u001b[0;36m_drcif_feature\u001b[1;34m(X, interval, dim, att, c22, case_id)\u001b[0m\n\u001b[0;32m    651\u001b[0m         \u001b[1;32mreturn\u001b[0m \u001b[0m_summary_stat\u001b[0m\u001b[1;33m(\u001b[0m\u001b[0mX\u001b[0m\u001b[1;33m[\u001b[0m\u001b[1;33m:\u001b[0m\u001b[1;33m,\u001b[0m \u001b[0mdim\u001b[0m\u001b[1;33m,\u001b[0m \u001b[0minterval\u001b[0m\u001b[1;33m[\u001b[0m\u001b[1;36m0\u001b[0m\u001b[1;33m]\u001b[0m \u001b[1;33m:\u001b[0m \u001b[0minterval\u001b[0m\u001b[1;33m[\u001b[0m\u001b[1;36m1\u001b[0m\u001b[1;33m]\u001b[0m\u001b[1;33m]\u001b[0m\u001b[1;33m,\u001b[0m \u001b[0matt\u001b[0m\u001b[1;33m)\u001b[0m\u001b[1;33m\u001b[0m\u001b[1;33m\u001b[0m\u001b[0m\n\u001b[0;32m    652\u001b[0m     \u001b[1;32melse\u001b[0m\u001b[1;33m:\u001b[0m\u001b[1;33m\u001b[0m\u001b[1;33m\u001b[0m\u001b[0m\n\u001b[1;32m--> 653\u001b[1;33m         return c22.transform_single_feature(\n\u001b[0m\u001b[0;32m    654\u001b[0m             \u001b[0mX\u001b[0m\u001b[1;33m[\u001b[0m\u001b[1;33m:\u001b[0m\u001b[1;33m,\u001b[0m \u001b[0mdim\u001b[0m\u001b[1;33m,\u001b[0m \u001b[0minterval\u001b[0m\u001b[1;33m[\u001b[0m\u001b[1;36m0\u001b[0m\u001b[1;33m]\u001b[0m \u001b[1;33m:\u001b[0m \u001b[0minterval\u001b[0m\u001b[1;33m[\u001b[0m\u001b[1;36m1\u001b[0m\u001b[1;33m]\u001b[0m\u001b[1;33m]\u001b[0m\u001b[1;33m,\u001b[0m \u001b[0matt\u001b[0m\u001b[1;33m,\u001b[0m \u001b[0mcase_id\u001b[0m\u001b[1;33m=\u001b[0m\u001b[0mcase_id\u001b[0m\u001b[1;33m\u001b[0m\u001b[1;33m\u001b[0m\u001b[0m\n\u001b[0;32m    655\u001b[0m         )\n",
      "\u001b[1;32m~\\anaconda3\\envs\\ml\\lib\\site-packages\\sktime\\transformations\\panel\\catch22.py\u001b[0m in \u001b[0;36mtransform_single_feature\u001b[1;34m(self, X, feature, case_id)\u001b[0m\n\u001b[0;32m    226\u001b[0m                     )\n\u001b[0;32m    227\u001b[0m \u001b[1;33m\u001b[0m\u001b[0m\n\u001b[1;32m--> 228\u001b[1;33m         c22_list = Parallel(n_jobs=self.n_jobs)(\n\u001b[0m\u001b[0;32m    229\u001b[0m             delayed(self._transform_case_single)(\n\u001b[0;32m    230\u001b[0m                 \u001b[0mX\u001b[0m\u001b[1;33m[\u001b[0m\u001b[0mi\u001b[0m\u001b[1;33m]\u001b[0m\u001b[1;33m,\u001b[0m\u001b[1;33m\u001b[0m\u001b[1;33m\u001b[0m\u001b[0m\n",
      "\u001b[1;32m~\\AppData\\Roaming\\Python\\Python39\\site-packages\\joblib\\parallel.py\u001b[0m in \u001b[0;36m__call__\u001b[1;34m(self, iterable)\u001b[0m\n\u001b[0;32m   1052\u001b[0m \u001b[1;33m\u001b[0m\u001b[0m\n\u001b[0;32m   1053\u001b[0m             \u001b[1;32mwith\u001b[0m \u001b[0mself\u001b[0m\u001b[1;33m.\u001b[0m\u001b[0m_backend\u001b[0m\u001b[1;33m.\u001b[0m\u001b[0mretrieval_context\u001b[0m\u001b[1;33m(\u001b[0m\u001b[1;33m)\u001b[0m\u001b[1;33m:\u001b[0m\u001b[1;33m\u001b[0m\u001b[1;33m\u001b[0m\u001b[0m\n\u001b[1;32m-> 1054\u001b[1;33m                 \u001b[0mself\u001b[0m\u001b[1;33m.\u001b[0m\u001b[0mretrieve\u001b[0m\u001b[1;33m(\u001b[0m\u001b[1;33m)\u001b[0m\u001b[1;33m\u001b[0m\u001b[1;33m\u001b[0m\u001b[0m\n\u001b[0m\u001b[0;32m   1055\u001b[0m             \u001b[1;31m# Make sure that we get a last message telling us we are done\u001b[0m\u001b[1;33m\u001b[0m\u001b[1;33m\u001b[0m\u001b[1;33m\u001b[0m\u001b[0m\n\u001b[0;32m   1056\u001b[0m             \u001b[0melapsed_time\u001b[0m \u001b[1;33m=\u001b[0m \u001b[0mtime\u001b[0m\u001b[1;33m.\u001b[0m\u001b[0mtime\u001b[0m\u001b[1;33m(\u001b[0m\u001b[1;33m)\u001b[0m \u001b[1;33m-\u001b[0m \u001b[0mself\u001b[0m\u001b[1;33m.\u001b[0m\u001b[0m_start_time\u001b[0m\u001b[1;33m\u001b[0m\u001b[1;33m\u001b[0m\u001b[0m\n",
      "\u001b[1;32m~\\AppData\\Roaming\\Python\\Python39\\site-packages\\joblib\\parallel.py\u001b[0m in \u001b[0;36mretrieve\u001b[1;34m(self)\u001b[0m\n\u001b[0;32m    931\u001b[0m             \u001b[1;32mtry\u001b[0m\u001b[1;33m:\u001b[0m\u001b[1;33m\u001b[0m\u001b[1;33m\u001b[0m\u001b[0m\n\u001b[0;32m    932\u001b[0m                 \u001b[1;32mif\u001b[0m \u001b[0mgetattr\u001b[0m\u001b[1;33m(\u001b[0m\u001b[0mself\u001b[0m\u001b[1;33m.\u001b[0m\u001b[0m_backend\u001b[0m\u001b[1;33m,\u001b[0m \u001b[1;34m'supports_timeout'\u001b[0m\u001b[1;33m,\u001b[0m \u001b[1;32mFalse\u001b[0m\u001b[1;33m)\u001b[0m\u001b[1;33m:\u001b[0m\u001b[1;33m\u001b[0m\u001b[1;33m\u001b[0m\u001b[0m\n\u001b[1;32m--> 933\u001b[1;33m                     \u001b[0mself\u001b[0m\u001b[1;33m.\u001b[0m\u001b[0m_output\u001b[0m\u001b[1;33m.\u001b[0m\u001b[0mextend\u001b[0m\u001b[1;33m(\u001b[0m\u001b[0mjob\u001b[0m\u001b[1;33m.\u001b[0m\u001b[0mget\u001b[0m\u001b[1;33m(\u001b[0m\u001b[0mtimeout\u001b[0m\u001b[1;33m=\u001b[0m\u001b[0mself\u001b[0m\u001b[1;33m.\u001b[0m\u001b[0mtimeout\u001b[0m\u001b[1;33m)\u001b[0m\u001b[1;33m)\u001b[0m\u001b[1;33m\u001b[0m\u001b[1;33m\u001b[0m\u001b[0m\n\u001b[0m\u001b[0;32m    934\u001b[0m                 \u001b[1;32melse\u001b[0m\u001b[1;33m:\u001b[0m\u001b[1;33m\u001b[0m\u001b[1;33m\u001b[0m\u001b[0m\n\u001b[0;32m    935\u001b[0m                     \u001b[0mself\u001b[0m\u001b[1;33m.\u001b[0m\u001b[0m_output\u001b[0m\u001b[1;33m.\u001b[0m\u001b[0mextend\u001b[0m\u001b[1;33m(\u001b[0m\u001b[0mjob\u001b[0m\u001b[1;33m.\u001b[0m\u001b[0mget\u001b[0m\u001b[1;33m(\u001b[0m\u001b[1;33m)\u001b[0m\u001b[1;33m)\u001b[0m\u001b[1;33m\u001b[0m\u001b[1;33m\u001b[0m\u001b[0m\n",
      "\u001b[1;32m~\\AppData\\Roaming\\Python\\Python39\\site-packages\\joblib\\_parallel_backends.py\u001b[0m in \u001b[0;36mwrap_future_result\u001b[1;34m(future, timeout)\u001b[0m\n\u001b[0;32m    540\u001b[0m         AsyncResults.get from multiprocessing.\"\"\"\n\u001b[0;32m    541\u001b[0m         \u001b[1;32mtry\u001b[0m\u001b[1;33m:\u001b[0m\u001b[1;33m\u001b[0m\u001b[1;33m\u001b[0m\u001b[0m\n\u001b[1;32m--> 542\u001b[1;33m             \u001b[1;32mreturn\u001b[0m \u001b[0mfuture\u001b[0m\u001b[1;33m.\u001b[0m\u001b[0mresult\u001b[0m\u001b[1;33m(\u001b[0m\u001b[0mtimeout\u001b[0m\u001b[1;33m=\u001b[0m\u001b[0mtimeout\u001b[0m\u001b[1;33m)\u001b[0m\u001b[1;33m\u001b[0m\u001b[1;33m\u001b[0m\u001b[0m\n\u001b[0m\u001b[0;32m    543\u001b[0m         \u001b[1;32mexcept\u001b[0m \u001b[0mCfTimeoutError\u001b[0m \u001b[1;32mas\u001b[0m \u001b[0me\u001b[0m\u001b[1;33m:\u001b[0m\u001b[1;33m\u001b[0m\u001b[1;33m\u001b[0m\u001b[0m\n\u001b[0;32m    544\u001b[0m             \u001b[1;32mraise\u001b[0m \u001b[0mTimeoutError\u001b[0m \u001b[1;32mfrom\u001b[0m \u001b[0me\u001b[0m\u001b[1;33m\u001b[0m\u001b[1;33m\u001b[0m\u001b[0m\n",
      "\u001b[1;32m~\\anaconda3\\envs\\ml\\lib\\concurrent\\futures\\_base.py\u001b[0m in \u001b[0;36mresult\u001b[1;34m(self, timeout)\u001b[0m\n\u001b[0;32m    438\u001b[0m                 \u001b[1;32mraise\u001b[0m \u001b[0mCancelledError\u001b[0m\u001b[1;33m(\u001b[0m\u001b[1;33m)\u001b[0m\u001b[1;33m\u001b[0m\u001b[1;33m\u001b[0m\u001b[0m\n\u001b[0;32m    439\u001b[0m             \u001b[1;32melif\u001b[0m \u001b[0mself\u001b[0m\u001b[1;33m.\u001b[0m\u001b[0m_state\u001b[0m \u001b[1;33m==\u001b[0m \u001b[0mFINISHED\u001b[0m\u001b[1;33m:\u001b[0m\u001b[1;33m\u001b[0m\u001b[1;33m\u001b[0m\u001b[0m\n\u001b[1;32m--> 440\u001b[1;33m                 \u001b[1;32mreturn\u001b[0m \u001b[0mself\u001b[0m\u001b[1;33m.\u001b[0m\u001b[0m__get_result\u001b[0m\u001b[1;33m(\u001b[0m\u001b[1;33m)\u001b[0m\u001b[1;33m\u001b[0m\u001b[1;33m\u001b[0m\u001b[0m\n\u001b[0m\u001b[0;32m    441\u001b[0m             \u001b[1;32melse\u001b[0m\u001b[1;33m:\u001b[0m\u001b[1;33m\u001b[0m\u001b[1;33m\u001b[0m\u001b[0m\n\u001b[0;32m    442\u001b[0m                 \u001b[1;32mraise\u001b[0m \u001b[0mTimeoutError\u001b[0m\u001b[1;33m(\u001b[0m\u001b[1;33m)\u001b[0m\u001b[1;33m\u001b[0m\u001b[1;33m\u001b[0m\u001b[0m\n",
      "\u001b[1;32m~\\anaconda3\\envs\\ml\\lib\\concurrent\\futures\\_base.py\u001b[0m in \u001b[0;36m__get_result\u001b[1;34m(self)\u001b[0m\n\u001b[0;32m    387\u001b[0m     \u001b[1;32mdef\u001b[0m \u001b[0m__get_result\u001b[0m\u001b[1;33m(\u001b[0m\u001b[0mself\u001b[0m\u001b[1;33m)\u001b[0m\u001b[1;33m:\u001b[0m\u001b[1;33m\u001b[0m\u001b[1;33m\u001b[0m\u001b[0m\n\u001b[0;32m    388\u001b[0m         \u001b[1;32mif\u001b[0m \u001b[0mself\u001b[0m\u001b[1;33m.\u001b[0m\u001b[0m_exception\u001b[0m\u001b[1;33m:\u001b[0m\u001b[1;33m\u001b[0m\u001b[1;33m\u001b[0m\u001b[0m\n\u001b[1;32m--> 389\u001b[1;33m             \u001b[1;32mraise\u001b[0m \u001b[0mself\u001b[0m\u001b[1;33m.\u001b[0m\u001b[0m_exception\u001b[0m\u001b[1;33m\u001b[0m\u001b[1;33m\u001b[0m\u001b[0m\n\u001b[0m\u001b[0;32m    390\u001b[0m         \u001b[1;32melse\u001b[0m\u001b[1;33m:\u001b[0m\u001b[1;33m\u001b[0m\u001b[1;33m\u001b[0m\u001b[0m\n\u001b[0;32m    391\u001b[0m             \u001b[1;32mreturn\u001b[0m \u001b[0mself\u001b[0m\u001b[1;33m.\u001b[0m\u001b[0m_result\u001b[0m\u001b[1;33m\u001b[0m\u001b[1;33m\u001b[0m\u001b[0m\n",
      "\u001b[1;31mZeroDivisionError\u001b[0m: division by zero"
     ]
    }
   ],
   "source": [
    "from sktime.classification.hybrid import HIVECOTEV2\n",
    "\n",
    "hc2 = HIVECOTEV2(time_limit_in_minutes=1)\n",
    "hc2.fit(X_train, Y_train)\n",
    "y_pred = hc2.predict(x_test)\n",
    "accuracy_score(y_test, y_pred)"
   ]
  },
  {
   "cell_type": "code",
   "execution_count": 6,
   "id": "e5f93a47",
   "metadata": {},
   "outputs": [],
   "source": [
    "# In this section I'll create a row and use the mean and label accordingly (0/1)\n",
    "# Then I'll use DesicionTree to classify"
   ]
  },
  {
   "cell_type": "raw",
   "id": "9c5042fd",
   "metadata": {},
   "source": [
    "viirs_mean = viirs_df['avg_rad'].mean()"
   ]
  },
  {
   "cell_type": "raw",
   "id": "a300db75",
   "metadata": {},
   "source": [
    "uk = pd.DataFrame({'NDVI':filled_sentinel_uk['NDVI'].mean(),\n",
    "                      'NDBI':filled_sentinel_uk['NDBI'].mean(),\n",
    "                      'UI':filled_sentinel_uk['UI'].mean(),'IBI':filled_sentinel_uk['IBI'].mean(),'avg_rad_mean':viirs_mean+0.148573945,'label':1},index=[0])"
   ]
  },
  {
   "cell_type": "raw",
   "id": "6e534362",
   "metadata": {
    "scrolled": true
   },
   "source": [
    "uk"
   ]
  },
  {
   "cell_type": "raw",
   "id": "293cfd12",
   "metadata": {},
   "source": [
    "not_abad_col = pd.DataFrame({'NDVI':filled_s2_not_abad['NDVI'].mean(),\n",
    "                      'NDBI':filled_s2_not_abad['NDBI'].mean(),\n",
    "                      'UI':filled_s2_not_abad['UI'].mean(),'IBI':filled_s2_not_abad['IBI'].mean(),'avg_rad_mean':viirsdf_not_abandoned_class['avg_rad'].mean(),'label':0},index=[0])"
   ]
  },
  {
   "cell_type": "raw",
   "id": "35349e0c",
   "metadata": {},
   "source": [
    "philly_bldgs_1= pd.DataFrame({'NDVI':filled_sentinel_philly_bldgs['NDVI'].mean(),\n",
    "                      'NDBI':filled_sentinel_philly_bldgs['NDBI'].mean(),\n",
    "                      'UI':filled_sentinel_philly_bldgs['UI'].mean(),'IBI':filled_sentinel_philly_bldgs['IBI'].mean(),'avg_rad_mean':viirs_mean,'label':1},index=[0])\n",
    "\n",
    "#x_test=philly_bldgs_1.drop('label',axis=1)\n",
    "#pred=clf.predict(hh)\n",
    "#acc = accuracy_score(nab_df['label'], pred)\n",
    "#acc"
   ]
  },
  {
   "cell_type": "raw",
   "id": "eac152b3",
   "metadata": {},
   "source": [
    "test_df= pd.DataFrame({'NDVI':s2_oik['NDVI'].mean(),\n",
    "                      'NDBI':s2_oik['NDBI'].mean(),\n",
    "                      'UI':s2_oik['UI'].mean(),'IBI':s2_oik['IBI'].mean(),'avg_rad_mean': viirs_oik['avg_rad'].mean(),'label':0},index=[0])\n"
   ]
  },
  {
   "cell_type": "markdown",
   "id": "d6e10332",
   "metadata": {},
   "source": [
    "a = philly_bldgs_1.append(uk,ignore_index=True)\n",
    "combo = a.append(not_abad_col,ignore_index=True)\n",
    "comboo = combo.append(test_df,ignore_index=True)"
   ]
  },
  {
   "cell_type": "raw",
   "id": "6b86cd70",
   "metadata": {},
   "source": [
    "comboo"
   ]
  },
  {
   "cell_type": "raw",
   "id": "bdebb725",
   "metadata": {},
   "source": [
    "X_train=comboo[['NDVI','NDBI','UI','IBI','avg_rad_mean']]\n",
    "y=comboo['label']"
   ]
  },
  {
   "cell_type": "raw",
   "id": "e9bdaf0c",
   "metadata": {
    "scrolled": false
   },
   "source": [
    "X_train"
   ]
  },
  {
   "cell_type": "code",
   "execution_count": null,
   "id": "b99e39ae",
   "metadata": {},
   "outputs": [],
   "source": []
  },
  {
   "cell_type": "code",
   "execution_count": 40,
   "id": "d86a7af1",
   "metadata": {},
   "outputs": [],
   "source": [
    "clf = tree.DecisionTreeClassifier()\n",
    "clf = clf.fit(X_train, y)"
   ]
  },
  {
   "cell_type": "code",
   "execution_count": 25,
   "id": "05ff9937",
   "metadata": {
    "scrolled": true
   },
   "outputs": [
    {
     "data": {
      "text/plain": [
       "[Text(167.4, 163.07999999999998, 'X[4] <= 45.046\\ngini = 0.5\\nsamples = 4\\nvalue = [2, 2]'),\n",
       " Text(83.7, 54.360000000000014, 'gini = 0.0\\nsamples = 2\\nvalue = [0, 2]'),\n",
       " Text(251.10000000000002, 54.360000000000014, 'gini = 0.0\\nsamples = 2\\nvalue = [2, 0]')]"
      ]
     },
     "execution_count": 25,
     "metadata": {},
     "output_type": "execute_result"
    },
    {
     "data": {
      "image/png": "[encoded data removed]",
      "text/plain": [
       "<Figure size 432x288 with 1 Axes>"
      ]
     },
     "metadata": {
      "needs_background": "light"
     },
     "output_type": "display_data"
    }
   ],
   "source": []
  },
  {
   "cell_type": "raw",
   "id": "c9a21353",
   "metadata": {},
   "source": [
    "X_test = test_df[['NDVI','NDBI','UI','IBI','avg_rad_mean']]"
   ]
  },
  {
   "cell_type": "raw",
   "id": "0d5bad93",
   "metadata": {},
   "source": [
    "X_test"
   ]
  },
  {
   "cell_type": "code",
   "execution_count": null,
   "id": "a78efacb",
   "metadata": {},
   "outputs": [],
   "source": [
    "#test"
   ]
  },
  {
   "cell_type": "raw",
   "id": "d063d74b",
   "metadata": {},
   "source": [
    "pred"
   ]
  },
  {
   "cell_type": "raw",
   "id": "9775d679",
   "metadata": {},
   "source": [
    "#pred=clf.predict(xx)\n",
    "#pred=clf.predict(zz)\n",
    "pred=clf.predict(X_test)"
   ]
  },
  {
   "cell_type": "raw",
   "id": "b7312ae7",
   "metadata": {},
   "source": [
    "test_df['label']"
   ]
  },
  {
   "cell_type": "raw",
   "id": "9b9c1dc1",
   "metadata": {},
   "source": [
    "from sklearn.metrics import accuracy_score, recall_score\n",
    "\n",
    "acc = accuracy_score(test_df['label'], pred)\n",
    "acc"
   ]
  },
  {
   "cell_type": "code",
   "execution_count": null,
   "id": "1d8eaa4a",
   "metadata": {},
   "outputs": [],
   "source": []
  },
  {
   "cell_type": "code",
   "execution_count": 61,
   "id": "d6c89a16",
   "metadata": {},
   "outputs": [],
   "source": [
    "# EXAMPLE\n"
   ]
  },
  {
   "cell_type": "code",
   "execution_count": 84,
   "id": "47c7c476",
   "metadata": {},
   "outputs": [],
   "source": [
    "import numpy as np\n",
    "from sktime.utils.plotting import plot_series\n",
    "from sktime.datasets import load_airline\n",
    "from sktime.forecasting.theta import ThetaForecaster\n",
    "from sktime.forecasting.model_selection import temporal_train_test_split\n",
    "from sktime.performance_metrics.forecasting import MeanAbsolutePercentageError"
   ]
  },
  {
   "cell_type": "code",
   "execution_count": 80,
   "id": "a3550798",
   "metadata": {},
   "outputs": [
    {
     "data": {
      "text/plain": [
       "[Text(0.5, 0, 'Time'),\n",
       " Text(0, 0.5, 'Number of airline passengers'),\n",
       " Text(0.5, 1.0, 'Box-Jenkins International Airline passengers per month')]"
      ]
     },
     "execution_count": 80,
     "metadata": {},
     "output_type": "execute_result"
    },
    {
     "data": {
      "image/png": "[encoded data removed]",
      "text/plain": [
       "<Figure size 1152x288 with 1 Axes>"
      ]
     },
     "metadata": {
      "needs_background": "light"
     },
     "output_type": "display_data"
    }
   ],
   "source": [
    "y = load_airline()\n",
    "fig, ax = plot_series(y)\n",
    "ax.set(xlabel=\"Time\", ylabel=\"Number of airline passengers\", title='Box-Jenkins International Airline passengers per month' )"
   ]
  },
  {
   "cell_type": "code",
   "execution_count": 90,
   "id": "a00a6f33",
   "metadata": {},
   "outputs": [
    {
     "name": "stderr",
     "output_type": "stream",
     "text": [
      "C:\\Users\\Christos\\anaconda3\\envs\\ml\\lib\\site-packages\\sktime\\performance_metrics\\forecasting\\_functions.py:1545: FutureWarning: In the percentage error metric functions the default argument symmetric=True is changing to symmetric=False in v0.12.0.\n",
      "  warn(\n"
     ]
    },
    {
     "data": {
      "text/plain": [
       "0.08661467742505377"
      ]
     },
     "execution_count": 90,
     "metadata": {},
     "output_type": "execute_result"
    },
    {
     "data": {
      "image/png": "[encoded data removed]",
      "text/plain": [
       "<Figure size 1152x288 with 1 Axes>"
      ]
     },
     "metadata": {
      "needs_background": "light"
     },
     "output_type": "display_data"
    }
   ],
   "source": [
    "y = load_airline()\n",
    "y_train, y_test = temporal_train_test_split(y)\n",
    "fh = np.arange(1, len(y_test) + 1)  # forecasting horizon\n",
    "forecaster = ThetaForecaster(sp=12)  # monthly seasonal periodicity\n",
    "forecaster.fit(y_train)\n",
    "y_pred = forecaster.predict(fh)\n",
    "plot_series(y_train, y_test, y_pred, labels=[\"y_train\", \"y_test\", \"y_pred\"]);\n",
    "#smape = MeanAbsolutePercentageError(multioutput='raw_values', symmetric=True)\n",
    "smape = MeanAbsolutePercentageError(symmetric=True)\n",
    "smape(y_test, y_pred)"
   ]
  },
  {
   "cell_type": "code",
   "execution_count": 92,
   "id": "dc19c8d9",
   "metadata": {},
   "outputs": [
    {
     "data": {
      "text/plain": [
       "array([1.88291153])"
      ]
     },
     "execution_count": 92,
     "metadata": {},
     "output_type": "execute_result"
    }
   ],
   "source": [
    "from sktime.performance_metrics.forecasting import MeanAbsoluteScaledError\n",
    "mase = MeanAbsoluteScaledError(multioutput='raw_values')\n",
    "mase(y_test, y_pred,y_train=y_train)"
   ]
  },
  {
   "cell_type": "code",
   "execution_count": null,
   "id": "1d37fd35",
   "metadata": {},
   "outputs": [],
   "source": []
  },
  {
   "cell_type": "code",
   "execution_count": 93,
   "id": "d3461db8",
   "metadata": {},
   "outputs": [
    {
     "name": "stdout",
     "output_type": "stream",
     "text": [
      "(158, 1) (158,) (53, 1) (53,)\n"
     ]
    },
    {
     "data": {
      "text/html": [
       "<div>\n",
       "<style scoped>\n",
       "    .dataframe tbody tr th:only-of-type {\n",
       "        vertical-align: middle;\n",
       "    }\n",
       "\n",
       "    .dataframe tbody tr th {\n",
       "        vertical-align: top;\n",
       "    }\n",
       "\n",
       "    .dataframe thead th {\n",
       "        text-align: right;\n",
       "    }\n",
       "</style>\n",
       "<table border=\"1\" class=\"dataframe\">\n",
       "  <thead>\n",
       "    <tr style=\"text-align: right;\">\n",
       "      <th></th>\n",
       "      <th>dim_0</th>\n",
       "    </tr>\n",
       "  </thead>\n",
       "  <tbody>\n",
       "    <tr>\n",
       "      <th>13</th>\n",
       "      <td>0     -1.900535\n",
       "1     -1.882731\n",
       "2     -1.86845...</td>\n",
       "    </tr>\n",
       "    <tr>\n",
       "      <th>123</th>\n",
       "      <td>0     -1.736913\n",
       "1     -1.735307\n",
       "2     -1.70952...</td>\n",
       "    </tr>\n",
       "    <tr>\n",
       "      <th>22</th>\n",
       "      <td>0     -2.011232\n",
       "1     -2.007302\n",
       "2     -1.98064...</td>\n",
       "    </tr>\n",
       "    <tr>\n",
       "      <th>113</th>\n",
       "      <td>0     -1.622830\n",
       "1     -1.622411\n",
       "2     -1.59462...</td>\n",
       "    </tr>\n",
       "    <tr>\n",
       "      <th>154</th>\n",
       "      <td>0     -1.610578\n",
       "1     -1.609739\n",
       "2     -1.58535...</td>\n",
       "    </tr>\n",
       "  </tbody>\n",
       "</table>\n",
       "</div>"
      ],
      "text/plain": [
       "                                                 dim_0\n",
       "13   0     -1.900535\n",
       "1     -1.882731\n",
       "2     -1.86845...\n",
       "123  0     -1.736913\n",
       "1     -1.735307\n",
       "2     -1.70952...\n",
       "22   0     -2.011232\n",
       "1     -2.007302\n",
       "2     -1.98064...\n",
       "113  0     -1.622830\n",
       "1     -1.622411\n",
       "2     -1.59462...\n",
       "154  0     -1.610578\n",
       "1     -1.609739\n",
       "2     -1.58535..."
      ]
     },
     "execution_count": 93,
     "metadata": {},
     "output_type": "execute_result"
    }
   ],
   "source": [
    "from sktime.datasets import load_arrow_head\n",
    "X, y = load_arrow_head(return_X_y=True)\n",
    "X_train, X_test, y_train, y_test = train_test_split(X, y)\n",
    "print(X_train.shape, y_train.shape, X_test.shape, y_test.shape)\n",
    "X_train.head()"
   ]
  },
  {
   "cell_type": "code",
   "execution_count": 310,
   "id": "f6f8e602",
   "metadata": {
    "scrolled": true
   },
   "outputs": [
    {
     "data": {
      "text/plain": [
       "0.8867924528301887"
      ]
     },
     "execution_count": 310,
     "metadata": {},
     "output_type": "execute_result"
    }
   ],
   "source": [
    "from sktime.classification.interval_based import TimeSeriesForestClassifier\n",
    "from sklearn.model_selection import train_test_split\n",
    "from sklearn.metrics import accuracy_score\n",
    "\n",
    "X, y = load_arrow_head(return_X_y=True)\n",
    "X_train, X_test, y_train, y_test = train_test_split(X, y)\n",
    "# initialize the classifier object and fit the model on x_train and # y_train\n",
    "classifier = TimeSeriesForestClassifier()\n",
    "classifier.fit(X_train, y_train)\n",
    "#make predictions and print the accuracy score for performance\n",
    "y_pred = classifier.predict(X_test)\n",
    "accuracy_score(y_test, y_pred)"
   ]
  },
  {
   "cell_type": "code",
   "execution_count": 315,
   "id": "e3880612",
   "metadata": {},
   "outputs": [
    {
     "data": {
      "text/plain": [
       "array(['0', '1', '2', '0', '1', '2', '0', '1', '2', '0', '1', '2', '0',\n",
       "       '1', '2', '0', '1', '2', '0', '1', '2', '0', '1', '2', '0', '1',\n",
       "       '2', '0', '1', '2', '0', '1', '2', '0', '1', '2', '0', '0', '0',\n",
       "       '0', '0', '0', '0', '0', '0', '0', '0', '0', '0', '0', '0', '0',\n",
       "       '0', '0', '0', '0', '0', '0', '0', '0', '0', '0', '0', '0', '0',\n",
       "       '0', '0', '0', '0', '0', '0', '0', '0', '0', '0', '0', '0', '0',\n",
       "       '0', '0', '0', '0', '0', '0', '0', '0', '0', '0', '0', '0', '0',\n",
       "       '0', '0', '0', '0', '0', '0', '0', '0', '0', '0', '0', '0', '0',\n",
       "       '0', '1', '1', '1', '1', '1', '1', '1', '1', '1', '1', '1', '1',\n",
       "       '1', '1', '1', '1', '1', '1', '1', '1', '1', '1', '1', '1', '1',\n",
       "       '1', '1', '1', '1', '1', '1', '1', '1', '1', '1', '1', '1', '1',\n",
       "       '1', '1', '1', '1', '1', '1', '1', '1', '1', '1', '1', '1', '1',\n",
       "       '1', '1', '2', '2', '2', '2', '2', '2', '2', '2', '2', '2', '2',\n",
       "       '2', '2', '2', '2', '2', '2', '2', '2', '2', '2', '2', '2', '2',\n",
       "       '2', '2', '2', '2', '2', '2', '2', '2', '2', '2', '2', '2', '2',\n",
       "       '2', '2', '2', '2', '2', '2', '2', '2', '2', '2', '2', '2', '2',\n",
       "       '2', '2', '2'], dtype='<U1')"
      ]
     },
     "execution_count": 315,
     "metadata": {},
     "output_type": "execute_result"
    }
   ],
   "source": [
    "y"
   ]
  },
  {
   "cell_type": "code",
   "execution_count": 97,
   "id": "c571d3ac",
   "metadata": {},
   "outputs": [],
   "source": [
    "# multivariate"
   ]
  },
  {
   "cell_type": "code",
   "execution_count": 365,
   "id": "961ea97f",
   "metadata": {
    "scrolled": true
   },
   "outputs": [
    {
     "name": "stdout",
     "output_type": "stream",
     "text": [
      "(60, 6) (60,) (20, 6) (20,)\n"
     ]
    },
    {
     "data": {
      "text/html": [
       "<div>\n",
       "<style scoped>\n",
       "    .dataframe tbody tr th:only-of-type {\n",
       "        vertical-align: middle;\n",
       "    }\n",
       "\n",
       "    .dataframe tbody tr th {\n",
       "        vertical-align: top;\n",
       "    }\n",
       "\n",
       "    .dataframe thead th {\n",
       "        text-align: right;\n",
       "    }\n",
       "</style>\n",
       "<table border=\"1\" class=\"dataframe\">\n",
       "  <thead>\n",
       "    <tr style=\"text-align: right;\">\n",
       "      <th></th>\n",
       "      <th>dim_0</th>\n",
       "      <th>dim_1</th>\n",
       "      <th>dim_2</th>\n",
       "      <th>dim_3</th>\n",
       "      <th>dim_4</th>\n",
       "      <th>dim_5</th>\n",
       "    </tr>\n",
       "  </thead>\n",
       "  <tbody>\n",
       "    <tr>\n",
       "      <th>9</th>\n",
       "      <td>0    -0.407421\n",
       "1    -0.407421\n",
       "2     2.355158\n",
       "3...</td>\n",
       "      <td>0     1.413374\n",
       "1     1.413374\n",
       "2    -3.928032\n",
       "3...</td>\n",
       "      <td>0     0.092782\n",
       "1     0.092782\n",
       "2    -0.211622\n",
       "3...</td>\n",
       "      <td>0    -0.066584\n",
       "1    -0.066584\n",
       "2    -3.630177\n",
       "3...</td>\n",
       "      <td>0     0.223723\n",
       "1     0.223723\n",
       "2    -0.026634\n",
       "3...</td>\n",
       "      <td>0     0.135832\n",
       "1     0.135832\n",
       "2    -1.946925\n",
       "3...</td>\n",
       "    </tr>\n",
       "    <tr>\n",
       "      <th>24</th>\n",
       "      <td>0     0.383922\n",
       "1     0.383922\n",
       "2    -0.272575\n",
       "3...</td>\n",
       "      <td>0     0.302612\n",
       "1     0.302612\n",
       "2    -1.381236\n",
       "3...</td>\n",
       "      <td>0    -0.398075\n",
       "1    -0.398075\n",
       "2    -0.681258\n",
       "3...</td>\n",
       "      <td>0     0.071911\n",
       "1     0.071911\n",
       "2    -0.761725\n",
       "3...</td>\n",
       "      <td>0     0.175783\n",
       "1     0.175783\n",
       "2    -0.114525\n",
       "3...</td>\n",
       "      <td>0    -0.087891\n",
       "1    -0.087891\n",
       "2    -0.503377\n",
       "3...</td>\n",
       "    </tr>\n",
       "    <tr>\n",
       "      <th>5</th>\n",
       "      <td>0    -0.357300\n",
       "1    -0.357300\n",
       "2    -0.005055\n",
       "3...</td>\n",
       "      <td>0    -0.584885\n",
       "1    -0.584885\n",
       "2     0.295037\n",
       "3...</td>\n",
       "      <td>0    -0.792751\n",
       "1    -0.792751\n",
       "2     0.213664\n",
       "3...</td>\n",
       "      <td>0     0.074574\n",
       "1     0.074574\n",
       "2    -0.157139\n",
       "3...</td>\n",
       "      <td>0     0.159802\n",
       "1     0.159802\n",
       "2    -0.306288\n",
       "3...</td>\n",
       "      <td>0     0.023970\n",
       "1     0.023970\n",
       "2     1.230478\n",
       "3...</td>\n",
       "    </tr>\n",
       "    <tr>\n",
       "      <th>7</th>\n",
       "      <td>0    -0.352746\n",
       "1    -0.352746\n",
       "2    -1.354561\n",
       "3...</td>\n",
       "      <td>0     0.316845\n",
       "1     0.316845\n",
       "2     0.490525\n",
       "3...</td>\n",
       "      <td>0    -0.473779\n",
       "1    -0.473779\n",
       "2     1.454261\n",
       "3...</td>\n",
       "      <td>0    -0.327595\n",
       "1    -0.327595\n",
       "2    -0.269001\n",
       "3...</td>\n",
       "      <td>0     0.106535\n",
       "1     0.106535\n",
       "2     0.021307\n",
       "3...</td>\n",
       "      <td>0     0.197090\n",
       "1     0.197090\n",
       "2     0.460763\n",
       "3...</td>\n",
       "    </tr>\n",
       "    <tr>\n",
       "      <th>34</th>\n",
       "      <td>0      0.052231\n",
       "1      0.052231\n",
       "2     -0.54804...</td>\n",
       "      <td>0     -0.730486\n",
       "1     -0.730486\n",
       "2      0.70700...</td>\n",
       "      <td>0    -0.518104\n",
       "1    -0.518104\n",
       "2    -1.179430\n",
       "3...</td>\n",
       "      <td>0    -0.159802\n",
       "1    -0.159802\n",
       "2    -0.239704\n",
       "3...</td>\n",
       "      <td>0    -0.045277\n",
       "1    -0.045277\n",
       "2     0.023970\n",
       "3...</td>\n",
       "      <td>0     -0.029297\n",
       "1     -0.029297\n",
       "2      0.29829...</td>\n",
       "    </tr>\n",
       "  </tbody>\n",
       "</table>\n",
       "</div>"
      ],
      "text/plain": [
       "                                                dim_0  \\\n",
       "9   0    -0.407421\n",
       "1    -0.407421\n",
       "2     2.355158\n",
       "3...   \n",
       "24  0     0.383922\n",
       "1     0.383922\n",
       "2    -0.272575\n",
       "3...   \n",
       "5   0    -0.357300\n",
       "1    -0.357300\n",
       "2    -0.005055\n",
       "3...   \n",
       "7   0    -0.352746\n",
       "1    -0.352746\n",
       "2    -1.354561\n",
       "3...   \n",
       "34  0      0.052231\n",
       "1      0.052231\n",
       "2     -0.54804...   \n",
       "\n",
       "                                                dim_1  \\\n",
       "9   0     1.413374\n",
       "1     1.413374\n",
       "2    -3.928032\n",
       "3...   \n",
       "24  0     0.302612\n",
       "1     0.302612\n",
       "2    -1.381236\n",
       "3...   \n",
       "5   0    -0.584885\n",
       "1    -0.584885\n",
       "2     0.295037\n",
       "3...   \n",
       "7   0     0.316845\n",
       "1     0.316845\n",
       "2     0.490525\n",
       "3...   \n",
       "34  0     -0.730486\n",
       "1     -0.730486\n",
       "2      0.70700...   \n",
       "\n",
       "                                                dim_2  \\\n",
       "9   0     0.092782\n",
       "1     0.092782\n",
       "2    -0.211622\n",
       "3...   \n",
       "24  0    -0.398075\n",
       "1    -0.398075\n",
       "2    -0.681258\n",
       "3...   \n",
       "5   0    -0.792751\n",
       "1    -0.792751\n",
       "2     0.213664\n",
       "3...   \n",
       "7   0    -0.473779\n",
       "1    -0.473779\n",
       "2     1.454261\n",
       "3...   \n",
       "34  0    -0.518104\n",
       "1    -0.518104\n",
       "2    -1.179430\n",
       "3...   \n",
       "\n",
       "                                                dim_3  \\\n",
       "9   0    -0.066584\n",
       "1    -0.066584\n",
       "2    -3.630177\n",
       "3...   \n",
       "24  0     0.071911\n",
       "1     0.071911\n",
       "2    -0.761725\n",
       "3...   \n",
       "5   0     0.074574\n",
       "1     0.074574\n",
       "2    -0.157139\n",
       "3...   \n",
       "7   0    -0.327595\n",
       "1    -0.327595\n",
       "2    -0.269001\n",
       "3...   \n",
       "34  0    -0.159802\n",
       "1    -0.159802\n",
       "2    -0.239704\n",
       "3...   \n",
       "\n",
       "                                                dim_4  \\\n",
       "9   0     0.223723\n",
       "1     0.223723\n",
       "2    -0.026634\n",
       "3...   \n",
       "24  0     0.175783\n",
       "1     0.175783\n",
       "2    -0.114525\n",
       "3...   \n",
       "5   0     0.159802\n",
       "1     0.159802\n",
       "2    -0.306288\n",
       "3...   \n",
       "7   0     0.106535\n",
       "1     0.106535\n",
       "2     0.021307\n",
       "3...   \n",
       "34  0    -0.045277\n",
       "1    -0.045277\n",
       "2     0.023970\n",
       "3...   \n",
       "\n",
       "                                                dim_5  \n",
       "9   0     0.135832\n",
       "1     0.135832\n",
       "2    -1.946925\n",
       "3...  \n",
       "24  0    -0.087891\n",
       "1    -0.087891\n",
       "2    -0.503377\n",
       "3...  \n",
       "5   0     0.023970\n",
       "1     0.023970\n",
       "2     1.230478\n",
       "3...  \n",
       "7   0     0.197090\n",
       "1     0.197090\n",
       "2     0.460763\n",
       "3...  \n",
       "34  0     -0.029297\n",
       "1     -0.029297\n",
       "2      0.29829...  "
      ]
     },
     "execution_count": 365,
     "metadata": {},
     "output_type": "execute_result"
    }
   ],
   "source": [
    "from sktime.datasets import load_basic_motions\n",
    "X, y = load_basic_motions(return_X_y=True)\n",
    "X_train, X_test, y_train, y_test = train_test_split(X, y, random_state=42)\n",
    "print(X_train.shape, y_train.shape, X_test.shape, y_test.shape)\n",
    "X_train.head()"
   ]
  },
  {
   "cell_type": "code",
   "execution_count": 368,
   "id": "32ace602",
   "metadata": {},
   "outputs": [
    {
     "data": {
      "text/plain": [
       "pandas.core.frame.DataFrame"
      ]
     },
     "execution_count": 368,
     "metadata": {},
     "output_type": "execute_result"
    }
   ],
   "source": []
  },
  {
   "cell_type": "code",
   "execution_count": 122,
   "id": "b09eeeb2",
   "metadata": {
    "scrolled": true
   },
   "outputs": [],
   "source": [
    "from sktime.transformations.panel.compose import ColumnConcatenator\n",
    "from sklearn.pipeline import Pipeline\n"
   ]
  },
  {
   "cell_type": "code",
   "execution_count": 369,
   "id": "365c1e44",
   "metadata": {
    "scrolled": true
   },
   "outputs": [
    {
     "data": {
      "text/html": [
       "<div>\n",
       "<style scoped>\n",
       "    .dataframe tbody tr th:only-of-type {\n",
       "        vertical-align: middle;\n",
       "    }\n",
       "\n",
       "    .dataframe tbody tr th {\n",
       "        vertical-align: top;\n",
       "    }\n",
       "\n",
       "    .dataframe thead th {\n",
       "        text-align: right;\n",
       "    }\n",
       "</style>\n",
       "<table border=\"1\" class=\"dataframe\">\n",
       "  <thead>\n",
       "    <tr style=\"text-align: right;\">\n",
       "      <th></th>\n",
       "      <th>date</th>\n",
       "      <th>NDVI</th>\n",
       "      <th>NDBI</th>\n",
       "      <th>IBI</th>\n",
       "      <th>UI</th>\n",
       "      <th>label</th>\n",
       "    </tr>\n",
       "  </thead>\n",
       "  <tbody>\n",
       "    <tr>\n",
       "      <th>0</th>\n",
       "      <td>2017-03-30</td>\n",
       "      <td>0.124283</td>\n",
       "      <td>-0.002017</td>\n",
       "      <td>-0.984907</td>\n",
       "      <td>-0.110886</td>\n",
       "      <td>1</td>\n",
       "    </tr>\n",
       "    <tr>\n",
       "      <th>1</th>\n",
       "      <td>2017-04-06</td>\n",
       "      <td>0.203771</td>\n",
       "      <td>0.031083</td>\n",
       "      <td>-1.476767</td>\n",
       "      <td>-0.062042</td>\n",
       "      <td>1</td>\n",
       "    </tr>\n",
       "    <tr>\n",
       "      <th>2</th>\n",
       "      <td>2017-04-16</td>\n",
       "      <td>0.238916</td>\n",
       "      <td>-0.030180</td>\n",
       "      <td>-0.743071</td>\n",
       "      <td>-0.118759</td>\n",
       "      <td>1</td>\n",
       "    </tr>\n",
       "    <tr>\n",
       "      <th>3</th>\n",
       "      <td>2017-04-19</td>\n",
       "      <td>0.215031</td>\n",
       "      <td>-0.041755</td>\n",
       "      <td>-5.841253</td>\n",
       "      <td>-0.141597</td>\n",
       "      <td>1</td>\n",
       "    </tr>\n",
       "    <tr>\n",
       "      <th>4</th>\n",
       "      <td>2017-04-26</td>\n",
       "      <td>0.102966</td>\n",
       "      <td>0.021663</td>\n",
       "      <td>-64.898732</td>\n",
       "      <td>-0.080065</td>\n",
       "      <td>1</td>\n",
       "    </tr>\n",
       "    <tr>\n",
       "      <th>...</th>\n",
       "      <td>...</td>\n",
       "      <td>...</td>\n",
       "      <td>...</td>\n",
       "      <td>...</td>\n",
       "      <td>...</td>\n",
       "      <td>...</td>\n",
       "    </tr>\n",
       "    <tr>\n",
       "      <th>1740</th>\n",
       "      <td>2021-12-21</td>\n",
       "      <td>0.104472</td>\n",
       "      <td>-0.001270</td>\n",
       "      <td>-0.265410</td>\n",
       "      <td>-0.118928</td>\n",
       "      <td>0</td>\n",
       "    </tr>\n",
       "    <tr>\n",
       "      <th>1741</th>\n",
       "      <td>2021-12-24</td>\n",
       "      <td>0.090393</td>\n",
       "      <td>0.045353</td>\n",
       "      <td>2.254664</td>\n",
       "      <td>-0.049362</td>\n",
       "      <td>0</td>\n",
       "    </tr>\n",
       "    <tr>\n",
       "      <th>1742</th>\n",
       "      <td>2021-12-26</td>\n",
       "      <td>0.103671</td>\n",
       "      <td>0.024796</td>\n",
       "      <td>-1.294698</td>\n",
       "      <td>-0.068911</td>\n",
       "      <td>0</td>\n",
       "    </tr>\n",
       "    <tr>\n",
       "      <th>1743</th>\n",
       "      <td>2021-12-29</td>\n",
       "      <td>0.103671</td>\n",
       "      <td>0.024796</td>\n",
       "      <td>-1.294698</td>\n",
       "      <td>-0.068911</td>\n",
       "      <td>0</td>\n",
       "    </tr>\n",
       "    <tr>\n",
       "      <th>1744</th>\n",
       "      <td>2021-12-31</td>\n",
       "      <td>0.063182</td>\n",
       "      <td>0.021007</td>\n",
       "      <td>5.464115</td>\n",
       "      <td>-0.090995</td>\n",
       "      <td>0</td>\n",
       "    </tr>\n",
       "  </tbody>\n",
       "</table>\n",
       "<p>1745 rows × 6 columns</p>\n",
       "</div>"
      ],
      "text/plain": [
       "            date      NDVI      NDBI        IBI        UI  label\n",
       "0     2017-03-30  0.124283 -0.002017  -0.984907 -0.110886      1\n",
       "1     2017-04-06  0.203771  0.031083  -1.476767 -0.062042      1\n",
       "2     2017-04-16  0.238916 -0.030180  -0.743071 -0.118759      1\n",
       "3     2017-04-19  0.215031 -0.041755  -5.841253 -0.141597      1\n",
       "4     2017-04-26  0.102966  0.021663 -64.898732 -0.080065      1\n",
       "...          ...       ...       ...        ...       ...    ...\n",
       "1740  2021-12-21  0.104472 -0.001270  -0.265410 -0.118928      0\n",
       "1741  2021-12-24  0.090393  0.045353   2.254664 -0.049362      0\n",
       "1742  2021-12-26  0.103671  0.024796  -1.294698 -0.068911      0\n",
       "1743  2021-12-29  0.103671  0.024796  -1.294698 -0.068911      0\n",
       "1744  2021-12-31  0.063182  0.021007   5.464115 -0.090995      0\n",
       "\n",
       "[1745 rows x 6 columns]"
      ]
     },
     "execution_count": 369,
     "metadata": {},
     "output_type": "execute_result"
    }
   ],
   "source": [
    "s2"
   ]
  },
  {
   "cell_type": "code",
   "execution_count": 237,
   "id": "06033f25",
   "metadata": {},
   "outputs": [
    {
     "data": {
      "text/html": [
       "<div>\n",
       "<style scoped>\n",
       "    .dataframe tbody tr th:only-of-type {\n",
       "        vertical-align: middle;\n",
       "    }\n",
       "\n",
       "    .dataframe tbody tr th {\n",
       "        vertical-align: top;\n",
       "    }\n",
       "\n",
       "    .dataframe thead th {\n",
       "        text-align: right;\n",
       "    }\n",
       "</style>\n",
       "<table border=\"1\" class=\"dataframe\">\n",
       "  <thead>\n",
       "    <tr style=\"text-align: right;\">\n",
       "      <th></th>\n",
       "      <th>index</th>\n",
       "      <th>date</th>\n",
       "      <th>NDVI</th>\n",
       "      <th>NDBI</th>\n",
       "      <th>IBI</th>\n",
       "      <th>UI</th>\n",
       "      <th>label</th>\n",
       "    </tr>\n",
       "  </thead>\n",
       "  <tbody>\n",
       "    <tr>\n",
       "      <th>0</th>\n",
       "      <td>2</td>\n",
       "      <td>2017-04-16</td>\n",
       "      <td>0.238916</td>\n",
       "      <td>-0.030180</td>\n",
       "      <td>-0.743071</td>\n",
       "      <td>-0.118759</td>\n",
       "      <td>1</td>\n",
       "    </tr>\n",
       "    <tr>\n",
       "      <th>1</th>\n",
       "      <td>3</td>\n",
       "      <td>2017-04-19</td>\n",
       "      <td>0.215031</td>\n",
       "      <td>-0.041755</td>\n",
       "      <td>-5.841253</td>\n",
       "      <td>-0.141597</td>\n",
       "      <td>1</td>\n",
       "    </tr>\n",
       "    <tr>\n",
       "      <th>2</th>\n",
       "      <td>4</td>\n",
       "      <td>2017-04-26</td>\n",
       "      <td>0.102966</td>\n",
       "      <td>0.021663</td>\n",
       "      <td>-64.898732</td>\n",
       "      <td>-0.080065</td>\n",
       "      <td>1</td>\n",
       "    </tr>\n",
       "    <tr>\n",
       "      <th>3</th>\n",
       "      <td>5</td>\n",
       "      <td>2017-04-29</td>\n",
       "      <td>0.151810</td>\n",
       "      <td>-0.089192</td>\n",
       "      <td>1.155699</td>\n",
       "      <td>-0.197230</td>\n",
       "      <td>1</td>\n",
       "    </tr>\n",
       "    <tr>\n",
       "      <th>4</th>\n",
       "      <td>6</td>\n",
       "      <td>2017-05-06</td>\n",
       "      <td>0.282564</td>\n",
       "      <td>-0.062342</td>\n",
       "      <td>-0.001884</td>\n",
       "      <td>-0.155152</td>\n",
       "      <td>1</td>\n",
       "    </tr>\n",
       "    <tr>\n",
       "      <th>...</th>\n",
       "      <td>...</td>\n",
       "      <td>...</td>\n",
       "      <td>...</td>\n",
       "      <td>...</td>\n",
       "      <td>...</td>\n",
       "      <td>...</td>\n",
       "      <td>...</td>\n",
       "    </tr>\n",
       "    <tr>\n",
       "      <th>1738</th>\n",
       "      <td>1740</td>\n",
       "      <td>2021-12-21</td>\n",
       "      <td>0.104472</td>\n",
       "      <td>-0.001270</td>\n",
       "      <td>-0.265410</td>\n",
       "      <td>-0.118928</td>\n",
       "      <td>0</td>\n",
       "    </tr>\n",
       "    <tr>\n",
       "      <th>1739</th>\n",
       "      <td>1741</td>\n",
       "      <td>2021-12-24</td>\n",
       "      <td>0.090393</td>\n",
       "      <td>0.045353</td>\n",
       "      <td>2.254664</td>\n",
       "      <td>-0.049362</td>\n",
       "      <td>0</td>\n",
       "    </tr>\n",
       "    <tr>\n",
       "      <th>1740</th>\n",
       "      <td>1742</td>\n",
       "      <td>2021-12-26</td>\n",
       "      <td>0.103671</td>\n",
       "      <td>0.024796</td>\n",
       "      <td>-1.294698</td>\n",
       "      <td>-0.068911</td>\n",
       "      <td>0</td>\n",
       "    </tr>\n",
       "    <tr>\n",
       "      <th>1741</th>\n",
       "      <td>1743</td>\n",
       "      <td>2021-12-29</td>\n",
       "      <td>0.103671</td>\n",
       "      <td>0.024796</td>\n",
       "      <td>-1.294698</td>\n",
       "      <td>-0.068911</td>\n",
       "      <td>0</td>\n",
       "    </tr>\n",
       "    <tr>\n",
       "      <th>1742</th>\n",
       "      <td>1744</td>\n",
       "      <td>2021-12-31</td>\n",
       "      <td>0.063182</td>\n",
       "      <td>0.021007</td>\n",
       "      <td>5.464115</td>\n",
       "      <td>-0.090995</td>\n",
       "      <td>0</td>\n",
       "    </tr>\n",
       "  </tbody>\n",
       "</table>\n",
       "<p>1743 rows × 7 columns</p>\n",
       "</div>"
      ],
      "text/plain": [
       "      index        date      NDVI      NDBI        IBI        UI  label\n",
       "0         2  2017-04-16  0.238916 -0.030180  -0.743071 -0.118759      1\n",
       "1         3  2017-04-19  0.215031 -0.041755  -5.841253 -0.141597      1\n",
       "2         4  2017-04-26  0.102966  0.021663 -64.898732 -0.080065      1\n",
       "3         5  2017-04-29  0.151810 -0.089192   1.155699 -0.197230      1\n",
       "4         6  2017-05-06  0.282564 -0.062342  -0.001884 -0.155152      1\n",
       "...     ...         ...       ...       ...        ...       ...    ...\n",
       "1738   1740  2021-12-21  0.104472 -0.001270  -0.265410 -0.118928      0\n",
       "1739   1741  2021-12-24  0.090393  0.045353   2.254664 -0.049362      0\n",
       "1740   1742  2021-12-26  0.103671  0.024796  -1.294698 -0.068911      0\n",
       "1741   1743  2021-12-29  0.103671  0.024796  -1.294698 -0.068911      0\n",
       "1742   1744  2021-12-31  0.063182  0.021007   5.464115 -0.090995      0\n",
       "\n",
       "[1743 rows x 7 columns]"
      ]
     },
     "execution_count": 237,
     "metadata": {},
     "output_type": "execute_result"
    }
   ],
   "source": [
    "X1.reset_index()"
   ]
  },
  {
   "cell_type": "code",
   "execution_count": 370,
   "id": "ac1fe77e",
   "metadata": {},
   "outputs": [],
   "source": [
    "X1=s2.drop('label',axis=1)\n",
    "y1=s2['label']"
   ]
  },
  {
   "cell_type": "code",
   "execution_count": 371,
   "id": "78281c17",
   "metadata": {
    "scrolled": true
   },
   "outputs": [
    {
     "data": {
      "text/html": [
       "<div>\n",
       "<style scoped>\n",
       "    .dataframe tbody tr th:only-of-type {\n",
       "        vertical-align: middle;\n",
       "    }\n",
       "\n",
       "    .dataframe tbody tr th {\n",
       "        vertical-align: top;\n",
       "    }\n",
       "\n",
       "    .dataframe thead th {\n",
       "        text-align: right;\n",
       "    }\n",
       "</style>\n",
       "<table border=\"1\" class=\"dataframe\">\n",
       "  <thead>\n",
       "    <tr style=\"text-align: right;\">\n",
       "      <th></th>\n",
       "      <th>date</th>\n",
       "      <th>NDVI</th>\n",
       "      <th>NDBI</th>\n",
       "      <th>IBI</th>\n",
       "      <th>UI</th>\n",
       "    </tr>\n",
       "  </thead>\n",
       "  <tbody>\n",
       "    <tr>\n",
       "      <th>0</th>\n",
       "      <td>2017-03-30</td>\n",
       "      <td>0.124283</td>\n",
       "      <td>-0.002017</td>\n",
       "      <td>-0.984907</td>\n",
       "      <td>-0.110886</td>\n",
       "    </tr>\n",
       "    <tr>\n",
       "      <th>1</th>\n",
       "      <td>2017-04-06</td>\n",
       "      <td>0.203771</td>\n",
       "      <td>0.031083</td>\n",
       "      <td>-1.476767</td>\n",
       "      <td>-0.062042</td>\n",
       "    </tr>\n",
       "    <tr>\n",
       "      <th>2</th>\n",
       "      <td>2017-04-16</td>\n",
       "      <td>0.238916</td>\n",
       "      <td>-0.030180</td>\n",
       "      <td>-0.743071</td>\n",
       "      <td>-0.118759</td>\n",
       "    </tr>\n",
       "    <tr>\n",
       "      <th>3</th>\n",
       "      <td>2017-04-19</td>\n",
       "      <td>0.215031</td>\n",
       "      <td>-0.041755</td>\n",
       "      <td>-5.841253</td>\n",
       "      <td>-0.141597</td>\n",
       "    </tr>\n",
       "    <tr>\n",
       "      <th>4</th>\n",
       "      <td>2017-04-26</td>\n",
       "      <td>0.102966</td>\n",
       "      <td>0.021663</td>\n",
       "      <td>-64.898732</td>\n",
       "      <td>-0.080065</td>\n",
       "    </tr>\n",
       "    <tr>\n",
       "      <th>...</th>\n",
       "      <td>...</td>\n",
       "      <td>...</td>\n",
       "      <td>...</td>\n",
       "      <td>...</td>\n",
       "      <td>...</td>\n",
       "    </tr>\n",
       "    <tr>\n",
       "      <th>1740</th>\n",
       "      <td>2021-12-21</td>\n",
       "      <td>0.104472</td>\n",
       "      <td>-0.001270</td>\n",
       "      <td>-0.265410</td>\n",
       "      <td>-0.118928</td>\n",
       "    </tr>\n",
       "    <tr>\n",
       "      <th>1741</th>\n",
       "      <td>2021-12-24</td>\n",
       "      <td>0.090393</td>\n",
       "      <td>0.045353</td>\n",
       "      <td>2.254664</td>\n",
       "      <td>-0.049362</td>\n",
       "    </tr>\n",
       "    <tr>\n",
       "      <th>1742</th>\n",
       "      <td>2021-12-26</td>\n",
       "      <td>0.103671</td>\n",
       "      <td>0.024796</td>\n",
       "      <td>-1.294698</td>\n",
       "      <td>-0.068911</td>\n",
       "    </tr>\n",
       "    <tr>\n",
       "      <th>1743</th>\n",
       "      <td>2021-12-29</td>\n",
       "      <td>0.103671</td>\n",
       "      <td>0.024796</td>\n",
       "      <td>-1.294698</td>\n",
       "      <td>-0.068911</td>\n",
       "    </tr>\n",
       "    <tr>\n",
       "      <th>1744</th>\n",
       "      <td>2021-12-31</td>\n",
       "      <td>0.063182</td>\n",
       "      <td>0.021007</td>\n",
       "      <td>5.464115</td>\n",
       "      <td>-0.090995</td>\n",
       "    </tr>\n",
       "  </tbody>\n",
       "</table>\n",
       "<p>1745 rows × 5 columns</p>\n",
       "</div>"
      ],
      "text/plain": [
       "            date      NDVI      NDBI        IBI        UI\n",
       "0     2017-03-30  0.124283 -0.002017  -0.984907 -0.110886\n",
       "1     2017-04-06  0.203771  0.031083  -1.476767 -0.062042\n",
       "2     2017-04-16  0.238916 -0.030180  -0.743071 -0.118759\n",
       "3     2017-04-19  0.215031 -0.041755  -5.841253 -0.141597\n",
       "4     2017-04-26  0.102966  0.021663 -64.898732 -0.080065\n",
       "...          ...       ...       ...        ...       ...\n",
       "1740  2021-12-21  0.104472 -0.001270  -0.265410 -0.118928\n",
       "1741  2021-12-24  0.090393  0.045353   2.254664 -0.049362\n",
       "1742  2021-12-26  0.103671  0.024796  -1.294698 -0.068911\n",
       "1743  2021-12-29  0.103671  0.024796  -1.294698 -0.068911\n",
       "1744  2021-12-31  0.063182  0.021007   5.464115 -0.090995\n",
       "\n",
       "[1745 rows x 5 columns]"
      ]
     },
     "execution_count": 371,
     "metadata": {},
     "output_type": "execute_result"
    }
   ],
   "source": [
    "X1"
   ]
  },
  {
   "cell_type": "code",
   "execution_count": 319,
   "id": "e04c7ae7",
   "metadata": {},
   "outputs": [
    {
     "data": {
      "text/plain": [
       "(<Figure size 1152x288 with 1 Axes>, <AxesSubplot:ylabel='NDBI'>)"
      ]
     },
     "execution_count": 319,
     "metadata": {},
     "output_type": "execute_result"
    },
    {
     "data": {
      "image/png": "[encoded data removed]",
      "text/plain": [
       "<Figure size 1152x288 with 1 Axes>"
      ]
     },
     "metadata": {
      "needs_background": "light"
     },
     "output_type": "display_data"
    }
   ],
   "source": [
    "plot_series(df[])"
   ]
  },
  {
   "cell_type": "code",
   "execution_count": 266,
   "id": "32dcf6e7",
   "metadata": {
    "scrolled": true
   },
   "outputs": [
    {
     "data": {
      "text/plain": [
       "[('pd.Series', 'Series', 'pd.Series representation of a univariate series'),\n",
       " ('pd.DataFrame',\n",
       "  'Series',\n",
       "  'pd.DataFrame representation of a uni- or multivariate series'),\n",
       " ('np.ndarray',\n",
       "  'Series',\n",
       "  '2D numpy.ndarray with rows=samples, cols=variables, index=integers'),\n",
       " ('nested_univ',\n",
       "  'Panel',\n",
       "  'pd.DataFrame with one column per variable, pd.Series in cells'),\n",
       " ('numpy3D',\n",
       "  'Panel',\n",
       "  '3D np.array of format (n_instances, n_columns, n_timepoints)'),\n",
       " ('numpyflat',\n",
       "  'Panel',\n",
       "  'WARNING: only for internal use, not a fully supported Panel mtype. 2D np.array of format (n_instances, n_columns*n_timepoints)'),\n",
       " ('pd-multiindex',\n",
       "  'Panel',\n",
       "  'pd.DataFrame with multi-index (instances, timepoints)'),\n",
       " ('pd-wide',\n",
       "  'Panel',\n",
       "  'pd.DataFrame in wide format, cols = (instance*timepoints)'),\n",
       " ('pd-long',\n",
       "  'Panel',\n",
       "  'pd.DataFrame in long format, cols = (index, time_index, column)'),\n",
       " ('df-list', 'Panel', 'list of pd.DataFrame'),\n",
       " ('pd_multiindex_hier', 'Hierarchical', 'pd.DataFrame with MultiIndex'),\n",
       " ('alignment',\n",
       "  'Alignment',\n",
       "  'pd.DataFrame in alignment format, values are iloc index references'),\n",
       " ('alignment_loc',\n",
       "  'Alignment',\n",
       "  'pd.DataFrame in alignment format, values are loc index references'),\n",
       " ('pd_DataFrame_Table',\n",
       "  'Table',\n",
       "  'pd.DataFrame representation of a data table'),\n",
       " ('numpy1D', 'Table', '1D np.narray representation of a univariate table'),\n",
       " ('numpy2D', 'Table', '2D np.narray representation of a univariate table'),\n",
       " ('pd_Series_Table', 'Table', 'pd.Series representation of a data table'),\n",
       " ('list_of_dict', 'Table', 'list of dictionaries with primitive entries'),\n",
       " ('pred_interval', 'Proba', 'predictive intervals'),\n",
       " ('pred_quantiles', 'Proba', 'quantile predictions'),\n",
       " ('pred_var', 'Proba', 'variance predictions')]"
      ]
     },
     "execution_count": 266,
     "metadata": {},
     "output_type": "execute_result"
    }
   ],
   "source": [
    "sktime.datatypes.MTYPE_REGISTER"
   ]
  },
  {
   "cell_type": "code",
   "execution_count": 285,
   "id": "637c59ec",
   "metadata": {
    "scrolled": true
   },
   "outputs": [],
   "source": []
  },
  {
   "cell_type": "code",
   "execution_count": 288,
   "id": "65a41ae6",
   "metadata": {
    "scrolled": true
   },
   "outputs": [
    {
     "name": "stdout",
     "output_type": "stream",
     "text": [
      "<class 'pandas.core.frame.DataFrame'>\n",
      "RangeIndex: 1745 entries, 0 to 1744\n",
      "Data columns (total 5 columns):\n",
      " #   Column  Non-Null Count  Dtype  \n",
      "---  ------  --------------  -----  \n",
      " 0   NDVI    1745 non-null   float64\n",
      " 1   NDBI    1745 non-null   float64\n",
      " 2   IBI     1745 non-null   float64\n",
      " 3   UI      1745 non-null   float64\n",
      " 4   label   1745 non-null   int64  \n",
      "dtypes: float64(4), int64(1)\n",
      "memory usage: 68.3 KB\n"
     ]
    }
   ],
   "source": [
    "df.info()"
   ]
  },
  {
   "cell_type": "code",
   "execution_count": 323,
   "id": "2ae9b10c",
   "metadata": {
    "scrolled": true
   },
   "outputs": [
    {
     "data": {
      "text/html": [
       "<div>\n",
       "<style scoped>\n",
       "    .dataframe tbody tr th:only-of-type {\n",
       "        vertical-align: middle;\n",
       "    }\n",
       "\n",
       "    .dataframe tbody tr th {\n",
       "        vertical-align: top;\n",
       "    }\n",
       "\n",
       "    .dataframe thead th {\n",
       "        text-align: right;\n",
       "    }\n",
       "</style>\n",
       "<table border=\"1\" class=\"dataframe\">\n",
       "  <thead>\n",
       "    <tr style=\"text-align: right;\">\n",
       "      <th></th>\n",
       "      <th>NDVI</th>\n",
       "      <th>NDBI</th>\n",
       "      <th>IBI</th>\n",
       "      <th>UI</th>\n",
       "      <th>label</th>\n",
       "    </tr>\n",
       "  </thead>\n",
       "  <tbody>\n",
       "    <tr>\n",
       "      <th>0</th>\n",
       "      <td>0.124283</td>\n",
       "      <td>-0.002017</td>\n",
       "      <td>-0.984907</td>\n",
       "      <td>-0.110886</td>\n",
       "      <td>1</td>\n",
       "    </tr>\n",
       "    <tr>\n",
       "      <th>1</th>\n",
       "      <td>0.203771</td>\n",
       "      <td>0.031083</td>\n",
       "      <td>-1.476767</td>\n",
       "      <td>-0.062042</td>\n",
       "      <td>1</td>\n",
       "    </tr>\n",
       "    <tr>\n",
       "      <th>2</th>\n",
       "      <td>0.238916</td>\n",
       "      <td>-0.030180</td>\n",
       "      <td>-0.743071</td>\n",
       "      <td>-0.118759</td>\n",
       "      <td>1</td>\n",
       "    </tr>\n",
       "    <tr>\n",
       "      <th>3</th>\n",
       "      <td>0.215031</td>\n",
       "      <td>-0.041755</td>\n",
       "      <td>-5.841253</td>\n",
       "      <td>-0.141597</td>\n",
       "      <td>1</td>\n",
       "    </tr>\n",
       "    <tr>\n",
       "      <th>4</th>\n",
       "      <td>0.102966</td>\n",
       "      <td>0.021663</td>\n",
       "      <td>-64.898732</td>\n",
       "      <td>-0.080065</td>\n",
       "      <td>1</td>\n",
       "    </tr>\n",
       "    <tr>\n",
       "      <th>...</th>\n",
       "      <td>...</td>\n",
       "      <td>...</td>\n",
       "      <td>...</td>\n",
       "      <td>...</td>\n",
       "      <td>...</td>\n",
       "    </tr>\n",
       "    <tr>\n",
       "      <th>1740</th>\n",
       "      <td>0.104472</td>\n",
       "      <td>-0.001270</td>\n",
       "      <td>-0.265410</td>\n",
       "      <td>-0.118928</td>\n",
       "      <td>0</td>\n",
       "    </tr>\n",
       "    <tr>\n",
       "      <th>1741</th>\n",
       "      <td>0.090393</td>\n",
       "      <td>0.045353</td>\n",
       "      <td>2.254664</td>\n",
       "      <td>-0.049362</td>\n",
       "      <td>0</td>\n",
       "    </tr>\n",
       "    <tr>\n",
       "      <th>1742</th>\n",
       "      <td>0.103671</td>\n",
       "      <td>0.024796</td>\n",
       "      <td>-1.294698</td>\n",
       "      <td>-0.068911</td>\n",
       "      <td>0</td>\n",
       "    </tr>\n",
       "    <tr>\n",
       "      <th>1743</th>\n",
       "      <td>0.103671</td>\n",
       "      <td>0.024796</td>\n",
       "      <td>-1.294698</td>\n",
       "      <td>-0.068911</td>\n",
       "      <td>0</td>\n",
       "    </tr>\n",
       "    <tr>\n",
       "      <th>1744</th>\n",
       "      <td>0.063182</td>\n",
       "      <td>0.021007</td>\n",
       "      <td>5.464115</td>\n",
       "      <td>-0.090995</td>\n",
       "      <td>0</td>\n",
       "    </tr>\n",
       "  </tbody>\n",
       "</table>\n",
       "<p>1745 rows × 5 columns</p>\n",
       "</div>"
      ],
      "text/plain": [
       "          NDVI      NDBI        IBI        UI  label\n",
       "0     0.124283 -0.002017  -0.984907 -0.110886      1\n",
       "1     0.203771  0.031083  -1.476767 -0.062042      1\n",
       "2     0.238916 -0.030180  -0.743071 -0.118759      1\n",
       "3     0.215031 -0.041755  -5.841253 -0.141597      1\n",
       "4     0.102966  0.021663 -64.898732 -0.080065      1\n",
       "...        ...       ...        ...       ...    ...\n",
       "1740  0.104472 -0.001270  -0.265410 -0.118928      0\n",
       "1741  0.090393  0.045353   2.254664 -0.049362      0\n",
       "1742  0.103671  0.024796  -1.294698 -0.068911      0\n",
       "1743  0.103671  0.024796  -1.294698 -0.068911      0\n",
       "1744  0.063182  0.021007   5.464115 -0.090995      0\n",
       "\n",
       "[1745 rows x 5 columns]"
      ]
     },
     "execution_count": 323,
     "metadata": {},
     "output_type": "execute_result"
    }
   ],
   "source": [
    "df1"
   ]
  },
  {
   "cell_type": "code",
   "execution_count": 361,
   "id": "34731f39",
   "metadata": {
    "scrolled": true
   },
   "outputs": [
    {
     "data": {
      "text/html": [
       "<div>\n",
       "<style scoped>\n",
       "    .dataframe tbody tr th:only-of-type {\n",
       "        vertical-align: middle;\n",
       "    }\n",
       "\n",
       "    .dataframe tbody tr th {\n",
       "        vertical-align: top;\n",
       "    }\n",
       "\n",
       "    .dataframe thead th {\n",
       "        text-align: right;\n",
       "    }\n",
       "</style>\n",
       "<table border=\"1\" class=\"dataframe\">\n",
       "  <thead>\n",
       "    <tr style=\"text-align: right;\">\n",
       "      <th></th>\n",
       "      <th>NDVI</th>\n",
       "      <th>NDBI</th>\n",
       "      <th>IBI</th>\n",
       "      <th>UI</th>\n",
       "    </tr>\n",
       "  </thead>\n",
       "  <tbody>\n",
       "    <tr>\n",
       "      <th>0</th>\n",
       "      <td>0.124283</td>\n",
       "      <td>-0.002017</td>\n",
       "      <td>-0.984907</td>\n",
       "      <td>-0.110886</td>\n",
       "    </tr>\n",
       "    <tr>\n",
       "      <th>1</th>\n",
       "      <td>0.203771</td>\n",
       "      <td>0.031083</td>\n",
       "      <td>-1.476767</td>\n",
       "      <td>-0.062042</td>\n",
       "    </tr>\n",
       "    <tr>\n",
       "      <th>2</th>\n",
       "      <td>0.238916</td>\n",
       "      <td>-0.030180</td>\n",
       "      <td>-0.743071</td>\n",
       "      <td>-0.118759</td>\n",
       "    </tr>\n",
       "    <tr>\n",
       "      <th>3</th>\n",
       "      <td>0.215031</td>\n",
       "      <td>-0.041755</td>\n",
       "      <td>-5.841253</td>\n",
       "      <td>-0.141597</td>\n",
       "    </tr>\n",
       "    <tr>\n",
       "      <th>4</th>\n",
       "      <td>0.102966</td>\n",
       "      <td>0.021663</td>\n",
       "      <td>-64.898732</td>\n",
       "      <td>-0.080065</td>\n",
       "    </tr>\n",
       "    <tr>\n",
       "      <th>...</th>\n",
       "      <td>...</td>\n",
       "      <td>...</td>\n",
       "      <td>...</td>\n",
       "      <td>...</td>\n",
       "    </tr>\n",
       "    <tr>\n",
       "      <th>1740</th>\n",
       "      <td>0.104472</td>\n",
       "      <td>-0.001270</td>\n",
       "      <td>-0.265410</td>\n",
       "      <td>-0.118928</td>\n",
       "    </tr>\n",
       "    <tr>\n",
       "      <th>1741</th>\n",
       "      <td>0.090393</td>\n",
       "      <td>0.045353</td>\n",
       "      <td>2.254664</td>\n",
       "      <td>-0.049362</td>\n",
       "    </tr>\n",
       "    <tr>\n",
       "      <th>1742</th>\n",
       "      <td>0.103671</td>\n",
       "      <td>0.024796</td>\n",
       "      <td>-1.294698</td>\n",
       "      <td>-0.068911</td>\n",
       "    </tr>\n",
       "    <tr>\n",
       "      <th>1743</th>\n",
       "      <td>0.103671</td>\n",
       "      <td>0.024796</td>\n",
       "      <td>-1.294698</td>\n",
       "      <td>-0.068911</td>\n",
       "    </tr>\n",
       "    <tr>\n",
       "      <th>1744</th>\n",
       "      <td>0.063182</td>\n",
       "      <td>0.021007</td>\n",
       "      <td>5.464115</td>\n",
       "      <td>-0.090995</td>\n",
       "    </tr>\n",
       "  </tbody>\n",
       "</table>\n",
       "<p>1745 rows × 4 columns</p>\n",
       "</div>"
      ],
      "text/plain": [
       "          NDVI      NDBI        IBI        UI\n",
       "0     0.124283 -0.002017  -0.984907 -0.110886\n",
       "1     0.203771  0.031083  -1.476767 -0.062042\n",
       "2     0.238916 -0.030180  -0.743071 -0.118759\n",
       "3     0.215031 -0.041755  -5.841253 -0.141597\n",
       "4     0.102966  0.021663 -64.898732 -0.080065\n",
       "...        ...       ...        ...       ...\n",
       "1740  0.104472 -0.001270  -0.265410 -0.118928\n",
       "1741  0.090393  0.045353   2.254664 -0.049362\n",
       "1742  0.103671  0.024796  -1.294698 -0.068911\n",
       "1743  0.103671  0.024796  -1.294698 -0.068911\n",
       "1744  0.063182  0.021007   5.464115 -0.090995\n",
       "\n",
       "[1745 rows x 4 columns]"
      ]
     },
     "execution_count": 361,
     "metadata": {},
     "output_type": "execute_result"
    }
   ],
   "source": [
    "X= df.drop('label',axis=1)\n",
    "del X['date']\n",
    "X"
   ]
  },
  {
   "cell_type": "code",
   "execution_count": 354,
   "id": "fcba8cea",
   "metadata": {},
   "outputs": [
    {
     "name": "stdout",
     "output_type": "stream",
     "text": [
      "(442, 10) (442,)\n"
     ]
    }
   ],
   "source": [
    "from sklearn.datasets import load_diabetes\n",
    "\n",
    "diabetes = load_diabetes()\n",
    "\n",
    "X = diabetes[\"data\"]\n",
    "y = diabetes[\"target\"]\n",
    "\n",
    "print(X.shape, y.shape)"
   ]
  },
  {
   "cell_type": "code",
   "execution_count": 357,
   "id": "b85e05b4",
   "metadata": {},
   "outputs": [
    {
     "data": {
      "text/plain": [
       "array([[ 0.03807591,  0.05068012,  0.06169621, ..., -0.00259226,\n",
       "         0.01990842, -0.01764613],\n",
       "       [-0.00188202, -0.04464164, -0.05147406, ..., -0.03949338,\n",
       "        -0.06832974, -0.09220405],\n",
       "       [ 0.08529891,  0.05068012,  0.04445121, ..., -0.00259226,\n",
       "         0.00286377, -0.02593034],\n",
       "       ...,\n",
       "       [ 0.04170844,  0.05068012, -0.01590626, ..., -0.01107952,\n",
       "        -0.04687948,  0.01549073],\n",
       "       [-0.04547248, -0.04464164,  0.03906215, ...,  0.02655962,\n",
       "         0.04452837, -0.02593034],\n",
       "       [-0.04547248, -0.04464164, -0.0730303 , ..., -0.03949338,\n",
       "        -0.00421986,  0.00306441]])"
      ]
     },
     "execution_count": 357,
     "metadata": {},
     "output_type": "execute_result"
    }
   ],
   "source": [
    "X"
   ]
  },
  {
   "cell_type": "code",
   "execution_count": 362,
   "id": "855d315a",
   "metadata": {},
   "outputs": [
    {
     "ename": "ValueError",
     "evalue": "DataFrame constructor not properly called!",
     "output_type": "error",
     "traceback": [
      "\u001b[1;31m---------------------------------------------------------------------------\u001b[0m",
      "\u001b[1;31mValueError\u001b[0m                                Traceback (most recent call last)",
      "\u001b[1;32m~\\AppData\\Local\\Temp/ipykernel_23780/3832880217.py\u001b[0m in \u001b[0;36m<module>\u001b[1;34m\u001b[0m\n\u001b[0;32m      3\u001b[0m \u001b[1;33m\u001b[0m\u001b[0m\n\u001b[0;32m      4\u001b[0m \u001b[1;33m\u001b[0m\u001b[0m\n\u001b[1;32m----> 5\u001b[1;33m \u001b[0mnested\u001b[0m \u001b[1;33m=\u001b[0m \u001b[0mconvert\u001b[0m\u001b[1;33m(\u001b[0m\u001b[0mX\u001b[0m\u001b[1;33m,\u001b[0m\u001b[0mfrom_type\u001b[0m\u001b[1;33m=\u001b[0m\u001b[1;34m'pd-long'\u001b[0m\u001b[1;33m,\u001b[0m\u001b[0mto_type\u001b[0m\u001b[1;33m=\u001b[0m\u001b[1;34m'nested_univ'\u001b[0m\u001b[1;33m)\u001b[0m\u001b[1;33m\u001b[0m\u001b[1;33m\u001b[0m\u001b[0m\n\u001b[0m",
      "\u001b[1;32m~\\anaconda3\\envs\\ml\\lib\\site-packages\\sktime\\datatypes\\_convert.py\u001b[0m in \u001b[0;36mconvert\u001b[1;34m(obj, from_type, to_type, as_scitype, store, store_behaviour)\u001b[0m\n\u001b[0;32m    170\u001b[0m         )\n\u001b[0;32m    171\u001b[0m \u001b[1;33m\u001b[0m\u001b[0m\n\u001b[1;32m--> 172\u001b[1;33m     \u001b[0mconverted_obj\u001b[0m \u001b[1;33m=\u001b[0m \u001b[0mconvert_dict\u001b[0m\u001b[1;33m[\u001b[0m\u001b[0mkey\u001b[0m\u001b[1;33m]\u001b[0m\u001b[1;33m(\u001b[0m\u001b[0mobj\u001b[0m\u001b[1;33m,\u001b[0m \u001b[0mstore\u001b[0m\u001b[1;33m=\u001b[0m\u001b[0mstore\u001b[0m\u001b[1;33m)\u001b[0m\u001b[1;33m\u001b[0m\u001b[1;33m\u001b[0m\u001b[0m\n\u001b[0m\u001b[0;32m    173\u001b[0m \u001b[1;33m\u001b[0m\u001b[0m\n\u001b[0;32m    174\u001b[0m     \u001b[1;32mreturn\u001b[0m \u001b[0mconverted_obj\u001b[0m\u001b[1;33m\u001b[0m\u001b[1;33m\u001b[0m\u001b[0m\n",
      "\u001b[1;32m~\\anaconda3\\envs\\ml\\lib\\site-packages\\sktime\\datatypes\\_panel\\_convert.py\u001b[0m in \u001b[0;36mfrom_nested_to_long_adp\u001b[1;34m(obj, store)\u001b[0m\n\u001b[0;32m    486\u001b[0m \u001b[1;32mdef\u001b[0m \u001b[0mfrom_nested_to_long_adp\u001b[0m\u001b[1;33m(\u001b[0m\u001b[0mobj\u001b[0m\u001b[1;33m,\u001b[0m \u001b[0mstore\u001b[0m\u001b[1;33m=\u001b[0m\u001b[1;32mNone\u001b[0m\u001b[1;33m)\u001b[0m\u001b[1;33m:\u001b[0m\u001b[1;33m\u001b[0m\u001b[1;33m\u001b[0m\u001b[0m\n\u001b[0;32m    487\u001b[0m \u001b[1;33m\u001b[0m\u001b[0m\n\u001b[1;32m--> 488\u001b[1;33m     return from_nested_to_long(\n\u001b[0m\u001b[0;32m    489\u001b[0m         \u001b[0mX\u001b[0m\u001b[1;33m=\u001b[0m\u001b[0mobj\u001b[0m\u001b[1;33m,\u001b[0m\u001b[1;33m\u001b[0m\u001b[1;33m\u001b[0m\u001b[0m\n\u001b[0;32m    490\u001b[0m         \u001b[0minstance_column_name\u001b[0m\u001b[1;33m=\u001b[0m\u001b[1;34m\"case_id\"\u001b[0m\u001b[1;33m,\u001b[0m\u001b[1;33m\u001b[0m\u001b[1;33m\u001b[0m\u001b[0m\n",
      "\u001b[1;32m~\\anaconda3\\envs\\ml\\lib\\site-packages\\sktime\\datatypes\\_panel\\_convert.py\u001b[0m in \u001b[0;36mfrom_nested_to_long\u001b[1;34m(X, instance_column_name, time_column_name, dimension_column_name)\u001b[0m\n\u001b[0;32m    462\u001b[0m         \u001b[0mLong\u001b[0m \u001b[0mpandas\u001b[0m \u001b[0mDataFrame\u001b[0m\u001b[1;33m\u001b[0m\u001b[1;33m\u001b[0m\u001b[0m\n\u001b[0;32m    463\u001b[0m     \"\"\"\n\u001b[1;32m--> 464\u001b[1;33m     long_df = from_nested_to_multi_index(\n\u001b[0m\u001b[0;32m    465\u001b[0m         \u001b[0mX\u001b[0m\u001b[1;33m,\u001b[0m \u001b[0minstance_index\u001b[0m\u001b[1;33m=\u001b[0m\u001b[1;34m\"index\"\u001b[0m\u001b[1;33m,\u001b[0m \u001b[0mtime_index\u001b[0m\u001b[1;33m=\u001b[0m\u001b[1;34m\"time_index\"\u001b[0m\u001b[1;33m\u001b[0m\u001b[1;33m\u001b[0m\u001b[0m\n\u001b[0;32m    466\u001b[0m     )\n",
      "\u001b[1;32m~\\anaconda3\\envs\\ml\\lib\\site-packages\\sktime\\datatypes\\_panel\\_convert.py\u001b[0m in \u001b[0;36mfrom_nested_to_multi_index\u001b[1;34m(X, instance_index, time_index)\u001b[0m\n\u001b[0;32m    804\u001b[0m                 \u001b[0mx\u001b[0m\u001b[1;33m.\u001b[0m\u001b[0mname\u001b[0m \u001b[1;33m=\u001b[0m \u001b[1;32mNone\u001b[0m\u001b[1;33m\u001b[0m\u001b[1;33m\u001b[0m\u001b[0m\n\u001b[0;32m    805\u001b[0m \u001b[1;33m\u001b[0m\u001b[0m\n\u001b[1;32m--> 806\u001b[1;33m         \u001b[0minstance\u001b[0m \u001b[1;33m=\u001b[0m \u001b[1;33m[\u001b[0m\u001b[0mpd\u001b[0m\u001b[1;33m.\u001b[0m\u001b[0mDataFrame\u001b[0m\u001b[1;33m(\u001b[0m\u001b[0ms\u001b[0m\u001b[1;33m,\u001b[0m \u001b[0mcolumns\u001b[0m\u001b[1;33m=\u001b[0m\u001b[1;33m[\u001b[0m\u001b[0mc\u001b[0m\u001b[1;33m]\u001b[0m\u001b[1;33m)\u001b[0m \u001b[1;32mfor\u001b[0m \u001b[0ms\u001b[0m\u001b[1;33m,\u001b[0m \u001b[0mc\u001b[0m \u001b[1;32min\u001b[0m \u001b[0mzip\u001b[0m\u001b[1;33m(\u001b[0m\u001b[0mseries\u001b[0m\u001b[1;33m,\u001b[0m \u001b[0mcolnames\u001b[0m\u001b[1;33m)\u001b[0m\u001b[1;33m]\u001b[0m\u001b[1;33m\u001b[0m\u001b[1;33m\u001b[0m\u001b[0m\n\u001b[0m\u001b[0;32m    807\u001b[0m         \u001b[0minstance\u001b[0m \u001b[1;33m=\u001b[0m \u001b[0mpd\u001b[0m\u001b[1;33m.\u001b[0m\u001b[0mconcat\u001b[0m\u001b[1;33m(\u001b[0m\u001b[0minstance\u001b[0m\u001b[1;33m,\u001b[0m \u001b[0maxis\u001b[0m\u001b[1;33m=\u001b[0m\u001b[1;36m1\u001b[0m\u001b[1;33m)\u001b[0m\u001b[1;33m\u001b[0m\u001b[1;33m\u001b[0m\u001b[0m\n\u001b[0;32m    808\u001b[0m         \u001b[1;31m# For primitive (non-nested column) assume the same\u001b[0m\u001b[1;33m\u001b[0m\u001b[1;33m\u001b[0m\u001b[1;33m\u001b[0m\u001b[0m\n",
      "\u001b[1;32m~\\anaconda3\\envs\\ml\\lib\\site-packages\\sktime\\datatypes\\_panel\\_convert.py\u001b[0m in \u001b[0;36m<listcomp>\u001b[1;34m(.0)\u001b[0m\n\u001b[0;32m    804\u001b[0m                 \u001b[0mx\u001b[0m\u001b[1;33m.\u001b[0m\u001b[0mname\u001b[0m \u001b[1;33m=\u001b[0m \u001b[1;32mNone\u001b[0m\u001b[1;33m\u001b[0m\u001b[1;33m\u001b[0m\u001b[0m\n\u001b[0;32m    805\u001b[0m \u001b[1;33m\u001b[0m\u001b[0m\n\u001b[1;32m--> 806\u001b[1;33m         \u001b[0minstance\u001b[0m \u001b[1;33m=\u001b[0m \u001b[1;33m[\u001b[0m\u001b[0mpd\u001b[0m\u001b[1;33m.\u001b[0m\u001b[0mDataFrame\u001b[0m\u001b[1;33m(\u001b[0m\u001b[0ms\u001b[0m\u001b[1;33m,\u001b[0m \u001b[0mcolumns\u001b[0m\u001b[1;33m=\u001b[0m\u001b[1;33m[\u001b[0m\u001b[0mc\u001b[0m\u001b[1;33m]\u001b[0m\u001b[1;33m)\u001b[0m \u001b[1;32mfor\u001b[0m \u001b[0ms\u001b[0m\u001b[1;33m,\u001b[0m \u001b[0mc\u001b[0m \u001b[1;32min\u001b[0m \u001b[0mzip\u001b[0m\u001b[1;33m(\u001b[0m\u001b[0mseries\u001b[0m\u001b[1;33m,\u001b[0m \u001b[0mcolnames\u001b[0m\u001b[1;33m)\u001b[0m\u001b[1;33m]\u001b[0m\u001b[1;33m\u001b[0m\u001b[1;33m\u001b[0m\u001b[0m\n\u001b[0m\u001b[0;32m    807\u001b[0m         \u001b[0minstance\u001b[0m \u001b[1;33m=\u001b[0m \u001b[0mpd\u001b[0m\u001b[1;33m.\u001b[0m\u001b[0mconcat\u001b[0m\u001b[1;33m(\u001b[0m\u001b[0minstance\u001b[0m\u001b[1;33m,\u001b[0m \u001b[0maxis\u001b[0m\u001b[1;33m=\u001b[0m\u001b[1;36m1\u001b[0m\u001b[1;33m)\u001b[0m\u001b[1;33m\u001b[0m\u001b[1;33m\u001b[0m\u001b[0m\n\u001b[0;32m    808\u001b[0m         \u001b[1;31m# For primitive (non-nested column) assume the same\u001b[0m\u001b[1;33m\u001b[0m\u001b[1;33m\u001b[0m\u001b[1;33m\u001b[0m\u001b[0m\n",
      "\u001b[1;32m~\\anaconda3\\envs\\ml\\lib\\site-packages\\pandas\\core\\frame.py\u001b[0m in \u001b[0;36m__init__\u001b[1;34m(self, data, index, columns, dtype, copy)\u001b[0m\n\u001b[0;32m    588\u001b[0m         \u001b[1;32melse\u001b[0m\u001b[1;33m:\u001b[0m\u001b[1;33m\u001b[0m\u001b[1;33m\u001b[0m\u001b[0m\n\u001b[0;32m    589\u001b[0m             \u001b[1;32mif\u001b[0m \u001b[0mindex\u001b[0m \u001b[1;32mis\u001b[0m \u001b[1;32mNone\u001b[0m \u001b[1;32mor\u001b[0m \u001b[0mcolumns\u001b[0m \u001b[1;32mis\u001b[0m \u001b[1;32mNone\u001b[0m\u001b[1;33m:\u001b[0m\u001b[1;33m\u001b[0m\u001b[1;33m\u001b[0m\u001b[0m\n\u001b[1;32m--> 590\u001b[1;33m                 \u001b[1;32mraise\u001b[0m \u001b[0mValueError\u001b[0m\u001b[1;33m(\u001b[0m\u001b[1;34m\"DataFrame constructor not properly called!\"\u001b[0m\u001b[1;33m)\u001b[0m\u001b[1;33m\u001b[0m\u001b[1;33m\u001b[0m\u001b[0m\n\u001b[0m\u001b[0;32m    591\u001b[0m \u001b[1;33m\u001b[0m\u001b[0m\n\u001b[0;32m    592\u001b[0m             \u001b[1;32mif\u001b[0m \u001b[1;32mnot\u001b[0m \u001b[0mdtype\u001b[0m\u001b[1;33m:\u001b[0m\u001b[1;33m\u001b[0m\u001b[1;33m\u001b[0m\u001b[0m\n",
      "\u001b[1;31mValueError\u001b[0m: DataFrame constructor not properly called!"
     ]
    }
   ],
   "source": [
    "from sktime.datatypes import convert\n",
    "df = pd.read_csv('./data/csvs/class_example.csv')\n",
    "\n",
    "\n",
    "nested = convert(X,from_type='pd-long',to_type='nested_univ')"
   ]
  },
  {
   "cell_type": "code",
   "execution_count": 244,
   "id": "b0ef4f4c",
   "metadata": {},
   "outputs": [],
   "source": [
    "X_train, X_test, y_train, y_test = train_test_split(X1, y1[:len(y1)-2], random_state=42)\n"
   ]
  },
  {
   "cell_type": "code",
   "execution_count": 444,
   "id": "9ef194ad",
   "metadata": {
    "scrolled": false
   },
   "outputs": [
    {
     "ename": "TypeError",
     "evalue": "No valid mtype could be identified for object of type <class 'pandas.core.frame.DataFrame'>. Errors returned are as follows, in format [mtype]: [error message] \r\npd.DataFrame: obj should not have column of 'object' dtype\r\npd.Series: obj must be a pandas.Series, found <class 'pandas.core.frame.DataFrame'>\r\nnp.ndarray: obj must be a numpy.ndarray, found <class 'pandas.core.frame.DataFrame'>\r\ndf-list: obj must be list of pd.DataFrame, found <class 'pandas.core.frame.DataFrame'>\r\nnumpy3D: obj must be a numpy.ndarray, found <class 'pandas.core.frame.DataFrame'>\r\npd-multiindex: obj have a MultiIndex, found <class 'pandas.core.indexes.range.RangeIndex'>\r\nnested_univ: obj entries must be pd.Series\r\npd_multiindex_hier: obj must have a MultiIndex, found <class 'pandas.core.indexes.range.RangeIndex'>\r\nalignment: obj index columns must be named 'ind0', 'ind1', ... 'ind6'\r\npd_DataFrame_Table: obj should not have column of 'object' dtype\r\npd_Series_Table: obj must be a pandas.Series, found <class 'pandas.core.frame.DataFrame'>\r\nnumpy1D: obj must be a numpy.ndarray, found <class 'pandas.core.frame.DataFrame'>\r\nnumpy2D: obj must be a numpy.ndarray, found <class 'pandas.core.frame.DataFrame'>\r\nlist_of_dict: obj must be a list of dict, found <class 'pandas.core.frame.DataFrame'>\r\npred_quantiles: obj should only have numeric dtype columns\r\npred_interval: obj should only have numeric dtype columns\r\n",
     "output_type": "error",
     "traceback": [
      "\u001b[1;31m---------------------------------------------------------------------------\u001b[0m",
      "\u001b[1;31mTypeError\u001b[0m                                 Traceback (most recent call last)",
      "\u001b[1;32m~\\AppData\\Local\\Temp/ipykernel_23780/1596690385.py\u001b[0m in \u001b[0;36m<module>\u001b[1;34m\u001b[0m\n\u001b[0;32m      1\u001b[0m \u001b[1;32mfrom\u001b[0m \u001b[0msktime\u001b[0m\u001b[1;33m.\u001b[0m\u001b[0mdatatypes\u001b[0m \u001b[1;32mimport\u001b[0m \u001b[0mmtype\u001b[0m\u001b[1;33m,\u001b[0m\u001b[0mscitype\u001b[0m\u001b[1;33m,\u001b[0m\u001b[0mmtype_to_scitype\u001b[0m\u001b[1;33m\u001b[0m\u001b[1;33m\u001b[0m\u001b[0m\n\u001b[1;32m----> 2\u001b[1;33m \u001b[0mmtype\u001b[0m\u001b[1;33m(\u001b[0m\u001b[0mdf\u001b[0m\u001b[1;33m)\u001b[0m\u001b[1;33m\u001b[0m\u001b[1;33m\u001b[0m\u001b[0m\n\u001b[0m",
      "\u001b[1;32m~\\anaconda3\\envs\\ml\\lib\\site-packages\\sktime\\datatypes\\_check.py\u001b[0m in \u001b[0;36mmtype\u001b[1;34m(obj, as_scitype, exclude_mtypes)\u001b[0m\n\u001b[0;32m    331\u001b[0m             \u001b[1;34mf\"Errors returned are as follows, in format [mtype]: [error message] \\r\\n\"\u001b[0m\u001b[1;33m\u001b[0m\u001b[1;33m\u001b[0m\u001b[0m\n\u001b[0;32m    332\u001b[0m         ) + msg\n\u001b[1;32m--> 333\u001b[1;33m         \u001b[1;32mraise\u001b[0m \u001b[0mTypeError\u001b[0m\u001b[1;33m(\u001b[0m\u001b[0mmsg\u001b[0m\u001b[1;33m)\u001b[0m\u001b[1;33m\u001b[0m\u001b[1;33m\u001b[0m\u001b[0m\n\u001b[0m\u001b[0;32m    334\u001b[0m \u001b[1;33m\u001b[0m\u001b[0m\n\u001b[0;32m    335\u001b[0m     \u001b[1;32mreturn\u001b[0m \u001b[0mmtypes_positive\u001b[0m\u001b[1;33m[\u001b[0m\u001b[1;36m0\u001b[0m\u001b[1;33m]\u001b[0m\u001b[1;33m\u001b[0m\u001b[1;33m\u001b[0m\u001b[0m\n",
      "\u001b[1;31mTypeError\u001b[0m: No valid mtype could be identified for object of type <class 'pandas.core.frame.DataFrame'>. Errors returned are as follows, in format [mtype]: [error message] \r\npd.DataFrame: obj should not have column of 'object' dtype\r\npd.Series: obj must be a pandas.Series, found <class 'pandas.core.frame.DataFrame'>\r\nnp.ndarray: obj must be a numpy.ndarray, found <class 'pandas.core.frame.DataFrame'>\r\ndf-list: obj must be list of pd.DataFrame, found <class 'pandas.core.frame.DataFrame'>\r\nnumpy3D: obj must be a numpy.ndarray, found <class 'pandas.core.frame.DataFrame'>\r\npd-multiindex: obj have a MultiIndex, found <class 'pandas.core.indexes.range.RangeIndex'>\r\nnested_univ: obj entries must be pd.Series\r\npd_multiindex_hier: obj must have a MultiIndex, found <class 'pandas.core.indexes.range.RangeIndex'>\r\nalignment: obj index columns must be named 'ind0', 'ind1', ... 'ind6'\r\npd_DataFrame_Table: obj should not have column of 'object' dtype\r\npd_Series_Table: obj must be a pandas.Series, found <class 'pandas.core.frame.DataFrame'>\r\nnumpy1D: obj must be a numpy.ndarray, found <class 'pandas.core.frame.DataFrame'>\r\nnumpy2D: obj must be a numpy.ndarray, found <class 'pandas.core.frame.DataFrame'>\r\nlist_of_dict: obj must be a list of dict, found <class 'pandas.core.frame.DataFrame'>\r\npred_quantiles: obj should only have numeric dtype columns\r\npred_interval: obj should only have numeric dtype columns\r\n"
     ]
    }
   ],
   "source": [
    "from sktime.datatypes import mtype,scitype,mtype_to_scitype\n",
    "mtype(df)"
   ]
  },
  {
   "cell_type": "code",
   "execution_count": 297,
   "id": "6bc824cf",
   "metadata": {},
   "outputs": [],
   "source": [
    "df1=  pd.DataFrame({'NDVI':df['NDVI'],'NDBI':df['NDBI'],'IBI':df['IBI'],'UI':df['UI'],'label':df['label']})"
   ]
  },
  {
   "cell_type": "code",
   "execution_count": 403,
   "id": "4e44b49a",
   "metadata": {
    "scrolled": true
   },
   "outputs": [
    {
     "ename": "TypeError",
     "evalue": "Error in check_is_mtype, more than one mtype identified: ['pd.DataFrame', 'pd_DataFrame_Table']",
     "output_type": "error",
     "traceback": [
      "\u001b[1;31m---------------------------------------------------------------------------\u001b[0m",
      "\u001b[1;31mTypeError\u001b[0m                                 Traceback (most recent call last)",
      "\u001b[1;32m~\\AppData\\Local\\Temp/ipykernel_23780/3371092522.py\u001b[0m in \u001b[0;36m<module>\u001b[1;34m\u001b[0m\n\u001b[0;32m      1\u001b[0m \u001b[1;32mfrom\u001b[0m \u001b[0msktime\u001b[0m\u001b[1;33m.\u001b[0m\u001b[0mdatatypes\u001b[0m \u001b[1;32mimport\u001b[0m \u001b[0mcheck_raise\u001b[0m\u001b[1;33m\u001b[0m\u001b[1;33m\u001b[0m\u001b[0m\n\u001b[1;32m----> 2\u001b[1;33m \u001b[0mmtype\u001b[0m\u001b[1;33m(\u001b[0m\u001b[0mdf1\u001b[0m\u001b[1;33m)\u001b[0m\u001b[1;33m\u001b[0m\u001b[1;33m\u001b[0m\u001b[0m\n\u001b[0m",
      "\u001b[1;32m~\\anaconda3\\envs\\ml\\lib\\site-packages\\sktime\\datatypes\\_check.py\u001b[0m in \u001b[0;36mmtype\u001b[1;34m(obj, as_scitype, exclude_mtypes)\u001b[0m\n\u001b[0;32m    318\u001b[0m \u001b[1;33m\u001b[0m\u001b[0m\n\u001b[0;32m    319\u001b[0m     \u001b[1;32mif\u001b[0m \u001b[0mlen\u001b[0m\u001b[1;33m(\u001b[0m\u001b[0mmtypes_positive\u001b[0m\u001b[1;33m)\u001b[0m \u001b[1;33m>\u001b[0m \u001b[1;36m1\u001b[0m\u001b[1;33m:\u001b[0m\u001b[1;33m\u001b[0m\u001b[1;33m\u001b[0m\u001b[0m\n\u001b[1;32m--> 320\u001b[1;33m         raise TypeError(\n\u001b[0m\u001b[0;32m    321\u001b[0m             \u001b[1;34mf\"Error in check_is_mtype, more than one mtype identified:\"\u001b[0m\u001b[1;33m\u001b[0m\u001b[1;33m\u001b[0m\u001b[0m\n\u001b[0;32m    322\u001b[0m             \u001b[1;34mf\" {mtypes_positive}\"\u001b[0m\u001b[1;33m\u001b[0m\u001b[1;33m\u001b[0m\u001b[0m\n",
      "\u001b[1;31mTypeError\u001b[0m: Error in check_is_mtype, more than one mtype identified: ['pd.DataFrame', 'pd_DataFrame_Table']"
     ]
    }
   ],
   "source": [
    "from sktime.datatypes import check_raise\n",
    "mtype(df1)\n"
   ]
  },
  {
   "cell_type": "code",
   "execution_count": 245,
   "id": "e58e11a3",
   "metadata": {
    "scrolled": true
   },
   "outputs": [
    {
     "ename": "TypeError",
     "evalue": "X must be in an sktime compatible format, of scitype Series, Panel or Hierarchical, for instance a pandas.DataFrame with sktime compatible time indices, or with MultiIndex and lowest level a sktime compatible time index. allowed compatible mtype format specifications are: ['pd.Series', 'pd.DataFrame', 'np.ndarray', 'nested_univ', 'numpy3D', 'pd-multiindex', 'df-list', 'pd_multiindex_hier'] See the data format tutorial examples/AA_datatypes_and_datasets.ipynb",
     "output_type": "error",
     "traceback": [
      "\u001b[1;31m---------------------------------------------------------------------------\u001b[0m",
      "\u001b[1;31mTypeError\u001b[0m                                 Traceback (most recent call last)",
      "\u001b[1;32m~\\AppData\\Local\\Temp/ipykernel_23780/337745438.py\u001b[0m in \u001b[0;36m<module>\u001b[1;34m\u001b[0m\n\u001b[0;32m      1\u001b[0m \u001b[0msteps\u001b[0m \u001b[1;33m=\u001b[0m \u001b[1;33m[\u001b[0m\u001b[1;33m(\u001b[0m\u001b[1;34m'concatenate'\u001b[0m\u001b[1;33m,\u001b[0m \u001b[0mColumnConcatenator\u001b[0m\u001b[1;33m(\u001b[0m\u001b[1;33m)\u001b[0m\u001b[1;33m)\u001b[0m\u001b[1;33m,\u001b[0m\u001b[1;33m(\u001b[0m\u001b[1;34m'classify'\u001b[0m\u001b[1;33m,\u001b[0m \u001b[0mTimeSeriesForestClassifier\u001b[0m\u001b[1;33m(\u001b[0m\u001b[0mn_estimators\u001b[0m\u001b[1;33m=\u001b[0m\u001b[1;36m100\u001b[0m\u001b[1;33m)\u001b[0m\u001b[1;33m)\u001b[0m\u001b[1;33m]\u001b[0m\u001b[1;33m\u001b[0m\u001b[1;33m\u001b[0m\u001b[0m\n\u001b[0;32m      2\u001b[0m \u001b[0mclf\u001b[0m \u001b[1;33m=\u001b[0m \u001b[0mPipeline\u001b[0m\u001b[1;33m(\u001b[0m\u001b[0msteps\u001b[0m\u001b[1;33m)\u001b[0m\u001b[1;33m\u001b[0m\u001b[1;33m\u001b[0m\u001b[0m\n\u001b[1;32m----> 3\u001b[1;33m \u001b[0mclf\u001b[0m\u001b[1;33m.\u001b[0m\u001b[0mfit\u001b[0m\u001b[1;33m(\u001b[0m\u001b[0mX_train\u001b[0m\u001b[1;33m,\u001b[0m \u001b[0my_train\u001b[0m\u001b[1;33m)\u001b[0m\u001b[1;33m\u001b[0m\u001b[1;33m\u001b[0m\u001b[0m\n\u001b[0m\u001b[0;32m      4\u001b[0m \u001b[0mclf\u001b[0m\u001b[1;33m.\u001b[0m\u001b[0mscore\u001b[0m\u001b[1;33m(\u001b[0m\u001b[0mX_test\u001b[0m\u001b[1;33m,\u001b[0m \u001b[0my_test\u001b[0m\u001b[1;33m)\u001b[0m\u001b[1;33m\u001b[0m\u001b[1;33m\u001b[0m\u001b[0m\n",
      "\u001b[1;32m~\\AppData\\Roaming\\Python\\Python39\\site-packages\\sklearn\\pipeline.py\u001b[0m in \u001b[0;36mfit\u001b[1;34m(self, X, y, **fit_params)\u001b[0m\n\u001b[0;32m    339\u001b[0m         \"\"\"\n\u001b[0;32m    340\u001b[0m         \u001b[0mfit_params_steps\u001b[0m \u001b[1;33m=\u001b[0m \u001b[0mself\u001b[0m\u001b[1;33m.\u001b[0m\u001b[0m_check_fit_params\u001b[0m\u001b[1;33m(\u001b[0m\u001b[1;33m**\u001b[0m\u001b[0mfit_params\u001b[0m\u001b[1;33m)\u001b[0m\u001b[1;33m\u001b[0m\u001b[1;33m\u001b[0m\u001b[0m\n\u001b[1;32m--> 341\u001b[1;33m         \u001b[0mXt\u001b[0m \u001b[1;33m=\u001b[0m \u001b[0mself\u001b[0m\u001b[1;33m.\u001b[0m\u001b[0m_fit\u001b[0m\u001b[1;33m(\u001b[0m\u001b[0mX\u001b[0m\u001b[1;33m,\u001b[0m \u001b[0my\u001b[0m\u001b[1;33m,\u001b[0m \u001b[1;33m**\u001b[0m\u001b[0mfit_params_steps\u001b[0m\u001b[1;33m)\u001b[0m\u001b[1;33m\u001b[0m\u001b[1;33m\u001b[0m\u001b[0m\n\u001b[0m\u001b[0;32m    342\u001b[0m         with _print_elapsed_time('Pipeline',\n\u001b[0;32m    343\u001b[0m                                  self._log_message(len(self.steps) - 1)):\n",
      "\u001b[1;32m~\\AppData\\Roaming\\Python\\Python39\\site-packages\\sklearn\\pipeline.py\u001b[0m in \u001b[0;36m_fit\u001b[1;34m(self, X, y, **fit_params_steps)\u001b[0m\n\u001b[0;32m    301\u001b[0m                 \u001b[0mcloned_transformer\u001b[0m \u001b[1;33m=\u001b[0m \u001b[0mclone\u001b[0m\u001b[1;33m(\u001b[0m\u001b[0mtransformer\u001b[0m\u001b[1;33m)\u001b[0m\u001b[1;33m\u001b[0m\u001b[1;33m\u001b[0m\u001b[0m\n\u001b[0;32m    302\u001b[0m             \u001b[1;31m# Fit or load from cache the current transformer\u001b[0m\u001b[1;33m\u001b[0m\u001b[1;33m\u001b[0m\u001b[1;33m\u001b[0m\u001b[0m\n\u001b[1;32m--> 303\u001b[1;33m             X, fitted_transformer = fit_transform_one_cached(\n\u001b[0m\u001b[0;32m    304\u001b[0m                 \u001b[0mcloned_transformer\u001b[0m\u001b[1;33m,\u001b[0m \u001b[0mX\u001b[0m\u001b[1;33m,\u001b[0m \u001b[0my\u001b[0m\u001b[1;33m,\u001b[0m \u001b[1;32mNone\u001b[0m\u001b[1;33m,\u001b[0m\u001b[1;33m\u001b[0m\u001b[1;33m\u001b[0m\u001b[0m\n\u001b[0;32m    305\u001b[0m                 \u001b[0mmessage_clsname\u001b[0m\u001b[1;33m=\u001b[0m\u001b[1;34m'Pipeline'\u001b[0m\u001b[1;33m,\u001b[0m\u001b[1;33m\u001b[0m\u001b[1;33m\u001b[0m\u001b[0m\n",
      "\u001b[1;32m~\\AppData\\Roaming\\Python\\Python39\\site-packages\\joblib\\memory.py\u001b[0m in \u001b[0;36m__call__\u001b[1;34m(self, *args, **kwargs)\u001b[0m\n\u001b[0;32m    350\u001b[0m \u001b[1;33m\u001b[0m\u001b[0m\n\u001b[0;32m    351\u001b[0m     \u001b[1;32mdef\u001b[0m \u001b[0m__call__\u001b[0m\u001b[1;33m(\u001b[0m\u001b[0mself\u001b[0m\u001b[1;33m,\u001b[0m \u001b[1;33m*\u001b[0m\u001b[0margs\u001b[0m\u001b[1;33m,\u001b[0m \u001b[1;33m**\u001b[0m\u001b[0mkwargs\u001b[0m\u001b[1;33m)\u001b[0m\u001b[1;33m:\u001b[0m\u001b[1;33m\u001b[0m\u001b[1;33m\u001b[0m\u001b[0m\n\u001b[1;32m--> 352\u001b[1;33m         \u001b[1;32mreturn\u001b[0m \u001b[0mself\u001b[0m\u001b[1;33m.\u001b[0m\u001b[0mfunc\u001b[0m\u001b[1;33m(\u001b[0m\u001b[1;33m*\u001b[0m\u001b[0margs\u001b[0m\u001b[1;33m,\u001b[0m \u001b[1;33m**\u001b[0m\u001b[0mkwargs\u001b[0m\u001b[1;33m)\u001b[0m\u001b[1;33m\u001b[0m\u001b[1;33m\u001b[0m\u001b[0m\n\u001b[0m\u001b[0;32m    353\u001b[0m \u001b[1;33m\u001b[0m\u001b[0m\n\u001b[0;32m    354\u001b[0m     \u001b[1;32mdef\u001b[0m \u001b[0mcall_and_shelve\u001b[0m\u001b[1;33m(\u001b[0m\u001b[0mself\u001b[0m\u001b[1;33m,\u001b[0m \u001b[1;33m*\u001b[0m\u001b[0margs\u001b[0m\u001b[1;33m,\u001b[0m \u001b[1;33m**\u001b[0m\u001b[0mkwargs\u001b[0m\u001b[1;33m)\u001b[0m\u001b[1;33m:\u001b[0m\u001b[1;33m\u001b[0m\u001b[1;33m\u001b[0m\u001b[0m\n",
      "\u001b[1;32m~\\AppData\\Roaming\\Python\\Python39\\site-packages\\sklearn\\pipeline.py\u001b[0m in \u001b[0;36m_fit_transform_one\u001b[1;34m(transformer, X, y, weight, message_clsname, message, **fit_params)\u001b[0m\n\u001b[0;32m    752\u001b[0m     \u001b[1;32mwith\u001b[0m \u001b[0m_print_elapsed_time\u001b[0m\u001b[1;33m(\u001b[0m\u001b[0mmessage_clsname\u001b[0m\u001b[1;33m,\u001b[0m \u001b[0mmessage\u001b[0m\u001b[1;33m)\u001b[0m\u001b[1;33m:\u001b[0m\u001b[1;33m\u001b[0m\u001b[1;33m\u001b[0m\u001b[0m\n\u001b[0;32m    753\u001b[0m         \u001b[1;32mif\u001b[0m \u001b[0mhasattr\u001b[0m\u001b[1;33m(\u001b[0m\u001b[0mtransformer\u001b[0m\u001b[1;33m,\u001b[0m \u001b[1;34m'fit_transform'\u001b[0m\u001b[1;33m)\u001b[0m\u001b[1;33m:\u001b[0m\u001b[1;33m\u001b[0m\u001b[1;33m\u001b[0m\u001b[0m\n\u001b[1;32m--> 754\u001b[1;33m             \u001b[0mres\u001b[0m \u001b[1;33m=\u001b[0m \u001b[0mtransformer\u001b[0m\u001b[1;33m.\u001b[0m\u001b[0mfit_transform\u001b[0m\u001b[1;33m(\u001b[0m\u001b[0mX\u001b[0m\u001b[1;33m,\u001b[0m \u001b[0my\u001b[0m\u001b[1;33m,\u001b[0m \u001b[1;33m**\u001b[0m\u001b[0mfit_params\u001b[0m\u001b[1;33m)\u001b[0m\u001b[1;33m\u001b[0m\u001b[1;33m\u001b[0m\u001b[0m\n\u001b[0m\u001b[0;32m    755\u001b[0m         \u001b[1;32melse\u001b[0m\u001b[1;33m:\u001b[0m\u001b[1;33m\u001b[0m\u001b[1;33m\u001b[0m\u001b[0m\n\u001b[0;32m    756\u001b[0m             \u001b[0mres\u001b[0m \u001b[1;33m=\u001b[0m \u001b[0mtransformer\u001b[0m\u001b[1;33m.\u001b[0m\u001b[0mfit\u001b[0m\u001b[1;33m(\u001b[0m\u001b[0mX\u001b[0m\u001b[1;33m,\u001b[0m \u001b[0my\u001b[0m\u001b[1;33m,\u001b[0m \u001b[1;33m**\u001b[0m\u001b[0mfit_params\u001b[0m\u001b[1;33m)\u001b[0m\u001b[1;33m.\u001b[0m\u001b[0mtransform\u001b[0m\u001b[1;33m(\u001b[0m\u001b[0mX\u001b[0m\u001b[1;33m)\u001b[0m\u001b[1;33m\u001b[0m\u001b[1;33m\u001b[0m\u001b[0m\n",
      "\u001b[1;32m~\\anaconda3\\envs\\ml\\lib\\site-packages\\sktime\\transformations\\base.py\u001b[0m in \u001b[0;36mfit_transform\u001b[1;34m(self, X, y)\u001b[0m\n\u001b[0;32m    432\u001b[0m         \u001b[1;31m# Non-optimized default implementation; override when a better\u001b[0m\u001b[1;33m\u001b[0m\u001b[1;33m\u001b[0m\u001b[1;33m\u001b[0m\u001b[0m\n\u001b[0;32m    433\u001b[0m         \u001b[1;31m# method is possible for a given algorithm.\u001b[0m\u001b[1;33m\u001b[0m\u001b[1;33m\u001b[0m\u001b[1;33m\u001b[0m\u001b[0m\n\u001b[1;32m--> 434\u001b[1;33m         \u001b[1;32mreturn\u001b[0m \u001b[0mself\u001b[0m\u001b[1;33m.\u001b[0m\u001b[0mfit\u001b[0m\u001b[1;33m(\u001b[0m\u001b[0mX\u001b[0m\u001b[1;33m,\u001b[0m \u001b[0my\u001b[0m\u001b[1;33m)\u001b[0m\u001b[1;33m.\u001b[0m\u001b[0mtransform\u001b[0m\u001b[1;33m(\u001b[0m\u001b[0mX\u001b[0m\u001b[1;33m,\u001b[0m \u001b[0my\u001b[0m\u001b[1;33m)\u001b[0m\u001b[1;33m\u001b[0m\u001b[1;33m\u001b[0m\u001b[0m\n\u001b[0m\u001b[0;32m    435\u001b[0m \u001b[1;33m\u001b[0m\u001b[0m\n\u001b[0;32m    436\u001b[0m     \u001b[1;32mdef\u001b[0m \u001b[0minverse_transform\u001b[0m\u001b[1;33m(\u001b[0m\u001b[0mself\u001b[0m\u001b[1;33m,\u001b[0m \u001b[0mX\u001b[0m\u001b[1;33m,\u001b[0m \u001b[0my\u001b[0m\u001b[1;33m=\u001b[0m\u001b[1;32mNone\u001b[0m\u001b[1;33m)\u001b[0m\u001b[1;33m:\u001b[0m\u001b[1;33m\u001b[0m\u001b[1;33m\u001b[0m\u001b[0m\n",
      "\u001b[1;32m~\\anaconda3\\envs\\ml\\lib\\site-packages\\sktime\\transformations\\base.py\u001b[0m in \u001b[0;36mtransform\u001b[1;34m(self, X, y)\u001b[0m\n\u001b[0;32m    364\u001b[0m \u001b[1;33m\u001b[0m\u001b[0m\n\u001b[0;32m    365\u001b[0m         \u001b[1;31m# input check and conversion for X/y\u001b[0m\u001b[1;33m\u001b[0m\u001b[1;33m\u001b[0m\u001b[1;33m\u001b[0m\u001b[0m\n\u001b[1;32m--> 366\u001b[1;33m         \u001b[0mX_inner\u001b[0m\u001b[1;33m,\u001b[0m \u001b[0my_inner\u001b[0m\u001b[1;33m,\u001b[0m \u001b[0mmetadata\u001b[0m \u001b[1;33m=\u001b[0m \u001b[0mself\u001b[0m\u001b[1;33m.\u001b[0m\u001b[0m_check_X_y\u001b[0m\u001b[1;33m(\u001b[0m\u001b[0mX\u001b[0m\u001b[1;33m=\u001b[0m\u001b[0mX\u001b[0m\u001b[1;33m,\u001b[0m \u001b[0my\u001b[0m\u001b[1;33m=\u001b[0m\u001b[0my\u001b[0m\u001b[1;33m,\u001b[0m \u001b[0mreturn_metadata\u001b[0m\u001b[1;33m=\u001b[0m\u001b[1;32mTrue\u001b[0m\u001b[1;33m)\u001b[0m\u001b[1;33m\u001b[0m\u001b[1;33m\u001b[0m\u001b[0m\n\u001b[0m\u001b[0;32m    367\u001b[0m \u001b[1;33m\u001b[0m\u001b[0m\n\u001b[0;32m    368\u001b[0m         \u001b[1;32mif\u001b[0m \u001b[1;32mnot\u001b[0m \u001b[0misinstance\u001b[0m\u001b[1;33m(\u001b[0m\u001b[0mX_inner\u001b[0m\u001b[1;33m,\u001b[0m \u001b[0mVectorizedDF\u001b[0m\u001b[1;33m)\u001b[0m\u001b[1;33m:\u001b[0m\u001b[1;33m\u001b[0m\u001b[1;33m\u001b[0m\u001b[0m\n",
      "\u001b[1;32m~\\anaconda3\\envs\\ml\\lib\\site-packages\\sktime\\transformations\\base.py\u001b[0m in \u001b[0;36m_check_X_y\u001b[1;34m(self, X, y, return_metadata)\u001b[0m\n\u001b[0;32m    654\u001b[0m         )\n\u001b[0;32m    655\u001b[0m         \u001b[1;32mif\u001b[0m \u001b[1;32mnot\u001b[0m \u001b[0mX_valid\u001b[0m\u001b[1;33m:\u001b[0m\u001b[1;33m\u001b[0m\u001b[1;33m\u001b[0m\u001b[0m\n\u001b[1;32m--> 656\u001b[1;33m             \u001b[1;32mraise\u001b[0m \u001b[0mTypeError\u001b[0m\u001b[1;33m(\u001b[0m\u001b[1;34m\"X \"\u001b[0m \u001b[1;33m+\u001b[0m \u001b[0mmsg_invalid_input\u001b[0m\u001b[1;33m)\u001b[0m\u001b[1;33m\u001b[0m\u001b[1;33m\u001b[0m\u001b[0m\n\u001b[0m\u001b[0;32m    657\u001b[0m \u001b[1;33m\u001b[0m\u001b[0m\n\u001b[0;32m    658\u001b[0m         \u001b[0mX_scitype\u001b[0m \u001b[1;33m=\u001b[0m \u001b[0mX_metadata\u001b[0m\u001b[1;33m[\u001b[0m\u001b[1;34m\"scitype\"\u001b[0m\u001b[1;33m]\u001b[0m\u001b[1;33m\u001b[0m\u001b[1;33m\u001b[0m\u001b[0m\n",
      "\u001b[1;31mTypeError\u001b[0m: X must be in an sktime compatible format, of scitype Series, Panel or Hierarchical, for instance a pandas.DataFrame with sktime compatible time indices, or with MultiIndex and lowest level a sktime compatible time index. allowed compatible mtype format specifications are: ['pd.Series', 'pd.DataFrame', 'np.ndarray', 'nested_univ', 'numpy3D', 'pd-multiindex', 'df-list', 'pd_multiindex_hier'] See the data format tutorial examples/AA_datatypes_and_datasets.ipynb"
     ]
    }
   ],
   "source": [
    "steps = [('concatenate', ColumnConcatenator()),('classify', TimeSeriesForestClassifier(n_estimators=100))]\n",
    "clf = Pipeline(steps)\n",
    "clf.fit(X_train, y_train)\n",
    "clf.score(X_test, y_test)"
   ]
  },
  {
   "cell_type": "code",
   "execution_count": 148,
   "id": "e971fdc4",
   "metadata": {},
   "outputs": [],
   "source": [
    "from sktime.classification.interval_based import CanonicalIntervalForest\n",
    "from sktime.classification.dictionary_based import BOSSEnsemble\n",
    "from sktime.classification.compose import ColumnEnsembleClassifier"
   ]
  },
  {
   "cell_type": "code",
   "execution_count": 156,
   "id": "b2bbbe82",
   "metadata": {},
   "outputs": [
    {
     "ename": "IndexError",
     "evalue": "index 5 is out of bounds for axis 0 with size 1",
     "output_type": "error",
     "traceback": [
      "\u001b[1;31m---------------------------------------------------------------------------\u001b[0m",
      "\u001b[1;31mIndexError\u001b[0m                                Traceback (most recent call last)",
      "\u001b[1;32m~\\AppData\\Local\\Temp/ipykernel_23780/2798583563.py\u001b[0m in \u001b[0;36m<module>\u001b[1;34m\u001b[0m\n\u001b[0;32m      4\u001b[0m ])#estimators = [(\"cBOSS\", cboss, 5), (\"CIF\", cif, )]\n\u001b[0;32m      5\u001b[0m \u001b[1;33m\u001b[0m\u001b[0m\n\u001b[1;32m----> 6\u001b[1;33m \u001b[0mclf\u001b[0m\u001b[1;33m.\u001b[0m\u001b[0mfit\u001b[0m\u001b[1;33m(\u001b[0m\u001b[0mX_train\u001b[0m\u001b[1;33m,\u001b[0m \u001b[0my_train\u001b[0m\u001b[1;33m)\u001b[0m\u001b[1;33m\u001b[0m\u001b[1;33m\u001b[0m\u001b[0m\n\u001b[0m\u001b[0;32m      7\u001b[0m \u001b[0mclf\u001b[0m\u001b[1;33m.\u001b[0m\u001b[0mscore\u001b[0m\u001b[1;33m(\u001b[0m\u001b[0mX_test\u001b[0m\u001b[1;33m,\u001b[0m \u001b[0my_test\u001b[0m\u001b[1;33m)\u001b[0m\u001b[1;33m\u001b[0m\u001b[1;33m\u001b[0m\u001b[0m\n",
      "\u001b[1;32m~\\anaconda3\\envs\\ml\\lib\\site-packages\\sktime\\classification\\base.py\u001b[0m in \u001b[0;36mfit\u001b[1;34m(self, X, y)\u001b[0m\n\u001b[0;32m    168\u001b[0m         \u001b[1;32mfor\u001b[0m \u001b[0mindex\u001b[0m\u001b[1;33m,\u001b[0m \u001b[0mclass_val\u001b[0m \u001b[1;32min\u001b[0m \u001b[0menumerate\u001b[0m\u001b[1;33m(\u001b[0m\u001b[0mself\u001b[0m\u001b[1;33m.\u001b[0m\u001b[0mclasses_\u001b[0m\u001b[1;33m)\u001b[0m\u001b[1;33m:\u001b[0m\u001b[1;33m\u001b[0m\u001b[1;33m\u001b[0m\u001b[0m\n\u001b[0;32m    169\u001b[0m             \u001b[0mself\u001b[0m\u001b[1;33m.\u001b[0m\u001b[0m_class_dictionary\u001b[0m\u001b[1;33m[\u001b[0m\u001b[0mclass_val\u001b[0m\u001b[1;33m]\u001b[0m \u001b[1;33m=\u001b[0m \u001b[0mindex\u001b[0m\u001b[1;33m\u001b[0m\u001b[1;33m\u001b[0m\u001b[0m\n\u001b[1;32m--> 170\u001b[1;33m         \u001b[0mself\u001b[0m\u001b[1;33m.\u001b[0m\u001b[0m_fit\u001b[0m\u001b[1;33m(\u001b[0m\u001b[0mX\u001b[0m\u001b[1;33m,\u001b[0m \u001b[0my\u001b[0m\u001b[1;33m)\u001b[0m\u001b[1;33m\u001b[0m\u001b[1;33m\u001b[0m\u001b[0m\n\u001b[0m\u001b[0;32m    171\u001b[0m         \u001b[0mself\u001b[0m\u001b[1;33m.\u001b[0m\u001b[0mfit_time_\u001b[0m \u001b[1;33m=\u001b[0m \u001b[0mint\u001b[0m\u001b[1;33m(\u001b[0m\u001b[0mround\u001b[0m\u001b[1;33m(\u001b[0m\u001b[0mtime\u001b[0m\u001b[1;33m.\u001b[0m\u001b[0mtime\u001b[0m\u001b[1;33m(\u001b[0m\u001b[1;33m)\u001b[0m \u001b[1;33m*\u001b[0m \u001b[1;36m1000\u001b[0m\u001b[1;33m)\u001b[0m\u001b[1;33m)\u001b[0m \u001b[1;33m-\u001b[0m \u001b[0mstart\u001b[0m\u001b[1;33m\u001b[0m\u001b[1;33m\u001b[0m\u001b[0m\n\u001b[0;32m    172\u001b[0m         \u001b[1;31m# this should happen last\u001b[0m\u001b[1;33m\u001b[0m\u001b[1;33m\u001b[0m\u001b[1;33m\u001b[0m\u001b[0m\n",
      "\u001b[1;32m~\\anaconda3\\envs\\ml\\lib\\site-packages\\sktime\\classification\\compose\\_column_ensemble.py\u001b[0m in \u001b[0;36m_fit\u001b[1;34m(self, X, y)\u001b[0m\n\u001b[0;32m    153\u001b[0m         \u001b[0mself\u001b[0m\u001b[1;33m.\u001b[0m\u001b[0m_validate_estimators\u001b[0m\u001b[1;33m(\u001b[0m\u001b[1;33m)\u001b[0m\u001b[1;33m\u001b[0m\u001b[1;33m\u001b[0m\u001b[0m\n\u001b[0;32m    154\u001b[0m         \u001b[0mself\u001b[0m\u001b[1;33m.\u001b[0m\u001b[0m_validate_column_callables\u001b[0m\u001b[1;33m(\u001b[0m\u001b[0mX\u001b[0m\u001b[1;33m)\u001b[0m\u001b[1;33m\u001b[0m\u001b[1;33m\u001b[0m\u001b[0m\n\u001b[1;32m--> 155\u001b[1;33m         \u001b[0mself\u001b[0m\u001b[1;33m.\u001b[0m\u001b[0m_validate_remainder\u001b[0m\u001b[1;33m(\u001b[0m\u001b[0mX\u001b[0m\u001b[1;33m)\u001b[0m\u001b[1;33m\u001b[0m\u001b[1;33m\u001b[0m\u001b[0m\n\u001b[0m\u001b[0;32m    156\u001b[0m \u001b[1;33m\u001b[0m\u001b[0m\n\u001b[0;32m    157\u001b[0m         \u001b[0mself\u001b[0m\u001b[1;33m.\u001b[0m\u001b[0mle_\u001b[0m \u001b[1;33m=\u001b[0m \u001b[0mLabelEncoder\u001b[0m\u001b[1;33m(\u001b[0m\u001b[1;33m)\u001b[0m\u001b[1;33m.\u001b[0m\u001b[0mfit\u001b[0m\u001b[1;33m(\u001b[0m\u001b[0my\u001b[0m\u001b[1;33m)\u001b[0m\u001b[1;33m\u001b[0m\u001b[1;33m\u001b[0m\u001b[0m\n",
      "\u001b[1;32m~\\anaconda3\\envs\\ml\\lib\\site-packages\\sktime\\classification\\compose\\_column_ensemble.py\u001b[0m in \u001b[0;36m_validate_remainder\u001b[1;34m(self, X)\u001b[0m\n\u001b[0;32m     93\u001b[0m         \u001b[0mcols\u001b[0m \u001b[1;33m=\u001b[0m \u001b[1;33m[\u001b[0m\u001b[1;33m]\u001b[0m\u001b[1;33m\u001b[0m\u001b[1;33m\u001b[0m\u001b[0m\n\u001b[0;32m     94\u001b[0m         \u001b[1;32mfor\u001b[0m \u001b[0mcolumns\u001b[0m \u001b[1;32min\u001b[0m \u001b[0mself\u001b[0m\u001b[1;33m.\u001b[0m\u001b[0m_columns\u001b[0m\u001b[1;33m:\u001b[0m\u001b[1;33m\u001b[0m\u001b[1;33m\u001b[0m\u001b[0m\n\u001b[1;32m---> 95\u001b[1;33m             \u001b[0mcols\u001b[0m\u001b[1;33m.\u001b[0m\u001b[0mextend\u001b[0m\u001b[1;33m(\u001b[0m\u001b[0m_get_column_indices\u001b[0m\u001b[1;33m(\u001b[0m\u001b[0mX\u001b[0m\u001b[1;33m,\u001b[0m \u001b[0mcolumns\u001b[0m\u001b[1;33m)\u001b[0m\u001b[1;33m)\u001b[0m\u001b[1;33m\u001b[0m\u001b[1;33m\u001b[0m\u001b[0m\n\u001b[0m\u001b[0;32m     96\u001b[0m         \u001b[0mremaining_idx\u001b[0m \u001b[1;33m=\u001b[0m \u001b[0msorted\u001b[0m\u001b[1;33m(\u001b[0m\u001b[0mlist\u001b[0m\u001b[1;33m(\u001b[0m\u001b[0mset\u001b[0m\u001b[1;33m(\u001b[0m\u001b[0mrange\u001b[0m\u001b[1;33m(\u001b[0m\u001b[0mn_columns\u001b[0m\u001b[1;33m)\u001b[0m\u001b[1;33m)\u001b[0m \u001b[1;33m-\u001b[0m \u001b[0mset\u001b[0m\u001b[1;33m(\u001b[0m\u001b[0mcols\u001b[0m\u001b[1;33m)\u001b[0m\u001b[1;33m)\u001b[0m\u001b[1;33m)\u001b[0m \u001b[1;32mor\u001b[0m \u001b[1;32mNone\u001b[0m\u001b[1;33m\u001b[0m\u001b[1;33m\u001b[0m\u001b[0m\n\u001b[0;32m     97\u001b[0m \u001b[1;33m\u001b[0m\u001b[0m\n",
      "\u001b[1;32m~\\anaconda3\\envs\\ml\\lib\\site-packages\\sktime\\classification\\compose\\_column_ensemble.py\u001b[0m in \u001b[0;36m_get_column_indices\u001b[1;34m(X, key)\u001b[0m\n\u001b[0;32m    426\u001b[0m     ):\n\u001b[0;32m    427\u001b[0m         \u001b[1;31m# Convert key into positive indexes\u001b[0m\u001b[1;33m\u001b[0m\u001b[1;33m\u001b[0m\u001b[1;33m\u001b[0m\u001b[0m\n\u001b[1;32m--> 428\u001b[1;33m         \u001b[0midx\u001b[0m \u001b[1;33m=\u001b[0m \u001b[0mnp\u001b[0m\u001b[1;33m.\u001b[0m\u001b[0marange\u001b[0m\u001b[1;33m(\u001b[0m\u001b[0mn_columns\u001b[0m\u001b[1;33m)\u001b[0m\u001b[1;33m[\u001b[0m\u001b[0mkey\u001b[0m\u001b[1;33m]\u001b[0m\u001b[1;33m\u001b[0m\u001b[1;33m\u001b[0m\u001b[0m\n\u001b[0m\u001b[0;32m    429\u001b[0m         \u001b[1;32mreturn\u001b[0m \u001b[0mnp\u001b[0m\u001b[1;33m.\u001b[0m\u001b[0matleast_1d\u001b[0m\u001b[1;33m(\u001b[0m\u001b[0midx\u001b[0m\u001b[1;33m)\u001b[0m\u001b[1;33m.\u001b[0m\u001b[0mtolist\u001b[0m\u001b[1;33m(\u001b[0m\u001b[1;33m)\u001b[0m\u001b[1;33m\u001b[0m\u001b[1;33m\u001b[0m\u001b[0m\n\u001b[0;32m    430\u001b[0m     \u001b[1;32melif\u001b[0m \u001b[0m_check_key_type\u001b[0m\u001b[1;33m(\u001b[0m\u001b[0mkey\u001b[0m\u001b[1;33m,\u001b[0m \u001b[0mstr\u001b[0m\u001b[1;33m)\u001b[0m\u001b[1;33m:\u001b[0m\u001b[1;33m\u001b[0m\u001b[1;33m\u001b[0m\u001b[0m\n",
      "\u001b[1;31mIndexError\u001b[0m: index 5 is out of bounds for axis 0 with size 1"
     ]
    }
   ],
   "source": [
    "clf = ColumnEnsembleClassifier(estimators=[\n",
    "    (\"TSF0\", TimeSeriesForestClassifier(n_estimators=100), 5),\n",
    "    (\"BOSSEnsemble3\", BOSSEnsemble(max_ensemble_size=5), [3, 4]),\n",
    "])#estimators = [(\"cBOSS\", cboss, 5), (\"CIF\", cif, )]\n",
    "\n",
    "clf.fit(X_train, y_train)\n",
    "clf.score(X_test, y_test)"
   ]
  },
  {
   "cell_type": "code",
   "execution_count": null,
   "id": "653f9ca8",
   "metadata": {},
   "outputs": [],
   "source": [
    "clf = MrSEQLClassifier()\n",
    "clf.fit(X_train, y_train)\n",
    "clf.score(X_test, y_test)"
   ]
  },
  {
   "cell_type": "code",
   "execution_count": 159,
   "id": "00e9de37",
   "metadata": {},
   "outputs": [],
   "source": [
    "X_train, y_train = load_basic_motions(split=\"train\")\n",
    "X_test, y_test = load_basic_motions(split=\"test\")\n",
    "cboss = ContractableBOSS(\n",
    "    n_parameter_samples=4, max_ensemble_size=2, random_state=0\n",
    ")\n",
    "cif = CanonicalIntervalForest(\n",
    "    n_estimators=2, n_intervals=4, att_subsample_size=4, random_state=0\n",
    ")\n",
    "estimators = [(\"cBOSS\", cboss, 5), (\"CIF\", cif, [3, 4])]\n",
    "col_ens = ColumnEnsembleClassifier(estimators=estimators)\n",
    "col_ens.fit(X_train, y_train)\n",
    "y_pred = col_ens.predict(X_test)"
   ]
  },
  {
   "cell_type": "code",
   "execution_count": 162,
   "id": "47b3bb29",
   "metadata": {},
   "outputs": [
    {
     "data": {
      "text/plain": [
       "1.0"
      ]
     },
     "execution_count": 162,
     "metadata": {},
     "output_type": "execute_result"
    }
   ],
   "source": [
    "col_ens.score(X_test, y_pred)"
   ]
  }
 ],
 "metadata": {
  "kernelspec": {
   "display_name": "Python 3 (ipykernel)",
   "language": "python",
   "name": "python3"
  },
  "language_info": {
   "codemirror_mode": {
    "name": "ipython",
    "version": 3
   },
   "file_extension": ".py",
   "mimetype": "text/x-python",
   "name": "python",
   "nbconvert_exporter": "python",
   "pygments_lexer": "ipython3",
   "version": "3.9.1"
  },
  "latex_envs": {
   "LaTeX_envs_menu_present": true,
   "autoclose": false,
   "autocomplete": true,
   "bibliofile": "biblio.bib",
   "cite_by": "apalike",
   "current_citInitial": 1,
   "eqLabelWithNumbers": true,
   "eqNumInitial": 1,
   "hotkeys": {
    "equation": "Ctrl-E",
    "itemize": "Ctrl-I"
   },
   "labels_anchors": false,
   "latex_user_defs": false,
   "report_style_numbering": false,
   "user_envs_cfg": false
  }
 },
 "nbformat": 4,
 "nbformat_minor": 5
}
