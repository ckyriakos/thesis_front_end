{
 "cells": [
  {
   "cell_type": "markdown",
   "id": "d2fc1038",
   "metadata": {},
   "source": [
    "This module presents an approach for assessing change in built-up land cover in Trikala and Volos,  Greece. "
   ]
  },
  {
   "cell_type": "code",
   "execution_count": 1,
   "id": "064956d3",
   "metadata": {},
   "outputs": [],
   "source": [
    "# reminder that if you are installing libraries in a Google Colab instance you will be prompted to restart your kernal\n",
    "\n",
    "try:\n",
    "    import geemap, ee\n",
    "except ModuleNotFoundError:\n",
    "    if 'google.colab' in str(get_ipython()):\n",
    "        print(\"package not found, installing w/ pip in Google Colab...\")\n",
    "        !pip install geemap\n",
    "    else:\n",
    "        print(\"package not found, installing w/ conda...\")\n",
    "        !conda install mamba -c conda-forge -y\n",
    "        !mamba install geemap -c conda-forge -y\n",
    "    import geemap, ee"
   ]
  },
  {
   "cell_type": "code",
   "execution_count": 2,
   "id": "91bf5c65",
   "metadata": {},
   "outputs": [],
   "source": [
    "try:\n",
    "        ee.Initialize()\n",
    "except Exception as e:\n",
    "        ee.Authenticate()\n",
    "        ee.Initialize()"
   ]
  },
  {
   "cell_type": "code",
   "execution_count": 3,
   "id": "85a79bb5",
   "metadata": {},
   "outputs": [],
   "source": [
    "magnisia = ee.FeatureCollection(\"FAO/GAUL/2015/level2\").filter(ee.Filter.eq('ADM2_NAME','Magnisias')).geometry()\n",
    "trikala = ee.FeatureCollection(\"FAO/GAUL/2015/level2\").filter(ee.Filter.eq('ADM2_NAME','Trikkaion')).geometry()\n"
   ]
  },
  {
   "cell_type": "code",
   "execution_count": 27,
   "id": "3e7ea280",
   "metadata": {},
   "outputs": [
    {
     "ename": "ModuleNotFoundError",
     "evalue": "No module named 'h3pandas'",
     "output_type": "error",
     "traceback": [
      "\u001b[1;31m---------------------------------------------------------------------------\u001b[0m",
      "\u001b[1;31mModuleNotFoundError\u001b[0m                       Traceback (most recent call last)",
      "\u001b[1;32m~\\AppData\\Local\\Temp/ipykernel_8400/1174049479.py\u001b[0m in \u001b[0;36m<module>\u001b[1;34m\u001b[0m\n\u001b[1;32m----> 1\u001b[1;33m \u001b[1;32mimport\u001b[0m \u001b[0mh3pandas\u001b[0m\u001b[1;33m\u001b[0m\u001b[1;33m\u001b[0m\u001b[0m\n\u001b[0m",
      "\u001b[1;31mModuleNotFoundError\u001b[0m: No module named 'h3pandas'"
     ]
    }
   ],
   "source": []
  },
  {
   "cell_type": "code",
   "execution_count": null,
   "id": "a8a89643",
   "metadata": {},
   "outputs": [],
   "source": []
  },
  {
   "cell_type": "code",
   "execution_count": 4,
   "id": "9dc77fbf",
   "metadata": {},
   "outputs": [
    {
     "data": {
      "application/vnd.jupyter.widget-view+json": {
       "model_id": "bf85d05bc5bd4341a88c606e8e340f53",
       "version_major": 2,
       "version_minor": 0
      },
      "text/plain": [
       "Map(center=[39.51314304598321, 22.211757970370197], controls=(WidgetControl(options=['position', 'transparent_…"
      ]
     },
     "metadata": {},
     "output_type": "display_data"
    }
   ],
   "source": [
    "\n",
    "\n",
    "# get our Nepal boundary\n",
    "thessalia = ee.FeatureCollection(\"FAO/GAUL/2015/level1\").filter(ee.Filter.eq('ADM1_NAME','Thessalia')).geometry()\n",
    "\n",
    "# Sentinel-2 image filtered on 2019 and on Nepal\n",
    "se2 = ee.ImageCollection('COPERNICUS/S2').filterDate(\"2021-01-01\",\"2022-01-01\").filterBounds(thessalia).median().divide(10000)\n",
    "\n",
    "rgb = ['B4','B3','B2']\n",
    "\n",
    "# set some thresholds\n",
    "rgbViz = {\"min\":0.0, \"max\":0.3,\"bands\":rgb}\n",
    "\n",
    "\n",
    "# initialize our map\n",
    "map1 = geemap.Map()\n",
    "map1.centerObject(thessalia, 7)\n",
    "map1.addLayer(se2.clip(thessalia), rgbViz, \"S2\")\n",
    "\n",
    "map1.addLayerControl()\n",
    "map1"
   ]
  },
  {
   "cell_type": "code",
   "execution_count": 5,
   "id": "b58b2469",
   "metadata": {},
   "outputs": [
    {
     "data": {
      "application/vnd.jupyter.widget-view+json": {
       "model_id": "5a2852249780481c9d54bbd275176c80",
       "version_major": 2,
       "version_minor": 0
      },
      "text/plain": [
       "Map(center=[39.249507776111805, 22.970044299390757], controls=(WidgetControl(options=['position', 'transparent…"
      ]
     },
     "metadata": {},
     "output_type": "display_data"
    }
   ],
   "source": [
    "\n",
    "\n",
    "# get our Nepal boundary\n",
    "\n",
    "# Sentinel-2 image filtered on 2019 and on Nepal\n",
    "se2 = ee.ImageCollection('COPERNICUS/S2').filterDate(\"2015-01-01\",\"2022-05-01\").filterBounds(magnisia).median().divide(10000)\n",
    "\n",
    "rgb = ['B4','B3','B2']\n",
    "\n",
    "# set some thresholds\n",
    "rgbViz = {\"min\":0.0, \"max\":0.3,\"bands\":rgb}\n",
    "\n",
    "\n",
    "# initialize our map\n",
    "map1 = geemap.Map()\n",
    "map1.centerObject(magnisia, 7)\n",
    "map1.addLayer(se2.clip(magnisia), rgbViz, \"S2\")\n",
    "\n",
    "map1.addLayerControl()\n",
    "map1"
   ]
  },
  {
   "cell_type": "markdown",
   "id": "6971b200",
   "metadata": {},
   "source": [
    "We can see a real color image of Magnisia. We reduced our Image Collection to an image representing the median of 2021 and it appears we’ve also captured some clouds around Kathmandu. We will make a cloud mask to clear the image up using Sentinel-2’s QA band. We’re modeling this (in Python) from the example used in GEE: https://developers.google.com/earth-engine/datasets/catalog/COPERNICUS_S2#bands"
   ]
  },
  {
   "cell_type": "code",
   "execution_count": 6,
   "id": "e8641fee",
   "metadata": {},
   "outputs": [
    {
     "data": {
      "application/vnd.jupyter.widget-view+json": {
       "model_id": "4d1f1af04aa149068a8a0ff227dfbfca",
       "version_major": 2,
       "version_minor": 0
      },
      "text/plain": [
       "Map(center=[39.249507776111805, 22.970044299390757], controls=(WidgetControl(options=['position', 'transparent…"
      ]
     },
     "metadata": {},
     "output_type": "display_data"
    }
   ],
   "source": [
    "def se2mask(image):\n",
    "    quality_band = image.select('QA60')\n",
    "    \n",
    "    # using the bit mask for clouds and cirrus clouds respectively\n",
    "    cloudmask = 1 << 10\n",
    "    cirrusmask = 1 << 11\n",
    "    \n",
    "    # we only want clear skies\n",
    "    mask = quality_band.bitwiseAnd(cloudmask).eq(0) and (quality_band.bitwiseAnd(cirrusmask).eq(0))\n",
    "    \n",
    "    # we'll divide by 10000 to make interpreting the reflectance values easier\n",
    "    return image.updateMask(mask).divide(10000)\n",
    "    \n",
    "se2 = ee.ImageCollection('COPERNICUS/S2').filterDate(\n",
    "    \"2021-01-01\",\"2022-01-01\").filterBounds(magnisia).filter(\n",
    "    ee.Filter.lt(\"CLOUDY_PIXEL_PERCENTAGE\",20)).map(se2mask).median()\n",
    "\n",
    "# initialize our map\n",
    "map2 = geemap.Map()\n",
    "map2.centerObject(magnisia, 7)\n",
    "map2.addLayer(se2.clip(magnisia), rgbViz, \"S2\")\n",
    "\n",
    "map2.addLayerControl()\n",
    "map2"
   ]
  },
  {
   "cell_type": "markdown",
   "id": "5beb2985",
   "metadata": {},
   "source": [
    "Next we'll integrate Sentinel-2 image data with VIIRS-DNB nighttime lights.\n",
    "\n"
   ]
  },
  {
   "cell_type": "markdown",
   "id": "994e64a9",
   "metadata": {},
   "source": [
    "Intro to Global Human Settlement Layer¶\n",
    "Identifying areas of human settlement is a large area of focus in Earth Observation and many other disciplines.\n",
    "\n",
    "The Global Human Settlement Layer (GHSL) dataset is a useful resource for understanding areas of settlement and happily for our purposes, it is available in the Google Earth Engine (GEE) catalogue.\n",
    "\n",
    "The dataset we are particularly interested in is the GHSL “Settlement Grid” layer. The settlement grids in this dataset have been generated via the GHSL built-up areas and population grids, which are themselves derived from Landsat image collections and other sources and these layers are also available on GEE.\n",
    "\n",
    "More details and links to resources are available on the collection’s landing pages, including a description and link to the methodology.\n",
    "\n",
    "A couple things to note.\n",
    "\n",
    "First, there is one band with four “degrees of urbanization”:\n",
    "\n",
    "Inhabited areas (\n",
    "\n",
    "Rural grid cells\n",
    "\n",
    "Low Density Clusters (towns and cities)\n",
    "\n",
    "High Density Clusters (cities)\n",
    "\n",
    "We made a choice in framing our analysis that we are interested in the change of the Low and High Density clusters (“built up”) relative to everything else, so we will classify any pixel with values in [3,4] as “built up” and assign this 1 or not and assign it 0.\n",
    "\n",
    "A second item worth noting is that the spatial resolution for this grid layer is 1000 meters.\n",
    "\n",
    "Let’s take a quick look at the data…"
   ]
  },
  {
   "cell_type": "code",
   "execution_count": 33,
   "id": "8d7d6e6a",
   "metadata": {},
   "outputs": [],
   "source": [
    "#2 dw"
   ]
  },
  {
   "cell_type": "code",
   "execution_count": 13,
   "id": "1fc1085b",
   "metadata": {
    "scrolled": true
   },
   "outputs": [
    {
     "data": {
      "application/vnd.jupyter.widget-view+json": {
       "model_id": "b61851897bd24b45b69f48d9787d8f4d",
       "version_major": 2,
       "version_minor": 0
      },
      "text/plain": [
       "Map(center=[20, 0], controls=(WidgetControl(options=['position', 'transparent_bg'], widget=HBox(children=(Togg…"
      ]
     },
     "metadata": {},
     "output_type": "display_data"
    }
   ],
   "source": [
    "Map = geemap.Map()\n",
    "Map.add_basemap('HYBRID')\n",
    "\n",
    "# # Set the region of interest by simply drawing a polygon on the map\n",
    "# region = Map.user_roi\n",
    "# if region is None:\n",
    "#     region = ee.Geometry.BBox(-89.7088, 42.9006, -89.0647, 43.2167)\n",
    "\n",
    "Map.centerObject(magnisia)\n",
    "# Set the date range\n",
    "start_date = '2021-01-01'\n",
    "end_date = '2022-01-01'\n",
    "\n",
    "# Create a Sentinel-2 image composite\n",
    "image = geemap.dynamic_world_s2(magnisia, start_date, end_date)\n",
    "vis_params = {'bands': ['B4', 'B3', 'B2'], 'min': 0, 'max': 3000}\n",
    "Map.addLayer(image, vis_params, 'Sentinel-2 image')\n",
    "\n",
    "# Create Dynamic World land cover composite\n",
    "landcover = geemap.dynamic_world(magnisia, start_date, end_date, return_type='hillshade')\n",
    "Map.addLayer(landcover, {}, 'Land Cover')\n",
    "\n",
    "# Add legend to the map\n",
    "Map.add_legend(title=\"Dynamic World Land Cover\", builtin_legend='Dynamic_World')\n",
    "Map"
   ]
  },
  {
   "cell_type": "code",
   "execution_count": null,
   "id": "fce5c9ca",
   "metadata": {},
   "outputs": [],
   "source": []
  },
  {
   "cell_type": "markdown",
   "id": "32599110",
   "metadata": {},
   "source": [
    "In the original data layer (\"Degree of Urbanization\") you can see the high density patch of Kathmandu (white) as well as the low density cluster classifications that follow what appears to be major road networks and other towns (bright green). We can also see the rural areas (green) and the rest of the country (black).\n",
    "\n",
    "In our binary mask (\"Built up\"), you can see how the coverage is over both low and high cluster areas. This is the layer we will use as our labels for the training data."
   ]
  },
  {
   "cell_type": "code",
   "execution_count": 7,
   "id": "6fa7a22a",
   "metadata": {
    "scrolled": true
   },
   "outputs": [
    {
     "data": {
      "application/vnd.jupyter.widget-view+json": {
       "model_id": "4c891c5c25384ec9941fd478e6e60f73",
       "version_major": 2,
       "version_minor": 0
      },
      "text/plain": [
       "Map(center=[39.249507776111805, 22.970044299390757], controls=(WidgetControl(options=['position', 'transparent…"
      ]
     },
     "metadata": {},
     "output_type": "display_data"
    }
   ],
   "source": [
    "# our Region Of Interest is the Province of Bagmati\n",
    "#roi = ee.FeatureCollection(\"FAO/GAUL/2015/level2\").filter(ee.Filter.eq('ADM2_NAME','Bagmati')).geometry()\n",
    "\n",
    "def se2mask(image):\n",
    "    quality_band = image.select('QA60')\n",
    "    cloudmask = 1 << 10\n",
    "    cirrusmask = 1 << 11\n",
    "    mask = quality_band.bitwiseAnd(cloudmask).eq(0) and (quality_band.bitwiseAnd(cirrusmask).eq(0))\n",
    "    return image.updateMask(mask).divide(10000)\n",
    "    \n",
    "se2 = ee.ImageCollection('COPERNICUS/S2').filterDate(\n",
    "    \"2019-01-01\",\"2019-12-31\").filterBounds(magnisia).filter(\n",
    "    ee.Filter.lt(\"CLOUDY_PIXEL_PERCENTAGE\",20)).map(se2mask).median().clip(magnisia)\n",
    "\n",
    "viirs = ee.Image(ee.ImageCollection(\"NOAA/VIIRS/DNB/MONTHLY_V1/VCMSLCFG\").filterDate(\"2019-01-01\",\"2019-12-31\").filterBounds(magnisia).median().select('avg_rad').clip(magnisia))\n",
    "\n",
    "ghsl = ee.ImageCollection('JRC/GHSL/P2016/SMOD_POP_GLOBE_V1').filter(ee.Filter.date('2015-01-01', '2015-12-31')).select('smod_code').median().clip(magnisia)\n",
    "\n",
    "ghsl = ghsl.gte(2)\n",
    "\n",
    "ghslVis= {\"palette\":['000000', 'ffffff']}\n",
    "se2Vis = {\"min\":0.0, \"max\":0.3,\"bands\": ['B4','B3','B2']}\n",
    "\n",
    "# initialize our map\n",
    "map1 = geemap.Map()\n",
    "map1.centerObject(magnisia, 9)\n",
    "map1.addLayer(se2, se2Vis, \"S2\")\n",
    "map1.addLayer(viirs, {}, \"VIIRS-DNB\", opacity=0.5)\n",
    "map1.addLayer(ghsl, ghslVis, \"GHSL\", opacity=0.25)\n",
    "map1.addLayerControl()\n",
    "map1"
   ]
  },
  {
   "cell_type": "code",
   "execution_count": 11,
   "id": "91caeabe",
   "metadata": {},
   "outputs": [
    {
     "data": {
      "application/vnd.jupyter.widget-view+json": {
       "model_id": "e6477e49785e4b6daa0ea8cc2f14a54e",
       "version_major": 2,
       "version_minor": 0
      },
      "text/plain": [
       "Map(center=[39.249507776111805, 22.970044299390757], controls=(ZoomControl(options=['position', 'zoom_in_text'…"
      ]
     },
     "metadata": {},
     "output_type": "display_data"
    }
   ],
   "source": [
    "viirs2015 = ee.ImageCollection(\"NOAA/VIIRS/DNB/MONTHLY_V1/VCMSLCFG\").filterDate(\n",
    "    \"2016-01-01\",\"2016-12-31\").filterBounds(magnisia).median().select('avg_rad').clip(magnisia)\n",
    "viirs2019 = ee.ImageCollection(\"NOAA/VIIRS/DNB/MONTHLY_V1/VCMSLCFG\").filterDate(\n",
    "    \"2021-01-01\",\"2021-12-31\").filterBounds(magnisia).median().select('avg_rad').clip(magnisia)\n",
    "\n",
    "viirs_15_tile = geemap.ee_tile_layer(viirs2015, {}, 'Jul-Dec 2015', opacity=0.9)\n",
    "viirs_22_tile = geemap.ee_tile_layer(viirs2019, {}, 'Jul-Dec 2022', opacity=0.9)\n",
    "\n",
    "# initialize our map\n",
    "map2 = geemap.Map(basemap='HYBRID')\n",
    "map2.centerObject(magnisia, 9)\n",
    "map2.split_map(left_layer=viirs_15_tile, right_layer=viirs_22_tile)\n",
    "map2.addLayerControl()\n",
    "map2"
   ]
  },
  {
   "cell_type": "code",
   "execution_count": 12,
   "id": "d4ec855d",
   "metadata": {
    "scrolled": true
   },
   "outputs": [
    {
     "data": {
      "application/vnd.jupyter.widget-view+json": {
       "model_id": "687dd6c96e1b43bd83a04b0a643d300e",
       "version_major": 2,
       "version_minor": 0
      },
      "text/plain": [
       "Map(center=[39.249507776111805, 22.970044299390757], controls=(ZoomControl(options=['position', 'zoom_in_text'…"
      ]
     },
     "metadata": {},
     "output_type": "display_data"
    }
   ],
   "source": [
    "mu15 = viirs2015.reduceRegion(reducer=ee.Reducer.mean(),scale=500)\n",
    "std15 = viirs2015.reduceRegion(reducer=ee.Reducer.stdDev(),scale=500)\n",
    "mu19 = viirs2019.reduceRegion(reducer=ee.Reducer.mean(),scale=500)\n",
    "std19 = viirs2019.reduceRegion(reducer=ee.Reducer.stdDev(),scale=500)\n",
    "\n",
    "# we'll cast these to native ee Numbers using the ee.Number constructor\n",
    "mu15 = ee.Number(mu15.get('avg_rad'))\n",
    "std15 = ee.Number(std15.get('avg_rad'))\n",
    "mu19 = ee.Number(mu19.get('avg_rad'))\n",
    "std19 = ee.Number(std19.get('avg_rad'))\n",
    "\n",
    "viirs2015 = viirs2015.subtract(mu15).divide(std19)\n",
    "viirs2019 = viirs2019.subtract(mu15).divide(std19)\n",
    "\n",
    "viirs_15_tile = geemap.ee_tile_layer(viirs2015, {}, 'Jul-Dec 2015', opacity=0.9)\n",
    "viirs_19_tile = geemap.ee_tile_layer(viirs2019, {}, 'Jul-Dec 2019', opacity=0.9)\n",
    "\n",
    "# initialize our map\n",
    "map3 = geemap.Map(basemap='HYBRID')\n",
    "map3.centerObject(magnisia, 9)\n",
    "map3.split_map(left_layer=viirs_15_tile, right_layer=viirs_19_tile)\n",
    "map3.addLayerControl()\n",
    "map3"
   ]
  },
  {
   "cell_type": "code",
   "execution_count": null,
   "id": "8ae951ee",
   "metadata": {},
   "outputs": [],
   "source": []
  },
  {
   "cell_type": "code",
   "execution_count": null,
   "id": "5fa05d42",
   "metadata": {},
   "outputs": [],
   "source": []
  },
  {
   "cell_type": "code",
   "execution_count": null,
   "id": "9bab746e",
   "metadata": {},
   "outputs": [],
   "source": [
    "import h3pandas\n",
    "h3=geojson2h3.featureToH3Set(gdf)\n",
    "h3.h3_to_geo_boundary(gdf, geo_json=False)\n",
    "import googlemaps\n",
    "h3.polyfill(gdf, 9, geo_json_conformant=False)"
   ]
  },
  {
   "cell_type": "code",
   "execution_count": null,
   "id": "7efcc5b8",
   "metadata": {},
   "outputs": [],
   "source": [
    "import h3\n",
    "from shapely.geometry import Polygon, Point\n",
    "import shapely.wkt\n",
    "\n",
    "def output_h3_id_attributes(h3_id):\n",
    "    return {\n",
    "        \"co_ordinates\" : h3.h3_to_geo(h3_id), \n",
    "        \"geo_boundary\" : Polygon(h3.h3_to_geo_boundary(h3_id, geo_json=True)).wkt, \n",
    "        \"parent\" : h3.h3_to_parent(h3_id), \n",
    "        \"children\" : h3.h3_to_children(h3_id)\n",
    "    }\n",
    "output_h3_id_attributes('8843acd819fffff')\n"
   ]
  }
 ],
 "metadata": {
  "kernelspec": {
   "display_name": "Python 3 (ipykernel)",
   "language": "python",
   "name": "python3"
  },
  "language_info": {
   "codemirror_mode": {
    "name": "ipython",
    "version": 3
   },
   "file_extension": ".py",
   "mimetype": "text/x-python",
   "name": "python",
   "nbconvert_exporter": "python",
   "pygments_lexer": "ipython3",
   "version": "3.9.1"
  },
  "latex_envs": {
   "LaTeX_envs_menu_present": true,
   "autoclose": false,
   "autocomplete": true,
   "bibliofile": "biblio.bib",
   "cite_by": "apalike",
   "current_citInitial": 1,
   "eqLabelWithNumbers": true,
   "eqNumInitial": 1,
   "hotkeys": {
    "equation": "Ctrl-E",
    "itemize": "Ctrl-I"
   },
   "labels_anchors": false,
   "latex_user_defs": false,
   "report_style_numbering": false,
   "user_envs_cfg": false
  }
 },
 "nbformat": 4,
 "nbformat_minor": 5
}
