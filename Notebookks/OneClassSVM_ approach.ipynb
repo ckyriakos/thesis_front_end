{
  "cells": [
    {
      "cell_type": "code",
      "execution_count": 21,
      "id": "aedda2f8",
      "metadata": {
        "id": "aedda2f8"
      },
      "outputs": [],
      "source": [
        "import pandas as pd\n",
        "import numpy as np\n",
        "import matplotlib.pyplot as plt\n",
        "from sklearn import tree\n",
        "import time\n",
        "from datetime import timedelta"
      ]
    },
    {
      "cell_type": "code",
      "execution_count": 22,
      "id": "ad8a2f8f",
      "metadata": {
        "id": "ad8a2f8f"
      },
      "outputs": [],
      "source": [
        "try:\n",
        "    import geemap, ee, wxee, eemont\n",
        "except ModuleNotFoundError:\n",
        "    if 'google.colab' in str(get_ipython()):\n",
        "        print(\"package not found, installing w/ pip in Google Colab...\")\n",
        "        !pip install geemap\n",
        "        !pip install wxee\n",
        "        !pip install eemont\n",
        "    else:\n",
        "        print(\"package not found, installing w/ conda...\")\n",
        "        !conda install mamba -c conda-forge -y\n",
        "        !conda install wxee -c conda-forge -y\n",
        "        !mamba install geemap -c conda-forge -y\n",
        "        !mamba install eemont -c conda-forge -y\n",
        "    import geemap, ee, wxee, eemont"
      ]
    },
    {
      "cell_type": "code",
      "execution_count": 23,
      "id": "54a44903",
      "metadata": {
        "id": "54a44903"
      },
      "outputs": [],
      "source": [
        "try:\n",
        "        geemap.ee_initialize()\n",
        "except Exception as e:\n",
        "        geemap.ee_initialize()\n",
        "        geemap.ee_initialize()\n",
        "\n",
        "from geemap import geojson_to_ee, ee_to_geojson"
      ]
    },
    {
      "cell_type": "code",
      "execution_count": 24,
      "id": "39ecb98a",
      "metadata": {
        "id": "39ecb98a"
      },
      "outputs": [],
      "source": [
        "chicago_final= pd.read_csv('/content/data/DataAfterSelectionandPreprocessing/chicago_final.csv')"
      ]
    },
    {
      "cell_type": "code",
      "execution_count": 25,
      "id": "b0066686",
      "metadata": {
        "scrolled": false,
        "id": "b0066686",
        "outputId": "d895b20a-91ab-4da4-eb49-b8a831e48f39",
        "colab": {
          "base_uri": "https://localhost:8080/",
          "height": 424
        }
      },
      "outputs": [
        {
          "output_type": "execute_result",
          "data": {
            "text/plain": [
              "       VgNIRBI      PISI      NDVI      EMBI   VrNIRBI        IBI      NDBI  \\\n",
              "0    -0.156262  0.057925  0.069752 -0.089758 -0.069752 -15.913936 -0.010811   \n",
              "1    -0.163073  0.054353  0.129827 -0.124079 -0.129827  -0.019400 -0.044529   \n",
              "2    -0.152122  0.073200  0.101133 -0.027589 -0.101133  -0.673711  0.087293   \n",
              "3    -0.279784  0.023549  0.288706 -0.124254 -0.288706   0.978246 -0.123526   \n",
              "4    -0.226384  0.048742  0.194209 -0.024817 -0.194209  -2.934090  0.011797   \n",
              "...        ...       ...       ...       ...       ...        ...       ...   \n",
              "9821 -0.235897  0.019614  0.178426 -0.045459 -0.178426   2.214779  0.003865   \n",
              "9822 -0.219015  0.029755  0.152598 -0.043590 -0.152598  -3.224787  0.018013   \n",
              "9823 -0.219015  0.029755  0.152598 -0.043590 -0.152598  -3.224787  0.018013   \n",
              "9824 -0.219015  0.029755  0.152598 -0.043590 -0.152598  -3.224787  0.018013   \n",
              "9825 -0.219015  0.029755  0.152598 -0.043590 -0.152598  -3.224787  0.018013   \n",
              "\n",
              "      cf_cvg    avg_rad  label  \n",
              "0        NaN  70.093898      0  \n",
              "1        NaN  70.093898      0  \n",
              "2        NaN  70.093898      0  \n",
              "3        NaN  70.093898      0  \n",
              "4        NaN  70.093898      0  \n",
              "...      ...        ...    ...  \n",
              "9821    14.0  68.900002      1  \n",
              "9822    14.0  68.900002      1  \n",
              "9823    14.0  68.900002      1  \n",
              "9824    14.0  74.459999      1  \n",
              "9825    14.0  68.900002      1  \n",
              "\n",
              "[9826 rows x 10 columns]"
            ],
            "text/html": [
              "\n",
              "  <div id=\"df-9c3a199a-e2f5-4eb5-a613-c0736dad7f26\">\n",
              "    <div class=\"colab-df-container\">\n",
              "      <div>\n",
              "<style scoped>\n",
              "    .dataframe tbody tr th:only-of-type {\n",
              "        vertical-align: middle;\n",
              "    }\n",
              "\n",
              "    .dataframe tbody tr th {\n",
              "        vertical-align: top;\n",
              "    }\n",
              "\n",
              "    .dataframe thead th {\n",
              "        text-align: right;\n",
              "    }\n",
              "</style>\n",
              "<table border=\"1\" class=\"dataframe\">\n",
              "  <thead>\n",
              "    <tr style=\"text-align: right;\">\n",
              "      <th></th>\n",
              "      <th>VgNIRBI</th>\n",
              "      <th>PISI</th>\n",
              "      <th>NDVI</th>\n",
              "      <th>EMBI</th>\n",
              "      <th>VrNIRBI</th>\n",
              "      <th>IBI</th>\n",
              "      <th>NDBI</th>\n",
              "      <th>cf_cvg</th>\n",
              "      <th>avg_rad</th>\n",
              "      <th>label</th>\n",
              "    </tr>\n",
              "  </thead>\n",
              "  <tbody>\n",
              "    <tr>\n",
              "      <th>0</th>\n",
              "      <td>-0.156262</td>\n",
              "      <td>0.057925</td>\n",
              "      <td>0.069752</td>\n",
              "      <td>-0.089758</td>\n",
              "      <td>-0.069752</td>\n",
              "      <td>-15.913936</td>\n",
              "      <td>-0.010811</td>\n",
              "      <td>NaN</td>\n",
              "      <td>70.093898</td>\n",
              "      <td>0</td>\n",
              "    </tr>\n",
              "    <tr>\n",
              "      <th>1</th>\n",
              "      <td>-0.163073</td>\n",
              "      <td>0.054353</td>\n",
              "      <td>0.129827</td>\n",
              "      <td>-0.124079</td>\n",
              "      <td>-0.129827</td>\n",
              "      <td>-0.019400</td>\n",
              "      <td>-0.044529</td>\n",
              "      <td>NaN</td>\n",
              "      <td>70.093898</td>\n",
              "      <td>0</td>\n",
              "    </tr>\n",
              "    <tr>\n",
              "      <th>2</th>\n",
              "      <td>-0.152122</td>\n",
              "      <td>0.073200</td>\n",
              "      <td>0.101133</td>\n",
              "      <td>-0.027589</td>\n",
              "      <td>-0.101133</td>\n",
              "      <td>-0.673711</td>\n",
              "      <td>0.087293</td>\n",
              "      <td>NaN</td>\n",
              "      <td>70.093898</td>\n",
              "      <td>0</td>\n",
              "    </tr>\n",
              "    <tr>\n",
              "      <th>3</th>\n",
              "      <td>-0.279784</td>\n",
              "      <td>0.023549</td>\n",
              "      <td>0.288706</td>\n",
              "      <td>-0.124254</td>\n",
              "      <td>-0.288706</td>\n",
              "      <td>0.978246</td>\n",
              "      <td>-0.123526</td>\n",
              "      <td>NaN</td>\n",
              "      <td>70.093898</td>\n",
              "      <td>0</td>\n",
              "    </tr>\n",
              "    <tr>\n",
              "      <th>4</th>\n",
              "      <td>-0.226384</td>\n",
              "      <td>0.048742</td>\n",
              "      <td>0.194209</td>\n",
              "      <td>-0.024817</td>\n",
              "      <td>-0.194209</td>\n",
              "      <td>-2.934090</td>\n",
              "      <td>0.011797</td>\n",
              "      <td>NaN</td>\n",
              "      <td>70.093898</td>\n",
              "      <td>0</td>\n",
              "    </tr>\n",
              "    <tr>\n",
              "      <th>...</th>\n",
              "      <td>...</td>\n",
              "      <td>...</td>\n",
              "      <td>...</td>\n",
              "      <td>...</td>\n",
              "      <td>...</td>\n",
              "      <td>...</td>\n",
              "      <td>...</td>\n",
              "      <td>...</td>\n",
              "      <td>...</td>\n",
              "      <td>...</td>\n",
              "    </tr>\n",
              "    <tr>\n",
              "      <th>9821</th>\n",
              "      <td>-0.235897</td>\n",
              "      <td>0.019614</td>\n",
              "      <td>0.178426</td>\n",
              "      <td>-0.045459</td>\n",
              "      <td>-0.178426</td>\n",
              "      <td>2.214779</td>\n",
              "      <td>0.003865</td>\n",
              "      <td>14.0</td>\n",
              "      <td>68.900002</td>\n",
              "      <td>1</td>\n",
              "    </tr>\n",
              "    <tr>\n",
              "      <th>9822</th>\n",
              "      <td>-0.219015</td>\n",
              "      <td>0.029755</td>\n",
              "      <td>0.152598</td>\n",
              "      <td>-0.043590</td>\n",
              "      <td>-0.152598</td>\n",
              "      <td>-3.224787</td>\n",
              "      <td>0.018013</td>\n",
              "      <td>14.0</td>\n",
              "      <td>68.900002</td>\n",
              "      <td>1</td>\n",
              "    </tr>\n",
              "    <tr>\n",
              "      <th>9823</th>\n",
              "      <td>-0.219015</td>\n",
              "      <td>0.029755</td>\n",
              "      <td>0.152598</td>\n",
              "      <td>-0.043590</td>\n",
              "      <td>-0.152598</td>\n",
              "      <td>-3.224787</td>\n",
              "      <td>0.018013</td>\n",
              "      <td>14.0</td>\n",
              "      <td>68.900002</td>\n",
              "      <td>1</td>\n",
              "    </tr>\n",
              "    <tr>\n",
              "      <th>9824</th>\n",
              "      <td>-0.219015</td>\n",
              "      <td>0.029755</td>\n",
              "      <td>0.152598</td>\n",
              "      <td>-0.043590</td>\n",
              "      <td>-0.152598</td>\n",
              "      <td>-3.224787</td>\n",
              "      <td>0.018013</td>\n",
              "      <td>14.0</td>\n",
              "      <td>74.459999</td>\n",
              "      <td>1</td>\n",
              "    </tr>\n",
              "    <tr>\n",
              "      <th>9825</th>\n",
              "      <td>-0.219015</td>\n",
              "      <td>0.029755</td>\n",
              "      <td>0.152598</td>\n",
              "      <td>-0.043590</td>\n",
              "      <td>-0.152598</td>\n",
              "      <td>-3.224787</td>\n",
              "      <td>0.018013</td>\n",
              "      <td>14.0</td>\n",
              "      <td>68.900002</td>\n",
              "      <td>1</td>\n",
              "    </tr>\n",
              "  </tbody>\n",
              "</table>\n",
              "<p>9826 rows × 10 columns</p>\n",
              "</div>\n",
              "      <button class=\"colab-df-convert\" onclick=\"convertToInteractive('df-9c3a199a-e2f5-4eb5-a613-c0736dad7f26')\"\n",
              "              title=\"Convert this dataframe to an interactive table.\"\n",
              "              style=\"display:none;\">\n",
              "        \n",
              "  <svg xmlns=\"http://www.w3.org/2000/svg\" height=\"24px\"viewBox=\"0 0 24 24\"\n",
              "       width=\"24px\">\n",
              "    <path d=\"M0 0h24v24H0V0z\" fill=\"none\"/>\n",
              "    <path d=\"M18.56 5.44l.94 2.06.94-2.06 2.06-.94-2.06-.94-.94-2.06-.94 2.06-2.06.94zm-11 1L8.5 8.5l.94-2.06 2.06-.94-2.06-.94L8.5 2.5l-.94 2.06-2.06.94zm10 10l.94 2.06.94-2.06 2.06-.94-2.06-.94-.94-2.06-.94 2.06-2.06.94z\"/><path d=\"M17.41 7.96l-1.37-1.37c-.4-.4-.92-.59-1.43-.59-.52 0-1.04.2-1.43.59L10.3 9.45l-7.72 7.72c-.78.78-.78 2.05 0 2.83L4 21.41c.39.39.9.59 1.41.59.51 0 1.02-.2 1.41-.59l7.78-7.78 2.81-2.81c.8-.78.8-2.07 0-2.86zM5.41 20L4 18.59l7.72-7.72 1.47 1.35L5.41 20z\"/>\n",
              "  </svg>\n",
              "      </button>\n",
              "      \n",
              "  <style>\n",
              "    .colab-df-container {\n",
              "      display:flex;\n",
              "      flex-wrap:wrap;\n",
              "      gap: 12px;\n",
              "    }\n",
              "\n",
              "    .colab-df-convert {\n",
              "      background-color: #E8F0FE;\n",
              "      border: none;\n",
              "      border-radius: 50%;\n",
              "      cursor: pointer;\n",
              "      display: none;\n",
              "      fill: #1967D2;\n",
              "      height: 32px;\n",
              "      padding: 0 0 0 0;\n",
              "      width: 32px;\n",
              "    }\n",
              "\n",
              "    .colab-df-convert:hover {\n",
              "      background-color: #E2EBFA;\n",
              "      box-shadow: 0px 1px 2px rgba(60, 64, 67, 0.3), 0px 1px 3px 1px rgba(60, 64, 67, 0.15);\n",
              "      fill: #174EA6;\n",
              "    }\n",
              "\n",
              "    [theme=dark] .colab-df-convert {\n",
              "      background-color: #3B4455;\n",
              "      fill: #D2E3FC;\n",
              "    }\n",
              "\n",
              "    [theme=dark] .colab-df-convert:hover {\n",
              "      background-color: #434B5C;\n",
              "      box-shadow: 0px 1px 3px 1px rgba(0, 0, 0, 0.15);\n",
              "      filter: drop-shadow(0px 1px 2px rgba(0, 0, 0, 0.3));\n",
              "      fill: #FFFFFF;\n",
              "    }\n",
              "  </style>\n",
              "\n",
              "      <script>\n",
              "        const buttonEl =\n",
              "          document.querySelector('#df-9c3a199a-e2f5-4eb5-a613-c0736dad7f26 button.colab-df-convert');\n",
              "        buttonEl.style.display =\n",
              "          google.colab.kernel.accessAllowed ? 'block' : 'none';\n",
              "\n",
              "        async function convertToInteractive(key) {\n",
              "          const element = document.querySelector('#df-9c3a199a-e2f5-4eb5-a613-c0736dad7f26');\n",
              "          const dataTable =\n",
              "            await google.colab.kernel.invokeFunction('convertToInteractive',\n",
              "                                                     [key], {});\n",
              "          if (!dataTable) return;\n",
              "\n",
              "          const docLinkHtml = 'Like what you see? Visit the ' +\n",
              "            '<a target=\"_blank\" href=https://colab.research.google.com/notebooks/data_table.ipynb>data table notebook</a>'\n",
              "            + ' to learn more about interactive tables.';\n",
              "          element.innerHTML = '';\n",
              "          dataTable['output_type'] = 'display_data';\n",
              "          await google.colab.output.renderOutput(dataTable, element);\n",
              "          const docLink = document.createElement('div');\n",
              "          docLink.innerHTML = docLinkHtml;\n",
              "          element.appendChild(docLink);\n",
              "        }\n",
              "      </script>\n",
              "    </div>\n",
              "  </div>\n",
              "  "
            ]
          },
          "metadata": {},
          "execution_count": 25
        }
      ],
      "source": [
        "volos_turbo_final  = pd.read_csv('/content/data/DataAfterSelectionandPreprocessing/volos_turbo_final.csv')\n",
        "volos_turbo_final"
      ]
    },
    {
      "cell_type": "code",
      "execution_count": 26,
      "id": "7239d0d6",
      "metadata": {
        "id": "7239d0d6"
      },
      "outputs": [],
      "source": [
        "X1=volos_turbo_final[['NDVI','NDBI','EMBI','PISI','VgNIRBI','VrNIRBI','avg_rad']]\n",
        "y1=volos_turbo_final['label']"
      ]
    },
    {
      "cell_type": "code",
      "execution_count": 27,
      "id": "22f61675",
      "metadata": {
        "id": "22f61675",
        "outputId": "b30a39d6-1dba-4b56-b96e-d1cf3042c21c",
        "colab": {
          "base_uri": "https://localhost:8080/"
        }
      },
      "outputs": [
        {
          "output_type": "stream",
          "name": "stdout",
          "text": [
            "Samples are correlated (reject H0) p=0.000\n"
          ]
        }
      ],
      "source": [
        "from scipy.stats.stats import pearsonr,spearmanr,kendalltau\n",
        "coef, p = spearmanr(X1['VgNIRBI'], X1['avg_rad'])\n",
        "alpha = 0.05\n",
        "if p > alpha:\n",
        "    print('Samples are uncorrelated (fail to reject H0) p=%.3f' % p)\n",
        "else:\n",
        "    print('Samples are correlated (reject H0) p=%.3f' % p)"
      ]
    },
    {
      "cell_type": "code",
      "execution_count": 28,
      "id": "f390d440",
      "metadata": {
        "id": "f390d440",
        "outputId": "564a3ff6-b437-4221-be15-6a9a0e0b8a06",
        "colab": {
          "base_uri": "https://localhost:8080/"
        }
      },
      "outputs": [
        {
          "output_type": "execute_result",
          "data": {
            "text/plain": [
              "KendalltauResult(correlation=0.18871015353193576, pvalue=9.388481739971385e-169)"
            ]
          },
          "metadata": {},
          "execution_count": 28
        }
      ],
      "source": [
        "kendalltau(X1['PISI'], X1['avg_rad'])"
      ]
    },
    {
      "cell_type": "code",
      "execution_count": 29,
      "id": "836fc533",
      "metadata": {
        "id": "836fc533",
        "outputId": "576ada36-2f9b-419c-e556-f90767aa7998",
        "colab": {
          "base_uri": "https://localhost:8080/"
        }
      },
      "outputs": [
        {
          "output_type": "execute_result",
          "data": {
            "text/plain": [
              "SpearmanrResult(correlation=0.2733359794575748, pvalue=6.599881957175696e-168)"
            ]
          },
          "metadata": {},
          "execution_count": 29
        }
      ],
      "source": [
        "spearmanr(X1['PISI'], X1['avg_rad'])\n"
      ]
    },
    {
      "cell_type": "code",
      "execution_count": 30,
      "id": "837fccbd",
      "metadata": {
        "scrolled": true,
        "id": "837fccbd",
        "outputId": "e8f03342-81bd-466e-a227-b9fd5e699fbb",
        "colab": {
          "base_uri": "https://localhost:8080/",
          "height": 279
        }
      },
      "outputs": [
        {
          "output_type": "display_data",
          "data": {
            "text/plain": [
              "<Figure size 432x288 with 1 Axes>"
            ],
            "image/png": "[encoded data removed]"
          },
          "metadata": {
            "needs_background": "light"
          }
        }
      ],
      "source": [
        "# QQ Plot\n",
        "from numpy.random import seed\n",
        "from numpy.random import randn\n",
        "from statsmodels.graphics.gofplots import qqplot\n",
        "from matplotlib import pyplot\n",
        "# seed the random number generator\n",
        "seed(1)\n",
        "# generate univariate observations\n",
        "#data = 5 * randn(100) + 50\n",
        "# q-q plot\n",
        "qqplot(volos_turbo_final['EMBI'], line='s')\n",
        "pyplot.show()"
      ]
    },
    {
      "cell_type": "code",
      "execution_count": 31,
      "id": "c0d9cd9f",
      "metadata": {
        "id": "c0d9cd9f",
        "outputId": "d7ed2ab2-6267-4362-81a8-22e704a44b66",
        "colab": {
          "base_uri": "https://localhost:8080/",
          "height": 453
        }
      },
      "outputs": [
        {
          "output_type": "execute_result",
          "data": {
            "text/plain": [
              "<matplotlib.axes._subplots.AxesSubplot at 0x7f434998a760>"
            ]
          },
          "metadata": {},
          "execution_count": 31
        },
        {
          "output_type": "display_data",
          "data": {
            "text/plain": [
              "<Figure size 864x504 with 2 Axes>"
            ],
            "image/png": "[encoded data removed]"
          },
          "metadata": {}
        }
      ],
      "source": [
        "import matplotlib.pyplot as plt\n",
        "import seaborn as sns\n",
        "import numpy as np\n",
        "sns.set(rc = {'figure.figsize':(12,7)})\n",
        "sns.heatmap(X1.corr(), annot = True, fmt='.2g',cmap= 'coolwarm')"
      ]
    },
    {
      "cell_type": "code",
      "execution_count": 32,
      "id": "efe67f2d",
      "metadata": {
        "id": "efe67f2d",
        "outputId": "0f079073-600c-4066-a3c5-8e7d8f69adb4",
        "colab": {
          "base_uri": "https://localhost:8080/"
        }
      },
      "outputs": [
        {
          "output_type": "execute_result",
          "data": {
            "text/plain": [
              "array([54.01179461, 53.89981685, 54.06595136, ..., 52.1127264 ,\n",
              "       52.11355967, 52.15135077])"
            ]
          },
          "metadata": {},
          "execution_count": 32
        }
      ],
      "source": [
        "from sklearn.svm import OneClassSVM\n",
        "from sklearn.metrics import f1_score\n",
        "\n",
        "one_class_svm = OneClassSVM(nu=0.3 ,kernel=\"rbf\",gamma='auto')\n",
        "trainX = volos_turbo_final[volos_turbo_final['label']==0].drop(['cf_cvg','label','IBI','NDBI','VgNIRBI',\n",
        "                                                             'VrNIRBI' ,'PISI','NDVI'],axis=1)\n",
        "one_class_svm.fit(trainX)\n",
        "#yhat = model.predict(volos_turbo_viirs.drop(['date','building','id','@id','reducer','type','building:levels'],axis=1))\n",
        "one_class_svm.score_samples(trainX)\n",
        "#score = f1_score(testy, yhat, pos_label=-1)\n",
        "#print('F1 Score: %.3f' % score)"
      ]
    },
    {
      "cell_type": "code",
      "execution_count": 33,
      "id": "2030829f",
      "metadata": {
        "scrolled": false,
        "id": "2030829f",
        "outputId": "854a6800-7453-4310-e32f-a2ec00cd1d68",
        "colab": {
          "base_uri": "https://localhost:8080/"
        }
      },
      "outputs": [
        {
          "output_type": "execute_result",
          "data": {
            "text/plain": [
              "array([-1, -1, -1, -1, -1, -1,  1, -1,  1,  1,  1,  1, -1, -1,  1, -1,  1,\n",
              "        1, -1,  1,  1,  1,  1,  1,  1,  1,  1,  1,  1,  1, -1,  1, -1, -1,\n",
              "       -1, -1, -1, -1, -1, -1,  1,  1, -1,  1, -1, -1, -1, -1,  1,  1,  1,\n",
              "        1, -1, -1,  1, -1,  1,  1,  1,  1, -1, -1,  1, -1,  1,  1,  1,  1,\n",
              "        1,  1,  1,  1,  1,  1,  1,  1,  1,  1,  1,  1, -1, -1,  1, -1,  1,\n",
              "        1,  1,  1, -1, -1,  1, -1, -1, -1, -1, -1,  1,  1,  1,  1,  1,  1,\n",
              "        1,  1,  1,  1,  1,  1, -1, -1, -1, -1, -1, -1, -1, -1, -1, -1,  1,\n",
              "       -1, -1, -1, -1, -1, -1, -1, -1, -1, -1, -1,  1, -1,  1,  1,  1,  1,\n",
              "       -1, -1,  1, -1, -1, -1,  1, -1, -1, -1,  1, -1, -1, -1,  1, -1, -1,\n",
              "       -1,  1, -1, -1, -1,  1, -1, -1, -1,  1, -1,  1,  1,  1,  1, -1, -1,\n",
              "        1, -1, -1, -1,  1, -1,  1,  1,  1,  1,  1,  1,  1,  1,  1,  1, -1,\n",
              "        1,  1,  1,  1,  1,  1,  1,  1,  1, -1, -1,  1, -1,  1,  1,  1,  1,\n",
              "        1,  1,  1,  1,  1,  1,  1,  1, -1, -1,  1, -1,  1,  1,  1,  1,  1,\n",
              "        1,  1,  1,  1,  1,  1,  1, -1, -1,  1, -1,  1,  1,  1,  1,  1,  1,\n",
              "        1,  1,  1,  1,  1,  1,  1,  1,  1,  1,  1,  1,  1,  1,  1,  1,  1,\n",
              "        1,  1,  1,  1,  1,  1,  1,  1,  1,  1,  1,  1,  1,  1,  1,  1,  1])"
            ]
          },
          "metadata": {},
          "execution_count": 33
        }
      ],
      "source": [
        "yhat = one_class_svm.predict(volos_turbo_final[volos_turbo_final['label']==1].drop(['cf_cvg','label','IBI','NDBI','VgNIRBI',\n",
        "                                                             'VrNIRBI' ,'PISI','NDVI'],axis=1))\n",
        "yhat"
      ]
    },
    {
      "cell_type": "code",
      "execution_count": 34,
      "id": "16ff60fe",
      "metadata": {
        "id": "16ff60fe",
        "outputId": "f15d9e23-2a12-4670-9bb2-2fa69a3afc36",
        "colab": {
          "base_uri": "https://localhost:8080/"
        }
      },
      "outputs": [
        {
          "output_type": "execute_result",
          "data": {
            "text/plain": [
              "272"
            ]
          },
          "metadata": {},
          "execution_count": 34
        }
      ],
      "source": [
        "len(yhat)"
      ]
    },
    {
      "cell_type": "code",
      "execution_count": 35,
      "id": "56c6d194",
      "metadata": {
        "scrolled": true,
        "id": "56c6d194",
        "outputId": "3014c6c8-48ce-4ecc-982a-81675745d182",
        "colab": {
          "base_uri": "https://localhost:8080/"
        }
      },
      "outputs": [
        {
          "output_type": "execute_result",
          "data": {
            "text/plain": [
              "100"
            ]
          },
          "metadata": {},
          "execution_count": 35
        }
      ],
      "source": [
        "len(yhat[yhat==-1])#PISI,VgNIRBI"
      ]
    },
    {
      "cell_type": "code",
      "execution_count": 36,
      "id": "f4a76b20",
      "metadata": {
        "id": "f4a76b20"
      },
      "outputs": [],
      "source": [
        "# Change the above parameters to generate new model dumps for the application"
      ]
    },
    {
      "cell_type": "code",
      "execution_count": 37,
      "id": "2ff6f0d8",
      "metadata": {
        "id": "2ff6f0d8",
        "outputId": "cd7901dd-2a65-494d-97ff-dd5289f3ebc6",
        "colab": {
          "base_uri": "https://localhost:8080/"
        }
      },
      "outputs": [
        {
          "output_type": "execute_result",
          "data": {
            "text/plain": [
              "['ocsvm_03_scale.pkl']"
            ]
          },
          "metadata": {},
          "execution_count": 37
        }
      ],
      "source": [
        "import joblib\n",
        "joblib.dump(one_class_svm, 'ocsvm_03_scale.pkl')"
      ]
    }
  ],
  "metadata": {
    "kernelspec": {
      "display_name": "Python 3 (ipykernel)",
      "language": "python",
      "name": "python3"
    },
    "language_info": {
      "codemirror_mode": {
        "name": "ipython",
        "version": 3
      },
      "file_extension": ".py",
      "mimetype": "text/x-python",
      "name": "python",
      "nbconvert_exporter": "python",
      "pygments_lexer": "ipython3",
      "version": "3.9.1"
    },
    "latex_envs": {
      "LaTeX_envs_menu_present": true,
      "autoclose": false,
      "autocomplete": true,
      "bibliofile": "biblio.bib",
      "cite_by": "apalike",
      "current_citInitial": 1,
      "eqLabelWithNumbers": true,
      "eqNumInitial": 1,
      "hotkeys": {
        "equation": "Ctrl-E",
        "itemize": "Ctrl-I"
      },
      "labels_anchors": false,
      "latex_user_defs": false,
      "report_style_numbering": false,
      "user_envs_cfg": false
    },
    "colab": {
      "provenance": []
    }
  },
  "nbformat": 4,
  "nbformat_minor": 5
}