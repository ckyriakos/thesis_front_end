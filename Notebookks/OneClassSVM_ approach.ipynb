{
 "cells": [
  {
   "cell_type": "code",
   "execution_count": 1,
   "id": "aedda2f8",
   "metadata": {},
   "outputs": [],
   "source": [
    "import pandas as pd\n",
    "import numpy as np\n",
    "import  wxee\n",
    "import matplotlib.pyplot as plt\n",
    "from sklearn import tree\n",
    "import time\n",
    "from datetime import timedelta"
   ]
  },
  {
   "cell_type": "code",
   "execution_count": 2,
   "id": "ad8a2f8f",
   "metadata": {},
   "outputs": [],
   "source": [
    "try:\n",
    "    import geemap, ee\n",
    "except ModuleNotFoundError:\n",
    "    if 'google.colab' in str(get_ipython()):\n",
    "        print(\"package not found, installing w/ pip in Google Colab...\")\n",
    "        !pip install geemap\n",
    "    else:\n",
    "        print(\"package not found, installing w/ conda...\")\n",
    "        !conda install mamba -c conda-forge -y\n",
    "        !mamba install geemap -c conda-forge -y\n",
    "    import geemap, ee"
   ]
  },
  {
   "cell_type": "code",
   "execution_count": 3,
   "id": "54a44903",
   "metadata": {},
   "outputs": [],
   "source": [
    "try:\n",
    "        geemap.ee_initialize()\n",
    "except Exception as e:\n",
    "        geemap.ee_initialize()\n",
    "        geemap.ee_initialize()\n",
    "\n",
    "from geemap import geojson_to_ee, ee_to_geojson\n",
    "import eemont"
   ]
  },
  {
   "cell_type": "code",
   "execution_count": 4,
   "id": "39ecb98a",
   "metadata": {},
   "outputs": [],
   "source": [
    "chicago_final= pd.read_csv('./data/csvs/chicago_final.csv')"
   ]
  },
  {
   "cell_type": "code",
   "execution_count": 5,
   "id": "b0066686",
   "metadata": {
    "scrolled": false
   },
   "outputs": [
    {
     "data": {
      "text/html": [
       "<div>\n",
       "<style scoped>\n",
       "    .dataframe tbody tr th:only-of-type {\n",
       "        vertical-align: middle;\n",
       "    }\n",
       "\n",
       "    .dataframe tbody tr th {\n",
       "        vertical-align: top;\n",
       "    }\n",
       "\n",
       "    .dataframe thead th {\n",
       "        text-align: right;\n",
       "    }\n",
       "</style>\n",
       "<table border=\"1\" class=\"dataframe\">\n",
       "  <thead>\n",
       "    <tr style=\"text-align: right;\">\n",
       "      <th></th>\n",
       "      <th>VgNIRBI</th>\n",
       "      <th>PISI</th>\n",
       "      <th>NDVI</th>\n",
       "      <th>EMBI</th>\n",
       "      <th>VrNIRBI</th>\n",
       "      <th>IBI</th>\n",
       "      <th>NDBI</th>\n",
       "      <th>cf_cvg</th>\n",
       "      <th>avg_rad</th>\n",
       "      <th>label</th>\n",
       "    </tr>\n",
       "  </thead>\n",
       "  <tbody>\n",
       "    <tr>\n",
       "      <th>0</th>\n",
       "      <td>-0.156262</td>\n",
       "      <td>0.057925</td>\n",
       "      <td>0.069752</td>\n",
       "      <td>-0.089758</td>\n",
       "      <td>-0.069752</td>\n",
       "      <td>-15.913936</td>\n",
       "      <td>-0.010811</td>\n",
       "      <td>NaN</td>\n",
       "      <td>70.093898</td>\n",
       "      <td>0</td>\n",
       "    </tr>\n",
       "    <tr>\n",
       "      <th>1</th>\n",
       "      <td>-0.163073</td>\n",
       "      <td>0.054353</td>\n",
       "      <td>0.129827</td>\n",
       "      <td>-0.124079</td>\n",
       "      <td>-0.129827</td>\n",
       "      <td>-0.019400</td>\n",
       "      <td>-0.044529</td>\n",
       "      <td>NaN</td>\n",
       "      <td>70.093898</td>\n",
       "      <td>0</td>\n",
       "    </tr>\n",
       "    <tr>\n",
       "      <th>2</th>\n",
       "      <td>-0.152122</td>\n",
       "      <td>0.073200</td>\n",
       "      <td>0.101133</td>\n",
       "      <td>-0.027589</td>\n",
       "      <td>-0.101133</td>\n",
       "      <td>-0.673711</td>\n",
       "      <td>0.087293</td>\n",
       "      <td>NaN</td>\n",
       "      <td>70.093898</td>\n",
       "      <td>0</td>\n",
       "    </tr>\n",
       "    <tr>\n",
       "      <th>3</th>\n",
       "      <td>-0.279784</td>\n",
       "      <td>0.023549</td>\n",
       "      <td>0.288706</td>\n",
       "      <td>-0.124254</td>\n",
       "      <td>-0.288706</td>\n",
       "      <td>0.978246</td>\n",
       "      <td>-0.123526</td>\n",
       "      <td>NaN</td>\n",
       "      <td>70.093898</td>\n",
       "      <td>0</td>\n",
       "    </tr>\n",
       "    <tr>\n",
       "      <th>4</th>\n",
       "      <td>-0.226384</td>\n",
       "      <td>0.048742</td>\n",
       "      <td>0.194209</td>\n",
       "      <td>-0.024817</td>\n",
       "      <td>-0.194209</td>\n",
       "      <td>-2.934090</td>\n",
       "      <td>0.011797</td>\n",
       "      <td>NaN</td>\n",
       "      <td>70.093898</td>\n",
       "      <td>0</td>\n",
       "    </tr>\n",
       "    <tr>\n",
       "      <th>...</th>\n",
       "      <td>...</td>\n",
       "      <td>...</td>\n",
       "      <td>...</td>\n",
       "      <td>...</td>\n",
       "      <td>...</td>\n",
       "      <td>...</td>\n",
       "      <td>...</td>\n",
       "      <td>...</td>\n",
       "      <td>...</td>\n",
       "      <td>...</td>\n",
       "    </tr>\n",
       "    <tr>\n",
       "      <th>9821</th>\n",
       "      <td>-0.235897</td>\n",
       "      <td>0.019614</td>\n",
       "      <td>0.178426</td>\n",
       "      <td>-0.045459</td>\n",
       "      <td>-0.178426</td>\n",
       "      <td>2.214779</td>\n",
       "      <td>0.003865</td>\n",
       "      <td>14.0</td>\n",
       "      <td>68.900002</td>\n",
       "      <td>1</td>\n",
       "    </tr>\n",
       "    <tr>\n",
       "      <th>9822</th>\n",
       "      <td>-0.219015</td>\n",
       "      <td>0.029755</td>\n",
       "      <td>0.152598</td>\n",
       "      <td>-0.043590</td>\n",
       "      <td>-0.152598</td>\n",
       "      <td>-3.224787</td>\n",
       "      <td>0.018013</td>\n",
       "      <td>14.0</td>\n",
       "      <td>68.900002</td>\n",
       "      <td>1</td>\n",
       "    </tr>\n",
       "    <tr>\n",
       "      <th>9823</th>\n",
       "      <td>-0.219015</td>\n",
       "      <td>0.029755</td>\n",
       "      <td>0.152598</td>\n",
       "      <td>-0.043590</td>\n",
       "      <td>-0.152598</td>\n",
       "      <td>-3.224787</td>\n",
       "      <td>0.018013</td>\n",
       "      <td>14.0</td>\n",
       "      <td>68.900002</td>\n",
       "      <td>1</td>\n",
       "    </tr>\n",
       "    <tr>\n",
       "      <th>9824</th>\n",
       "      <td>-0.219015</td>\n",
       "      <td>0.029755</td>\n",
       "      <td>0.152598</td>\n",
       "      <td>-0.043590</td>\n",
       "      <td>-0.152598</td>\n",
       "      <td>-3.224787</td>\n",
       "      <td>0.018013</td>\n",
       "      <td>14.0</td>\n",
       "      <td>74.459999</td>\n",
       "      <td>1</td>\n",
       "    </tr>\n",
       "    <tr>\n",
       "      <th>9825</th>\n",
       "      <td>-0.219015</td>\n",
       "      <td>0.029755</td>\n",
       "      <td>0.152598</td>\n",
       "      <td>-0.043590</td>\n",
       "      <td>-0.152598</td>\n",
       "      <td>-3.224787</td>\n",
       "      <td>0.018013</td>\n",
       "      <td>14.0</td>\n",
       "      <td>68.900002</td>\n",
       "      <td>1</td>\n",
       "    </tr>\n",
       "  </tbody>\n",
       "</table>\n",
       "<p>9826 rows × 10 columns</p>\n",
       "</div>"
      ],
      "text/plain": [
       "       VgNIRBI      PISI      NDVI      EMBI   VrNIRBI        IBI      NDBI  \\\n",
       "0    -0.156262  0.057925  0.069752 -0.089758 -0.069752 -15.913936 -0.010811   \n",
       "1    -0.163073  0.054353  0.129827 -0.124079 -0.129827  -0.019400 -0.044529   \n",
       "2    -0.152122  0.073200  0.101133 -0.027589 -0.101133  -0.673711  0.087293   \n",
       "3    -0.279784  0.023549  0.288706 -0.124254 -0.288706   0.978246 -0.123526   \n",
       "4    -0.226384  0.048742  0.194209 -0.024817 -0.194209  -2.934090  0.011797   \n",
       "...        ...       ...       ...       ...       ...        ...       ...   \n",
       "9821 -0.235897  0.019614  0.178426 -0.045459 -0.178426   2.214779  0.003865   \n",
       "9822 -0.219015  0.029755  0.152598 -0.043590 -0.152598  -3.224787  0.018013   \n",
       "9823 -0.219015  0.029755  0.152598 -0.043590 -0.152598  -3.224787  0.018013   \n",
       "9824 -0.219015  0.029755  0.152598 -0.043590 -0.152598  -3.224787  0.018013   \n",
       "9825 -0.219015  0.029755  0.152598 -0.043590 -0.152598  -3.224787  0.018013   \n",
       "\n",
       "      cf_cvg    avg_rad  label  \n",
       "0        NaN  70.093898      0  \n",
       "1        NaN  70.093898      0  \n",
       "2        NaN  70.093898      0  \n",
       "3        NaN  70.093898      0  \n",
       "4        NaN  70.093898      0  \n",
       "...      ...        ...    ...  \n",
       "9821    14.0  68.900002      1  \n",
       "9822    14.0  68.900002      1  \n",
       "9823    14.0  68.900002      1  \n",
       "9824    14.0  74.459999      1  \n",
       "9825    14.0  68.900002      1  \n",
       "\n",
       "[9826 rows x 10 columns]"
      ]
     },
     "execution_count": 5,
     "metadata": {},
     "output_type": "execute_result"
    }
   ],
   "source": [
    "volos_turbo_final  = pd.read_csv('./data/csvs/volos_turbo_final.csv')\n",
    "volos_turbo_final"
   ]
  },
  {
   "cell_type": "code",
   "execution_count": 8,
   "id": "7239d0d6",
   "metadata": {},
   "outputs": [],
   "source": [
    "X1=volos_turbo_final[['NDVI','NDBI','EMBI','PISI','VgNIRBI','VrNIRBI','avg_rad']]\n",
    "y1=volos_turbo_final['label']"
   ]
  },
  {
   "cell_type": "code",
   "execution_count": 189,
   "id": "22f61675",
   "metadata": {},
   "outputs": [
    {
     "name": "stdout",
     "output_type": "stream",
     "text": [
      "Samples are correlated (reject H0) p=0.000\n"
     ]
    }
   ],
   "source": [
    "from scipy.stats.stats import pearsonr,spearmanr,kendalltau\n",
    "coef, p = spearmanr(X1['VgNIRBI'], X1['avg_rad'])\n",
    "alpha = 0.05\n",
    "if p > alpha:\n",
    "    print('Samples are uncorrelated (fail to reject H0) p=%.3f' % p)\n",
    "else:\n",
    "    print('Samples are correlated (reject H0) p=%.3f' % p)"
   ]
  },
  {
   "cell_type": "code",
   "execution_count": 47,
   "id": "f390d440",
   "metadata": {},
   "outputs": [
    {
     "data": {
      "text/plain": [
       "KendalltauResult(correlation=0.18871015353193576, pvalue=9.388481739971385e-169)"
      ]
     },
     "execution_count": 47,
     "metadata": {},
     "output_type": "execute_result"
    }
   ],
   "source": [
    "kendalltau(X1['PISI'], X1['avg_rad'])"
   ]
  },
  {
   "cell_type": "code",
   "execution_count": 184,
   "id": "836fc533",
   "metadata": {},
   "outputs": [
    {
     "data": {
      "text/plain": [
       "SpearmanrResult(correlation=0.2733359794575748, pvalue=6.599881957175696e-168)"
      ]
     },
     "execution_count": 184,
     "metadata": {},
     "output_type": "execute_result"
    }
   ],
   "source": [
    "spearmanr(X1['PISI'], X1['avg_rad'])\n"
   ]
  },
  {
   "cell_type": "code",
   "execution_count": 13,
   "id": "837fccbd",
   "metadata": {
    "scrolled": true
   },
   "outputs": [
    {
     "data": {
      "image/png": "[encoded data removed]",
      "text/plain": [
       "<Figure size 432x288 with 1 Axes>"
      ]
     },
     "metadata": {
      "needs_background": "light"
     },
     "output_type": "display_data"
    }
   ],
   "source": [
    "# QQ Plot\n",
    "from numpy.random import seed\n",
    "from numpy.random import randn\n",
    "from statsmodels.graphics.gofplots import qqplot\n",
    "from matplotlib import pyplot\n",
    "# seed the random number generator\n",
    "seed(1)\n",
    "# generate univariate observations\n",
    "#data = 5 * randn(100) + 50\n",
    "# q-q plot\n",
    "qqplot(volos_turbo_final['EMBI'], line='s')\n",
    "pyplot.show()"
   ]
  },
  {
   "cell_type": "code",
   "execution_count": 17,
   "id": "c0d9cd9f",
   "metadata": {},
   "outputs": [
    {
     "data": {
      "text/plain": [
       "<AxesSubplot:>"
      ]
     },
     "execution_count": 17,
     "metadata": {},
     "output_type": "execute_result"
    },
    {
     "data": {
      "image/png": "[encoded data removed]",
      "text/plain": [
       "<Figure size 864x504 with 2 Axes>"
      ]
     },
     "metadata": {},
     "output_type": "display_data"
    }
   ],
   "source": [
    "import matplotlib.pyplot as plt\n",
    "import seaborn as sns\n",
    "import numpy as np\n",
    "sns.set(rc = {'figure.figsize':(12,7)})\n",
    "sns.heatmap(X1.corr(), annot = True, fmt='.2g',cmap= 'coolwarm')"
   ]
  },
  {
   "cell_type": "code",
   "execution_count": 60,
   "id": "efe67f2d",
   "metadata": {},
   "outputs": [
    {
     "data": {
      "text/plain": [
       "array([54.01179461, 53.89981685, 54.06595136, ..., 52.1127264 ,\n",
       "       52.11355967, 52.15135077])"
      ]
     },
     "execution_count": 60,
     "metadata": {},
     "output_type": "execute_result"
    }
   ],
   "source": [
    "from sklearn.svm import OneClassSVM\n",
    "from sklearn.metrics import f1_score\n",
    "\n",
    "one_class_svm = OneClassSVM(nu=0.3 ,kernel=\"rbf\",gamma='auto')\n",
    "trainX = volos_turbo_final[volos_turbo_final['label']==0].drop(['cf_cvg','label','IBI','NDBI','VgNIRBI',\n",
    "                                                             'VrNIRBI' ,'PISI','NDVI'],axis=1)\n",
    "one_class_svm.fit(trainX)\n",
    "#yhat = model.predict(volos_turbo_viirs.drop(['date','building','id','@id','reducer','type','building:levels'],axis=1))\n",
    "one_class_svm.score_samples(trainX)\n",
    "#score = f1_score(testy, yhat, pos_label=-1)\n",
    "#print('F1 Score: %.3f' % score)"
   ]
  },
  {
   "cell_type": "code",
   "execution_count": 62,
   "id": "2030829f",
   "metadata": {
    "scrolled": false
   },
   "outputs": [
    {
     "data": {
      "text/plain": [
       "array([-1, -1, -1, -1, -1, -1,  1, -1,  1,  1,  1,  1, -1, -1,  1, -1,  1,\n",
       "        1, -1,  1,  1,  1,  1,  1,  1,  1,  1,  1,  1,  1, -1,  1, -1, -1,\n",
       "       -1, -1, -1, -1, -1, -1,  1,  1, -1,  1, -1, -1, -1, -1,  1,  1,  1,\n",
       "        1, -1, -1,  1, -1,  1,  1,  1,  1, -1, -1,  1, -1,  1,  1,  1,  1,\n",
       "        1,  1,  1,  1,  1,  1,  1,  1,  1,  1,  1,  1, -1, -1,  1, -1,  1,\n",
       "        1,  1,  1, -1, -1,  1, -1, -1, -1, -1, -1,  1,  1,  1,  1,  1,  1,\n",
       "        1,  1,  1,  1,  1,  1, -1, -1, -1, -1, -1, -1, -1, -1, -1, -1,  1,\n",
       "       -1, -1, -1, -1, -1, -1, -1, -1, -1, -1, -1,  1, -1,  1,  1,  1,  1,\n",
       "       -1, -1,  1, -1, -1, -1,  1, -1, -1, -1,  1, -1, -1, -1,  1, -1, -1,\n",
       "       -1,  1, -1, -1, -1,  1, -1, -1, -1,  1, -1,  1,  1,  1,  1, -1, -1,\n",
       "        1, -1, -1, -1,  1, -1,  1,  1,  1,  1,  1,  1,  1,  1,  1,  1, -1,\n",
       "        1,  1,  1,  1,  1,  1,  1,  1,  1, -1, -1,  1, -1,  1,  1,  1,  1,\n",
       "        1,  1,  1,  1,  1,  1,  1,  1, -1, -1,  1, -1,  1,  1,  1,  1,  1,\n",
       "        1,  1,  1,  1,  1,  1,  1, -1, -1,  1, -1,  1,  1,  1,  1,  1,  1,\n",
       "        1,  1,  1,  1,  1,  1,  1,  1,  1,  1,  1,  1,  1,  1,  1,  1,  1,\n",
       "        1,  1,  1,  1,  1,  1,  1,  1,  1,  1,  1,  1,  1,  1,  1,  1,  1],\n",
       "      dtype=int64)"
      ]
     },
     "execution_count": 62,
     "metadata": {},
     "output_type": "execute_result"
    }
   ],
   "source": [
    "yhat = one_class_svm.predict(volos_turbo_final[volos_turbo_final['label']==1].drop(['cf_cvg','label','IBI','NDBI','VgNIRBI',\n",
    "                                                             'VrNIRBI' ,'PISI','NDVI'],axis=1))\n",
    "yhat"
   ]
  },
  {
   "cell_type": "code",
   "execution_count": 21,
   "id": "16ff60fe",
   "metadata": {},
   "outputs": [
    {
     "data": {
      "text/plain": [
       "272"
      ]
     },
     "execution_count": 21,
     "metadata": {},
     "output_type": "execute_result"
    }
   ],
   "source": [
    "len(yhat)"
   ]
  },
  {
   "cell_type": "code",
   "execution_count": 63,
   "id": "56c6d194",
   "metadata": {
    "scrolled": true
   },
   "outputs": [
    {
     "data": {
      "text/plain": [
       "100"
      ]
     },
     "execution_count": 63,
     "metadata": {},
     "output_type": "execute_result"
    }
   ],
   "source": [
    "len(yhat[yhat==-1])#PISI,VgNIRBI"
   ]
  },
  {
   "cell_type": "code",
   "execution_count": 1,
   "id": "f4a76b20",
   "metadata": {},
   "outputs": [],
   "source": [
    "# Change the above parameters to generate new model dumps for the application"
   ]
  },
  {
   "cell_type": "code",
   "execution_count": 64,
   "id": "2ff6f0d8",
   "metadata": {},
   "outputs": [
    {
     "data": {
      "text/plain": [
       "['ocsvm_03_scale.pkl']"
      ]
     },
     "execution_count": 64,
     "metadata": {},
     "output_type": "execute_result"
    }
   ],
   "source": [
    "import joblib\n",
    "joblib.dump(one_class_svm, 'ocsvm_03_scale.pkl')"
   ]
  }
 ],
 "metadata": {
  "kernelspec": {
   "display_name": "Python 3 (ipykernel)",
   "language": "python",
   "name": "python3"
  },
  "language_info": {
   "codemirror_mode": {
    "name": "ipython",
    "version": 3
   },
   "file_extension": ".py",
   "mimetype": "text/x-python",
   "name": "python",
   "nbconvert_exporter": "python",
   "pygments_lexer": "ipython3",
   "version": "3.9.1"
  },
  "latex_envs": {
   "LaTeX_envs_menu_present": true,
   "autoclose": false,
   "autocomplete": true,
   "bibliofile": "biblio.bib",
   "cite_by": "apalike",
   "current_citInitial": 1,
   "eqLabelWithNumbers": true,
   "eqNumInitial": 1,
   "hotkeys": {
    "equation": "Ctrl-E",
    "itemize": "Ctrl-I"
   },
   "labels_anchors": false,
   "latex_user_defs": false,
   "report_style_numbering": false,
   "user_envs_cfg": false
  }
 },
 "nbformat": 4,
 "nbformat_minor": 5
}
