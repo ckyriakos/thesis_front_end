{
  "nbformat": 4,
  "nbformat_minor": 0,
  "metadata": {
    "colab": {
      "name": "getTimeSeriesForFishnet1.ipynb",
      "provenance": [],
      "collapsed_sections": [],
      "authorship_tag": "ABX9TyM/XiuoI5kve2U+uzlito7+",
      "include_colab_link": true
    },
    "kernelspec": {
      "name": "python3",
      "display_name": "Python 3"
    },
    "language_info": {
      "name": "python"
    }
  },
  "cells": [
    {
      "cell_type": "markdown",
      "metadata": {
        "id": "view-in-github",
        "colab_type": "text"
      },
      "source": [
        "<a href=\"https://colab.research.google.com/github/ckyriakos/thesis_front_end/blob/master/getTimeSeriesForFishnet1.ipynb\" target=\"_parent\"><img src=\"https://colab.research.google.com/assets/colab-badge.svg\" alt=\"Open In Colab\"/></a>"
      ]
    },
    {
      "cell_type": "code",
      "source": [
        "try:\n",
        "    import geemap, ee,eemont,geopandas\n",
        "except ModuleNotFoundError:\n",
        "    if 'google.colab' in str(get_ipython()):\n",
        "        print(\"package not found, installing w/ pip in Google Colab...\")\n",
        "        !pip install geemap\n",
        "        !pip install eemont\n",
        "        !pip install geopandas\n",
        "    else:\n",
        "        print(\"package not found, installing w/ conda...\")\n",
        "        !conda install mamba -c conda-forge -y\n",
        "        !mamba install geemap -c conda-forge -y\n",
        "        !mamba install eemont -c conda-forge -y\n",
        "        !mamba install geopandas -c conda-forge -y\n",
        "    import geemap, ee,eemont,geopandas"
      ],
      "metadata": {
        "id": "pOnHT7-ibtV_"
      },
      "execution_count": null,
      "outputs": []
    },
    {
      "cell_type": "code",
      "source": [
        "try:\n",
        "        geemap.ee_initialize()\n",
        "except Exception as e:\n",
        "        geemap.ee_initialize()\n",
        "        geemap.ee_initialize()\n",
        "\n"
      ],
      "metadata": {
        "id": "5yvMdJxIbyrG"
      },
      "execution_count": null,
      "outputs": []
    },
    {
      "cell_type": "code",
      "source": [
        "import numpy as  np\n",
        "import seaborn as sns\n",
        "import pandas as pd\n",
        "import geopandas as gpd"
      ],
      "metadata": {
        "id": "-6LCV_u-by9v"
      },
      "execution_count": null,
      "outputs": []
    },
    {
      "cell_type": "code",
      "source": [
        ""
      ],
      "metadata": {
        "id": "sNja28fBb9GV"
      },
      "execution_count": null,
      "outputs": []
    },
    {
      "cell_type": "markdown",
      "source": [
        "HERE I SHOWCASE HOW IT CAN BE DONE FOR MANUALLY SELECTED PIVOTS"
      ],
      "metadata": {
        "id": "-Do8nSp8b9i1"
      }
    },
    {
      "cell_type": "code",
      "source": [
        "### S\n",
        "\n",
        "kount_fil = ee.Geometry.Polygon([\n",
        "          [\n",
        "            22.952406182885166,\n",
        "            39.35917348693331\n",
        "          ],\n",
        "          [\n",
        "            22.952624447643757,\n",
        "            39.359061499184136\n",
        "          ],\n",
        "          [\n",
        "            22.952531576156613,\n",
        "            39.35895702896919\n",
        "          ],\n",
        "          [\n",
        "            22.952297888696194,\n",
        "            39.35905890687299\n",
        "          ],\n",
        "          [\n",
        "            22.952407523989677,\n",
        "            39.359176597701556\n",
        "          ]\n",
        "        ])\n",
        "kount_mavro = ee.Geometry.Polygon([\n",
        "          [\n",
        "            22.951523065567017,\n",
        "            39.35919215154071\n",
        "          ],\n",
        "          [\n",
        "            22.951737642288208,\n",
        "            39.35908016382146\n",
        "          ],\n",
        "          [\n",
        "            22.951886504888535,\n",
        "            39.3592429607245\n",
        "          ],\n",
        "          [\n",
        "            22.95165583491325,\n",
        "            39.35935598510286\n",
        "          ],\n",
        "          [\n",
        "            22.951521389186382,\n",
        "            39.35919085538758\n",
        "          ]\n",
        "        ])\n",
        "\n",
        "fil_28okt = ee.Geometry.Polygon( [\n",
        "          [\n",
        "            22.95275218784809,\n",
        "            39.35951204139807\n",
        "          ],\n",
        "          [\n",
        "            22.952881939709187,\n",
        "            39.35942908792906\n",
        "          ],\n",
        "          [\n",
        "            22.95277565717697,\n",
        "            39.35932072981181\n",
        "          ],\n",
        "          [\n",
        "            22.95261740684509,\n",
        "            39.35940160957075\n",
        "          ],\n",
        "          [\n",
        "            22.952740788459778,\n",
        "            39.359515670610094\n",
        "          ]\n",
        "        ])\n",
        "\n",
        "fill_28okt2 = ee.Geometry.Polygon([\n",
        "          [\n",
        "            22.95280247926712,\n",
        "            39.359597846288914\n",
        "          ],\n",
        "          [\n",
        "            22.95294027775526,\n",
        "            39.35953174283249\n",
        "          ],\n",
        "          [\n",
        "            22.9528571292758,\n",
        "            39.359441271726006\n",
        "          ],\n",
        "          [\n",
        "            22.95270960777998,\n",
        "            39.35952889130942\n",
        "          ],\n",
        "          [\n",
        "            22.952714301645756,\n",
        "            39.35956570187087\n",
        "          ],\n",
        "          [\n",
        "            22.952717654407024,\n",
        "            39.35957736718557\n",
        "          ],\n",
        "          [\n",
        "            22.952751852571964,\n",
        "            39.35956777570473\n",
        "          ],\n",
        "          [\n",
        "            22.952791415154934,\n",
        "            39.35959499476857\n",
        "          ],\n",
        "          [\n",
        "            22.95280247926712,\n",
        "            39.359595253997696\n",
        "          ],\n",
        "          [\n",
        "            22.952802814543247,\n",
        "            39.35960017935096\n",
        "          ],\n",
        "          [\n",
        "            22.95280449092388,\n",
        "            39.359598883205386\n",
        "          ]\n",
        "        ])\n",
        "\n",
        "# not abandoned\n",
        "fil_fer = ee.Geometry.Polygon([\n",
        "          [\n",
        "            22.95489829033613,\n",
        "            39.361775077721575\n",
        "          ],\n",
        "          [\n",
        "            22.954826205968857,\n",
        "            39.361703014235744\n",
        "          ],\n",
        "          [\n",
        "            22.954844646155834,\n",
        "            39.36168823861977\n",
        "          ],\n",
        "          [\n",
        "            22.95478966087103,\n",
        "            39.361634320555964\n",
        "          ],\n",
        "          [\n",
        "            22.95481715351343,\n",
        "            39.361614360492915\n",
        "          ],\n",
        "          [\n",
        "            22.954944893717766,\n",
        "            39.36154437061647\n",
        "          ],\n",
        "          [\n",
        "            22.955089397728443,\n",
        "            39.3616892755052\n",
        "          ],\n",
        "          [\n",
        "            22.954903990030285,\n",
        "            39.361783632015296\n",
        "          ],\n",
        "          [\n",
        "            22.954898625612255,\n",
        "            39.36177715148985\n",
        "          ]\n",
        "        ])\n",
        "\n",
        "fil_fer_apenanti = ee.Geometry.Polygon([\n",
        "          [\n",
        "            22.955063581466675,\n",
        "            39.362018745072554\n",
        "          ],\n",
        "          [\n",
        "            22.955232560634613,\n",
        "            39.361943052752395\n",
        "          ],\n",
        "          [\n",
        "            22.95509308576584,\n",
        "            39.36182692190997\n",
        "          ],\n",
        "          [\n",
        "            22.95496568083763,\n",
        "            39.36189742994447\n",
        "          ],\n",
        "          [\n",
        "            22.955056875944138,\n",
        "            39.36201148690843\n",
        "          ]\n",
        "        ])\n",
        "#not abandoned\n",
        "konst_gamv = ee.Geometry.Polygon( [\n",
        "          [\n",
        "            22.95320212841034,\n",
        "            39.36192127823414\n",
        "          ],\n",
        "          [\n",
        "            22.953552156686783,\n",
        "            39.36170871710425\n",
        "          ],\n",
        "          [\n",
        "            22.95335903763771,\n",
        "            39.36154488906026\n",
        "          ],\n",
        "          [\n",
        "            22.95302912592888,\n",
        "            39.361739823651455\n",
        "          ],\n",
        "          [\n",
        "            22.953198105096817,\n",
        "            39.36191816758813\n",
        "          ]\n",
        "        ])\n",
        "\n",
        "poi_oikonomaki= ee.Geometry.Polygon([[[\n",
        "              22.949098348617554,39.35979978548018],\n",
        "            [22.951193153858185,39.35979978548018 ],\n",
        "            [22.951193153858185,39.36196275350115],\n",
        "            [22.949098348617554,39.36196275350115],\n",
        "            [22.949098348617554,39.35979978548018]]])"
      ],
      "metadata": {
        "id": "Sf09lYyQcGR-"
      },
      "execution_count": null,
      "outputs": []
    },
    {
      "cell_type": "code",
      "source": [
        "volos_piv = ee.FeatureCollection([\n",
        "    ee.Feature(konst_gamv,{'pivot':0}),\n",
        "    ee.Feature(fil_fer_apenanti,{'pivot':1}),\n",
        "   ee.Feature(fil_fer,{'pivot':2}),\n",
        "    ee.Feature(fill_28okt2,{'pivot':3}),\n",
        "    ee.Feature(fil_28okt,{'pivot':4}),\n",
        "   ee.Feature(kount_mavro,{'pivot':5}),\n",
        "    ee.Feature(poi_oikonomaki,{'pivot':6}),\n",
        "   ee.Feature(kount_fil,{'pivot':7}),\n",
        "    ])\n"
      ],
      "metadata": {
        "id": "fzjWzwCIcIwG"
      },
      "execution_count": null,
      "outputs": []
    },
    {
      "cell_type": "code",
      "source": [
        "\n",
        "L8 = (ee.ImageCollection('LANDSAT/LC08/C01/T1_SR')\n",
        "      .filterBounds(volos_piv)\n",
        "      .maskClouds()\n",
        "      .scaleAndOffset()\n",
        "      .spectralIndices(['EVI','GNDVI']))\n",
        "\n",
        "print('done collecting')\n",
        "ts = L8.getTimeSeriesByRegions(collection = volos_piv,\n",
        "                               bands = ['EVI','GNDVI'],\n",
        "                               reducer = [ee.Reducer.mean()],\n",
        "                               scale = 30)\n",
        "print('done specifying ts')\n",
        "tsPandas = geemap.ee_to_pandas(ts)\n",
        "print('done calculating ts')\n",
        "tsPandas[tsPandas == -9999] = np.nan\n",
        "tsPandas['date'] = pd.to_datetime(tsPandas['date'],infer_datetime_format = True)\n",
        "tsPandas"
      ],
      "metadata": {
        "id": "psy7YlKVcMdP"
      },
      "execution_count": null,
      "outputs": []
    },
    {
      "cell_type": "code",
      "source": [
        "g = sns.FacetGrid(tsPandas,row = 'pivot',height = 3,aspect = 4)\n",
        "g.map_dataframe(sns.lineplot,x = 'date',y = 'EVI',style = 'reducer')\n",
        "g.add_legend()"
      ],
      "metadata": {
        "id": "TxrqgrqecPr-"
      },
      "execution_count": null,
      "outputs": []
    },
    {
      "cell_type": "code",
      "source": [
        ""
      ],
      "metadata": {
        "id": "uo23xAhucQU6"
      },
      "execution_count": null,
      "outputs": []
    },
    {
      "cell_type": "markdown",
      "source": [
        "HERE I SHOWCASE THE AUTOMATIC APPROACH\n"
      ],
      "metadata": {
        "id": "_G9t7gWEcQlK"
      }
    },
    {
      "cell_type": "code",
      "source": [
        ""
      ],
      "metadata": {
        "id": "5JNBLBcXcXpw"
      },
      "execution_count": null,
      "outputs": []
    },
    {
      "cell_type": "code",
      "execution_count": null,
      "metadata": {
        "id": "HC6Loq7mbsin"
      },
      "outputs": [],
      "source": [
        "filepath  = 'https://raw.githubusercontent.com/ckyriakos/Thesis--BI-through-ML-from-Satellite-Data/master/nea_ionia.geojson'\n",
        "nea_ionia  = gpd.read_file(filepath)\n",
        "\n",
        "\n",
        "nea_ionia_geom = geemap.geopandas_to_ee(nea_ionia)\n",
        "nea_ionia_fishnet = geemap.fishnet(nea_ionia_geom, rows=2, cols=2, delta=1)\n",
        "Map.addLayer(nea_ionia_fishnet, {}, 'Nea Ionia Fishnet')\n",
        "\n",
        "nea_ionia_gdf = geemap.ee_to_geopandas(nea_ionia_fishnet, selectors=['id', 'name','geometry'])\n",
        "## Add pivot\n",
        "\n",
        "# I don't this is a good practice but otherwise I got an error\n",
        "nea_ionia_gdf['pivot'] = 1\n",
        "\n",
        "for i in range(len(nea_ionia_gdf)):\n",
        "    nea_ionia_gdf['pivot'].loc[i] = i\n",
        "# set crs for greece\n",
        "nea_ionia_gdf.crs = \"EPSG:2100\"\n",
        "nea_ionia_fc = geemap.geopandas_to_ee(nea_ionia_gdf)\n",
        "\n",
        "\n",
        "s2 = (ee.ImageCollection(\"COPERNICUS/S2_SR\")\n",
        "      .filterBounds(nea_ionia_fc)\n",
        "      .maskClouds()\n",
        "      .scaleAndOffset()\n",
        "      .spectralIndices(['NDVI','NDBI']))\n",
        "\n",
        "print('done collecting')\n",
        "ts = s2.getTimeSeriesByRegions(collection = nea_ionia_fc,\n",
        "                               bands = ['NDVI','NDBI'],\n",
        "                               reducer = [ee.Reducer.mean()],\n",
        "                               scale = 10)\n",
        "if(ts.size().getInfo() >=5000):\n",
        "  print('size  bigger than 5000')\n",
        "  #getting first 5000 elements\n",
        "  reduced_ts = ts.toList(5000)\n",
        "  #making fc of said list\n",
        "  ts = ee.FeatureCollection(reduced_ts)\n",
        "  #reduced_fc.size().getInfo()\n",
        "print('done specifying ts')\n",
        "tsPandas = geemap.ee_to_pandas(ts)\n",
        "print('done calculating ts')\n",
        "#tsPandas[tsPandas == -9999] = np.nan\n",
        "tsPandas['date'] = pd.to_datetime(tsPandas['date'],infer_datetime_format = True)\n",
        "tsPandas"
      ]
    },
    {
      "cell_type": "code",
      "source": [
        ""
      ],
      "metadata": {
        "id": "wNa8_kq8cYpY"
      },
      "execution_count": null,
      "outputs": []
    },
    {
      "cell_type": "markdown",
      "source": [
        "The selected indices are all NaN.\n",
        "I have a feeling that this happens due to me doin something wrong with the pivot\n",
        "Any feedback would be highly appreiciated."
      ],
      "metadata": {
        "id": "mleYZW3_cZiQ"
      }
    },
    {
      "cell_type": "code",
      "source": [
        ""
      ],
      "metadata": {
        "id": "5o716uIlcnhX"
      },
      "execution_count": null,
      "outputs": []
    }
  ]
}